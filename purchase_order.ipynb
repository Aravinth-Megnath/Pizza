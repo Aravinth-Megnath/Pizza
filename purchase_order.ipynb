{
 "cells": [
  {
   "cell_type": "code",
   "execution_count": 2,
   "metadata": {},
   "outputs": [
    {
     "data": {
      "text/html": [
       "<div>\n",
       "<style scoped>\n",
       "    .dataframe tbody tr th:only-of-type {\n",
       "        vertical-align: middle;\n",
       "    }\n",
       "\n",
       "    .dataframe tbody tr th {\n",
       "        vertical-align: top;\n",
       "    }\n",
       "\n",
       "    .dataframe thead th {\n",
       "        text-align: right;\n",
       "    }\n",
       "</style>\n",
       "<table border=\"1\" class=\"dataframe\">\n",
       "  <thead>\n",
       "    <tr style=\"text-align: right;\">\n",
       "      <th></th>\n",
       "      <th>Unnamed: 0</th>\n",
       "      <th>predicted_sales</th>\n",
       "    </tr>\n",
       "  </thead>\n",
       "  <tbody>\n",
       "    <tr>\n",
       "      <th>0</th>\n",
       "      <td>hawaiian_m</td>\n",
       "      <td>179.32199</td>\n",
       "    </tr>\n",
       "    <tr>\n",
       "      <th>1</th>\n",
       "      <td>classic_dlx_m</td>\n",
       "      <td>336.12943</td>\n",
       "    </tr>\n",
       "    <tr>\n",
       "      <th>2</th>\n",
       "      <td>five_cheese_l</td>\n",
       "      <td>369.49540</td>\n",
       "    </tr>\n",
       "    <tr>\n",
       "      <th>3</th>\n",
       "      <td>ital_supr_l</td>\n",
       "      <td>232.86954</td>\n",
       "    </tr>\n",
       "    <tr>\n",
       "      <th>4</th>\n",
       "      <td>mexicana_m</td>\n",
       "      <td>199.91017</td>\n",
       "    </tr>\n",
       "  </tbody>\n",
       "</table>\n",
       "</div>"
      ],
      "text/plain": [
       "      Unnamed: 0  predicted_sales\n",
       "0     hawaiian_m        179.32199\n",
       "1  classic_dlx_m        336.12943\n",
       "2  five_cheese_l        369.49540\n",
       "3    ital_supr_l        232.86954\n",
       "4     mexicana_m        199.91017"
      ]
     },
     "execution_count": 2,
     "metadata": {},
     "output_type": "execute_result"
    }
   ],
   "source": [
    "import pandas as pd\n",
    "import numpy as np\n",
    "df = pd.read_csv('S:/Pizza/result.csv')\n",
    "\n",
    "df.head()"
   ]
  },
  {
   "cell_type": "code",
   "execution_count": 6,
   "metadata": {},
   "outputs": [
    {
     "data": {
      "text/html": [
       "<div>\n",
       "<style scoped>\n",
       "    .dataframe tbody tr th:only-of-type {\n",
       "        vertical-align: middle;\n",
       "    }\n",
       "\n",
       "    .dataframe tbody tr th {\n",
       "        vertical-align: top;\n",
       "    }\n",
       "\n",
       "    .dataframe thead th {\n",
       "        text-align: right;\n",
       "    }\n",
       "</style>\n",
       "<table border=\"1\" class=\"dataframe\">\n",
       "  <thead>\n",
       "    <tr style=\"text-align: right;\">\n",
       "      <th></th>\n",
       "      <th>pizza_name_id</th>\n",
       "      <th>predicted_sales</th>\n",
       "    </tr>\n",
       "  </thead>\n",
       "  <tbody>\n",
       "    <tr>\n",
       "      <th>0</th>\n",
       "      <td>hawaiian_m</td>\n",
       "      <td>179.32199</td>\n",
       "    </tr>\n",
       "    <tr>\n",
       "      <th>1</th>\n",
       "      <td>classic_dlx_m</td>\n",
       "      <td>336.12943</td>\n",
       "    </tr>\n",
       "    <tr>\n",
       "      <th>2</th>\n",
       "      <td>five_cheese_l</td>\n",
       "      <td>369.49540</td>\n",
       "    </tr>\n",
       "    <tr>\n",
       "      <th>3</th>\n",
       "      <td>ital_supr_l</td>\n",
       "      <td>232.86954</td>\n",
       "    </tr>\n",
       "    <tr>\n",
       "      <th>4</th>\n",
       "      <td>mexicana_m</td>\n",
       "      <td>199.91017</td>\n",
       "    </tr>\n",
       "  </tbody>\n",
       "</table>\n",
       "</div>"
      ],
      "text/plain": [
       "   pizza_name_id  predicted_sales\n",
       "0     hawaiian_m        179.32199\n",
       "1  classic_dlx_m        336.12943\n",
       "2  five_cheese_l        369.49540\n",
       "3    ital_supr_l        232.86954\n",
       "4     mexicana_m        199.91017"
      ]
     },
     "execution_count": 6,
     "metadata": {},
     "output_type": "execute_result"
    }
   ],
   "source": [
    "df.rename(columns = {'Unnamed: 0':'pizza_name_id'}, inplace = True)\n",
    "df.head()"
   ]
  },
  {
   "cell_type": "code",
   "execution_count": 3,
   "metadata": {},
   "outputs": [
    {
     "name": "stderr",
     "output_type": "stream",
     "text": [
      "<>:1: SyntaxWarning: invalid escape sequence '\\P'\n",
      "<>:1: SyntaxWarning: invalid escape sequence '\\P'\n",
      "C:\\Users\\Hp\\AppData\\Local\\Temp\\ipykernel_15204\\3482319843.py:1: SyntaxWarning: invalid escape sequence '\\P'\n",
      "  ingredients_df = pd.read_excel('S:\\Pizza\\Pizza_ingredients.xlsx')\n"
     ]
    },
    {
     "data": {
      "text/html": [
       "<div>\n",
       "<style scoped>\n",
       "    .dataframe tbody tr th:only-of-type {\n",
       "        vertical-align: middle;\n",
       "    }\n",
       "\n",
       "    .dataframe tbody tr th {\n",
       "        vertical-align: top;\n",
       "    }\n",
       "\n",
       "    .dataframe thead th {\n",
       "        text-align: right;\n",
       "    }\n",
       "</style>\n",
       "<table border=\"1\" class=\"dataframe\">\n",
       "  <thead>\n",
       "    <tr style=\"text-align: right;\">\n",
       "      <th></th>\n",
       "      <th>pizza_name_id</th>\n",
       "      <th>pizza_name</th>\n",
       "      <th>pizza_ingredients</th>\n",
       "      <th>Items_Qty_In_Grams</th>\n",
       "    </tr>\n",
       "  </thead>\n",
       "  <tbody>\n",
       "    <tr>\n",
       "      <th>0</th>\n",
       "      <td>bbq_ckn_l</td>\n",
       "      <td>The Barbecue Chicken Pizza</td>\n",
       "      <td>Barbecued Chicken</td>\n",
       "      <td>40.0</td>\n",
       "    </tr>\n",
       "    <tr>\n",
       "      <th>1</th>\n",
       "      <td>bbq_ckn_l</td>\n",
       "      <td>The Barbecue Chicken Pizza</td>\n",
       "      <td>Red Peppers</td>\n",
       "      <td>15.0</td>\n",
       "    </tr>\n",
       "    <tr>\n",
       "      <th>2</th>\n",
       "      <td>bbq_ckn_l</td>\n",
       "      <td>The Barbecue Chicken Pizza</td>\n",
       "      <td>Green Peppers</td>\n",
       "      <td>20.0</td>\n",
       "    </tr>\n",
       "    <tr>\n",
       "      <th>3</th>\n",
       "      <td>bbq_ckn_l</td>\n",
       "      <td>The Barbecue Chicken Pizza</td>\n",
       "      <td>Tomatoes</td>\n",
       "      <td>30.0</td>\n",
       "    </tr>\n",
       "    <tr>\n",
       "      <th>4</th>\n",
       "      <td>bbq_ckn_l</td>\n",
       "      <td>The Barbecue Chicken Pizza</td>\n",
       "      <td>Red Onions</td>\n",
       "      <td>60.0</td>\n",
       "    </tr>\n",
       "  </tbody>\n",
       "</table>\n",
       "</div>"
      ],
      "text/plain": [
       "  pizza_name_id                  pizza_name  pizza_ingredients  \\\n",
       "0     bbq_ckn_l  The Barbecue Chicken Pizza  Barbecued Chicken   \n",
       "1     bbq_ckn_l  The Barbecue Chicken Pizza        Red Peppers   \n",
       "2     bbq_ckn_l  The Barbecue Chicken Pizza      Green Peppers   \n",
       "3     bbq_ckn_l  The Barbecue Chicken Pizza           Tomatoes   \n",
       "4     bbq_ckn_l  The Barbecue Chicken Pizza         Red Onions   \n",
       "\n",
       "   Items_Qty_In_Grams  \n",
       "0                40.0  \n",
       "1                15.0  \n",
       "2                20.0  \n",
       "3                30.0  \n",
       "4                60.0  "
      ]
     },
     "execution_count": 3,
     "metadata": {},
     "output_type": "execute_result"
    }
   ],
   "source": [
    "ingredients_df = pd.read_excel('S:\\Pizza\\Pizza_ingredients.xlsx')\n",
    "ingredients_df.head()"
   ]
  },
  {
   "cell_type": "code",
   "execution_count": 8,
   "metadata": {},
   "outputs": [
    {
     "data": {
      "text/plain": [
       "np.int64(4)"
      ]
     },
     "execution_count": 8,
     "metadata": {},
     "output_type": "execute_result"
    }
   ],
   "source": [
    "ingredients_df.Items_Qty_In_Grams.isna().sum()"
   ]
  },
  {
   "cell_type": "code",
   "execution_count": 14,
   "metadata": {},
   "outputs": [
    {
     "data": {
      "text/plain": [
       "pizza_name_id          object\n",
       "pizza_name             object\n",
       "pizza_ingredients      object\n",
       "Items_Qty_In_Grams    float64\n",
       "dtype: object"
      ]
     },
     "execution_count": 14,
     "metadata": {},
     "output_type": "execute_result"
    }
   ],
   "source": [
    "ingredients_df.dtypes"
   ]
  },
  {
   "cell_type": "code",
   "execution_count": 15,
   "metadata": {},
   "outputs": [
    {
     "data": {
      "text/html": [
       "<div>\n",
       "<style scoped>\n",
       "    .dataframe tbody tr th:only-of-type {\n",
       "        vertical-align: middle;\n",
       "    }\n",
       "\n",
       "    .dataframe tbody tr th {\n",
       "        vertical-align: top;\n",
       "    }\n",
       "\n",
       "    .dataframe thead th {\n",
       "        text-align: right;\n",
       "    }\n",
       "</style>\n",
       "<table border=\"1\" class=\"dataframe\">\n",
       "  <thead>\n",
       "    <tr style=\"text-align: right;\">\n",
       "      <th></th>\n",
       "      <th>pizza_name_id</th>\n",
       "      <th>predicted_sales</th>\n",
       "      <th>pizza_name</th>\n",
       "      <th>pizza_ingredients</th>\n",
       "      <th>Items_Qty_In_Grams</th>\n",
       "    </tr>\n",
       "  </thead>\n",
       "  <tbody>\n",
       "    <tr>\n",
       "      <th>0</th>\n",
       "      <td>hawaiian_m</td>\n",
       "      <td>179.32199</td>\n",
       "      <td>The Hawaiian Pizza</td>\n",
       "      <td>Sliced Ham</td>\n",
       "      <td>NaN</td>\n",
       "    </tr>\n",
       "    <tr>\n",
       "      <th>1</th>\n",
       "      <td>hawaiian_m</td>\n",
       "      <td>179.32199</td>\n",
       "      <td>The Hawaiian Pizza</td>\n",
       "      <td>Pineapple</td>\n",
       "      <td>30.0</td>\n",
       "    </tr>\n",
       "    <tr>\n",
       "      <th>2</th>\n",
       "      <td>hawaiian_m</td>\n",
       "      <td>179.32199</td>\n",
       "      <td>The Hawaiian Pizza</td>\n",
       "      <td>Mozzarella Cheese</td>\n",
       "      <td>20.0</td>\n",
       "    </tr>\n",
       "    <tr>\n",
       "      <th>3</th>\n",
       "      <td>classic_dlx_m</td>\n",
       "      <td>336.12943</td>\n",
       "      <td>The Classic Deluxe Pizza</td>\n",
       "      <td>Pepperoni</td>\n",
       "      <td>40.0</td>\n",
       "    </tr>\n",
       "    <tr>\n",
       "      <th>4</th>\n",
       "      <td>classic_dlx_m</td>\n",
       "      <td>336.12943</td>\n",
       "      <td>The Classic Deluxe Pizza</td>\n",
       "      <td>Mushrooms</td>\n",
       "      <td>40.0</td>\n",
       "    </tr>\n",
       "  </tbody>\n",
       "</table>\n",
       "</div>"
      ],
      "text/plain": [
       "   pizza_name_id  predicted_sales                pizza_name  \\\n",
       "0     hawaiian_m        179.32199        The Hawaiian Pizza   \n",
       "1     hawaiian_m        179.32199        The Hawaiian Pizza   \n",
       "2     hawaiian_m        179.32199        The Hawaiian Pizza   \n",
       "3  classic_dlx_m        336.12943  The Classic Deluxe Pizza   \n",
       "4  classic_dlx_m        336.12943  The Classic Deluxe Pizza   \n",
       "\n",
       "   pizza_ingredients  Items_Qty_In_Grams  \n",
       "0         Sliced Ham                 NaN  \n",
       "1          Pineapple                30.0  \n",
       "2  Mozzarella Cheese                20.0  \n",
       "3          Pepperoni                40.0  \n",
       "4          Mushrooms                40.0  "
      ]
     },
     "execution_count": 15,
     "metadata": {},
     "output_type": "execute_result"
    }
   ],
   "source": [
    "merged_df = pd.merge(df, ingredients_df, on='pizza_name_id')\n",
    "merged_df.head()"
   ]
  },
  {
   "cell_type": "code",
   "execution_count": 16,
   "metadata": {},
   "outputs": [],
   "source": [
    "qty_mean = merged_df.Items_Qty_In_Grams.mean()"
   ]
  },
  {
   "cell_type": "code",
   "execution_count": 17,
   "metadata": {},
   "outputs": [],
   "source": [
    "merged_df.Items_Qty_In_Grams = merged_df.Items_Qty_In_Grams.fillna(qty_mean)"
   ]
  },
  {
   "cell_type": "code",
   "execution_count": 18,
   "metadata": {},
   "outputs": [
    {
     "data": {
      "text/html": [
       "<div>\n",
       "<style scoped>\n",
       "    .dataframe tbody tr th:only-of-type {\n",
       "        vertical-align: middle;\n",
       "    }\n",
       "\n",
       "    .dataframe tbody tr th {\n",
       "        vertical-align: top;\n",
       "    }\n",
       "\n",
       "    .dataframe thead th {\n",
       "        text-align: right;\n",
       "    }\n",
       "</style>\n",
       "<table border=\"1\" class=\"dataframe\">\n",
       "  <thead>\n",
       "    <tr style=\"text-align: right;\">\n",
       "      <th></th>\n",
       "      <th>pizza_name_id</th>\n",
       "      <th>predicted_sales</th>\n",
       "      <th>pizza_name</th>\n",
       "      <th>pizza_ingredients</th>\n",
       "      <th>Items_Qty_In_Grams</th>\n",
       "    </tr>\n",
       "  </thead>\n",
       "  <tbody>\n",
       "    <tr>\n",
       "      <th>162</th>\n",
       "      <td>ckn_pesto_l</td>\n",
       "      <td>159.57355</td>\n",
       "      <td>The Chicken Pesto Pizza</td>\n",
       "      <td>Pesto Sauce</td>\n",
       "      <td>30.0</td>\n",
       "    </tr>\n",
       "    <tr>\n",
       "      <th>199</th>\n",
       "      <td>spinach_fet_l</td>\n",
       "      <td>120.26594</td>\n",
       "      <td>The Spinach and Feta Pizza</td>\n",
       "      <td>Mushrooms</td>\n",
       "      <td>60.0</td>\n",
       "    </tr>\n",
       "    <tr>\n",
       "      <th>405</th>\n",
       "      <td>veggie_veg_m</td>\n",
       "      <td>251.74844</td>\n",
       "      <td>The Vegetables + Vegetables Pizza</td>\n",
       "      <td>Zucchini</td>\n",
       "      <td>20.0</td>\n",
       "    </tr>\n",
       "  </tbody>\n",
       "</table>\n",
       "</div>"
      ],
      "text/plain": [
       "     pizza_name_id  predicted_sales                         pizza_name  \\\n",
       "162    ckn_pesto_l        159.57355            The Chicken Pesto Pizza   \n",
       "199  spinach_fet_l        120.26594         The Spinach and Feta Pizza   \n",
       "405   veggie_veg_m        251.74844  The Vegetables + Vegetables Pizza   \n",
       "\n",
       "    pizza_ingredients  Items_Qty_In_Grams  \n",
       "162       Pesto Sauce                30.0  \n",
       "199         Mushrooms                60.0  \n",
       "405          Zucchini                20.0  "
      ]
     },
     "execution_count": 18,
     "metadata": {},
     "output_type": "execute_result"
    }
   ],
   "source": [
    "merged_df.sample(3)"
   ]
  },
  {
   "cell_type": "code",
   "execution_count": 19,
   "metadata": {},
   "outputs": [
    {
     "data": {
      "text/plain": [
       "pizza_name_id          object\n",
       "predicted_sales       float64\n",
       "pizza_name             object\n",
       "pizza_ingredients      object\n",
       "Items_Qty_In_Grams    float64\n",
       "dtype: object"
      ]
     },
     "execution_count": 19,
     "metadata": {},
     "output_type": "execute_result"
    }
   ],
   "source": [
    "merged_df.dtypes"
   ]
  },
  {
   "cell_type": "code",
   "execution_count": 20,
   "metadata": {},
   "outputs": [
    {
     "data": {
      "text/html": [
       "<div>\n",
       "<style scoped>\n",
       "    .dataframe tbody tr th:only-of-type {\n",
       "        vertical-align: middle;\n",
       "    }\n",
       "\n",
       "    .dataframe tbody tr th {\n",
       "        vertical-align: top;\n",
       "    }\n",
       "\n",
       "    .dataframe thead th {\n",
       "        text-align: right;\n",
       "    }\n",
       "</style>\n",
       "<table border=\"1\" class=\"dataframe\">\n",
       "  <thead>\n",
       "    <tr style=\"text-align: right;\">\n",
       "      <th></th>\n",
       "      <th>pizza_name_id</th>\n",
       "      <th>predicted_sales</th>\n",
       "      <th>pizza_name</th>\n",
       "      <th>pizza_ingredients</th>\n",
       "      <th>Items_Qty_In_Grams</th>\n",
       "      <th>Quantity</th>\n",
       "    </tr>\n",
       "  </thead>\n",
       "  <tbody>\n",
       "    <tr>\n",
       "      <th>180</th>\n",
       "      <td>ital_veggie_s</td>\n",
       "      <td>134.72646</td>\n",
       "      <td>The Italian Vegetables Pizza</td>\n",
       "      <td>Tomatoes</td>\n",
       "      <td>10.0</td>\n",
       "      <td>1347.2646</td>\n",
       "    </tr>\n",
       "    <tr>\n",
       "      <th>68</th>\n",
       "      <td>green_garden_s</td>\n",
       "      <td>187.75137</td>\n",
       "      <td>The Green Garden Pizza</td>\n",
       "      <td>Mushrooms</td>\n",
       "      <td>20.0</td>\n",
       "      <td>3755.0274</td>\n",
       "    </tr>\n",
       "    <tr>\n",
       "      <th>24</th>\n",
       "      <td>mexicana_m</td>\n",
       "      <td>199.91017</td>\n",
       "      <td>The Mexicana Pizza</td>\n",
       "      <td>Cilantro</td>\n",
       "      <td>10.0</td>\n",
       "      <td>1999.1017</td>\n",
       "    </tr>\n",
       "  </tbody>\n",
       "</table>\n",
       "</div>"
      ],
      "text/plain": [
       "      pizza_name_id  predicted_sales                    pizza_name  \\\n",
       "180   ital_veggie_s        134.72646  The Italian Vegetables Pizza   \n",
       "68   green_garden_s        187.75137        The Green Garden Pizza   \n",
       "24       mexicana_m        199.91017            The Mexicana Pizza   \n",
       "\n",
       "    pizza_ingredients  Items_Qty_In_Grams   Quantity  \n",
       "180          Tomatoes                10.0  1347.2646  \n",
       "68          Mushrooms                20.0  3755.0274  \n",
       "24           Cilantro                10.0  1999.1017  "
      ]
     },
     "execution_count": 20,
     "metadata": {},
     "output_type": "execute_result"
    }
   ],
   "source": [
    "merged_df['Quantity'] = merged_df['predicted_sales'] * merged_df['Items_Qty_In_Grams']\n",
    "merged_df.sample(3)"
   ]
  },
  {
   "cell_type": "code",
   "execution_count": 23,
   "metadata": {},
   "outputs": [
    {
     "data": {
      "text/html": [
       "<div>\n",
       "<style scoped>\n",
       "    .dataframe tbody tr th:only-of-type {\n",
       "        vertical-align: middle;\n",
       "    }\n",
       "\n",
       "    .dataframe tbody tr th {\n",
       "        vertical-align: top;\n",
       "    }\n",
       "\n",
       "    .dataframe thead th {\n",
       "        text-align: right;\n",
       "    }\n",
       "</style>\n",
       "<table border=\"1\" class=\"dataframe\">\n",
       "  <thead>\n",
       "    <tr style=\"text-align: right;\">\n",
       "      <th></th>\n",
       "      <th>pizza_name_id</th>\n",
       "      <th>predicted_sales</th>\n",
       "      <th>pizza_name</th>\n",
       "      <th>pizza_ingredients</th>\n",
       "      <th>Items_Qty_In_Grams</th>\n",
       "      <th>Quantity</th>\n",
       "    </tr>\n",
       "  </thead>\n",
       "  <tbody>\n",
       "    <tr>\n",
       "      <th>94</th>\n",
       "      <td>spicy_ital_l</td>\n",
       "      <td>297.0</td>\n",
       "      <td>The Spicy Italian Pizza</td>\n",
       "      <td>Goat Cheese</td>\n",
       "      <td>60.0</td>\n",
       "      <td>17830.0</td>\n",
       "    </tr>\n",
       "    <tr>\n",
       "      <th>5</th>\n",
       "      <td>classic_dlx_m</td>\n",
       "      <td>336.0</td>\n",
       "      <td>The Classic Deluxe Pizza</td>\n",
       "      <td>Red Onions</td>\n",
       "      <td>40.0</td>\n",
       "      <td>13445.0</td>\n",
       "    </tr>\n",
       "    <tr>\n",
       "      <th>235</th>\n",
       "      <td>pepperoni_m</td>\n",
       "      <td>250.0</td>\n",
       "      <td>The Pepperoni Pizza</td>\n",
       "      <td>Pepperoni</td>\n",
       "      <td>40.0</td>\n",
       "      <td>10003.0</td>\n",
       "    </tr>\n",
       "  </tbody>\n",
       "</table>\n",
       "</div>"
      ],
      "text/plain": [
       "     pizza_name_id  predicted_sales                pizza_name  \\\n",
       "94    spicy_ital_l            297.0   The Spicy Italian Pizza   \n",
       "5    classic_dlx_m            336.0  The Classic Deluxe Pizza   \n",
       "235    pepperoni_m            250.0       The Pepperoni Pizza   \n",
       "\n",
       "    pizza_ingredients  Items_Qty_In_Grams  Quantity  \n",
       "94        Goat Cheese                60.0   17830.0  \n",
       "5          Red Onions                40.0   13445.0  \n",
       "235         Pepperoni                40.0   10003.0  "
      ]
     },
     "execution_count": 23,
     "metadata": {},
     "output_type": "execute_result"
    }
   ],
   "source": [
    "merged_df['predicted_sales'] = round(merged_df['predicted_sales'],0)\n",
    "merged_df['Quantity'] = round(merged_df['Quantity'], 0)\n",
    "merged_df.sample(3)"
   ]
  },
  {
   "cell_type": "code",
   "execution_count": 25,
   "metadata": {},
   "outputs": [],
   "source": [
    "merged_df.to_excel('S:\\\\Pizza\\\\purchase_order.xlsx', index=False)"
   ]
  },
  {
   "cell_type": "code",
   "execution_count": null,
   "metadata": {},
   "outputs": [],
   "source": []
  }
 ],
 "metadata": {
  "kernelspec": {
   "display_name": ".venv",
   "language": "python",
   "name": "python3"
  },
  "language_info": {
   "codemirror_mode": {
    "name": "ipython",
    "version": 3
   },
   "file_extension": ".py",
   "mimetype": "text/x-python",
   "name": "python",
   "nbconvert_exporter": "python",
   "pygments_lexer": "ipython3",
   "version": "3.12.4"
  }
 },
 "nbformat": 4,
 "nbformat_minor": 2
}
