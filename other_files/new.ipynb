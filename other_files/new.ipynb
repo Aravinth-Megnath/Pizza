{
 "cells": [
  {
   "cell_type": "code",
   "execution_count": 8,
   "metadata": {},
   "outputs": [],
   "source": [
    "import pandas as pd\n",
    "\n",
    "sales_df = pd.read_excel(\"S:/Pizza/dataset/Pizza_Sale.xlsx\")\n",
    "\n",
    "#ingredients_df = pd.read_excel(\"S:/Pizza/Pizza_Ingredients.xlsx\")"
   ]
  },
  {
   "cell_type": "code",
   "execution_count": 9,
   "metadata": {},
   "outputs": [],
   "source": [
    "sales_df['order_date'] = pd.to_datetime(sales_df['order_date'])"
   ]
  },
  {
   "cell_type": "code",
   "execution_count": 3,
   "metadata": {},
   "outputs": [],
   "source": [
    "sales_df['year_month'] = sales_df['order_date'].dt.to_period('M')\n"
   ]
  },
  {
   "cell_type": "code",
   "execution_count": null,
   "metadata": {},
   "outputs": [],
   "source": []
  },
  {
   "cell_type": "code",
   "execution_count": 4,
   "metadata": {},
   "outputs": [
    {
     "data": {
      "text/plain": [
       "pizza_name_id\n",
       "big_meat_s        1811\n",
       "thai_ckn_l        1363\n",
       "five_cheese_l     1358\n",
       "four_cheese_l     1272\n",
       "classic_dlx_m     1159\n",
       "                  ... \n",
       "mexicana_s         160\n",
       "calabrese_s         99\n",
       "ckn_alfredo_s       96\n",
       "green_garden_l      94\n",
       "the_greek_xxl       28\n",
       "Name: count, Length: 91, dtype: int64"
      ]
     },
     "execution_count": 4,
     "metadata": {},
     "output_type": "execute_result"
    }
   ],
   "source": [
    "sales_df.pizza_name_id.value_counts()"
   ]
  },
  {
   "cell_type": "code",
   "execution_count": 11,
   "metadata": {},
   "outputs": [],
   "source": [
    "sales_df.set_index('order_date',inplace=True)"
   ]
  },
  {
   "cell_type": "code",
   "execution_count": 12,
   "metadata": {},
   "outputs": [
    {
     "data": {
      "text/html": [
       "<div>\n",
       "<style scoped>\n",
       "    .dataframe tbody tr th:only-of-type {\n",
       "        vertical-align: middle;\n",
       "    }\n",
       "\n",
       "    .dataframe tbody tr th {\n",
       "        vertical-align: top;\n",
       "    }\n",
       "\n",
       "    .dataframe thead th {\n",
       "        text-align: right;\n",
       "    }\n",
       "</style>\n",
       "<table border=\"1\" class=\"dataframe\">\n",
       "  <thead>\n",
       "    <tr style=\"text-align: right;\">\n",
       "      <th></th>\n",
       "      <th>pizza_id</th>\n",
       "      <th>order_id</th>\n",
       "      <th>pizza_name_id</th>\n",
       "      <th>quantity</th>\n",
       "      <th>order_time</th>\n",
       "      <th>unit_price</th>\n",
       "      <th>total_price</th>\n",
       "      <th>pizza_size</th>\n",
       "      <th>pizza_category</th>\n",
       "      <th>pizza_ingredients</th>\n",
       "      <th>pizza_name</th>\n",
       "      <th>Weekly_sales</th>\n",
       "    </tr>\n",
       "    <tr>\n",
       "      <th>order_date</th>\n",
       "      <th></th>\n",
       "      <th></th>\n",
       "      <th></th>\n",
       "      <th></th>\n",
       "      <th></th>\n",
       "      <th></th>\n",
       "      <th></th>\n",
       "      <th></th>\n",
       "      <th></th>\n",
       "      <th></th>\n",
       "      <th></th>\n",
       "      <th></th>\n",
       "    </tr>\n",
       "  </thead>\n",
       "  <tbody>\n",
       "    <tr>\n",
       "      <th>2015-01-01</th>\n",
       "      <td>1</td>\n",
       "      <td>1</td>\n",
       "      <td>hawaiian_m</td>\n",
       "      <td>1</td>\n",
       "      <td>11:38:36</td>\n",
       "      <td>13.25</td>\n",
       "      <td>13.25</td>\n",
       "      <td>M</td>\n",
       "      <td>Classic</td>\n",
       "      <td>Sliced Ham, Pineapple, Mozzarella Cheese</td>\n",
       "      <td>The Hawaiian Pizza</td>\n",
       "      <td>NaN</td>\n",
       "    </tr>\n",
       "    <tr>\n",
       "      <th>2015-01-01</th>\n",
       "      <td>2</td>\n",
       "      <td>2</td>\n",
       "      <td>classic_dlx_m</td>\n",
       "      <td>1</td>\n",
       "      <td>11:57:40</td>\n",
       "      <td>16.00</td>\n",
       "      <td>16.00</td>\n",
       "      <td>M</td>\n",
       "      <td>Classic</td>\n",
       "      <td>Pepperoni, Mushrooms, Red Onions, Red Peppers,...</td>\n",
       "      <td>The Classic Deluxe Pizza</td>\n",
       "      <td>NaN</td>\n",
       "    </tr>\n",
       "    <tr>\n",
       "      <th>2015-01-01</th>\n",
       "      <td>3</td>\n",
       "      <td>2</td>\n",
       "      <td>five_cheese_l</td>\n",
       "      <td>1</td>\n",
       "      <td>11:57:40</td>\n",
       "      <td>18.50</td>\n",
       "      <td>18.50</td>\n",
       "      <td>L</td>\n",
       "      <td>Veggie</td>\n",
       "      <td>Mozzarella Cheese, Provolone Cheese, Smoked Go...</td>\n",
       "      <td>The Five Cheese Pizza</td>\n",
       "      <td>NaN</td>\n",
       "    </tr>\n",
       "  </tbody>\n",
       "</table>\n",
       "</div>"
      ],
      "text/plain": [
       "            pizza_id  order_id  pizza_name_id  quantity order_time  \\\n",
       "order_date                                                           \n",
       "2015-01-01         1         1     hawaiian_m         1   11:38:36   \n",
       "2015-01-01         2         2  classic_dlx_m         1   11:57:40   \n",
       "2015-01-01         3         2  five_cheese_l         1   11:57:40   \n",
       "\n",
       "            unit_price  total_price pizza_size pizza_category  \\\n",
       "order_date                                                      \n",
       "2015-01-01       13.25        13.25          M        Classic   \n",
       "2015-01-01       16.00        16.00          M        Classic   \n",
       "2015-01-01       18.50        18.50          L         Veggie   \n",
       "\n",
       "                                            pizza_ingredients  \\\n",
       "order_date                                                      \n",
       "2015-01-01           Sliced Ham, Pineapple, Mozzarella Cheese   \n",
       "2015-01-01  Pepperoni, Mushrooms, Red Onions, Red Peppers,...   \n",
       "2015-01-01  Mozzarella Cheese, Provolone Cheese, Smoked Go...   \n",
       "\n",
       "                          pizza_name  Weekly_sales  \n",
       "order_date                                          \n",
       "2015-01-01        The Hawaiian Pizza           NaN  \n",
       "2015-01-01  The Classic Deluxe Pizza           NaN  \n",
       "2015-01-01     The Five Cheese Pizza           NaN  "
      ]
     },
     "execution_count": 12,
     "metadata": {},
     "output_type": "execute_result"
    }
   ],
   "source": [
    "#weekly sales \n",
    "sales_df['Weekly_sales'] = sales_df['quantity'].resample('W').sum()\n",
    "sales_df.head(3)"
   ]
  },
  {
   "cell_type": "code",
   "execution_count": 4,
   "metadata": {},
   "outputs": [],
   "source": [
    "sales_df['order_date'] = pd.to_datetime(sales_df['order_date'])\n"
   ]
  },
  {
   "cell_type": "code",
   "execution_count": 20,
   "metadata": {},
   "outputs": [],
   "source": []
  },
  {
   "cell_type": "code",
   "execution_count": 4,
   "metadata": {},
   "outputs": [],
   "source": [
    "columns_to_keep = ['order_date', 'pizza_name_id', 'quantity']"
   ]
  },
  {
   "cell_type": "code",
   "execution_count": 5,
   "metadata": {},
   "outputs": [
    {
     "data": {
      "text/html": [
       "<div>\n",
       "<style scoped>\n",
       "    .dataframe tbody tr th:only-of-type {\n",
       "        vertical-align: middle;\n",
       "    }\n",
       "\n",
       "    .dataframe tbody tr th {\n",
       "        vertical-align: top;\n",
       "    }\n",
       "\n",
       "    .dataframe thead th {\n",
       "        text-align: right;\n",
       "    }\n",
       "</style>\n",
       "<table border=\"1\" class=\"dataframe\">\n",
       "  <thead>\n",
       "    <tr style=\"text-align: right;\">\n",
       "      <th></th>\n",
       "      <th>order_date</th>\n",
       "      <th>pizza_name_id</th>\n",
       "      <th>quantity</th>\n",
       "    </tr>\n",
       "  </thead>\n",
       "  <tbody>\n",
       "    <tr>\n",
       "      <th>38792</th>\n",
       "      <td>2015-10-16</td>\n",
       "      <td>brie_carre_s</td>\n",
       "      <td>1</td>\n",
       "    </tr>\n",
       "    <tr>\n",
       "      <th>43254</th>\n",
       "      <td>2015-11-20</td>\n",
       "      <td>spicy_ital_l</td>\n",
       "      <td>1</td>\n",
       "    </tr>\n",
       "    <tr>\n",
       "      <th>42678</th>\n",
       "      <td>2015-11-16</td>\n",
       "      <td>hawaiian_l</td>\n",
       "      <td>1</td>\n",
       "    </tr>\n",
       "  </tbody>\n",
       "</table>\n",
       "</div>"
      ],
      "text/plain": [
       "      order_date pizza_name_id  quantity\n",
       "38792 2015-10-16  brie_carre_s         1\n",
       "43254 2015-11-20  spicy_ital_l         1\n",
       "42678 2015-11-16    hawaiian_l         1"
      ]
     },
     "execution_count": 5,
     "metadata": {},
     "output_type": "execute_result"
    }
   ],
   "source": [
    "new_df = sales_df[columns_to_keep]\n",
    "new_df.sample(3)"
   ]
  },
  {
   "cell_type": "code",
   "execution_count": 6,
   "metadata": {},
   "outputs": [],
   "source": [
    "pizza_name_list = sales_df.pizza_name_id.unique().tolist()\n",
    "def pizza_df (df,pizza_name):\n",
    "   new_df = df[df['pizza_name_id'] == pizza_name]\n",
    "   return new_df\n",
    "for pizza_name in pizza_name_list:\n",
    "    globals()[f'{pizza_name}_df'] = pizza_df(new_df,pizza_name)\n",
    "    \n",
    "\n",
    "    "
   ]
  },
  {
   "cell_type": "code",
   "execution_count": 7,
   "metadata": {},
   "outputs": [
    {
     "data": {
      "text/plain": [
       "[['hawaiian_m_df'],\n",
       " ['classic_dlx_m_df'],\n",
       " ['five_cheese_l_df'],\n",
       " ['ital_supr_l_df'],\n",
       " ['mexicana_m_df'],\n",
       " ['thai_ckn_l_df'],\n",
       " ['ital_supr_m_df'],\n",
       " ['prsc_argla_l_df'],\n",
       " ['bbq_ckn_s_df'],\n",
       " ['the_greek_s_df'],\n",
       " ['spinach_supr_s_df'],\n",
       " ['classic_dlx_s_df'],\n",
       " ['green_garden_s_df'],\n",
       " ['ital_cpcllo_l_df'],\n",
       " ['ital_supr_s_df'],\n",
       " ['mexicana_s_df'],\n",
       " ['spicy_ital_l_df'],\n",
       " ['spin_pesto_l_df'],\n",
       " ['veggie_veg_s_df'],\n",
       " ['mexicana_l_df'],\n",
       " ['southw_ckn_l_df'],\n",
       " ['bbq_ckn_l_df'],\n",
       " ['cali_ckn_l_df'],\n",
       " ['cali_ckn_m_df'],\n",
       " ['pepperoni_l_df'],\n",
       " ['cali_ckn_s_df'],\n",
       " ['ckn_pesto_l_df'],\n",
       " ['big_meat_s_df'],\n",
       " ['nan_df'],\n",
       " ['calabrese_m_df'],\n",
       " ['four_cheese_m_df'],\n",
       " ['ital_veggie_s_df'],\n",
       " ['mediterraneo_m_df'],\n",
       " ['peppr_salami_s_df'],\n",
       " ['spinach_fet_l_df'],\n",
       " ['napolitana_l_df'],\n",
       " ['sicilian_l_df'],\n",
       " ['ital_cpcllo_m_df'],\n",
       " ['southw_ckn_s_df'],\n",
       " ['bbq_ckn_m_df'],\n",
       " ['pepperoni_m_df'],\n",
       " ['prsc_argla_s_df'],\n",
       " ['sicilian_m_df'],\n",
       " ['veggie_veg_l_df'],\n",
       " ['ckn_alfredo_s_df'],\n",
       " ['pepperoni_s_df'],\n",
       " ['green_garden_l_df'],\n",
       " ['green_garden_m_df'],\n",
       " ['pep_msh_pep_l_df'],\n",
       " ['hawaiian_s_df'],\n",
       " ['four_cheese_l_df'],\n",
       " ['peppr_salami_m_df'],\n",
       " ['ckn_alfredo_m_df'],\n",
       " ['peppr_salami_l_df'],\n",
       " ['spin_pesto_s_df'],\n",
       " ['thai_ckn_m_df'],\n",
       " ['classic_dlx_l_df'],\n",
       " ['ckn_pesto_m_df'],\n",
       " ['the_greek_xl_df'],\n",
       " ['hawaiian_l_df'],\n",
       " ['pep_msh_pep_s_df'],\n",
       " ['spinach_supr_m_df'],\n",
       " ['prsc_argla_m_df'],\n",
       " ['mediterraneo_l_df'],\n",
       " ['southw_ckn_m_df'],\n",
       " ['pep_msh_pep_m_df'],\n",
       " ['sicilian_s_df'],\n",
       " ['spicy_ital_s_df'],\n",
       " ['soppressata_l_df'],\n",
       " ['thai_ckn_s_df'],\n",
       " ['spinach_supr_l_df'],\n",
       " ['ital_veggie_l_df'],\n",
       " ['veggie_veg_m_df'],\n",
       " ['the_greek_m_df'],\n",
       " ['ckn_pesto_s_df'],\n",
       " ['spinach_fet_s_df'],\n",
       " ['napolitana_s_df'],\n",
       " ['spicy_ital_m_df'],\n",
       " ['ital_veggie_m_df'],\n",
       " ['ital_cpcllo_s_df'],\n",
       " ['mediterraneo_s_df'],\n",
       " ['spinach_fet_m_df'],\n",
       " ['napolitana_m_df'],\n",
       " ['spin_pesto_m_df'],\n",
       " ['brie_carre_s_df'],\n",
       " ['ckn_alfredo_l_df'],\n",
       " ['calabrese_s_df'],\n",
       " ['the_greek_l_df'],\n",
       " ['soppressata_m_df'],\n",
       " ['soppressata_s_df'],\n",
       " ['calabrese_l_df'],\n",
       " ['the_greek_xxl_df']]"
      ]
     },
     "execution_count": 7,
     "metadata": {},
     "output_type": "execute_result"
    }
   ],
   "source": [
    "pizza_name_df = []\n",
    "for pizza_name in pizza_name_list:\n",
    "    #globals()[f'{pizza_name}_df'] = pizza_df(sales_df,pizza_name)\n",
    "    pizza_name_df.append([f'{pizza_name}_df'])\n",
    "pizza_name_df"
   ]
  },
  {
   "cell_type": "code",
   "execution_count": null,
   "metadata": {},
   "outputs": [],
   "source": []
  },
  {
   "cell_type": "code",
   "execution_count": 11,
   "metadata": {},
   "outputs": [
    {
     "data": {
      "text/plain": [
       "[['hawaiian_m_df'],\n",
       " ['classic_dlx_m_df'],\n",
       " ['five_cheese_l_df'],\n",
       " ['ital_supr_l_df'],\n",
       " ['mexicana_m_df'],\n",
       " ['thai_ckn_l_df'],\n",
       " ['ital_supr_m_df'],\n",
       " ['prsc_argla_l_df'],\n",
       " ['bbq_ckn_s_df'],\n",
       " ['the_greek_s_df'],\n",
       " ['spinach_supr_s_df'],\n",
       " ['classic_dlx_s_df'],\n",
       " ['green_garden_s_df'],\n",
       " ['ital_cpcllo_l_df'],\n",
       " ['ital_supr_s_df'],\n",
       " ['mexicana_s_df'],\n",
       " ['spicy_ital_l_df'],\n",
       " ['spin_pesto_l_df'],\n",
       " ['veggie_veg_s_df'],\n",
       " ['mexicana_l_df'],\n",
       " ['southw_ckn_l_df'],\n",
       " ['bbq_ckn_l_df'],\n",
       " ['cali_ckn_l_df'],\n",
       " ['cali_ckn_m_df'],\n",
       " ['pepperoni_l_df'],\n",
       " ['cali_ckn_s_df'],\n",
       " ['ckn_pesto_l_df'],\n",
       " ['big_meat_s_df'],\n",
       " ['nan_df'],\n",
       " ['calabrese_m_df'],\n",
       " ['four_cheese_m_df'],\n",
       " ['ital_veggie_s_df'],\n",
       " ['mediterraneo_m_df'],\n",
       " ['peppr_salami_s_df'],\n",
       " ['spinach_fet_l_df'],\n",
       " ['napolitana_l_df'],\n",
       " ['sicilian_l_df'],\n",
       " ['ital_cpcllo_m_df'],\n",
       " ['southw_ckn_s_df'],\n",
       " ['bbq_ckn_m_df'],\n",
       " ['pepperoni_m_df'],\n",
       " ['prsc_argla_s_df'],\n",
       " ['sicilian_m_df'],\n",
       " ['veggie_veg_l_df'],\n",
       " ['ckn_alfredo_s_df'],\n",
       " ['pepperoni_s_df'],\n",
       " ['green_garden_l_df'],\n",
       " ['green_garden_m_df'],\n",
       " ['pep_msh_pep_l_df'],\n",
       " ['hawaiian_s_df'],\n",
       " ['four_cheese_l_df'],\n",
       " ['peppr_salami_m_df'],\n",
       " ['ckn_alfredo_m_df'],\n",
       " ['peppr_salami_l_df'],\n",
       " ['spin_pesto_s_df'],\n",
       " ['thai_ckn_m_df'],\n",
       " ['classic_dlx_l_df'],\n",
       " ['ckn_pesto_m_df'],\n",
       " ['the_greek_xl_df'],\n",
       " ['hawaiian_l_df'],\n",
       " ['pep_msh_pep_s_df'],\n",
       " ['spinach_supr_m_df'],\n",
       " ['prsc_argla_m_df'],\n",
       " ['mediterraneo_l_df'],\n",
       " ['southw_ckn_m_df'],\n",
       " ['pep_msh_pep_m_df'],\n",
       " ['sicilian_s_df'],\n",
       " ['spicy_ital_s_df'],\n",
       " ['soppressata_l_df'],\n",
       " ['thai_ckn_s_df'],\n",
       " ['spinach_supr_l_df'],\n",
       " ['ital_veggie_l_df'],\n",
       " ['veggie_veg_m_df'],\n",
       " ['the_greek_m_df'],\n",
       " ['ckn_pesto_s_df'],\n",
       " ['spinach_fet_s_df'],\n",
       " ['napolitana_s_df'],\n",
       " ['spicy_ital_m_df'],\n",
       " ['ital_veggie_m_df'],\n",
       " ['ital_cpcllo_s_df'],\n",
       " ['mediterraneo_s_df'],\n",
       " ['spinach_fet_m_df'],\n",
       " ['napolitana_m_df'],\n",
       " ['spin_pesto_m_df'],\n",
       " ['brie_carre_s_df'],\n",
       " ['ckn_alfredo_l_df'],\n",
       " ['calabrese_s_df'],\n",
       " ['the_greek_l_df'],\n",
       " ['soppressata_m_df'],\n",
       " ['soppressata_s_df'],\n",
       " ['calabrese_l_df'],\n",
       " ['the_greek_xxl_df']]"
      ]
     },
     "execution_count": 11,
     "metadata": {},
     "output_type": "execute_result"
    }
   ],
   "source": [
    "pizza_name_df"
   ]
  },
  {
   "cell_type": "code",
   "execution_count": 10,
   "metadata": {},
   "outputs": [
    {
     "data": {
      "text/plain": [
       "pizza_name_id\n",
       "big_meat_s        1811\n",
       "thai_ckn_l        1363\n",
       "five_cheese_l     1358\n",
       "four_cheese_l     1272\n",
       "classic_dlx_m     1159\n",
       "                  ... \n",
       "mexicana_s         160\n",
       "calabrese_s         99\n",
       "ckn_alfredo_s       96\n",
       "green_garden_l      94\n",
       "the_greek_xxl       28\n",
       "Name: count, Length: 91, dtype: int64"
      ]
     },
     "execution_count": 10,
     "metadata": {},
     "output_type": "execute_result"
    }
   ],
   "source": [
    "sales_df.pizza_name_id.value_counts()"
   ]
  },
  {
   "cell_type": "code",
   "execution_count": 15,
   "metadata": {},
   "outputs": [
    {
     "data": {
      "text/html": [
       "<div>\n",
       "<style scoped>\n",
       "    .dataframe tbody tr th:only-of-type {\n",
       "        vertical-align: middle;\n",
       "    }\n",
       "\n",
       "    .dataframe tbody tr th {\n",
       "        vertical-align: top;\n",
       "    }\n",
       "\n",
       "    .dataframe thead th {\n",
       "        text-align: right;\n",
       "    }\n",
       "</style>\n",
       "<table border=\"1\" class=\"dataframe\">\n",
       "  <thead>\n",
       "    <tr style=\"text-align: right;\">\n",
       "      <th></th>\n",
       "      <th>order_date</th>\n",
       "      <th>pizza_name_id</th>\n",
       "      <th>quantity</th>\n",
       "    </tr>\n",
       "  </thead>\n",
       "  <tbody>\n",
       "    <tr>\n",
       "      <th>35</th>\n",
       "      <td>2015-01-01</td>\n",
       "      <td>big_meat_s</td>\n",
       "      <td>1</td>\n",
       "    </tr>\n",
       "    <tr>\n",
       "      <th>55</th>\n",
       "      <td>2015-01-01</td>\n",
       "      <td>big_meat_s</td>\n",
       "      <td>1</td>\n",
       "    </tr>\n",
       "    <tr>\n",
       "      <th>78</th>\n",
       "      <td>2015-01-01</td>\n",
       "      <td>big_meat_s</td>\n",
       "      <td>1</td>\n",
       "    </tr>\n",
       "    <tr>\n",
       "      <th>100</th>\n",
       "      <td>2015-01-01</td>\n",
       "      <td>big_meat_s</td>\n",
       "      <td>1</td>\n",
       "    </tr>\n",
       "    <tr>\n",
       "      <th>149</th>\n",
       "      <td>2015-01-01</td>\n",
       "      <td>big_meat_s</td>\n",
       "      <td>1</td>\n",
       "    </tr>\n",
       "  </tbody>\n",
       "</table>\n",
       "</div>"
      ],
      "text/plain": [
       "    order_date pizza_name_id  quantity\n",
       "35  2015-01-01    big_meat_s         1\n",
       "55  2015-01-01    big_meat_s         1\n",
       "78  2015-01-01    big_meat_s         1\n",
       "100 2015-01-01    big_meat_s         1\n",
       "149 2015-01-01    big_meat_s         1"
      ]
     },
     "execution_count": 15,
     "metadata": {},
     "output_type": "execute_result"
    }
   ],
   "source": [
    "big_meat_s_df.head()"
   ]
  },
  {
   "cell_type": "code",
   "execution_count": 12,
   "metadata": {},
   "outputs": [],
   "source": [
    "\n",
    "def create_feature(df):\n",
    "    #df = df.copy()\n",
    "    #df.set_index('order_date',inplace=True)\n",
    "    df['hour'] = df.index.hour\n",
    "    df['dayofweek'] = df.index.dayofweek\n",
    "    df['quarter'] = df.index.quarter\n",
    "    df['month'] = df.index.month\n",
    "    df['year'] = df.index.year\n",
    "    df['dayofyear'] = df.index.dayofyear\n",
    "    df['dayofmonth'] = df.index.day\n",
    "    df['weekofyear'] = df.index.isocalendar().week\n",
    "    #df['weekofmonth'] = df.index.weekofmonth\n",
    "    return df\n",
    "\n",
    "\n",
    "    "
   ]
  },
  {
   "cell_type": "code",
   "execution_count": 13,
   "metadata": {},
   "outputs": [],
   "source": [
    "def add_lags(df):\n",
    "    target_map = df['daily_sales'].to_dict()\n",
    "    df['lag1'] = (df.index - pd.Timedelta('30 days')).map(target_map)\n",
    "    df['lag2'] = (df.index - pd.Timedelta('60 days')).map(target_map)\n",
    "    df['lag3'] = (df.index - pd.Timedelta('90 days')).map(target_map)\n",
    "    return df\n",
    "\n"
   ]
  },
  {
   "cell_type": "code",
   "execution_count": 14,
   "metadata": {},
   "outputs": [],
   "source": [
    "def feature_engineering(df):\n",
    "    df = create_feature(df)\n",
    "    df = add_lags(df)\n",
    "    return df\n"
   ]
  },
  {
   "cell_type": "code",
   "execution_count": 132,
   "metadata": {},
   "outputs": [
    {
     "data": {
      "text/plain": [
       "list"
      ]
     },
     "execution_count": 132,
     "metadata": {},
     "output_type": "execute_result"
    }
   ],
   "source": [
    "type(pizza_name_df)"
   ]
  },
  {
   "cell_type": "code",
   "execution_count": 48,
   "metadata": {},
   "outputs": [],
   "source": [
    "#list to dictionary\n",
    "\n",
    "pizza_name_df = dict(enumerate(pizza_name_df))"
   ]
  },
  {
   "cell_type": "code",
   "execution_count": 50,
   "metadata": {},
   "outputs": [
    {
     "ename": "AttributeError",
     "evalue": "'int' object has no attribute 'set_index'",
     "output_type": "error",
     "traceback": [
      "\u001b[1;31m---------------------------------------------------------------------------\u001b[0m",
      "\u001b[1;31mAttributeError\u001b[0m                            Traceback (most recent call last)",
      "Cell \u001b[1;32mIn[50], line 5\u001b[0m\n\u001b[0;32m      3\u001b[0m     \u001b[38;5;28;01mreturn\u001b[39;00m df\n\u001b[0;32m      4\u001b[0m \u001b[38;5;28;01mfor\u001b[39;00m name, df \u001b[38;5;129;01min\u001b[39;00m pizza_name_df\u001b[38;5;241m.\u001b[39mitems():\n\u001b[1;32m----> 5\u001b[0m     df \u001b[38;5;241m=\u001b[39m \u001b[43mdf\u001b[49m\u001b[38;5;241;43m.\u001b[39;49m\u001b[43mset_index\u001b[49m(\u001b[38;5;124m'\u001b[39m\u001b[38;5;124morder_date\u001b[39m\u001b[38;5;124m'\u001b[39m,inplace\u001b[38;5;241m=\u001b[39m\u001b[38;5;28;01mTrue\u001b[39;00m)\n\u001b[0;32m      6\u001b[0m     \u001b[38;5;66;03m#pizza_name_df[name]  = set_index(df)\u001b[39;00m\n",
      "\u001b[1;31mAttributeError\u001b[0m: 'int' object has no attribute 'set_index'"
     ]
    }
   ],
   "source": [
    "def set_index(df):\n",
    "    df.set_index('order_date',inplace=True)\n",
    "    return df\n",
    "for name, df in pizza_name_df.items():\n",
    "    df = df.set_index('order_date',inplace=True)\n",
    "    #pizza_name_df[name]  = set_index(df)"
   ]
  },
  {
   "cell_type": "code",
   "execution_count": 16,
   "metadata": {},
   "outputs": [],
   "source": [
    "def sales_feature(df):\n",
    "    df.set_index('order_date',inplace=True)\n",
    "    df['daily_sales'] = df['quantity'].resample('D').sum()\n",
    "    df.drop(columns = ['pizza_name_id','quantity'],inplace=True)\n",
    "    feature_engineering(df)\n",
    "    return df"
   ]
  },
  {
   "cell_type": "code",
   "execution_count": 17,
   "metadata": {},
   "outputs": [
    {
     "name": "stderr",
     "output_type": "stream",
     "text": [
      "C:\\Users\\Hp\\AppData\\Local\\Temp\\ipykernel_11456\\2121723224.py:3: SettingWithCopyWarning: \n",
      "A value is trying to be set on a copy of a slice from a DataFrame.\n",
      "Try using .loc[row_indexer,col_indexer] = value instead\n",
      "\n",
      "See the caveats in the documentation: https://pandas.pydata.org/pandas-docs/stable/user_guide/indexing.html#returning-a-view-versus-a-copy\n",
      "  df['daily_sales'] = df['quantity'].resample('D').sum()\n",
      "C:\\Users\\Hp\\AppData\\Local\\Temp\\ipykernel_11456\\2121723224.py:4: SettingWithCopyWarning: \n",
      "A value is trying to be set on a copy of a slice from a DataFrame\n",
      "\n",
      "See the caveats in the documentation: https://pandas.pydata.org/pandas-docs/stable/user_guide/indexing.html#returning-a-view-versus-a-copy\n",
      "  df.drop(columns = ['pizza_name_id','quantity'],inplace=True)\n",
      "C:\\Users\\Hp\\AppData\\Local\\Temp\\ipykernel_11456\\872030400.py:5: SettingWithCopyWarning: \n",
      "A value is trying to be set on a copy of a slice from a DataFrame.\n",
      "Try using .loc[row_indexer,col_indexer] = value instead\n",
      "\n",
      "See the caveats in the documentation: https://pandas.pydata.org/pandas-docs/stable/user_guide/indexing.html#returning-a-view-versus-a-copy\n",
      "  df['hour'] = df.index.hour\n",
      "C:\\Users\\Hp\\AppData\\Local\\Temp\\ipykernel_11456\\872030400.py:6: SettingWithCopyWarning: \n",
      "A value is trying to be set on a copy of a slice from a DataFrame.\n",
      "Try using .loc[row_indexer,col_indexer] = value instead\n",
      "\n",
      "See the caveats in the documentation: https://pandas.pydata.org/pandas-docs/stable/user_guide/indexing.html#returning-a-view-versus-a-copy\n",
      "  df['dayofweek'] = df.index.dayofweek\n",
      "C:\\Users\\Hp\\AppData\\Local\\Temp\\ipykernel_11456\\872030400.py:7: SettingWithCopyWarning: \n",
      "A value is trying to be set on a copy of a slice from a DataFrame.\n",
      "Try using .loc[row_indexer,col_indexer] = value instead\n",
      "\n",
      "See the caveats in the documentation: https://pandas.pydata.org/pandas-docs/stable/user_guide/indexing.html#returning-a-view-versus-a-copy\n",
      "  df['quarter'] = df.index.quarter\n",
      "C:\\Users\\Hp\\AppData\\Local\\Temp\\ipykernel_11456\\872030400.py:8: SettingWithCopyWarning: \n",
      "A value is trying to be set on a copy of a slice from a DataFrame.\n",
      "Try using .loc[row_indexer,col_indexer] = value instead\n",
      "\n",
      "See the caveats in the documentation: https://pandas.pydata.org/pandas-docs/stable/user_guide/indexing.html#returning-a-view-versus-a-copy\n",
      "  df['month'] = df.index.month\n",
      "C:\\Users\\Hp\\AppData\\Local\\Temp\\ipykernel_11456\\872030400.py:9: SettingWithCopyWarning: \n",
      "A value is trying to be set on a copy of a slice from a DataFrame.\n",
      "Try using .loc[row_indexer,col_indexer] = value instead\n",
      "\n",
      "See the caveats in the documentation: https://pandas.pydata.org/pandas-docs/stable/user_guide/indexing.html#returning-a-view-versus-a-copy\n",
      "  df['year'] = df.index.year\n",
      "C:\\Users\\Hp\\AppData\\Local\\Temp\\ipykernel_11456\\872030400.py:10: SettingWithCopyWarning: \n",
      "A value is trying to be set on a copy of a slice from a DataFrame.\n",
      "Try using .loc[row_indexer,col_indexer] = value instead\n",
      "\n",
      "See the caveats in the documentation: https://pandas.pydata.org/pandas-docs/stable/user_guide/indexing.html#returning-a-view-versus-a-copy\n",
      "  df['dayofyear'] = df.index.dayofyear\n",
      "C:\\Users\\Hp\\AppData\\Local\\Temp\\ipykernel_11456\\872030400.py:11: SettingWithCopyWarning: \n",
      "A value is trying to be set on a copy of a slice from a DataFrame.\n",
      "Try using .loc[row_indexer,col_indexer] = value instead\n",
      "\n",
      "See the caveats in the documentation: https://pandas.pydata.org/pandas-docs/stable/user_guide/indexing.html#returning-a-view-versus-a-copy\n",
      "  df['dayofmonth'] = df.index.day\n",
      "C:\\Users\\Hp\\AppData\\Local\\Temp\\ipykernel_11456\\872030400.py:12: SettingWithCopyWarning: \n",
      "A value is trying to be set on a copy of a slice from a DataFrame.\n",
      "Try using .loc[row_indexer,col_indexer] = value instead\n",
      "\n",
      "See the caveats in the documentation: https://pandas.pydata.org/pandas-docs/stable/user_guide/indexing.html#returning-a-view-versus-a-copy\n",
      "  df['weekofyear'] = df.index.isocalendar().week\n",
      "C:\\Users\\Hp\\AppData\\Local\\Temp\\ipykernel_11456\\1754053094.py:3: SettingWithCopyWarning: \n",
      "A value is trying to be set on a copy of a slice from a DataFrame.\n",
      "Try using .loc[row_indexer,col_indexer] = value instead\n",
      "\n",
      "See the caveats in the documentation: https://pandas.pydata.org/pandas-docs/stable/user_guide/indexing.html#returning-a-view-versus-a-copy\n",
      "  df['lag1'] = (df.index - pd.Timedelta('30 days')).map(target_map)\n",
      "C:\\Users\\Hp\\AppData\\Local\\Temp\\ipykernel_11456\\1754053094.py:4: SettingWithCopyWarning: \n",
      "A value is trying to be set on a copy of a slice from a DataFrame.\n",
      "Try using .loc[row_indexer,col_indexer] = value instead\n",
      "\n",
      "See the caveats in the documentation: https://pandas.pydata.org/pandas-docs/stable/user_guide/indexing.html#returning-a-view-versus-a-copy\n",
      "  df['lag2'] = (df.index - pd.Timedelta('60 days')).map(target_map)\n",
      "C:\\Users\\Hp\\AppData\\Local\\Temp\\ipykernel_11456\\1754053094.py:5: SettingWithCopyWarning: \n",
      "A value is trying to be set on a copy of a slice from a DataFrame.\n",
      "Try using .loc[row_indexer,col_indexer] = value instead\n",
      "\n",
      "See the caveats in the documentation: https://pandas.pydata.org/pandas-docs/stable/user_guide/indexing.html#returning-a-view-versus-a-copy\n",
      "  df['lag3'] = (df.index - pd.Timedelta('90 days')).map(target_map)\n"
     ]
    },
    {
     "data": {
      "text/html": [
       "<div>\n",
       "<style scoped>\n",
       "    .dataframe tbody tr th:only-of-type {\n",
       "        vertical-align: middle;\n",
       "    }\n",
       "\n",
       "    .dataframe tbody tr th {\n",
       "        vertical-align: top;\n",
       "    }\n",
       "\n",
       "    .dataframe thead th {\n",
       "        text-align: right;\n",
       "    }\n",
       "</style>\n",
       "<table border=\"1\" class=\"dataframe\">\n",
       "  <thead>\n",
       "    <tr style=\"text-align: right;\">\n",
       "      <th></th>\n",
       "      <th>daily_sales</th>\n",
       "      <th>hour</th>\n",
       "      <th>dayofweek</th>\n",
       "      <th>quarter</th>\n",
       "      <th>month</th>\n",
       "      <th>year</th>\n",
       "      <th>dayofyear</th>\n",
       "      <th>dayofmonth</th>\n",
       "      <th>weekofyear</th>\n",
       "      <th>lag1</th>\n",
       "      <th>lag2</th>\n",
       "      <th>lag3</th>\n",
       "    </tr>\n",
       "    <tr>\n",
       "      <th>order_date</th>\n",
       "      <th></th>\n",
       "      <th></th>\n",
       "      <th></th>\n",
       "      <th></th>\n",
       "      <th></th>\n",
       "      <th></th>\n",
       "      <th></th>\n",
       "      <th></th>\n",
       "      <th></th>\n",
       "      <th></th>\n",
       "      <th></th>\n",
       "      <th></th>\n",
       "    </tr>\n",
       "  </thead>\n",
       "  <tbody>\n",
       "    <tr>\n",
       "      <th>2015-01-01</th>\n",
       "      <td>1</td>\n",
       "      <td>0</td>\n",
       "      <td>3</td>\n",
       "      <td>1</td>\n",
       "      <td>1</td>\n",
       "      <td>2015</td>\n",
       "      <td>1</td>\n",
       "      <td>1</td>\n",
       "      <td>1</td>\n",
       "      <td>NaN</td>\n",
       "      <td>NaN</td>\n",
       "      <td>NaN</td>\n",
       "    </tr>\n",
       "    <tr>\n",
       "      <th>2015-02-01</th>\n",
       "      <td>1</td>\n",
       "      <td>0</td>\n",
       "      <td>6</td>\n",
       "      <td>1</td>\n",
       "      <td>2</td>\n",
       "      <td>2015</td>\n",
       "      <td>32</td>\n",
       "      <td>1</td>\n",
       "      <td>5</td>\n",
       "      <td>NaN</td>\n",
       "      <td>NaN</td>\n",
       "      <td>NaN</td>\n",
       "    </tr>\n",
       "    <tr>\n",
       "      <th>2015-04-01</th>\n",
       "      <td>2</td>\n",
       "      <td>0</td>\n",
       "      <td>2</td>\n",
       "      <td>2</td>\n",
       "      <td>4</td>\n",
       "      <td>2015</td>\n",
       "      <td>91</td>\n",
       "      <td>1</td>\n",
       "      <td>14</td>\n",
       "      <td>NaN</td>\n",
       "      <td>NaN</td>\n",
       "      <td>1.0</td>\n",
       "    </tr>\n",
       "  </tbody>\n",
       "</table>\n",
       "</div>"
      ],
      "text/plain": [
       "            daily_sales  hour  dayofweek  quarter  month  year  dayofyear  \\\n",
       "order_date                                                                  \n",
       "2015-01-01            1     0          3        1      1  2015          1   \n",
       "2015-02-01            1     0          6        1      2  2015         32   \n",
       "2015-04-01            2     0          2        2      4  2015         91   \n",
       "\n",
       "            dayofmonth  weekofyear  lag1  lag2  lag3  \n",
       "order_date                                            \n",
       "2015-01-01           1           1   NaN   NaN   NaN  \n",
       "2015-02-01           1           5   NaN   NaN   NaN  \n",
       "2015-04-01           1          14   NaN   NaN   1.0  "
      ]
     },
     "execution_count": 17,
     "metadata": {},
     "output_type": "execute_result"
    }
   ],
   "source": [
    "sales_feature(ital_supr_s_df)\n",
    "ital_supr_s_df.head(3)"
   ]
  },
  {
   "cell_type": "code",
   "execution_count": 54,
   "metadata": {},
   "outputs": [],
   "source": [
    "def model_training(df):\n",
    "    import xgboost as xgb\n",
    "    import numpy as np \n",
    "    from sklearn.metrics import mean_squared_error\n",
    "    from sklearn.model_selection import TimeSeriesSplit\n",
    "\n",
    "    tss = TimeSeriesSplit(n_splits=2, test_size=30, gap=1)\n",
    "    fold = 0\n",
    "    preds = []\n",
    "    scores = []\n",
    "    for train_idx, val_idx in tss.split(df):\n",
    "        train = df.iloc[train_idx]\n",
    "        test = df.iloc[val_idx]\n",
    "\n",
    "        #train = create_features(train)\n",
    "        #test = create_features(test)\n",
    "\n",
    "        FEATURES = ['dayofyear', 'hour', 'dayofweek', 'quarter', 'month','year',\n",
    "                    'lag1','lag2','lag3']\n",
    "        TARGET = 'daily_sales'\n",
    "\n",
    "        X_train = train[FEATURES]\n",
    "        y_train = train[TARGET]\n",
    "\n",
    "        X_test = test[FEATURES]\n",
    "        y_test = test[TARGET]\n",
    "\n",
    "        reg = xgb.XGBRegressor(base_score=0.5, booster='gbtree',\n",
    "                            n_estimators=400,\n",
    "                            early_stopping_rounds=50,\n",
    "                            objective='reg:linear',\n",
    "                            max_depth=3,\n",
    "                            learning_rate=0.01)\n",
    "        reg.fit(X_train, y_train,\n",
    "                eval_set=[(X_train, y_train), (X_test, y_test)],\n",
    "                verbose=100)\n",
    "\n",
    "        y_pred = reg.predict(X_test)\n",
    "        preds.append(y_pred)\n",
    "        score = np.sqrt(mean_squared_error(y_test, y_pred))\n",
    "        scores.append(score)\n",
    "        \n",
    "        future = pd.date_range('2016-01-01','2016-03-30', freq='D')\n",
    "        future_df = pd.DataFrame(index=future)\n",
    "        future_df['isFuture'] = True\n",
    "        df['isFuture'] = False\n",
    "        df_and_future = pd.concat([df, future_df])\n",
    "        df_and_future = feature_engineering(df_and_future)\n",
    "        future_w_features = df_and_future.query('isFuture').copy()\n",
    "        future_w_features['pred'] = reg.predict(future_w_features[FEATURES])\n",
    "        predicted_sales = future_w_features['pred'].sum()\n",
    "        return predicted_sales\n",
    "        "
   ]
  },
  {
   "cell_type": "markdown",
   "metadata": {},
   "source": [
    "Included all functions"
   ]
  },
  {
   "cell_type": "code",
   "execution_count": 8,
   "metadata": {},
   "outputs": [],
   "source": [
    "import pandas as pd\n",
    "import xgboost as xgb\n",
    "import numpy as np\n",
    "from sklearn.metrics import mean_squared_error\n",
    "from sklearn.model_selection import TimeSeriesSplit\n",
    "\n",
    "def create_features(df):\n",
    "    df.loc[:, 'hour'] = df.index.hour\n",
    "    df.loc[:, 'dayofweek'] = df.index.dayofweek\n",
    "    df.loc[:, 'quarter'] = df.index.quarter\n",
    "    df.loc[:, 'month'] = df.index.month\n",
    "    df.loc[:, 'year'] = df.index.year\n",
    "    df.loc[:, 'dayofyear'] = df.index.dayofyear\n",
    "    df.loc[:, 'dayofmonth'] = df.index.day\n",
    "    df.loc[:, 'weekofyear'] = df.index.isocalendar().week\n",
    "    return df\n",
    "\n",
    "def add_lags(df):\n",
    "    target_map = df['daily_sales'].to_dict()\n",
    "    df.loc[:, 'lag1'] = (df.index - pd.Timedelta('30 days')).map(target_map)\n",
    "    df.loc[:, 'lag2'] = (df.index - pd.Timedelta('60 days')).map(target_map)\n",
    "    df.loc[:, 'lag3'] = (df.index - pd.Timedelta('90 days')).map(target_map)\n",
    "    return df\n",
    "\n",
    "def feature_engineering(df):\n",
    "    df = create_features(df)\n",
    "    df = add_lags(df)\n",
    "    return df\n",
    "\n",
    "def sales_feature(df):\n",
    "    df = df.copy()  # Ensure df is a copy to avoid SettingWithCopyWarning\n",
    "    df.set_index('order_date', inplace=True)\n",
    "    df.loc[:, 'daily_sales'] = df['quantity'].resample('D').sum()\n",
    "    df.drop(columns=['pizza_name_id', 'quantity'], inplace=True)\n",
    "    df = feature_engineering(df)\n",
    "    return df\n",
    "\n",
    "def model_training(df):\n",
    "    if df.empty:\n",
    "        raise ValueError(\"DataFrame is empty after preprocessing.\")\n",
    "    \n",
    "    tss = TimeSeriesSplit(n_splits=3, test_size=30, gap=1)\n",
    "    preds = []\n",
    "    scores = []\n",
    "\n",
    "    for train_idx, val_idx in tss.split(df):\n",
    "        train = df.iloc[train_idx]\n",
    "        test = df.iloc[val_idx]\n",
    "\n",
    "        FEATURES = ['dayofyear', 'hour', 'dayofweek', 'quarter', 'month', 'year', 'lag1', 'lag2', 'lag3']\n",
    "        TARGET = 'daily_sales'\n",
    "\n",
    "        X_train = train[FEATURES]\n",
    "        y_train = train[TARGET]\n",
    "\n",
    "        X_test = test[FEATURES]\n",
    "        y_test = test[TARGET]\n",
    "\n",
    "        reg = xgb.XGBRegressor(base_score=0.5, booster='gbtree',\n",
    "                               n_estimators=400, early_stopping_rounds=50,\n",
    "                               objective='reg:linear', max_depth=3,\n",
    "                               learning_rate=0.01)\n",
    "        reg.fit(X_train, y_train,\n",
    "                eval_set=[(X_train, y_train), (X_test, y_test)],\n",
    "                verbose=100)\n",
    "\n",
    "        y_pred = reg.predict(X_test)\n",
    "        preds.append(y_pred)\n",
    "        score = np.sqrt(mean_squared_error(y_test, y_pred))\n",
    "        scores.append(score)\n",
    "    \n",
    "    future = pd.date_range('2016-01-01', '2016-03-30', freq='D')\n",
    "    future_df = pd.DataFrame(index=future)\n",
    "    future_df['isFuture'] = True\n",
    "    df['isFuture'] = False\n",
    "    df_and_future = pd.concat([df, future_df])\n",
    "    df_and_future = feature_engineering(df_and_future)\n",
    "    future_w_features = df_and_future.query('isFuture').copy()\n",
    "    future_w_features['pred'] = reg.predict(future_w_features[FEATURES])\n",
    "    predicted_sum = future_w_features['pred'].sum()\n",
    "    return predicted_sum\n"
   ]
  },
  {
   "cell_type": "markdown",
   "metadata": {},
   "source": [
    "Model Training for each dataset"
   ]
  },
  {
   "cell_type": "code",
   "execution_count": 9,
   "metadata": {},
   "outputs": [
    {
     "name": "stdout",
     "output_type": "stream",
     "text": [
      "Processing hawaiian_m...\n",
      "[0]\tvalidation_0-rmse:2.09954\tvalidation_1-rmse:2.26256\n",
      "[100]\tvalidation_0-rmse:1.18269\tvalidation_1-rmse:1.53392\n",
      "[200]\tvalidation_0-rmse:0.93306\tvalidation_1-rmse:1.37625\n",
      "[300]\tvalidation_0-rmse:0.84749\tvalidation_1-rmse:1.32959\n"
     ]
    },
    {
     "name": "stderr",
     "output_type": "stream",
     "text": [
      "s:\\Pizza\\.venv\\Lib\\site-packages\\xgboost\\core.py:158: UserWarning: [16:56:30] WARNING: C:\\buildkite-agent\\builds\\buildkite-windows-cpu-autoscaling-group-i-06abd128ca6c1688d-1\\xgboost\\xgboost-ci-windows\\src\\objective\\regression_obj.cu:227: reg:linear is now deprecated in favor of reg:squarederror.\n",
      "  warnings.warn(smsg, UserWarning)\n"
     ]
    },
    {
     "name": "stdout",
     "output_type": "stream",
     "text": [
      "[371]\tvalidation_0-rmse:0.80918\tvalidation_1-rmse:1.34125\n",
      "[0]\tvalidation_0-rmse:2.11046\tvalidation_1-rmse:3.02075\n",
      "[100]\tvalidation_0-rmse:1.20055\tvalidation_1-rmse:2.58804\n",
      "[200]\tvalidation_0-rmse:0.93730\tvalidation_1-rmse:2.47134\n"
     ]
    },
    {
     "name": "stderr",
     "output_type": "stream",
     "text": [
      "s:\\Pizza\\.venv\\Lib\\site-packages\\xgboost\\core.py:158: UserWarning: [16:56:30] WARNING: C:\\buildkite-agent\\builds\\buildkite-windows-cpu-autoscaling-group-i-06abd128ca6c1688d-1\\xgboost\\xgboost-ci-windows\\src\\objective\\regression_obj.cu:227: reg:linear is now deprecated in favor of reg:squarederror.\n",
      "  warnings.warn(smsg, UserWarning)\n"
     ]
    },
    {
     "name": "stdout",
     "output_type": "stream",
     "text": [
      "[300]\tvalidation_0-rmse:0.85969\tvalidation_1-rmse:2.42421\n",
      "[399]\tvalidation_0-rmse:0.81160\tvalidation_1-rmse:2.37700\n",
      "[0]\tvalidation_0-rmse:2.18473\tvalidation_1-rmse:1.82439\n",
      "[100]\tvalidation_0-rmse:1.28374\tvalidation_1-rmse:1.09393\n",
      "[200]\tvalidation_0-rmse:1.03387\tvalidation_1-rmse:0.98993\n",
      "[300]\tvalidation_0-rmse:0.93144\tvalidation_1-rmse:0.98390\n",
      "[309]\tvalidation_0-rmse:0.92490\tvalidation_1-rmse:0.98371\n"
     ]
    },
    {
     "name": "stderr",
     "output_type": "stream",
     "text": [
      "s:\\Pizza\\.venv\\Lib\\site-packages\\xgboost\\core.py:158: UserWarning: [16:56:31] WARNING: C:\\buildkite-agent\\builds\\buildkite-windows-cpu-autoscaling-group-i-06abd128ca6c1688d-1\\xgboost\\xgboost-ci-windows\\src\\objective\\regression_obj.cu:227: reg:linear is now deprecated in favor of reg:squarederror.\n",
      "  warnings.warn(smsg, UserWarning)\n"
     ]
    },
    {
     "name": "stdout",
     "output_type": "stream",
     "text": [
      "Processing classic_dlx_m...\n",
      "[0]\tvalidation_0-rmse:4.17026\tvalidation_1-rmse:4.17627\n",
      "[100]\tvalidation_0-rmse:2.16775\tvalidation_1-rmse:2.40795\n",
      "[200]\tvalidation_0-rmse:1.65547\tvalidation_1-rmse:2.04609\n"
     ]
    },
    {
     "name": "stderr",
     "output_type": "stream",
     "text": [
      "s:\\Pizza\\.venv\\Lib\\site-packages\\xgboost\\core.py:158: UserWarning: [16:56:31] WARNING: C:\\buildkite-agent\\builds\\buildkite-windows-cpu-autoscaling-group-i-06abd128ca6c1688d-1\\xgboost\\xgboost-ci-windows\\src\\objective\\regression_obj.cu:227: reg:linear is now deprecated in favor of reg:squarederror.\n",
      "  warnings.warn(smsg, UserWarning)\n"
     ]
    },
    {
     "name": "stdout",
     "output_type": "stream",
     "text": [
      "[300]\tvalidation_0-rmse:1.51916\tvalidation_1-rmse:1.97249\n",
      "[375]\tvalidation_0-rmse:1.47188\tvalidation_1-rmse:1.96122\n",
      "[0]\tvalidation_0-rmse:4.16995\tvalidation_1-rmse:3.53374\n",
      "[100]\tvalidation_0-rmse:2.16154\tvalidation_1-rmse:1.92650\n",
      "[200]\tvalidation_0-rmse:1.63925\tvalidation_1-rmse:1.82760\n",
      "[280]\tvalidation_0-rmse:1.52257\tvalidation_1-rmse:1.82867\n",
      "[0]\tvalidation_0-rmse:4.15232\tvalidation_1-rmse:3.73539"
     ]
    },
    {
     "name": "stderr",
     "output_type": "stream",
     "text": [
      "s:\\Pizza\\.venv\\Lib\\site-packages\\xgboost\\core.py:158: UserWarning: [16:56:31] WARNING: C:\\buildkite-agent\\builds\\buildkite-windows-cpu-autoscaling-group-i-06abd128ca6c1688d-1\\xgboost\\xgboost-ci-windows\\src\\objective\\regression_obj.cu:227: reg:linear is now deprecated in favor of reg:squarederror.\n",
      "  warnings.warn(smsg, UserWarning)\n",
      "s:\\Pizza\\.venv\\Lib\\site-packages\\xgboost\\core.py:158: UserWarning: [16:56:32] WARNING: C:\\buildkite-agent\\builds\\buildkite-windows-cpu-autoscaling-group-i-06abd128ca6c1688d-1\\xgboost\\xgboost-ci-windows\\src\\objective\\regression_obj.cu:227: reg:linear is now deprecated in favor of reg:squarederror.\n",
      "  warnings.warn(smsg, UserWarning)\n"
     ]
    },
    {
     "name": "stdout",
     "output_type": "stream",
     "text": [
      "\n",
      "[100]\tvalidation_0-rmse:2.14430\tvalidation_1-rmse:1.80804\n",
      "[200]\tvalidation_0-rmse:1.63281\tvalidation_1-rmse:1.21849\n",
      "[300]\tvalidation_0-rmse:1.50155\tvalidation_1-rmse:1.16948\n",
      "[306]\tvalidation_0-rmse:1.49686\tvalidation_1-rmse:1.17565\n",
      "Processing five_cheese_l...\n",
      "[0]\tvalidation_0-rmse:5.05934\tvalidation_1-rmse:3.42900\n",
      "[100]\tvalidation_0-rmse:2.55774\tvalidation_1-rmse:1.63385\n",
      "[151]\tvalidation_0-rmse:2.09379\tvalidation_1-rmse:1.78385\n",
      "[0]\tvalidation_0-rmse:5.02782\tvalidation_1-rmse:2.75624\n",
      "[100]\tvalidation_0-rmse:2.54546\tvalidation_1-rmse:0.87553\n"
     ]
    },
    {
     "name": "stderr",
     "output_type": "stream",
     "text": [
      "s:\\Pizza\\.venv\\Lib\\site-packages\\xgboost\\core.py:158: UserWarning: [16:56:32] WARNING: C:\\buildkite-agent\\builds\\buildkite-windows-cpu-autoscaling-group-i-06abd128ca6c1688d-1\\xgboost\\xgboost-ci-windows\\src\\objective\\regression_obj.cu:227: reg:linear is now deprecated in favor of reg:squarederror.\n",
      "  warnings.warn(smsg, UserWarning)\n",
      "s:\\Pizza\\.venv\\Lib\\site-packages\\xgboost\\core.py:158: UserWarning: [16:56:32] WARNING: C:\\buildkite-agent\\builds\\buildkite-windows-cpu-autoscaling-group-i-06abd128ca6c1688d-1\\xgboost\\xgboost-ci-windows\\src\\objective\\regression_obj.cu:227: reg:linear is now deprecated in favor of reg:squarederror.\n",
      "  warnings.warn(smsg, UserWarning)\n"
     ]
    },
    {
     "name": "stdout",
     "output_type": "stream",
     "text": [
      "[129]\tvalidation_0-rmse:2.24820\tvalidation_1-rmse:1.13684\n",
      "[0]\tvalidation_0-rmse:4.98886\tvalidation_1-rmse:3.20658\n",
      "[100]\tvalidation_0-rmse:2.54968\tvalidation_1-rmse:1.52703\n",
      "[200]\tvalidation_0-rmse:1.87938\tvalidation_1-rmse:1.45549\n",
      "[219]\tvalidation_0-rmse:1.82584\tvalidation_1-rmse:1.46576\n",
      "Processing ital_supr_l...\n"
     ]
    },
    {
     "name": "stderr",
     "output_type": "stream",
     "text": [
      "s:\\Pizza\\.venv\\Lib\\site-packages\\xgboost\\core.py:158: UserWarning: [16:56:32] WARNING: C:\\buildkite-agent\\builds\\buildkite-windows-cpu-autoscaling-group-i-06abd128ca6c1688d-1\\xgboost\\xgboost-ci-windows\\src\\objective\\regression_obj.cu:227: reg:linear is now deprecated in favor of reg:squarederror.\n",
      "  warnings.warn(smsg, UserWarning)\n"
     ]
    },
    {
     "name": "stdout",
     "output_type": "stream",
     "text": [
      "[0]\tvalidation_0-rmse:3.15103\tvalidation_1-rmse:3.40979\n",
      "[100]\tvalidation_0-rmse:1.76787\tvalidation_1-rmse:2.10950\n",
      "[200]\tvalidation_0-rmse:1.43465\tvalidation_1-rmse:1.75601\n",
      "[300]\tvalidation_0-rmse:1.33644\tvalidation_1-rmse:1.66076\n"
     ]
    },
    {
     "name": "stderr",
     "output_type": "stream",
     "text": [
      "s:\\Pizza\\.venv\\Lib\\site-packages\\xgboost\\core.py:158: UserWarning: [16:56:32] WARNING: C:\\buildkite-agent\\builds\\buildkite-windows-cpu-autoscaling-group-i-06abd128ca6c1688d-1\\xgboost\\xgboost-ci-windows\\src\\objective\\regression_obj.cu:227: reg:linear is now deprecated in favor of reg:squarederror.\n",
      "  warnings.warn(smsg, UserWarning)\n"
     ]
    },
    {
     "name": "stdout",
     "output_type": "stream",
     "text": [
      "[393]\tvalidation_0-rmse:1.25906\tvalidation_1-rmse:1.66661\n",
      "[0]\tvalidation_0-rmse:3.16192\tvalidation_1-rmse:2.66723\n",
      "[100]\tvalidation_0-rmse:1.77893\tvalidation_1-rmse:1.45575\n",
      "[200]\tvalidation_0-rmse:1.44209\tvalidation_1-rmse:1.36737\n",
      "[210]\tvalidation_0-rmse:1.42941\tvalidation_1-rmse:1.37329\n",
      "[0]\tvalidation_0-rmse:3.14368\tvalidation_1-rmse:2.46055\n",
      "[100]\tvalidation_0-rmse:1.76660\tvalidation_1-rmse:1.23318\n"
     ]
    },
    {
     "name": "stderr",
     "output_type": "stream",
     "text": [
      "s:\\Pizza\\.venv\\Lib\\site-packages\\xgboost\\core.py:158: UserWarning: [16:56:33] WARNING: C:\\buildkite-agent\\builds\\buildkite-windows-cpu-autoscaling-group-i-06abd128ca6c1688d-1\\xgboost\\xgboost-ci-windows\\src\\objective\\regression_obj.cu:227: reg:linear is now deprecated in favor of reg:squarederror.\n",
      "  warnings.warn(smsg, UserWarning)\n",
      "s:\\Pizza\\.venv\\Lib\\site-packages\\xgboost\\core.py:158: UserWarning: [16:56:33] WARNING: C:\\buildkite-agent\\builds\\buildkite-windows-cpu-autoscaling-group-i-06abd128ca6c1688d-1\\xgboost\\xgboost-ci-windows\\src\\objective\\regression_obj.cu:227: reg:linear is now deprecated in favor of reg:squarederror.\n",
      "  warnings.warn(smsg, UserWarning)\n"
     ]
    },
    {
     "name": "stdout",
     "output_type": "stream",
     "text": [
      "[200]\tvalidation_0-rmse:1.43891\tvalidation_1-rmse:1.05628\n",
      "[258]\tvalidation_0-rmse:1.37731\tvalidation_1-rmse:1.06815\n",
      "Processing mexicana_m...\n",
      "[0]\tvalidation_0-rmse:2.01499\tvalidation_1-rmse:2.03252\n",
      "[100]\tvalidation_0-rmse:1.14342\tvalidation_1-rmse:1.36583\n",
      "[200]\tvalidation_0-rmse:0.88654\tvalidation_1-rmse:1.19872\n",
      "[300]\tvalidation_0-rmse:0.80843\tvalidation_1-rmse:1.12252\n",
      "[399]\tvalidation_0-rmse:0.76617\tvalidation_1-rmse:1.08611\n"
     ]
    },
    {
     "name": "stderr",
     "output_type": "stream",
     "text": [
      "s:\\Pizza\\.venv\\Lib\\site-packages\\xgboost\\core.py:158: UserWarning: [16:56:33] WARNING: C:\\buildkite-agent\\builds\\buildkite-windows-cpu-autoscaling-group-i-06abd128ca6c1688d-1\\xgboost\\xgboost-ci-windows\\src\\objective\\regression_obj.cu:227: reg:linear is now deprecated in favor of reg:squarederror.\n",
      "  warnings.warn(smsg, UserWarning)\n"
     ]
    },
    {
     "name": "stdout",
     "output_type": "stream",
     "text": [
      "[0]\tvalidation_0-rmse:2.01239\tvalidation_1-rmse:2.17976\n",
      "[100]\tvalidation_0-rmse:1.14745\tvalidation_1-rmse:1.37940\n",
      "[143]\tvalidation_0-rmse:1.00688\tvalidation_1-rmse:1.41977\n",
      "[0]\tvalidation_0-rmse:2.02065\tvalidation_1-rmse:2.20580\n",
      "[100]\tvalidation_0-rmse:1.16525\tvalidation_1-rmse:1.45172\n",
      "[200]\tvalidation_0-rmse:0.93690\tvalidation_1-rmse:1.31673\n"
     ]
    },
    {
     "name": "stderr",
     "output_type": "stream",
     "text": [
      "s:\\Pizza\\.venv\\Lib\\site-packages\\xgboost\\core.py:158: UserWarning: [16:56:33] WARNING: C:\\buildkite-agent\\builds\\buildkite-windows-cpu-autoscaling-group-i-06abd128ca6c1688d-1\\xgboost\\xgboost-ci-windows\\src\\objective\\regression_obj.cu:227: reg:linear is now deprecated in favor of reg:squarederror.\n",
      "  warnings.warn(smsg, UserWarning)\n",
      "s:\\Pizza\\.venv\\Lib\\site-packages\\xgboost\\core.py:158: UserWarning: [16:56:33] WARNING: C:\\buildkite-agent\\builds\\buildkite-windows-cpu-autoscaling-group-i-06abd128ca6c1688d-1\\xgboost\\xgboost-ci-windows\\src\\objective\\regression_obj.cu:227: reg:linear is now deprecated in favor of reg:squarederror.\n",
      "  warnings.warn(smsg, UserWarning)\n"
     ]
    },
    {
     "name": "stdout",
     "output_type": "stream",
     "text": [
      "[300]\tvalidation_0-rmse:0.86094\tvalidation_1-rmse:1.30585\n",
      "[321]\tvalidation_0-rmse:0.85064\tvalidation_1-rmse:1.30947\n",
      "Processing thai_ckn_l...\n",
      "[0]\tvalidation_0-rmse:4.60158\tvalidation_1-rmse:5.45242\n",
      "[100]\tvalidation_0-rmse:2.27743\tvalidation_1-rmse:3.35153\n",
      "[200]\tvalidation_0-rmse:1.66431\tvalidation_1-rmse:2.72525\n",
      "[300]\tvalidation_0-rmse:1.51640\tvalidation_1-rmse:2.60467\n"
     ]
    },
    {
     "name": "stderr",
     "output_type": "stream",
     "text": [
      "s:\\Pizza\\.venv\\Lib\\site-packages\\xgboost\\core.py:158: UserWarning: [16:56:34] WARNING: C:\\buildkite-agent\\builds\\buildkite-windows-cpu-autoscaling-group-i-06abd128ca6c1688d-1\\xgboost\\xgboost-ci-windows\\src\\objective\\regression_obj.cu:227: reg:linear is now deprecated in favor of reg:squarederror.\n",
      "  warnings.warn(smsg, UserWarning)\n"
     ]
    },
    {
     "name": "stdout",
     "output_type": "stream",
     "text": [
      "[399]\tvalidation_0-rmse:1.44267\tvalidation_1-rmse:2.60037\n",
      "[0]\tvalidation_0-rmse:4.62519\tvalidation_1-rmse:4.74576\n",
      "[100]\tvalidation_0-rmse:2.28682\tvalidation_1-rmse:2.09902\n",
      "[200]\tvalidation_0-rmse:1.69378\tvalidation_1-rmse:1.29343\n",
      "[300]\tvalidation_0-rmse:1.55191\tvalidation_1-rmse:1.22795\n"
     ]
    },
    {
     "name": "stderr",
     "output_type": "stream",
     "text": [
      "s:\\Pizza\\.venv\\Lib\\site-packages\\xgboost\\core.py:158: UserWarning: [16:56:34] WARNING: C:\\buildkite-agent\\builds\\buildkite-windows-cpu-autoscaling-group-i-06abd128ca6c1688d-1\\xgboost\\xgboost-ci-windows\\src\\objective\\regression_obj.cu:227: reg:linear is now deprecated in favor of reg:squarederror.\n",
      "  warnings.warn(smsg, UserWarning)\n"
     ]
    },
    {
     "name": "stdout",
     "output_type": "stream",
     "text": [
      "[374]\tvalidation_0-rmse:1.49781\tvalidation_1-rmse:1.23448\n",
      "[0]\tvalidation_0-rmse:4.62448\tvalidation_1-rmse:4.71529\n",
      "[100]\tvalidation_0-rmse:2.28448\tvalidation_1-rmse:2.74182\n",
      "[200]\tvalidation_0-rmse:1.69378\tvalidation_1-rmse:2.12847\n",
      "[300]\tvalidation_0-rmse:1.54913\tvalidation_1-rmse:2.01776\n"
     ]
    },
    {
     "name": "stderr",
     "output_type": "stream",
     "text": [
      "s:\\Pizza\\.venv\\Lib\\site-packages\\xgboost\\core.py:158: UserWarning: [16:56:34] WARNING: C:\\buildkite-agent\\builds\\buildkite-windows-cpu-autoscaling-group-i-06abd128ca6c1688d-1\\xgboost\\xgboost-ci-windows\\src\\objective\\regression_obj.cu:227: reg:linear is now deprecated in favor of reg:squarederror.\n",
      "  warnings.warn(smsg, UserWarning)\n"
     ]
    },
    {
     "name": "stdout",
     "output_type": "stream",
     "text": [
      "[399]\tvalidation_0-rmse:1.48227\tvalidation_1-rmse:1.99014\n",
      "Processing ital_supr_m...\n",
      "[0]\tvalidation_0-rmse:3.58670\tvalidation_1-rmse:2.80461\n",
      "[100]\tvalidation_0-rmse:1.86610\tvalidation_1-rmse:1.03584\n",
      "[197]\tvalidation_0-rmse:1.42646\tvalidation_1-rmse:0.97929\n",
      "[0]\tvalidation_0-rmse:3.56011\tvalidation_1-rmse:2.70461\n",
      "[100]\tvalidation_0-rmse:1.84302\tvalidation_1-rmse:1.43937\n"
     ]
    },
    {
     "name": "stderr",
     "output_type": "stream",
     "text": [
      "s:\\Pizza\\.venv\\Lib\\site-packages\\xgboost\\core.py:158: UserWarning: [16:56:34] WARNING: C:\\buildkite-agent\\builds\\buildkite-windows-cpu-autoscaling-group-i-06abd128ca6c1688d-1\\xgboost\\xgboost-ci-windows\\src\\objective\\regression_obj.cu:227: reg:linear is now deprecated in favor of reg:squarederror.\n",
      "  warnings.warn(smsg, UserWarning)\n",
      "s:\\Pizza\\.venv\\Lib\\site-packages\\xgboost\\core.py:158: UserWarning: [16:56:35] WARNING: C:\\buildkite-agent\\builds\\buildkite-windows-cpu-autoscaling-group-i-06abd128ca6c1688d-1\\xgboost\\xgboost-ci-windows\\src\\objective\\regression_obj.cu:227: reg:linear is now deprecated in favor of reg:squarederror.\n",
      "  warnings.warn(smsg, UserWarning)\n"
     ]
    },
    {
     "name": "stdout",
     "output_type": "stream",
     "text": [
      "[200]\tvalidation_0-rmse:1.40411\tvalidation_1-rmse:1.37109\n",
      "[203]\tvalidation_0-rmse:1.39868\tvalidation_1-rmse:1.37278\n",
      "[0]\tvalidation_0-rmse:3.53694\tvalidation_1-rmse:2.43155\n",
      "[100]\tvalidation_0-rmse:1.83668\tvalidation_1-rmse:1.11169\n",
      "[200]\tvalidation_0-rmse:1.41101\tvalidation_1-rmse:0.87712\n",
      "[277]\tvalidation_0-rmse:1.30674\tvalidation_1-rmse:0.86432\n"
     ]
    },
    {
     "name": "stderr",
     "output_type": "stream",
     "text": [
      "s:\\Pizza\\.venv\\Lib\\site-packages\\xgboost\\core.py:158: UserWarning: [16:56:35] WARNING: C:\\buildkite-agent\\builds\\buildkite-windows-cpu-autoscaling-group-i-06abd128ca6c1688d-1\\xgboost\\xgboost-ci-windows\\src\\objective\\regression_obj.cu:227: reg:linear is now deprecated in favor of reg:squarederror.\n",
      "  warnings.warn(smsg, UserWarning)\n"
     ]
    },
    {
     "name": "stdout",
     "output_type": "stream",
     "text": [
      "Processing prsc_argla_l...\n",
      "[0]\tvalidation_0-rmse:2.10708\tvalidation_1-rmse:1.59162\n",
      "[100]\tvalidation_0-rmse:1.18370\tvalidation_1-rmse:0.77404\n",
      "[200]\tvalidation_0-rmse:0.93614\tvalidation_1-rmse:0.63924\n",
      "[267]\tvalidation_0-rmse:0.86874\tvalidation_1-rmse:0.64300\n",
      "[0]\tvalidation_0-rmse:2.07286\tvalidation_1-rmse:1.91590\n"
     ]
    },
    {
     "name": "stderr",
     "output_type": "stream",
     "text": [
      "s:\\Pizza\\.venv\\Lib\\site-packages\\xgboost\\core.py:158: UserWarning: [16:56:35] WARNING: C:\\buildkite-agent\\builds\\buildkite-windows-cpu-autoscaling-group-i-06abd128ca6c1688d-1\\xgboost\\xgboost-ci-windows\\src\\objective\\regression_obj.cu:227: reg:linear is now deprecated in favor of reg:squarederror.\n",
      "  warnings.warn(smsg, UserWarning)\n",
      "s:\\Pizza\\.venv\\Lib\\site-packages\\xgboost\\core.py:158: UserWarning: [16:56:35] WARNING: C:\\buildkite-agent\\builds\\buildkite-windows-cpu-autoscaling-group-i-06abd128ca6c1688d-1\\xgboost\\xgboost-ci-windows\\src\\objective\\regression_obj.cu:227: reg:linear is now deprecated in favor of reg:squarederror.\n",
      "  warnings.warn(smsg, UserWarning)\n"
     ]
    },
    {
     "name": "stdout",
     "output_type": "stream",
     "text": [
      "[100]\tvalidation_0-rmse:1.22093\tvalidation_1-rmse:1.25282\n",
      "[200]\tvalidation_0-rmse:0.94817\tvalidation_1-rmse:1.16390\n",
      "[300]\tvalidation_0-rmse:0.85044\tvalidation_1-rmse:1.15631\n",
      "[392]\tvalidation_0-rmse:0.79318\tvalidation_1-rmse:1.16111\n",
      "[0]\tvalidation_0-rmse:2.05879\tvalidation_1-rmse:1.34955\n",
      "[100]\tvalidation_0-rmse:1.20792\tvalidation_1-rmse:0.73201\n",
      "[186]\tvalidation_0-rmse:0.98214\tvalidation_1-rmse:0.73293\n",
      "Processing bbq_ckn_s...\n",
      "[0]\tvalidation_0-rmse:2.14814\tvalidation_1-rmse:2.20536\n"
     ]
    },
    {
     "name": "stderr",
     "output_type": "stream",
     "text": [
      "s:\\Pizza\\.venv\\Lib\\site-packages\\xgboost\\core.py:158: UserWarning: [16:56:35] WARNING: C:\\buildkite-agent\\builds\\buildkite-windows-cpu-autoscaling-group-i-06abd128ca6c1688d-1\\xgboost\\xgboost-ci-windows\\src\\objective\\regression_obj.cu:227: reg:linear is now deprecated in favor of reg:squarederror.\n",
      "  warnings.warn(smsg, UserWarning)\n",
      "s:\\Pizza\\.venv\\Lib\\site-packages\\xgboost\\core.py:158: UserWarning: [16:56:36] WARNING: C:\\buildkite-agent\\builds\\buildkite-windows-cpu-autoscaling-group-i-06abd128ca6c1688d-1\\xgboost\\xgboost-ci-windows\\src\\objective\\regression_obj.cu:227: reg:linear is now deprecated in favor of reg:squarederror.\n",
      "  warnings.warn(smsg, UserWarning)\n"
     ]
    },
    {
     "name": "stdout",
     "output_type": "stream",
     "text": [
      "[100]\tvalidation_0-rmse:1.15934\tvalidation_1-rmse:1.49659\n",
      "[200]\tvalidation_0-rmse:0.89577\tvalidation_1-rmse:1.35815\n",
      "[300]\tvalidation_0-rmse:0.81334\tvalidation_1-rmse:1.34842\n",
      "[307]\tvalidation_0-rmse:0.80921\tvalidation_1-rmse:1.34885\n",
      "[0]\tvalidation_0-rmse:2.15743\tvalidation_1-rmse:1.69115\n",
      "[100]\tvalidation_0-rmse:1.19165\tvalidation_1-rmse:0.84514\n",
      "[200]\tvalidation_0-rmse:0.92463\tvalidation_1-rmse:0.73577\n",
      "[246]\tvalidation_0-rmse:0.88121\tvalidation_1-rmse:0.73541\n",
      "[0]\tvalidation_0-rmse:2.13077\tvalidation_1-rmse:2.18312\n"
     ]
    },
    {
     "name": "stderr",
     "output_type": "stream",
     "text": [
      "s:\\Pizza\\.venv\\Lib\\site-packages\\xgboost\\core.py:158: UserWarning: [16:56:36] WARNING: C:\\buildkite-agent\\builds\\buildkite-windows-cpu-autoscaling-group-i-06abd128ca6c1688d-1\\xgboost\\xgboost-ci-windows\\src\\objective\\regression_obj.cu:227: reg:linear is now deprecated in favor of reg:squarederror.\n",
      "  warnings.warn(smsg, UserWarning)\n",
      "s:\\Pizza\\.venv\\Lib\\site-packages\\xgboost\\core.py:158: UserWarning: [16:56:36] WARNING: C:\\buildkite-agent\\builds\\buildkite-windows-cpu-autoscaling-group-i-06abd128ca6c1688d-1\\xgboost\\xgboost-ci-windows\\src\\objective\\regression_obj.cu:227: reg:linear is now deprecated in favor of reg:squarederror.\n",
      "  warnings.warn(smsg, UserWarning)\n"
     ]
    },
    {
     "name": "stdout",
     "output_type": "stream",
     "text": [
      "[100]\tvalidation_0-rmse:1.17634\tvalidation_1-rmse:1.82275\n",
      "[106]\tvalidation_0-rmse:1.14888\tvalidation_1-rmse:1.84428\n",
      "Processing the_greek_s...\n",
      "[0]\tvalidation_0-rmse:1.43359\tvalidation_1-rmse:0.94833\n",
      "[100]\tvalidation_0-rmse:0.80256\tvalidation_1-rmse:0.49652\n",
      "[187]\tvalidation_0-rmse:0.61411\tvalidation_1-rmse:0.48528\n",
      "[0]\tvalidation_0-rmse:1.38183\tvalidation_1-rmse:1.55660\n",
      "[100]\tvalidation_0-rmse:0.75760\tvalidation_1-rmse:1.03864\n"
     ]
    },
    {
     "name": "stderr",
     "output_type": "stream",
     "text": [
      "s:\\Pizza\\.venv\\Lib\\site-packages\\xgboost\\core.py:158: UserWarning: [16:56:36] WARNING: C:\\buildkite-agent\\builds\\buildkite-windows-cpu-autoscaling-group-i-06abd128ca6c1688d-1\\xgboost\\xgboost-ci-windows\\src\\objective\\regression_obj.cu:227: reg:linear is now deprecated in favor of reg:squarederror.\n",
      "  warnings.warn(smsg, UserWarning)\n",
      "s:\\Pizza\\.venv\\Lib\\site-packages\\xgboost\\core.py:158: UserWarning: [16:56:36] WARNING: C:\\buildkite-agent\\builds\\buildkite-windows-cpu-autoscaling-group-i-06abd128ca6c1688d-1\\xgboost\\xgboost-ci-windows\\src\\objective\\regression_obj.cu:227: reg:linear is now deprecated in favor of reg:squarederror.\n",
      "  warnings.warn(smsg, UserWarning)\n"
     ]
    },
    {
     "name": "stdout",
     "output_type": "stream",
     "text": [
      "[200]\tvalidation_0-rmse:0.57058\tvalidation_1-rmse:0.87953\n",
      "[300]\tvalidation_0-rmse:0.51061\tvalidation_1-rmse:0.82880\n",
      "[399]\tvalidation_0-rmse:0.47039\tvalidation_1-rmse:0.81483\n",
      "[0]\tvalidation_0-rmse:1.39416\tvalidation_1-rmse:1.70046\n",
      "[100]\tvalidation_0-rmse:0.77263\tvalidation_1-rmse:1.30066\n",
      "[200]\tvalidation_0-rmse:0.58788\tvalidation_1-rmse:1.19937\n",
      "[300]\tvalidation_0-rmse:0.51867\tvalidation_1-rmse:1.18923\n"
     ]
    },
    {
     "name": "stderr",
     "output_type": "stream",
     "text": [
      "s:\\Pizza\\.venv\\Lib\\site-packages\\xgboost\\core.py:158: UserWarning: [16:56:37] WARNING: C:\\buildkite-agent\\builds\\buildkite-windows-cpu-autoscaling-group-i-06abd128ca6c1688d-1\\xgboost\\xgboost-ci-windows\\src\\objective\\regression_obj.cu:227: reg:linear is now deprecated in favor of reg:squarederror.\n",
      "  warnings.warn(smsg, UserWarning)\n"
     ]
    },
    {
     "name": "stdout",
     "output_type": "stream",
     "text": [
      "[399]\tvalidation_0-rmse:0.48382\tvalidation_1-rmse:1.17852\n",
      "Processing spinach_supr_s...\n",
      "[0]\tvalidation_0-rmse:2.07104\tvalidation_1-rmse:1.32182\n",
      "[100]\tvalidation_0-rmse:1.15788\tvalidation_1-rmse:0.67177\n",
      "[188]\tvalidation_0-rmse:0.93266\tvalidation_1-rmse:0.65324\n",
      "[0]\tvalidation_0-rmse:2.01652\tvalidation_1-rmse:2.04984\n",
      "[100]\tvalidation_0-rmse:1.12806\tvalidation_1-rmse:1.45085\n"
     ]
    },
    {
     "name": "stderr",
     "output_type": "stream",
     "text": [
      "s:\\Pizza\\.venv\\Lib\\site-packages\\xgboost\\core.py:158: UserWarning: [16:56:37] WARNING: C:\\buildkite-agent\\builds\\buildkite-windows-cpu-autoscaling-group-i-06abd128ca6c1688d-1\\xgboost\\xgboost-ci-windows\\src\\objective\\regression_obj.cu:227: reg:linear is now deprecated in favor of reg:squarederror.\n",
      "  warnings.warn(smsg, UserWarning)\n",
      "s:\\Pizza\\.venv\\Lib\\site-packages\\xgboost\\core.py:158: UserWarning: [16:56:37] WARNING: C:\\buildkite-agent\\builds\\buildkite-windows-cpu-autoscaling-group-i-06abd128ca6c1688d-1\\xgboost\\xgboost-ci-windows\\src\\objective\\regression_obj.cu:227: reg:linear is now deprecated in favor of reg:squarederror.\n",
      "  warnings.warn(smsg, UserWarning)\n"
     ]
    },
    {
     "name": "stdout",
     "output_type": "stream",
     "text": [
      "[200]\tvalidation_0-rmse:0.89306\tvalidation_1-rmse:1.35848\n",
      "[300]\tvalidation_0-rmse:0.82237\tvalidation_1-rmse:1.35957\n",
      "[0]\tvalidation_0-rmse:2.01102\tvalidation_1-rmse:2.06523\n",
      "[100]\tvalidation_0-rmse:1.14291\tvalidation_1-rmse:1.41917\n",
      "[200]\tvalidation_0-rmse:0.91580\tvalidation_1-rmse:1.40736\n",
      "[203]\tvalidation_0-rmse:0.91244\tvalidation_1-rmse:1.41010\n",
      "Processing classic_dlx_s...\n",
      "[0]\tvalidation_0-rmse:3.21452\tvalidation_1-rmse:3.71560\n"
     ]
    },
    {
     "name": "stderr",
     "output_type": "stream",
     "text": [
      "s:\\Pizza\\.venv\\Lib\\site-packages\\xgboost\\core.py:158: UserWarning: [16:56:37] WARNING: C:\\buildkite-agent\\builds\\buildkite-windows-cpu-autoscaling-group-i-06abd128ca6c1688d-1\\xgboost\\xgboost-ci-windows\\src\\objective\\regression_obj.cu:227: reg:linear is now deprecated in favor of reg:squarederror.\n",
      "  warnings.warn(smsg, UserWarning)\n",
      "s:\\Pizza\\.venv\\Lib\\site-packages\\xgboost\\core.py:158: UserWarning: [16:56:37] WARNING: C:\\buildkite-agent\\builds\\buildkite-windows-cpu-autoscaling-group-i-06abd128ca6c1688d-1\\xgboost\\xgboost-ci-windows\\src\\objective\\regression_obj.cu:227: reg:linear is now deprecated in favor of reg:squarederror.\n",
      "  warnings.warn(smsg, UserWarning)\n"
     ]
    },
    {
     "name": "stdout",
     "output_type": "stream",
     "text": [
      "[100]\tvalidation_0-rmse:1.72956\tvalidation_1-rmse:2.46455\n",
      "[200]\tvalidation_0-rmse:1.32657\tvalidation_1-rmse:2.21431\n",
      "[300]\tvalidation_0-rmse:1.19646\tvalidation_1-rmse:2.20799\n",
      "[311]\tvalidation_0-rmse:1.18695\tvalidation_1-rmse:2.21237\n",
      "[0]\tvalidation_0-rmse:3.23868\tvalidation_1-rmse:2.37856\n",
      "[100]\tvalidation_0-rmse:1.74925\tvalidation_1-rmse:1.05982\n",
      "[175]\tvalidation_0-rmse:1.40875\tvalidation_1-rmse:1.08667\n",
      "[0]\tvalidation_0-rmse:3.20836\tvalidation_1-rmse:2.57956\n",
      "[100]\tvalidation_0-rmse:1.73754\tvalidation_1-rmse:1.20425\n"
     ]
    },
    {
     "name": "stderr",
     "output_type": "stream",
     "text": [
      "s:\\Pizza\\.venv\\Lib\\site-packages\\xgboost\\core.py:158: UserWarning: [16:56:38] WARNING: C:\\buildkite-agent\\builds\\buildkite-windows-cpu-autoscaling-group-i-06abd128ca6c1688d-1\\xgboost\\xgboost-ci-windows\\src\\objective\\regression_obj.cu:227: reg:linear is now deprecated in favor of reg:squarederror.\n",
      "  warnings.warn(smsg, UserWarning)\n",
      "s:\\Pizza\\.venv\\Lib\\site-packages\\xgboost\\core.py:158: UserWarning: [16:56:38] WARNING: C:\\buildkite-agent\\builds\\buildkite-windows-cpu-autoscaling-group-i-06abd128ca6c1688d-1\\xgboost\\xgboost-ci-windows\\src\\objective\\regression_obj.cu:227: reg:linear is now deprecated in favor of reg:squarederror.\n",
      "  warnings.warn(smsg, UserWarning)\n"
     ]
    },
    {
     "name": "stdout",
     "output_type": "stream",
     "text": [
      "[200]\tvalidation_0-rmse:1.35392\tvalidation_1-rmse:1.04494\n",
      "[262]\tvalidation_0-rmse:1.26549\tvalidation_1-rmse:1.05265\n",
      "Processing green_garden_s...\n",
      "[0]\tvalidation_0-rmse:2.55419\tvalidation_1-rmse:1.72878\n",
      "[100]\tvalidation_0-rmse:1.43628\tvalidation_1-rmse:0.94210\n",
      "[188]\tvalidation_0-rmse:1.17173\tvalidation_1-rmse:0.94908\n",
      "[0]\tvalidation_0-rmse:2.51939\tvalidation_1-rmse:3.03709\n"
     ]
    },
    {
     "name": "stderr",
     "output_type": "stream",
     "text": [
      "s:\\Pizza\\.venv\\Lib\\site-packages\\xgboost\\core.py:158: UserWarning: [16:56:38] WARNING: C:\\buildkite-agent\\builds\\buildkite-windows-cpu-autoscaling-group-i-06abd128ca6c1688d-1\\xgboost\\xgboost-ci-windows\\src\\objective\\regression_obj.cu:227: reg:linear is now deprecated in favor of reg:squarederror.\n",
      "  warnings.warn(smsg, UserWarning)\n",
      "s:\\Pizza\\.venv\\Lib\\site-packages\\xgboost\\core.py:158: UserWarning: [16:56:38] WARNING: C:\\buildkite-agent\\builds\\buildkite-windows-cpu-autoscaling-group-i-06abd128ca6c1688d-1\\xgboost\\xgboost-ci-windows\\src\\objective\\regression_obj.cu:227: reg:linear is now deprecated in favor of reg:squarederror.\n",
      "  warnings.warn(smsg, UserWarning)\n"
     ]
    },
    {
     "name": "stdout",
     "output_type": "stream",
     "text": [
      "[100]\tvalidation_0-rmse:1.41089\tvalidation_1-rmse:2.28006\n",
      "[200]\tvalidation_0-rmse:1.13219\tvalidation_1-rmse:2.18508\n",
      "[271]\tvalidation_0-rmse:1.06373\tvalidation_1-rmse:2.18968\n",
      "[0]\tvalidation_0-rmse:2.54874\tvalidation_1-rmse:1.69470\n",
      "[100]\tvalidation_0-rmse:1.45042\tvalidation_1-rmse:1.04548\n",
      "[190]\tvalidation_0-rmse:1.18716\tvalidation_1-rmse:1.03599\n",
      "Processing ital_cpcllo_l..."
     ]
    },
    {
     "name": "stderr",
     "output_type": "stream",
     "text": [
      "s:\\Pizza\\.venv\\Lib\\site-packages\\xgboost\\core.py:158: UserWarning: [16:56:38] WARNING: C:\\buildkite-agent\\builds\\buildkite-windows-cpu-autoscaling-group-i-06abd128ca6c1688d-1\\xgboost\\xgboost-ci-windows\\src\\objective\\regression_obj.cu:227: reg:linear is now deprecated in favor of reg:squarederror.\n",
      "  warnings.warn(smsg, UserWarning)\n"
     ]
    },
    {
     "name": "stdout",
     "output_type": "stream",
     "text": [
      "\n",
      "[0]\tvalidation_0-rmse:2.97300\tvalidation_1-rmse:2.55290\n",
      "[100]\tvalidation_0-rmse:1.65924\tvalidation_1-rmse:1.67620\n",
      "[200]\tvalidation_0-rmse:1.30747\tvalidation_1-rmse:1.42212\n",
      "[300]\tvalidation_0-rmse:1.19499\tvalidation_1-rmse:1.35105\n"
     ]
    },
    {
     "name": "stderr",
     "output_type": "stream",
     "text": [
      "s:\\Pizza\\.venv\\Lib\\site-packages\\xgboost\\core.py:158: UserWarning: [16:56:39] WARNING: C:\\buildkite-agent\\builds\\buildkite-windows-cpu-autoscaling-group-i-06abd128ca6c1688d-1\\xgboost\\xgboost-ci-windows\\src\\objective\\regression_obj.cu:227: reg:linear is now deprecated in favor of reg:squarederror.\n",
      "  warnings.warn(smsg, UserWarning)\n"
     ]
    },
    {
     "name": "stdout",
     "output_type": "stream",
     "text": [
      "[394]\tvalidation_0-rmse:1.13410\tvalidation_1-rmse:1.34388\n",
      "[0]\tvalidation_0-rmse:2.95474\tvalidation_1-rmse:2.34069\n",
      "[100]\tvalidation_0-rmse:1.64706\tvalidation_1-rmse:1.08790\n",
      "[200]\tvalidation_0-rmse:1.30174\tvalidation_1-rmse:0.92355\n",
      "[239]\tvalidation_0-rmse:1.24795\tvalidation_1-rmse:0.92901\n"
     ]
    },
    {
     "name": "stderr",
     "output_type": "stream",
     "text": [
      "s:\\Pizza\\.venv\\Lib\\site-packages\\xgboost\\core.py:158: UserWarning: [16:56:39] WARNING: C:\\buildkite-agent\\builds\\buildkite-windows-cpu-autoscaling-group-i-06abd128ca6c1688d-1\\xgboost\\xgboost-ci-windows\\src\\objective\\regression_obj.cu:227: reg:linear is now deprecated in favor of reg:squarederror.\n",
      "  warnings.warn(smsg, UserWarning)\n"
     ]
    },
    {
     "name": "stdout",
     "output_type": "stream",
     "text": [
      "[0]\tvalidation_0-rmse:2.92961\tvalidation_1-rmse:2.76951\n",
      "[100]\tvalidation_0-rmse:1.63987\tvalidation_1-rmse:1.69532\n",
      "[200]\tvalidation_0-rmse:1.29644\tvalidation_1-rmse:1.38002\n",
      "[289]\tvalidation_0-rmse:1.19572\tvalidation_1-rmse:1.37953\n"
     ]
    },
    {
     "name": "stderr",
     "output_type": "stream",
     "text": [
      "s:\\Pizza\\.venv\\Lib\\site-packages\\xgboost\\core.py:158: UserWarning: [16:56:39] WARNING: C:\\buildkite-agent\\builds\\buildkite-windows-cpu-autoscaling-group-i-06abd128ca6c1688d-1\\xgboost\\xgboost-ci-windows\\src\\objective\\regression_obj.cu:227: reg:linear is now deprecated in favor of reg:squarederror.\n",
      "  warnings.warn(smsg, UserWarning)\n"
     ]
    },
    {
     "name": "stdout",
     "output_type": "stream",
     "text": [
      "Processing ital_supr_s...\n",
      "[0]\tvalidation_0-rmse:1.40258\tvalidation_1-rmse:0.87573\n",
      "[100]\tvalidation_0-rmse:0.75853\tvalidation_1-rmse:0.56525\n",
      "[132]\tvalidation_0-rmse:0.66528\tvalidation_1-rmse:0.59904\n",
      "[0]\tvalidation_0-rmse:1.29746\tvalidation_1-rmse:1.44720\n",
      "[100]\tvalidation_0-rmse:0.72163\tvalidation_1-rmse:0.96482\n",
      "[200]\tvalidation_0-rmse:0.51139\tvalidation_1-rmse:0.88022\n"
     ]
    },
    {
     "name": "stderr",
     "output_type": "stream",
     "text": [
      "s:\\Pizza\\.venv\\Lib\\site-packages\\xgboost\\core.py:158: UserWarning: [16:56:39] WARNING: C:\\buildkite-agent\\builds\\buildkite-windows-cpu-autoscaling-group-i-06abd128ca6c1688d-1\\xgboost\\xgboost-ci-windows\\src\\objective\\regression_obj.cu:227: reg:linear is now deprecated in favor of reg:squarederror.\n",
      "  warnings.warn(smsg, UserWarning)\n",
      "s:\\Pizza\\.venv\\Lib\\site-packages\\xgboost\\core.py:158: UserWarning: [16:56:39] WARNING: C:\\buildkite-agent\\builds\\buildkite-windows-cpu-autoscaling-group-i-06abd128ca6c1688d-1\\xgboost\\xgboost-ci-windows\\src\\objective\\regression_obj.cu:227: reg:linear is now deprecated in favor of reg:squarederror.\n",
      "  warnings.warn(smsg, UserWarning)\n"
     ]
    },
    {
     "name": "stdout",
     "output_type": "stream",
     "text": [
      "[300]\tvalidation_0-rmse:0.41039\tvalidation_1-rmse:0.86645\n",
      "[320]\tvalidation_0-rmse:0.39586\tvalidation_1-rmse:0.86778\n",
      "[0]\tvalidation_0-rmse:1.32558\tvalidation_1-rmse:0.98094\n",
      "[100]\tvalidation_0-rmse:0.73447\tvalidation_1-rmse:0.49618\n",
      "[200]\tvalidation_0-rmse:0.54009\tvalidation_1-rmse:0.46120\n",
      "[298]\tvalidation_0-rmse:0.46682\tvalidation_1-rmse:0.46411\n"
     ]
    },
    {
     "name": "stderr",
     "output_type": "stream",
     "text": [
      "s:\\Pizza\\.venv\\Lib\\site-packages\\xgboost\\core.py:158: UserWarning: [16:56:40] WARNING: C:\\buildkite-agent\\builds\\buildkite-windows-cpu-autoscaling-group-i-06abd128ca6c1688d-1\\xgboost\\xgboost-ci-windows\\src\\objective\\regression_obj.cu:227: reg:linear is now deprecated in favor of reg:squarederror.\n",
      "  warnings.warn(smsg, UserWarning)\n"
     ]
    },
    {
     "name": "stdout",
     "output_type": "stream",
     "text": [
      "Processing mexicana_s...\n",
      "[0]\tvalidation_0-rmse:1.32610\tvalidation_1-rmse:1.04857\n",
      "[100]\tvalidation_0-rmse:0.68662\tvalidation_1-rmse:0.66500\n",
      "[200]\tvalidation_0-rmse:0.45440\tvalidation_1-rmse:0.56948\n",
      "[280]\tvalidation_0-rmse:0.38389\tvalidation_1-rmse:0.57341\n",
      "[0]\tvalidation_0-rmse:1.24058\tvalidation_1-rmse:1.16975\n",
      "[100]\tvalidation_0-rmse:0.67090\tvalidation_1-rmse:0.80924\n"
     ]
    },
    {
     "name": "stderr",
     "output_type": "stream",
     "text": [
      "s:\\Pizza\\.venv\\Lib\\site-packages\\xgboost\\core.py:158: UserWarning: [16:56:40] WARNING: C:\\buildkite-agent\\builds\\buildkite-windows-cpu-autoscaling-group-i-06abd128ca6c1688d-1\\xgboost\\xgboost-ci-windows\\src\\objective\\regression_obj.cu:227: reg:linear is now deprecated in favor of reg:squarederror.\n",
      "  warnings.warn(smsg, UserWarning)\n",
      "s:\\Pizza\\.venv\\Lib\\site-packages\\xgboost\\core.py:158: UserWarning: [16:56:40] WARNING: C:\\buildkite-agent\\builds\\buildkite-windows-cpu-autoscaling-group-i-06abd128ca6c1688d-1\\xgboost\\xgboost-ci-windows\\src\\objective\\regression_obj.cu:227: reg:linear is now deprecated in favor of reg:squarederror.\n",
      "  warnings.warn(smsg, UserWarning)\n"
     ]
    },
    {
     "name": "stdout",
     "output_type": "stream",
     "text": [
      "[200]\tvalidation_0-rmse:0.49476\tvalidation_1-rmse:0.72050\n",
      "[300]\tvalidation_0-rmse:0.41416\tvalidation_1-rmse:0.70253\n",
      "[349]\tvalidation_0-rmse:0.39078\tvalidation_1-rmse:0.70715\n",
      "[0]\tvalidation_0-rmse:1.23016\tvalidation_1-rmse:1.16793\n",
      "[100]\tvalidation_0-rmse:0.67604\tvalidation_1-rmse:0.76956\n",
      "[200]\tvalidation_0-rmse:0.50270\tvalidation_1-rmse:0.71019\n",
      "[300]\tvalidation_0-rmse:0.43337\tvalidation_1-rmse:0.68197\n"
     ]
    },
    {
     "name": "stderr",
     "output_type": "stream",
     "text": [
      "s:\\Pizza\\.venv\\Lib\\site-packages\\xgboost\\core.py:158: UserWarning: [16:56:40] WARNING: C:\\buildkite-agent\\builds\\buildkite-windows-cpu-autoscaling-group-i-06abd128ca6c1688d-1\\xgboost\\xgboost-ci-windows\\src\\objective\\regression_obj.cu:227: reg:linear is now deprecated in favor of reg:squarederror.\n",
      "  warnings.warn(smsg, UserWarning)\n"
     ]
    },
    {
     "name": "stdout",
     "output_type": "stream",
     "text": [
      "[399]\tvalidation_0-rmse:0.39167\tvalidation_1-rmse:0.67281\n",
      "Processing spicy_ital_l...\n",
      "[0]\tvalidation_0-rmse:4.10674\tvalidation_1-rmse:3.63287\n",
      "[100]\tvalidation_0-rmse:2.18298\tvalidation_1-rmse:1.59995\n",
      "[200]\tvalidation_0-rmse:1.68021\tvalidation_1-rmse:0.99981\n",
      "[282]\tvalidation_0-rmse:1.54802\tvalidation_1-rmse:0.96635\n",
      "[0]\tvalidation_0-rmse:4.09377\tvalidation_1-rmse:3.61745\n"
     ]
    },
    {
     "name": "stderr",
     "output_type": "stream",
     "text": [
      "s:\\Pizza\\.venv\\Lib\\site-packages\\xgboost\\core.py:158: UserWarning: [16:56:41] WARNING: C:\\buildkite-agent\\builds\\buildkite-windows-cpu-autoscaling-group-i-06abd128ca6c1688d-1\\xgboost\\xgboost-ci-windows\\src\\objective\\regression_obj.cu:227: reg:linear is now deprecated in favor of reg:squarederror.\n",
      "  warnings.warn(smsg, UserWarning)\n",
      "s:\\Pizza\\.venv\\Lib\\site-packages\\xgboost\\core.py:158: UserWarning: [16:56:41] WARNING: C:\\buildkite-agent\\builds\\buildkite-windows-cpu-autoscaling-group-i-06abd128ca6c1688d-1\\xgboost\\xgboost-ci-windows\\src\\objective\\regression_obj.cu:227: reg:linear is now deprecated in favor of reg:squarederror.\n",
      "  warnings.warn(smsg, UserWarning)\n"
     ]
    },
    {
     "name": "stdout",
     "output_type": "stream",
     "text": [
      "[100]\tvalidation_0-rmse:2.17353\tvalidation_1-rmse:1.80419\n",
      "[200]\tvalidation_0-rmse:1.68112\tvalidation_1-rmse:1.57224\n",
      "[291]\tvalidation_0-rmse:1.53104\tvalidation_1-rmse:1.55635\n",
      "[0]\tvalidation_0-rmse:4.07953\tvalidation_1-rmse:3.73699\n",
      "[100]\tvalidation_0-rmse:2.17676\tvalidation_1-rmse:2.42195\n",
      "[200]\tvalidation_0-rmse:1.66363\tvalidation_1-rmse:2.21062\n",
      "[233]\tvalidation_0-rmse:1.59888\tvalidation_1-rmse:2.23330\n"
     ]
    },
    {
     "name": "stderr",
     "output_type": "stream",
     "text": [
      "s:\\Pizza\\.venv\\Lib\\site-packages\\xgboost\\core.py:158: UserWarning: [16:56:41] WARNING: C:\\buildkite-agent\\builds\\buildkite-windows-cpu-autoscaling-group-i-06abd128ca6c1688d-1\\xgboost\\xgboost-ci-windows\\src\\objective\\regression_obj.cu:227: reg:linear is now deprecated in favor of reg:squarederror.\n",
      "  warnings.warn(smsg, UserWarning)\n"
     ]
    },
    {
     "name": "stdout",
     "output_type": "stream",
     "text": [
      "Processing spin_pesto_l...\n",
      "[0]\tvalidation_0-rmse:1.61965\tvalidation_1-rmse:1.27483\n",
      "[100]\tvalidation_0-rmse:0.84402\tvalidation_1-rmse:0.77108\n",
      "[200]\tvalidation_0-rmse:0.60495\tvalidation_1-rmse:0.73773\n",
      "[217]\tvalidation_0-rmse:0.58472\tvalidation_1-rmse:0.74375\n"
     ]
    },
    {
     "name": "stderr",
     "output_type": "stream",
     "text": [
      "s:\\Pizza\\.venv\\Lib\\site-packages\\xgboost\\core.py:158: UserWarning: [16:56:41] WARNING: C:\\buildkite-agent\\builds\\buildkite-windows-cpu-autoscaling-group-i-06abd128ca6c1688d-1\\xgboost\\xgboost-ci-windows\\src\\objective\\regression_obj.cu:227: reg:linear is now deprecated in favor of reg:squarederror.\n",
      "  warnings.warn(smsg, UserWarning)\n",
      "s:\\Pizza\\.venv\\Lib\\site-packages\\xgboost\\core.py:158: UserWarning: [16:56:41] WARNING: C:\\buildkite-agent\\builds\\buildkite-windows-cpu-autoscaling-group-i-06abd128ca6c1688d-1\\xgboost\\xgboost-ci-windows\\src\\objective\\regression_obj.cu:227: reg:linear is now deprecated in favor of reg:squarederror.\n",
      "  warnings.warn(smsg, UserWarning)\n"
     ]
    },
    {
     "name": "stdout",
     "output_type": "stream",
     "text": [
      "[0]\tvalidation_0-rmse:1.57640\tvalidation_1-rmse:1.16895\n",
      "[100]\tvalidation_0-rmse:0.83867\tvalidation_1-rmse:0.78176\n",
      "[200]\tvalidation_0-rmse:0.61526\tvalidation_1-rmse:0.74843\n",
      "[222]\tvalidation_0-rmse:0.58908\tvalidation_1-rmse:0.75288\n",
      "[0]\tvalidation_0-rmse:1.53315\tvalidation_1-rmse:1.07995\n",
      "[100]\tvalidation_0-rmse:0.84200\tvalidation_1-rmse:0.61329\n",
      "[200]\tvalidation_0-rmse:0.63853\tvalidation_1-rmse:0.52329\n",
      "[300]\tvalidation_0-rmse:0.56159\tvalidation_1-rmse:0.49003\n"
     ]
    },
    {
     "name": "stderr",
     "output_type": "stream",
     "text": [
      "s:\\Pizza\\.venv\\Lib\\site-packages\\xgboost\\core.py:158: UserWarning: [16:56:42] WARNING: C:\\buildkite-agent\\builds\\buildkite-windows-cpu-autoscaling-group-i-06abd128ca6c1688d-1\\xgboost\\xgboost-ci-windows\\src\\objective\\regression_obj.cu:227: reg:linear is now deprecated in favor of reg:squarederror.\n",
      "  warnings.warn(smsg, UserWarning)\n"
     ]
    },
    {
     "name": "stdout",
     "output_type": "stream",
     "text": [
      "[399]\tvalidation_0-rmse:0.52260\tvalidation_1-rmse:0.47016\n",
      "Processing veggie_veg_s...\n",
      "[0]\tvalidation_0-rmse:2.03388\tvalidation_1-rmse:1.94416\n",
      "[100]\tvalidation_0-rmse:1.11586\tvalidation_1-rmse:1.18423\n",
      "[200]\tvalidation_0-rmse:0.85983\tvalidation_1-rmse:1.06090\n"
     ]
    },
    {
     "name": "stderr",
     "output_type": "stream",
     "text": [
      "s:\\Pizza\\.venv\\Lib\\site-packages\\xgboost\\core.py:158: UserWarning: [16:56:42] WARNING: C:\\buildkite-agent\\builds\\buildkite-windows-cpu-autoscaling-group-i-06abd128ca6c1688d-1\\xgboost\\xgboost-ci-windows\\src\\objective\\regression_obj.cu:227: reg:linear is now deprecated in favor of reg:squarederror.\n",
      "  warnings.warn(smsg, UserWarning)\n"
     ]
    },
    {
     "name": "stdout",
     "output_type": "stream",
     "text": [
      "[300]\tvalidation_0-rmse:0.77873\tvalidation_1-rmse:1.02137\n",
      "[348]\tvalidation_0-rmse:0.75591\tvalidation_1-rmse:1.05455\n",
      "[0]\tvalidation_0-rmse:2.02751\tvalidation_1-rmse:2.64072\n",
      "[100]\tvalidation_0-rmse:1.12246\tvalidation_1-rmse:1.69789\n",
      "[200]\tvalidation_0-rmse:0.87831\tvalidation_1-rmse:1.41303\n"
     ]
    },
    {
     "name": "stderr",
     "output_type": "stream",
     "text": [
      "s:\\Pizza\\.venv\\Lib\\site-packages\\xgboost\\core.py:158: UserWarning: [16:56:42] WARNING: C:\\buildkite-agent\\builds\\buildkite-windows-cpu-autoscaling-group-i-06abd128ca6c1688d-1\\xgboost\\xgboost-ci-windows\\src\\objective\\regression_obj.cu:227: reg:linear is now deprecated in favor of reg:squarederror.\n",
      "  warnings.warn(smsg, UserWarning)\n"
     ]
    },
    {
     "name": "stdout",
     "output_type": "stream",
     "text": [
      "[300]\tvalidation_0-rmse:0.79382\tvalidation_1-rmse:1.32879\n",
      "[399]\tvalidation_0-rmse:0.74864\tvalidation_1-rmse:1.29470\n",
      "[0]\tvalidation_0-rmse:2.07823\tvalidation_1-rmse:2.14145\n",
      "[100]\tvalidation_0-rmse:1.14749\tvalidation_1-rmse:1.41977\n",
      "[200]\tvalidation_0-rmse:0.88260\tvalidation_1-rmse:1.28672\n"
     ]
    },
    {
     "name": "stderr",
     "output_type": "stream",
     "text": [
      "s:\\Pizza\\.venv\\Lib\\site-packages\\xgboost\\core.py:158: UserWarning: [16:56:43] WARNING: C:\\buildkite-agent\\builds\\buildkite-windows-cpu-autoscaling-group-i-06abd128ca6c1688d-1\\xgboost\\xgboost-ci-windows\\src\\objective\\regression_obj.cu:227: reg:linear is now deprecated in favor of reg:squarederror.\n",
      "  warnings.warn(smsg, UserWarning)\n"
     ]
    },
    {
     "name": "stdout",
     "output_type": "stream",
     "text": [
      "[300]\tvalidation_0-rmse:0.79736\tvalidation_1-rmse:1.26571\n",
      "[319]\tvalidation_0-rmse:0.78897\tvalidation_1-rmse:1.26550\n",
      "Processing mexicana_l...\n",
      "[0]\tvalidation_0-rmse:3.45377\tvalidation_1-rmse:6.40806\n",
      "[100]\tvalidation_0-rmse:1.87806\tvalidation_1-rmse:5.09316\n",
      "[200]\tvalidation_0-rmse:1.47402\tvalidation_1-rmse:4.76944\n"
     ]
    },
    {
     "name": "stderr",
     "output_type": "stream",
     "text": [
      "s:\\Pizza\\.venv\\Lib\\site-packages\\xgboost\\core.py:158: UserWarning: [16:56:43] WARNING: C:\\buildkite-agent\\builds\\buildkite-windows-cpu-autoscaling-group-i-06abd128ca6c1688d-1\\xgboost\\xgboost-ci-windows\\src\\objective\\regression_obj.cu:227: reg:linear is now deprecated in favor of reg:squarederror.\n",
      "  warnings.warn(smsg, UserWarning)\n"
     ]
    },
    {
     "name": "stdout",
     "output_type": "stream",
     "text": [
      "[300]\tvalidation_0-rmse:1.29908\tvalidation_1-rmse:4.59080\n",
      "[395]\tvalidation_0-rmse:1.20790\tvalidation_1-rmse:4.57066\n",
      "[0]\tvalidation_0-rmse:3.60522\tvalidation_1-rmse:3.06706\n",
      "[100]\tvalidation_0-rmse:1.93089\tvalidation_1-rmse:1.72107\n",
      "[200]\tvalidation_0-rmse:1.46854\tvalidation_1-rmse:1.61927\n",
      "[204]\tvalidation_0-rmse:1.46069\tvalidation_1-rmse:1.62100\n",
      "[0]\tvalidation_0-rmse:3.59194\tvalidation_1-rmse:2.49018\n"
     ]
    },
    {
     "name": "stderr",
     "output_type": "stream",
     "text": [
      "s:\\Pizza\\.venv\\Lib\\site-packages\\xgboost\\core.py:158: UserWarning: [16:56:44] WARNING: C:\\buildkite-agent\\builds\\buildkite-windows-cpu-autoscaling-group-i-06abd128ca6c1688d-1\\xgboost\\xgboost-ci-windows\\src\\objective\\regression_obj.cu:227: reg:linear is now deprecated in favor of reg:squarederror.\n",
      "  warnings.warn(smsg, UserWarning)\n",
      "s:\\Pizza\\.venv\\Lib\\site-packages\\xgboost\\core.py:158: UserWarning: [16:56:44] WARNING: C:\\buildkite-agent\\builds\\buildkite-windows-cpu-autoscaling-group-i-06abd128ca6c1688d-1\\xgboost\\xgboost-ci-windows\\src\\objective\\regression_obj.cu:227: reg:linear is now deprecated in favor of reg:squarederror.\n",
      "  warnings.warn(smsg, UserWarning)\n"
     ]
    },
    {
     "name": "stdout",
     "output_type": "stream",
     "text": [
      "[100]\tvalidation_0-rmse:1.92541\tvalidation_1-rmse:1.21814\n",
      "[168]\tvalidation_0-rmse:1.57264\tvalidation_1-rmse:1.26904\n",
      "Processing southw_ckn_l...\n",
      "[0]\tvalidation_0-rmse:3.68422\tvalidation_1-rmse:3.53062\n",
      "[100]\tvalidation_0-rmse:1.90472\tvalidation_1-rmse:2.20554\n",
      "[200]\tvalidation_0-rmse:1.43511\tvalidation_1-rmse:2.01596\n"
     ]
    },
    {
     "name": "stderr",
     "output_type": "stream",
     "text": [
      "s:\\Pizza\\.venv\\Lib\\site-packages\\xgboost\\core.py:158: UserWarning: [16:56:44] WARNING: C:\\buildkite-agent\\builds\\buildkite-windows-cpu-autoscaling-group-i-06abd128ca6c1688d-1\\xgboost\\xgboost-ci-windows\\src\\objective\\regression_obj.cu:227: reg:linear is now deprecated in favor of reg:squarederror.\n",
      "  warnings.warn(smsg, UserWarning)\n"
     ]
    },
    {
     "name": "stdout",
     "output_type": "stream",
     "text": [
      "[272]\tvalidation_0-rmse:1.33556\tvalidation_1-rmse:2.02570\n",
      "[0]\tvalidation_0-rmse:3.68105\tvalidation_1-rmse:4.11614\n",
      "[100]\tvalidation_0-rmse:1.91365\tvalidation_1-rmse:2.45060\n",
      "[200]\tvalidation_0-rmse:1.46714\tvalidation_1-rmse:2.03165\n"
     ]
    },
    {
     "name": "stderr",
     "output_type": "stream",
     "text": [
      "s:\\Pizza\\.venv\\Lib\\site-packages\\xgboost\\core.py:158: UserWarning: [16:56:44] WARNING: C:\\buildkite-agent\\builds\\buildkite-windows-cpu-autoscaling-group-i-06abd128ca6c1688d-1\\xgboost\\xgboost-ci-windows\\src\\objective\\regression_obj.cu:227: reg:linear is now deprecated in favor of reg:squarederror.\n",
      "  warnings.warn(smsg, UserWarning)\n"
     ]
    },
    {
     "name": "stdout",
     "output_type": "stream",
     "text": [
      "[300]\tvalidation_0-rmse:1.34839\tvalidation_1-rmse:1.95595\n",
      "[365]\tvalidation_0-rmse:1.30383\tvalidation_1-rmse:1.96783\n",
      "[0]\tvalidation_0-rmse:3.69498\tvalidation_1-rmse:2.53569\n",
      "[100]\tvalidation_0-rmse:1.91753\tvalidation_1-rmse:1.06597\n",
      "[183]\tvalidation_0-rmse:1.50222\tvalidation_1-rmse:1.05617\n"
     ]
    },
    {
     "name": "stderr",
     "output_type": "stream",
     "text": [
      "s:\\Pizza\\.venv\\Lib\\site-packages\\xgboost\\core.py:158: UserWarning: [16:56:45] WARNING: C:\\buildkite-agent\\builds\\buildkite-windows-cpu-autoscaling-group-i-06abd128ca6c1688d-1\\xgboost\\xgboost-ci-windows\\src\\objective\\regression_obj.cu:227: reg:linear is now deprecated in favor of reg:squarederror.\n",
      "  warnings.warn(smsg, UserWarning)\n"
     ]
    },
    {
     "name": "stdout",
     "output_type": "stream",
     "text": [
      "Processing bbq_ckn_l...\n",
      "[0]\tvalidation_0-rmse:3.82916\tvalidation_1-rmse:3.34275\n",
      "[100]\tvalidation_0-rmse:2.04424\tvalidation_1-rmse:1.67991\n",
      "[200]\tvalidation_0-rmse:1.57330\tvalidation_1-rmse:1.38343\n"
     ]
    },
    {
     "name": "stderr",
     "output_type": "stream",
     "text": [
      "s:\\Pizza\\.venv\\Lib\\site-packages\\xgboost\\core.py:158: UserWarning: [16:56:45] WARNING: C:\\buildkite-agent\\builds\\buildkite-windows-cpu-autoscaling-group-i-06abd128ca6c1688d-1\\xgboost\\xgboost-ci-windows\\src\\objective\\regression_obj.cu:227: reg:linear is now deprecated in favor of reg:squarederror.\n",
      "  warnings.warn(smsg, UserWarning)\n"
     ]
    },
    {
     "name": "stdout",
     "output_type": "stream",
     "text": [
      "[300]\tvalidation_0-rmse:1.43292\tvalidation_1-rmse:1.28479\n",
      "[381]\tvalidation_0-rmse:1.36569\tvalidation_1-rmse:1.28720\n",
      "[0]\tvalidation_0-rmse:3.81841\tvalidation_1-rmse:3.52600\n",
      "[100]\tvalidation_0-rmse:2.03648\tvalidation_1-rmse:1.81909\n",
      "[200]\tvalidation_0-rmse:1.57658\tvalidation_1-rmse:1.47855\n"
     ]
    },
    {
     "name": "stderr",
     "output_type": "stream",
     "text": [
      "s:\\Pizza\\.venv\\Lib\\site-packages\\xgboost\\core.py:158: UserWarning: [16:56:45] WARNING: C:\\buildkite-agent\\builds\\buildkite-windows-cpu-autoscaling-group-i-06abd128ca6c1688d-1\\xgboost\\xgboost-ci-windows\\src\\objective\\regression_obj.cu:227: reg:linear is now deprecated in favor of reg:squarederror.\n",
      "  warnings.warn(smsg, UserWarning)\n"
     ]
    },
    {
     "name": "stdout",
     "output_type": "stream",
     "text": [
      "[273]\tvalidation_0-rmse:1.46889\tvalidation_1-rmse:1.46794\n",
      "[0]\tvalidation_0-rmse:3.80629\tvalidation_1-rmse:3.37468\n",
      "[100]\tvalidation_0-rmse:2.02035\tvalidation_1-rmse:1.88586\n",
      "[200]\tvalidation_0-rmse:1.56026\tvalidation_1-rmse:1.67566\n"
     ]
    },
    {
     "name": "stderr",
     "output_type": "stream",
     "text": [
      "s:\\Pizza\\.venv\\Lib\\site-packages\\xgboost\\core.py:158: UserWarning: [16:56:46] WARNING: C:\\buildkite-agent\\builds\\buildkite-windows-cpu-autoscaling-group-i-06abd128ca6c1688d-1\\xgboost\\xgboost-ci-windows\\src\\objective\\regression_obj.cu:227: reg:linear is now deprecated in favor of reg:squarederror.\n",
      "  warnings.warn(smsg, UserWarning)\n"
     ]
    },
    {
     "name": "stdout",
     "output_type": "stream",
     "text": [
      "[300]\tvalidation_0-rmse:1.43378\tvalidation_1-rmse:1.67012\n",
      "[321]\tvalidation_0-rmse:1.41588\tvalidation_1-rmse:1.67493\n",
      "Processing cali_ckn_l...\n",
      "[0]\tvalidation_0-rmse:3.43954\tvalidation_1-rmse:4.11226\n",
      "[100]\tvalidation_0-rmse:1.84972\tvalidation_1-rmse:2.22130\n",
      "[200]\tvalidation_0-rmse:1.44849\tvalidation_1-rmse:1.80748\n",
      "[257]\tvalidation_0-rmse:1.35691\tvalidation_1-rmse:1.83514\n"
     ]
    },
    {
     "name": "stderr",
     "output_type": "stream",
     "text": [
      "s:\\Pizza\\.venv\\Lib\\site-packages\\xgboost\\core.py:158: UserWarning: [16:56:46] WARNING: C:\\buildkite-agent\\builds\\buildkite-windows-cpu-autoscaling-group-i-06abd128ca6c1688d-1\\xgboost\\xgboost-ci-windows\\src\\objective\\regression_obj.cu:227: reg:linear is now deprecated in favor of reg:squarederror.\n",
      "  warnings.warn(smsg, UserWarning)\n"
     ]
    },
    {
     "name": "stdout",
     "output_type": "stream",
     "text": [
      "[0]\tvalidation_0-rmse:3.47524\tvalidation_1-rmse:3.88829\n",
      "[100]\tvalidation_0-rmse:1.88007\tvalidation_1-rmse:2.23718\n",
      "[200]\tvalidation_0-rmse:1.46451\tvalidation_1-rmse:1.86331\n",
      "[284]\tvalidation_0-rmse:1.35179\tvalidation_1-rmse:1.85146\n"
     ]
    },
    {
     "name": "stderr",
     "output_type": "stream",
     "text": [
      "s:\\Pizza\\.venv\\Lib\\site-packages\\xgboost\\core.py:158: UserWarning: [16:56:46] WARNING: C:\\buildkite-agent\\builds\\buildkite-windows-cpu-autoscaling-group-i-06abd128ca6c1688d-1\\xgboost\\xgboost-ci-windows\\src\\objective\\regression_obj.cu:227: reg:linear is now deprecated in favor of reg:squarederror.\n",
      "  warnings.warn(smsg, UserWarning)\n"
     ]
    },
    {
     "name": "stdout",
     "output_type": "stream",
     "text": [
      "[0]\tvalidation_0-rmse:3.48724\tvalidation_1-rmse:2.50932\n",
      "[100]\tvalidation_0-rmse:1.88643\tvalidation_1-rmse:1.01731\n",
      "[145]\tvalidation_0-rmse:1.62607\tvalidation_1-rmse:1.13201\n"
     ]
    },
    {
     "name": "stderr",
     "output_type": "stream",
     "text": [
      "s:\\Pizza\\.venv\\Lib\\site-packages\\xgboost\\core.py:158: UserWarning: [16:56:47] WARNING: C:\\buildkite-agent\\builds\\buildkite-windows-cpu-autoscaling-group-i-06abd128ca6c1688d-1\\xgboost\\xgboost-ci-windows\\src\\objective\\regression_obj.cu:227: reg:linear is now deprecated in favor of reg:squarederror.\n",
      "  warnings.warn(smsg, UserWarning)\n"
     ]
    },
    {
     "name": "stdout",
     "output_type": "stream",
     "text": [
      "Processing cali_ckn_m...\n",
      "[0]\tvalidation_0-rmse:3.46835\tvalidation_1-rmse:3.65136\n",
      "[100]\tvalidation_0-rmse:1.82467\tvalidation_1-rmse:2.09007\n",
      "[200]\tvalidation_0-rmse:1.40192\tvalidation_1-rmse:1.62948\n"
     ]
    },
    {
     "name": "stderr",
     "output_type": "stream",
     "text": [
      "s:\\Pizza\\.venv\\Lib\\site-packages\\xgboost\\core.py:158: UserWarning: [16:56:47] WARNING: C:\\buildkite-agent\\builds\\buildkite-windows-cpu-autoscaling-group-i-06abd128ca6c1688d-1\\xgboost\\xgboost-ci-windows\\src\\objective\\regression_obj.cu:227: reg:linear is now deprecated in favor of reg:squarederror.\n",
      "  warnings.warn(smsg, UserWarning)\n"
     ]
    },
    {
     "name": "stdout",
     "output_type": "stream",
     "text": [
      "[300]\tvalidation_0-rmse:1.27902\tvalidation_1-rmse:1.49916\n",
      "[399]\tvalidation_0-rmse:1.21220\tvalidation_1-rmse:1.43989\n",
      "[0]\tvalidation_0-rmse:3.47570\tvalidation_1-rmse:3.44583\n",
      "[100]\tvalidation_0-rmse:1.82277\tvalidation_1-rmse:1.84824\n"
     ]
    },
    {
     "name": "stderr",
     "output_type": "stream",
     "text": [
      "s:\\Pizza\\.venv\\Lib\\site-packages\\xgboost\\core.py:158: UserWarning: [16:56:47] WARNING: C:\\buildkite-agent\\builds\\buildkite-windows-cpu-autoscaling-group-i-06abd128ca6c1688d-1\\xgboost\\xgboost-ci-windows\\src\\objective\\regression_obj.cu:227: reg:linear is now deprecated in favor of reg:squarederror.\n",
      "  warnings.warn(smsg, UserWarning)\n"
     ]
    },
    {
     "name": "stdout",
     "output_type": "stream",
     "text": [
      "[200]\tvalidation_0-rmse:1.39863\tvalidation_1-rmse:1.40198\n",
      "[300]\tvalidation_0-rmse:1.27746\tvalidation_1-rmse:1.28079\n",
      "[385]\tvalidation_0-rmse:1.22195\tvalidation_1-rmse:1.26295\n",
      "[0]\tvalidation_0-rmse:3.47451\tvalidation_1-rmse:2.83760\n",
      "[100]\tvalidation_0-rmse:1.81693\tvalidation_1-rmse:1.52788\n",
      "[200]\tvalidation_0-rmse:1.39118\tvalidation_1-rmse:1.32911\n"
     ]
    },
    {
     "name": "stderr",
     "output_type": "stream",
     "text": [
      "s:\\Pizza\\.venv\\Lib\\site-packages\\xgboost\\core.py:158: UserWarning: [16:56:48] WARNING: C:\\buildkite-agent\\builds\\buildkite-windows-cpu-autoscaling-group-i-06abd128ca6c1688d-1\\xgboost\\xgboost-ci-windows\\src\\objective\\regression_obj.cu:227: reg:linear is now deprecated in favor of reg:squarederror.\n",
      "  warnings.warn(smsg, UserWarning)\n"
     ]
    },
    {
     "name": "stdout",
     "output_type": "stream",
     "text": [
      "[300]\tvalidation_0-rmse:1.26941\tvalidation_1-rmse:1.27933\n",
      "[399]\tvalidation_0-rmse:1.21276\tvalidation_1-rmse:1.25078\n",
      "Processing pepperoni_l...\n",
      "[0]\tvalidation_0-rmse:3.11021\tvalidation_1-rmse:2.88713\n",
      "[100]\tvalidation_0-rmse:1.67028\tvalidation_1-rmse:1.79975\n",
      "[200]\tvalidation_0-rmse:1.28022\tvalidation_1-rmse:1.71458\n",
      "[224]\tvalidation_0-rmse:1.24177\tvalidation_1-rmse:1.73707\n"
     ]
    },
    {
     "name": "stderr",
     "output_type": "stream",
     "text": [
      "s:\\Pizza\\.venv\\Lib\\site-packages\\xgboost\\core.py:158: UserWarning: [16:56:48] WARNING: C:\\buildkite-agent\\builds\\buildkite-windows-cpu-autoscaling-group-i-06abd128ca6c1688d-1\\xgboost\\xgboost-ci-windows\\src\\objective\\regression_obj.cu:227: reg:linear is now deprecated in favor of reg:squarederror.\n",
      "  warnings.warn(smsg, UserWarning)\n"
     ]
    },
    {
     "name": "stdout",
     "output_type": "stream",
     "text": [
      "[0]\tvalidation_0-rmse:3.10026\tvalidation_1-rmse:2.39694\n",
      "[100]\tvalidation_0-rmse:1.67945\tvalidation_1-rmse:1.47402\n",
      "[194]\tvalidation_0-rmse:1.32041\tvalidation_1-rmse:1.45805\n",
      "[0]\tvalidation_0-rmse:3.07383\tvalidation_1-rmse:2.34876\n"
     ]
    },
    {
     "name": "stderr",
     "output_type": "stream",
     "text": [
      "s:\\Pizza\\.venv\\Lib\\site-packages\\xgboost\\core.py:158: UserWarning: [16:56:48] WARNING: C:\\buildkite-agent\\builds\\buildkite-windows-cpu-autoscaling-group-i-06abd128ca6c1688d-1\\xgboost\\xgboost-ci-windows\\src\\objective\\regression_obj.cu:227: reg:linear is now deprecated in favor of reg:squarederror.\n",
      "  warnings.warn(smsg, UserWarning)\n",
      "s:\\Pizza\\.venv\\Lib\\site-packages\\xgboost\\core.py:158: UserWarning: [16:56:48] WARNING: C:\\buildkite-agent\\builds\\buildkite-windows-cpu-autoscaling-group-i-06abd128ca6c1688d-1\\xgboost\\xgboost-ci-windows\\src\\objective\\regression_obj.cu:227: reg:linear is now deprecated in favor of reg:squarederror.\n",
      "  warnings.warn(smsg, UserWarning)\n"
     ]
    },
    {
     "name": "stdout",
     "output_type": "stream",
     "text": [
      "[100]\tvalidation_0-rmse:1.67923\tvalidation_1-rmse:1.41231\n",
      "[200]\tvalidation_0-rmse:1.31632\tvalidation_1-rmse:1.26690\n",
      "[300]\tvalidation_0-rmse:1.21846\tvalidation_1-rmse:1.25393\n",
      "[381]\tvalidation_0-rmse:1.17084\tvalidation_1-rmse:1.26133\n",
      "Processing cali_ckn_s...\n",
      "[0]\tvalidation_0-rmse:2.10276\tvalidation_1-rmse:1.71260\n",
      "[100]\tvalidation_0-rmse:1.20066\tvalidation_1-rmse:0.96409\n",
      "[200]\tvalidation_0-rmse:0.95484\tvalidation_1-rmse:0.85946\n",
      "[293]\tvalidation_0-rmse:0.88046\tvalidation_1-rmse:0.85996\n"
     ]
    },
    {
     "name": "stderr",
     "output_type": "stream",
     "text": [
      "s:\\Pizza\\.venv\\Lib\\site-packages\\xgboost\\core.py:158: UserWarning: [16:56:49] WARNING: C:\\buildkite-agent\\builds\\buildkite-windows-cpu-autoscaling-group-i-06abd128ca6c1688d-1\\xgboost\\xgboost-ci-windows\\src\\objective\\regression_obj.cu:227: reg:linear is now deprecated in favor of reg:squarederror.\n",
      "  warnings.warn(smsg, UserWarning)\n"
     ]
    },
    {
     "name": "stdout",
     "output_type": "stream",
     "text": [
      "[0]\tvalidation_0-rmse:2.07703\tvalidation_1-rmse:2.17311\n",
      "[100]\tvalidation_0-rmse:1.19139\tvalidation_1-rmse:1.40695\n",
      "[200]\tvalidation_0-rmse:0.96548\tvalidation_1-rmse:1.23515\n"
     ]
    },
    {
     "name": "stderr",
     "output_type": "stream",
     "text": [
      "s:\\Pizza\\.venv\\Lib\\site-packages\\xgboost\\core.py:158: UserWarning: [16:56:49] WARNING: C:\\buildkite-agent\\builds\\buildkite-windows-cpu-autoscaling-group-i-06abd128ca6c1688d-1\\xgboost\\xgboost-ci-windows\\src\\objective\\regression_obj.cu:227: reg:linear is now deprecated in favor of reg:squarederror.\n",
      "  warnings.warn(smsg, UserWarning)\n"
     ]
    },
    {
     "name": "stdout",
     "output_type": "stream",
     "text": [
      "[300]\tvalidation_0-rmse:0.88311\tvalidation_1-rmse:1.19702\n",
      "[399]\tvalidation_0-rmse:0.83457\tvalidation_1-rmse:1.18874\n",
      "[0]\tvalidation_0-rmse:2.08116\tvalidation_1-rmse:2.64280\n",
      "[100]\tvalidation_0-rmse:1.19468\tvalidation_1-rmse:1.81899\n",
      "[200]\tvalidation_0-rmse:0.97868\tvalidation_1-rmse:1.57067\n",
      "[300]\tvalidation_0-rmse:0.89665\tvalidation_1-rmse:1.46822\n"
     ]
    },
    {
     "name": "stderr",
     "output_type": "stream",
     "text": [
      "s:\\Pizza\\.venv\\Lib\\site-packages\\xgboost\\core.py:158: UserWarning: [16:56:49] WARNING: C:\\buildkite-agent\\builds\\buildkite-windows-cpu-autoscaling-group-i-06abd128ca6c1688d-1\\xgboost\\xgboost-ci-windows\\src\\objective\\regression_obj.cu:227: reg:linear is now deprecated in favor of reg:squarederror.\n",
      "  warnings.warn(smsg, UserWarning)\n"
     ]
    },
    {
     "name": "stdout",
     "output_type": "stream",
     "text": [
      "[399]\tvalidation_0-rmse:0.84156\tvalidation_1-rmse:1.41938\n",
      "Processing ckn_pesto_l...\n",
      "[0]\tvalidation_0-rmse:1.99440\tvalidation_1-rmse:2.29488\n",
      "[100]\tvalidation_0-rmse:1.13880\tvalidation_1-rmse:1.70580\n",
      "[200]\tvalidation_0-rmse:0.90937\tvalidation_1-rmse:1.56784\n",
      "[300]\tvalidation_0-rmse:0.80938\tvalidation_1-rmse:1.52014\n"
     ]
    },
    {
     "name": "stderr",
     "output_type": "stream",
     "text": [
      "s:\\Pizza\\.venv\\Lib\\site-packages\\xgboost\\core.py:158: UserWarning: [16:56:50] WARNING: C:\\buildkite-agent\\builds\\buildkite-windows-cpu-autoscaling-group-i-06abd128ca6c1688d-1\\xgboost\\xgboost-ci-windows\\src\\objective\\regression_obj.cu:227: reg:linear is now deprecated in favor of reg:squarederror.\n",
      "  warnings.warn(smsg, UserWarning)\n"
     ]
    },
    {
     "name": "stdout",
     "output_type": "stream",
     "text": [
      "[399]\tvalidation_0-rmse:0.74566\tvalidation_1-rmse:1.49244\n",
      "[0]\tvalidation_0-rmse:2.01526\tvalidation_1-rmse:1.81013\n",
      "[100]\tvalidation_0-rmse:1.16111\tvalidation_1-rmse:1.20219\n",
      "[200]\tvalidation_0-rmse:0.91646\tvalidation_1-rmse:1.07639\n"
     ]
    },
    {
     "name": "stderr",
     "output_type": "stream",
     "text": [
      "s:\\Pizza\\.venv\\Lib\\site-packages\\xgboost\\core.py:158: UserWarning: [16:56:50] WARNING: C:\\buildkite-agent\\builds\\buildkite-windows-cpu-autoscaling-group-i-06abd128ca6c1688d-1\\xgboost\\xgboost-ci-windows\\src\\objective\\regression_obj.cu:227: reg:linear is now deprecated in favor of reg:squarederror.\n",
      "  warnings.warn(smsg, UserWarning)\n"
     ]
    },
    {
     "name": "stdout",
     "output_type": "stream",
     "text": [
      "[292]\tvalidation_0-rmse:0.82389\tvalidation_1-rmse:1.08705\n",
      "[0]\tvalidation_0-rmse:2.00596\tvalidation_1-rmse:1.75289\n",
      "[100]\tvalidation_0-rmse:1.17428\tvalidation_1-rmse:1.28636\n",
      "[200]\tvalidation_0-rmse:0.90748\tvalidation_1-rmse:1.19780\n"
     ]
    },
    {
     "name": "stderr",
     "output_type": "stream",
     "text": [
      "s:\\Pizza\\.venv\\Lib\\site-packages\\xgboost\\core.py:158: UserWarning: [16:56:50] WARNING: C:\\buildkite-agent\\builds\\buildkite-windows-cpu-autoscaling-group-i-06abd128ca6c1688d-1\\xgboost\\xgboost-ci-windows\\src\\objective\\regression_obj.cu:227: reg:linear is now deprecated in favor of reg:squarederror.\n",
      "  warnings.warn(smsg, UserWarning)\n"
     ]
    },
    {
     "name": "stdout",
     "output_type": "stream",
     "text": [
      "[300]\tvalidation_0-rmse:0.81154\tvalidation_1-rmse:1.18028\n",
      "[399]\tvalidation_0-rmse:0.75312\tvalidation_1-rmse:1.18059\n",
      "Processing big_meat_s...\n",
      "[0]\tvalidation_0-rmse:6.41298\tvalidation_1-rmse:6.80545\n",
      "[100]\tvalidation_0-rmse:3.26211\tvalidation_1-rmse:4.74835\n",
      "[200]\tvalidation_0-rmse:2.46981\tvalidation_1-rmse:4.13148\n"
     ]
    },
    {
     "name": "stderr",
     "output_type": "stream",
     "text": [
      "s:\\Pizza\\.venv\\Lib\\site-packages\\xgboost\\core.py:158: UserWarning: [16:56:51] WARNING: C:\\buildkite-agent\\builds\\buildkite-windows-cpu-autoscaling-group-i-06abd128ca6c1688d-1\\xgboost\\xgboost-ci-windows\\src\\objective\\regression_obj.cu:227: reg:linear is now deprecated in favor of reg:squarederror.\n",
      "  warnings.warn(smsg, UserWarning)\n"
     ]
    },
    {
     "name": "stdout",
     "output_type": "stream",
     "text": [
      "[300]\tvalidation_0-rmse:2.25609\tvalidation_1-rmse:3.95428\n",
      "[399]\tvalidation_0-rmse:2.15897\tvalidation_1-rmse:3.91568\n",
      "[0]\tvalidation_0-rmse:6.41834\tvalidation_1-rmse:6.83535\n",
      "[100]\tvalidation_0-rmse:3.24374\tvalidation_1-rmse:3.76561\n",
      "[200]\tvalidation_0-rmse:2.43893\tvalidation_1-rmse:2.66494\n"
     ]
    },
    {
     "name": "stderr",
     "output_type": "stream",
     "text": [
      "s:\\Pizza\\.venv\\Lib\\site-packages\\xgboost\\core.py:158: UserWarning: [16:56:51] WARNING: C:\\buildkite-agent\\builds\\buildkite-windows-cpu-autoscaling-group-i-06abd128ca6c1688d-1\\xgboost\\xgboost-ci-windows\\src\\objective\\regression_obj.cu:227: reg:linear is now deprecated in favor of reg:squarederror.\n",
      "  warnings.warn(smsg, UserWarning)\n"
     ]
    },
    {
     "name": "stdout",
     "output_type": "stream",
     "text": [
      "[300]\tvalidation_0-rmse:2.23813\tvalidation_1-rmse:2.34547\n",
      "[399]\tvalidation_0-rmse:2.14295\tvalidation_1-rmse:2.18918\n",
      "[0]\tvalidation_0-rmse:6.42433\tvalidation_1-rmse:5.35941\n",
      "[100]\tvalidation_0-rmse:3.23543\tvalidation_1-rmse:2.08691\n",
      "[200]\tvalidation_0-rmse:2.45183\tvalidation_1-rmse:1.55665\n",
      "[254]\tvalidation_0-rmse:2.31499\tvalidation_1-rmse:1.61643\n"
     ]
    },
    {
     "name": "stderr",
     "output_type": "stream",
     "text": [
      "s:\\Pizza\\.venv\\Lib\\site-packages\\xgboost\\core.py:158: UserWarning: [16:56:52] WARNING: C:\\buildkite-agent\\builds\\buildkite-windows-cpu-autoscaling-group-i-06abd128ca6c1688d-1\\xgboost\\xgboost-ci-windows\\src\\objective\\regression_obj.cu:227: reg:linear is now deprecated in favor of reg:squarederror.\n",
      "  warnings.warn(smsg, UserWarning)\n"
     ]
    },
    {
     "name": "stdout",
     "output_type": "stream",
     "text": [
      "Processing nan...\n",
      "No data for nan, skipping...\n",
      "Processing calabrese_m...\n",
      "[0]\tvalidation_0-rmse:2.48580\tvalidation_1-rmse:2.16978\n",
      "[100]\tvalidation_0-rmse:1.39977\tvalidation_1-rmse:1.26873\n",
      "[200]\tvalidation_0-rmse:1.11442\tvalidation_1-rmse:1.16662\n",
      "[235]\tvalidation_0-rmse:1.07494\tvalidation_1-rmse:1.17286\n"
     ]
    },
    {
     "name": "stderr",
     "output_type": "stream",
     "text": [
      "s:\\Pizza\\.venv\\Lib\\site-packages\\xgboost\\core.py:158: UserWarning: [16:56:52] WARNING: C:\\buildkite-agent\\builds\\buildkite-windows-cpu-autoscaling-group-i-06abd128ca6c1688d-1\\xgboost\\xgboost-ci-windows\\src\\objective\\regression_obj.cu:227: reg:linear is now deprecated in favor of reg:squarederror.\n",
      "  warnings.warn(smsg, UserWarning)\n"
     ]
    },
    {
     "name": "stdout",
     "output_type": "stream",
     "text": [
      "[0]\tvalidation_0-rmse:2.46774\tvalidation_1-rmse:1.68483\n",
      "[100]\tvalidation_0-rmse:1.38323\tvalidation_1-rmse:0.76081\n",
      "[172]\tvalidation_0-rmse:1.14700\tvalidation_1-rmse:0.78105\n",
      "[0]\tvalidation_0-rmse:2.43004\tvalidation_1-rmse:2.30141\n"
     ]
    },
    {
     "name": "stderr",
     "output_type": "stream",
     "text": [
      "s:\\Pizza\\.venv\\Lib\\site-packages\\xgboost\\core.py:158: UserWarning: [16:56:52] WARNING: C:\\buildkite-agent\\builds\\buildkite-windows-cpu-autoscaling-group-i-06abd128ca6c1688d-1\\xgboost\\xgboost-ci-windows\\src\\objective\\regression_obj.cu:227: reg:linear is now deprecated in favor of reg:squarederror.\n",
      "  warnings.warn(smsg, UserWarning)\n",
      "s:\\Pizza\\.venv\\Lib\\site-packages\\xgboost\\core.py:158: UserWarning: [16:56:52] WARNING: C:\\buildkite-agent\\builds\\buildkite-windows-cpu-autoscaling-group-i-06abd128ca6c1688d-1\\xgboost\\xgboost-ci-windows\\src\\objective\\regression_obj.cu:227: reg:linear is now deprecated in favor of reg:squarederror.\n",
      "  warnings.warn(smsg, UserWarning)\n"
     ]
    },
    {
     "name": "stdout",
     "output_type": "stream",
     "text": [
      "[100]\tvalidation_0-rmse:1.39168\tvalidation_1-rmse:1.71979\n",
      "[200]\tvalidation_0-rmse:1.10860\tvalidation_1-rmse:1.50894\n",
      "[300]\tvalidation_0-rmse:1.01266\tvalidation_1-rmse:1.44087\n",
      "[399]\tvalidation_0-rmse:0.96917\tvalidation_1-rmse:1.35097\n",
      "Processing four_cheese_m...\n",
      "[0]\tvalidation_0-rmse:2.48210\tvalidation_1-rmse:2.07151\n",
      "[100]\tvalidation_0-rmse:1.36642\tvalidation_1-rmse:1.27106\n",
      "[143]\tvalidation_0-rmse:1.19380\tvalidation_1-rmse:1.31981\n",
      "[0]\tvalidation_0-rmse:2.47217\tvalidation_1-rmse:3.69134\n"
     ]
    },
    {
     "name": "stderr",
     "output_type": "stream",
     "text": [
      "s:\\Pizza\\.venv\\Lib\\site-packages\\xgboost\\core.py:158: UserWarning: [16:56:53] WARNING: C:\\buildkite-agent\\builds\\buildkite-windows-cpu-autoscaling-group-i-06abd128ca6c1688d-1\\xgboost\\xgboost-ci-windows\\src\\objective\\regression_obj.cu:227: reg:linear is now deprecated in favor of reg:squarederror.\n",
      "  warnings.warn(smsg, UserWarning)\n",
      "s:\\Pizza\\.venv\\Lib\\site-packages\\xgboost\\core.py:158: UserWarning: [16:56:53] WARNING: C:\\buildkite-agent\\builds\\buildkite-windows-cpu-autoscaling-group-i-06abd128ca6c1688d-1\\xgboost\\xgboost-ci-windows\\src\\objective\\regression_obj.cu:227: reg:linear is now deprecated in favor of reg:squarederror.\n",
      "  warnings.warn(smsg, UserWarning)\n"
     ]
    },
    {
     "name": "stdout",
     "output_type": "stream",
     "text": [
      "[100]\tvalidation_0-rmse:1.35883\tvalidation_1-rmse:2.65068\n",
      "[200]\tvalidation_0-rmse:1.07548\tvalidation_1-rmse:2.39845\n",
      "[287]\tvalidation_0-rmse:0.99856\tvalidation_1-rmse:2.39231\n",
      "[0]\tvalidation_0-rmse:2.55149\tvalidation_1-rmse:3.60890\n",
      "[100]\tvalidation_0-rmse:1.41160\tvalidation_1-rmse:2.87580\n",
      "[200]\tvalidation_0-rmse:1.11715\tvalidation_1-rmse:2.77115\n",
      "[231]\tvalidation_0-rmse:1.08388\tvalidation_1-rmse:2.77606\n"
     ]
    },
    {
     "name": "stderr",
     "output_type": "stream",
     "text": [
      "s:\\Pizza\\.venv\\Lib\\site-packages\\xgboost\\core.py:158: UserWarning: [16:56:53] WARNING: C:\\buildkite-agent\\builds\\buildkite-windows-cpu-autoscaling-group-i-06abd128ca6c1688d-1\\xgboost\\xgboost-ci-windows\\src\\objective\\regression_obj.cu:227: reg:linear is now deprecated in favor of reg:squarederror.\n",
      "  warnings.warn(smsg, UserWarning)\n"
     ]
    },
    {
     "name": "stdout",
     "output_type": "stream",
     "text": [
      "Processing ital_veggie_s...\n",
      "[0]\tvalidation_0-rmse:1.46387\tvalidation_1-rmse:1.65856\n",
      "[100]\tvalidation_0-rmse:0.86486\tvalidation_1-rmse:1.08761\n",
      "[200]\tvalidation_0-rmse:0.67955\tvalidation_1-rmse:0.95448\n",
      "[300]\tvalidation_0-rmse:0.58777\tvalidation_1-rmse:0.92480\n"
     ]
    },
    {
     "name": "stderr",
     "output_type": "stream",
     "text": [
      "s:\\Pizza\\.venv\\Lib\\site-packages\\xgboost\\core.py:158: UserWarning: [16:56:53] WARNING: C:\\buildkite-agent\\builds\\buildkite-windows-cpu-autoscaling-group-i-06abd128ca6c1688d-1\\xgboost\\xgboost-ci-windows\\src\\objective\\regression_obj.cu:227: reg:linear is now deprecated in favor of reg:squarederror.\n",
      "  warnings.warn(smsg, UserWarning)\n"
     ]
    },
    {
     "name": "stdout",
     "output_type": "stream",
     "text": [
      "[399]\tvalidation_0-rmse:0.53391\tvalidation_1-rmse:0.91436\n",
      "[0]\tvalidation_0-rmse:1.48652\tvalidation_1-rmse:1.75602\n",
      "[100]\tvalidation_0-rmse:0.86676\tvalidation_1-rmse:1.20261\n",
      "[200]\tvalidation_0-rmse:0.68026\tvalidation_1-rmse:1.08741\n"
     ]
    },
    {
     "name": "stderr",
     "output_type": "stream",
     "text": [
      "s:\\Pizza\\.venv\\Lib\\site-packages\\xgboost\\core.py:158: UserWarning: [16:56:54] WARNING: C:\\buildkite-agent\\builds\\buildkite-windows-cpu-autoscaling-group-i-06abd128ca6c1688d-1\\xgboost\\xgboost-ci-windows\\src\\objective\\regression_obj.cu:227: reg:linear is now deprecated in favor of reg:squarederror.\n",
      "  warnings.warn(smsg, UserWarning)\n"
     ]
    },
    {
     "name": "stdout",
     "output_type": "stream",
     "text": [
      "[300]\tvalidation_0-rmse:0.60652\tvalidation_1-rmse:1.05521\n",
      "[399]\tvalidation_0-rmse:0.55705\tvalidation_1-rmse:1.03231\n",
      "[0]\tvalidation_0-rmse:1.51796\tvalidation_1-rmse:1.27421\n",
      "[100]\tvalidation_0-rmse:0.87880\tvalidation_1-rmse:0.75962\n",
      "[200]\tvalidation_0-rmse:0.69105\tvalidation_1-rmse:0.67826\n",
      "[300]\tvalidation_0-rmse:0.60645\tvalidation_1-rmse:0.67728\n"
     ]
    },
    {
     "name": "stderr",
     "output_type": "stream",
     "text": [
      "s:\\Pizza\\.venv\\Lib\\site-packages\\xgboost\\core.py:158: UserWarning: [16:56:54] WARNING: C:\\buildkite-agent\\builds\\buildkite-windows-cpu-autoscaling-group-i-06abd128ca6c1688d-1\\xgboost\\xgboost-ci-windows\\src\\objective\\regression_obj.cu:227: reg:linear is now deprecated in favor of reg:squarederror.\n",
      "  warnings.warn(smsg, UserWarning)\n"
     ]
    },
    {
     "name": "stdout",
     "output_type": "stream",
     "text": [
      "[315]\tvalidation_0-rmse:0.59728\tvalidation_1-rmse:0.67983\n",
      "Processing mediterraneo_m...\n",
      "[0]\tvalidation_0-rmse:1.61181\tvalidation_1-rmse:1.37259\n",
      "[100]\tvalidation_0-rmse:0.87013\tvalidation_1-rmse:0.74228\n",
      "[200]\tvalidation_0-rmse:0.66348\tvalidation_1-rmse:0.66919\n",
      "[300]\tvalidation_0-rmse:0.58790\tvalidation_1-rmse:0.66276\n"
     ]
    },
    {
     "name": "stderr",
     "output_type": "stream",
     "text": [
      "s:\\Pizza\\.venv\\Lib\\site-packages\\xgboost\\core.py:158: UserWarning: [16:56:54] WARNING: C:\\buildkite-agent\\builds\\buildkite-windows-cpu-autoscaling-group-i-06abd128ca6c1688d-1\\xgboost\\xgboost-ci-windows\\src\\objective\\regression_obj.cu:227: reg:linear is now deprecated in favor of reg:squarederror.\n",
      "  warnings.warn(smsg, UserWarning)\n"
     ]
    },
    {
     "name": "stdout",
     "output_type": "stream",
     "text": [
      "[319]\tvalidation_0-rmse:0.57886\tvalidation_1-rmse:0.66301\n",
      "[0]\tvalidation_0-rmse:1.57993\tvalidation_1-rmse:2.16136\n",
      "[100]\tvalidation_0-rmse:0.85989\tvalidation_1-rmse:1.61905\n",
      "[200]\tvalidation_0-rmse:0.66179\tvalidation_1-rmse:1.48197\n",
      "[300]\tvalidation_0-rmse:0.59265\tvalidation_1-rmse:1.44305\n"
     ]
    },
    {
     "name": "stderr",
     "output_type": "stream",
     "text": [
      "s:\\Pizza\\.venv\\Lib\\site-packages\\xgboost\\core.py:158: UserWarning: [16:56:55] WARNING: C:\\buildkite-agent\\builds\\buildkite-windows-cpu-autoscaling-group-i-06abd128ca6c1688d-1\\xgboost\\xgboost-ci-windows\\src\\objective\\regression_obj.cu:227: reg:linear is now deprecated in favor of reg:squarederror.\n",
      "  warnings.warn(smsg, UserWarning)\n"
     ]
    },
    {
     "name": "stdout",
     "output_type": "stream",
     "text": [
      "[399]\tvalidation_0-rmse:0.55205\tvalidation_1-rmse:1.42720\n",
      "[0]\tvalidation_0-rmse:1.66588\tvalidation_1-rmse:1.48846\n",
      "[100]\tvalidation_0-rmse:0.92533\tvalidation_1-rmse:0.76025\n",
      "[148]\tvalidation_0-rmse:0.78428\tvalidation_1-rmse:0.79745\n",
      "Processing peppr_salami_s...\n",
      "[0]\tvalidation_0-rmse:1.46303\tvalidation_1-rmse:1.97077\n"
     ]
    },
    {
     "name": "stderr",
     "output_type": "stream",
     "text": [
      "s:\\Pizza\\.venv\\Lib\\site-packages\\xgboost\\core.py:158: UserWarning: [16:56:55] WARNING: C:\\buildkite-agent\\builds\\buildkite-windows-cpu-autoscaling-group-i-06abd128ca6c1688d-1\\xgboost\\xgboost-ci-windows\\src\\objective\\regression_obj.cu:227: reg:linear is now deprecated in favor of reg:squarederror.\n",
      "  warnings.warn(smsg, UserWarning)\n",
      "s:\\Pizza\\.venv\\Lib\\site-packages\\xgboost\\core.py:158: UserWarning: [16:56:55] WARNING: C:\\buildkite-agent\\builds\\buildkite-windows-cpu-autoscaling-group-i-06abd128ca6c1688d-1\\xgboost\\xgboost-ci-windows\\src\\objective\\regression_obj.cu:227: reg:linear is now deprecated in favor of reg:squarederror.\n",
      "  warnings.warn(smsg, UserWarning)\n"
     ]
    },
    {
     "name": "stdout",
     "output_type": "stream",
     "text": [
      "[100]\tvalidation_0-rmse:0.87473\tvalidation_1-rmse:1.47794\n",
      "[200]\tvalidation_0-rmse:0.69049\tvalidation_1-rmse:1.33447\n",
      "[300]\tvalidation_0-rmse:0.61307\tvalidation_1-rmse:1.29995\n",
      "[399]\tvalidation_0-rmse:0.56634\tvalidation_1-rmse:1.29465\n",
      "[0]\tvalidation_0-rmse:1.51511\tvalidation_1-rmse:2.08438\n",
      "[100]\tvalidation_0-rmse:0.92065\tvalidation_1-rmse:1.51836\n",
      "[200]\tvalidation_0-rmse:0.73366\tvalidation_1-rmse:1.29409\n",
      "[300]\tvalidation_0-rmse:0.65747\tvalidation_1-rmse:1.20938\n"
     ]
    },
    {
     "name": "stderr",
     "output_type": "stream",
     "text": [
      "s:\\Pizza\\.venv\\Lib\\site-packages\\xgboost\\core.py:158: UserWarning: [16:56:56] WARNING: C:\\buildkite-agent\\builds\\buildkite-windows-cpu-autoscaling-group-i-06abd128ca6c1688d-1\\xgboost\\xgboost-ci-windows\\src\\objective\\regression_obj.cu:227: reg:linear is now deprecated in favor of reg:squarederror.\n",
      "  warnings.warn(smsg, UserWarning)\n"
     ]
    },
    {
     "name": "stdout",
     "output_type": "stream",
     "text": [
      "[399]\tvalidation_0-rmse:0.61384\tvalidation_1-rmse:1.11657\n",
      "[0]\tvalidation_0-rmse:1.58999\tvalidation_1-rmse:2.03707\n",
      "[100]\tvalidation_0-rmse:0.97018\tvalidation_1-rmse:1.48561\n",
      "[200]\tvalidation_0-rmse:0.78565\tvalidation_1-rmse:1.33454\n"
     ]
    },
    {
     "name": "stderr",
     "output_type": "stream",
     "text": [
      "s:\\Pizza\\.venv\\Lib\\site-packages\\xgboost\\core.py:158: UserWarning: [16:56:56] WARNING: C:\\buildkite-agent\\builds\\buildkite-windows-cpu-autoscaling-group-i-06abd128ca6c1688d-1\\xgboost\\xgboost-ci-windows\\src\\objective\\regression_obj.cu:227: reg:linear is now deprecated in favor of reg:squarederror.\n",
      "  warnings.warn(smsg, UserWarning)\n"
     ]
    },
    {
     "name": "stdout",
     "output_type": "stream",
     "text": [
      "[300]\tvalidation_0-rmse:0.71662\tvalidation_1-rmse:1.29629\n",
      "[399]\tvalidation_0-rmse:0.66546\tvalidation_1-rmse:1.29276\n",
      "Processing spinach_fet_l...\n",
      "[0]\tvalidation_0-rmse:1.96388\tvalidation_1-rmse:1.96617\n",
      "[100]\tvalidation_0-rmse:1.13321\tvalidation_1-rmse:1.29200\n",
      "[200]\tvalidation_0-rmse:0.90537\tvalidation_1-rmse:1.14573\n"
     ]
    },
    {
     "name": "stderr",
     "output_type": "stream",
     "text": [
      "s:\\Pizza\\.venv\\Lib\\site-packages\\xgboost\\core.py:158: UserWarning: [16:56:56] WARNING: C:\\buildkite-agent\\builds\\buildkite-windows-cpu-autoscaling-group-i-06abd128ca6c1688d-1\\xgboost\\xgboost-ci-windows\\src\\objective\\regression_obj.cu:227: reg:linear is now deprecated in favor of reg:squarederror.\n",
      "  warnings.warn(smsg, UserWarning)\n"
     ]
    },
    {
     "name": "stdout",
     "output_type": "stream",
     "text": [
      "[300]\tvalidation_0-rmse:0.80953\tvalidation_1-rmse:1.09501\n",
      "[357]\tvalidation_0-rmse:0.77246\tvalidation_1-rmse:1.11683\n",
      "[0]\tvalidation_0-rmse:1.96794\tvalidation_1-rmse:2.80830\n",
      "[100]\tvalidation_0-rmse:1.14058\tvalidation_1-rmse:1.97591\n",
      "[200]\tvalidation_0-rmse:0.92458\tvalidation_1-rmse:1.80124\n"
     ]
    },
    {
     "name": "stderr",
     "output_type": "stream",
     "text": [
      "s:\\Pizza\\.venv\\Lib\\site-packages\\xgboost\\core.py:158: UserWarning: [16:56:57] WARNING: C:\\buildkite-agent\\builds\\buildkite-windows-cpu-autoscaling-group-i-06abd128ca6c1688d-1\\xgboost\\xgboost-ci-windows\\src\\objective\\regression_obj.cu:227: reg:linear is now deprecated in favor of reg:squarederror.\n",
      "  warnings.warn(smsg, UserWarning)\n"
     ]
    },
    {
     "name": "stdout",
     "output_type": "stream",
     "text": [
      "[300]\tvalidation_0-rmse:0.83810\tvalidation_1-rmse:1.74161\n",
      "[399]\tvalidation_0-rmse:0.78169\tvalidation_1-rmse:1.71252\n",
      "[0]\tvalidation_0-rmse:2.04095\tvalidation_1-rmse:1.76706\n",
      "[100]\tvalidation_0-rmse:1.14713\tvalidation_1-rmse:1.30113\n",
      "[119]\tvalidation_0-rmse:1.07424\tvalidation_1-rmse:1.32510\n",
      "Processing napolitana_l...\n",
      "[0]\tvalidation_0-rmse:2.58739\tvalidation_1-rmse:2.41754\n"
     ]
    },
    {
     "name": "stderr",
     "output_type": "stream",
     "text": [
      "s:\\Pizza\\.venv\\Lib\\site-packages\\xgboost\\core.py:158: UserWarning: [16:56:57] WARNING: C:\\buildkite-agent\\builds\\buildkite-windows-cpu-autoscaling-group-i-06abd128ca6c1688d-1\\xgboost\\xgboost-ci-windows\\src\\objective\\regression_obj.cu:227: reg:linear is now deprecated in favor of reg:squarederror.\n",
      "  warnings.warn(smsg, UserWarning)\n",
      "s:\\Pizza\\.venv\\Lib\\site-packages\\xgboost\\core.py:158: UserWarning: [16:56:57] WARNING: C:\\buildkite-agent\\builds\\buildkite-windows-cpu-autoscaling-group-i-06abd128ca6c1688d-1\\xgboost\\xgboost-ci-windows\\src\\objective\\regression_obj.cu:227: reg:linear is now deprecated in favor of reg:squarederror.\n",
      "  warnings.warn(smsg, UserWarning)\n"
     ]
    },
    {
     "name": "stdout",
     "output_type": "stream",
     "text": [
      "[100]\tvalidation_0-rmse:1.44752\tvalidation_1-rmse:1.56558\n",
      "[200]\tvalidation_0-rmse:1.14774\tvalidation_1-rmse:1.41049\n",
      "[277]\tvalidation_0-rmse:1.06420\tvalidation_1-rmse:1.43492\n",
      "[0]\tvalidation_0-rmse:2.57734\tvalidation_1-rmse:2.23753\n",
      "[100]\tvalidation_0-rmse:1.44611\tvalidation_1-rmse:1.37646\n",
      "[200]\tvalidation_0-rmse:1.15990\tvalidation_1-rmse:1.15058\n"
     ]
    },
    {
     "name": "stderr",
     "output_type": "stream",
     "text": [
      "s:\\Pizza\\.venv\\Lib\\site-packages\\xgboost\\core.py:158: UserWarning: [16:56:57] WARNING: C:\\buildkite-agent\\builds\\buildkite-windows-cpu-autoscaling-group-i-06abd128ca6c1688d-1\\xgboost\\xgboost-ci-windows\\src\\objective\\regression_obj.cu:227: reg:linear is now deprecated in favor of reg:squarederror.\n",
      "  warnings.warn(smsg, UserWarning)\n"
     ]
    },
    {
     "name": "stdout",
     "output_type": "stream",
     "text": [
      "[300]\tvalidation_0-rmse:1.07068\tvalidation_1-rmse:1.13482\n",
      "[323]\tvalidation_0-rmse:1.05673\tvalidation_1-rmse:1.13265\n",
      "[0]\tvalidation_0-rmse:2.55517\tvalidation_1-rmse:1.78735\n",
      "[100]\tvalidation_0-rmse:1.43330\tvalidation_1-rmse:1.08279\n",
      "[191]\tvalidation_0-rmse:1.16174\tvalidation_1-rmse:1.06548\n",
      "Processing sicilian_l...\n"
     ]
    },
    {
     "name": "stderr",
     "output_type": "stream",
     "text": [
      "s:\\Pizza\\.venv\\Lib\\site-packages\\xgboost\\core.py:158: UserWarning: [16:56:58] WARNING: C:\\buildkite-agent\\builds\\buildkite-windows-cpu-autoscaling-group-i-06abd128ca6c1688d-1\\xgboost\\xgboost-ci-windows\\src\\objective\\regression_obj.cu:227: reg:linear is now deprecated in favor of reg:squarederror.\n",
      "  warnings.warn(smsg, UserWarning)\n"
     ]
    },
    {
     "name": "stdout",
     "output_type": "stream",
     "text": [
      "[0]\tvalidation_0-rmse:2.47950\tvalidation_1-rmse:2.73560\n",
      "[100]\tvalidation_0-rmse:1.40363\tvalidation_1-rmse:1.65040\n",
      "[200]\tvalidation_0-rmse:1.13004\tvalidation_1-rmse:1.47617\n",
      "[242]\tvalidation_0-rmse:1.08127\tvalidation_1-rmse:1.59351\n"
     ]
    },
    {
     "name": "stderr",
     "output_type": "stream",
     "text": [
      "s:\\Pizza\\.venv\\Lib\\site-packages\\xgboost\\core.py:158: UserWarning: [16:56:58] WARNING: C:\\buildkite-agent\\builds\\buildkite-windows-cpu-autoscaling-group-i-06abd128ca6c1688d-1\\xgboost\\xgboost-ci-windows\\src\\objective\\regression_obj.cu:227: reg:linear is now deprecated in favor of reg:squarederror.\n",
      "  warnings.warn(smsg, UserWarning)\n"
     ]
    },
    {
     "name": "stdout",
     "output_type": "stream",
     "text": [
      "[0]\tvalidation_0-rmse:2.49424\tvalidation_1-rmse:2.37946\n",
      "[100]\tvalidation_0-rmse:1.40648\tvalidation_1-rmse:1.35637\n",
      "[184]\tvalidation_0-rmse:1.14849\tvalidation_1-rmse:1.36245\n",
      "[0]\tvalidation_0-rmse:2.48138\tvalidation_1-rmse:2.99978\n"
     ]
    },
    {
     "name": "stderr",
     "output_type": "stream",
     "text": [
      "s:\\Pizza\\.venv\\Lib\\site-packages\\xgboost\\core.py:158: UserWarning: [16:56:58] WARNING: C:\\buildkite-agent\\builds\\buildkite-windows-cpu-autoscaling-group-i-06abd128ca6c1688d-1\\xgboost\\xgboost-ci-windows\\src\\objective\\regression_obj.cu:227: reg:linear is now deprecated in favor of reg:squarederror.\n",
      "  warnings.warn(smsg, UserWarning)\n",
      "s:\\Pizza\\.venv\\Lib\\site-packages\\xgboost\\core.py:158: UserWarning: [16:56:59] WARNING: C:\\buildkite-agent\\builds\\buildkite-windows-cpu-autoscaling-group-i-06abd128ca6c1688d-1\\xgboost\\xgboost-ci-windows\\src\\objective\\regression_obj.cu:227: reg:linear is now deprecated in favor of reg:squarederror.\n",
      "  warnings.warn(smsg, UserWarning)\n"
     ]
    },
    {
     "name": "stdout",
     "output_type": "stream",
     "text": [
      "[100]\tvalidation_0-rmse:1.38210\tvalidation_1-rmse:1.84764\n",
      "[200]\tvalidation_0-rmse:1.09975\tvalidation_1-rmse:1.54037\n",
      "[300]\tvalidation_0-rmse:1.01841\tvalidation_1-rmse:1.53215\n",
      "[306]\tvalidation_0-rmse:1.01557\tvalidation_1-rmse:1.53577\n",
      "Processing ital_cpcllo_m...\n",
      "[0]\tvalidation_0-rmse:2.20972\tvalidation_1-rmse:1.61635\n",
      "[100]\tvalidation_0-rmse:1.23506\tvalidation_1-rmse:0.99522\n",
      "[200]\tvalidation_0-rmse:0.92354\tvalidation_1-rmse:0.89350\n",
      "[300]\tvalidation_0-rmse:0.80270\tvalidation_1-rmse:0.88837\n"
     ]
    },
    {
     "name": "stderr",
     "output_type": "stream",
     "text": [
      "s:\\Pizza\\.venv\\Lib\\site-packages\\xgboost\\core.py:158: UserWarning: [16:56:59] WARNING: C:\\buildkite-agent\\builds\\buildkite-windows-cpu-autoscaling-group-i-06abd128ca6c1688d-1\\xgboost\\xgboost-ci-windows\\src\\objective\\regression_obj.cu:227: reg:linear is now deprecated in favor of reg:squarederror.\n",
      "  warnings.warn(smsg, UserWarning)\n"
     ]
    },
    {
     "name": "stdout",
     "output_type": "stream",
     "text": [
      "[333]\tvalidation_0-rmse:0.77980\tvalidation_1-rmse:0.89596\n",
      "[0]\tvalidation_0-rmse:2.16366\tvalidation_1-rmse:1.69559\n",
      "[100]\tvalidation_0-rmse:1.21776\tvalidation_1-rmse:1.17092\n",
      "[200]\tvalidation_0-rmse:0.93530\tvalidation_1-rmse:1.13687\n",
      "[244]\tvalidation_0-rmse:0.87679\tvalidation_1-rmse:1.16944\n"
     ]
    },
    {
     "name": "stderr",
     "output_type": "stream",
     "text": [
      "s:\\Pizza\\.venv\\Lib\\site-packages\\xgboost\\core.py:158: UserWarning: [16:56:59] WARNING: C:\\buildkite-agent\\builds\\buildkite-windows-cpu-autoscaling-group-i-06abd128ca6c1688d-1\\xgboost\\xgboost-ci-windows\\src\\objective\\regression_obj.cu:227: reg:linear is now deprecated in favor of reg:squarederror.\n",
      "  warnings.warn(smsg, UserWarning)\n"
     ]
    },
    {
     "name": "stdout",
     "output_type": "stream",
     "text": [
      "[0]\tvalidation_0-rmse:2.12957\tvalidation_1-rmse:2.06416\n",
      "[100]\tvalidation_0-rmse:1.21755\tvalidation_1-rmse:1.30225\n",
      "[200]\tvalidation_0-rmse:0.95661\tvalidation_1-rmse:1.09806\n"
     ]
    },
    {
     "name": "stderr",
     "output_type": "stream",
     "text": [
      "s:\\Pizza\\.venv\\Lib\\site-packages\\xgboost\\core.py:158: UserWarning: [16:56:59] WARNING: C:\\buildkite-agent\\builds\\buildkite-windows-cpu-autoscaling-group-i-06abd128ca6c1688d-1\\xgboost\\xgboost-ci-windows\\src\\objective\\regression_obj.cu:227: reg:linear is now deprecated in favor of reg:squarederror.\n",
      "  warnings.warn(smsg, UserWarning)\n"
     ]
    },
    {
     "name": "stdout",
     "output_type": "stream",
     "text": [
      "[300]\tvalidation_0-rmse:0.83205\tvalidation_1-rmse:1.07986\n",
      "[399]\tvalidation_0-rmse:0.77714\tvalidation_1-rmse:1.05003\n",
      "Processing southw_ckn_s...\n",
      "[0]\tvalidation_0-rmse:2.00883\tvalidation_1-rmse:1.83941\n",
      "[100]\tvalidation_0-rmse:1.11131\tvalidation_1-rmse:1.07247\n",
      "[200]\tvalidation_0-rmse:0.83202\tvalidation_1-rmse:0.98648\n"
     ]
    },
    {
     "name": "stderr",
     "output_type": "stream",
     "text": [
      "s:\\Pizza\\.venv\\Lib\\site-packages\\xgboost\\core.py:158: UserWarning: [16:57:00] WARNING: C:\\buildkite-agent\\builds\\buildkite-windows-cpu-autoscaling-group-i-06abd128ca6c1688d-1\\xgboost\\xgboost-ci-windows\\src\\objective\\regression_obj.cu:227: reg:linear is now deprecated in favor of reg:squarederror.\n",
      "  warnings.warn(smsg, UserWarning)\n"
     ]
    },
    {
     "name": "stdout",
     "output_type": "stream",
     "text": [
      "[300]\tvalidation_0-rmse:0.72302\tvalidation_1-rmse:0.96077\n",
      "[321]\tvalidation_0-rmse:0.70769\tvalidation_1-rmse:0.96471\n",
      "[0]\tvalidation_0-rmse:1.99320\tvalidation_1-rmse:1.73577\n",
      "[100]\tvalidation_0-rmse:1.11833\tvalidation_1-rmse:1.16065\n",
      "[197]\tvalidation_0-rmse:0.85398\tvalidation_1-rmse:1.13965\n",
      "[0]\tvalidation_0-rmse:1.97159\tvalidation_1-rmse:1.73607\n"
     ]
    },
    {
     "name": "stderr",
     "output_type": "stream",
     "text": [
      "s:\\Pizza\\.venv\\Lib\\site-packages\\xgboost\\core.py:158: UserWarning: [16:57:00] WARNING: C:\\buildkite-agent\\builds\\buildkite-windows-cpu-autoscaling-group-i-06abd128ca6c1688d-1\\xgboost\\xgboost-ci-windows\\src\\objective\\regression_obj.cu:227: reg:linear is now deprecated in favor of reg:squarederror.\n",
      "  warnings.warn(smsg, UserWarning)\n",
      "s:\\Pizza\\.venv\\Lib\\site-packages\\xgboost\\core.py:158: UserWarning: [16:57:00] WARNING: C:\\buildkite-agent\\builds\\buildkite-windows-cpu-autoscaling-group-i-06abd128ca6c1688d-1\\xgboost\\xgboost-ci-windows\\src\\objective\\regression_obj.cu:227: reg:linear is now deprecated in favor of reg:squarederror.\n",
      "  warnings.warn(smsg, UserWarning)\n"
     ]
    },
    {
     "name": "stdout",
     "output_type": "stream",
     "text": [
      "[100]\tvalidation_0-rmse:1.11454\tvalidation_1-rmse:1.17248\n",
      "[185]\tvalidation_0-rmse:0.87637\tvalidation_1-rmse:1.17315\n",
      "Processing bbq_ckn_m...\n",
      "[0]\tvalidation_0-rmse:3.57169\tvalidation_1-rmse:5.67754\n",
      "[100]\tvalidation_0-rmse:1.92303\tvalidation_1-rmse:4.11794\n",
      "[200]\tvalidation_0-rmse:1.49745\tvalidation_1-rmse:3.61887\n"
     ]
    },
    {
     "name": "stderr",
     "output_type": "stream",
     "text": [
      "s:\\Pizza\\.venv\\Lib\\site-packages\\xgboost\\core.py:158: UserWarning: [16:57:01] WARNING: C:\\buildkite-agent\\builds\\buildkite-windows-cpu-autoscaling-group-i-06abd128ca6c1688d-1\\xgboost\\xgboost-ci-windows\\src\\objective\\regression_obj.cu:227: reg:linear is now deprecated in favor of reg:squarederror.\n",
      "  warnings.warn(smsg, UserWarning)\n"
     ]
    },
    {
     "name": "stdout",
     "output_type": "stream",
     "text": [
      "[300]\tvalidation_0-rmse:1.36796\tvalidation_1-rmse:3.50328\n",
      "[399]\tvalidation_0-rmse:1.30995\tvalidation_1-rmse:3.46960\n",
      "[0]\tvalidation_0-rmse:3.65350\tvalidation_1-rmse:3.74845\n",
      "[100]\tvalidation_0-rmse:1.99253\tvalidation_1-rmse:2.32772\n",
      "[200]\tvalidation_0-rmse:1.55728\tvalidation_1-rmse:2.05006\n"
     ]
    },
    {
     "name": "stderr",
     "output_type": "stream",
     "text": [
      "s:\\Pizza\\.venv\\Lib\\site-packages\\xgboost\\core.py:158: UserWarning: [16:57:01] WARNING: C:\\buildkite-agent\\builds\\buildkite-windows-cpu-autoscaling-group-i-06abd128ca6c1688d-1\\xgboost\\xgboost-ci-windows\\src\\objective\\regression_obj.cu:227: reg:linear is now deprecated in favor of reg:squarederror.\n",
      "  warnings.warn(smsg, UserWarning)\n"
     ]
    },
    {
     "name": "stdout",
     "output_type": "stream",
     "text": [
      "[260]\tvalidation_0-rmse:1.46566\tvalidation_1-rmse:2.04991\n",
      "[0]\tvalidation_0-rmse:3.66731\tvalidation_1-rmse:2.81925\n",
      "[100]\tvalidation_0-rmse:1.99585\tvalidation_1-rmse:1.27445\n",
      "[151]\tvalidation_0-rmse:1.70974\tvalidation_1-rmse:1.35292\n",
      "Processing pepperoni_m...\n"
     ]
    },
    {
     "name": "stderr",
     "output_type": "stream",
     "text": [
      "s:\\Pizza\\.venv\\Lib\\site-packages\\xgboost\\core.py:158: UserWarning: [16:57:01] WARNING: C:\\buildkite-agent\\builds\\buildkite-windows-cpu-autoscaling-group-i-06abd128ca6c1688d-1\\xgboost\\xgboost-ci-windows\\src\\objective\\regression_obj.cu:227: reg:linear is now deprecated in favor of reg:squarederror.\n",
      "  warnings.warn(smsg, UserWarning)\n"
     ]
    },
    {
     "name": "stdout",
     "output_type": "stream",
     "text": [
      "[0]\tvalidation_0-rmse:3.37156\tvalidation_1-rmse:3.39464\n",
      "[100]\tvalidation_0-rmse:1.83145\tvalidation_1-rmse:1.95932\n",
      "[200]\tvalidation_0-rmse:1.44146\tvalidation_1-rmse:1.69469\n"
     ]
    },
    {
     "name": "stderr",
     "output_type": "stream",
     "text": [
      "s:\\Pizza\\.venv\\Lib\\site-packages\\xgboost\\core.py:158: UserWarning: [16:57:01] WARNING: C:\\buildkite-agent\\builds\\buildkite-windows-cpu-autoscaling-group-i-06abd128ca6c1688d-1\\xgboost\\xgboost-ci-windows\\src\\objective\\regression_obj.cu:227: reg:linear is now deprecated in favor of reg:squarederror.\n",
      "  warnings.warn(smsg, UserWarning)\n"
     ]
    },
    {
     "name": "stdout",
     "output_type": "stream",
     "text": [
      "[300]\tvalidation_0-rmse:1.28200\tvalidation_1-rmse:1.67014\n",
      "[399]\tvalidation_0-rmse:1.21268\tvalidation_1-rmse:1.65580\n",
      "[0]\tvalidation_0-rmse:3.36933\tvalidation_1-rmse:3.55736\n",
      "[100]\tvalidation_0-rmse:1.82799\tvalidation_1-rmse:1.96824\n",
      "[200]\tvalidation_0-rmse:1.41940\tvalidation_1-rmse:1.53406\n"
     ]
    },
    {
     "name": "stderr",
     "output_type": "stream",
     "text": [
      "s:\\Pizza\\.venv\\Lib\\site-packages\\xgboost\\core.py:158: UserWarning: [16:57:02] WARNING: C:\\buildkite-agent\\builds\\buildkite-windows-cpu-autoscaling-group-i-06abd128ca6c1688d-1\\xgboost\\xgboost-ci-windows\\src\\objective\\regression_obj.cu:227: reg:linear is now deprecated in favor of reg:squarederror.\n",
      "  warnings.warn(smsg, UserWarning)\n"
     ]
    },
    {
     "name": "stdout",
     "output_type": "stream",
     "text": [
      "[300]\tvalidation_0-rmse:1.28704\tvalidation_1-rmse:1.40026\n",
      "[399]\tvalidation_0-rmse:1.21448\tvalidation_1-rmse:1.33893\n",
      "[0]\tvalidation_0-rmse:3.37868\tvalidation_1-rmse:2.62905\n",
      "[100]\tvalidation_0-rmse:1.82969\tvalidation_1-rmse:1.32707\n",
      "[200]\tvalidation_0-rmse:1.43102\tvalidation_1-rmse:1.23126\n",
      "[226]\tvalidation_0-rmse:1.38489\tvalidation_1-rmse:1.23093\n"
     ]
    },
    {
     "name": "stderr",
     "output_type": "stream",
     "text": [
      "s:\\Pizza\\.venv\\Lib\\site-packages\\xgboost\\core.py:158: UserWarning: [16:57:02] WARNING: C:\\buildkite-agent\\builds\\buildkite-windows-cpu-autoscaling-group-i-06abd128ca6c1688d-1\\xgboost\\xgboost-ci-windows\\src\\objective\\regression_obj.cu:227: reg:linear is now deprecated in favor of reg:squarederror.\n",
      "  warnings.warn(smsg, UserWarning)\n"
     ]
    },
    {
     "name": "stdout",
     "output_type": "stream",
     "text": [
      "Processing prsc_argla_s...\n",
      "[0]\tvalidation_0-rmse:1.94256\tvalidation_1-rmse:1.87964\n",
      "[100]\tvalidation_0-rmse:1.11847\tvalidation_1-rmse:1.18548\n",
      "[200]\tvalidation_0-rmse:0.86732\tvalidation_1-rmse:1.06752\n"
     ]
    },
    {
     "name": "stderr",
     "output_type": "stream",
     "text": [
      "s:\\Pizza\\.venv\\Lib\\site-packages\\xgboost\\core.py:158: UserWarning: [16:57:02] WARNING: C:\\buildkite-agent\\builds\\buildkite-windows-cpu-autoscaling-group-i-06abd128ca6c1688d-1\\xgboost\\xgboost-ci-windows\\src\\objective\\regression_obj.cu:227: reg:linear is now deprecated in favor of reg:squarederror.\n",
      "  warnings.warn(smsg, UserWarning)\n"
     ]
    },
    {
     "name": "stdout",
     "output_type": "stream",
     "text": [
      "[300]\tvalidation_0-rmse:0.78733\tvalidation_1-rmse:1.02816\n",
      "[399]\tvalidation_0-rmse:0.73573\tvalidation_1-rmse:1.01749\n",
      "[0]\tvalidation_0-rmse:1.92742\tvalidation_1-rmse:2.01603\n",
      "[100]\tvalidation_0-rmse:1.12130\tvalidation_1-rmse:1.23561\n",
      "[200]\tvalidation_0-rmse:0.89496\tvalidation_1-rmse:1.04310\n"
     ]
    },
    {
     "name": "stderr",
     "output_type": "stream",
     "text": [
      "s:\\Pizza\\.venv\\Lib\\site-packages\\xgboost\\core.py:158: UserWarning: [16:57:03] WARNING: C:\\buildkite-agent\\builds\\buildkite-windows-cpu-autoscaling-group-i-06abd128ca6c1688d-1\\xgboost\\xgboost-ci-windows\\src\\objective\\regression_obj.cu:227: reg:linear is now deprecated in favor of reg:squarederror.\n",
      "  warnings.warn(smsg, UserWarning)\n"
     ]
    },
    {
     "name": "stdout",
     "output_type": "stream",
     "text": [
      "[300]\tvalidation_0-rmse:0.80813\tvalidation_1-rmse:0.98731\n",
      "[399]\tvalidation_0-rmse:0.75791\tvalidation_1-rmse:0.97597\n",
      "[0]\tvalidation_0-rmse:1.94324\tvalidation_1-rmse:1.79016\n",
      "[100]\tvalidation_0-rmse:1.12720\tvalidation_1-rmse:1.10833\n",
      "[200]\tvalidation_0-rmse:0.90483\tvalidation_1-rmse:0.93897\n"
     ]
    },
    {
     "name": "stderr",
     "output_type": "stream",
     "text": [
      "s:\\Pizza\\.venv\\Lib\\site-packages\\xgboost\\core.py:158: UserWarning: [16:57:03] WARNING: C:\\buildkite-agent\\builds\\buildkite-windows-cpu-autoscaling-group-i-06abd128ca6c1688d-1\\xgboost\\xgboost-ci-windows\\src\\objective\\regression_obj.cu:227: reg:linear is now deprecated in favor of reg:squarederror.\n",
      "  warnings.warn(smsg, UserWarning)\n"
     ]
    },
    {
     "name": "stdout",
     "output_type": "stream",
     "text": [
      "[300]\tvalidation_0-rmse:0.80502\tvalidation_1-rmse:0.90998\n",
      "[399]\tvalidation_0-rmse:0.74974\tvalidation_1-rmse:0.90043\n",
      "Processing sicilian_m...\n",
      "[0]\tvalidation_0-rmse:2.73308\tvalidation_1-rmse:2.36156\n",
      "[100]\tvalidation_0-rmse:1.54130\tvalidation_1-rmse:1.67046\n",
      "[175]\tvalidation_0-rmse:1.26049\tvalidation_1-rmse:1.70131\n",
      "[0]\tvalidation_0-rmse:2.71287\tvalidation_1-rmse:3.16268\n"
     ]
    },
    {
     "name": "stderr",
     "output_type": "stream",
     "text": [
      "s:\\Pizza\\.venv\\Lib\\site-packages\\xgboost\\core.py:158: UserWarning: [16:57:04] WARNING: C:\\buildkite-agent\\builds\\buildkite-windows-cpu-autoscaling-group-i-06abd128ca6c1688d-1\\xgboost\\xgboost-ci-windows\\src\\objective\\regression_obj.cu:227: reg:linear is now deprecated in favor of reg:squarederror.\n",
      "  warnings.warn(smsg, UserWarning)\n",
      "s:\\Pizza\\.venv\\Lib\\site-packages\\xgboost\\core.py:158: UserWarning: [16:57:04] WARNING: C:\\buildkite-agent\\builds\\buildkite-windows-cpu-autoscaling-group-i-06abd128ca6c1688d-1\\xgboost\\xgboost-ci-windows\\src\\objective\\regression_obj.cu:227: reg:linear is now deprecated in favor of reg:squarederror.\n",
      "  warnings.warn(smsg, UserWarning)\n"
     ]
    },
    {
     "name": "stdout",
     "output_type": "stream",
     "text": [
      "[100]\tvalidation_0-rmse:1.53267\tvalidation_1-rmse:2.19150\n",
      "[200]\tvalidation_0-rmse:1.18594\tvalidation_1-rmse:1.88861\n",
      "[269]\tvalidation_0-rmse:1.09598\tvalidation_1-rmse:1.89728\n",
      "[0]\tvalidation_0-rmse:2.73928\tvalidation_1-rmse:1.52492\n",
      "[100]\tvalidation_0-rmse:1.55684\tvalidation_1-rmse:0.70321\n",
      "[150]\tvalidation_0-rmse:1.34070\tvalidation_1-rmse:0.75607\n"
     ]
    },
    {
     "name": "stderr",
     "output_type": "stream",
     "text": [
      "s:\\Pizza\\.venv\\Lib\\site-packages\\xgboost\\core.py:158: UserWarning: [16:57:04] WARNING: C:\\buildkite-agent\\builds\\buildkite-windows-cpu-autoscaling-group-i-06abd128ca6c1688d-1\\xgboost\\xgboost-ci-windows\\src\\objective\\regression_obj.cu:227: reg:linear is now deprecated in favor of reg:squarederror.\n",
      "  warnings.warn(smsg, UserWarning)\n"
     ]
    },
    {
     "name": "stdout",
     "output_type": "stream",
     "text": [
      "Processing veggie_veg_l...\n",
      "[0]\tvalidation_0-rmse:1.91837\tvalidation_1-rmse:1.70632\n",
      "[100]\tvalidation_0-rmse:1.06354\tvalidation_1-rmse:1.03983\n",
      "[126]\tvalidation_0-rmse:0.97750\tvalidation_1-rmse:1.07321\n",
      "[0]\tvalidation_0-rmse:1.91088\tvalidation_1-rmse:2.10904\n"
     ]
    },
    {
     "name": "stderr",
     "output_type": "stream",
     "text": [
      "s:\\Pizza\\.venv\\Lib\\site-packages\\xgboost\\core.py:158: UserWarning: [16:57:04] WARNING: C:\\buildkite-agent\\builds\\buildkite-windows-cpu-autoscaling-group-i-06abd128ca6c1688d-1\\xgboost\\xgboost-ci-windows\\src\\objective\\regression_obj.cu:227: reg:linear is now deprecated in favor of reg:squarederror.\n",
      "  warnings.warn(smsg, UserWarning)\n",
      "s:\\Pizza\\.venv\\Lib\\site-packages\\xgboost\\core.py:158: UserWarning: [16:57:05] WARNING: C:\\buildkite-agent\\builds\\buildkite-windows-cpu-autoscaling-group-i-06abd128ca6c1688d-1\\xgboost\\xgboost-ci-windows\\src\\objective\\regression_obj.cu:227: reg:linear is now deprecated in favor of reg:squarederror.\n",
      "  warnings.warn(smsg, UserWarning)\n"
     ]
    },
    {
     "name": "stdout",
     "output_type": "stream",
     "text": [
      "[100]\tvalidation_0-rmse:1.06144\tvalidation_1-rmse:1.16905\n",
      "[200]\tvalidation_0-rmse:0.83439\tvalidation_1-rmse:0.87805\n",
      "[300]\tvalidation_0-rmse:0.75109\tvalidation_1-rmse:0.78243\n",
      "[399]\tvalidation_0-rmse:0.71296\tvalidation_1-rmse:0.75492\n",
      "[0]\tvalidation_0-rmse:1.92242\tvalidation_1-rmse:1.99971\n",
      "[100]\tvalidation_0-rmse:1.04904\tvalidation_1-rmse:1.17328\n",
      "[200]\tvalidation_0-rmse:0.81955\tvalidation_1-rmse:1.09888\n",
      "[263]\tvalidation_0-rmse:0.76585\tvalidation_1-rmse:1.10588\n"
     ]
    },
    {
     "name": "stderr",
     "output_type": "stream",
     "text": [
      "s:\\Pizza\\.venv\\Lib\\site-packages\\xgboost\\core.py:158: UserWarning: [16:57:05] WARNING: C:\\buildkite-agent\\builds\\buildkite-windows-cpu-autoscaling-group-i-06abd128ca6c1688d-1\\xgboost\\xgboost-ci-windows\\src\\objective\\regression_obj.cu:227: reg:linear is now deprecated in favor of reg:squarederror.\n",
      "  warnings.warn(smsg, UserWarning)\n"
     ]
    },
    {
     "name": "stdout",
     "output_type": "stream",
     "text": [
      "Processing ckn_alfredo_s...\n",
      "[0]\tvalidation_0-rmse:0.49583\tvalidation_1-rmse:0.95409\n",
      "[100]\tvalidation_0-rmse:0.21474\tvalidation_1-rmse:0.74876\n",
      "[200]\tvalidation_0-rmse:0.09300\tvalidation_1-rmse:0.67694\n",
      "[300]\tvalidation_0-rmse:0.04028\tvalidation_1-rmse:0.65046\n"
     ]
    },
    {
     "name": "stderr",
     "output_type": "stream",
     "text": [
      "s:\\Pizza\\.venv\\Lib\\site-packages\\xgboost\\core.py:158: UserWarning: [16:57:05] WARNING: C:\\buildkite-agent\\builds\\buildkite-windows-cpu-autoscaling-group-i-06abd128ca6c1688d-1\\xgboost\\xgboost-ci-windows\\src\\objective\\regression_obj.cu:227: reg:linear is now deprecated in favor of reg:squarederror.\n",
      "  warnings.warn(smsg, UserWarning)\n"
     ]
    },
    {
     "name": "stdout",
     "output_type": "stream",
     "text": [
      "[399]\tvalidation_0-rmse:0.01759\tvalidation_1-rmse:0.64007\n",
      "[0]\tvalidation_0-rmse:0.80041\tvalidation_1-rmse:1.20028\n",
      "[100]\tvalidation_0-rmse:0.45525\tvalidation_1-rmse:0.95124\n",
      "[200]\tvalidation_0-rmse:0.29187\tvalidation_1-rmse:0.85898\n",
      "[300]\tvalidation_0-rmse:0.21556\tvalidation_1-rmse:0.82295\n"
     ]
    },
    {
     "name": "stderr",
     "output_type": "stream",
     "text": [
      "s:\\Pizza\\.venv\\Lib\\site-packages\\xgboost\\core.py:158: UserWarning: [16:57:05] WARNING: C:\\buildkite-agent\\builds\\buildkite-windows-cpu-autoscaling-group-i-06abd128ca6c1688d-1\\xgboost\\xgboost-ci-windows\\src\\objective\\regression_obj.cu:227: reg:linear is now deprecated in favor of reg:squarederror.\n",
      "  warnings.warn(smsg, UserWarning)\n"
     ]
    },
    {
     "name": "stdout",
     "output_type": "stream",
     "text": [
      "[399]\tvalidation_0-rmse:0.16727\tvalidation_1-rmse:0.80937\n",
      "[0]\tvalidation_0-rmse:1.04597\tvalidation_1-rmse:0.80184\n",
      "[100]\tvalidation_0-rmse:0.53237\tvalidation_1-rmse:0.50569\n",
      "[200]\tvalidation_0-rmse:0.34483\tvalidation_1-rmse:0.45272\n",
      "[282]\tvalidation_0-rmse:0.27550\tvalidation_1-rmse:0.45456\n"
     ]
    },
    {
     "name": "stderr",
     "output_type": "stream",
     "text": [
      "s:\\Pizza\\.venv\\Lib\\site-packages\\xgboost\\core.py:158: UserWarning: [16:57:06] WARNING: C:\\buildkite-agent\\builds\\buildkite-windows-cpu-autoscaling-group-i-06abd128ca6c1688d-1\\xgboost\\xgboost-ci-windows\\src\\objective\\regression_obj.cu:227: reg:linear is now deprecated in favor of reg:squarederror.\n",
      "  warnings.warn(smsg, UserWarning)\n"
     ]
    },
    {
     "name": "stdout",
     "output_type": "stream",
     "text": [
      "Processing pepperoni_s...\n",
      "[0]\tvalidation_0-rmse:3.16871\tvalidation_1-rmse:2.48877\n",
      "[100]\tvalidation_0-rmse:1.74988\tvalidation_1-rmse:1.36200\n",
      "[200]\tvalidation_0-rmse:1.38810\tvalidation_1-rmse:1.29632\n",
      "[201]\tvalidation_0-rmse:1.38664\tvalidation_1-rmse:1.29679\n",
      "[0]\tvalidation_0-rmse:3.14200\tvalidation_1-rmse:3.22990\n"
     ]
    },
    {
     "name": "stderr",
     "output_type": "stream",
     "text": [
      "s:\\Pizza\\.venv\\Lib\\site-packages\\xgboost\\core.py:158: UserWarning: [16:57:06] WARNING: C:\\buildkite-agent\\builds\\buildkite-windows-cpu-autoscaling-group-i-06abd128ca6c1688d-1\\xgboost\\xgboost-ci-windows\\src\\objective\\regression_obj.cu:227: reg:linear is now deprecated in favor of reg:squarederror.\n",
      "  warnings.warn(smsg, UserWarning)\n",
      "s:\\Pizza\\.venv\\Lib\\site-packages\\xgboost\\core.py:158: UserWarning: [16:57:06] WARNING: C:\\buildkite-agent\\builds\\buildkite-windows-cpu-autoscaling-group-i-06abd128ca6c1688d-1\\xgboost\\xgboost-ci-windows\\src\\objective\\regression_obj.cu:227: reg:linear is now deprecated in favor of reg:squarederror.\n",
      "  warnings.warn(smsg, UserWarning)\n"
     ]
    },
    {
     "name": "stdout",
     "output_type": "stream",
     "text": [
      "[100]\tvalidation_0-rmse:1.74529\tvalidation_1-rmse:1.85422\n",
      "[200]\tvalidation_0-rmse:1.38198\tvalidation_1-rmse:1.49899\n",
      "[300]\tvalidation_0-rmse:1.26145\tvalidation_1-rmse:1.44023\n",
      "[375]\tvalidation_0-rmse:1.21687\tvalidation_1-rmse:1.44203\n",
      "[0]\tvalidation_0-rmse:3.14772\tvalidation_1-rmse:2.07109\n",
      "[100]\tvalidation_0-rmse:1.74752\tvalidation_1-rmse:1.00931\n",
      "[200]\tvalidation_0-rmse:1.39010\tvalidation_1-rmse:0.91867\n",
      "[217]\tvalidation_0-rmse:1.36574\tvalidation_1-rmse:0.92689\n"
     ]
    },
    {
     "name": "stderr",
     "output_type": "stream",
     "text": [
      "s:\\Pizza\\.venv\\Lib\\site-packages\\xgboost\\core.py:158: UserWarning: [16:57:07] WARNING: C:\\buildkite-agent\\builds\\buildkite-windows-cpu-autoscaling-group-i-06abd128ca6c1688d-1\\xgboost\\xgboost-ci-windows\\src\\objective\\regression_obj.cu:227: reg:linear is now deprecated in favor of reg:squarederror.\n",
      "  warnings.warn(smsg, UserWarning)\n"
     ]
    },
    {
     "name": "stdout",
     "output_type": "stream",
     "text": [
      "Processing green_garden_l...\n",
      "[0]\tvalidation_0-rmse:1.25003\tvalidation_1-rmse:1.30796\n",
      "[100]\tvalidation_0-rmse:0.64683\tvalidation_1-rmse:1.14487\n",
      "[200]\tvalidation_0-rmse:0.33486\tvalidation_1-rmse:1.06977\n",
      "[300]\tvalidation_0-rmse:0.17336\tvalidation_1-rmse:1.04024\n"
     ]
    },
    {
     "name": "stderr",
     "output_type": "stream",
     "text": [
      "s:\\Pizza\\.venv\\Lib\\site-packages\\xgboost\\core.py:158: UserWarning: [16:57:07] WARNING: C:\\buildkite-agent\\builds\\buildkite-windows-cpu-autoscaling-group-i-06abd128ca6c1688d-1\\xgboost\\xgboost-ci-windows\\src\\objective\\regression_obj.cu:227: reg:linear is now deprecated in favor of reg:squarederror.\n",
      "  warnings.warn(smsg, UserWarning)\n"
     ]
    },
    {
     "name": "stdout",
     "output_type": "stream",
     "text": [
      "[399]\tvalidation_0-rmse:0.09034\tvalidation_1-rmse:1.02778\n",
      "[0]\tvalidation_0-rmse:1.29482\tvalidation_1-rmse:0.79858\n",
      "[100]\tvalidation_0-rmse:0.60416\tvalidation_1-rmse:0.42051\n",
      "[200]\tvalidation_0-rmse:0.34233\tvalidation_1-rmse:0.39823\n",
      "[203]\tvalidation_0-rmse:0.33741\tvalidation_1-rmse:0.39786\n",
      "[0]\tvalidation_0-rmse:1.08764\tvalidation_1-rmse:0.75891\n"
     ]
    },
    {
     "name": "stderr",
     "output_type": "stream",
     "text": [
      "s:\\Pizza\\.venv\\Lib\\site-packages\\xgboost\\core.py:158: UserWarning: [16:57:07] WARNING: C:\\buildkite-agent\\builds\\buildkite-windows-cpu-autoscaling-group-i-06abd128ca6c1688d-1\\xgboost\\xgboost-ci-windows\\src\\objective\\regression_obj.cu:227: reg:linear is now deprecated in favor of reg:squarederror.\n",
      "  warnings.warn(smsg, UserWarning)\n",
      "s:\\Pizza\\.venv\\Lib\\site-packages\\xgboost\\core.py:158: UserWarning: [16:57:07] WARNING: C:\\buildkite-agent\\builds\\buildkite-windows-cpu-autoscaling-group-i-06abd128ca6c1688d-1\\xgboost\\xgboost-ci-windows\\src\\objective\\regression_obj.cu:227: reg:linear is now deprecated in favor of reg:squarederror.\n",
      "  warnings.warn(smsg, UserWarning)\n"
     ]
    },
    {
     "name": "stdout",
     "output_type": "stream",
     "text": [
      "[100]\tvalidation_0-rmse:0.51840\tvalidation_1-rmse:0.47914\n",
      "[200]\tvalidation_0-rmse:0.31582\tvalidation_1-rmse:0.41450\n",
      "[300]\tvalidation_0-rmse:0.24087\tvalidation_1-rmse:0.39618\n",
      "[368]\tvalidation_0-rmse:0.20857\tvalidation_1-rmse:0.39363\n",
      "Processing green_garden_m...\n",
      "[0]\tvalidation_0-rmse:1.57731\tvalidation_1-rmse:1.44364\n",
      "[100]\tvalidation_0-rmse:0.85298\tvalidation_1-rmse:0.82292\n",
      "[200]\tvalidation_0-rmse:0.65585\tvalidation_1-rmse:0.73653\n"
     ]
    },
    {
     "name": "stderr",
     "output_type": "stream",
     "text": [
      "s:\\Pizza\\.venv\\Lib\\site-packages\\xgboost\\core.py:158: UserWarning: [16:57:08] WARNING: C:\\buildkite-agent\\builds\\buildkite-windows-cpu-autoscaling-group-i-06abd128ca6c1688d-1\\xgboost\\xgboost-ci-windows\\src\\objective\\regression_obj.cu:227: reg:linear is now deprecated in favor of reg:squarederror.\n",
      "  warnings.warn(smsg, UserWarning)\n"
     ]
    },
    {
     "name": "stdout",
     "output_type": "stream",
     "text": [
      "[300]\tvalidation_0-rmse:0.58928\tvalidation_1-rmse:0.72865\n",
      "[399]\tvalidation_0-rmse:0.55405\tvalidation_1-rmse:0.72512\n",
      "[0]\tvalidation_0-rmse:1.55858\tvalidation_1-rmse:1.34932\n",
      "[100]\tvalidation_0-rmse:0.86633\tvalidation_1-rmse:0.84965\n",
      "[200]\tvalidation_0-rmse:0.66525\tvalidation_1-rmse:0.81491\n",
      "[224]\tvalidation_0-rmse:0.64323\tvalidation_1-rmse:0.81730\n",
      "[0]\tvalidation_0-rmse:1.53925\tvalidation_1-rmse:1.29901\n"
     ]
    },
    {
     "name": "stderr",
     "output_type": "stream",
     "text": [
      "s:\\Pizza\\.venv\\Lib\\site-packages\\xgboost\\core.py:158: UserWarning: [16:57:08] WARNING: C:\\buildkite-agent\\builds\\buildkite-windows-cpu-autoscaling-group-i-06abd128ca6c1688d-1\\xgboost\\xgboost-ci-windows\\src\\objective\\regression_obj.cu:227: reg:linear is now deprecated in favor of reg:squarederror.\n",
      "  warnings.warn(smsg, UserWarning)\n",
      "s:\\Pizza\\.venv\\Lib\\site-packages\\xgboost\\core.py:158: UserWarning: [16:57:08] WARNING: C:\\buildkite-agent\\builds\\buildkite-windows-cpu-autoscaling-group-i-06abd128ca6c1688d-1\\xgboost\\xgboost-ci-windows\\src\\objective\\regression_obj.cu:227: reg:linear is now deprecated in favor of reg:squarederror.\n",
      "  warnings.warn(smsg, UserWarning)\n"
     ]
    },
    {
     "name": "stdout",
     "output_type": "stream",
     "text": [
      "[100]\tvalidation_0-rmse:0.86073\tvalidation_1-rmse:0.85592\n",
      "[138]\tvalidation_0-rmse:0.76601\tvalidation_1-rmse:0.88542\n",
      "Processing pep_msh_pep_l...\n",
      "[0]\tvalidation_0-rmse:1.91915\tvalidation_1-rmse:2.40465\n",
      "[100]\tvalidation_0-rmse:1.06504\tvalidation_1-rmse:1.61076\n",
      "[200]\tvalidation_0-rmse:0.81416\tvalidation_1-rmse:1.39190\n",
      "[294]\tvalidation_0-rmse:0.73461\tvalidation_1-rmse:1.38631\n"
     ]
    },
    {
     "name": "stderr",
     "output_type": "stream",
     "text": [
      "s:\\Pizza\\.venv\\Lib\\site-packages\\xgboost\\core.py:158: UserWarning: [16:57:08] WARNING: C:\\buildkite-agent\\builds\\buildkite-windows-cpu-autoscaling-group-i-06abd128ca6c1688d-1\\xgboost\\xgboost-ci-windows\\src\\objective\\regression_obj.cu:227: reg:linear is now deprecated in favor of reg:squarederror.\n",
      "  warnings.warn(smsg, UserWarning)\n"
     ]
    },
    {
     "name": "stdout",
     "output_type": "stream",
     "text": [
      "[0]\tvalidation_0-rmse:1.95960\tvalidation_1-rmse:2.37713\n",
      "[100]\tvalidation_0-rmse:1.09591\tvalidation_1-rmse:1.71619\n",
      "[200]\tvalidation_0-rmse:0.85764\tvalidation_1-rmse:1.51295\n"
     ]
    },
    {
     "name": "stderr",
     "output_type": "stream",
     "text": [
      "s:\\Pizza\\.venv\\Lib\\site-packages\\xgboost\\core.py:158: UserWarning: [16:57:09] WARNING: C:\\buildkite-agent\\builds\\buildkite-windows-cpu-autoscaling-group-i-06abd128ca6c1688d-1\\xgboost\\xgboost-ci-windows\\src\\objective\\regression_obj.cu:227: reg:linear is now deprecated in favor of reg:squarederror.\n",
      "  warnings.warn(smsg, UserWarning)\n"
     ]
    },
    {
     "name": "stdout",
     "output_type": "stream",
     "text": [
      "[300]\tvalidation_0-rmse:0.78163\tvalidation_1-rmse:1.47065\n",
      "[355]\tvalidation_0-rmse:0.75512\tvalidation_1-rmse:1.47685\n",
      "[0]\tvalidation_0-rmse:1.99858\tvalidation_1-rmse:1.52923\n",
      "[100]\tvalidation_0-rmse:1.12647\tvalidation_1-rmse:0.80301\n",
      "[200]\tvalidation_0-rmse:0.87907\tvalidation_1-rmse:0.75396\n",
      "[226]\tvalidation_0-rmse:0.84844\tvalidation_1-rmse:0.76191\n"
     ]
    },
    {
     "name": "stderr",
     "output_type": "stream",
     "text": [
      "s:\\Pizza\\.venv\\Lib\\site-packages\\xgboost\\core.py:158: UserWarning: [16:57:09] WARNING: C:\\buildkite-agent\\builds\\buildkite-windows-cpu-autoscaling-group-i-06abd128ca6c1688d-1\\xgboost\\xgboost-ci-windows\\src\\objective\\regression_obj.cu:227: reg:linear is now deprecated in favor of reg:squarederror.\n",
      "  warnings.warn(smsg, UserWarning)\n"
     ]
    },
    {
     "name": "stdout",
     "output_type": "stream",
     "text": [
      "Processing hawaiian_s...\n",
      "[0]\tvalidation_0-rmse:3.82947\tvalidation_1-rmse:3.66459\n",
      "[100]\tvalidation_0-rmse:1.97144\tvalidation_1-rmse:2.06473\n",
      "[200]\tvalidation_0-rmse:1.45722\tvalidation_1-rmse:1.80391\n"
     ]
    },
    {
     "name": "stderr",
     "output_type": "stream",
     "text": [
      "s:\\Pizza\\.venv\\Lib\\site-packages\\xgboost\\core.py:158: UserWarning: [16:57:09] WARNING: C:\\buildkite-agent\\builds\\buildkite-windows-cpu-autoscaling-group-i-06abd128ca6c1688d-1\\xgboost\\xgboost-ci-windows\\src\\objective\\regression_obj.cu:227: reg:linear is now deprecated in favor of reg:squarederror.\n",
      "  warnings.warn(smsg, UserWarning)\n"
     ]
    },
    {
     "name": "stdout",
     "output_type": "stream",
     "text": [
      "[286]\tvalidation_0-rmse:1.32845\tvalidation_1-rmse:1.81146\n",
      "[0]\tvalidation_0-rmse:3.81807\tvalidation_1-rmse:5.74599\n",
      "[100]\tvalidation_0-rmse:1.97679\tvalidation_1-rmse:4.19222\n",
      "[200]\tvalidation_0-rmse:1.47771\tvalidation_1-rmse:3.84649\n"
     ]
    },
    {
     "name": "stderr",
     "output_type": "stream",
     "text": [
      "s:\\Pizza\\.venv\\Lib\\site-packages\\xgboost\\core.py:158: UserWarning: [16:57:10] WARNING: C:\\buildkite-agent\\builds\\buildkite-windows-cpu-autoscaling-group-i-06abd128ca6c1688d-1\\xgboost\\xgboost-ci-windows\\src\\objective\\regression_obj.cu:227: reg:linear is now deprecated in favor of reg:squarederror.\n",
      "  warnings.warn(smsg, UserWarning)\n"
     ]
    },
    {
     "name": "stdout",
     "output_type": "stream",
     "text": [
      "[300]\tvalidation_0-rmse:1.34223\tvalidation_1-rmse:3.76765\n",
      "[399]\tvalidation_0-rmse:1.28115\tvalidation_1-rmse:3.69248\n",
      "[0]\tvalidation_0-rmse:3.89859\tvalidation_1-rmse:2.25019\n",
      "[100]\tvalidation_0-rmse:2.03857\tvalidation_1-rmse:1.00098\n",
      "[141]\tvalidation_0-rmse:1.75917\tvalidation_1-rmse:1.06400\n"
     ]
    },
    {
     "name": "stderr",
     "output_type": "stream",
     "text": [
      "s:\\Pizza\\.venv\\Lib\\site-packages\\xgboost\\core.py:158: UserWarning: [16:57:10] WARNING: C:\\buildkite-agent\\builds\\buildkite-windows-cpu-autoscaling-group-i-06abd128ca6c1688d-1\\xgboost\\xgboost-ci-windows\\src\\objective\\regression_obj.cu:227: reg:linear is now deprecated in favor of reg:squarederror.\n",
      "  warnings.warn(smsg, UserWarning)\n"
     ]
    },
    {
     "name": "stdout",
     "output_type": "stream",
     "text": [
      "Processing four_cheese_l...\n",
      "[0]\tvalidation_0-rmse:4.89442\tvalidation_1-rmse:4.70412\n",
      "[100]\tvalidation_0-rmse:2.64889\tvalidation_1-rmse:2.31510\n",
      "[200]\tvalidation_0-rmse:2.10226\tvalidation_1-rmse:1.79919\n"
     ]
    },
    {
     "name": "stderr",
     "output_type": "stream",
     "text": [
      "s:\\Pizza\\.venv\\Lib\\site-packages\\xgboost\\core.py:158: UserWarning: [16:57:10] WARNING: C:\\buildkite-agent\\builds\\buildkite-windows-cpu-autoscaling-group-i-06abd128ca6c1688d-1\\xgboost\\xgboost-ci-windows\\src\\objective\\regression_obj.cu:227: reg:linear is now deprecated in favor of reg:squarederror.\n",
      "  warnings.warn(smsg, UserWarning)\n"
     ]
    },
    {
     "name": "stdout",
     "output_type": "stream",
     "text": [
      "[300]\tvalidation_0-rmse:1.93328\tvalidation_1-rmse:1.68962\n",
      "[399]\tvalidation_0-rmse:1.83940\tvalidation_1-rmse:1.65827\n",
      "[0]\tvalidation_0-rmse:4.88978\tvalidation_1-rmse:3.84132\n",
      "[100]\tvalidation_0-rmse:2.63016\tvalidation_1-rmse:2.22263\n",
      "[200]\tvalidation_0-rmse:2.08595\tvalidation_1-rmse:2.04619\n"
     ]
    },
    {
     "name": "stderr",
     "output_type": "stream",
     "text": [
      "s:\\Pizza\\.venv\\Lib\\site-packages\\xgboost\\core.py:158: UserWarning: [16:57:11] WARNING: C:\\buildkite-agent\\builds\\buildkite-windows-cpu-autoscaling-group-i-06abd128ca6c1688d-1\\xgboost\\xgboost-ci-windows\\src\\objective\\regression_obj.cu:227: reg:linear is now deprecated in favor of reg:squarederror.\n",
      "  warnings.warn(smsg, UserWarning)\n"
     ]
    },
    {
     "name": "stdout",
     "output_type": "stream",
     "text": [
      "[300]\tvalidation_0-rmse:1.92561\tvalidation_1-rmse:1.99822\n",
      "[399]\tvalidation_0-rmse:1.82690\tvalidation_1-rmse:1.97205\n",
      "[0]\tvalidation_0-rmse:4.86748\tvalidation_1-rmse:4.77971\n",
      "[100]\tvalidation_0-rmse:2.64203\tvalidation_1-rmse:2.92244\n"
     ]
    },
    {
     "name": "stderr",
     "output_type": "stream",
     "text": [
      "s:\\Pizza\\.venv\\Lib\\site-packages\\xgboost\\core.py:158: UserWarning: [16:57:11] WARNING: C:\\buildkite-agent\\builds\\buildkite-windows-cpu-autoscaling-group-i-06abd128ca6c1688d-1\\xgboost\\xgboost-ci-windows\\src\\objective\\regression_obj.cu:227: reg:linear is now deprecated in favor of reg:squarederror.\n",
      "  warnings.warn(smsg, UserWarning)\n"
     ]
    },
    {
     "name": "stdout",
     "output_type": "stream",
     "text": [
      "[200]\tvalidation_0-rmse:2.08830\tvalidation_1-rmse:2.31760\n",
      "[300]\tvalidation_0-rmse:1.91526\tvalidation_1-rmse:2.13750\n",
      "[342]\tvalidation_0-rmse:1.87825\tvalidation_1-rmse:2.16298\n",
      "Processing peppr_salami_m...\n",
      "[0]\tvalidation_0-rmse:1.92042\tvalidation_1-rmse:2.00065\n",
      "[100]\tvalidation_0-rmse:1.10941\tvalidation_1-rmse:1.31170\n"
     ]
    },
    {
     "name": "stderr",
     "output_type": "stream",
     "text": [
      "s:\\Pizza\\.venv\\Lib\\site-packages\\xgboost\\core.py:158: UserWarning: [16:57:11] WARNING: C:\\buildkite-agent\\builds\\buildkite-windows-cpu-autoscaling-group-i-06abd128ca6c1688d-1\\xgboost\\xgboost-ci-windows\\src\\objective\\regression_obj.cu:227: reg:linear is now deprecated in favor of reg:squarederror.\n",
      "  warnings.warn(smsg, UserWarning)\n"
     ]
    },
    {
     "name": "stdout",
     "output_type": "stream",
     "text": [
      "[200]\tvalidation_0-rmse:0.88892\tvalidation_1-rmse:1.10791\n",
      "[300]\tvalidation_0-rmse:0.81499\tvalidation_1-rmse:1.03988\n",
      "[399]\tvalidation_0-rmse:0.76897\tvalidation_1-rmse:1.02100\n",
      "[0]\tvalidation_0-rmse:1.93002\tvalidation_1-rmse:1.79076\n",
      "[100]\tvalidation_0-rmse:1.12020\tvalidation_1-rmse:1.22623\n",
      "[200]\tvalidation_0-rmse:0.89015\tvalidation_1-rmse:1.18870\n",
      "[242]\tvalidation_0-rmse:0.84958\tvalidation_1-rmse:1.20490\n",
      "[0]\tvalidation_0-rmse:1.92084\tvalidation_1-rmse:1.79628\n"
     ]
    },
    {
     "name": "stderr",
     "output_type": "stream",
     "text": [
      "s:\\Pizza\\.venv\\Lib\\site-packages\\xgboost\\core.py:158: UserWarning: [16:57:12] WARNING: C:\\buildkite-agent\\builds\\buildkite-windows-cpu-autoscaling-group-i-06abd128ca6c1688d-1\\xgboost\\xgboost-ci-windows\\src\\objective\\regression_obj.cu:227: reg:linear is now deprecated in favor of reg:squarederror.\n",
      "  warnings.warn(smsg, UserWarning)\n",
      "s:\\Pizza\\.venv\\Lib\\site-packages\\xgboost\\core.py:158: UserWarning: [16:57:12] WARNING: C:\\buildkite-agent\\builds\\buildkite-windows-cpu-autoscaling-group-i-06abd128ca6c1688d-1\\xgboost\\xgboost-ci-windows\\src\\objective\\regression_obj.cu:227: reg:linear is now deprecated in favor of reg:squarederror.\n",
      "  warnings.warn(smsg, UserWarning)\n"
     ]
    },
    {
     "name": "stdout",
     "output_type": "stream",
     "text": [
      "[100]\tvalidation_0-rmse:1.12055\tvalidation_1-rmse:1.39704\n",
      "[200]\tvalidation_0-rmse:0.91450\tvalidation_1-rmse:1.25459\n",
      "[300]\tvalidation_0-rmse:0.83611\tvalidation_1-rmse:1.21114\n",
      "[399]\tvalidation_0-rmse:0.79226\tvalidation_1-rmse:1.20745\n",
      "Processing ckn_alfredo_m...\n",
      "[0]\tvalidation_0-rmse:2.89157\tvalidation_1-rmse:2.81628\n",
      "[100]\tvalidation_0-rmse:1.58475\tvalidation_1-rmse:1.57828\n",
      "[200]\tvalidation_0-rmse:1.23463\tvalidation_1-rmse:1.25744\n"
     ]
    },
    {
     "name": "stderr",
     "output_type": "stream",
     "text": [
      "s:\\Pizza\\.venv\\Lib\\site-packages\\xgboost\\core.py:158: UserWarning: [16:57:12] WARNING: C:\\buildkite-agent\\builds\\buildkite-windows-cpu-autoscaling-group-i-06abd128ca6c1688d-1\\xgboost\\xgboost-ci-windows\\src\\objective\\regression_obj.cu:227: reg:linear is now deprecated in favor of reg:squarederror.\n",
      "  warnings.warn(smsg, UserWarning)\n"
     ]
    },
    {
     "name": "stdout",
     "output_type": "stream",
     "text": [
      "[300]\tvalidation_0-rmse:1.11339\tvalidation_1-rmse:1.21259\n",
      "[399]\tvalidation_0-rmse:1.04891\tvalidation_1-rmse:1.20757\n",
      "[0]\tvalidation_0-rmse:2.88688\tvalidation_1-rmse:2.32893\n",
      "[100]\tvalidation_0-rmse:1.57032\tvalidation_1-rmse:1.33599\n",
      "[196]\tvalidation_0-rmse:1.23125\tvalidation_1-rmse:1.31014\n",
      "[0]\tvalidation_0-rmse:2.86524\tvalidation_1-rmse:2.45254\n"
     ]
    },
    {
     "name": "stderr",
     "output_type": "stream",
     "text": [
      "s:\\Pizza\\.venv\\Lib\\site-packages\\xgboost\\core.py:158: UserWarning: [16:57:13] WARNING: C:\\buildkite-agent\\builds\\buildkite-windows-cpu-autoscaling-group-i-06abd128ca6c1688d-1\\xgboost\\xgboost-ci-windows\\src\\objective\\regression_obj.cu:227: reg:linear is now deprecated in favor of reg:squarederror.\n",
      "  warnings.warn(smsg, UserWarning)\n",
      "s:\\Pizza\\.venv\\Lib\\site-packages\\xgboost\\core.py:158: UserWarning: [16:57:13] WARNING: C:\\buildkite-agent\\builds\\buildkite-windows-cpu-autoscaling-group-i-06abd128ca6c1688d-1\\xgboost\\xgboost-ci-windows\\src\\objective\\regression_obj.cu:227: reg:linear is now deprecated in favor of reg:squarederror.\n",
      "  warnings.warn(smsg, UserWarning)\n"
     ]
    },
    {
     "name": "stdout",
     "output_type": "stream",
     "text": [
      "[100]\tvalidation_0-rmse:1.56748\tvalidation_1-rmse:1.35178\n",
      "[200]\tvalidation_0-rmse:1.24096\tvalidation_1-rmse:1.17319\n",
      "[283]\tvalidation_0-rmse:1.15483\tvalidation_1-rmse:1.16792\n",
      "Processing peppr_salami_l...\n",
      "[0]\tvalidation_0-rmse:2.81703\tvalidation_1-rmse:3.84481\n",
      "[100]\tvalidation_0-rmse:1.53010\tvalidation_1-rmse:2.49543\n",
      "[200]\tvalidation_0-rmse:1.18872\tvalidation_1-rmse:2.18962\n",
      "[278]\tvalidation_0-rmse:1.09190\tvalidation_1-rmse:2.20659\n"
     ]
    },
    {
     "name": "stderr",
     "output_type": "stream",
     "text": [
      "s:\\Pizza\\.venv\\Lib\\site-packages\\xgboost\\core.py:158: UserWarning: [16:57:13] WARNING: C:\\buildkite-agent\\builds\\buildkite-windows-cpu-autoscaling-group-i-06abd128ca6c1688d-1\\xgboost\\xgboost-ci-windows\\src\\objective\\regression_obj.cu:227: reg:linear is now deprecated in favor of reg:squarederror.\n",
      "  warnings.warn(smsg, UserWarning)\n"
     ]
    },
    {
     "name": "stdout",
     "output_type": "stream",
     "text": [
      "[0]\tvalidation_0-rmse:2.86499\tvalidation_1-rmse:3.25265\n",
      "[100]\tvalidation_0-rmse:1.54806\tvalidation_1-rmse:2.00144\n",
      "[200]\tvalidation_0-rmse:1.20793\tvalidation_1-rmse:1.57882\n"
     ]
    },
    {
     "name": "stderr",
     "output_type": "stream",
     "text": [
      "s:\\Pizza\\.venv\\Lib\\site-packages\\xgboost\\core.py:158: UserWarning: [16:57:14] WARNING: C:\\buildkite-agent\\builds\\buildkite-windows-cpu-autoscaling-group-i-06abd128ca6c1688d-1\\xgboost\\xgboost-ci-windows\\src\\objective\\regression_obj.cu:227: reg:linear is now deprecated in favor of reg:squarederror.\n",
      "  warnings.warn(smsg, UserWarning)\n"
     ]
    },
    {
     "name": "stdout",
     "output_type": "stream",
     "text": [
      "[300]\tvalidation_0-rmse:1.09705\tvalidation_1-rmse:1.52143\n",
      "[344]\tvalidation_0-rmse:1.06746\tvalidation_1-rmse:1.53721\n",
      "[0]\tvalidation_0-rmse:2.88957\tvalidation_1-rmse:2.45238\n",
      "[100]\tvalidation_0-rmse:1.57056\tvalidation_1-rmse:1.39719\n",
      "[200]\tvalidation_0-rmse:1.22000\tvalidation_1-rmse:1.34880\n",
      "[217]\tvalidation_0-rmse:1.18871\tvalidation_1-rmse:1.35474\n"
     ]
    },
    {
     "name": "stderr",
     "output_type": "stream",
     "text": [
      "s:\\Pizza\\.venv\\Lib\\site-packages\\xgboost\\core.py:158: UserWarning: [16:57:14] WARNING: C:\\buildkite-agent\\builds\\buildkite-windows-cpu-autoscaling-group-i-06abd128ca6c1688d-1\\xgboost\\xgboost-ci-windows\\src\\objective\\regression_obj.cu:227: reg:linear is now deprecated in favor of reg:squarederror.\n",
      "  warnings.warn(smsg, UserWarning)\n"
     ]
    },
    {
     "name": "stdout",
     "output_type": "stream",
     "text": [
      "Processing spin_pesto_s...\n",
      "[0]\tvalidation_0-rmse:1.93928\tvalidation_1-rmse:1.59381\n",
      "[100]\tvalidation_0-rmse:1.09270\tvalidation_1-rmse:0.93908\n",
      "[200]\tvalidation_0-rmse:0.86577\tvalidation_1-rmse:0.79968\n"
     ]
    },
    {
     "name": "stderr",
     "output_type": "stream",
     "text": [
      "s:\\Pizza\\.venv\\Lib\\site-packages\\xgboost\\core.py:158: UserWarning: [16:57:14] WARNING: C:\\buildkite-agent\\builds\\buildkite-windows-cpu-autoscaling-group-i-06abd128ca6c1688d-1\\xgboost\\xgboost-ci-windows\\src\\objective\\regression_obj.cu:227: reg:linear is now deprecated in favor of reg:squarederror.\n",
      "  warnings.warn(smsg, UserWarning)\n"
     ]
    },
    {
     "name": "stdout",
     "output_type": "stream",
     "text": [
      "[300]\tvalidation_0-rmse:0.79156\tvalidation_1-rmse:0.77560\n",
      "[339]\tvalidation_0-rmse:0.76666\tvalidation_1-rmse:0.77776\n",
      "[0]\tvalidation_0-rmse:1.91099\tvalidation_1-rmse:2.99682\n",
      "[100]\tvalidation_0-rmse:1.07532\tvalidation_1-rmse:2.37111\n",
      "[200]\tvalidation_0-rmse:0.84772\tvalidation_1-rmse:2.17982\n"
     ]
    },
    {
     "name": "stderr",
     "output_type": "stream",
     "text": [
      "s:\\Pizza\\.venv\\Lib\\site-packages\\xgboost\\core.py:158: UserWarning: [16:57:14] WARNING: C:\\buildkite-agent\\builds\\buildkite-windows-cpu-autoscaling-group-i-06abd128ca6c1688d-1\\xgboost\\xgboost-ci-windows\\src\\objective\\regression_obj.cu:227: reg:linear is now deprecated in favor of reg:squarederror.\n",
      "  warnings.warn(smsg, UserWarning)\n"
     ]
    },
    {
     "name": "stdout",
     "output_type": "stream",
     "text": [
      "[300]\tvalidation_0-rmse:0.77561\tvalidation_1-rmse:2.12041\n",
      "[399]\tvalidation_0-rmse:0.72842\tvalidation_1-rmse:2.08718\n",
      "[0]\tvalidation_0-rmse:2.02190\tvalidation_1-rmse:1.80786\n",
      "[100]\tvalidation_0-rmse:1.14059\tvalidation_1-rmse:1.27406\n",
      "[200]\tvalidation_0-rmse:0.91721\tvalidation_1-rmse:1.13263\n"
     ]
    },
    {
     "name": "stderr",
     "output_type": "stream",
     "text": [
      "s:\\Pizza\\.venv\\Lib\\site-packages\\xgboost\\core.py:158: UserWarning: [16:57:15] WARNING: C:\\buildkite-agent\\builds\\buildkite-windows-cpu-autoscaling-group-i-06abd128ca6c1688d-1\\xgboost\\xgboost-ci-windows\\src\\objective\\regression_obj.cu:227: reg:linear is now deprecated in favor of reg:squarederror.\n",
      "  warnings.warn(smsg, UserWarning)\n"
     ]
    },
    {
     "name": "stdout",
     "output_type": "stream",
     "text": [
      "[300]\tvalidation_0-rmse:0.83199\tvalidation_1-rmse:1.08262\n",
      "[399]\tvalidation_0-rmse:0.78274\tvalidation_1-rmse:1.07448\n",
      "Processing thai_ckn_m...\n",
      "[0]\tvalidation_0-rmse:2.03432\tvalidation_1-rmse:1.94822\n",
      "[100]\tvalidation_0-rmse:1.10940\tvalidation_1-rmse:1.16935\n",
      "[200]\tvalidation_0-rmse:0.85188\tvalidation_1-rmse:1.03779\n"
     ]
    },
    {
     "name": "stderr",
     "output_type": "stream",
     "text": [
      "s:\\Pizza\\.venv\\Lib\\site-packages\\xgboost\\core.py:158: UserWarning: [16:57:15] WARNING: C:\\buildkite-agent\\builds\\buildkite-windows-cpu-autoscaling-group-i-06abd128ca6c1688d-1\\xgboost\\xgboost-ci-windows\\src\\objective\\regression_obj.cu:227: reg:linear is now deprecated in favor of reg:squarederror.\n",
      "  warnings.warn(smsg, UserWarning)\n"
     ]
    },
    {
     "name": "stdout",
     "output_type": "stream",
     "text": [
      "[300]\tvalidation_0-rmse:0.76142\tvalidation_1-rmse:1.02198\n",
      "[399]\tvalidation_0-rmse:0.71351\tvalidation_1-rmse:1.01804\n",
      "[0]\tvalidation_0-rmse:2.03033\tvalidation_1-rmse:1.89338\n",
      "[100]\tvalidation_0-rmse:1.10561\tvalidation_1-rmse:1.20661\n",
      "[200]\tvalidation_0-rmse:0.85441\tvalidation_1-rmse:1.14386\n",
      "[279]\tvalidation_0-rmse:0.78429\tvalidation_1-rmse:1.15172\n"
     ]
    },
    {
     "name": "stderr",
     "output_type": "stream",
     "text": [
      "s:\\Pizza\\.venv\\Lib\\site-packages\\xgboost\\core.py:158: UserWarning: [16:57:16] WARNING: C:\\buildkite-agent\\builds\\buildkite-windows-cpu-autoscaling-group-i-06abd128ca6c1688d-1\\xgboost\\xgboost-ci-windows\\src\\objective\\regression_obj.cu:227: reg:linear is now deprecated in favor of reg:squarederror.\n",
      "  warnings.warn(smsg, UserWarning)\n"
     ]
    },
    {
     "name": "stdout",
     "output_type": "stream",
     "text": [
      "[0]\tvalidation_0-rmse:2.02153\tvalidation_1-rmse:1.82589\n",
      "[100]\tvalidation_0-rmse:1.11205\tvalidation_1-rmse:1.12992\n",
      "[200]\tvalidation_0-rmse:0.86751\tvalidation_1-rmse:1.04382\n"
     ]
    },
    {
     "name": "stderr",
     "output_type": "stream",
     "text": [
      "s:\\Pizza\\.venv\\Lib\\site-packages\\xgboost\\core.py:158: UserWarning: [16:57:16] WARNING: C:\\buildkite-agent\\builds\\buildkite-windows-cpu-autoscaling-group-i-06abd128ca6c1688d-1\\xgboost\\xgboost-ci-windows\\src\\objective\\regression_obj.cu:227: reg:linear is now deprecated in favor of reg:squarederror.\n",
      "  warnings.warn(smsg, UserWarning)\n"
     ]
    },
    {
     "name": "stdout",
     "output_type": "stream",
     "text": [
      "[275]\tvalidation_0-rmse:0.80325\tvalidation_1-rmse:1.05041\n",
      "Processing classic_dlx_l...\n",
      "[0]\tvalidation_0-rmse:2.27569\tvalidation_1-rmse:2.34877\n",
      "[100]\tvalidation_0-rmse:1.22507\tvalidation_1-rmse:1.57977\n",
      "[200]\tvalidation_0-rmse:0.93282\tvalidation_1-rmse:1.39501\n",
      "[300]\tvalidation_0-rmse:0.82204\tvalidation_1-rmse:1.33042\n"
     ]
    },
    {
     "name": "stderr",
     "output_type": "stream",
     "text": [
      "s:\\Pizza\\.venv\\Lib\\site-packages\\xgboost\\core.py:158: UserWarning: [16:57:16] WARNING: C:\\buildkite-agent\\builds\\buildkite-windows-cpu-autoscaling-group-i-06abd128ca6c1688d-1\\xgboost\\xgboost-ci-windows\\src\\objective\\regression_obj.cu:227: reg:linear is now deprecated in favor of reg:squarederror.\n",
      "  warnings.warn(smsg, UserWarning)\n"
     ]
    },
    {
     "name": "stdout",
     "output_type": "stream",
     "text": [
      "[399]\tvalidation_0-rmse:0.75719\tvalidation_1-rmse:1.32023\n",
      "[0]\tvalidation_0-rmse:2.28302\tvalidation_1-rmse:3.04935\n",
      "[100]\tvalidation_0-rmse:1.23226\tvalidation_1-rmse:2.28672\n",
      "[200]\tvalidation_0-rmse:0.93181\tvalidation_1-rmse:1.99631\n"
     ]
    },
    {
     "name": "stderr",
     "output_type": "stream",
     "text": [
      "s:\\Pizza\\.venv\\Lib\\site-packages\\xgboost\\core.py:158: UserWarning: [16:57:17] WARNING: C:\\buildkite-agent\\builds\\buildkite-windows-cpu-autoscaling-group-i-06abd128ca6c1688d-1\\xgboost\\xgboost-ci-windows\\src\\objective\\regression_obj.cu:227: reg:linear is now deprecated in favor of reg:squarederror.\n",
      "  warnings.warn(smsg, UserWarning)\n"
     ]
    },
    {
     "name": "stdout",
     "output_type": "stream",
     "text": [
      "[300]\tvalidation_0-rmse:0.82660\tvalidation_1-rmse:1.96789\n",
      "[391]\tvalidation_0-rmse:0.77488\tvalidation_1-rmse:1.97688\n",
      "[0]\tvalidation_0-rmse:2.34377\tvalidation_1-rmse:1.97636\n",
      "[100]\tvalidation_0-rmse:1.30749\tvalidation_1-rmse:1.05586\n",
      "[200]\tvalidation_0-rmse:1.01273\tvalidation_1-rmse:0.93874\n"
     ]
    },
    {
     "name": "stderr",
     "output_type": "stream",
     "text": [
      "s:\\Pizza\\.venv\\Lib\\site-packages\\xgboost\\core.py:158: UserWarning: [16:57:17] WARNING: C:\\buildkite-agent\\builds\\buildkite-windows-cpu-autoscaling-group-i-06abd128ca6c1688d-1\\xgboost\\xgboost-ci-windows\\src\\objective\\regression_obj.cu:227: reg:linear is now deprecated in favor of reg:squarederror.\n",
      "  warnings.warn(smsg, UserWarning)\n"
     ]
    },
    {
     "name": "stdout",
     "output_type": "stream",
     "text": [
      "[300]\tvalidation_0-rmse:0.88559\tvalidation_1-rmse:0.90260\n",
      "[322]\tvalidation_0-rmse:0.86710\tvalidation_1-rmse:0.90573\n",
      "Processing ckn_pesto_m...\n",
      "[0]\tvalidation_0-rmse:1.50291\tvalidation_1-rmse:1.27644\n",
      "[100]\tvalidation_0-rmse:0.79943\tvalidation_1-rmse:0.76818\n",
      "[200]\tvalidation_0-rmse:0.56551\tvalidation_1-rmse:0.61541\n"
     ]
    },
    {
     "name": "stderr",
     "output_type": "stream",
     "text": [
      "s:\\Pizza\\.venv\\Lib\\site-packages\\xgboost\\core.py:158: UserWarning: [16:57:17] WARNING: C:\\buildkite-agent\\builds\\buildkite-windows-cpu-autoscaling-group-i-06abd128ca6c1688d-1\\xgboost\\xgboost-ci-windows\\src\\objective\\regression_obj.cu:227: reg:linear is now deprecated in favor of reg:squarederror.\n",
      "  warnings.warn(smsg, UserWarning)\n"
     ]
    },
    {
     "name": "stdout",
     "output_type": "stream",
     "text": [
      "[300]\tvalidation_0-rmse:0.48324\tvalidation_1-rmse:0.57346\n",
      "[399]\tvalidation_0-rmse:0.43197\tvalidation_1-rmse:0.57198\n",
      "[0]\tvalidation_0-rmse:1.47590\tvalidation_1-rmse:1.27579\n",
      "[100]\tvalidation_0-rmse:0.77424\tvalidation_1-rmse:0.83941\n",
      "[200]\tvalidation_0-rmse:0.55353\tvalidation_1-rmse:0.77770\n"
     ]
    },
    {
     "name": "stderr",
     "output_type": "stream",
     "text": [
      "s:\\Pizza\\.venv\\Lib\\site-packages\\xgboost\\core.py:158: UserWarning: [16:57:18] WARNING: C:\\buildkite-agent\\builds\\buildkite-windows-cpu-autoscaling-group-i-06abd128ca6c1688d-1\\xgboost\\xgboost-ci-windows\\src\\objective\\regression_obj.cu:227: reg:linear is now deprecated in favor of reg:squarederror.\n",
      "  warnings.warn(smsg, UserWarning)\n"
     ]
    },
    {
     "name": "stdout",
     "output_type": "stream",
     "text": [
      "[300]\tvalidation_0-rmse:0.48306\tvalidation_1-rmse:0.76739\n",
      "[399]\tvalidation_0-rmse:0.44126\tvalidation_1-rmse:0.76573\n",
      "[0]\tvalidation_0-rmse:1.45270\tvalidation_1-rmse:2.11689\n",
      "[100]\tvalidation_0-rmse:0.78958\tvalidation_1-rmse:1.59244\n",
      "[200]\tvalidation_0-rmse:0.59621\tvalidation_1-rmse:1.45039\n"
     ]
    },
    {
     "name": "stderr",
     "output_type": "stream",
     "text": [
      "s:\\Pizza\\.venv\\Lib\\site-packages\\xgboost\\core.py:158: UserWarning: [16:57:18] WARNING: C:\\buildkite-agent\\builds\\buildkite-windows-cpu-autoscaling-group-i-06abd128ca6c1688d-1\\xgboost\\xgboost-ci-windows\\src\\objective\\regression_obj.cu:227: reg:linear is now deprecated in favor of reg:squarederror.\n",
      "  warnings.warn(smsg, UserWarning)\n"
     ]
    },
    {
     "name": "stdout",
     "output_type": "stream",
     "text": [
      "[300]\tvalidation_0-rmse:0.52578\tvalidation_1-rmse:1.42423\n",
      "[384]\tvalidation_0-rmse:0.49379\tvalidation_1-rmse:1.42697\n",
      "Processing the_greek_xl...\n",
      "[0]\tvalidation_0-rmse:2.51397\tvalidation_1-rmse:2.66055\n",
      "[100]\tvalidation_0-rmse:1.42448\tvalidation_1-rmse:1.68629\n",
      "[200]\tvalidation_0-rmse:1.12344\tvalidation_1-rmse:1.51956\n",
      "[266]\tvalidation_0-rmse:1.04013\tvalidation_1-rmse:1.52848\n"
     ]
    },
    {
     "name": "stderr",
     "output_type": "stream",
     "text": [
      "s:\\Pizza\\.venv\\Lib\\site-packages\\xgboost\\core.py:158: UserWarning: [16:57:18] WARNING: C:\\buildkite-agent\\builds\\buildkite-windows-cpu-autoscaling-group-i-06abd128ca6c1688d-1\\xgboost\\xgboost-ci-windows\\src\\objective\\regression_obj.cu:227: reg:linear is now deprecated in favor of reg:squarederror.\n",
      "  warnings.warn(smsg, UserWarning)\n"
     ]
    },
    {
     "name": "stdout",
     "output_type": "stream",
     "text": [
      "[0]\tvalidation_0-rmse:2.53410\tvalidation_1-rmse:2.75645\n",
      "[100]\tvalidation_0-rmse:1.42452\tvalidation_1-rmse:1.78456\n",
      "[200]\tvalidation_0-rmse:1.13763\tvalidation_1-rmse:1.59539\n"
     ]
    },
    {
     "name": "stderr",
     "output_type": "stream",
     "text": [
      "s:\\Pizza\\.venv\\Lib\\site-packages\\xgboost\\core.py:158: UserWarning: [16:57:19] WARNING: C:\\buildkite-agent\\builds\\buildkite-windows-cpu-autoscaling-group-i-06abd128ca6c1688d-1\\xgboost\\xgboost-ci-windows\\src\\objective\\regression_obj.cu:227: reg:linear is now deprecated in favor of reg:squarederror.\n",
      "  warnings.warn(smsg, UserWarning)\n"
     ]
    },
    {
     "name": "stdout",
     "output_type": "stream",
     "text": [
      "[300]\tvalidation_0-rmse:1.02361\tvalidation_1-rmse:1.53200\n",
      "[399]\tvalidation_0-rmse:0.94439\tvalidation_1-rmse:1.51436\n",
      "[0]\tvalidation_0-rmse:2.54484\tvalidation_1-rmse:2.54598\n",
      "[100]\tvalidation_0-rmse:1.44332\tvalidation_1-rmse:1.52987\n",
      "[200]\tvalidation_0-rmse:1.16896\tvalidation_1-rmse:1.42810\n",
      "[242]\tvalidation_0-rmse:1.11502\tvalidation_1-rmse:1.43145\n"
     ]
    },
    {
     "name": "stderr",
     "output_type": "stream",
     "text": [
      "s:\\Pizza\\.venv\\Lib\\site-packages\\xgboost\\core.py:158: UserWarning: [16:57:19] WARNING: C:\\buildkite-agent\\builds\\buildkite-windows-cpu-autoscaling-group-i-06abd128ca6c1688d-1\\xgboost\\xgboost-ci-windows\\src\\objective\\regression_obj.cu:227: reg:linear is now deprecated in favor of reg:squarederror.\n",
      "  warnings.warn(smsg, UserWarning)\n"
     ]
    },
    {
     "name": "stdout",
     "output_type": "stream",
     "text": [
      "Processing hawaiian_l...\n",
      "[0]\tvalidation_0-rmse:3.54066\tvalidation_1-rmse:4.71189\n",
      "[100]\tvalidation_0-rmse:1.97834\tvalidation_1-rmse:3.18170\n",
      "[200]\tvalidation_0-rmse:1.59426\tvalidation_1-rmse:2.68300\n"
     ]
    },
    {
     "name": "stderr",
     "output_type": "stream",
     "text": [
      "s:\\Pizza\\.venv\\Lib\\site-packages\\xgboost\\core.py:158: UserWarning: [16:57:19] WARNING: C:\\buildkite-agent\\builds\\buildkite-windows-cpu-autoscaling-group-i-06abd128ca6c1688d-1\\xgboost\\xgboost-ci-windows\\src\\objective\\regression_obj.cu:227: reg:linear is now deprecated in favor of reg:squarederror.\n",
      "  warnings.warn(smsg, UserWarning)\n"
     ]
    },
    {
     "name": "stdout",
     "output_type": "stream",
     "text": [
      "[300]\tvalidation_0-rmse:1.44882\tvalidation_1-rmse:2.53217\n",
      "[399]\tvalidation_0-rmse:1.37423\tvalidation_1-rmse:2.48944\n",
      "[0]\tvalidation_0-rmse:3.58903\tvalidation_1-rmse:2.93621\n",
      "[100]\tvalidation_0-rmse:2.01378\tvalidation_1-rmse:1.66202\n",
      "[200]\tvalidation_0-rmse:1.61483\tvalidation_1-rmse:1.22759\n"
     ]
    },
    {
     "name": "stderr",
     "output_type": "stream",
     "text": [
      "s:\\Pizza\\.venv\\Lib\\site-packages\\xgboost\\core.py:158: UserWarning: [16:57:20] WARNING: C:\\buildkite-agent\\builds\\buildkite-windows-cpu-autoscaling-group-i-06abd128ca6c1688d-1\\xgboost\\xgboost-ci-windows\\src\\objective\\regression_obj.cu:227: reg:linear is now deprecated in favor of reg:squarederror.\n",
      "  warnings.warn(smsg, UserWarning)\n"
     ]
    },
    {
     "name": "stdout",
     "output_type": "stream",
     "text": [
      "[300]\tvalidation_0-rmse:1.48332\tvalidation_1-rmse:1.09233\n",
      "[399]\tvalidation_0-rmse:1.41168\tvalidation_1-rmse:1.07580\n",
      "[0]\tvalidation_0-rmse:3.56617\tvalidation_1-rmse:3.12265\n",
      "[100]\tvalidation_0-rmse:1.98827\tvalidation_1-rmse:1.61665\n",
      "[200]\tvalidation_0-rmse:1.58935\tvalidation_1-rmse:1.37852\n",
      "[227]\tvalidation_0-rmse:1.54787\tvalidation_1-rmse:1.39553\n"
     ]
    },
    {
     "name": "stderr",
     "output_type": "stream",
     "text": [
      "s:\\Pizza\\.venv\\Lib\\site-packages\\xgboost\\core.py:158: UserWarning: [16:57:20] WARNING: C:\\buildkite-agent\\builds\\buildkite-windows-cpu-autoscaling-group-i-06abd128ca6c1688d-1\\xgboost\\xgboost-ci-windows\\src\\objective\\regression_obj.cu:227: reg:linear is now deprecated in favor of reg:squarederror.\n",
      "  warnings.warn(smsg, UserWarning)\n"
     ]
    },
    {
     "name": "stdout",
     "output_type": "stream",
     "text": [
      "Processing pep_msh_pep_s...\n",
      "[0]\tvalidation_0-rmse:2.39246\tvalidation_1-rmse:1.92899\n",
      "[100]\tvalidation_0-rmse:1.30081\tvalidation_1-rmse:1.11712\n",
      "[200]\tvalidation_0-rmse:1.02292\tvalidation_1-rmse:1.02767\n"
     ]
    },
    {
     "name": "stderr",
     "output_type": "stream",
     "text": [
      "s:\\Pizza\\.venv\\Lib\\site-packages\\xgboost\\core.py:158: UserWarning: [16:57:20] WARNING: C:\\buildkite-agent\\builds\\buildkite-windows-cpu-autoscaling-group-i-06abd128ca6c1688d-1\\xgboost\\xgboost-ci-windows\\src\\objective\\regression_obj.cu:227: reg:linear is now deprecated in favor of reg:squarederror.\n",
      "  warnings.warn(smsg, UserWarning)\n"
     ]
    },
    {
     "name": "stdout",
     "output_type": "stream",
     "text": [
      "[251]\tvalidation_0-rmse:0.96866\tvalidation_1-rmse:1.05110\n",
      "[0]\tvalidation_0-rmse:2.36783\tvalidation_1-rmse:1.41396\n",
      "[100]\tvalidation_0-rmse:1.29846\tvalidation_1-rmse:0.61581\n",
      "[151]\tvalidation_0-rmse:1.12100\tvalidation_1-rmse:0.68179\n",
      "[0]\tvalidation_0-rmse:2.32518\tvalidation_1-rmse:2.36163\n"
     ]
    },
    {
     "name": "stderr",
     "output_type": "stream",
     "text": [
      "s:\\Pizza\\.venv\\Lib\\site-packages\\xgboost\\core.py:158: UserWarning: [16:57:21] WARNING: C:\\buildkite-agent\\builds\\buildkite-windows-cpu-autoscaling-group-i-06abd128ca6c1688d-1\\xgboost\\xgboost-ci-windows\\src\\objective\\regression_obj.cu:227: reg:linear is now deprecated in favor of reg:squarederror.\n",
      "  warnings.warn(smsg, UserWarning)\n",
      "s:\\Pizza\\.venv\\Lib\\site-packages\\xgboost\\core.py:158: UserWarning: [16:57:21] WARNING: C:\\buildkite-agent\\builds\\buildkite-windows-cpu-autoscaling-group-i-06abd128ca6c1688d-1\\xgboost\\xgboost-ci-windows\\src\\objective\\regression_obj.cu:227: reg:linear is now deprecated in favor of reg:squarederror.\n",
      "  warnings.warn(smsg, UserWarning)\n"
     ]
    },
    {
     "name": "stdout",
     "output_type": "stream",
     "text": [
      "[100]\tvalidation_0-rmse:1.28355\tvalidation_1-rmse:1.62710\n",
      "[197]\tvalidation_0-rmse:1.03003\tvalidation_1-rmse:1.56124\n",
      "Processing spinach_supr_m...\n",
      "[0]\tvalidation_0-rmse:1.74595\tvalidation_1-rmse:1.98329\n",
      "[100]\tvalidation_0-rmse:0.96923\tvalidation_1-rmse:1.47830\n",
      "[200]\tvalidation_0-rmse:0.72865\tvalidation_1-rmse:1.36416\n"
     ]
    },
    {
     "name": "stderr",
     "output_type": "stream",
     "text": [
      "s:\\Pizza\\.venv\\Lib\\site-packages\\xgboost\\core.py:158: UserWarning: [16:57:21] WARNING: C:\\buildkite-agent\\builds\\buildkite-windows-cpu-autoscaling-group-i-06abd128ca6c1688d-1\\xgboost\\xgboost-ci-windows\\src\\objective\\regression_obj.cu:227: reg:linear is now deprecated in favor of reg:squarederror.\n",
      "  warnings.warn(smsg, UserWarning)\n"
     ]
    },
    {
     "name": "stdout",
     "output_type": "stream",
     "text": [
      "[300]\tvalidation_0-rmse:0.65694\tvalidation_1-rmse:1.33066\n",
      "[399]\tvalidation_0-rmse:0.59390\tvalidation_1-rmse:1.32515\n",
      "[0]\tvalidation_0-rmse:1.75596\tvalidation_1-rmse:1.65528\n",
      "[100]\tvalidation_0-rmse:0.99253\tvalidation_1-rmse:1.02579\n",
      "[200]\tvalidation_0-rmse:0.74918\tvalidation_1-rmse:0.92394\n",
      "[249]\tvalidation_0-rmse:0.70442\tvalidation_1-rmse:0.93310\n"
     ]
    },
    {
     "name": "stderr",
     "output_type": "stream",
     "text": [
      "s:\\Pizza\\.venv\\Lib\\site-packages\\xgboost\\core.py:158: UserWarning: [16:57:22] WARNING: C:\\buildkite-agent\\builds\\buildkite-windows-cpu-autoscaling-group-i-06abd128ca6c1688d-1\\xgboost\\xgboost-ci-windows\\src\\objective\\regression_obj.cu:227: reg:linear is now deprecated in favor of reg:squarederror.\n",
      "  warnings.warn(smsg, UserWarning)\n"
     ]
    },
    {
     "name": "stdout",
     "output_type": "stream",
     "text": [
      "[0]\tvalidation_0-rmse:1.76517\tvalidation_1-rmse:1.39697\n",
      "[100]\tvalidation_0-rmse:1.02140\tvalidation_1-rmse:0.78509\n",
      "[200]\tvalidation_0-rmse:0.76311\tvalidation_1-rmse:0.68307\n"
     ]
    },
    {
     "name": "stderr",
     "output_type": "stream",
     "text": [
      "s:\\Pizza\\.venv\\Lib\\site-packages\\xgboost\\core.py:158: UserWarning: [16:57:22] WARNING: C:\\buildkite-agent\\builds\\buildkite-windows-cpu-autoscaling-group-i-06abd128ca6c1688d-1\\xgboost\\xgboost-ci-windows\\src\\objective\\regression_obj.cu:227: reg:linear is now deprecated in favor of reg:squarederror.\n",
      "  warnings.warn(smsg, UserWarning)\n"
     ]
    },
    {
     "name": "stdout",
     "output_type": "stream",
     "text": [
      "[270]\tvalidation_0-rmse:0.68182\tvalidation_1-rmse:0.68648\n",
      "Processing prsc_argla_m...\n",
      "[0]\tvalidation_0-rmse:2.46322\tvalidation_1-rmse:1.92520\n",
      "[100]\tvalidation_0-rmse:1.37701\tvalidation_1-rmse:0.88293\n"
     ]
    },
    {
     "name": "stderr",
     "output_type": "stream",
     "text": [
      "s:\\Pizza\\.venv\\Lib\\site-packages\\xgboost\\core.py:158: UserWarning: [16:57:22] WARNING: C:\\buildkite-agent\\builds\\buildkite-windows-cpu-autoscaling-group-i-06abd128ca6c1688d-1\\xgboost\\xgboost-ci-windows\\src\\objective\\regression_obj.cu:227: reg:linear is now deprecated in favor of reg:squarederror.\n",
      "  warnings.warn(smsg, UserWarning)\n"
     ]
    },
    {
     "name": "stdout",
     "output_type": "stream",
     "text": [
      "[200]\tvalidation_0-rmse:1.07093\tvalidation_1-rmse:0.76327\n",
      "[257]\tvalidation_0-rmse:1.00843\tvalidation_1-rmse:0.78256\n",
      "[0]\tvalidation_0-rmse:2.43731\tvalidation_1-rmse:3.09031\n",
      "[100]\tvalidation_0-rmse:1.36227\tvalidation_1-rmse:2.18920\n",
      "[200]\tvalidation_0-rmse:1.05077\tvalidation_1-rmse:1.84468\n"
     ]
    },
    {
     "name": "stderr",
     "output_type": "stream",
     "text": [
      "s:\\Pizza\\.venv\\Lib\\site-packages\\xgboost\\core.py:158: UserWarning: [16:57:22] WARNING: C:\\buildkite-agent\\builds\\buildkite-windows-cpu-autoscaling-group-i-06abd128ca6c1688d-1\\xgboost\\xgboost-ci-windows\\src\\objective\\regression_obj.cu:227: reg:linear is now deprecated in favor of reg:squarederror.\n",
      "  warnings.warn(smsg, UserWarning)\n"
     ]
    },
    {
     "name": "stdout",
     "output_type": "stream",
     "text": [
      "[300]\tvalidation_0-rmse:0.93691\tvalidation_1-rmse:1.76830\n",
      "[399]\tvalidation_0-rmse:0.88096\tvalidation_1-rmse:1.75246\n",
      "[0]\tvalidation_0-rmse:2.47647\tvalidation_1-rmse:2.08906\n",
      "[100]\tvalidation_0-rmse:1.37088\tvalidation_1-rmse:1.02550\n",
      "[200]\tvalidation_0-rmse:1.07140\tvalidation_1-rmse:0.88176\n",
      "[275]\tvalidation_0-rmse:0.99929\tvalidation_1-rmse:0.88404\n"
     ]
    },
    {
     "name": "stderr",
     "output_type": "stream",
     "text": [
      "s:\\Pizza\\.venv\\Lib\\site-packages\\xgboost\\core.py:158: UserWarning: [16:57:23] WARNING: C:\\buildkite-agent\\builds\\buildkite-windows-cpu-autoscaling-group-i-06abd128ca6c1688d-1\\xgboost\\xgboost-ci-windows\\src\\objective\\regression_obj.cu:227: reg:linear is now deprecated in favor of reg:squarederror.\n",
      "  warnings.warn(smsg, UserWarning)\n"
     ]
    },
    {
     "name": "stdout",
     "output_type": "stream",
     "text": [
      "Processing mediterraneo_l...\n",
      "[0]\tvalidation_0-rmse:1.94093\tvalidation_1-rmse:1.53488\n",
      "[100]\tvalidation_0-rmse:1.08086\tvalidation_1-rmse:1.11980\n",
      "[200]\tvalidation_0-rmse:0.83026\tvalidation_1-rmse:1.08606\n"
     ]
    },
    {
     "name": "stderr",
     "output_type": "stream",
     "text": [
      "s:\\Pizza\\.venv\\Lib\\site-packages\\xgboost\\core.py:158: UserWarning: [16:57:23] WARNING: C:\\buildkite-agent\\builds\\buildkite-windows-cpu-autoscaling-group-i-06abd128ca6c1688d-1\\xgboost\\xgboost-ci-windows\\src\\objective\\regression_obj.cu:227: reg:linear is now deprecated in favor of reg:squarederror.\n",
      "  warnings.warn(smsg, UserWarning)\n"
     ]
    },
    {
     "name": "stdout",
     "output_type": "stream",
     "text": [
      "[300]\tvalidation_0-rmse:0.73610\tvalidation_1-rmse:1.08084\n",
      "[344]\tvalidation_0-rmse:0.71734\tvalidation_1-rmse:1.08084\n",
      "[0]\tvalidation_0-rmse:1.90638\tvalidation_1-rmse:1.44286\n",
      "[100]\tvalidation_0-rmse:1.09227\tvalidation_1-rmse:0.82715\n",
      "[200]\tvalidation_0-rmse:0.86632\tvalidation_1-rmse:0.70546\n"
     ]
    },
    {
     "name": "stderr",
     "output_type": "stream",
     "text": [
      "s:\\Pizza\\.venv\\Lib\\site-packages\\xgboost\\core.py:158: UserWarning: [16:57:24] WARNING: C:\\buildkite-agent\\builds\\buildkite-windows-cpu-autoscaling-group-i-06abd128ca6c1688d-1\\xgboost\\xgboost-ci-windows\\src\\objective\\regression_obj.cu:227: reg:linear is now deprecated in favor of reg:squarederror.\n",
      "  warnings.warn(smsg, UserWarning)\n"
     ]
    },
    {
     "name": "stdout",
     "output_type": "stream",
     "text": [
      "[300]\tvalidation_0-rmse:0.79339\tvalidation_1-rmse:0.67509\n",
      "[329]\tvalidation_0-rmse:0.78453\tvalidation_1-rmse:0.67827\n",
      "[0]\tvalidation_0-rmse:1.86936\tvalidation_1-rmse:1.98291\n",
      "[100]\tvalidation_0-rmse:1.06489\tvalidation_1-rmse:1.32228\n",
      "[200]\tvalidation_0-rmse:0.84456\tvalidation_1-rmse:1.13443\n"
     ]
    },
    {
     "name": "stderr",
     "output_type": "stream",
     "text": [
      "s:\\Pizza\\.venv\\Lib\\site-packages\\xgboost\\core.py:158: UserWarning: [16:57:24] WARNING: C:\\buildkite-agent\\builds\\buildkite-windows-cpu-autoscaling-group-i-06abd128ca6c1688d-1\\xgboost\\xgboost-ci-windows\\src\\objective\\regression_obj.cu:227: reg:linear is now deprecated in favor of reg:squarederror.\n",
      "  warnings.warn(smsg, UserWarning)\n"
     ]
    },
    {
     "name": "stdout",
     "output_type": "stream",
     "text": [
      "[300]\tvalidation_0-rmse:0.77746\tvalidation_1-rmse:1.08495\n",
      "[399]\tvalidation_0-rmse:0.74563\tvalidation_1-rmse:1.06460\n",
      "Processing southw_ckn_m...\n",
      "[0]\tvalidation_0-rmse:2.29732\tvalidation_1-rmse:2.60154\n",
      "[100]\tvalidation_0-rmse:1.28400\tvalidation_1-rmse:1.82602\n",
      "[200]\tvalidation_0-rmse:0.95522\tvalidation_1-rmse:1.61815\n"
     ]
    },
    {
     "name": "stderr",
     "output_type": "stream",
     "text": [
      "s:\\Pizza\\.venv\\Lib\\site-packages\\xgboost\\core.py:158: UserWarning: [16:57:24] WARNING: C:\\buildkite-agent\\builds\\buildkite-windows-cpu-autoscaling-group-i-06abd128ca6c1688d-1\\xgboost\\xgboost-ci-windows\\src\\objective\\regression_obj.cu:227: reg:linear is now deprecated in favor of reg:squarederror.\n",
      "  warnings.warn(smsg, UserWarning)\n"
     ]
    },
    {
     "name": "stdout",
     "output_type": "stream",
     "text": [
      "[300]\tvalidation_0-rmse:0.82272\tvalidation_1-rmse:1.56524\n",
      "[399]\tvalidation_0-rmse:0.75100\tvalidation_1-rmse:1.52967\n",
      "[0]\tvalidation_0-rmse:2.30875\tvalidation_1-rmse:4.72849\n",
      "[100]\tvalidation_0-rmse:1.26178\tvalidation_1-rmse:4.02054\n",
      "[200]\tvalidation_0-rmse:0.97192\tvalidation_1-rmse:3.77605\n"
     ]
    },
    {
     "name": "stderr",
     "output_type": "stream",
     "text": [
      "s:\\Pizza\\.venv\\Lib\\site-packages\\xgboost\\core.py:158: UserWarning: [16:57:25] WARNING: C:\\buildkite-agent\\builds\\buildkite-windows-cpu-autoscaling-group-i-06abd128ca6c1688d-1\\xgboost\\xgboost-ci-windows\\src\\objective\\regression_obj.cu:227: reg:linear is now deprecated in favor of reg:squarederror.\n",
      "  warnings.warn(smsg, UserWarning)\n"
     ]
    },
    {
     "name": "stdout",
     "output_type": "stream",
     "text": [
      "[300]\tvalidation_0-rmse:0.86333\tvalidation_1-rmse:3.70814\n",
      "[399]\tvalidation_0-rmse:0.79851\tvalidation_1-rmse:3.64571\n",
      "[0]\tvalidation_0-rmse:2.52717\tvalidation_1-rmse:1.62016\n",
      "[100]\tvalidation_0-rmse:1.43409\tvalidation_1-rmse:0.99677\n",
      "[200]\tvalidation_0-rmse:1.11249\tvalidation_1-rmse:0.84201\n",
      "[251]\tvalidation_0-rmse:1.03961\tvalidation_1-rmse:0.85388\n"
     ]
    },
    {
     "name": "stderr",
     "output_type": "stream",
     "text": [
      "s:\\Pizza\\.venv\\Lib\\site-packages\\xgboost\\core.py:158: UserWarning: [16:57:25] WARNING: C:\\buildkite-agent\\builds\\buildkite-windows-cpu-autoscaling-group-i-06abd128ca6c1688d-1\\xgboost\\xgboost-ci-windows\\src\\objective\\regression_obj.cu:227: reg:linear is now deprecated in favor of reg:squarederror.\n",
      "  warnings.warn(smsg, UserWarning)\n"
     ]
    },
    {
     "name": "stdout",
     "output_type": "stream",
     "text": [
      "Processing pep_msh_pep_m...\n",
      "[0]\tvalidation_0-rmse:2.27756\tvalidation_1-rmse:2.29169\n",
      "[100]\tvalidation_0-rmse:1.24105\tvalidation_1-rmse:1.51836\n",
      "[200]\tvalidation_0-rmse:0.94757\tvalidation_1-rmse:1.31340\n"
     ]
    },
    {
     "name": "stderr",
     "output_type": "stream",
     "text": [
      "s:\\Pizza\\.venv\\Lib\\site-packages\\xgboost\\core.py:158: UserWarning: [16:57:25] WARNING: C:\\buildkite-agent\\builds\\buildkite-windows-cpu-autoscaling-group-i-06abd128ca6c1688d-1\\xgboost\\xgboost-ci-windows\\src\\objective\\regression_obj.cu:227: reg:linear is now deprecated in favor of reg:squarederror.\n",
      "  warnings.warn(smsg, UserWarning)\n"
     ]
    },
    {
     "name": "stdout",
     "output_type": "stream",
     "text": [
      "[300]\tvalidation_0-rmse:0.85169\tvalidation_1-rmse:1.25540\n",
      "[399]\tvalidation_0-rmse:0.80955\tvalidation_1-rmse:1.23951\n",
      "[0]\tvalidation_0-rmse:2.27992\tvalidation_1-rmse:1.34456\n",
      "[100]\tvalidation_0-rmse:1.24107\tvalidation_1-rmse:0.74286\n",
      "[147]\tvalidation_0-rmse:1.06215\tvalidation_1-rmse:0.84254\n",
      "[0]\tvalidation_0-rmse:2.21402\tvalidation_1-rmse:1.94923\n"
     ]
    },
    {
     "name": "stderr",
     "output_type": "stream",
     "text": [
      "s:\\Pizza\\.venv\\Lib\\site-packages\\xgboost\\core.py:158: UserWarning: [16:57:26] WARNING: C:\\buildkite-agent\\builds\\buildkite-windows-cpu-autoscaling-group-i-06abd128ca6c1688d-1\\xgboost\\xgboost-ci-windows\\src\\objective\\regression_obj.cu:227: reg:linear is now deprecated in favor of reg:squarederror.\n",
      "  warnings.warn(smsg, UserWarning)\n",
      "s:\\Pizza\\.venv\\Lib\\site-packages\\xgboost\\core.py:158: UserWarning: [16:57:26] WARNING: C:\\buildkite-agent\\builds\\buildkite-windows-cpu-autoscaling-group-i-06abd128ca6c1688d-1\\xgboost\\xgboost-ci-windows\\src\\objective\\regression_obj.cu:227: reg:linear is now deprecated in favor of reg:squarederror.\n",
      "  warnings.warn(smsg, UserWarning)\n"
     ]
    },
    {
     "name": "stdout",
     "output_type": "stream",
     "text": [
      "[100]\tvalidation_0-rmse:1.24064\tvalidation_1-rmse:1.24396\n",
      "[200]\tvalidation_0-rmse:0.96048\tvalidation_1-rmse:1.10831\n",
      "[300]\tvalidation_0-rmse:0.86780\tvalidation_1-rmse:1.03308\n",
      "[399]\tvalidation_0-rmse:0.82260\tvalidation_1-rmse:1.01673\n",
      "Processing sicilian_s...\n",
      "[0]\tvalidation_0-rmse:3.08352\tvalidation_1-rmse:2.92174\n",
      "[100]\tvalidation_0-rmse:1.74644\tvalidation_1-rmse:1.73665\n",
      "[200]\tvalidation_0-rmse:1.37317\tvalidation_1-rmse:1.51583\n"
     ]
    },
    {
     "name": "stderr",
     "output_type": "stream",
     "text": [
      "s:\\Pizza\\.venv\\Lib\\site-packages\\xgboost\\core.py:158: UserWarning: [16:57:26] WARNING: C:\\buildkite-agent\\builds\\buildkite-windows-cpu-autoscaling-group-i-06abd128ca6c1688d-1\\xgboost\\xgboost-ci-windows\\src\\objective\\regression_obj.cu:227: reg:linear is now deprecated in favor of reg:squarederror.\n",
      "  warnings.warn(smsg, UserWarning)\n"
     ]
    },
    {
     "name": "stdout",
     "output_type": "stream",
     "text": [
      "[300]\tvalidation_0-rmse:1.23448\tvalidation_1-rmse:1.46532\n",
      "[399]\tvalidation_0-rmse:1.14792\tvalidation_1-rmse:1.44911\n",
      "[0]\tvalidation_0-rmse:3.07491\tvalidation_1-rmse:4.04043\n",
      "[100]\tvalidation_0-rmse:1.73859\tvalidation_1-rmse:2.67632\n",
      "[200]\tvalidation_0-rmse:1.39791\tvalidation_1-rmse:2.32652\n"
     ]
    },
    {
     "name": "stderr",
     "output_type": "stream",
     "text": [
      "s:\\Pizza\\.venv\\Lib\\site-packages\\xgboost\\core.py:158: UserWarning: [16:57:27] WARNING: C:\\buildkite-agent\\builds\\buildkite-windows-cpu-autoscaling-group-i-06abd128ca6c1688d-1\\xgboost\\xgboost-ci-windows\\src\\objective\\regression_obj.cu:227: reg:linear is now deprecated in favor of reg:squarederror.\n",
      "  warnings.warn(smsg, UserWarning)\n"
     ]
    },
    {
     "name": "stdout",
     "output_type": "stream",
     "text": [
      "[300]\tvalidation_0-rmse:1.28113\tvalidation_1-rmse:2.29471\n",
      "[311]\tvalidation_0-rmse:1.27214\tvalidation_1-rmse:2.30004\n",
      "[0]\tvalidation_0-rmse:3.11794\tvalidation_1-rmse:2.90638\n",
      "[100]\tvalidation_0-rmse:1.80535\tvalidation_1-rmse:1.87142\n",
      "[151]\tvalidation_0-rmse:1.57106\tvalidation_1-rmse:1.94003\n"
     ]
    },
    {
     "name": "stderr",
     "output_type": "stream",
     "text": [
      "s:\\Pizza\\.venv\\Lib\\site-packages\\xgboost\\core.py:158: UserWarning: [16:57:27] WARNING: C:\\buildkite-agent\\builds\\buildkite-windows-cpu-autoscaling-group-i-06abd128ca6c1688d-1\\xgboost\\xgboost-ci-windows\\src\\objective\\regression_obj.cu:227: reg:linear is now deprecated in favor of reg:squarederror.\n",
      "  warnings.warn(smsg, UserWarning)\n"
     ]
    },
    {
     "name": "stdout",
     "output_type": "stream",
     "text": [
      "Processing spicy_ital_s...\n",
      "[0]\tvalidation_0-rmse:1.86645\tvalidation_1-rmse:1.69510\n",
      "[100]\tvalidation_0-rmse:1.08302\tvalidation_1-rmse:1.13871\n",
      "[200]\tvalidation_0-rmse:0.86440\tvalidation_1-rmse:1.09749\n"
     ]
    },
    {
     "name": "stderr",
     "output_type": "stream",
     "text": [
      "s:\\Pizza\\.venv\\Lib\\site-packages\\xgboost\\core.py:158: UserWarning: [16:57:27] WARNING: C:\\buildkite-agent\\builds\\buildkite-windows-cpu-autoscaling-group-i-06abd128ca6c1688d-1\\xgboost\\xgboost-ci-windows\\src\\objective\\regression_obj.cu:227: reg:linear is now deprecated in favor of reg:squarederror.\n",
      "  warnings.warn(smsg, UserWarning)\n"
     ]
    },
    {
     "name": "stdout",
     "output_type": "stream",
     "text": [
      "[224]\tvalidation_0-rmse:0.83954\tvalidation_1-rmse:1.09987\n",
      "[0]\tvalidation_0-rmse:1.85340\tvalidation_1-rmse:2.15672\n",
      "[100]\tvalidation_0-rmse:1.08438\tvalidation_1-rmse:1.39487\n",
      "[200]\tvalidation_0-rmse:0.87209\tvalidation_1-rmse:1.20978\n"
     ]
    },
    {
     "name": "stderr",
     "output_type": "stream",
     "text": [
      "s:\\Pizza\\.venv\\Lib\\site-packages\\xgboost\\core.py:158: UserWarning: [16:57:28] WARNING: C:\\buildkite-agent\\builds\\buildkite-windows-cpu-autoscaling-group-i-06abd128ca6c1688d-1\\xgboost\\xgboost-ci-windows\\src\\objective\\regression_obj.cu:227: reg:linear is now deprecated in favor of reg:squarederror.\n",
      "  warnings.warn(smsg, UserWarning)\n"
     ]
    },
    {
     "name": "stdout",
     "output_type": "stream",
     "text": [
      "[300]\tvalidation_0-rmse:0.80328\tvalidation_1-rmse:1.17441\n",
      "[395]\tvalidation_0-rmse:0.76368\tvalidation_1-rmse:1.17543\n",
      "[0]\tvalidation_0-rmse:1.87127\tvalidation_1-rmse:1.96419\n",
      "[100]\tvalidation_0-rmse:1.08540\tvalidation_1-rmse:1.14294\n",
      "[200]\tvalidation_0-rmse:0.87323\tvalidation_1-rmse:0.95656\n"
     ]
    },
    {
     "name": "stderr",
     "output_type": "stream",
     "text": [
      "s:\\Pizza\\.venv\\Lib\\site-packages\\xgboost\\core.py:158: UserWarning: [16:57:28] WARNING: C:\\buildkite-agent\\builds\\buildkite-windows-cpu-autoscaling-group-i-06abd128ca6c1688d-1\\xgboost\\xgboost-ci-windows\\src\\objective\\regression_obj.cu:227: reg:linear is now deprecated in favor of reg:squarederror.\n",
      "  warnings.warn(smsg, UserWarning)\n"
     ]
    },
    {
     "name": "stdout",
     "output_type": "stream",
     "text": [
      "[300]\tvalidation_0-rmse:0.81265\tvalidation_1-rmse:0.94006\n",
      "[396]\tvalidation_0-rmse:0.77347\tvalidation_1-rmse:0.94312\n",
      "Processing soppressata_l...\n",
      "[0]\tvalidation_0-rmse:1.91029\tvalidation_1-rmse:1.67275\n",
      "[100]\tvalidation_0-rmse:1.04119\tvalidation_1-rmse:0.86662\n",
      "[200]\tvalidation_0-rmse:0.80815\tvalidation_1-rmse:0.74811\n"
     ]
    },
    {
     "name": "stderr",
     "output_type": "stream",
     "text": [
      "s:\\Pizza\\.venv\\Lib\\site-packages\\xgboost\\core.py:158: UserWarning: [16:57:28] WARNING: C:\\buildkite-agent\\builds\\buildkite-windows-cpu-autoscaling-group-i-06abd128ca6c1688d-1\\xgboost\\xgboost-ci-windows\\src\\objective\\regression_obj.cu:227: reg:linear is now deprecated in favor of reg:squarederror.\n",
      "  warnings.warn(smsg, UserWarning)\n"
     ]
    },
    {
     "name": "stdout",
     "output_type": "stream",
     "text": [
      "[300]\tvalidation_0-rmse:0.72249\tvalidation_1-rmse:0.71962\n",
      "[399]\tvalidation_0-rmse:0.67496\tvalidation_1-rmse:0.72414\n",
      "[0]\tvalidation_0-rmse:1.89518\tvalidation_1-rmse:1.41755\n",
      "[100]\tvalidation_0-rmse:1.03600\tvalidation_1-rmse:0.69932\n",
      "[200]\tvalidation_0-rmse:0.80435\tvalidation_1-rmse:0.62581\n",
      "[244]\tvalidation_0-rmse:0.75941\tvalidation_1-rmse:0.63454\n"
     ]
    },
    {
     "name": "stderr",
     "output_type": "stream",
     "text": [
      "s:\\Pizza\\.venv\\Lib\\site-packages\\xgboost\\core.py:158: UserWarning: [16:57:29] WARNING: C:\\buildkite-agent\\builds\\buildkite-windows-cpu-autoscaling-group-i-06abd128ca6c1688d-1\\xgboost\\xgboost-ci-windows\\src\\objective\\regression_obj.cu:227: reg:linear is now deprecated in favor of reg:squarederror.\n",
      "  warnings.warn(smsg, UserWarning)\n"
     ]
    },
    {
     "name": "stdout",
     "output_type": "stream",
     "text": [
      "[0]\tvalidation_0-rmse:1.86097\tvalidation_1-rmse:1.44109\n",
      "[100]\tvalidation_0-rmse:1.01701\tvalidation_1-rmse:0.83895\n",
      "[175]\tvalidation_0-rmse:0.82235\tvalidation_1-rmse:0.83485\n",
      "Processing thai_ckn_s...\n"
     ]
    },
    {
     "name": "stderr",
     "output_type": "stream",
     "text": [
      "s:\\Pizza\\.venv\\Lib\\site-packages\\xgboost\\core.py:158: UserWarning: [16:57:29] WARNING: C:\\buildkite-agent\\builds\\buildkite-windows-cpu-autoscaling-group-i-06abd128ca6c1688d-1\\xgboost\\xgboost-ci-windows\\src\\objective\\regression_obj.cu:227: reg:linear is now deprecated in favor of reg:squarederror.\n",
      "  warnings.warn(smsg, UserWarning)\n"
     ]
    },
    {
     "name": "stdout",
     "output_type": "stream",
     "text": [
      "[0]\tvalidation_0-rmse:2.04718\tvalidation_1-rmse:2.17325\n",
      "[100]\tvalidation_0-rmse:1.15467\tvalidation_1-rmse:1.49356\n",
      "[200]\tvalidation_0-rmse:0.91280\tvalidation_1-rmse:1.33707\n"
     ]
    },
    {
     "name": "stderr",
     "output_type": "stream",
     "text": [
      "s:\\Pizza\\.venv\\Lib\\site-packages\\xgboost\\core.py:158: UserWarning: [16:57:29] WARNING: C:\\buildkite-agent\\builds\\buildkite-windows-cpu-autoscaling-group-i-06abd128ca6c1688d-1\\xgboost\\xgboost-ci-windows\\src\\objective\\regression_obj.cu:227: reg:linear is now deprecated in favor of reg:squarederror.\n",
      "  warnings.warn(smsg, UserWarning)\n"
     ]
    },
    {
     "name": "stdout",
     "output_type": "stream",
     "text": [
      "[277]\tvalidation_0-rmse:0.84215\tvalidation_1-rmse:1.33470\n",
      "[0]\tvalidation_0-rmse:2.05646\tvalidation_1-rmse:2.48492\n",
      "[100]\tvalidation_0-rmse:1.16422\tvalidation_1-rmse:1.62723\n",
      "[200]\tvalidation_0-rmse:0.93210\tvalidation_1-rmse:1.34982\n",
      "[300]\tvalidation_0-rmse:0.85636\tvalidation_1-rmse:1.31592\n"
     ]
    },
    {
     "name": "stderr",
     "output_type": "stream",
     "text": [
      "s:\\Pizza\\.venv\\Lib\\site-packages\\xgboost\\core.py:158: UserWarning: [16:57:30] WARNING: C:\\buildkite-agent\\builds\\buildkite-windows-cpu-autoscaling-group-i-06abd128ca6c1688d-1\\xgboost\\xgboost-ci-windows\\src\\objective\\regression_obj.cu:227: reg:linear is now deprecated in favor of reg:squarederror.\n",
      "  warnings.warn(smsg, UserWarning)\n"
     ]
    },
    {
     "name": "stdout",
     "output_type": "stream",
     "text": [
      "[323]\tvalidation_0-rmse:0.84357\tvalidation_1-rmse:1.32141\n",
      "[0]\tvalidation_0-rmse:2.08753\tvalidation_1-rmse:1.91077\n",
      "[100]\tvalidation_0-rmse:1.17198\tvalidation_1-rmse:1.11606\n",
      "[200]\tvalidation_0-rmse:0.94007\tvalidation_1-rmse:1.04722\n"
     ]
    },
    {
     "name": "stderr",
     "output_type": "stream",
     "text": [
      "s:\\Pizza\\.venv\\Lib\\site-packages\\xgboost\\core.py:158: UserWarning: [16:57:30] WARNING: C:\\buildkite-agent\\builds\\buildkite-windows-cpu-autoscaling-group-i-06abd128ca6c1688d-1\\xgboost\\xgboost-ci-windows\\src\\objective\\regression_obj.cu:227: reg:linear is now deprecated in favor of reg:squarederror.\n",
      "  warnings.warn(smsg, UserWarning)\n"
     ]
    },
    {
     "name": "stdout",
     "output_type": "stream",
     "text": [
      "[269]\tvalidation_0-rmse:0.88573\tvalidation_1-rmse:1.04774\n",
      "Processing spinach_supr_l...\n",
      "[0]\tvalidation_0-rmse:1.67293\tvalidation_1-rmse:1.27045\n",
      "[100]\tvalidation_0-rmse:0.91763\tvalidation_1-rmse:0.68062\n",
      "[199]\tvalidation_0-rmse:0.67738\tvalidation_1-rmse:0.70013\n",
      "[0]\tvalidation_0-rmse:1.62413\tvalidation_1-rmse:1.69834\n"
     ]
    },
    {
     "name": "stderr",
     "output_type": "stream",
     "text": [
      "s:\\Pizza\\.venv\\Lib\\site-packages\\xgboost\\core.py:158: UserWarning: [16:57:30] WARNING: C:\\buildkite-agent\\builds\\buildkite-windows-cpu-autoscaling-group-i-06abd128ca6c1688d-1\\xgboost\\xgboost-ci-windows\\src\\objective\\regression_obj.cu:227: reg:linear is now deprecated in favor of reg:squarederror.\n",
      "  warnings.warn(smsg, UserWarning)\n",
      "s:\\Pizza\\.venv\\Lib\\site-packages\\xgboost\\core.py:158: UserWarning: [16:57:31] WARNING: C:\\buildkite-agent\\builds\\buildkite-windows-cpu-autoscaling-group-i-06abd128ca6c1688d-1\\xgboost\\xgboost-ci-windows\\src\\objective\\regression_obj.cu:227: reg:linear is now deprecated in favor of reg:squarederror.\n",
      "  warnings.warn(smsg, UserWarning)\n"
     ]
    },
    {
     "name": "stdout",
     "output_type": "stream",
     "text": [
      "[100]\tvalidation_0-rmse:0.92665\tvalidation_1-rmse:1.09894\n",
      "[200]\tvalidation_0-rmse:0.71079\tvalidation_1-rmse:1.03428\n",
      "[300]\tvalidation_0-rmse:0.62906\tvalidation_1-rmse:1.02232\n",
      "[351]\tvalidation_0-rmse:0.58798\tvalidation_1-rmse:1.02779\n",
      "[0]\tvalidation_0-rmse:1.63306\tvalidation_1-rmse:1.44882\n",
      "[100]\tvalidation_0-rmse:0.92064\tvalidation_1-rmse:1.07149\n",
      "[200]\tvalidation_0-rmse:0.72532\tvalidation_1-rmse:0.93019\n",
      "[300]\tvalidation_0-rmse:0.64284\tvalidation_1-rmse:0.91549\n"
     ]
    },
    {
     "name": "stderr",
     "output_type": "stream",
     "text": [
      "s:\\Pizza\\.venv\\Lib\\site-packages\\xgboost\\core.py:158: UserWarning: [16:57:31] WARNING: C:\\buildkite-agent\\builds\\buildkite-windows-cpu-autoscaling-group-i-06abd128ca6c1688d-1\\xgboost\\xgboost-ci-windows\\src\\objective\\regression_obj.cu:227: reg:linear is now deprecated in favor of reg:squarederror.\n",
      "  warnings.warn(smsg, UserWarning)\n"
     ]
    },
    {
     "name": "stdout",
     "output_type": "stream",
     "text": [
      "[320]\tvalidation_0-rmse:0.63035\tvalidation_1-rmse:0.91984\n",
      "Processing ital_veggie_l...\n",
      "[0]\tvalidation_0-rmse:1.14004\tvalidation_1-rmse:1.07932\n",
      "[100]\tvalidation_0-rmse:0.59824\tvalidation_1-rmse:0.65944\n",
      "[200]\tvalidation_0-rmse:0.42405\tvalidation_1-rmse:0.57571\n",
      "[290]\tvalidation_0-rmse:0.37092\tvalidation_1-rmse:0.57301\n"
     ]
    },
    {
     "name": "stderr",
     "output_type": "stream",
     "text": [
      "s:\\Pizza\\.venv\\Lib\\site-packages\\xgboost\\core.py:158: UserWarning: [16:57:31] WARNING: C:\\buildkite-agent\\builds\\buildkite-windows-cpu-autoscaling-group-i-06abd128ca6c1688d-1\\xgboost\\xgboost-ci-windows\\src\\objective\\regression_obj.cu:227: reg:linear is now deprecated in favor of reg:squarederror.\n",
      "  warnings.warn(smsg, UserWarning)\n"
     ]
    },
    {
     "name": "stdout",
     "output_type": "stream",
     "text": [
      "[0]\tvalidation_0-rmse:1.11951\tvalidation_1-rmse:1.75754\n",
      "[100]\tvalidation_0-rmse:0.59346\tvalidation_1-rmse:1.30164\n",
      "[200]\tvalidation_0-rmse:0.42862\tvalidation_1-rmse:1.16884\n"
     ]
    },
    {
     "name": "stderr",
     "output_type": "stream",
     "text": [
      "s:\\Pizza\\.venv\\Lib\\site-packages\\xgboost\\core.py:158: UserWarning: [16:57:32] WARNING: C:\\buildkite-agent\\builds\\buildkite-windows-cpu-autoscaling-group-i-06abd128ca6c1688d-1\\xgboost\\xgboost-ci-windows\\src\\objective\\regression_obj.cu:227: reg:linear is now deprecated in favor of reg:squarederror.\n",
      "  warnings.warn(smsg, UserWarning)\n"
     ]
    },
    {
     "name": "stdout",
     "output_type": "stream",
     "text": [
      "[300]\tvalidation_0-rmse:0.36876\tvalidation_1-rmse:1.12283\n",
      "[399]\tvalidation_0-rmse:0.33048\tvalidation_1-rmse:1.09053\n",
      "[0]\tvalidation_0-rmse:1.26322\tvalidation_1-rmse:1.04999\n",
      "[100]\tvalidation_0-rmse:0.66066\tvalidation_1-rmse:0.70017\n",
      "[178]\tvalidation_0-rmse:0.49189\tvalidation_1-rmse:0.68975\n",
      "Processing veggie_veg_m...\n"
     ]
    },
    {
     "name": "stderr",
     "output_type": "stream",
     "text": [
      "s:\\Pizza\\.venv\\Lib\\site-packages\\xgboost\\core.py:158: UserWarning: [16:57:32] WARNING: C:\\buildkite-agent\\builds\\buildkite-windows-cpu-autoscaling-group-i-06abd128ca6c1688d-1\\xgboost\\xgboost-ci-windows\\src\\objective\\regression_obj.cu:227: reg:linear is now deprecated in favor of reg:squarederror.\n",
      "  warnings.warn(smsg, UserWarning)\n"
     ]
    },
    {
     "name": "stdout",
     "output_type": "stream",
     "text": [
      "[0]\tvalidation_0-rmse:2.73415\tvalidation_1-rmse:2.41321\n",
      "[100]\tvalidation_0-rmse:1.51181\tvalidation_1-rmse:1.27628\n"
     ]
    },
    {
     "name": "stderr",
     "output_type": "stream",
     "text": [
      "s:\\Pizza\\.venv\\Lib\\site-packages\\xgboost\\core.py:158: UserWarning: [16:57:32] WARNING: C:\\buildkite-agent\\builds\\buildkite-windows-cpu-autoscaling-group-i-06abd128ca6c1688d-1\\xgboost\\xgboost-ci-windows\\src\\objective\\regression_obj.cu:227: reg:linear is now deprecated in favor of reg:squarederror.\n",
      "  warnings.warn(smsg, UserWarning)\n"
     ]
    },
    {
     "name": "stdout",
     "output_type": "stream",
     "text": [
      "[200]\tvalidation_0-rmse:1.18372\tvalidation_1-rmse:1.11540\n",
      "[273]\tvalidation_0-rmse:1.09562\tvalidation_1-rmse:1.11225\n",
      "[0]\tvalidation_0-rmse:2.71894\tvalidation_1-rmse:2.43715\n",
      "[100]\tvalidation_0-rmse:1.51498\tvalidation_1-rmse:1.12004\n"
     ]
    },
    {
     "name": "stderr",
     "output_type": "stream",
     "text": [
      "s:\\Pizza\\.venv\\Lib\\site-packages\\xgboost\\core.py:158: UserWarning: [16:57:33] WARNING: C:\\buildkite-agent\\builds\\buildkite-windows-cpu-autoscaling-group-i-06abd128ca6c1688d-1\\xgboost\\xgboost-ci-windows\\src\\objective\\regression_obj.cu:227: reg:linear is now deprecated in favor of reg:squarederror.\n",
      "  warnings.warn(smsg, UserWarning)\n"
     ]
    },
    {
     "name": "stdout",
     "output_type": "stream",
     "text": [
      "[200]\tvalidation_0-rmse:1.21469\tvalidation_1-rmse:0.95544\n",
      "[221]\tvalidation_0-rmse:1.18809\tvalidation_1-rmse:0.97022\n",
      "[0]\tvalidation_0-rmse:2.70505\tvalidation_1-rmse:2.10459\n",
      "[100]\tvalidation_0-rmse:1.48881\tvalidation_1-rmse:1.02636\n"
     ]
    },
    {
     "name": "stderr",
     "output_type": "stream",
     "text": [
      "s:\\Pizza\\.venv\\Lib\\site-packages\\xgboost\\core.py:158: UserWarning: [16:57:33] WARNING: C:\\buildkite-agent\\builds\\buildkite-windows-cpu-autoscaling-group-i-06abd128ca6c1688d-1\\xgboost\\xgboost-ci-windows\\src\\objective\\regression_obj.cu:227: reg:linear is now deprecated in favor of reg:squarederror.\n",
      "  warnings.warn(smsg, UserWarning)\n"
     ]
    },
    {
     "name": "stdout",
     "output_type": "stream",
     "text": [
      "[200]\tvalidation_0-rmse:1.18266\tvalidation_1-rmse:0.91830\n",
      "[300]\tvalidation_0-rmse:1.09509\tvalidation_1-rmse:0.90694\n",
      "[312]\tvalidation_0-rmse:1.08781\tvalidation_1-rmse:0.90917\n",
      "Processing the_greek_m...\n",
      "[0]\tvalidation_0-rmse:1.39094\tvalidation_1-rmse:1.65958\n",
      "[100]\tvalidation_0-rmse:0.81568\tvalidation_1-rmse:1.21235\n",
      "[200]\tvalidation_0-rmse:0.63278\tvalidation_1-rmse:1.08065\n"
     ]
    },
    {
     "name": "stderr",
     "output_type": "stream",
     "text": [
      "s:\\Pizza\\.venv\\Lib\\site-packages\\xgboost\\core.py:158: UserWarning: [16:57:33] WARNING: C:\\buildkite-agent\\builds\\buildkite-windows-cpu-autoscaling-group-i-06abd128ca6c1688d-1\\xgboost\\xgboost-ci-windows\\src\\objective\\regression_obj.cu:227: reg:linear is now deprecated in favor of reg:squarederror.\n",
      "  warnings.warn(smsg, UserWarning)\n"
     ]
    },
    {
     "name": "stdout",
     "output_type": "stream",
     "text": [
      "[300]\tvalidation_0-rmse:0.54855\tvalidation_1-rmse:1.02910\n",
      "[399]\tvalidation_0-rmse:0.49852\tvalidation_1-rmse:1.01009\n",
      "[0]\tvalidation_0-rmse:1.42111\tvalidation_1-rmse:1.49055\n",
      "[100]\tvalidation_0-rmse:0.81542\tvalidation_1-rmse:0.96359\n",
      "[200]\tvalidation_0-rmse:0.63626\tvalidation_1-rmse:0.85034\n",
      "[300]\tvalidation_0-rmse:0.56044\tvalidation_1-rmse:0.81972\n"
     ]
    },
    {
     "name": "stderr",
     "output_type": "stream",
     "text": [
      "s:\\Pizza\\.venv\\Lib\\site-packages\\xgboost\\core.py:158: UserWarning: [16:57:34] WARNING: C:\\buildkite-agent\\builds\\buildkite-windows-cpu-autoscaling-group-i-06abd128ca6c1688d-1\\xgboost\\xgboost-ci-windows\\src\\objective\\regression_obj.cu:227: reg:linear is now deprecated in favor of reg:squarederror.\n",
      "  warnings.warn(smsg, UserWarning)\n"
     ]
    },
    {
     "name": "stdout",
     "output_type": "stream",
     "text": [
      "[399]\tvalidation_0-rmse:0.51513\tvalidation_1-rmse:0.81004\n",
      "[0]\tvalidation_0-rmse:1.42115\tvalidation_1-rmse:1.75585\n",
      "[100]\tvalidation_0-rmse:0.84962\tvalidation_1-rmse:1.26736\n",
      "[200]\tvalidation_0-rmse:0.67368\tvalidation_1-rmse:1.14372\n"
     ]
    },
    {
     "name": "stderr",
     "output_type": "stream",
     "text": [
      "s:\\Pizza\\.venv\\Lib\\site-packages\\xgboost\\core.py:158: UserWarning: [16:57:34] WARNING: C:\\buildkite-agent\\builds\\buildkite-windows-cpu-autoscaling-group-i-06abd128ca6c1688d-1\\xgboost\\xgboost-ci-windows\\src\\objective\\regression_obj.cu:227: reg:linear is now deprecated in favor of reg:squarederror.\n",
      "  warnings.warn(smsg, UserWarning)\n"
     ]
    },
    {
     "name": "stdout",
     "output_type": "stream",
     "text": [
      "[300]\tvalidation_0-rmse:0.59902\tvalidation_1-rmse:1.09348\n",
      "[399]\tvalidation_0-rmse:0.54915\tvalidation_1-rmse:1.08008\n",
      "Processing ckn_pesto_s...\n",
      "[0]\tvalidation_0-rmse:1.51726\tvalidation_1-rmse:1.61645\n",
      "[100]\tvalidation_0-rmse:0.82451\tvalidation_1-rmse:1.04685\n",
      "[200]\tvalidation_0-rmse:0.63010\tvalidation_1-rmse:0.93123\n"
     ]
    },
    {
     "name": "stderr",
     "output_type": "stream",
     "text": [
      "s:\\Pizza\\.venv\\Lib\\site-packages\\xgboost\\core.py:158: UserWarning: [16:57:35] WARNING: C:\\buildkite-agent\\builds\\buildkite-windows-cpu-autoscaling-group-i-06abd128ca6c1688d-1\\xgboost\\xgboost-ci-windows\\src\\objective\\regression_obj.cu:227: reg:linear is now deprecated in favor of reg:squarederror.\n",
      "  warnings.warn(smsg, UserWarning)\n"
     ]
    },
    {
     "name": "stdout",
     "output_type": "stream",
     "text": [
      "[300]\tvalidation_0-rmse:0.55328\tvalidation_1-rmse:0.88699\n",
      "[396]\tvalidation_0-rmse:0.50993\tvalidation_1-rmse:0.88132\n",
      "[0]\tvalidation_0-rmse:1.53039\tvalidation_1-rmse:1.57987\n",
      "[100]\tvalidation_0-rmse:0.85854\tvalidation_1-rmse:1.13260\n",
      "[200]\tvalidation_0-rmse:0.64979\tvalidation_1-rmse:1.05376\n"
     ]
    },
    {
     "name": "stderr",
     "output_type": "stream",
     "text": [
      "s:\\Pizza\\.venv\\Lib\\site-packages\\xgboost\\core.py:158: UserWarning: [16:57:35] WARNING: C:\\buildkite-agent\\builds\\buildkite-windows-cpu-autoscaling-group-i-06abd128ca6c1688d-1\\xgboost\\xgboost-ci-windows\\src\\objective\\regression_obj.cu:227: reg:linear is now deprecated in favor of reg:squarederror.\n",
      "  warnings.warn(smsg, UserWarning)\n"
     ]
    },
    {
     "name": "stdout",
     "output_type": "stream",
     "text": [
      "[300]\tvalidation_0-rmse:0.57036\tvalidation_1-rmse:1.04806\n",
      "[309]\tvalidation_0-rmse:0.56522\tvalidation_1-rmse:1.04888\n",
      "[0]\tvalidation_0-rmse:1.53794\tvalidation_1-rmse:1.37409\n",
      "[100]\tvalidation_0-rmse:0.86674\tvalidation_1-rmse:0.87923\n",
      "[200]\tvalidation_0-rmse:0.66517\tvalidation_1-rmse:0.80463\n",
      "[265]\tvalidation_0-rmse:0.61424\tvalidation_1-rmse:0.81130\n"
     ]
    },
    {
     "name": "stderr",
     "output_type": "stream",
     "text": [
      "s:\\Pizza\\.venv\\Lib\\site-packages\\xgboost\\core.py:158: UserWarning: [16:57:35] WARNING: C:\\buildkite-agent\\builds\\buildkite-windows-cpu-autoscaling-group-i-06abd128ca6c1688d-1\\xgboost\\xgboost-ci-windows\\src\\objective\\regression_obj.cu:227: reg:linear is now deprecated in favor of reg:squarederror.\n",
      "  warnings.warn(smsg, UserWarning)\n"
     ]
    },
    {
     "name": "stdout",
     "output_type": "stream",
     "text": [
      "Processing spinach_fet_s...\n",
      "[0]\tvalidation_0-rmse:2.30073\tvalidation_1-rmse:2.15620\n",
      "[100]\tvalidation_0-rmse:1.30449\tvalidation_1-rmse:1.42277\n",
      "[200]\tvalidation_0-rmse:1.02022\tvalidation_1-rmse:1.29485\n"
     ]
    },
    {
     "name": "stderr",
     "output_type": "stream",
     "text": [
      "s:\\Pizza\\.venv\\Lib\\site-packages\\xgboost\\core.py:158: UserWarning: [16:57:36] WARNING: C:\\buildkite-agent\\builds\\buildkite-windows-cpu-autoscaling-group-i-06abd128ca6c1688d-1\\xgboost\\xgboost-ci-windows\\src\\objective\\regression_obj.cu:227: reg:linear is now deprecated in favor of reg:squarederror.\n",
      "  warnings.warn(smsg, UserWarning)\n"
     ]
    },
    {
     "name": "stdout",
     "output_type": "stream",
     "text": [
      "[260]\tvalidation_0-rmse:0.96006\tvalidation_1-rmse:1.29757\n",
      "[0]\tvalidation_0-rmse:2.29077\tvalidation_1-rmse:1.41334\n",
      "[100]\tvalidation_0-rmse:1.30972\tvalidation_1-rmse:0.93372\n",
      "[107]\tvalidation_0-rmse:1.27537\tvalidation_1-rmse:0.96101\n",
      "[0]\tvalidation_0-rmse:2.23700\tvalidation_1-rmse:1.55303\n"
     ]
    },
    {
     "name": "stderr",
     "output_type": "stream",
     "text": [
      "s:\\Pizza\\.venv\\Lib\\site-packages\\xgboost\\core.py:158: UserWarning: [16:57:36] WARNING: C:\\buildkite-agent\\builds\\buildkite-windows-cpu-autoscaling-group-i-06abd128ca6c1688d-1\\xgboost\\xgboost-ci-windows\\src\\objective\\regression_obj.cu:227: reg:linear is now deprecated in favor of reg:squarederror.\n",
      "  warnings.warn(smsg, UserWarning)\n",
      "s:\\Pizza\\.venv\\Lib\\site-packages\\xgboost\\core.py:158: UserWarning: [16:57:36] WARNING: C:\\buildkite-agent\\builds\\buildkite-windows-cpu-autoscaling-group-i-06abd128ca6c1688d-1\\xgboost\\xgboost-ci-windows\\src\\objective\\regression_obj.cu:227: reg:linear is now deprecated in favor of reg:squarederror.\n",
      "  warnings.warn(smsg, UserWarning)\n"
     ]
    },
    {
     "name": "stdout",
     "output_type": "stream",
     "text": [
      "[100]\tvalidation_0-rmse:1.30843\tvalidation_1-rmse:1.00663\n",
      "[183]\tvalidation_0-rmse:1.06266\tvalidation_1-rmse:1.01472\n",
      "Processing napolitana_s...\n",
      "[0]\tvalidation_0-rmse:2.52709\tvalidation_1-rmse:1.72979\n",
      "[100]\tvalidation_0-rmse:1.47190\tvalidation_1-rmse:0.86166\n",
      "[182]\tvalidation_0-rmse:1.18860\tvalidation_1-rmse:0.87014\n",
      "[0]\tvalidation_0-rmse:2.47976\tvalidation_1-rmse:1.76913\n"
     ]
    },
    {
     "name": "stderr",
     "output_type": "stream",
     "text": [
      "s:\\Pizza\\.venv\\Lib\\site-packages\\xgboost\\core.py:158: UserWarning: [16:57:36] WARNING: C:\\buildkite-agent\\builds\\buildkite-windows-cpu-autoscaling-group-i-06abd128ca6c1688d-1\\xgboost\\xgboost-ci-windows\\src\\objective\\regression_obj.cu:227: reg:linear is now deprecated in favor of reg:squarederror.\n",
      "  warnings.warn(smsg, UserWarning)\n",
      "s:\\Pizza\\.venv\\Lib\\site-packages\\xgboost\\core.py:158: UserWarning: [16:57:37] WARNING: C:\\buildkite-agent\\builds\\buildkite-windows-cpu-autoscaling-group-i-06abd128ca6c1688d-1\\xgboost\\xgboost-ci-windows\\src\\objective\\regression_obj.cu:227: reg:linear is now deprecated in favor of reg:squarederror.\n",
      "  warnings.warn(smsg, UserWarning)\n"
     ]
    },
    {
     "name": "stdout",
     "output_type": "stream",
     "text": [
      "[100]\tvalidation_0-rmse:1.44319\tvalidation_1-rmse:1.08639\n",
      "[200]\tvalidation_0-rmse:1.13693\tvalidation_1-rmse:1.05321\n",
      "[0]\tvalidation_0-rmse:2.43487\tvalidation_1-rmse:2.15621\n",
      "[100]\tvalidation_0-rmse:1.43807\tvalidation_1-rmse:1.30934\n",
      "[200]\tvalidation_0-rmse:1.13459\tvalidation_1-rmse:1.14082\n"
     ]
    },
    {
     "name": "stderr",
     "output_type": "stream",
     "text": [
      "s:\\Pizza\\.venv\\Lib\\site-packages\\xgboost\\core.py:158: UserWarning: [16:57:37] WARNING: C:\\buildkite-agent\\builds\\buildkite-windows-cpu-autoscaling-group-i-06abd128ca6c1688d-1\\xgboost\\xgboost-ci-windows\\src\\objective\\regression_obj.cu:227: reg:linear is now deprecated in favor of reg:squarederror.\n",
      "  warnings.warn(smsg, UserWarning)\n"
     ]
    },
    {
     "name": "stdout",
     "output_type": "stream",
     "text": [
      "[300]\tvalidation_0-rmse:1.01971\tvalidation_1-rmse:1.10224\n",
      "[394]\tvalidation_0-rmse:0.94847\tvalidation_1-rmse:1.10581\n",
      "Processing spicy_ital_m...\n",
      "[0]\tvalidation_0-rmse:1.92995\tvalidation_1-rmse:2.65463\n",
      "[100]\tvalidation_0-rmse:1.05923\tvalidation_1-rmse:2.02402\n",
      "[200]\tvalidation_0-rmse:0.83573\tvalidation_1-rmse:1.82509\n"
     ]
    },
    {
     "name": "stderr",
     "output_type": "stream",
     "text": [
      "s:\\Pizza\\.venv\\Lib\\site-packages\\xgboost\\core.py:158: UserWarning: [16:57:37] WARNING: C:\\buildkite-agent\\builds\\buildkite-windows-cpu-autoscaling-group-i-06abd128ca6c1688d-1\\xgboost\\xgboost-ci-windows\\src\\objective\\regression_obj.cu:227: reg:linear is now deprecated in favor of reg:squarederror.\n",
      "  warnings.warn(smsg, UserWarning)\n"
     ]
    },
    {
     "name": "stdout",
     "output_type": "stream",
     "text": [
      "[300]\tvalidation_0-rmse:0.76084\tvalidation_1-rmse:1.77601\n",
      "[399]\tvalidation_0-rmse:0.71803\tvalidation_1-rmse:1.76365\n",
      "[0]\tvalidation_0-rmse:1.99039\tvalidation_1-rmse:1.46697\n",
      "[100]\tvalidation_0-rmse:1.07671\tvalidation_1-rmse:1.07092\n",
      "[156]\tvalidation_0-rmse:0.90633\tvalidation_1-rmse:1.07717\n",
      "[0]\tvalidation_0-rmse:1.96303\tvalidation_1-rmse:1.87766\n"
     ]
    },
    {
     "name": "stderr",
     "output_type": "stream",
     "text": [
      "s:\\Pizza\\.venv\\Lib\\site-packages\\xgboost\\core.py:158: UserWarning: [16:57:38] WARNING: C:\\buildkite-agent\\builds\\buildkite-windows-cpu-autoscaling-group-i-06abd128ca6c1688d-1\\xgboost\\xgboost-ci-windows\\src\\objective\\regression_obj.cu:227: reg:linear is now deprecated in favor of reg:squarederror.\n",
      "  warnings.warn(smsg, UserWarning)\n",
      "s:\\Pizza\\.venv\\Lib\\site-packages\\xgboost\\core.py:158: UserWarning: [16:57:38] WARNING: C:\\buildkite-agent\\builds\\buildkite-windows-cpu-autoscaling-group-i-06abd128ca6c1688d-1\\xgboost\\xgboost-ci-windows\\src\\objective\\regression_obj.cu:227: reg:linear is now deprecated in favor of reg:squarederror.\n",
      "  warnings.warn(smsg, UserWarning)\n"
     ]
    },
    {
     "name": "stdout",
     "output_type": "stream",
     "text": [
      "[100]\tvalidation_0-rmse:1.08705\tvalidation_1-rmse:1.15002\n",
      "[200]\tvalidation_0-rmse:0.86843\tvalidation_1-rmse:1.01933\n",
      "[300]\tvalidation_0-rmse:0.80628\tvalidation_1-rmse:0.97793\n",
      "[399]\tvalidation_0-rmse:0.76780\tvalidation_1-rmse:0.95566\n",
      "Processing ital_veggie_m...\n",
      "[0]\tvalidation_0-rmse:2.18624\tvalidation_1-rmse:1.91230\n",
      "[100]\tvalidation_0-rmse:1.25671\tvalidation_1-rmse:1.27410\n",
      "[200]\tvalidation_0-rmse:1.01028\tvalidation_1-rmse:1.25000\n",
      "[230]\tvalidation_0-rmse:0.97277\tvalidation_1-rmse:1.26863\n"
     ]
    },
    {
     "name": "stderr",
     "output_type": "stream",
     "text": [
      "s:\\Pizza\\.venv\\Lib\\site-packages\\xgboost\\core.py:158: UserWarning: [16:57:38] WARNING: C:\\buildkite-agent\\builds\\buildkite-windows-cpu-autoscaling-group-i-06abd128ca6c1688d-1\\xgboost\\xgboost-ci-windows\\src\\objective\\regression_obj.cu:227: reg:linear is now deprecated in favor of reg:squarederror.\n",
      "  warnings.warn(smsg, UserWarning)\n"
     ]
    },
    {
     "name": "stdout",
     "output_type": "stream",
     "text": [
      "[0]\tvalidation_0-rmse:2.16804\tvalidation_1-rmse:2.34669\n",
      "[100]\tvalidation_0-rmse:1.24783\tvalidation_1-rmse:1.46262\n",
      "[200]\tvalidation_0-rmse:0.99226\tvalidation_1-rmse:1.24723\n"
     ]
    },
    {
     "name": "stderr",
     "output_type": "stream",
     "text": [
      "s:\\Pizza\\.venv\\Lib\\site-packages\\xgboost\\core.py:158: UserWarning: [16:57:39] WARNING: C:\\buildkite-agent\\builds\\buildkite-windows-cpu-autoscaling-group-i-06abd128ca6c1688d-1\\xgboost\\xgboost-ci-windows\\src\\objective\\regression_obj.cu:227: reg:linear is now deprecated in favor of reg:squarederror.\n",
      "  warnings.warn(smsg, UserWarning)\n"
     ]
    },
    {
     "name": "stdout",
     "output_type": "stream",
     "text": [
      "[300]\tvalidation_0-rmse:0.90071\tvalidation_1-rmse:1.20273\n",
      "[395]\tvalidation_0-rmse:0.83849\tvalidation_1-rmse:1.21563\n",
      "[0]\tvalidation_0-rmse:2.18510\tvalidation_1-rmse:2.27654\n",
      "[100]\tvalidation_0-rmse:1.25335\tvalidation_1-rmse:1.39421\n",
      "[200]\tvalidation_0-rmse:1.00232\tvalidation_1-rmse:1.23203\n"
     ]
    },
    {
     "name": "stderr",
     "output_type": "stream",
     "text": [
      "s:\\Pizza\\.venv\\Lib\\site-packages\\xgboost\\core.py:158: UserWarning: [16:57:39] WARNING: C:\\buildkite-agent\\builds\\buildkite-windows-cpu-autoscaling-group-i-06abd128ca6c1688d-1\\xgboost\\xgboost-ci-windows\\src\\objective\\regression_obj.cu:227: reg:linear is now deprecated in favor of reg:squarederror.\n",
      "  warnings.warn(smsg, UserWarning)\n"
     ]
    },
    {
     "name": "stdout",
     "output_type": "stream",
     "text": [
      "[300]\tvalidation_0-rmse:0.90047\tvalidation_1-rmse:1.20246\n",
      "[399]\tvalidation_0-rmse:0.84677\tvalidation_1-rmse:1.18904\n",
      "Processing ital_cpcllo_s...\n",
      "[0]\tvalidation_0-rmse:1.64822\tvalidation_1-rmse:1.55610\n",
      "[100]\tvalidation_0-rmse:0.92553\tvalidation_1-rmse:1.07721\n",
      "[200]\tvalidation_0-rmse:0.70747\tvalidation_1-rmse:0.98385\n"
     ]
    },
    {
     "name": "stderr",
     "output_type": "stream",
     "text": [
      "s:\\Pizza\\.venv\\Lib\\site-packages\\xgboost\\core.py:158: UserWarning: [16:57:40] WARNING: C:\\buildkite-agent\\builds\\buildkite-windows-cpu-autoscaling-group-i-06abd128ca6c1688d-1\\xgboost\\xgboost-ci-windows\\src\\objective\\regression_obj.cu:227: reg:linear is now deprecated in favor of reg:squarederror.\n",
      "  warnings.warn(smsg, UserWarning)\n"
     ]
    },
    {
     "name": "stdout",
     "output_type": "stream",
     "text": [
      "[300]\tvalidation_0-rmse:0.62383\tvalidation_1-rmse:0.96933\n",
      "[319]\tvalidation_0-rmse:0.61413\tvalidation_1-rmse:0.96816\n",
      "[0]\tvalidation_0-rmse:1.63669\tvalidation_1-rmse:1.59843\n",
      "[100]\tvalidation_0-rmse:0.93594\tvalidation_1-rmse:1.08552\n",
      "[200]\tvalidation_0-rmse:0.72734\tvalidation_1-rmse:0.96059\n"
     ]
    },
    {
     "name": "stderr",
     "output_type": "stream",
     "text": [
      "s:\\Pizza\\.venv\\Lib\\site-packages\\xgboost\\core.py:158: UserWarning: [16:57:40] WARNING: C:\\buildkite-agent\\builds\\buildkite-windows-cpu-autoscaling-group-i-06abd128ca6c1688d-1\\xgboost\\xgboost-ci-windows\\src\\objective\\regression_obj.cu:227: reg:linear is now deprecated in favor of reg:squarederror.\n",
      "  warnings.warn(smsg, UserWarning)\n"
     ]
    },
    {
     "name": "stdout",
     "output_type": "stream",
     "text": [
      "[300]\tvalidation_0-rmse:0.64823\tvalidation_1-rmse:0.93221\n",
      "[352]\tvalidation_0-rmse:0.62249\tvalidation_1-rmse:0.94695\n",
      "[0]\tvalidation_0-rmse:1.63444\tvalidation_1-rmse:2.87431\n",
      "[100]\tvalidation_0-rmse:0.94607\tvalidation_1-rmse:2.33544\n",
      "[200]\tvalidation_0-rmse:0.74931\tvalidation_1-rmse:2.20529\n"
     ]
    },
    {
     "name": "stderr",
     "output_type": "stream",
     "text": [
      "s:\\Pizza\\.venv\\Lib\\site-packages\\xgboost\\core.py:158: UserWarning: [16:57:40] WARNING: C:\\buildkite-agent\\builds\\buildkite-windows-cpu-autoscaling-group-i-06abd128ca6c1688d-1\\xgboost\\xgboost-ci-windows\\src\\objective\\regression_obj.cu:227: reg:linear is now deprecated in favor of reg:squarederror.\n",
      "  warnings.warn(smsg, UserWarning)\n"
     ]
    },
    {
     "name": "stdout",
     "output_type": "stream",
     "text": [
      "[300]\tvalidation_0-rmse:0.66904\tvalidation_1-rmse:2.14950\n",
      "[362]\tvalidation_0-rmse:0.63402\tvalidation_1-rmse:2.14936\n",
      "Processing mediterraneo_s...\n",
      "[0]\tvalidation_0-rmse:1.64807\tvalidation_1-rmse:2.25251\n",
      "[100]\tvalidation_0-rmse:0.92322\tvalidation_1-rmse:1.62310\n"
     ]
    },
    {
     "name": "stderr",
     "output_type": "stream",
     "text": [
      "s:\\Pizza\\.venv\\Lib\\site-packages\\xgboost\\core.py:158: UserWarning: [16:57:41] WARNING: C:\\buildkite-agent\\builds\\buildkite-windows-cpu-autoscaling-group-i-06abd128ca6c1688d-1\\xgboost\\xgboost-ci-windows\\src\\objective\\regression_obj.cu:227: reg:linear is now deprecated in favor of reg:squarederror.\n",
      "  warnings.warn(smsg, UserWarning)\n"
     ]
    },
    {
     "name": "stdout",
     "output_type": "stream",
     "text": [
      "[200]\tvalidation_0-rmse:0.69852\tvalidation_1-rmse:1.43803\n",
      "[300]\tvalidation_0-rmse:0.60561\tvalidation_1-rmse:1.41563\n",
      "[399]\tvalidation_0-rmse:0.54681\tvalidation_1-rmse:1.41350\n",
      "[0]\tvalidation_0-rmse:1.73640\tvalidation_1-rmse:1.29815\n",
      "[100]\tvalidation_0-rmse:0.97346\tvalidation_1-rmse:0.76488\n",
      "[200]\tvalidation_0-rmse:0.72429\tvalidation_1-rmse:0.69891\n",
      "[271]\tvalidation_0-rmse:0.64186\tvalidation_1-rmse:0.70610\n"
     ]
    },
    {
     "name": "stderr",
     "output_type": "stream",
     "text": [
      "s:\\Pizza\\.venv\\Lib\\site-packages\\xgboost\\core.py:158: UserWarning: [16:57:41] WARNING: C:\\buildkite-agent\\builds\\buildkite-windows-cpu-autoscaling-group-i-06abd128ca6c1688d-1\\xgboost\\xgboost-ci-windows\\src\\objective\\regression_obj.cu:227: reg:linear is now deprecated in favor of reg:squarederror.\n",
      "  warnings.warn(smsg, UserWarning)\n"
     ]
    },
    {
     "name": "stdout",
     "output_type": "stream",
     "text": [
      "[0]\tvalidation_0-rmse:1.69136\tvalidation_1-rmse:1.69576\n",
      "[100]\tvalidation_0-rmse:0.94829\tvalidation_1-rmse:1.05817\n",
      "[200]\tvalidation_0-rmse:0.71967\tvalidation_1-rmse:0.86838\n"
     ]
    },
    {
     "name": "stderr",
     "output_type": "stream",
     "text": [
      "s:\\Pizza\\.venv\\Lib\\site-packages\\xgboost\\core.py:158: UserWarning: [16:57:42] WARNING: C:\\buildkite-agent\\builds\\buildkite-windows-cpu-autoscaling-group-i-06abd128ca6c1688d-1\\xgboost\\xgboost-ci-windows\\src\\objective\\regression_obj.cu:227: reg:linear is now deprecated in favor of reg:squarederror.\n",
      "  warnings.warn(smsg, UserWarning)\n"
     ]
    },
    {
     "name": "stdout",
     "output_type": "stream",
     "text": [
      "[300]\tvalidation_0-rmse:0.62677\tvalidation_1-rmse:0.81601\n",
      "[399]\tvalidation_0-rmse:0.56751\tvalidation_1-rmse:0.80270\n",
      "Processing spinach_fet_m...\n",
      "[0]\tvalidation_0-rmse:2.35409\tvalidation_1-rmse:2.07898\n",
      "[100]\tvalidation_0-rmse:1.29947\tvalidation_1-rmse:1.31098\n",
      "[200]\tvalidation_0-rmse:1.00040\tvalidation_1-rmse:1.15917\n"
     ]
    },
    {
     "name": "stderr",
     "output_type": "stream",
     "text": [
      "s:\\Pizza\\.venv\\Lib\\site-packages\\xgboost\\core.py:158: UserWarning: [16:57:42] WARNING: C:\\buildkite-agent\\builds\\buildkite-windows-cpu-autoscaling-group-i-06abd128ca6c1688d-1\\xgboost\\xgboost-ci-windows\\src\\objective\\regression_obj.cu:227: reg:linear is now deprecated in favor of reg:squarederror.\n",
      "  warnings.warn(smsg, UserWarning)\n"
     ]
    },
    {
     "name": "stdout",
     "output_type": "stream",
     "text": [
      "[300]\tvalidation_0-rmse:0.89685\tvalidation_1-rmse:1.13668\n",
      "[399]\tvalidation_0-rmse:0.83531\tvalidation_1-rmse:1.13274\n",
      "[0]\tvalidation_0-rmse:2.33592\tvalidation_1-rmse:2.23198\n",
      "[100]\tvalidation_0-rmse:1.29488\tvalidation_1-rmse:1.30741\n",
      "[200]\tvalidation_0-rmse:1.01146\tvalidation_1-rmse:1.12542\n"
     ]
    },
    {
     "name": "stderr",
     "output_type": "stream",
     "text": [
      "s:\\Pizza\\.venv\\Lib\\site-packages\\xgboost\\core.py:158: UserWarning: [16:57:42] WARNING: C:\\buildkite-agent\\builds\\buildkite-windows-cpu-autoscaling-group-i-06abd128ca6c1688d-1\\xgboost\\xgboost-ci-windows\\src\\objective\\regression_obj.cu:227: reg:linear is now deprecated in favor of reg:squarederror.\n",
      "  warnings.warn(smsg, UserWarning)\n"
     ]
    },
    {
     "name": "stdout",
     "output_type": "stream",
     "text": [
      "[300]\tvalidation_0-rmse:0.89846\tvalidation_1-rmse:1.05853\n",
      "[399]\tvalidation_0-rmse:0.83978\tvalidation_1-rmse:1.04169\n",
      "[0]\tvalidation_0-rmse:2.33477\tvalidation_1-rmse:2.50917\n",
      "[100]\tvalidation_0-rmse:1.29302\tvalidation_1-rmse:1.61648\n",
      "[200]\tvalidation_0-rmse:1.00902\tvalidation_1-rmse:1.44107\n"
     ]
    },
    {
     "name": "stderr",
     "output_type": "stream",
     "text": [
      "s:\\Pizza\\.venv\\Lib\\site-packages\\xgboost\\core.py:158: UserWarning: [16:57:43] WARNING: C:\\buildkite-agent\\builds\\buildkite-windows-cpu-autoscaling-group-i-06abd128ca6c1688d-1\\xgboost\\xgboost-ci-windows\\src\\objective\\regression_obj.cu:227: reg:linear is now deprecated in favor of reg:squarederror.\n",
      "  warnings.warn(smsg, UserWarning)\n"
     ]
    },
    {
     "name": "stdout",
     "output_type": "stream",
     "text": [
      "[300]\tvalidation_0-rmse:0.90378\tvalidation_1-rmse:1.41558\n",
      "[399]\tvalidation_0-rmse:0.86660\tvalidation_1-rmse:1.39938\n",
      "Processing napolitana_m...\n",
      "[0]\tvalidation_0-rmse:1.92067\tvalidation_1-rmse:1.98369\n",
      "[100]\tvalidation_0-rmse:1.10992\tvalidation_1-rmse:1.42379\n",
      "[200]\tvalidation_0-rmse:0.88984\tvalidation_1-rmse:1.35001\n"
     ]
    },
    {
     "name": "stderr",
     "output_type": "stream",
     "text": [
      "s:\\Pizza\\.venv\\Lib\\site-packages\\xgboost\\core.py:158: UserWarning: [16:57:43] WARNING: C:\\buildkite-agent\\builds\\buildkite-windows-cpu-autoscaling-group-i-06abd128ca6c1688d-1\\xgboost\\xgboost-ci-windows\\src\\objective\\regression_obj.cu:227: reg:linear is now deprecated in favor of reg:squarederror.\n",
      "  warnings.warn(smsg, UserWarning)\n"
     ]
    },
    {
     "name": "stdout",
     "output_type": "stream",
     "text": [
      "[300]\tvalidation_0-rmse:0.79501\tvalidation_1-rmse:1.35257\n",
      "[306]\tvalidation_0-rmse:0.79150\tvalidation_1-rmse:1.35474\n",
      "[0]\tvalidation_0-rmse:1.92804\tvalidation_1-rmse:1.29579\n",
      "[100]\tvalidation_0-rmse:1.13465\tvalidation_1-rmse:0.57320\n",
      "[200]\tvalidation_0-rmse:0.92646\tvalidation_1-rmse:0.53725\n"
     ]
    },
    {
     "name": "stderr",
     "output_type": "stream",
     "text": [
      "s:\\Pizza\\.venv\\Lib\\site-packages\\xgboost\\core.py:158: UserWarning: [16:57:43] WARNING: C:\\buildkite-agent\\builds\\buildkite-windows-cpu-autoscaling-group-i-06abd128ca6c1688d-1\\xgboost\\xgboost-ci-windows\\src\\objective\\regression_obj.cu:227: reg:linear is now deprecated in favor of reg:squarederror.\n",
      "  warnings.warn(smsg, UserWarning)\n"
     ]
    },
    {
     "name": "stdout",
     "output_type": "stream",
     "text": [
      "[204]\tvalidation_0-rmse:0.92304\tvalidation_1-rmse:0.53818\n",
      "[0]\tvalidation_0-rmse:1.88774\tvalidation_1-rmse:1.29818\n",
      "[100]\tvalidation_0-rmse:1.13831\tvalidation_1-rmse:0.78681\n",
      "[163]\tvalidation_0-rmse:0.99296\tvalidation_1-rmse:0.80078\n"
     ]
    },
    {
     "name": "stderr",
     "output_type": "stream",
     "text": [
      "s:\\Pizza\\.venv\\Lib\\site-packages\\xgboost\\core.py:158: UserWarning: [16:57:44] WARNING: C:\\buildkite-agent\\builds\\buildkite-windows-cpu-autoscaling-group-i-06abd128ca6c1688d-1\\xgboost\\xgboost-ci-windows\\src\\objective\\regression_obj.cu:227: reg:linear is now deprecated in favor of reg:squarederror.\n",
      "  warnings.warn(smsg, UserWarning)\n"
     ]
    },
    {
     "name": "stdout",
     "output_type": "stream",
     "text": [
      "Processing spin_pesto_m...\n",
      "[0]\tvalidation_0-rmse:1.50642\tvalidation_1-rmse:1.08068\n",
      "[100]\tvalidation_0-rmse:0.83594\tvalidation_1-rmse:0.63087\n",
      "[200]\tvalidation_0-rmse:0.63574\tvalidation_1-rmse:0.54894\n"
     ]
    },
    {
     "name": "stderr",
     "output_type": "stream",
     "text": [
      "s:\\Pizza\\.venv\\Lib\\site-packages\\xgboost\\core.py:158: UserWarning: [16:57:44] WARNING: C:\\buildkite-agent\\builds\\buildkite-windows-cpu-autoscaling-group-i-06abd128ca6c1688d-1\\xgboost\\xgboost-ci-windows\\src\\objective\\regression_obj.cu:227: reg:linear is now deprecated in favor of reg:squarederror.\n",
      "  warnings.warn(smsg, UserWarning)\n"
     ]
    },
    {
     "name": "stdout",
     "output_type": "stream",
     "text": [
      "[270]\tvalidation_0-rmse:0.58637\tvalidation_1-rmse:0.54749\n",
      "[0]\tvalidation_0-rmse:1.45586\tvalidation_1-rmse:1.90297\n",
      "[100]\tvalidation_0-rmse:0.82530\tvalidation_1-rmse:1.40279\n",
      "[200]\tvalidation_0-rmse:0.64614\tvalidation_1-rmse:1.26942\n"
     ]
    },
    {
     "name": "stderr",
     "output_type": "stream",
     "text": [
      "s:\\Pizza\\.venv\\Lib\\site-packages\\xgboost\\core.py:158: UserWarning: [16:57:44] WARNING: C:\\buildkite-agent\\builds\\buildkite-windows-cpu-autoscaling-group-i-06abd128ca6c1688d-1\\xgboost\\xgboost-ci-windows\\src\\objective\\regression_obj.cu:227: reg:linear is now deprecated in favor of reg:squarederror.\n",
      "  warnings.warn(smsg, UserWarning)\n"
     ]
    },
    {
     "name": "stdout",
     "output_type": "stream",
     "text": [
      "[300]\tvalidation_0-rmse:0.59240\tvalidation_1-rmse:1.20937\n",
      "[399]\tvalidation_0-rmse:0.55213\tvalidation_1-rmse:1.17848\n",
      "[0]\tvalidation_0-rmse:1.51541\tvalidation_1-rmse:1.53299\n",
      "[100]\tvalidation_0-rmse:0.86331\tvalidation_1-rmse:0.98393\n",
      "[200]\tvalidation_0-rmse:0.66925\tvalidation_1-rmse:0.88621\n"
     ]
    },
    {
     "name": "stderr",
     "output_type": "stream",
     "text": [
      "s:\\Pizza\\.venv\\Lib\\site-packages\\xgboost\\core.py:158: UserWarning: [16:57:45] WARNING: C:\\buildkite-agent\\builds\\buildkite-windows-cpu-autoscaling-group-i-06abd128ca6c1688d-1\\xgboost\\xgboost-ci-windows\\src\\objective\\regression_obj.cu:227: reg:linear is now deprecated in favor of reg:squarederror.\n",
      "  warnings.warn(smsg, UserWarning)\n"
     ]
    },
    {
     "name": "stdout",
     "output_type": "stream",
     "text": [
      "[300]\tvalidation_0-rmse:0.59958\tvalidation_1-rmse:0.86629\n",
      "[399]\tvalidation_0-rmse:0.55702\tvalidation_1-rmse:0.86116\n",
      "Processing brie_carre_s...\n",
      "[0]\tvalidation_0-rmse:2.34672\tvalidation_1-rmse:2.49413\n",
      "[100]\tvalidation_0-rmse:1.31957\tvalidation_1-rmse:1.70741\n",
      "[200]\tvalidation_0-rmse:1.04162\tvalidation_1-rmse:1.56815\n"
     ]
    },
    {
     "name": "stderr",
     "output_type": "stream",
     "text": [
      "s:\\Pizza\\.venv\\Lib\\site-packages\\xgboost\\core.py:158: UserWarning: [16:57:45] WARNING: C:\\buildkite-agent\\builds\\buildkite-windows-cpu-autoscaling-group-i-06abd128ca6c1688d-1\\xgboost\\xgboost-ci-windows\\src\\objective\\regression_obj.cu:227: reg:linear is now deprecated in favor of reg:squarederror.\n",
      "  warnings.warn(smsg, UserWarning)\n"
     ]
    },
    {
     "name": "stdout",
     "output_type": "stream",
     "text": [
      "[300]\tvalidation_0-rmse:0.94122\tvalidation_1-rmse:1.53904\n",
      "[399]\tvalidation_0-rmse:0.88056\tvalidation_1-rmse:1.53045\n",
      "[0]\tvalidation_0-rmse:2.35266\tvalidation_1-rmse:2.72713\n",
      "[100]\tvalidation_0-rmse:1.33423\tvalidation_1-rmse:1.87855\n",
      "[173]\tvalidation_0-rmse:1.09455\tvalidation_1-rmse:1.84240\n"
     ]
    },
    {
     "name": "stderr",
     "output_type": "stream",
     "text": [
      "s:\\Pizza\\.venv\\Lib\\site-packages\\xgboost\\core.py:158: UserWarning: [16:57:46] WARNING: C:\\buildkite-agent\\builds\\buildkite-windows-cpu-autoscaling-group-i-06abd128ca6c1688d-1\\xgboost\\xgboost-ci-windows\\src\\objective\\regression_obj.cu:227: reg:linear is now deprecated in favor of reg:squarederror.\n",
      "  warnings.warn(smsg, UserWarning)\n",
      "s:\\Pizza\\.venv\\Lib\\site-packages\\xgboost\\core.py:158: UserWarning: [16:57:46] WARNING: C:\\buildkite-agent\\builds\\buildkite-windows-cpu-autoscaling-group-i-06abd128ca6c1688d-1\\xgboost\\xgboost-ci-windows\\src\\objective\\regression_obj.cu:227: reg:linear is now deprecated in favor of reg:squarederror.\n",
      "  warnings.warn(smsg, UserWarning)\n"
     ]
    },
    {
     "name": "stdout",
     "output_type": "stream",
     "text": [
      "[0]\tvalidation_0-rmse:2.38190\tvalidation_1-rmse:1.72859\n",
      "[100]\tvalidation_0-rmse:1.35071\tvalidation_1-rmse:1.04356\n",
      "[182]\tvalidation_0-rmse:1.10059\tvalidation_1-rmse:1.07340\n",
      "Processing ckn_alfredo_l...\n",
      "[0]\tvalidation_0-rmse:1.29718\tvalidation_1-rmse:1.59818\n",
      "[100]\tvalidation_0-rmse:0.71075\tvalidation_1-rmse:1.18306\n",
      "[200]\tvalidation_0-rmse:0.52266\tvalidation_1-rmse:1.07033\n"
     ]
    },
    {
     "name": "stderr",
     "output_type": "stream",
     "text": [
      "s:\\Pizza\\.venv\\Lib\\site-packages\\xgboost\\core.py:158: UserWarning: [16:57:46] WARNING: C:\\buildkite-agent\\builds\\buildkite-windows-cpu-autoscaling-group-i-06abd128ca6c1688d-1\\xgboost\\xgboost-ci-windows\\src\\objective\\regression_obj.cu:227: reg:linear is now deprecated in favor of reg:squarederror.\n",
      "  warnings.warn(smsg, UserWarning)\n"
     ]
    },
    {
     "name": "stdout",
     "output_type": "stream",
     "text": [
      "[300]\tvalidation_0-rmse:0.43180\tvalidation_1-rmse:1.06306\n",
      "[308]\tvalidation_0-rmse:0.42582\tvalidation_1-rmse:1.06341\n",
      "[0]\tvalidation_0-rmse:1.36856\tvalidation_1-rmse:1.19906\n",
      "[100]\tvalidation_0-rmse:0.78027\tvalidation_1-rmse:0.89217\n",
      "[200]\tvalidation_0-rmse:0.60453\tvalidation_1-rmse:0.77753\n"
     ]
    },
    {
     "name": "stderr",
     "output_type": "stream",
     "text": [
      "s:\\Pizza\\.venv\\Lib\\site-packages\\xgboost\\core.py:158: UserWarning: [16:57:46] WARNING: C:\\buildkite-agent\\builds\\buildkite-windows-cpu-autoscaling-group-i-06abd128ca6c1688d-1\\xgboost\\xgboost-ci-windows\\src\\objective\\regression_obj.cu:227: reg:linear is now deprecated in favor of reg:squarederror.\n",
      "  warnings.warn(smsg, UserWarning)\n"
     ]
    },
    {
     "name": "stdout",
     "output_type": "stream",
     "text": [
      "[300]\tvalidation_0-rmse:0.53926\tvalidation_1-rmse:0.73979\n",
      "[367]\tvalidation_0-rmse:0.50120\tvalidation_1-rmse:0.74064\n",
      "[0]\tvalidation_0-rmse:1.31301\tvalidation_1-rmse:1.35496\n",
      "[100]\tvalidation_0-rmse:0.74426\tvalidation_1-rmse:1.03407\n"
     ]
    },
    {
     "name": "stderr",
     "output_type": "stream",
     "text": [
      "s:\\Pizza\\.venv\\Lib\\site-packages\\xgboost\\core.py:158: UserWarning: [16:57:47] WARNING: C:\\buildkite-agent\\builds\\buildkite-windows-cpu-autoscaling-group-i-06abd128ca6c1688d-1\\xgboost\\xgboost-ci-windows\\src\\objective\\regression_obj.cu:227: reg:linear is now deprecated in favor of reg:squarederror.\n",
      "  warnings.warn(smsg, UserWarning)\n"
     ]
    },
    {
     "name": "stdout",
     "output_type": "stream",
     "text": [
      "[200]\tvalidation_0-rmse:0.56026\tvalidation_1-rmse:0.97471\n",
      "[300]\tvalidation_0-rmse:0.49876\tvalidation_1-rmse:0.93615\n",
      "[383]\tvalidation_0-rmse:0.46657\tvalidation_1-rmse:0.93633\n",
      "Processing calabrese_s...\n",
      "[0]\tvalidation_0-rmse:0.70220\tvalidation_1-rmse:1.17159\n",
      "[100]\tvalidation_0-rmse:0.38814\tvalidation_1-rmse:0.93904\n",
      "[200]\tvalidation_0-rmse:0.22470\tvalidation_1-rmse:0.87205\n",
      "[300]\tvalidation_0-rmse:0.13248\tvalidation_1-rmse:0.84262\n"
     ]
    },
    {
     "name": "stderr",
     "output_type": "stream",
     "text": [
      "s:\\Pizza\\.venv\\Lib\\site-packages\\xgboost\\core.py:158: UserWarning: [16:57:47] WARNING: C:\\buildkite-agent\\builds\\buildkite-windows-cpu-autoscaling-group-i-06abd128ca6c1688d-1\\xgboost\\xgboost-ci-windows\\src\\objective\\regression_obj.cu:227: reg:linear is now deprecated in favor of reg:squarederror.\n",
      "  warnings.warn(smsg, UserWarning)\n"
     ]
    },
    {
     "name": "stdout",
     "output_type": "stream",
     "text": [
      "[399]\tvalidation_0-rmse:0.07938\tvalidation_1-rmse:0.82914\n",
      "[0]\tvalidation_0-rmse:1.10976\tvalidation_1-rmse:1.42537\n",
      "[100]\tvalidation_0-rmse:0.57836\tvalidation_1-rmse:1.16536\n",
      "[200]\tvalidation_0-rmse:0.37682\tvalidation_1-rmse:1.13123\n"
     ]
    },
    {
     "name": "stderr",
     "output_type": "stream",
     "text": [
      "s:\\Pizza\\.venv\\Lib\\site-packages\\xgboost\\core.py:158: UserWarning: [16:57:47] WARNING: C:\\buildkite-agent\\builds\\buildkite-windows-cpu-autoscaling-group-i-06abd128ca6c1688d-1\\xgboost\\xgboost-ci-windows\\src\\objective\\regression_obj.cu:227: reg:linear is now deprecated in favor of reg:squarederror.\n",
      "  warnings.warn(smsg, UserWarning)\n"
     ]
    },
    {
     "name": "stdout",
     "output_type": "stream",
     "text": [
      "[300]\tvalidation_0-rmse:0.26316\tvalidation_1-rmse:1.11700\n",
      "[344]\tvalidation_0-rmse:0.22779\tvalidation_1-rmse:1.11767\n",
      "[0]\tvalidation_0-rmse:1.25647\tvalidation_1-rmse:0.70681\n",
      "[99]\tvalidation_0-rmse:0.63130\tvalidation_1-rmse:0.51337\n",
      "Processing the_greek_l...\n",
      "[0]\tvalidation_0-rmse:1.42694\tvalidation_1-rmse:1.27602\n"
     ]
    },
    {
     "name": "stderr",
     "output_type": "stream",
     "text": [
      "s:\\Pizza\\.venv\\Lib\\site-packages\\xgboost\\core.py:158: UserWarning: [16:57:48] WARNING: C:\\buildkite-agent\\builds\\buildkite-windows-cpu-autoscaling-group-i-06abd128ca6c1688d-1\\xgboost\\xgboost-ci-windows\\src\\objective\\regression_obj.cu:227: reg:linear is now deprecated in favor of reg:squarederror.\n",
      "  warnings.warn(smsg, UserWarning)\n",
      "s:\\Pizza\\.venv\\Lib\\site-packages\\xgboost\\core.py:158: UserWarning: [16:57:48] WARNING: C:\\buildkite-agent\\builds\\buildkite-windows-cpu-autoscaling-group-i-06abd128ca6c1688d-1\\xgboost\\xgboost-ci-windows\\src\\objective\\regression_obj.cu:227: reg:linear is now deprecated in favor of reg:squarederror.\n",
      "  warnings.warn(smsg, UserWarning)\n"
     ]
    },
    {
     "name": "stdout",
     "output_type": "stream",
     "text": [
      "[100]\tvalidation_0-rmse:0.77662\tvalidation_1-rmse:0.89238\n",
      "[184]\tvalidation_0-rmse:0.57705\tvalidation_1-rmse:0.89783\n",
      "[0]\tvalidation_0-rmse:1.40835\tvalidation_1-rmse:1.27343\n",
      "[100]\tvalidation_0-rmse:0.79272\tvalidation_1-rmse:0.76989\n",
      "[190]\tvalidation_0-rmse:0.59250\tvalidation_1-rmse:0.75482\n",
      "[0]\tvalidation_0-rmse:1.39122\tvalidation_1-rmse:1.44781\n"
     ]
    },
    {
     "name": "stderr",
     "output_type": "stream",
     "text": [
      "s:\\Pizza\\.venv\\Lib\\site-packages\\xgboost\\core.py:158: UserWarning: [16:57:48] WARNING: C:\\buildkite-agent\\builds\\buildkite-windows-cpu-autoscaling-group-i-06abd128ca6c1688d-1\\xgboost\\xgboost-ci-windows\\src\\objective\\regression_obj.cu:227: reg:linear is now deprecated in favor of reg:squarederror.\n",
      "  warnings.warn(smsg, UserWarning)\n",
      "s:\\Pizza\\.venv\\Lib\\site-packages\\xgboost\\core.py:158: UserWarning: [16:57:48] WARNING: C:\\buildkite-agent\\builds\\buildkite-windows-cpu-autoscaling-group-i-06abd128ca6c1688d-1\\xgboost\\xgboost-ci-windows\\src\\objective\\regression_obj.cu:227: reg:linear is now deprecated in favor of reg:squarederror.\n",
      "  warnings.warn(smsg, UserWarning)\n"
     ]
    },
    {
     "name": "stdout",
     "output_type": "stream",
     "text": [
      "[100]\tvalidation_0-rmse:0.79905\tvalidation_1-rmse:0.97271\n",
      "[200]\tvalidation_0-rmse:0.60817\tvalidation_1-rmse:0.83996\n",
      "[300]\tvalidation_0-rmse:0.53076\tvalidation_1-rmse:0.80095\n",
      "[399]\tvalidation_0-rmse:0.48942\tvalidation_1-rmse:0.78282\n",
      "Processing soppressata_m...\n",
      "[0]\tvalidation_0-rmse:1.36340\tvalidation_1-rmse:1.44718\n",
      "[100]\tvalidation_0-rmse:0.73843\tvalidation_1-rmse:1.02883\n",
      "[200]\tvalidation_0-rmse:0.55897\tvalidation_1-rmse:0.92190\n"
     ]
    },
    {
     "name": "stderr",
     "output_type": "stream",
     "text": [
      "s:\\Pizza\\.venv\\Lib\\site-packages\\xgboost\\core.py:158: UserWarning: [16:57:49] WARNING: C:\\buildkite-agent\\builds\\buildkite-windows-cpu-autoscaling-group-i-06abd128ca6c1688d-1\\xgboost\\xgboost-ci-windows\\src\\objective\\regression_obj.cu:227: reg:linear is now deprecated in favor of reg:squarederror.\n",
      "  warnings.warn(smsg, UserWarning)\n"
     ]
    },
    {
     "name": "stdout",
     "output_type": "stream",
     "text": [
      "[267]\tvalidation_0-rmse:0.50748\tvalidation_1-rmse:0.92381\n",
      "[0]\tvalidation_0-rmse:1.37562\tvalidation_1-rmse:1.53437\n",
      "[100]\tvalidation_0-rmse:0.76217\tvalidation_1-rmse:0.96742\n",
      "[200]\tvalidation_0-rmse:0.59486\tvalidation_1-rmse:0.85351\n"
     ]
    },
    {
     "name": "stderr",
     "output_type": "stream",
     "text": [
      "s:\\Pizza\\.venv\\Lib\\site-packages\\xgboost\\core.py:158: UserWarning: [16:57:49] WARNING: C:\\buildkite-agent\\builds\\buildkite-windows-cpu-autoscaling-group-i-06abd128ca6c1688d-1\\xgboost\\xgboost-ci-windows\\src\\objective\\regression_obj.cu:227: reg:linear is now deprecated in favor of reg:squarederror.\n",
      "  warnings.warn(smsg, UserWarning)\n"
     ]
    },
    {
     "name": "stdout",
     "output_type": "stream",
     "text": [
      "[300]\tvalidation_0-rmse:0.52935\tvalidation_1-rmse:0.83667\n",
      "[332]\tvalidation_0-rmse:0.51766\tvalidation_1-rmse:0.83928\n",
      "[0]\tvalidation_0-rmse:1.39628\tvalidation_1-rmse:1.16751\n",
      "[100]\tvalidation_0-rmse:0.77229\tvalidation_1-rmse:0.75006\n",
      "[200]\tvalidation_0-rmse:0.60281\tvalidation_1-rmse:0.72497\n",
      "[207]\tvalidation_0-rmse:0.59671\tvalidation_1-rmse:0.72557\n"
     ]
    },
    {
     "name": "stderr",
     "output_type": "stream",
     "text": [
      "s:\\Pizza\\.venv\\Lib\\site-packages\\xgboost\\core.py:158: UserWarning: [16:57:49] WARNING: C:\\buildkite-agent\\builds\\buildkite-windows-cpu-autoscaling-group-i-06abd128ca6c1688d-1\\xgboost\\xgboost-ci-windows\\src\\objective\\regression_obj.cu:227: reg:linear is now deprecated in favor of reg:squarederror.\n",
      "  warnings.warn(smsg, UserWarning)\n"
     ]
    },
    {
     "name": "stdout",
     "output_type": "stream",
     "text": [
      "Processing soppressata_s...\n",
      "[0]\tvalidation_0-rmse:1.37329\tvalidation_1-rmse:1.79602\n",
      "[100]\tvalidation_0-rmse:0.75347\tvalidation_1-rmse:1.28877\n",
      "[200]\tvalidation_0-rmse:0.56518\tvalidation_1-rmse:1.19351\n"
     ]
    },
    {
     "name": "stderr",
     "output_type": "stream",
     "text": [
      "s:\\Pizza\\.venv\\Lib\\site-packages\\xgboost\\core.py:158: UserWarning: [16:57:50] WARNING: C:\\buildkite-agent\\builds\\buildkite-windows-cpu-autoscaling-group-i-06abd128ca6c1688d-1\\xgboost\\xgboost-ci-windows\\src\\objective\\regression_obj.cu:227: reg:linear is now deprecated in favor of reg:squarederror.\n",
      "  warnings.warn(smsg, UserWarning)\n"
     ]
    },
    {
     "name": "stdout",
     "output_type": "stream",
     "text": [
      "[300]\tvalidation_0-rmse:0.49353\tvalidation_1-rmse:1.17385\n",
      "[313]\tvalidation_0-rmse:0.48671\tvalidation_1-rmse:1.17374\n",
      "[0]\tvalidation_0-rmse:1.43547\tvalidation_1-rmse:1.27821\n",
      "[100]\tvalidation_0-rmse:0.81984\tvalidation_1-rmse:0.81591\n",
      "[200]\tvalidation_0-rmse:0.64167\tvalidation_1-rmse:0.68313\n"
     ]
    },
    {
     "name": "stderr",
     "output_type": "stream",
     "text": [
      "s:\\Pizza\\.venv\\Lib\\site-packages\\xgboost\\core.py:158: UserWarning: [16:57:50] WARNING: C:\\buildkite-agent\\builds\\buildkite-windows-cpu-autoscaling-group-i-06abd128ca6c1688d-1\\xgboost\\xgboost-ci-windows\\src\\objective\\regression_obj.cu:227: reg:linear is now deprecated in favor of reg:squarederror.\n",
      "  warnings.warn(smsg, UserWarning)\n"
     ]
    },
    {
     "name": "stdout",
     "output_type": "stream",
     "text": [
      "[300]\tvalidation_0-rmse:0.58565\tvalidation_1-rmse:0.65240\n",
      "[399]\tvalidation_0-rmse:0.55250\tvalidation_1-rmse:0.64497\n",
      "[0]\tvalidation_0-rmse:1.41764\tvalidation_1-rmse:1.75612\n",
      "[100]\tvalidation_0-rmse:0.81443\tvalidation_1-rmse:1.25130\n",
      "[200]\tvalidation_0-rmse:0.64397\tvalidation_1-rmse:1.12519\n"
     ]
    },
    {
     "name": "stderr",
     "output_type": "stream",
     "text": [
      "s:\\Pizza\\.venv\\Lib\\site-packages\\xgboost\\core.py:158: UserWarning: [16:57:51] WARNING: C:\\buildkite-agent\\builds\\buildkite-windows-cpu-autoscaling-group-i-06abd128ca6c1688d-1\\xgboost\\xgboost-ci-windows\\src\\objective\\regression_obj.cu:227: reg:linear is now deprecated in favor of reg:squarederror.\n",
      "  warnings.warn(smsg, UserWarning)\n"
     ]
    },
    {
     "name": "stdout",
     "output_type": "stream",
     "text": [
      "[300]\tvalidation_0-rmse:0.58171\tvalidation_1-rmse:1.09922\n",
      "[399]\tvalidation_0-rmse:0.54229\tvalidation_1-rmse:1.10128\n",
      "Processing calabrese_l...\n",
      "[0]\tvalidation_0-rmse:1.89033\tvalidation_1-rmse:1.01685\n",
      "[100]\tvalidation_0-rmse:1.01434\tvalidation_1-rmse:0.62556\n",
      "[200]\tvalidation_0-rmse:0.73234\tvalidation_1-rmse:0.58441\n"
     ]
    },
    {
     "name": "stderr",
     "output_type": "stream",
     "text": [
      "s:\\Pizza\\.venv\\Lib\\site-packages\\xgboost\\core.py:158: UserWarning: [16:57:51] WARNING: C:\\buildkite-agent\\builds\\buildkite-windows-cpu-autoscaling-group-i-06abd128ca6c1688d-1\\xgboost\\xgboost-ci-windows\\src\\objective\\regression_obj.cu:227: reg:linear is now deprecated in favor of reg:squarederror.\n",
      "  warnings.warn(smsg, UserWarning)\n"
     ]
    },
    {
     "name": "stdout",
     "output_type": "stream",
     "text": [
      "[288]\tvalidation_0-rmse:0.60142\tvalidation_1-rmse:0.58279\n",
      "[0]\tvalidation_0-rmse:1.79590\tvalidation_1-rmse:1.64315\n",
      "[100]\tvalidation_0-rmse:0.98312\tvalidation_1-rmse:1.25608\n",
      "[200]\tvalidation_0-rmse:0.70858\tvalidation_1-rmse:1.08956\n"
     ]
    },
    {
     "name": "stderr",
     "output_type": "stream",
     "text": [
      "s:\\Pizza\\.venv\\Lib\\site-packages\\xgboost\\core.py:158: UserWarning: [16:57:51] WARNING: C:\\buildkite-agent\\builds\\buildkite-windows-cpu-autoscaling-group-i-06abd128ca6c1688d-1\\xgboost\\xgboost-ci-windows\\src\\objective\\regression_obj.cu:227: reg:linear is now deprecated in favor of reg:squarederror.\n",
      "  warnings.warn(smsg, UserWarning)\n"
     ]
    },
    {
     "name": "stdout",
     "output_type": "stream",
     "text": [
      "[300]\tvalidation_0-rmse:0.60009\tvalidation_1-rmse:1.05961\n",
      "[399]\tvalidation_0-rmse:0.50918\tvalidation_1-rmse:1.05269\n",
      "[0]\tvalidation_0-rmse:1.77701\tvalidation_1-rmse:2.22578\n",
      "[100]\tvalidation_0-rmse:1.00680\tvalidation_1-rmse:1.80075\n",
      "[200]\tvalidation_0-rmse:0.77613\tvalidation_1-rmse:1.72525\n"
     ]
    },
    {
     "name": "stderr",
     "output_type": "stream",
     "text": [
      "s:\\Pizza\\.venv\\Lib\\site-packages\\xgboost\\core.py:158: UserWarning: [16:57:52] WARNING: C:\\buildkite-agent\\builds\\buildkite-windows-cpu-autoscaling-group-i-06abd128ca6c1688d-1\\xgboost\\xgboost-ci-windows\\src\\objective\\regression_obj.cu:227: reg:linear is now deprecated in favor of reg:squarederror.\n",
      "  warnings.warn(smsg, UserWarning)\n"
     ]
    },
    {
     "name": "stdout",
     "output_type": "stream",
     "text": [
      "[300]\tvalidation_0-rmse:0.64108\tvalidation_1-rmse:1.70281\n",
      "[349]\tvalidation_0-rmse:0.59781\tvalidation_1-rmse:1.71721\n",
      "Processing the_greek_xxl...\n",
      "Skipping the_greek_xxl due to error: Too many splits=3 for number of samples=28 with test_size=30 and gap=1.\n",
      "Predicted total sales for hawaiian_m: 179.32199096679688\n",
      "Predicted total sales for classic_dlx_m: 336.1294250488281\n",
      "Predicted total sales for five_cheese_l: 369.4953918457031\n",
      "Predicted total sales for ital_supr_l: 232.86953735351562\n",
      "Predicted total sales for mexicana_m: 199.91017150878906\n",
      "Predicted total sales for thai_ckn_l: 378.4893798828125\n",
      "Predicted total sales for ital_supr_m: 273.7019348144531\n",
      "Predicted total sales for prsc_argla_l: 146.35023498535156\n",
      "Predicted total sales for bbq_ckn_s: 124.0091323852539\n",
      "Predicted total sales for the_greek_s: 154.2967529296875\n",
      "Predicted total sales for spinach_supr_s: 161.75433349609375\n",
      "Predicted total sales for classic_dlx_s: 248.898681640625\n",
      "Predicted total sales for green_garden_s: 187.75137329101562\n",
      "Predicted total sales for ital_cpcllo_l: 261.053955078125\n",
      "Predicted total sales for ital_supr_s: 119.38741302490234\n",
      "Predicted total sales for mexicana_s: 135.13546752929688\n",
      "Predicted total sales for spicy_ital_l: 297.1662902832031\n",
      "Predicted total sales for spin_pesto_l: 141.88333129882812\n",
      "Predicted total sales for veggie_veg_s: 207.44607543945312\n",
      "Predicted total sales for mexicana_l: 246.69500732421875\n",
      "Predicted total sales for southw_ckn_l: 260.8679504394531\n",
      "Predicted total sales for bbq_ckn_l: 360.969482421875\n",
      "Predicted total sales for cali_ckn_l: 208.30821228027344\n",
      "Predicted total sales for cali_ckn_m: 322.1825866699219\n",
      "Predicted total sales for pepperoni_l: 251.52239990234375\n",
      "Predicted total sales for cali_ckn_s: 186.5579833984375\n",
      "Predicted total sales for ckn_pesto_l: 159.57354736328125\n",
      "Predicted total sales for big_meat_s: 522.845458984375\n",
      "Predicted total sales for calabrese_m: 198.39183044433594\n",
      "Predicted total sales for four_cheese_m: 206.67153930664062\n",
      "Predicted total sales for ital_veggie_s: 134.72645568847656\n",
      "Predicted total sales for mediterraneo_m: 98.74308776855469\n",
      "Predicted total sales for peppr_salami_s: 151.5900115966797\n",
      "Predicted total sales for spinach_fet_l: 120.26593780517578\n",
      "Predicted total sales for napolitana_l: 198.10914611816406\n",
      "Predicted total sales for sicilian_l: 203.01638793945312\n",
      "Predicted total sales for ital_cpcllo_m: 190.61306762695312\n",
      "Predicted total sales for southw_ckn_s: 132.95700073242188\n",
      "Predicted total sales for bbq_ckn_m: 217.78660583496094\n",
      "Predicted total sales for pepperoni_m: 250.0863800048828\n",
      "Predicted total sales for prsc_argla_s: 177.88153076171875\n",
      "Predicted total sales for sicilian_m: 166.6606903076172\n",
      "Predicted total sales for veggie_veg_l: 172.08009338378906\n",
      "Predicted total sales for ckn_alfredo_s: 94.70309448242188\n",
      "Predicted total sales for pepperoni_s: 231.35305786132812\n",
      "Predicted total sales for green_garden_l: 103.43477630615234\n",
      "Predicted total sales for green_garden_m: 110.48892974853516\n",
      "Predicted total sales for pep_msh_pep_l: 169.5951385498047\n",
      "Predicted total sales for hawaiian_s: 214.8671875\n",
      "Predicted total sales for four_cheese_l: 369.0887145996094\n",
      "Predicted total sales for peppr_salami_m: 185.2463836669922\n",
      "Predicted total sales for ckn_alfredo_m: 223.37884521484375\n",
      "Predicted total sales for peppr_salami_l: 220.3370819091797\n",
      "Predicted total sales for spin_pesto_s: 185.71112060546875\n",
      "Predicted total sales for thai_ckn_m: 182.63027954101562\n",
      "Predicted total sales for classic_dlx_l: 180.0832061767578\n",
      "Predicted total sales for ckn_pesto_m: 154.03265380859375\n",
      "Predicted total sales for the_greek_xl: 200.41708374023438\n",
      "Predicted total sales for hawaiian_l: 287.4549560546875\n",
      "Predicted total sales for pep_msh_pep_s: 176.49679565429688\n",
      "Predicted total sales for spinach_supr_m: 146.30628967285156\n",
      "Predicted total sales for prsc_argla_m: 189.04034423828125\n",
      "Predicted total sales for mediterraneo_l: 160.50755310058594\n",
      "Predicted total sales for southw_ckn_m: 189.7473602294922\n",
      "Predicted total sales for pep_msh_pep_m: 198.24771118164062\n",
      "Predicted total sales for sicilian_s: 191.96832275390625\n",
      "Predicted total sales for spicy_ital_s: 163.1923065185547\n",
      "Predicted total sales for soppressata_l: 145.85948181152344\n",
      "Predicted total sales for thai_ckn_s: 173.66932678222656\n",
      "Predicted total sales for spinach_supr_l: 140.83595275878906\n",
      "Predicted total sales for ital_veggie_l: 105.80027770996094\n",
      "Predicted total sales for veggie_veg_m: 251.74844360351562\n",
      "Predicted total sales for the_greek_m: 133.15213012695312\n",
      "Predicted total sales for ckn_pesto_s: 132.73291015625\n",
      "Predicted total sales for spinach_fet_s: 169.55201721191406\n",
      "Predicted total sales for napolitana_s: 207.37322998046875\n",
      "Predicted total sales for spicy_ital_m: 177.8850860595703\n",
      "Predicted total sales for ital_veggie_m: 207.82276916503906\n",
      "Predicted total sales for ital_cpcllo_s: 158.60733032226562\n",
      "Predicted total sales for mediterraneo_s: 149.91213989257812\n",
      "Predicted total sales for spinach_fet_m: 188.18405151367188\n",
      "Predicted total sales for napolitana_m: 139.07435607910156\n",
      "Predicted total sales for spin_pesto_m: 126.10116577148438\n",
      "Predicted total sales for brie_carre_s: 196.0243682861328\n",
      "Predicted total sales for ckn_alfredo_l: 121.77420043945312\n",
      "Predicted total sales for calabrese_s: 68.59677124023438\n",
      "Predicted total sales for the_greek_l: 131.1548614501953\n",
      "Predicted total sales for soppressata_m: 114.26405334472656\n",
      "Predicted total sales for soppressata_s: 136.7119140625\n",
      "Predicted total sales for calabrese_l: 161.11595153808594\n"
     ]
    }
   ],
   "source": [
    "# Loop through each pizza_name_id\n",
    "pizza_name_list = sales_df.pizza_name_id.unique().tolist()\n",
    "\n",
    "def pizza_df(df, pizza_name):\n",
    "    return df[df['pizza_name_id'] == pizza_name]\n",
    "\n",
    "# Dictionary to store the results\n",
    "results_dict = {}\n",
    "\n",
    "# Loop through each pizza_name_id, process the data, and save the results\n",
    "for pizza_name in pizza_name_list:\n",
    "    print(f\"Processing {pizza_name}...\")\n",
    "    df = pizza_df(sales_df, pizza_name)\n",
    "    if not df.empty:  # Check if df is not empty\n",
    "        df = sales_feature(df)\n",
    "        try:\n",
    "            predicted_sum = model_training(df)\n",
    "            results_dict[pizza_name] = predicted_sum\n",
    "        except ValueError as e:\n",
    "            print(f\"Skipping {pizza_name} due to error: {e}\")\n",
    "    else:\n",
    "        print(f\"No data for {pizza_name}, skipping...\")\n",
    "\n",
    "# Print results\n",
    "for name, predictions in results_dict.items():\n",
    "    print(f\"Predicted total sales for {name}: {predictions}\")\n"
   ]
  },
  {
   "cell_type": "code",
   "execution_count": 10,
   "metadata": {},
   "outputs": [
    {
     "data": {
      "text/plain": [
       "{'hawaiian_m': np.float32(179.32199),\n",
       " 'classic_dlx_m': np.float32(336.12943),\n",
       " 'five_cheese_l': np.float32(369.4954),\n",
       " 'ital_supr_l': np.float32(232.86954),\n",
       " 'mexicana_m': np.float32(199.91017),\n",
       " 'thai_ckn_l': np.float32(378.48938),\n",
       " 'ital_supr_m': np.float32(273.70193),\n",
       " 'prsc_argla_l': np.float32(146.35023),\n",
       " 'bbq_ckn_s': np.float32(124.00913),\n",
       " 'the_greek_s': np.float32(154.29675),\n",
       " 'spinach_supr_s': np.float32(161.75433),\n",
       " 'classic_dlx_s': np.float32(248.89868),\n",
       " 'green_garden_s': np.float32(187.75137),\n",
       " 'ital_cpcllo_l': np.float32(261.05396),\n",
       " 'ital_supr_s': np.float32(119.38741),\n",
       " 'mexicana_s': np.float32(135.13547),\n",
       " 'spicy_ital_l': np.float32(297.1663),\n",
       " 'spin_pesto_l': np.float32(141.88333),\n",
       " 'veggie_veg_s': np.float32(207.44608),\n",
       " 'mexicana_l': np.float32(246.695),\n",
       " 'southw_ckn_l': np.float32(260.86795),\n",
       " 'bbq_ckn_l': np.float32(360.96948),\n",
       " 'cali_ckn_l': np.float32(208.30821),\n",
       " 'cali_ckn_m': np.float32(322.1826),\n",
       " 'pepperoni_l': np.float32(251.5224),\n",
       " 'cali_ckn_s': np.float32(186.55798),\n",
       " 'ckn_pesto_l': np.float32(159.57355),\n",
       " 'big_meat_s': np.float32(522.84546),\n",
       " 'calabrese_m': np.float32(198.39183),\n",
       " 'four_cheese_m': np.float32(206.67154),\n",
       " 'ital_veggie_s': np.float32(134.72646),\n",
       " 'mediterraneo_m': np.float32(98.74309),\n",
       " 'peppr_salami_s': np.float32(151.59001),\n",
       " 'spinach_fet_l': np.float32(120.26594),\n",
       " 'napolitana_l': np.float32(198.10915),\n",
       " 'sicilian_l': np.float32(203.01639),\n",
       " 'ital_cpcllo_m': np.float32(190.61307),\n",
       " 'southw_ckn_s': np.float32(132.957),\n",
       " 'bbq_ckn_m': np.float32(217.7866),\n",
       " 'pepperoni_m': np.float32(250.08638),\n",
       " 'prsc_argla_s': np.float32(177.88153),\n",
       " 'sicilian_m': np.float32(166.66069),\n",
       " 'veggie_veg_l': np.float32(172.0801),\n",
       " 'ckn_alfredo_s': np.float32(94.703094),\n",
       " 'pepperoni_s': np.float32(231.35306),\n",
       " 'green_garden_l': np.float32(103.43478),\n",
       " 'green_garden_m': np.float32(110.48893),\n",
       " 'pep_msh_pep_l': np.float32(169.59514),\n",
       " 'hawaiian_s': np.float32(214.86719),\n",
       " 'four_cheese_l': np.float32(369.0887),\n",
       " 'peppr_salami_m': np.float32(185.24638),\n",
       " 'ckn_alfredo_m': np.float32(223.37885),\n",
       " 'peppr_salami_l': np.float32(220.33708),\n",
       " 'spin_pesto_s': np.float32(185.71112),\n",
       " 'thai_ckn_m': np.float32(182.63028),\n",
       " 'classic_dlx_l': np.float32(180.0832),\n",
       " 'ckn_pesto_m': np.float32(154.03265),\n",
       " 'the_greek_xl': np.float32(200.41708),\n",
       " 'hawaiian_l': np.float32(287.45496),\n",
       " 'pep_msh_pep_s': np.float32(176.4968),\n",
       " 'spinach_supr_m': np.float32(146.30629),\n",
       " 'prsc_argla_m': np.float32(189.04034),\n",
       " 'mediterraneo_l': np.float32(160.50755),\n",
       " 'southw_ckn_m': np.float32(189.74736),\n",
       " 'pep_msh_pep_m': np.float32(198.24771),\n",
       " 'sicilian_s': np.float32(191.96832),\n",
       " 'spicy_ital_s': np.float32(163.1923),\n",
       " 'soppressata_l': np.float32(145.85948),\n",
       " 'thai_ckn_s': np.float32(173.66933),\n",
       " 'spinach_supr_l': np.float32(140.83595),\n",
       " 'ital_veggie_l': np.float32(105.80028),\n",
       " 'veggie_veg_m': np.float32(251.74844),\n",
       " 'the_greek_m': np.float32(133.15213),\n",
       " 'ckn_pesto_s': np.float32(132.73291),\n",
       " 'spinach_fet_s': np.float32(169.55202),\n",
       " 'napolitana_s': np.float32(207.37323),\n",
       " 'spicy_ital_m': np.float32(177.88509),\n",
       " 'ital_veggie_m': np.float32(207.82277),\n",
       " 'ital_cpcllo_s': np.float32(158.60733),\n",
       " 'mediterraneo_s': np.float32(149.91214),\n",
       " 'spinach_fet_m': np.float32(188.18405),\n",
       " 'napolitana_m': np.float32(139.07436),\n",
       " 'spin_pesto_m': np.float32(126.101166),\n",
       " 'brie_carre_s': np.float32(196.02437),\n",
       " 'ckn_alfredo_l': np.float32(121.7742),\n",
       " 'calabrese_s': np.float32(68.59677),\n",
       " 'the_greek_l': np.float32(131.15486),\n",
       " 'soppressata_m': np.float32(114.26405),\n",
       " 'soppressata_s': np.float32(136.71191),\n",
       " 'calabrese_l': np.float32(161.11595)}"
      ]
     },
     "execution_count": 10,
     "metadata": {},
     "output_type": "execute_result"
    }
   ],
   "source": [
    "results_dict"
   ]
  },
  {
   "cell_type": "code",
   "execution_count": 12,
   "metadata": {},
   "outputs": [],
   "source": [
    "result_df = pd.DataFrame.from_dict(results_dict, orient='index', columns=['predicted_sales'])\n",
    "\n",
    "result_df.to_csv('result.csv', index=True)"
   ]
  },
  {
   "cell_type": "code",
   "execution_count": 52,
   "metadata": {},
   "outputs": [
    {
     "name": "stdout",
     "output_type": "stream",
     "text": [
      "Processing 0...\n"
     ]
    },
    {
     "ename": "AttributeError",
     "evalue": "'int' object has no attribute 'set_index'",
     "output_type": "error",
     "traceback": [
      "\u001b[1;31m---------------------------------------------------------------------------\u001b[0m",
      "\u001b[1;31mAttributeError\u001b[0m                            Traceback (most recent call last)",
      "Cell \u001b[1;32mIn[52], line 7\u001b[0m\n\u001b[0;32m      5\u001b[0m \u001b[38;5;28;01mfor\u001b[39;00m name, df \u001b[38;5;129;01min\u001b[39;00m pizza_name_df\u001b[38;5;241m.\u001b[39mitems():\n\u001b[0;32m      6\u001b[0m     \u001b[38;5;28mprint\u001b[39m(\u001b[38;5;124mf\u001b[39m\u001b[38;5;124m\"\u001b[39m\u001b[38;5;124mProcessing \u001b[39m\u001b[38;5;132;01m{\u001b[39;00mname\u001b[38;5;132;01m}\u001b[39;00m\u001b[38;5;124m...\u001b[39m\u001b[38;5;124m\"\u001b[39m)\n\u001b[1;32m----> 7\u001b[0m     df \u001b[38;5;241m=\u001b[39m \u001b[43msales_feature\u001b[49m\u001b[43m(\u001b[49m\u001b[43mdf\u001b[49m\u001b[43m)\u001b[49m\n\u001b[0;32m      8\u001b[0m     predicted_sum \u001b[38;5;241m=\u001b[39m model_training(df)\n\u001b[0;32m      9\u001b[0m     results_dict[name] \u001b[38;5;241m=\u001b[39m predicted_sum\n",
      "Cell \u001b[1;32mIn[16], line 2\u001b[0m, in \u001b[0;36msales_feature\u001b[1;34m(df)\u001b[0m\n\u001b[0;32m      1\u001b[0m \u001b[38;5;28;01mdef\u001b[39;00m \u001b[38;5;21msales_feature\u001b[39m(df):\n\u001b[1;32m----> 2\u001b[0m     \u001b[43mdf\u001b[49m\u001b[38;5;241;43m.\u001b[39;49m\u001b[43mset_index\u001b[49m(\u001b[38;5;124m'\u001b[39m\u001b[38;5;124morder_date\u001b[39m\u001b[38;5;124m'\u001b[39m,inplace\u001b[38;5;241m=\u001b[39m\u001b[38;5;28;01mTrue\u001b[39;00m)\n\u001b[0;32m      3\u001b[0m     df[\u001b[38;5;124m'\u001b[39m\u001b[38;5;124mdaily_sales\u001b[39m\u001b[38;5;124m'\u001b[39m] \u001b[38;5;241m=\u001b[39m df[\u001b[38;5;124m'\u001b[39m\u001b[38;5;124mquantity\u001b[39m\u001b[38;5;124m'\u001b[39m]\u001b[38;5;241m.\u001b[39mresample(\u001b[38;5;124m'\u001b[39m\u001b[38;5;124mD\u001b[39m\u001b[38;5;124m'\u001b[39m)\u001b[38;5;241m.\u001b[39msum()\n\u001b[0;32m      4\u001b[0m     df\u001b[38;5;241m.\u001b[39mdrop(columns \u001b[38;5;241m=\u001b[39m [\u001b[38;5;124m'\u001b[39m\u001b[38;5;124mpizza_name_id\u001b[39m\u001b[38;5;124m'\u001b[39m,\u001b[38;5;124m'\u001b[39m\u001b[38;5;124mquantity\u001b[39m\u001b[38;5;124m'\u001b[39m],inplace\u001b[38;5;241m=\u001b[39m\u001b[38;5;28;01mTrue\u001b[39;00m)\n",
      "\u001b[1;31mAttributeError\u001b[0m: 'int' object has no attribute 'set_index'"
     ]
    }
   ],
   "source": [
    "# Dictionary to store the results\n",
    "results_dict = {}\n",
    "\n",
    "# Loop through each dataset\n",
    "for name, df in pizza_name_df.items():\n",
    "    print(f\"Processing {name}...\")\n",
    "    df = sales_feature(df)\n",
    "    predicted_sum = model_training(df)\n",
    "    results_dict[name] = predicted_sum\n",
    "\n",
    "# Print results\n",
    "for name, predictions in results_dict.items():\n",
    "    print(f\"Predicted total sales for {name}: {predictions}\")\n"
   ]
  },
  {
   "cell_type": "code",
   "execution_count": 20,
   "metadata": {},
   "outputs": [
    {
     "name": "stdout",
     "output_type": "stream",
     "text": [
      "[0]\tvalidation_0-rmse:1.07814\tvalidation_1-rmse:1.25076\n",
      "[100]\tvalidation_0-rmse:0.53572\tvalidation_1-rmse:0.83895\n",
      "[200]\tvalidation_0-rmse:0.31722\tvalidation_1-rmse:0.73183\n",
      "[300]\tvalidation_0-rmse:0.19590\tvalidation_1-rmse:0.70171\n"
     ]
    },
    {
     "name": "stderr",
     "output_type": "stream",
     "text": [
      "s:\\Pizza\\.venv\\Lib\\site-packages\\xgboost\\core.py:158: UserWarning: [08:07:10] WARNING: C:\\buildkite-agent\\builds\\buildkite-windows-cpu-autoscaling-group-i-06abd128ca6c1688d-1\\xgboost\\xgboost-ci-windows\\src\\objective\\regression_obj.cu:227: reg:linear is now deprecated in favor of reg:squarederror.\n",
      "  warnings.warn(smsg, UserWarning)\n"
     ]
    },
    {
     "name": "stdout",
     "output_type": "stream",
     "text": [
      "[399]\tvalidation_0-rmse:0.13750\tvalidation_1-rmse:0.68607\n"
     ]
    },
    {
     "name": "stderr",
     "output_type": "stream",
     "text": [
      "C:\\Users\\Hp\\AppData\\Local\\Temp\\ipykernel_11456\\2243787197.py:46: SettingWithCopyWarning: \n",
      "A value is trying to be set on a copy of a slice from a DataFrame.\n",
      "Try using .loc[row_indexer,col_indexer] = value instead\n",
      "\n",
      "See the caveats in the documentation: https://pandas.pydata.org/pandas-docs/stable/user_guide/indexing.html#returning-a-view-versus-a-copy\n",
      "  df['isFuture'] = False\n"
     ]
    }
   ],
   "source": [
    "ital_supr_s_df = model_training(ital_supr_s_df)"
   ]
  },
  {
   "cell_type": "code",
   "execution_count": 21,
   "metadata": {},
   "outputs": [
    {
     "data": {
      "text/plain": [
       "2016-01-01    1.070467\n",
       "2016-01-02    1.179472\n",
       "2016-01-03    0.993310\n",
       "2016-01-04    0.958971\n",
       "2016-01-05    1.077144\n",
       "                ...   \n",
       "2016-03-26    1.757798\n",
       "2016-03-27    1.381493\n",
       "2016-03-28    1.415218\n",
       "2016-03-29    1.738758\n",
       "2016-03-30    1.532551\n",
       "Name: pred, Length: 90, dtype: float32"
      ]
     },
     "execution_count": 21,
     "metadata": {},
     "output_type": "execute_result"
    }
   ],
   "source": [
    "ital_supr_s_df"
   ]
  },
  {
   "cell_type": "code",
   "execution_count": 22,
   "metadata": {},
   "outputs": [
    {
     "data": {
      "text/plain": [
       "[['hawaiian_m_df'],\n",
       " ['classic_dlx_m_df'],\n",
       " ['five_cheese_l_df'],\n",
       " ['ital_supr_l_df'],\n",
       " ['mexicana_m_df'],\n",
       " ['thai_ckn_l_df'],\n",
       " ['ital_supr_m_df'],\n",
       " ['prsc_argla_l_df'],\n",
       " ['bbq_ckn_s_df'],\n",
       " ['the_greek_s_df'],\n",
       " ['spinach_supr_s_df'],\n",
       " ['classic_dlx_s_df'],\n",
       " ['green_garden_s_df'],\n",
       " ['ital_cpcllo_l_df'],\n",
       " ['ital_supr_s_df'],\n",
       " ['mexicana_s_df'],\n",
       " ['spicy_ital_l_df'],\n",
       " ['spin_pesto_l_df'],\n",
       " ['veggie_veg_s_df'],\n",
       " ['mexicana_l_df'],\n",
       " ['southw_ckn_l_df'],\n",
       " ['bbq_ckn_l_df'],\n",
       " ['cali_ckn_l_df'],\n",
       " ['cali_ckn_m_df'],\n",
       " ['pepperoni_l_df'],\n",
       " ['cali_ckn_s_df'],\n",
       " ['ckn_pesto_l_df'],\n",
       " ['big_meat_s_df'],\n",
       " ['nan_df'],\n",
       " ['calabrese_m_df'],\n",
       " ['four_cheese_m_df'],\n",
       " ['ital_veggie_s_df'],\n",
       " ['mediterraneo_m_df'],\n",
       " ['peppr_salami_s_df'],\n",
       " ['spinach_fet_l_df'],\n",
       " ['napolitana_l_df'],\n",
       " ['sicilian_l_df'],\n",
       " ['ital_cpcllo_m_df'],\n",
       " ['southw_ckn_s_df'],\n",
       " ['bbq_ckn_m_df'],\n",
       " ['pepperoni_m_df'],\n",
       " ['prsc_argla_s_df'],\n",
       " ['sicilian_m_df'],\n",
       " ['veggie_veg_l_df'],\n",
       " ['ckn_alfredo_s_df'],\n",
       " ['pepperoni_s_df'],\n",
       " ['green_garden_l_df'],\n",
       " ['green_garden_m_df'],\n",
       " ['pep_msh_pep_l_df'],\n",
       " ['hawaiian_s_df'],\n",
       " ['four_cheese_l_df'],\n",
       " ['peppr_salami_m_df'],\n",
       " ['ckn_alfredo_m_df'],\n",
       " ['peppr_salami_l_df'],\n",
       " ['spin_pesto_s_df'],\n",
       " ['thai_ckn_m_df'],\n",
       " ['classic_dlx_l_df'],\n",
       " ['ckn_pesto_m_df'],\n",
       " ['the_greek_xl_df'],\n",
       " ['hawaiian_l_df'],\n",
       " ['pep_msh_pep_s_df'],\n",
       " ['spinach_supr_m_df'],\n",
       " ['prsc_argla_m_df'],\n",
       " ['mediterraneo_l_df'],\n",
       " ['southw_ckn_m_df'],\n",
       " ['pep_msh_pep_m_df'],\n",
       " ['sicilian_s_df'],\n",
       " ['spicy_ital_s_df'],\n",
       " ['soppressata_l_df'],\n",
       " ['thai_ckn_s_df'],\n",
       " ['spinach_supr_l_df'],\n",
       " ['ital_veggie_l_df'],\n",
       " ['veggie_veg_m_df'],\n",
       " ['the_greek_m_df'],\n",
       " ['ckn_pesto_s_df'],\n",
       " ['spinach_fet_s_df'],\n",
       " ['napolitana_s_df'],\n",
       " ['spicy_ital_m_df'],\n",
       " ['ital_veggie_m_df'],\n",
       " ['ital_cpcllo_s_df'],\n",
       " ['mediterraneo_s_df'],\n",
       " ['spinach_fet_m_df'],\n",
       " ['napolitana_m_df'],\n",
       " ['spin_pesto_m_df'],\n",
       " ['brie_carre_s_df'],\n",
       " ['ckn_alfredo_l_df'],\n",
       " ['calabrese_s_df'],\n",
       " ['the_greek_l_df'],\n",
       " ['soppressata_m_df'],\n",
       " ['soppressata_s_df'],\n",
       " ['calabrese_l_df'],\n",
       " ['the_greek_xxl_df']]"
      ]
     },
     "execution_count": 22,
     "metadata": {},
     "output_type": "execute_result"
    }
   ],
   "source": [
    "pizza_name_df"
   ]
  },
  {
   "cell_type": "code",
   "execution_count": 31,
   "metadata": {},
   "outputs": [],
   "source": []
  },
  {
   "cell_type": "code",
   "execution_count": 37,
   "metadata": {},
   "outputs": [
    {
     "ename": "AttributeError",
     "evalue": "'list' object has no attribute 'set_index'",
     "output_type": "error",
     "traceback": [
      "\u001b[1;31m---------------------------------------------------------------------------\u001b[0m",
      "\u001b[1;31mAttributeError\u001b[0m                            Traceback (most recent call last)",
      "Cell \u001b[1;32mIn[37], line 5\u001b[0m\n\u001b[0;32m      3\u001b[0m     \u001b[38;5;28;01mreturn\u001b[39;00m df\n\u001b[0;32m      4\u001b[0m \u001b[38;5;28;01mfor\u001b[39;00m name, df \u001b[38;5;129;01min\u001b[39;00m pizza_name_df\u001b[38;5;241m.\u001b[39mitems():\n\u001b[1;32m----> 5\u001b[0m     df \u001b[38;5;241m=\u001b[39m \u001b[43mset_index\u001b[49m\u001b[43m(\u001b[49m\u001b[43mdf\u001b[49m\u001b[43m)\u001b[49m\n",
      "Cell \u001b[1;32mIn[37], line 2\u001b[0m, in \u001b[0;36mset_index\u001b[1;34m(df)\u001b[0m\n\u001b[0;32m      1\u001b[0m \u001b[38;5;28;01mdef\u001b[39;00m \u001b[38;5;21mset_index\u001b[39m(df):\n\u001b[1;32m----> 2\u001b[0m     \u001b[43mdf\u001b[49m\u001b[38;5;241;43m.\u001b[39;49m\u001b[43mset_index\u001b[49m(\u001b[38;5;124m'\u001b[39m\u001b[38;5;124morder_date\u001b[39m\u001b[38;5;124m'\u001b[39m,inplace\u001b[38;5;241m=\u001b[39m\u001b[38;5;28;01mTrue\u001b[39;00m)\n\u001b[0;32m      3\u001b[0m     \u001b[38;5;28;01mreturn\u001b[39;00m df\n",
      "\u001b[1;31mAttributeError\u001b[0m: 'list' object has no attribute 'set_index'"
     ]
    }
   ],
   "source": []
  },
  {
   "cell_type": "code",
   "execution_count": 35,
   "metadata": {},
   "outputs": [
    {
     "name": "stdout",
     "output_type": "stream",
     "text": [
      "processing0...\n"
     ]
    },
    {
     "ename": "AttributeError",
     "evalue": "'list' object has no attribute 'set_index'",
     "output_type": "error",
     "traceback": [
      "\u001b[1;31m---------------------------------------------------------------------------\u001b[0m",
      "\u001b[1;31mAttributeError\u001b[0m                            Traceback (most recent call last)",
      "Cell \u001b[1;32mIn[35], line 5\u001b[0m\n\u001b[0;32m      3\u001b[0m \u001b[38;5;28;01mfor\u001b[39;00m name, df \u001b[38;5;129;01min\u001b[39;00m pizza_name_df\u001b[38;5;241m.\u001b[39mitems():\n\u001b[0;32m      4\u001b[0m     \u001b[38;5;28mprint\u001b[39m(\u001b[38;5;124mf\u001b[39m\u001b[38;5;124m'\u001b[39m\u001b[38;5;124mprocessing\u001b[39m\u001b[38;5;132;01m{\u001b[39;00mname\u001b[38;5;132;01m}\u001b[39;00m\u001b[38;5;124m...\u001b[39m\u001b[38;5;124m'\u001b[39m)\n\u001b[1;32m----> 5\u001b[0m     df \u001b[38;5;241m=\u001b[39m \u001b[43msales_feature\u001b[49m\u001b[43m(\u001b[49m\u001b[43mdf\u001b[49m\u001b[43m)\u001b[49m\n\u001b[0;32m      6\u001b[0m     model_training(df, name)\n",
      "Cell \u001b[1;32mIn[16], line 2\u001b[0m, in \u001b[0;36msales_feature\u001b[1;34m(df)\u001b[0m\n\u001b[0;32m      1\u001b[0m \u001b[38;5;28;01mdef\u001b[39;00m \u001b[38;5;21msales_feature\u001b[39m(df):\n\u001b[1;32m----> 2\u001b[0m     \u001b[43mdf\u001b[49m\u001b[38;5;241;43m.\u001b[39;49m\u001b[43mset_index\u001b[49m(\u001b[38;5;124m'\u001b[39m\u001b[38;5;124morder_date\u001b[39m\u001b[38;5;124m'\u001b[39m,inplace\u001b[38;5;241m=\u001b[39m\u001b[38;5;28;01mTrue\u001b[39;00m)\n\u001b[0;32m      3\u001b[0m     df[\u001b[38;5;124m'\u001b[39m\u001b[38;5;124mdaily_sales\u001b[39m\u001b[38;5;124m'\u001b[39m] \u001b[38;5;241m=\u001b[39m df[\u001b[38;5;124m'\u001b[39m\u001b[38;5;124mquantity\u001b[39m\u001b[38;5;124m'\u001b[39m]\u001b[38;5;241m.\u001b[39mresample(\u001b[38;5;124m'\u001b[39m\u001b[38;5;124mD\u001b[39m\u001b[38;5;124m'\u001b[39m)\u001b[38;5;241m.\u001b[39msum()\n\u001b[0;32m      4\u001b[0m     df\u001b[38;5;241m.\u001b[39mdrop(columns \u001b[38;5;241m=\u001b[39m [\u001b[38;5;124m'\u001b[39m\u001b[38;5;124mpizza_name_id\u001b[39m\u001b[38;5;124m'\u001b[39m,\u001b[38;5;124m'\u001b[39m\u001b[38;5;124mquantity\u001b[39m\u001b[38;5;124m'\u001b[39m],inplace\u001b[38;5;241m=\u001b[39m\u001b[38;5;28;01mTrue\u001b[39;00m)\n",
      "\u001b[1;31mAttributeError\u001b[0m: 'list' object has no attribute 'set_index'"
     ]
    }
   ],
   "source": [
    "results_dict = {}\n",
    "\n",
    "for name, df in pizza_name_df.items():\n",
    "    print(f'processing{name}...')\n",
    "    df = sales_feature(df)\n",
    "    model_training(df, name)"
   ]
  },
  {
   "cell_type": "code",
   "execution_count": null,
   "metadata": {},
   "outputs": [],
   "source": []
  },
  {
   "cell_type": "code",
   "execution_count": null,
   "metadata": {},
   "outputs": [],
   "source": []
  },
  {
   "cell_type": "code",
   "execution_count": null,
   "metadata": {},
   "outputs": [],
   "source": []
  },
  {
   "cell_type": "code",
   "execution_count": 26,
   "metadata": {},
   "outputs": [
    {
     "name": "stdout",
     "output_type": "stream",
     "text": [
      "      order_date pizza_name_id  quantity\n",
      "0     2015-01-01    hawaiian_m         1\n",
      "178   2015-02-01    hawaiian_m         1\n",
      "356   2015-03-01    hawaiian_m         1\n",
      "388   2015-03-01    hawaiian_m         1\n",
      "567   2015-04-01    hawaiian_m         1\n",
      "...          ...           ...       ...\n",
      "48056 2015-12-26    hawaiian_m         1\n",
      "48112 2015-12-27    hawaiian_m         1\n",
      "48211 2015-12-28    hawaiian_m         1\n",
      "48238 2015-12-28    hawaiian_m         1\n",
      "48285 2015-12-28    hawaiian_m         1\n",
      "\n",
      "[473 rows x 3 columns]\n",
      "      order_date  pizza_name_id  quantity\n",
      "1     2015-01-01  classic_dlx_m         1\n",
      "71    2015-01-01  classic_dlx_m         1\n",
      "90    2015-01-01  classic_dlx_m         1\n",
      "133   2015-01-01  classic_dlx_m         1\n",
      "136   2015-01-01  classic_dlx_m         1\n",
      "...          ...            ...       ...\n",
      "48412 2015-12-30  classic_dlx_m         1\n",
      "48439 2015-12-30  classic_dlx_m         1\n",
      "48466 2015-12-31  classic_dlx_m         3\n",
      "48508 2015-12-31  classic_dlx_m         1\n",
      "48599 2015-12-31  classic_dlx_m         1\n",
      "\n",
      "[1159 rows x 3 columns]\n",
      "      order_date  pizza_name_id  quantity\n",
      "2     2015-01-01  five_cheese_l         1\n",
      "44    2015-01-01  five_cheese_l         1\n",
      "56    2015-01-01  five_cheese_l         1\n",
      "58    2015-01-01  five_cheese_l         1\n",
      "101   2015-01-01  five_cheese_l         1\n",
      "...          ...            ...       ...\n",
      "48462 2015-12-31  five_cheese_l         1\n",
      "48467 2015-12-31  five_cheese_l         1\n",
      "48496 2015-12-31  five_cheese_l         1\n",
      "48590 2015-12-31  five_cheese_l         1\n",
      "48596 2015-12-31  five_cheese_l         1\n",
      "\n",
      "[1358 rows x 3 columns]\n",
      "      order_date pizza_name_id  quantity\n",
      "3     2015-01-01   ital_supr_l         1\n",
      "17    2015-01-01   ital_supr_l         1\n",
      "91    2015-01-01   ital_supr_l         1\n",
      "95    2015-01-01   ital_supr_l         1\n",
      "145   2015-01-01   ital_supr_l         1\n",
      "...          ...           ...       ...\n",
      "48252 2015-12-28   ital_supr_l         1\n",
      "48331 2015-12-29   ital_supr_l         1\n",
      "48427 2015-12-30   ital_supr_l         1\n",
      "48574 2015-12-31   ital_supr_l         1\n",
      "48582 2015-12-31   ital_supr_l         1\n",
      "\n",
      "[734 rows x 3 columns]\n",
      "      order_date pizza_name_id  quantity\n",
      "4     2015-01-01    mexicana_m         1\n",
      "76    2015-01-01    mexicana_m         1\n",
      "203   2015-02-01    mexicana_m         1\n",
      "305   2015-02-01    mexicana_m         1\n",
      "336   2015-03-01    mexicana_m         1\n",
      "...          ...           ...       ...\n",
      "48146 2015-12-27    mexicana_m         1\n",
      "48271 2015-12-28    mexicana_m         1\n",
      "48489 2015-12-31    mexicana_m         1\n",
      "48533 2015-12-31    mexicana_m         1\n",
      "48593 2015-12-31    mexicana_m         1\n",
      "\n",
      "[452 rows x 3 columns]\n",
      "      order_date pizza_name_id  quantity\n",
      "5     2015-01-01    thai_ckn_l         1\n",
      "67    2015-01-01    thai_ckn_l         1\n",
      "75    2015-01-01    thai_ckn_l         1\n",
      "88    2015-01-01    thai_ckn_l         1\n",
      "130   2015-01-01    thai_ckn_l         1\n",
      "...          ...           ...       ...\n",
      "48357 2015-12-29    thai_ckn_l         1\n",
      "48361 2015-12-29    thai_ckn_l         1\n",
      "48381 2015-12-30    thai_ckn_l         1\n",
      "48431 2015-12-30    thai_ckn_l         1\n",
      "48563 2015-12-31    thai_ckn_l         1\n",
      "\n",
      "[1363 rows x 3 columns]\n",
      "      order_date pizza_name_id  quantity\n",
      "6     2015-01-01   ital_supr_m         1\n",
      "8     2015-01-01   ital_supr_m         1\n",
      "9     2015-01-01   ital_supr_m         1\n",
      "32    2015-01-01   ital_supr_m         1\n",
      "46    2015-01-01   ital_supr_m         1\n",
      "...          ...           ...       ...\n",
      "48386 2015-12-30   ital_supr_m         2\n",
      "48458 2015-12-31   ital_supr_m         1\n",
      "48524 2015-12-31   ital_supr_m         1\n",
      "48544 2015-12-31   ital_supr_m         1\n",
      "48612 2015-12-31   ital_supr_m         1\n",
      "\n",
      "[920 rows x 3 columns]\n",
      "      order_date pizza_name_id  quantity\n",
      "7     2015-01-01  prsc_argla_l         1\n",
      "118   2015-01-01  prsc_argla_l         1\n",
      "260   2015-02-01  prsc_argla_l         1\n",
      "281   2015-02-01  prsc_argla_l         1\n",
      "425   2015-03-01  prsc_argla_l         1\n",
      "...          ...           ...       ...\n",
      "47664 2015-12-22  prsc_argla_l         1\n",
      "47783 2015-12-23  prsc_argla_l         1\n",
      "47960 2015-12-24  prsc_argla_l         1\n",
      "48095 2015-12-26  prsc_argla_l         1\n",
      "48109 2015-12-26  prsc_argla_l         1\n",
      "\n",
      "[423 rows x 3 columns]\n",
      "      order_date pizza_name_id  quantity\n",
      "10    2015-01-01     bbq_ckn_s         1\n",
      "238   2015-02-01     bbq_ckn_s         1\n",
      "293   2015-02-01     bbq_ckn_s         1\n",
      "457   2015-03-01     bbq_ckn_s         1\n",
      "488   2015-04-01     bbq_ckn_s         1\n",
      "...          ...           ...       ...\n",
      "48031 2015-12-26     bbq_ckn_s         1\n",
      "48054 2015-12-26     bbq_ckn_s         1\n",
      "48293 2015-12-28     bbq_ckn_s         1\n",
      "48419 2015-12-30     bbq_ckn_s         1\n",
      "48619 2015-12-31     bbq_ckn_s         1\n",
      "\n",
      "[479 rows x 3 columns]\n",
      "      order_date pizza_name_id  quantity\n",
      "11    2015-01-01   the_greek_s         1\n",
      "34    2015-01-01   the_greek_s         1\n",
      "84    2015-01-01   the_greek_s         1\n",
      "296   2015-02-01   the_greek_s         1\n",
      "314   2015-02-01   the_greek_s         1\n",
      "...          ...           ...       ...\n",
      "47906 2015-12-24   the_greek_s         1\n",
      "47969 2015-12-24   the_greek_s         1\n",
      "48165 2015-12-27   the_greek_s         1\n",
      "48181 2015-12-27   the_greek_s         1\n",
      "48363 2015-12-29   the_greek_s         1\n",
      "\n",
      "[299 rows x 3 columns]\n",
      "      order_date   pizza_name_id  quantity\n",
      "12    2015-01-01  spinach_supr_s         1\n",
      "13    2015-01-01  spinach_supr_s         1\n",
      "205   2015-02-01  spinach_supr_s         1\n",
      "221   2015-02-01  spinach_supr_s         1\n",
      "240   2015-02-01  spinach_supr_s         1\n",
      "...          ...             ...       ...\n",
      "47170 2015-12-18  spinach_supr_s         1\n",
      "47188 2015-12-18  spinach_supr_s         1\n",
      "47347 2015-12-19  spinach_supr_s         1\n",
      "47726 2015-12-22  spinach_supr_s         1\n",
      "48190 2015-12-27  spinach_supr_s         1\n",
      "\n",
      "[393 rows x 3 columns]\n",
      "      order_date  pizza_name_id  quantity\n",
      "14    2015-01-01  classic_dlx_s         1\n",
      "68    2015-01-01  classic_dlx_s         1\n",
      "180   2015-02-01  classic_dlx_s         1\n",
      "198   2015-02-01  classic_dlx_s         1\n",
      "284   2015-02-01  classic_dlx_s         1\n",
      "...          ...            ...       ...\n",
      "48288 2015-12-28  classic_dlx_s         1\n",
      "48328 2015-12-29  classic_dlx_s         1\n",
      "48449 2015-12-31  classic_dlx_s         1\n",
      "48480 2015-12-31  classic_dlx_s         1\n",
      "48605 2015-12-31  classic_dlx_s         1\n",
      "\n",
      "[786 rows x 3 columns]\n",
      "      order_date   pizza_name_id  quantity\n",
      "15    2015-01-01  green_garden_s         1\n",
      "74    2015-01-01  green_garden_s         1\n",
      "83    2015-01-01  green_garden_s         1\n",
      "99    2015-01-01  green_garden_s         1\n",
      "117   2015-01-01  green_garden_s         1\n",
      "...          ...             ...       ...\n",
      "48266 2015-12-28  green_garden_s         1\n",
      "48365 2015-12-29  green_garden_s         1\n",
      "48378 2015-12-30  green_garden_s         1\n",
      "48428 2015-12-30  green_garden_s         1\n",
      "48479 2015-12-31  green_garden_s         1\n",
      "\n",
      "[592 rows x 3 columns]\n",
      "      order_date  pizza_name_id  quantity\n",
      "16    2015-01-01  ital_cpcllo_l         1\n",
      "53    2015-01-01  ital_cpcllo_l         1\n",
      "57    2015-01-01  ital_cpcllo_l         1\n",
      "80    2015-01-01  ital_cpcllo_l         1\n",
      "94    2015-01-01  ital_cpcllo_l         1\n",
      "...          ...            ...       ...\n",
      "48093 2015-12-26  ital_cpcllo_l         1\n",
      "48167 2015-12-27  ital_cpcllo_l         1\n",
      "48276 2015-12-28  ital_cpcllo_l         1\n",
      "48350 2015-12-29  ital_cpcllo_l         1\n",
      "48565 2015-12-31  ital_cpcllo_l         1\n",
      "\n",
      "[715 rows x 3 columns]\n",
      "2016-01-01    1.070467\n",
      "2016-01-02    1.179472\n",
      "2016-01-03    0.993310\n",
      "2016-01-04    0.958971\n",
      "2016-01-05    1.077144\n",
      "                ...   \n",
      "2016-03-26    1.757798\n",
      "2016-03-27    1.381493\n",
      "2016-03-28    1.415218\n",
      "2016-03-29    1.738758\n",
      "2016-03-30    1.532551\n",
      "Name: pred, Length: 90, dtype: float32\n",
      "      order_date pizza_name_id  quantity\n",
      "19    2015-01-01    mexicana_s         1\n",
      "499   2015-04-01    mexicana_s         1\n",
      "1372  2015-10-01    mexicana_s         1\n",
      "1522  2015-11-01    mexicana_s         1\n",
      "1610  2015-12-01    mexicana_s         1\n",
      "...          ...           ...       ...\n",
      "46885 2015-12-16    mexicana_s         1\n",
      "47336 2015-12-19    mexicana_s         1\n",
      "47634 2015-12-21    mexicana_s         1\n",
      "47854 2015-12-23    mexicana_s         1\n",
      "48174 2015-12-27    mexicana_s         1\n",
      "\n",
      "[160 rows x 3 columns]\n",
      "      order_date pizza_name_id  quantity\n",
      "20    2015-01-01  spicy_ital_l         1\n",
      "119   2015-01-01  spicy_ital_l         1\n",
      "126   2015-01-01  spicy_ital_l         1\n",
      "132   2015-01-01  spicy_ital_l         1\n",
      "176   2015-02-01  spicy_ital_l         1\n",
      "...          ...           ...       ...\n",
      "48506 2015-12-31  spicy_ital_l         1\n",
      "48537 2015-12-31  spicy_ital_l         1\n",
      "48567 2015-12-31  spicy_ital_l         1\n",
      "48579 2015-12-31  spicy_ital_l         1\n",
      "48601 2015-12-31  spicy_ital_l         2\n",
      "\n",
      "[1088 rows x 3 columns]\n",
      "      order_date pizza_name_id  quantity\n",
      "21    2015-01-01  spin_pesto_l         1\n",
      "268   2015-02-01  spin_pesto_l         1\n",
      "430   2015-03-01  spin_pesto_l         1\n",
      "437   2015-03-01  spin_pesto_l         1\n",
      "440   2015-03-01  spin_pesto_l         1\n",
      "...          ...           ...       ...\n",
      "48320 2015-12-29  spin_pesto_l         1\n",
      "48366 2015-12-29  spin_pesto_l         1\n",
      "48413 2015-12-30  spin_pesto_l         1\n",
      "48517 2015-12-31  spin_pesto_l         1\n",
      "48539 2015-12-31  spin_pesto_l         1\n",
      "\n",
      "[279 rows x 3 columns]\n",
      "      order_date pizza_name_id  quantity\n",
      "22    2015-01-01  veggie_veg_s         1\n",
      "115   2015-01-01  veggie_veg_s         1\n",
      "423   2015-03-01  veggie_veg_s         1\n",
      "742   2015-06-01  veggie_veg_s         1\n",
      "883   2015-07-01  veggie_veg_s         1\n",
      "...          ...           ...       ...\n",
      "48405 2015-12-30  veggie_veg_s         2\n",
      "48492 2015-12-31  veggie_veg_s         1\n",
      "48499 2015-12-31  veggie_veg_s         1\n",
      "48502 2015-12-31  veggie_veg_s         1\n",
      "48552 2015-12-31  veggie_veg_s         1\n",
      "\n",
      "[457 rows x 3 columns]\n",
      "      order_date pizza_name_id  quantity\n",
      "23    2015-01-01    mexicana_l         1\n",
      "33    2015-01-01    mexicana_l         1\n",
      "49    2015-01-01    mexicana_l         1\n",
      "92    2015-01-01    mexicana_l         1\n",
      "102   2015-01-01    mexicana_l         1\n",
      "...          ...           ...       ...\n",
      "48442 2015-12-30    mexicana_l         1\n",
      "48497 2015-12-31    mexicana_l         1\n",
      "48558 2015-12-31    mexicana_l         1\n",
      "48598 2015-12-31    mexicana_l         1\n",
      "48618 2015-12-31    mexicana_l         1\n",
      "\n",
      "[844 rows x 3 columns]\n",
      "      order_date pizza_name_id  quantity\n",
      "24    2015-01-01  southw_ckn_l         1\n",
      "60    2015-01-01  southw_ckn_l         1\n",
      "114   2015-01-01  southw_ckn_l         1\n",
      "156   2015-01-01  southw_ckn_l         1\n",
      "290   2015-02-01  southw_ckn_l         1\n",
      "...          ...           ...       ...\n",
      "48429 2015-12-30  southw_ckn_l         1\n",
      "48434 2015-12-30  southw_ckn_l         1\n",
      "48483 2015-12-31  southw_ckn_l         1\n",
      "48505 2015-12-31  southw_ckn_l         1\n",
      "48614 2015-12-31  southw_ckn_l         1\n",
      "\n",
      "[993 rows x 3 columns]\n",
      "      order_date pizza_name_id  quantity\n",
      "25    2015-01-01     bbq_ckn_l         1\n",
      "42    2015-01-01     bbq_ckn_l         1\n",
      "70    2015-01-01     bbq_ckn_l         1\n",
      "82    2015-01-01     bbq_ckn_l         1\n",
      "122   2015-01-01     bbq_ckn_l         1\n",
      "...          ...           ...       ...\n",
      "48445 2015-12-30     bbq_ckn_l         1\n",
      "48554 2015-12-31     bbq_ckn_l         1\n",
      "48564 2015-12-31     bbq_ckn_l         1\n",
      "48571 2015-12-31     bbq_ckn_l         1\n",
      "48575 2015-12-31     bbq_ckn_l         2\n",
      "\n",
      "[966 rows x 3 columns]\n",
      "      order_date pizza_name_id  quantity\n",
      "26    2015-01-01    cali_ckn_l         1\n",
      "29    2015-01-01    cali_ckn_l         1\n",
      "234   2015-02-01    cali_ckn_l         1\n",
      "250   2015-02-01    cali_ckn_l         1\n",
      "270   2015-02-01    cali_ckn_l         1\n",
      "...          ...           ...       ...\n",
      "48384 2015-12-30    cali_ckn_l         1\n",
      "48409 2015-12-30    cali_ckn_l         1\n",
      "48432 2015-12-30    cali_ckn_l         1\n",
      "48581 2015-12-31    cali_ckn_l         1\n",
      "48588 2015-12-31    cali_ckn_l         1\n",
      "\n",
      "[894 rows x 3 columns]\n",
      "      order_date pizza_name_id  quantity\n",
      "27    2015-01-01    cali_ckn_m         1\n",
      "192   2015-02-01    cali_ckn_m         1\n",
      "265   2015-02-01    cali_ckn_m         1\n",
      "324   2015-03-01    cali_ckn_m         1\n",
      "408   2015-03-01    cali_ckn_m         1\n",
      "...          ...           ...       ...\n",
      "48327 2015-12-29    cali_ckn_m         1\n",
      "48359 2015-12-29    cali_ckn_m         1\n",
      "48393 2015-12-30    cali_ckn_m         1\n",
      "48437 2015-12-30    cali_ckn_m         1\n",
      "48608 2015-12-31    cali_ckn_m         1\n",
      "\n",
      "[914 rows x 3 columns]\n",
      "      order_date pizza_name_id  quantity\n",
      "28    2015-01-01   pepperoni_l         1\n",
      "141   2015-01-01   pepperoni_l         1\n",
      "196   2015-02-01   pepperoni_l         1\n",
      "235   2015-02-01   pepperoni_l         1\n",
      "246   2015-02-01   pepperoni_l         1\n",
      "...          ...           ...       ...\n",
      "48344 2015-12-29   pepperoni_l         1\n",
      "48401 2015-12-30   pepperoni_l         1\n",
      "48448 2015-12-30   pepperoni_l         1\n",
      "48454 2015-12-31   pepperoni_l         2\n",
      "48600 2015-12-31   pepperoni_l         1\n",
      "\n",
      "[712 rows x 3 columns]\n",
      "      order_date pizza_name_id  quantity\n",
      "30    2015-01-01    cali_ckn_s         1\n",
      "333   2015-03-01    cali_ckn_s         1\n",
      "474   2015-03-01    cali_ckn_s         1\n",
      "480   2015-04-01    cali_ckn_s         1\n",
      "675   2015-05-01    cali_ckn_s         1\n",
      "...          ...           ...       ...\n",
      "48438 2015-12-30    cali_ckn_s         1\n",
      "48543 2015-12-31    cali_ckn_s         1\n",
      "48560 2015-12-31    cali_ckn_s         1\n",
      "48578 2015-12-31    cali_ckn_s         1\n",
      "48609 2015-12-31    cali_ckn_s         1\n",
      "\n",
      "[493 rows x 3 columns]\n",
      "      order_date pizza_name_id  quantity\n",
      "31    2015-01-01   ckn_pesto_l         1\n",
      "111   2015-01-01   ckn_pesto_l         1\n",
      "142   2015-01-01   ckn_pesto_l         1\n",
      "307   2015-02-01   ckn_pesto_l         1\n",
      "471   2015-03-01   ckn_pesto_l         1\n",
      "...          ...           ...       ...\n",
      "47859 2015-12-23   ckn_pesto_l         1\n",
      "47994 2015-12-24   ckn_pesto_l         1\n",
      "48080 2015-12-26   ckn_pesto_l         1\n",
      "48119 2015-12-27   ckn_pesto_l         1\n",
      "48477 2015-12-31   ckn_pesto_l         1\n",
      "\n",
      "[392 rows x 3 columns]\n",
      "      order_date pizza_name_id  quantity\n",
      "35    2015-01-01    big_meat_s         1\n",
      "55    2015-01-01    big_meat_s         1\n",
      "78    2015-01-01    big_meat_s         1\n",
      "100   2015-01-01    big_meat_s         1\n",
      "149   2015-01-01    big_meat_s         1\n",
      "...          ...           ...       ...\n",
      "48464 2015-12-31    big_meat_s         1\n",
      "48476 2015-12-31    big_meat_s         1\n",
      "48495 2015-12-31    big_meat_s         2\n",
      "48531 2015-12-31    big_meat_s         1\n",
      "48607 2015-12-31    big_meat_s         1\n",
      "\n",
      "[1811 rows x 3 columns]\n",
      "Empty DataFrame\n",
      "Columns: [order_date, pizza_name_id, quantity]\n",
      "Index: []\n",
      "      order_date pizza_name_id  quantity\n",
      "43    2015-01-01   calabrese_m         1\n",
      "470   2015-03-01   calabrese_m         1\n",
      "556   2015-04-01   calabrese_m         1\n",
      "712   2015-06-01   calabrese_m         1\n",
      "859   2015-07-01   calabrese_m         1\n",
      "...          ...           ...       ...\n",
      "47972 2015-12-24   calabrese_m         2\n",
      "48048 2015-12-26   calabrese_m         1\n",
      "48195 2015-12-27   calabrese_m         1\n",
      "48283 2015-12-28   calabrese_m         1\n",
      "48503 2015-12-31   calabrese_m         1\n",
      "\n",
      "[554 rows x 3 columns]\n",
      "      order_date  pizza_name_id  quantity\n",
      "45    2015-01-01  four_cheese_m         1\n",
      "98    2015-01-01  four_cheese_m         1\n",
      "143   2015-01-01  four_cheese_m         1\n",
      "283   2015-02-01  four_cheese_m         1\n",
      "355   2015-03-01  four_cheese_m         1\n",
      "...          ...            ...       ...\n",
      "48186 2015-12-27  four_cheese_m         1\n",
      "48424 2015-12-30  four_cheese_m         1\n",
      "48568 2015-12-31  four_cheese_m         1\n",
      "48583 2015-12-31  four_cheese_m         1\n",
      "48603 2015-12-31  four_cheese_m         1\n",
      "\n",
      "[577 rows x 3 columns]\n",
      "      order_date  pizza_name_id  quantity\n",
      "47    2015-01-01  ital_veggie_s         1\n",
      "139   2015-01-01  ital_veggie_s         1\n",
      "161   2015-02-01  ital_veggie_s         1\n",
      "217   2015-02-01  ital_veggie_s         1\n",
      "532   2015-04-01  ital_veggie_s         1\n",
      "...          ...            ...       ...\n",
      "47572 2015-12-21  ital_veggie_s         1\n",
      "47746 2015-12-22  ital_veggie_s         1\n",
      "47795 2015-12-23  ital_veggie_s         1\n",
      "48214 2015-12-28  ital_veggie_s         1\n",
      "48446 2015-12-30  ital_veggie_s         1\n",
      "\n",
      "[302 rows x 3 columns]\n",
      "      order_date   pizza_name_id  quantity\n",
      "48    2015-01-01  mediterraneo_m         2\n",
      "376   2015-03-01  mediterraneo_m         1\n",
      "867   2015-07-01  mediterraneo_m         1\n",
      "882   2015-07-01  mediterraneo_m         1\n",
      "939   2015-07-01  mediterraneo_m         1\n",
      "...          ...             ...       ...\n",
      "48094 2015-12-26  mediterraneo_m         1\n",
      "48348 2015-12-29  mediterraneo_m         1\n",
      "48538 2015-12-31  mediterraneo_m         1\n",
      "48546 2015-12-31  mediterraneo_m         1\n",
      "48572 2015-12-31  mediterraneo_m         1\n",
      "\n",
      "[271 rows x 3 columns]\n",
      "      order_date   pizza_name_id  quantity\n",
      "50    2015-01-01  peppr_salami_s         1\n",
      "131   2015-01-01  peppr_salami_s         1\n",
      "320   2015-02-01  peppr_salami_s         1\n",
      "757   2015-06-01  peppr_salami_s         1\n",
      "780   2015-06-01  peppr_salami_s         1\n",
      "...          ...             ...       ...\n",
      "48205 2015-12-28  peppr_salami_s         1\n",
      "48472 2015-12-31  peppr_salami_s         1\n",
      "48520 2015-12-31  peppr_salami_s         1\n",
      "48541 2015-12-31  peppr_salami_s         1\n",
      "48613 2015-12-31  peppr_salami_s         1\n",
      "\n",
      "[318 rows x 3 columns]\n",
      "      order_date  pizza_name_id  quantity\n",
      "51    2015-01-01  spinach_fet_l         1\n",
      "72    2015-01-01  spinach_fet_l         1\n",
      "164   2015-02-01  spinach_fet_l         1\n",
      "286   2015-02-01  spinach_fet_l         1\n",
      "364   2015-03-01  spinach_fet_l         1\n",
      "...          ...            ...       ...\n",
      "47980 2015-12-24  spinach_fet_l         1\n",
      "47996 2015-12-24  spinach_fet_l         1\n",
      "48107 2015-12-26  spinach_fet_l         1\n",
      "48306 2015-12-29  spinach_fet_l         1\n",
      "48545 2015-12-31  spinach_fet_l         1\n",
      "\n",
      "[437 rows x 3 columns]\n",
      "      order_date pizza_name_id  quantity\n",
      "52    2015-01-01  napolitana_l         1\n",
      "172   2015-02-01  napolitana_l         1\n",
      "231   2015-02-01  napolitana_l         1\n",
      "262   2015-02-01  napolitana_l         1\n",
      "276   2015-02-01  napolitana_l         1\n",
      "...          ...           ...       ...\n",
      "48323 2015-12-29  napolitana_l         1\n",
      "48370 2015-12-29  napolitana_l         1\n",
      "48416 2015-12-30  napolitana_l         1\n",
      "48486 2015-12-31  napolitana_l         1\n",
      "48515 2015-12-31  napolitana_l         1\n",
      "\n",
      "[557 rows x 3 columns]\n",
      "      order_date pizza_name_id  quantity\n",
      "54    2015-01-01    sicilian_l         1\n",
      "120   2015-01-01    sicilian_l         1\n",
      "209   2015-02-01    sicilian_l         1\n",
      "280   2015-02-01    sicilian_l         1\n",
      "289   2015-02-01    sicilian_l         1\n",
      "...          ...           ...       ...\n",
      "48343 2015-12-29    sicilian_l         1\n",
      "48474 2015-12-31    sicilian_l         1\n",
      "48490 2015-12-31    sicilian_l         1\n",
      "48491 2015-12-31    sicilian_l         1\n",
      "48542 2015-12-31    sicilian_l         1\n",
      "\n",
      "[596 rows x 3 columns]\n",
      "      order_date  pizza_name_id  quantity\n",
      "59    2015-01-01  ital_cpcllo_m         1\n",
      "63    2015-01-01  ital_cpcllo_m         1\n",
      "155   2015-01-01  ital_cpcllo_m         1\n",
      "182   2015-02-01  ital_cpcllo_m         1\n",
      "202   2015-02-01  ital_cpcllo_m         1\n",
      "...          ...            ...       ...\n",
      "48397 2015-12-30  ital_cpcllo_m         2\n",
      "48463 2015-12-31  ital_cpcllo_m         1\n",
      "48488 2015-12-31  ital_cpcllo_m         1\n",
      "48509 2015-12-31  ital_cpcllo_m         1\n",
      "48535 2015-12-31  ital_cpcllo_m         1\n",
      "\n",
      "[399 rows x 3 columns]\n",
      "      order_date pizza_name_id  quantity\n",
      "61    2015-01-01  southw_ckn_s         1\n",
      "97    2015-01-01  southw_ckn_s         1\n",
      "195   2015-02-01  southw_ckn_s         1\n",
      "225   2015-02-01  southw_ckn_s         1\n",
      "306   2015-02-01  southw_ckn_s         1\n",
      "...          ...           ...       ...\n",
      "47115 2015-12-18  southw_ckn_s         1\n",
      "47266 2015-12-19  southw_ckn_s         1\n",
      "47544 2015-12-21  southw_ckn_s         1\n",
      "48077 2015-12-26  southw_ckn_s         1\n",
      "48420 2015-12-30  southw_ckn_s         1\n",
      "\n",
      "[366 rows x 3 columns]\n",
      "      order_date pizza_name_id  quantity\n",
      "62    2015-01-01     bbq_ckn_m         1\n",
      "89    2015-01-01     bbq_ckn_m         1\n",
      "144   2015-01-01     bbq_ckn_m         1\n",
      "146   2015-01-01     bbq_ckn_m         1\n",
      "177   2015-02-01     bbq_ckn_m         1\n",
      "...          ...           ...       ...\n",
      "48443 2015-12-30     bbq_ckn_m         1\n",
      "48465 2015-12-31     bbq_ckn_m         1\n",
      "48514 2015-12-31     bbq_ckn_m         1\n",
      "48548 2015-12-31     bbq_ckn_m         1\n",
      "48611 2015-12-31     bbq_ckn_m         1\n",
      "\n",
      "[926 rows x 3 columns]\n",
      "      order_date pizza_name_id  quantity\n",
      "64    2015-01-01   pepperoni_m         1\n",
      "87    2015-01-01   pepperoni_m         1\n",
      "138   2015-01-01   pepperoni_m         1\n",
      "218   2015-02-01   pepperoni_m         1\n",
      "259   2015-02-01   pepperoni_m         1\n",
      "...          ...           ...       ...\n",
      "48414 2015-12-30   pepperoni_m         1\n",
      "48470 2015-12-31   pepperoni_m         1\n",
      "48585 2015-12-31   pepperoni_m         1\n",
      "48594 2015-12-31   pepperoni_m         1\n",
      "48604 2015-12-31   pepperoni_m         1\n",
      "\n",
      "[918 rows x 3 columns]\n",
      "      order_date pizza_name_id  quantity\n",
      "65    2015-01-01  prsc_argla_s         1\n",
      "239   2015-02-01  prsc_argla_s         1\n",
      "329   2015-03-01  prsc_argla_s         1\n",
      "338   2015-03-01  prsc_argla_s         1\n",
      "368   2015-03-01  prsc_argla_s         1\n",
      "...          ...           ...       ...\n",
      "48121 2015-12-27  prsc_argla_s         1\n",
      "48249 2015-12-28  prsc_argla_s         1\n",
      "48260 2015-12-28  prsc_argla_s         1\n",
      "48333 2015-12-29  prsc_argla_s         1\n",
      "48501 2015-12-31  prsc_argla_s         1\n",
      "\n",
      "[420 rows x 3 columns]\n",
      "      order_date pizza_name_id  quantity\n",
      "66    2015-01-01    sicilian_m         1\n",
      "223   2015-02-01    sicilian_m         1\n",
      "327   2015-03-01    sicilian_m         1\n",
      "377   2015-03-01    sicilian_m         1\n",
      "402   2015-03-01    sicilian_m         1\n",
      "...          ...           ...       ...\n",
      "47953 2015-12-24    sicilian_m         1\n",
      "47971 2015-12-24    sicilian_m         1\n",
      "48139 2015-12-27    sicilian_m         1\n",
      "48188 2015-12-27    sicilian_m         1\n",
      "48303 2015-12-29    sicilian_m         1\n",
      "\n",
      "[560 rows x 3 columns]\n",
      "      order_date pizza_name_id  quantity\n",
      "69    2015-01-01  veggie_veg_l         1\n",
      "244   2015-02-01  veggie_veg_l         1\n",
      "253   2015-02-01  veggie_veg_l         1\n",
      "298   2015-02-01  veggie_veg_l         1\n",
      "318   2015-02-01  veggie_veg_l         1\n",
      "...          ...           ...       ...\n",
      "48340 2015-12-29  veggie_veg_l         1\n",
      "48451 2015-12-31  veggie_veg_l         1\n",
      "48522 2015-12-31  veggie_veg_l         1\n",
      "48547 2015-12-31  veggie_veg_l         1\n",
      "48587 2015-12-31  veggie_veg_l         1\n",
      "\n",
      "[423 rows x 3 columns]\n",
      "      order_date  pizza_name_id  quantity\n",
      "73    2015-01-01  ckn_alfredo_s         1\n",
      "522   2015-04-01  ckn_alfredo_s         1\n",
      "980   2015-08-01  ckn_alfredo_s         1\n",
      "1817  2015-01-14  ckn_alfredo_s         1\n",
      "1962  2015-01-15  ckn_alfredo_s         1\n",
      "...          ...            ...       ...\n",
      "45802 2015-08-12  ckn_alfredo_s         1\n",
      "46543 2015-12-13  ckn_alfredo_s         1\n",
      "46749 2015-12-15  ckn_alfredo_s         1\n",
      "46959 2015-12-16  ckn_alfredo_s         1\n",
      "47210 2015-12-18  ckn_alfredo_s         1\n",
      "\n",
      "[96 rows x 3 columns]\n",
      "      order_date pizza_name_id  quantity\n",
      "77    2015-01-01   pepperoni_s         1\n",
      "188   2015-02-01   pepperoni_s         1\n",
      "213   2015-02-01   pepperoni_s         1\n",
      "269   2015-02-01   pepperoni_s         1\n",
      "322   2015-03-01   pepperoni_s         1\n",
      "...          ...           ...       ...\n",
      "48368 2015-12-29   pepperoni_s         1\n",
      "48374 2015-12-29   pepperoni_s         1\n",
      "48482 2015-12-31   pepperoni_s         1\n",
      "48519 2015-12-31   pepperoni_s         1\n",
      "48550 2015-12-31   pepperoni_s         1\n",
      "\n",
      "[738 rows x 3 columns]\n",
      "      order_date   pizza_name_id  quantity\n",
      "79    2015-01-01  green_garden_l         1\n",
      "1007  2015-08-01  green_garden_l         1\n",
      "1104  2015-08-01  green_garden_l         1\n",
      "2151  2015-01-16  green_garden_l         1\n",
      "2324  2015-01-18  green_garden_l         1\n",
      "...          ...             ...       ...\n",
      "46891 2015-12-16  green_garden_l         1\n",
      "47225 2015-12-18  green_garden_l         1\n",
      "47669 2015-12-22  green_garden_l         2\n",
      "47911 2015-12-24  green_garden_l         1\n",
      "48060 2015-12-26  green_garden_l         1\n",
      "\n",
      "[94 rows x 3 columns]\n",
      "      order_date   pizza_name_id  quantity\n",
      "85    2015-01-01  green_garden_m         1\n",
      "332   2015-03-01  green_garden_m         1\n",
      "548   2015-04-01  green_garden_m         1\n",
      "582   2015-05-01  green_garden_m         1\n",
      "714   2015-06-01  green_garden_m         1\n",
      "...          ...             ...       ...\n",
      "47687 2015-12-22  green_garden_m         1\n",
      "47725 2015-12-22  green_garden_m         1\n",
      "47909 2015-12-24  green_garden_m         1\n",
      "48227 2015-12-28  green_garden_m         1\n",
      "48592 2015-12-31  green_garden_m         1\n",
      "\n",
      "[300 rows x 3 columns]\n",
      "      order_date  pizza_name_id  quantity\n",
      "86    2015-01-01  pep_msh_pep_l         1\n",
      "123   2015-01-01  pep_msh_pep_l         1\n",
      "477   2015-04-01  pep_msh_pep_l         1\n",
      "585   2015-05-01  pep_msh_pep_l         1\n",
      "700   2015-05-01  pep_msh_pep_l         1\n",
      "...          ...            ...       ...\n",
      "48299 2015-12-29  pep_msh_pep_l         1\n",
      "48332 2015-12-29  pep_msh_pep_l         1\n",
      "48407 2015-12-30  pep_msh_pep_l         1\n",
      "48433 2015-12-30  pep_msh_pep_l         1\n",
      "48511 2015-12-31  pep_msh_pep_l         1\n",
      "\n",
      "[381 rows x 3 columns]\n",
      "      order_date pizza_name_id  quantity\n",
      "93    2015-01-01    hawaiian_s         1\n",
      "109   2015-01-01    hawaiian_s         1\n",
      "245   2015-02-01    hawaiian_s         2\n",
      "285   2015-02-01    hawaiian_s         1\n",
      "303   2015-02-01    hawaiian_s         1\n",
      "...          ...           ...       ...\n",
      "48379 2015-12-30    hawaiian_s         1\n",
      "48422 2015-12-30    hawaiian_s         1\n",
      "48430 2015-12-30    hawaiian_s         2\n",
      "48518 2015-12-31    hawaiian_s         1\n",
      "48523 2015-12-31    hawaiian_s         1\n",
      "\n",
      "[1001 rows x 3 columns]\n",
      "      order_date  pizza_name_id  quantity\n",
      "96    2015-01-01  four_cheese_l         1\n",
      "108   2015-01-01  four_cheese_l         1\n",
      "181   2015-02-01  four_cheese_l         1\n",
      "288   2015-02-01  four_cheese_l         1\n",
      "325   2015-03-01  four_cheese_l         1\n",
      "...          ...            ...       ...\n",
      "48481 2015-12-31  four_cheese_l         1\n",
      "48561 2015-12-31  four_cheese_l         1\n",
      "48573 2015-12-31  four_cheese_l         1\n",
      "48576 2015-12-31  four_cheese_l         1\n",
      "48616 2015-12-31  four_cheese_l         1\n",
      "\n",
      "[1272 rows x 3 columns]\n",
      "      order_date   pizza_name_id  quantity\n",
      "103   2015-01-01  peppr_salami_m         1\n",
      "219   2015-02-01  peppr_salami_m         1\n",
      "279   2015-02-01  peppr_salami_m         1\n",
      "510   2015-04-01  peppr_salami_m         1\n",
      "600   2015-05-01  peppr_salami_m         1\n",
      "...          ...             ...       ...\n",
      "48170 2015-12-27  peppr_salami_m         1\n",
      "48199 2015-12-28  peppr_salami_m         1\n",
      "48380 2015-12-30  peppr_salami_m         1\n",
      "48471 2015-12-31  peppr_salami_m         1\n",
      "48516 2015-12-31  peppr_salami_m         1\n",
      "\n",
      "[423 rows x 3 columns]\n",
      "      order_date  pizza_name_id  quantity\n",
      "104   2015-01-01  ckn_alfredo_m         1\n",
      "242   2015-02-01  ckn_alfredo_m         1\n",
      "451   2015-03-01  ckn_alfredo_m         1\n",
      "468   2015-03-01  ckn_alfredo_m         1\n",
      "481   2015-04-01  ckn_alfredo_m         1\n",
      "...          ...            ...       ...\n",
      "48415 2015-12-30  ckn_alfredo_m         1\n",
      "48452 2015-12-31  ckn_alfredo_m         1\n",
      "48453 2015-12-31  ckn_alfredo_m         1\n",
      "48527 2015-12-31  ckn_alfredo_m         1\n",
      "48615 2015-12-31  ckn_alfredo_m         1\n",
      "\n",
      "[697 rows x 3 columns]\n",
      "      order_date   pizza_name_id  quantity\n",
      "106   2015-01-01  peppr_salami_l         1\n",
      "227   2015-02-01  peppr_salami_l         1\n",
      "372   2015-03-01  peppr_salami_l         1\n",
      "420   2015-03-01  peppr_salami_l         1\n",
      "428   2015-03-01  peppr_salami_l         1\n",
      "...          ...             ...       ...\n",
      "47988 2015-12-24  peppr_salami_l         1\n",
      "48015 2015-12-26  peppr_salami_l         1\n",
      "48308 2015-12-29  peppr_salami_l         1\n",
      "48362 2015-12-29  peppr_salami_l         1\n",
      "48591 2015-12-31  peppr_salami_l         1\n",
      "\n",
      "[680 rows x 3 columns]\n",
      "      order_date pizza_name_id  quantity\n",
      "107   2015-01-01  spin_pesto_s         1\n",
      "168   2015-02-01  spin_pesto_s         1\n",
      "431   2015-03-01  spin_pesto_s         1\n",
      "434   2015-03-01  spin_pesto_s         1\n",
      "535   2015-04-01  spin_pesto_s         1\n",
      "...          ...           ...       ...\n",
      "48011 2015-12-24  spin_pesto_s         1\n",
      "48059 2015-12-26  spin_pesto_s         1\n",
      "48171 2015-12-27  spin_pesto_s         1\n",
      "48245 2015-12-28  spin_pesto_s         1\n",
      "48461 2015-12-31  spin_pesto_s         2\n",
      "\n",
      "[397 rows x 3 columns]\n",
      "      order_date pizza_name_id  quantity\n",
      "110   2015-01-01    thai_ckn_m         1\n",
      "113   2015-01-01    thai_ckn_m         1\n",
      "189   2015-02-01    thai_ckn_m         1\n",
      "277   2015-02-01    thai_ckn_m         1\n",
      "351   2015-03-01    thai_ckn_m         1\n",
      "...          ...           ...       ...\n",
      "48173 2015-12-27    thai_ckn_m         1\n",
      "48242 2015-12-28    thai_ckn_m         1\n",
      "48371 2015-12-29    thai_ckn_m         1\n",
      "48493 2015-12-31    thai_ckn_m         1\n",
      "48521 2015-12-31    thai_ckn_m         1\n",
      "\n",
      "[474 rows x 3 columns]\n",
      "      order_date  pizza_name_id  quantity\n",
      "112   2015-01-01  classic_dlx_l         1\n",
      "230   2015-02-01  classic_dlx_l         1\n",
      "254   2015-02-01  classic_dlx_l         1\n",
      "424   2015-03-01  classic_dlx_l         1\n",
      "529   2015-04-01  classic_dlx_l         1\n",
      "...          ...            ...       ...\n",
      "48244 2015-12-28  classic_dlx_l         1\n",
      "48341 2015-12-29  classic_dlx_l         1\n",
      "48395 2015-12-30  classic_dlx_l         1\n",
      "48457 2015-12-31  classic_dlx_l         1\n",
      "48487 2015-12-31  classic_dlx_l         1\n",
      "\n",
      "[471 rows x 3 columns]\n",
      "      order_date pizza_name_id  quantity\n",
      "116   2015-01-01   ckn_pesto_m         1\n",
      "344   2015-03-01   ckn_pesto_m         1\n",
      "875   2015-07-01   ckn_pesto_m         1\n",
      "952   2015-07-01   ckn_pesto_m         1\n",
      "1514  2015-11-01   ckn_pesto_m         1\n",
      "...          ...           ...       ...\n",
      "48225 2015-12-28   ckn_pesto_m         1\n",
      "48314 2015-12-29   ckn_pesto_m         1\n",
      "48510 2015-12-31   ckn_pesto_m         1\n",
      "48534 2015-12-31   ckn_pesto_m         1\n",
      "48595 2015-12-31   ckn_pesto_m         1\n",
      "\n",
      "[274 rows x 3 columns]\n",
      "      order_date pizza_name_id  quantity\n",
      "121   2015-01-01  the_greek_xl         1\n",
      "297   2015-02-01  the_greek_xl         1\n",
      "357   2015-03-01  the_greek_xl         1\n",
      "386   2015-03-01  the_greek_xl         1\n",
      "469   2015-03-01  the_greek_xl         1\n",
      "...          ...           ...       ...\n",
      "48099 2015-12-26  the_greek_xl         1\n",
      "48220 2015-12-28  the_greek_xl         1\n",
      "48372 2015-12-29  the_greek_xl         1\n",
      "48436 2015-12-30  the_greek_xl         1\n",
      "48540 2015-12-31  the_greek_xl         1\n",
      "\n",
      "[544 rows x 3 columns]\n",
      "      order_date pizza_name_id  quantity\n",
      "124   2015-01-01    hawaiian_l         1\n",
      "174   2015-02-01    hawaiian_l         1\n",
      "201   2015-02-01    hawaiian_l         1\n",
      "233   2015-02-01    hawaiian_l         1\n",
      "255   2015-02-01    hawaiian_l         1\n",
      "...          ...           ...       ...\n",
      "48316 2015-12-29    hawaiian_l         1\n",
      "48355 2015-12-29    hawaiian_l         1\n",
      "48406 2015-12-30    hawaiian_l         1\n",
      "48456 2015-12-31    hawaiian_l         1\n",
      "48555 2015-12-31    hawaiian_l         1\n",
      "\n",
      "[895 rows x 3 columns]\n",
      "      order_date  pizza_name_id  quantity\n",
      "127   2015-01-01  pep_msh_pep_s         1\n",
      "140   2015-01-01  pep_msh_pep_s         1\n",
      "150   2015-01-01  pep_msh_pep_s         1\n",
      "186   2015-02-01  pep_msh_pep_s         1\n",
      "347   2015-03-01  pep_msh_pep_s         1\n",
      "...          ...            ...       ...\n",
      "47922 2015-12-24  pep_msh_pep_s         1\n",
      "48044 2015-12-26  pep_msh_pep_s         1\n",
      "48149 2015-12-27  pep_msh_pep_s         1\n",
      "48217 2015-12-28  pep_msh_pep_s         1\n",
      "48512 2015-12-31  pep_msh_pep_s         1\n",
      "\n",
      "[570 rows x 3 columns]\n",
      "      order_date   pizza_name_id  quantity\n",
      "128   2015-01-01  spinach_supr_m         1\n",
      "147   2015-01-01  spinach_supr_m         1\n",
      "153   2015-01-01  spinach_supr_m         1\n",
      "406   2015-03-01  spinach_supr_m         1\n",
      "748   2015-06-01  spinach_supr_m         1\n",
      "...          ...             ...       ...\n",
      "48052 2015-12-26  spinach_supr_m         1\n",
      "48235 2015-12-28  spinach_supr_m         1\n",
      "48391 2015-12-30  spinach_supr_m         1\n",
      "48528 2015-12-31  spinach_supr_m         1\n",
      "48530 2015-12-31  spinach_supr_m         1\n",
      "\n",
      "[266 rows x 3 columns]\n",
      "      order_date pizza_name_id  quantity\n",
      "129   2015-01-01  prsc_argla_m         1\n",
      "247   2015-02-01  prsc_argla_m         1\n",
      "393   2015-03-01  prsc_argla_m         1\n",
      "517   2015-04-01  prsc_argla_m         1\n",
      "576   2015-04-01  prsc_argla_m         1\n",
      "...          ...           ...       ...\n",
      "48417 2015-12-30  prsc_argla_m         2\n",
      "48473 2015-12-31  prsc_argla_m         1\n",
      "48551 2015-12-31  prsc_argla_m         1\n",
      "48553 2015-12-31  prsc_argla_m         1\n",
      "48589 2015-12-31  prsc_argla_m         1\n",
      "\n",
      "[585 rows x 3 columns]\n",
      "      order_date   pizza_name_id  quantity\n",
      "134   2015-01-01  mediterraneo_l         1\n",
      "171   2015-02-01  mediterraneo_l         1\n",
      "321   2015-03-01  mediterraneo_l         1\n",
      "602   2015-05-01  mediterraneo_l         1\n",
      "746   2015-06-01  mediterraneo_l         1\n",
      "...          ...             ...       ...\n",
      "47912 2015-12-24  mediterraneo_l         1\n",
      "47933 2015-12-24  mediterraneo_l         1\n",
      "47954 2015-12-24  mediterraneo_l         1\n",
      "47968 2015-12-24  mediterraneo_l         1\n",
      "48388 2015-12-30  mediterraneo_l         1\n",
      "\n",
      "[364 rows x 3 columns]\n",
      "      order_date pizza_name_id  quantity\n",
      "135   2015-01-01  southw_ckn_m         1\n",
      "272   2015-02-01  southw_ckn_m         1\n",
      "618   2015-05-01  southw_ckn_m         1\n",
      "673   2015-05-01  southw_ckn_m         1\n",
      "770   2015-06-01  southw_ckn_m         1\n",
      "...          ...           ...       ...\n",
      "48394 2015-12-30  southw_ckn_m         1\n",
      "48402 2015-12-30  southw_ckn_m         1\n",
      "48444 2015-12-30  southw_ckn_m         1\n",
      "48484 2015-12-31  southw_ckn_m         1\n",
      "48498 2015-12-31  southw_ckn_m         1\n",
      "\n",
      "[526 rows x 3 columns]\n",
      "      order_date  pizza_name_id  quantity\n",
      "148   2015-01-01  pep_msh_pep_m         1\n",
      "650   2015-05-01  pep_msh_pep_m         1\n",
      "991   2015-08-01  pep_msh_pep_m         1\n",
      "1040  2015-08-01  pep_msh_pep_m         1\n",
      "1144  2015-08-01  pep_msh_pep_m         1\n",
      "...          ...            ...       ...\n",
      "48155 2015-12-27  pep_msh_pep_m         1\n",
      "48258 2015-12-28  pep_msh_pep_m         1\n",
      "48459 2015-12-31  pep_msh_pep_m         1\n",
      "48549 2015-12-31  pep_msh_pep_m         1\n",
      "48586 2015-12-31  pep_msh_pep_m         1\n",
      "\n",
      "[391 rows x 3 columns]\n",
      "      order_date pizza_name_id  quantity\n",
      "151   2015-01-01    sicilian_s         1\n",
      "274   2015-02-01    sicilian_s         1\n",
      "452   2015-03-01    sicilian_s         1\n",
      "459   2015-03-01    sicilian_s         1\n",
      "520   2015-04-01    sicilian_s         1\n",
      "...          ...           ...       ...\n",
      "47858 2015-12-23    sicilian_s         1\n",
      "47925 2015-12-24    sicilian_s         1\n",
      "48041 2015-12-26    sicilian_s         1\n",
      "48250 2015-12-28    sicilian_s         1\n",
      "48559 2015-12-31    sicilian_s         1\n",
      "\n",
      "[731 rows x 3 columns]\n",
      "      order_date pizza_name_id  quantity\n",
      "152   2015-01-01  spicy_ital_s         1\n",
      "264   2015-02-01  spicy_ital_s         1\n",
      "300   2015-02-01  spicy_ital_s         1\n",
      "803   2015-06-01  spicy_ital_s         1\n",
      "1030  2015-08-01  spicy_ital_s         1\n",
      "...          ...           ...       ...\n",
      "48168 2015-12-27  spicy_ital_s         1\n",
      "48319 2015-12-29  spicy_ital_s         1\n",
      "48390 2015-12-30  spicy_ital_s         1\n",
      "48485 2015-12-31  spicy_ital_s         1\n",
      "48513 2015-12-31  spicy_ital_s         1\n",
      "\n",
      "[399 rows x 3 columns]\n",
      "      order_date  pizza_name_id  quantity\n",
      "162   2015-02-01  soppressata_l         1\n",
      "207   2015-02-01  soppressata_l         1\n",
      "236   2015-02-01  soppressata_l         1\n",
      "263   2015-02-01  soppressata_l         1\n",
      "465   2015-03-01  soppressata_l         1\n",
      "...          ...            ...       ...\n",
      "48277 2015-12-28  soppressata_l         1\n",
      "48334 2015-12-29  soppressata_l         1\n",
      "48353 2015-12-29  soppressata_l         1\n",
      "48569 2015-12-31  soppressata_l         1\n",
      "48610 2015-12-31  soppressata_l         1\n",
      "\n",
      "[400 rows x 3 columns]\n",
      "      order_date pizza_name_id  quantity\n",
      "165   2015-02-01    thai_ckn_s         1\n",
      "184   2015-02-01    thai_ckn_s         1\n",
      "210   2015-02-01    thai_ckn_s         1\n",
      "365   2015-03-01    thai_ckn_s         1\n",
      "445   2015-03-01    thai_ckn_s         1\n",
      "...          ...           ...       ...\n",
      "48042 2015-12-26    thai_ckn_s         1\n",
      "48261 2015-12-28    thai_ckn_s         1\n",
      "48272 2015-12-28    thai_ckn_s         1\n",
      "48337 2015-12-29    thai_ckn_s         1\n",
      "48404 2015-12-30    thai_ckn_s         1\n",
      "\n",
      "[476 rows x 3 columns]\n",
      "      order_date   pizza_name_id  quantity\n",
      "169   2015-02-01  spinach_supr_l         1\n",
      "204   2015-02-01  spinach_supr_l         1\n",
      "256   2015-02-01  spinach_supr_l         1\n",
      "541   2015-04-01  spinach_supr_l         1\n",
      "555   2015-04-01  spinach_supr_l         1\n",
      "...          ...             ...       ...\n",
      "47422 2015-12-20  spinach_supr_l         1\n",
      "47473 2015-12-20  spinach_supr_l         1\n",
      "47641 2015-12-21  spinach_supr_l         1\n",
      "48219 2015-12-28  spinach_supr_l         1\n",
      "48403 2015-12-30  spinach_supr_l         1\n",
      "\n",
      "[280 rows x 3 columns]\n",
      "      order_date  pizza_name_id  quantity\n",
      "175   2015-02-01  ital_veggie_l         1\n",
      "326   2015-03-01  ital_veggie_l         1\n",
      "464   2015-03-01  ital_veggie_l         1\n",
      "533   2015-04-01  ital_veggie_l         1\n",
      "1010  2015-08-01  ital_veggie_l         1\n",
      "...          ...            ...       ...\n",
      "47729 2015-12-22  ital_veggie_l         1\n",
      "47832 2015-12-23  ital_veggie_l         1\n",
      "48089 2015-12-26  ital_veggie_l         1\n",
      "48400 2015-12-30  ital_veggie_l         1\n",
      "48478 2015-12-31  ital_veggie_l         1\n",
      "\n",
      "[190 rows x 3 columns]\n",
      "      order_date pizza_name_id  quantity\n",
      "194   2015-02-01  veggie_veg_m         1\n",
      "330   2015-03-01  veggie_veg_m         1\n",
      "340   2015-03-01  veggie_veg_m         1\n",
      "399   2015-03-01  veggie_veg_m         1\n",
      "461   2015-03-01  veggie_veg_m         1\n",
      "...          ...           ...       ...\n",
      "48169 2015-12-27  veggie_veg_m         1\n",
      "48259 2015-12-28  veggie_veg_m         1\n",
      "48408 2015-12-30  veggie_veg_m         1\n",
      "48494 2015-12-31  veggie_veg_m         1\n",
      "48570 2015-12-31  veggie_veg_m         1\n",
      "\n",
      "[630 rows x 3 columns]\n",
      "      order_date pizza_name_id  quantity\n",
      "200   2015-02-01   the_greek_m         1\n",
      "222   2015-02-01   the_greek_m         2\n",
      "302   2015-02-01   the_greek_m         1\n",
      "366   2015-03-01   the_greek_m         1\n",
      "390   2015-03-01   the_greek_m         1\n",
      "...          ...           ...       ...\n",
      "47628 2015-12-21   the_greek_m         1\n",
      "47791 2015-12-23   the_greek_m         1\n",
      "47942 2015-12-24   the_greek_m         1\n",
      "48197 2015-12-28   the_greek_m         1\n",
      "48418 2015-12-30   the_greek_m         1\n",
      "\n",
      "[279 rows x 3 columns]\n",
      "      order_date pizza_name_id  quantity\n",
      "212   2015-02-01   ckn_pesto_s         1\n",
      "369   2015-03-01   ckn_pesto_s         1\n",
      "846   2015-07-01   ckn_pesto_s         1\n",
      "898   2015-07-01   ckn_pesto_s         1\n",
      "962   2015-07-01   ckn_pesto_s         1\n",
      "...          ...           ...       ...\n",
      "47895 2015-12-24   ckn_pesto_s         1\n",
      "47948 2015-12-24   ckn_pesto_s         1\n",
      "48166 2015-12-27   ckn_pesto_s         1\n",
      "48290 2015-12-28   ckn_pesto_s         1\n",
      "48295 2015-12-28   ckn_pesto_s         1\n",
      "\n",
      "[295 rows x 3 columns]\n",
      "      order_date  pizza_name_id  quantity\n",
      "220   2015-02-01  spinach_fet_s         1\n",
      "282   2015-02-01  spinach_fet_s         1\n",
      "493   2015-04-01  spinach_fet_s         1\n",
      "506   2015-04-01  spinach_fet_s         1\n",
      "542   2015-04-01  spinach_fet_s         1\n",
      "...          ...            ...       ...\n",
      "48017 2015-12-26  spinach_fet_s         1\n",
      "48280 2015-12-28  spinach_fet_s         1\n",
      "48475 2015-12-31  spinach_fet_s         1\n",
      "48562 2015-12-31  spinach_fet_s         1\n",
      "48577 2015-12-31  spinach_fet_s         1\n",
      "\n",
      "[437 rows x 3 columns]\n",
      "      order_date pizza_name_id  quantity\n",
      "226   2015-02-01  napolitana_s         1\n",
      "228   2015-02-01  napolitana_s         1\n",
      "405   2015-03-01  napolitana_s         1\n",
      "538   2015-04-01  napolitana_s         1\n",
      "603   2015-05-01  napolitana_s         1\n",
      "...          ...           ...       ...\n",
      "48354 2015-12-29  napolitana_s         1\n",
      "48525 2015-12-31  napolitana_s         1\n",
      "48536 2015-12-31  napolitana_s         1\n",
      "48584 2015-12-31  napolitana_s         1\n",
      "48617 2015-12-31  napolitana_s         1\n",
      "\n",
      "[466 rows x 3 columns]\n",
      "      order_date pizza_name_id  quantity\n",
      "237   2015-02-01  spicy_ital_m         1\n",
      "323   2015-03-01  spicy_ital_m         1\n",
      "385   2015-03-01  spicy_ital_m         1\n",
      "460   2015-03-01  spicy_ital_m         1\n",
      "507   2015-04-01  spicy_ital_m         1\n",
      "...          ...           ...       ...\n",
      "47839 2015-12-23  spicy_ital_m         1\n",
      "47888 2015-12-24  spicy_ital_m         1\n",
      "48111 2015-12-27  spicy_ital_m         1\n",
      "48268 2015-12-28  spicy_ital_m         1\n",
      "48447 2015-12-30  spicy_ital_m         1\n",
      "\n",
      "[400 rows x 3 columns]\n",
      "      order_date  pizza_name_id  quantity\n",
      "243   2015-02-01  ital_veggie_m         1\n",
      "379   2015-03-01  ital_veggie_m         1\n",
      "476   2015-04-01  ital_veggie_m         1\n",
      "631   2015-05-01  ital_veggie_m         1\n",
      "956   2015-07-01  ital_veggie_m         1\n",
      "...          ...            ...       ...\n",
      "47920 2015-12-24  ital_veggie_m         1\n",
      "48273 2015-12-28  ital_veggie_m         1\n",
      "48387 2015-12-30  ital_veggie_m         1\n",
      "48441 2015-12-30  ital_veggie_m         1\n",
      "48566 2015-12-31  ital_veggie_m         1\n",
      "\n",
      "[483 rows x 3 columns]\n",
      "      order_date  pizza_name_id  quantity\n",
      "292   2015-02-01  ital_cpcllo_s         1\n",
      "401   2015-03-01  ital_cpcllo_s         1\n",
      "513   2015-04-01  ital_cpcllo_s         1\n",
      "671   2015-05-01  ital_cpcllo_s         1\n",
      "681   2015-05-01  ital_cpcllo_s         1\n",
      "...          ...            ...       ...\n",
      "48398 2015-12-30  ital_cpcllo_s         1\n",
      "48450 2015-12-31  ital_cpcllo_s         1\n",
      "48469 2015-12-31  ital_cpcllo_s         1\n",
      "48532 2015-12-31  ital_cpcllo_s         1\n",
      "48597 2015-12-31  ital_cpcllo_s         1\n",
      "\n",
      "[300 rows x 3 columns]\n",
      "      order_date   pizza_name_id  quantity\n",
      "358   2015-03-01  mediterraneo_s         1\n",
      "1270  2015-09-01  mediterraneo_s         1\n",
      "1497  2015-11-01  mediterraneo_s         1\n",
      "1596  2015-12-01  mediterraneo_s         1\n",
      "2292  2015-01-17  mediterraneo_s         1\n",
      "...          ...             ...       ...\n",
      "47844 2015-12-23  mediterraneo_s         1\n",
      "47890 2015-12-24  mediterraneo_s         1\n",
      "47938 2015-12-24  mediterraneo_s         1\n",
      "48500 2015-12-31  mediterraneo_s         1\n",
      "48557 2015-12-31  mediterraneo_s         1\n",
      "\n",
      "[288 rows x 3 columns]\n",
      "      order_date  pizza_name_id  quantity\n",
      "359   2015-03-01  spinach_fet_m         1\n",
      "511   2015-04-01  spinach_fet_m         1\n",
      "584   2015-05-01  spinach_fet_m         1\n",
      "679   2015-05-01  spinach_fet_m         1\n",
      "838   2015-06-01  spinach_fet_m         1\n",
      "...          ...            ...       ...\n",
      "48124 2015-12-27  spinach_fet_m         1\n",
      "48234 2015-12-28  spinach_fet_m         1\n",
      "48263 2015-12-28  spinach_fet_m         1\n",
      "48421 2015-12-30  spinach_fet_m         1\n",
      "48580 2015-12-31  spinach_fet_m         1\n",
      "\n",
      "[558 rows x 3 columns]\n",
      "      order_date pizza_name_id  quantity\n",
      "373   2015-03-01  napolitana_m         1\n",
      "404   2015-03-01  napolitana_m         1\n",
      "429   2015-03-01  napolitana_m         1\n",
      "483   2015-04-01  napolitana_m         1\n",
      "524   2015-04-01  napolitana_m         1\n",
      "...          ...           ...       ...\n",
      "47674 2015-12-22  napolitana_m         1\n",
      "47824 2015-12-23  napolitana_m         1\n",
      "48049 2015-12-26  napolitana_m         1\n",
      "48216 2015-12-28  napolitana_m         1\n",
      "48556 2015-12-31  napolitana_m         1\n",
      "\n",
      "[426 rows x 3 columns]\n",
      "      order_date pizza_name_id  quantity\n",
      "378   2015-03-01  spin_pesto_m         1\n",
      "500   2015-04-01  spin_pesto_m         1\n",
      "662   2015-05-01  spin_pesto_m         1\n",
      "839   2015-06-01  spin_pesto_m         1\n",
      "1353  2015-10-01  spin_pesto_m         1\n",
      "...          ...           ...       ...\n",
      "48278 2015-12-28  spin_pesto_m         1\n",
      "48309 2015-12-29  spin_pesto_m         1\n",
      "48336 2015-12-29  spin_pesto_m         1\n",
      "48411 2015-12-30  spin_pesto_m         1\n",
      "48606 2015-12-31  spin_pesto_m         1\n",
      "\n",
      "[281 rows x 3 columns]\n",
      "      order_date pizza_name_id  quantity\n",
      "427   2015-03-01  brie_carre_s         1\n",
      "577   2015-04-01  brie_carre_s         1\n",
      "579   2015-04-01  brie_carre_s         1\n",
      "592   2015-05-01  brie_carre_s         1\n",
      "653   2015-05-01  brie_carre_s         1\n",
      "...          ...           ...       ...\n",
      "48175 2015-12-27  brie_carre_s         1\n",
      "48243 2015-12-28  brie_carre_s         1\n",
      "48310 2015-12-29  brie_carre_s         1\n",
      "48455 2015-12-31  brie_carre_s         1\n",
      "48526 2015-12-31  brie_carre_s         1\n",
      "\n",
      "[480 rows x 3 columns]\n",
      "      order_date  pizza_name_id  quantity\n",
      "456   2015-03-01  ckn_alfredo_l         2\n",
      "467   2015-03-01  ckn_alfredo_l         1\n",
      "587   2015-05-01  ckn_alfredo_l         1\n",
      "2264  2015-01-17  ckn_alfredo_l         1\n",
      "2885  2015-01-22  ckn_alfredo_l         1\n",
      "...          ...            ...       ...\n",
      "46683 2015-12-14  ckn_alfredo_l         1\n",
      "47384 2015-12-19  ckn_alfredo_l         1\n",
      "47672 2015-12-22  ckn_alfredo_l         1\n",
      "47841 2015-12-23  ckn_alfredo_l         1\n",
      "48294 2015-12-28  ckn_alfredo_l         1\n",
      "\n",
      "[187 rows x 3 columns]\n",
      "      order_date pizza_name_id  quantity\n",
      "573   2015-04-01   calabrese_s         1\n",
      "888   2015-07-01   calabrese_s         1\n",
      "1141  2015-08-01   calabrese_s         1\n",
      "1829  2015-01-14   calabrese_s         1\n",
      "2636  2015-01-20   calabrese_s         1\n",
      "...          ...           ...       ...\n",
      "44056 2015-11-26   calabrese_s         1\n",
      "44751 2015-11-30   calabrese_s         1\n",
      "44796 2015-01-12   calabrese_s         1\n",
      "45724 2015-07-12   calabrese_s         1\n",
      "47320 2015-12-19   calabrese_s         1\n",
      "\n",
      "[99 rows x 3 columns]\n",
      "      order_date pizza_name_id  quantity\n",
      "591   2015-05-01   the_greek_l         1\n",
      "1152  2015-09-01   the_greek_l         1\n",
      "1192  2015-09-01   the_greek_l         1\n",
      "1408  2015-10-01   the_greek_l         1\n",
      "1436  2015-11-01   the_greek_l         1\n",
      "...          ...           ...       ...\n",
      "47700 2015-12-22   the_greek_l         1\n",
      "47811 2015-12-23   the_greek_l         1\n",
      "48018 2015-12-26   the_greek_l         1\n",
      "48163 2015-12-27   the_greek_l         1\n",
      "48529 2015-12-31   the_greek_l         1\n",
      "\n",
      "[255 rows x 3 columns]\n",
      "      order_date  pizza_name_id  quantity\n",
      "617   2015-05-01  soppressata_m         1\n",
      "871   2015-07-01  soppressata_m         1\n",
      "969   2015-07-01  soppressata_m         1\n",
      "972   2015-07-01  soppressata_m         1\n",
      "1247  2015-09-01  soppressata_m         1\n",
      "...          ...            ...       ...\n",
      "47720 2015-12-22  soppressata_m         1\n",
      "47753 2015-12-22  soppressata_m         1\n",
      "48282 2015-12-28  soppressata_m         1\n",
      "48356 2015-12-29  soppressata_m         1\n",
      "48389 2015-12-30  soppressata_m         1\n",
      "\n",
      "[268 rows x 3 columns]\n",
      "      order_date  pizza_name_id  quantity\n",
      "621   2015-05-01  soppressata_s         1\n",
      "729   2015-06-01  soppressata_s         1\n",
      "1138  2015-08-01  soppressata_s         1\n",
      "1210  2015-09-01  soppressata_s         1\n",
      "1317  2015-10-01  soppressata_s         1\n",
      "...          ...            ...       ...\n",
      "47879 2015-12-23  soppressata_s         1\n",
      "48135 2015-12-27  soppressata_s         1\n",
      "48207 2015-12-28  soppressata_s         1\n",
      "48291 2015-12-28  soppressata_s         1\n",
      "48504 2015-12-31  soppressata_s         1\n",
      "\n",
      "[288 rows x 3 columns]\n",
      "      order_date pizza_name_id  quantity\n",
      "768   2015-06-01   calabrese_l         1\n",
      "961   2015-07-01   calabrese_l         1\n",
      "974   2015-07-01   calabrese_l         1\n",
      "1337  2015-10-01   calabrese_l         1\n",
      "1425  2015-11-01   calabrese_l         1\n",
      "...          ...           ...       ...\n",
      "48104 2015-12-26   calabrese_l         1\n",
      "48311 2015-12-29   calabrese_l         1\n",
      "48326 2015-12-29   calabrese_l         1\n",
      "48507 2015-12-31   calabrese_l         1\n",
      "48602 2015-12-31   calabrese_l         1\n",
      "\n",
      "[274 rows x 3 columns]\n",
      "      order_date  pizza_name_id  quantity\n",
      "3447  2015-01-26  the_greek_xxl         1\n",
      "3563  2015-01-27  the_greek_xxl         1\n",
      "5901  2015-02-13  the_greek_xxl         1\n",
      "6365  2015-02-16  the_greek_xxl         1\n",
      "7490  2015-02-25  the_greek_xxl         1\n",
      "9844  2015-03-14  the_greek_xxl         1\n",
      "10282 2015-03-17  the_greek_xxl         1\n",
      "10875 2015-03-21  the_greek_xxl         1\n",
      "13511 2015-10-04  the_greek_xxl         1\n",
      "13779 2015-12-04  the_greek_xxl         1\n",
      "14029 2015-04-13  the_greek_xxl         1\n",
      "15330 2015-04-23  the_greek_xxl         1\n",
      "17114 2015-07-05  the_greek_xxl         1\n",
      "19441 2015-05-23  the_greek_xxl         1\n",
      "20497 2015-05-31  the_greek_xxl         1\n",
      "22903 2015-06-18  the_greek_xxl         1\n",
      "23298 2015-06-21  the_greek_xxl         1\n",
      "30207 2015-11-08  the_greek_xxl         1\n",
      "32199 2015-08-25  the_greek_xxl         1\n",
      "35953 2015-09-22  the_greek_xxl         1\n",
      "36037 2015-09-23  the_greek_xxl         1\n",
      "36507 2015-09-29  the_greek_xxl         1\n",
      "37943 2015-10-10  the_greek_xxl         1\n",
      "39732 2015-10-24  the_greek_xxl         1\n",
      "41182 2015-05-11  the_greek_xxl         1\n",
      "42717 2015-11-17  the_greek_xxl         1\n",
      "43040 2015-11-19  the_greek_xxl         1\n",
      "47489 2015-12-20  the_greek_xxl         1\n"
     ]
    }
   ],
   "source": [
    "for pizza_name in pizza_name_df:\n",
    "    print (globals()[f'{pizza_name[0]}'])"
   ]
  },
  {
   "cell_type": "code",
   "execution_count": null,
   "metadata": {},
   "outputs": [],
   "source": []
  },
  {
   "cell_type": "code",
   "execution_count": 28,
   "metadata": {},
   "outputs": [
    {
     "ename": "AttributeError",
     "evalue": "'Series' object has no attribute 'set_index'",
     "output_type": "error",
     "traceback": [
      "\u001b[1;31m---------------------------------------------------------------------------\u001b[0m",
      "\u001b[1;31mAttributeError\u001b[0m                            Traceback (most recent call last)",
      "\u001b[1;32m~\\AppData\\Local\\Temp\\ipykernel_11456\\1101476960.py\u001b[0m in \u001b[0;36m?\u001b[1;34m()\u001b[0m\n\u001b[0;32m      1\u001b[0m \u001b[1;33m\u001b[0m\u001b[0m\n\u001b[0;32m      2\u001b[0m \u001b[1;32mfor\u001b[0m \u001b[0mpizza_name\u001b[0m \u001b[1;32min\u001b[0m \u001b[0mpizza_name_df\u001b[0m\u001b[1;33m:\u001b[0m\u001b[1;33m\u001b[0m\u001b[1;33m\u001b[0m\u001b[0m\n\u001b[0;32m      3\u001b[0m     \u001b[1;31m# globals()[f'{pizza_name[0]}'] = pizza_df(sales_df,pizza_name[0])\u001b[0m\u001b[1;33m\u001b[0m\u001b[1;33m\u001b[0m\u001b[0m\n\u001b[1;32m----> 4\u001b[1;33m     \u001b[0mglobals\u001b[0m\u001b[1;33m(\u001b[0m\u001b[1;33m)\u001b[0m\u001b[1;33m[\u001b[0m\u001b[1;33mf'\u001b[0m\u001b[1;33m{\u001b[0m\u001b[0mpizza_name\u001b[0m\u001b[1;33m[\u001b[0m\u001b[1;36m0\u001b[0m\u001b[1;33m]\u001b[0m\u001b[1;33m}\u001b[0m\u001b[1;33m'\u001b[0m\u001b[1;33m]\u001b[0m \u001b[1;33m=\u001b[0m \u001b[0msales_feature\u001b[0m\u001b[1;33m(\u001b[0m\u001b[0mglobals\u001b[0m\u001b[1;33m(\u001b[0m\u001b[1;33m)\u001b[0m\u001b[1;33m[\u001b[0m\u001b[1;33mf'\u001b[0m\u001b[1;33m{\u001b[0m\u001b[0mpizza_name\u001b[0m\u001b[1;33m[\u001b[0m\u001b[1;36m0\u001b[0m\u001b[1;33m]\u001b[0m\u001b[1;33m}\u001b[0m\u001b[1;33m'\u001b[0m\u001b[1;33m]\u001b[0m\u001b[1;33m)\u001b[0m\u001b[1;33m\u001b[0m\u001b[1;33m\u001b[0m\u001b[0m\n\u001b[0m\u001b[0;32m      5\u001b[0m     \u001b[0mglobals\u001b[0m\u001b[1;33m(\u001b[0m\u001b[1;33m)\u001b[0m\u001b[1;33m[\u001b[0m\u001b[1;33mf'\u001b[0m\u001b[1;33m{\u001b[0m\u001b[0mpizza_name\u001b[0m\u001b[1;33m[\u001b[0m\u001b[1;36m0\u001b[0m\u001b[1;33m]\u001b[0m\u001b[1;33m}\u001b[0m\u001b[1;33m'\u001b[0m\u001b[1;33m]\u001b[0m \u001b[1;33m=\u001b[0m \u001b[0mmodel_training\u001b[0m\u001b[1;33m(\u001b[0m\u001b[0mglobals\u001b[0m\u001b[1;33m(\u001b[0m\u001b[1;33m)\u001b[0m\u001b[1;33m[\u001b[0m\u001b[1;33mf'\u001b[0m\u001b[1;33m{\u001b[0m\u001b[0mpizza_name\u001b[0m\u001b[1;33m[\u001b[0m\u001b[1;36m0\u001b[0m\u001b[1;33m]\u001b[0m\u001b[1;33m}\u001b[0m\u001b[1;33m'\u001b[0m\u001b[1;33m]\u001b[0m\u001b[1;33m)\u001b[0m\u001b[1;33m\u001b[0m\u001b[1;33m\u001b[0m\u001b[0m\n\u001b[0;32m      6\u001b[0m \u001b[1;33m\u001b[0m\u001b[0m\n\u001b[0;32m      7\u001b[0m \u001b[1;33m\u001b[0m\u001b[0m\n",
      "\u001b[1;32m~\\AppData\\Local\\Temp\\ipykernel_11456\\2121723224.py\u001b[0m in \u001b[0;36m?\u001b[1;34m(df)\u001b[0m\n\u001b[0;32m      1\u001b[0m \u001b[1;32mdef\u001b[0m \u001b[0msales_feature\u001b[0m\u001b[1;33m(\u001b[0m\u001b[0mdf\u001b[0m\u001b[1;33m)\u001b[0m\u001b[1;33m:\u001b[0m\u001b[1;33m\u001b[0m\u001b[1;33m\u001b[0m\u001b[0m\n\u001b[1;32m----> 2\u001b[1;33m     \u001b[0mdf\u001b[0m\u001b[1;33m.\u001b[0m\u001b[0mset_index\u001b[0m\u001b[1;33m(\u001b[0m\u001b[1;34m'order_date'\u001b[0m\u001b[1;33m,\u001b[0m\u001b[0minplace\u001b[0m\u001b[1;33m=\u001b[0m\u001b[1;32mTrue\u001b[0m\u001b[1;33m)\u001b[0m\u001b[1;33m\u001b[0m\u001b[1;33m\u001b[0m\u001b[0m\n\u001b[0m\u001b[0;32m      3\u001b[0m     \u001b[0mdf\u001b[0m\u001b[1;33m[\u001b[0m\u001b[1;34m'daily_sales'\u001b[0m\u001b[1;33m]\u001b[0m \u001b[1;33m=\u001b[0m \u001b[0mdf\u001b[0m\u001b[1;33m[\u001b[0m\u001b[1;34m'quantity'\u001b[0m\u001b[1;33m]\u001b[0m\u001b[1;33m.\u001b[0m\u001b[0mresample\u001b[0m\u001b[1;33m(\u001b[0m\u001b[1;34m'D'\u001b[0m\u001b[1;33m)\u001b[0m\u001b[1;33m.\u001b[0m\u001b[0msum\u001b[0m\u001b[1;33m(\u001b[0m\u001b[1;33m)\u001b[0m\u001b[1;33m\u001b[0m\u001b[1;33m\u001b[0m\u001b[0m\n\u001b[0;32m      4\u001b[0m     \u001b[0mdf\u001b[0m\u001b[1;33m.\u001b[0m\u001b[0mdrop\u001b[0m\u001b[1;33m(\u001b[0m\u001b[0mcolumns\u001b[0m \u001b[1;33m=\u001b[0m \u001b[1;33m[\u001b[0m\u001b[1;34m'pizza_name_id'\u001b[0m\u001b[1;33m,\u001b[0m\u001b[1;34m'quantity'\u001b[0m\u001b[1;33m]\u001b[0m\u001b[1;33m,\u001b[0m\u001b[0minplace\u001b[0m\u001b[1;33m=\u001b[0m\u001b[1;32mTrue\u001b[0m\u001b[1;33m)\u001b[0m\u001b[1;33m\u001b[0m\u001b[1;33m\u001b[0m\u001b[0m\n\u001b[0;32m      5\u001b[0m     \u001b[0mfeature_engineering\u001b[0m\u001b[1;33m(\u001b[0m\u001b[0mdf\u001b[0m\u001b[1;33m)\u001b[0m\u001b[1;33m\u001b[0m\u001b[1;33m\u001b[0m\u001b[0m\n",
      "\u001b[1;32ms:\\Pizza\\.venv\\Lib\\site-packages\\pandas\\core\\generic.py\u001b[0m in \u001b[0;36m?\u001b[1;34m(self, name)\u001b[0m\n\u001b[0;32m   6295\u001b[0m             \u001b[1;32mand\u001b[0m \u001b[0mname\u001b[0m \u001b[1;32mnot\u001b[0m \u001b[1;32min\u001b[0m \u001b[0mself\u001b[0m\u001b[1;33m.\u001b[0m\u001b[0m_accessors\u001b[0m\u001b[1;33m\u001b[0m\u001b[1;33m\u001b[0m\u001b[0m\n\u001b[0;32m   6296\u001b[0m             \u001b[1;32mand\u001b[0m \u001b[0mself\u001b[0m\u001b[1;33m.\u001b[0m\u001b[0m_info_axis\u001b[0m\u001b[1;33m.\u001b[0m\u001b[0m_can_hold_identifiers_and_holds_name\u001b[0m\u001b[1;33m(\u001b[0m\u001b[0mname\u001b[0m\u001b[1;33m)\u001b[0m\u001b[1;33m\u001b[0m\u001b[1;33m\u001b[0m\u001b[0m\n\u001b[0;32m   6297\u001b[0m         \u001b[1;33m)\u001b[0m\u001b[1;33m:\u001b[0m\u001b[1;33m\u001b[0m\u001b[1;33m\u001b[0m\u001b[0m\n\u001b[0;32m   6298\u001b[0m             \u001b[1;32mreturn\u001b[0m \u001b[0mself\u001b[0m\u001b[1;33m[\u001b[0m\u001b[0mname\u001b[0m\u001b[1;33m]\u001b[0m\u001b[1;33m\u001b[0m\u001b[1;33m\u001b[0m\u001b[0m\n\u001b[1;32m-> 6299\u001b[1;33m         \u001b[1;32mreturn\u001b[0m \u001b[0mobject\u001b[0m\u001b[1;33m.\u001b[0m\u001b[0m__getattribute__\u001b[0m\u001b[1;33m(\u001b[0m\u001b[0mself\u001b[0m\u001b[1;33m,\u001b[0m \u001b[0mname\u001b[0m\u001b[1;33m)\u001b[0m\u001b[1;33m\u001b[0m\u001b[1;33m\u001b[0m\u001b[0m\n\u001b[0m",
      "\u001b[1;31mAttributeError\u001b[0m: 'Series' object has no attribute 'set_index'"
     ]
    }
   ],
   "source": [
    "\n",
    "for pizza_name in pizza_name_df:\n",
    "    # globals()[f'{pizza_name[0]}'] = pizza_df(sales_df,pizza_name[0])\n",
    "    globals()[f'{pizza_name[0]}'] = sales_feature(globals()[f'{pizza_name[0]}'])\n",
    "    globals()[f'{pizza_name[0]}'] = model_training(globals()[f'{pizza_name[0]}'])\n",
    "        \n",
    "   \n",
    "\n"
   ]
  },
  {
   "cell_type": "code",
   "execution_count": null,
   "metadata": {},
   "outputs": [],
   "source": []
  },
  {
   "cell_type": "code",
   "execution_count": 70,
   "metadata": {},
   "outputs": [],
   "source": [
    "big_meat_s_df.set_index('order_date',inplace=True)"
   ]
  },
  {
   "cell_type": "code",
   "execution_count": 71,
   "metadata": {},
   "outputs": [
    {
     "data": {
      "text/html": [
       "<div>\n",
       "<style scoped>\n",
       "    .dataframe tbody tr th:only-of-type {\n",
       "        vertical-align: middle;\n",
       "    }\n",
       "\n",
       "    .dataframe tbody tr th {\n",
       "        vertical-align: top;\n",
       "    }\n",
       "\n",
       "    .dataframe thead th {\n",
       "        text-align: right;\n",
       "    }\n",
       "</style>\n",
       "<table border=\"1\" class=\"dataframe\">\n",
       "  <thead>\n",
       "    <tr style=\"text-align: right;\">\n",
       "      <th></th>\n",
       "      <th>pizza_name_id</th>\n",
       "      <th>quantity</th>\n",
       "    </tr>\n",
       "    <tr>\n",
       "      <th>order_date</th>\n",
       "      <th></th>\n",
       "      <th></th>\n",
       "    </tr>\n",
       "  </thead>\n",
       "  <tbody>\n",
       "    <tr>\n",
       "      <th>2015-01-01</th>\n",
       "      <td>big_meat_s</td>\n",
       "      <td>1</td>\n",
       "    </tr>\n",
       "    <tr>\n",
       "      <th>2015-01-01</th>\n",
       "      <td>big_meat_s</td>\n",
       "      <td>1</td>\n",
       "    </tr>\n",
       "    <tr>\n",
       "      <th>2015-01-01</th>\n",
       "      <td>big_meat_s</td>\n",
       "      <td>1</td>\n",
       "    </tr>\n",
       "  </tbody>\n",
       "</table>\n",
       "</div>"
      ],
      "text/plain": [
       "           pizza_name_id  quantity\n",
       "order_date                        \n",
       "2015-01-01    big_meat_s         1\n",
       "2015-01-01    big_meat_s         1\n",
       "2015-01-01    big_meat_s         1"
      ]
     },
     "execution_count": 71,
     "metadata": {},
     "output_type": "execute_result"
    }
   ],
   "source": [
    "big_meat_s_df.head(3)\n"
   ]
  },
  {
   "cell_type": "code",
   "execution_count": 72,
   "metadata": {},
   "outputs": [
    {
     "name": "stderr",
     "output_type": "stream",
     "text": [
      "C:\\Users\\Hp\\AppData\\Local\\Temp\\ipykernel_16928\\771646240.py:1: SettingWithCopyWarning: \n",
      "A value is trying to be set on a copy of a slice from a DataFrame.\n",
      "Try using .loc[row_indexer,col_indexer] = value instead\n",
      "\n",
      "See the caveats in the documentation: https://pandas.pydata.org/pandas-docs/stable/user_guide/indexing.html#returning-a-view-versus-a-copy\n",
      "  big_meat_s_df['daily_sales'] = big_meat_s_df['quantity'].resample('D').sum()\n"
     ]
    },
    {
     "data": {
      "text/html": [
       "<div>\n",
       "<style scoped>\n",
       "    .dataframe tbody tr th:only-of-type {\n",
       "        vertical-align: middle;\n",
       "    }\n",
       "\n",
       "    .dataframe tbody tr th {\n",
       "        vertical-align: top;\n",
       "    }\n",
       "\n",
       "    .dataframe thead th {\n",
       "        text-align: right;\n",
       "    }\n",
       "</style>\n",
       "<table border=\"1\" class=\"dataframe\">\n",
       "  <thead>\n",
       "    <tr style=\"text-align: right;\">\n",
       "      <th></th>\n",
       "      <th>pizza_name_id</th>\n",
       "      <th>quantity</th>\n",
       "      <th>daily_sales</th>\n",
       "    </tr>\n",
       "    <tr>\n",
       "      <th>order_date</th>\n",
       "      <th></th>\n",
       "      <th></th>\n",
       "      <th></th>\n",
       "    </tr>\n",
       "  </thead>\n",
       "  <tbody>\n",
       "    <tr>\n",
       "      <th>2015-01-01</th>\n",
       "      <td>big_meat_s</td>\n",
       "      <td>1</td>\n",
       "      <td>5</td>\n",
       "    </tr>\n",
       "    <tr>\n",
       "      <th>2015-01-01</th>\n",
       "      <td>big_meat_s</td>\n",
       "      <td>1</td>\n",
       "      <td>5</td>\n",
       "    </tr>\n",
       "  </tbody>\n",
       "</table>\n",
       "</div>"
      ],
      "text/plain": [
       "           pizza_name_id  quantity  daily_sales\n",
       "order_date                                     \n",
       "2015-01-01    big_meat_s         1            5\n",
       "2015-01-01    big_meat_s         1            5"
      ]
     },
     "execution_count": 72,
     "metadata": {},
     "output_type": "execute_result"
    }
   ],
   "source": [
    "big_meat_s_df['daily_sales'] = big_meat_s_df['quantity'].resample('D').sum()\n",
    "big_meat_s_df.head(2)"
   ]
  },
  {
   "cell_type": "code",
   "execution_count": 73,
   "metadata": {},
   "outputs": [
    {
     "name": "stderr",
     "output_type": "stream",
     "text": [
      "C:\\Users\\Hp\\AppData\\Local\\Temp\\ipykernel_16928\\120645902.py:1: SettingWithCopyWarning: \n",
      "A value is trying to be set on a copy of a slice from a DataFrame\n",
      "\n",
      "See the caveats in the documentation: https://pandas.pydata.org/pandas-docs/stable/user_guide/indexing.html#returning-a-view-versus-a-copy\n",
      "  big_meat_s_df.drop(columns = ['pizza_name_id','quantity'],inplace=True)\n"
     ]
    }
   ],
   "source": [
    "big_meat_s_df.drop(columns = ['pizza_name_id','quantity'],inplace=True)"
   ]
  },
  {
   "cell_type": "code",
   "execution_count": 74,
   "metadata": {},
   "outputs": [
    {
     "data": {
      "text/html": [
       "<div>\n",
       "<style scoped>\n",
       "    .dataframe tbody tr th:only-of-type {\n",
       "        vertical-align: middle;\n",
       "    }\n",
       "\n",
       "    .dataframe tbody tr th {\n",
       "        vertical-align: top;\n",
       "    }\n",
       "\n",
       "    .dataframe thead th {\n",
       "        text-align: right;\n",
       "    }\n",
       "</style>\n",
       "<table border=\"1\" class=\"dataframe\">\n",
       "  <thead>\n",
       "    <tr style=\"text-align: right;\">\n",
       "      <th></th>\n",
       "      <th>daily_sales</th>\n",
       "    </tr>\n",
       "    <tr>\n",
       "      <th>order_date</th>\n",
       "      <th></th>\n",
       "    </tr>\n",
       "  </thead>\n",
       "  <tbody>\n",
       "    <tr>\n",
       "      <th>2015-01-01</th>\n",
       "      <td>5</td>\n",
       "    </tr>\n",
       "    <tr>\n",
       "      <th>2015-01-01</th>\n",
       "      <td>5</td>\n",
       "    </tr>\n",
       "  </tbody>\n",
       "</table>\n",
       "</div>"
      ],
      "text/plain": [
       "            daily_sales\n",
       "order_date             \n",
       "2015-01-01            5\n",
       "2015-01-01            5"
      ]
     },
     "execution_count": 74,
     "metadata": {},
     "output_type": "execute_result"
    }
   ],
   "source": [
    "big_meat_s_df.head(2)"
   ]
  },
  {
   "cell_type": "code",
   "execution_count": 78,
   "metadata": {},
   "outputs": [
    {
     "name": "stderr",
     "output_type": "stream",
     "text": [
      "C:\\Users\\Hp\\AppData\\Local\\Temp\\ipykernel_16928\\3662051998.py:4: SettingWithCopyWarning: \n",
      "A value is trying to be set on a copy of a slice from a DataFrame.\n",
      "Try using .loc[row_indexer,col_indexer] = value instead\n",
      "\n",
      "See the caveats in the documentation: https://pandas.pydata.org/pandas-docs/stable/user_guide/indexing.html#returning-a-view-versus-a-copy\n",
      "  df['hour'] = df.index.hour\n",
      "C:\\Users\\Hp\\AppData\\Local\\Temp\\ipykernel_16928\\3662051998.py:5: SettingWithCopyWarning: \n",
      "A value is trying to be set on a copy of a slice from a DataFrame.\n",
      "Try using .loc[row_indexer,col_indexer] = value instead\n",
      "\n",
      "See the caveats in the documentation: https://pandas.pydata.org/pandas-docs/stable/user_guide/indexing.html#returning-a-view-versus-a-copy\n",
      "  df['dayofweek'] = df.index.dayofweek\n",
      "C:\\Users\\Hp\\AppData\\Local\\Temp\\ipykernel_16928\\3662051998.py:6: SettingWithCopyWarning: \n",
      "A value is trying to be set on a copy of a slice from a DataFrame.\n",
      "Try using .loc[row_indexer,col_indexer] = value instead\n",
      "\n",
      "See the caveats in the documentation: https://pandas.pydata.org/pandas-docs/stable/user_guide/indexing.html#returning-a-view-versus-a-copy\n",
      "  df['quarter'] = df.index.quarter\n",
      "C:\\Users\\Hp\\AppData\\Local\\Temp\\ipykernel_16928\\3662051998.py:7: SettingWithCopyWarning: \n",
      "A value is trying to be set on a copy of a slice from a DataFrame.\n",
      "Try using .loc[row_indexer,col_indexer] = value instead\n",
      "\n",
      "See the caveats in the documentation: https://pandas.pydata.org/pandas-docs/stable/user_guide/indexing.html#returning-a-view-versus-a-copy\n",
      "  df['month'] = df.index.month\n",
      "C:\\Users\\Hp\\AppData\\Local\\Temp\\ipykernel_16928\\3662051998.py:8: SettingWithCopyWarning: \n",
      "A value is trying to be set on a copy of a slice from a DataFrame.\n",
      "Try using .loc[row_indexer,col_indexer] = value instead\n",
      "\n",
      "See the caveats in the documentation: https://pandas.pydata.org/pandas-docs/stable/user_guide/indexing.html#returning-a-view-versus-a-copy\n",
      "  df['year'] = df.index.year\n",
      "C:\\Users\\Hp\\AppData\\Local\\Temp\\ipykernel_16928\\3662051998.py:9: SettingWithCopyWarning: \n",
      "A value is trying to be set on a copy of a slice from a DataFrame.\n",
      "Try using .loc[row_indexer,col_indexer] = value instead\n",
      "\n",
      "See the caveats in the documentation: https://pandas.pydata.org/pandas-docs/stable/user_guide/indexing.html#returning-a-view-versus-a-copy\n",
      "  df['dayofyear'] = df.index.dayofyear\n",
      "C:\\Users\\Hp\\AppData\\Local\\Temp\\ipykernel_16928\\3662051998.py:10: SettingWithCopyWarning: \n",
      "A value is trying to be set on a copy of a slice from a DataFrame.\n",
      "Try using .loc[row_indexer,col_indexer] = value instead\n",
      "\n",
      "See the caveats in the documentation: https://pandas.pydata.org/pandas-docs/stable/user_guide/indexing.html#returning-a-view-versus-a-copy\n",
      "  df['dayofmonth'] = df.index.day\n",
      "C:\\Users\\Hp\\AppData\\Local\\Temp\\ipykernel_16928\\3662051998.py:11: SettingWithCopyWarning: \n",
      "A value is trying to be set on a copy of a slice from a DataFrame.\n",
      "Try using .loc[row_indexer,col_indexer] = value instead\n",
      "\n",
      "See the caveats in the documentation: https://pandas.pydata.org/pandas-docs/stable/user_guide/indexing.html#returning-a-view-versus-a-copy\n",
      "  df['weekofyear'] = df.index.isocalendar().week\n",
      "C:\\Users\\Hp\\AppData\\Local\\Temp\\ipykernel_16928\\1754053094.py:3: SettingWithCopyWarning: \n",
      "A value is trying to be set on a copy of a slice from a DataFrame.\n",
      "Try using .loc[row_indexer,col_indexer] = value instead\n",
      "\n",
      "See the caveats in the documentation: https://pandas.pydata.org/pandas-docs/stable/user_guide/indexing.html#returning-a-view-versus-a-copy\n",
      "  df['lag1'] = (df.index - pd.Timedelta('30 days')).map(target_map)\n",
      "C:\\Users\\Hp\\AppData\\Local\\Temp\\ipykernel_16928\\1754053094.py:4: SettingWithCopyWarning: \n",
      "A value is trying to be set on a copy of a slice from a DataFrame.\n",
      "Try using .loc[row_indexer,col_indexer] = value instead\n",
      "\n",
      "See the caveats in the documentation: https://pandas.pydata.org/pandas-docs/stable/user_guide/indexing.html#returning-a-view-versus-a-copy\n",
      "  df['lag2'] = (df.index - pd.Timedelta('60 days')).map(target_map)\n",
      "C:\\Users\\Hp\\AppData\\Local\\Temp\\ipykernel_16928\\1754053094.py:5: SettingWithCopyWarning: \n",
      "A value is trying to be set on a copy of a slice from a DataFrame.\n",
      "Try using .loc[row_indexer,col_indexer] = value instead\n",
      "\n",
      "See the caveats in the documentation: https://pandas.pydata.org/pandas-docs/stable/user_guide/indexing.html#returning-a-view-versus-a-copy\n",
      "  df['lag3'] = (df.index - pd.Timedelta('90 days')).map(target_map)\n"
     ]
    },
    {
     "data": {
      "text/html": [
       "<div>\n",
       "<style scoped>\n",
       "    .dataframe tbody tr th:only-of-type {\n",
       "        vertical-align: middle;\n",
       "    }\n",
       "\n",
       "    .dataframe tbody tr th {\n",
       "        vertical-align: top;\n",
       "    }\n",
       "\n",
       "    .dataframe thead th {\n",
       "        text-align: right;\n",
       "    }\n",
       "</style>\n",
       "<table border=\"1\" class=\"dataframe\">\n",
       "  <thead>\n",
       "    <tr style=\"text-align: right;\">\n",
       "      <th></th>\n",
       "      <th>daily_sales</th>\n",
       "      <th>hour</th>\n",
       "      <th>dayofweek</th>\n",
       "      <th>quarter</th>\n",
       "      <th>month</th>\n",
       "      <th>year</th>\n",
       "      <th>dayofyear</th>\n",
       "      <th>dayofmonth</th>\n",
       "      <th>weekofyear</th>\n",
       "      <th>lag1</th>\n",
       "      <th>lag2</th>\n",
       "      <th>lag3</th>\n",
       "    </tr>\n",
       "    <tr>\n",
       "      <th>order_date</th>\n",
       "      <th></th>\n",
       "      <th></th>\n",
       "      <th></th>\n",
       "      <th></th>\n",
       "      <th></th>\n",
       "      <th></th>\n",
       "      <th></th>\n",
       "      <th></th>\n",
       "      <th></th>\n",
       "      <th></th>\n",
       "      <th></th>\n",
       "      <th></th>\n",
       "    </tr>\n",
       "  </thead>\n",
       "  <tbody>\n",
       "    <tr>\n",
       "      <th>2015-01-01</th>\n",
       "      <td>5</td>\n",
       "      <td>0</td>\n",
       "      <td>3</td>\n",
       "      <td>1</td>\n",
       "      <td>1</td>\n",
       "      <td>2015</td>\n",
       "      <td>1</td>\n",
       "      <td>1</td>\n",
       "      <td>1</td>\n",
       "      <td>NaN</td>\n",
       "      <td>NaN</td>\n",
       "      <td>NaN</td>\n",
       "    </tr>\n",
       "    <tr>\n",
       "      <th>2015-01-01</th>\n",
       "      <td>5</td>\n",
       "      <td>0</td>\n",
       "      <td>3</td>\n",
       "      <td>1</td>\n",
       "      <td>1</td>\n",
       "      <td>2015</td>\n",
       "      <td>1</td>\n",
       "      <td>1</td>\n",
       "      <td>1</td>\n",
       "      <td>NaN</td>\n",
       "      <td>NaN</td>\n",
       "      <td>NaN</td>\n",
       "    </tr>\n",
       "  </tbody>\n",
       "</table>\n",
       "</div>"
      ],
      "text/plain": [
       "            daily_sales  hour  dayofweek  quarter  month  year  dayofyear  \\\n",
       "order_date                                                                  \n",
       "2015-01-01            5     0          3        1      1  2015          1   \n",
       "2015-01-01            5     0          3        1      1  2015          1   \n",
       "\n",
       "            dayofmonth  weekofyear  lag1  lag2  lag3  \n",
       "order_date                                            \n",
       "2015-01-01           1           1   NaN   NaN   NaN  \n",
       "2015-01-01           1           1   NaN   NaN   NaN  "
      ]
     },
     "execution_count": 78,
     "metadata": {},
     "output_type": "execute_result"
    }
   ],
   "source": [
    "feature_engineering(big_meat_s_df)\n",
    "big_meat_s_df.head(2)"
   ]
  },
  {
   "cell_type": "code",
   "execution_count": 79,
   "metadata": {},
   "outputs": [],
   "source": [
    "from sklearn.model_selection import TimeSeriesSplit\n",
    "\n",
    "tss = TimeSeriesSplit(n_splits=5, test_size=30, gap=1)\n",
    "df = big_meat_s_df.sort_index()"
   ]
  },
  {
   "cell_type": "code",
   "execution_count": 80,
   "metadata": {},
   "outputs": [
    {
     "name": "stdout",
     "output_type": "stream",
     "text": [
      "[0]\tvalidation_0-rmse:6.45339\tvalidation_1-rmse:6.41680\n",
      "[100]\tvalidation_0-rmse:3.25960\tvalidation_1-rmse:2.99937\n",
      "[200]\tvalidation_0-rmse:2.44901\tvalidation_1-rmse:2.06681\n"
     ]
    },
    {
     "name": "stderr",
     "output_type": "stream",
     "text": [
      "s:\\Pizza\\.venv\\Lib\\site-packages\\xgboost\\core.py:158: UserWarning: [17:56:57] WARNING: C:\\buildkite-agent\\builds\\buildkite-windows-cpu-autoscaling-group-i-06abd128ca6c1688d-1\\xgboost\\xgboost-ci-windows\\src\\objective\\regression_obj.cu:227: reg:linear is now deprecated in favor of reg:squarederror.\n",
      "  warnings.warn(smsg, UserWarning)\n"
     ]
    },
    {
     "name": "stdout",
     "output_type": "stream",
     "text": [
      "[300]\tvalidation_0-rmse:2.23080\tvalidation_1-rmse:1.84927\n",
      "[399]\tvalidation_0-rmse:2.11889\tvalidation_1-rmse:1.77972\n",
      "[0]\tvalidation_0-rmse:6.45505\tvalidation_1-rmse:3.13420\n",
      "[100]\tvalidation_0-rmse:3.24911\tvalidation_1-rmse:1.19415\n",
      "[122]\tvalidation_0-rmse:2.95843\tvalidation_1-rmse:1.48016\n",
      "[0]\tvalidation_0-rmse:6.41298\tvalidation_1-rmse:6.80545\n"
     ]
    },
    {
     "name": "stderr",
     "output_type": "stream",
     "text": [
      "s:\\Pizza\\.venv\\Lib\\site-packages\\xgboost\\core.py:158: UserWarning: [17:56:57] WARNING: C:\\buildkite-agent\\builds\\buildkite-windows-cpu-autoscaling-group-i-06abd128ca6c1688d-1\\xgboost\\xgboost-ci-windows\\src\\objective\\regression_obj.cu:227: reg:linear is now deprecated in favor of reg:squarederror.\n",
      "  warnings.warn(smsg, UserWarning)\n",
      "s:\\Pizza\\.venv\\Lib\\site-packages\\xgboost\\core.py:158: UserWarning: [17:56:57] WARNING: C:\\buildkite-agent\\builds\\buildkite-windows-cpu-autoscaling-group-i-06abd128ca6c1688d-1\\xgboost\\xgboost-ci-windows\\src\\objective\\regression_obj.cu:227: reg:linear is now deprecated in favor of reg:squarederror.\n",
      "  warnings.warn(smsg, UserWarning)\n"
     ]
    },
    {
     "name": "stdout",
     "output_type": "stream",
     "text": [
      "[100]\tvalidation_0-rmse:3.26211\tvalidation_1-rmse:4.74835\n",
      "[200]\tvalidation_0-rmse:2.46981\tvalidation_1-rmse:4.13148\n",
      "[300]\tvalidation_0-rmse:2.25609\tvalidation_1-rmse:3.95428\n",
      "[399]\tvalidation_0-rmse:2.15897\tvalidation_1-rmse:3.91568\n",
      "[0]\tvalidation_0-rmse:6.41834\tvalidation_1-rmse:6.83535\n",
      "[100]\tvalidation_0-rmse:3.24374\tvalidation_1-rmse:3.76561\n",
      "[200]\tvalidation_0-rmse:2.43893\tvalidation_1-rmse:2.66494\n"
     ]
    },
    {
     "name": "stderr",
     "output_type": "stream",
     "text": [
      "s:\\Pizza\\.venv\\Lib\\site-packages\\xgboost\\core.py:158: UserWarning: [17:56:58] WARNING: C:\\buildkite-agent\\builds\\buildkite-windows-cpu-autoscaling-group-i-06abd128ca6c1688d-1\\xgboost\\xgboost-ci-windows\\src\\objective\\regression_obj.cu:227: reg:linear is now deprecated in favor of reg:squarederror.\n",
      "  warnings.warn(smsg, UserWarning)\n"
     ]
    },
    {
     "name": "stdout",
     "output_type": "stream",
     "text": [
      "[300]\tvalidation_0-rmse:2.23813\tvalidation_1-rmse:2.34547\n",
      "[399]\tvalidation_0-rmse:2.14295\tvalidation_1-rmse:2.18918\n",
      "[0]\tvalidation_0-rmse:6.42433\tvalidation_1-rmse:5.35941\n",
      "[100]\tvalidation_0-rmse:3.23543\tvalidation_1-rmse:2.08691\n",
      "[200]\tvalidation_0-rmse:2.45183\tvalidation_1-rmse:1.55665\n",
      "[254]\tvalidation_0-rmse:2.31499\tvalidation_1-rmse:1.61643\n"
     ]
    },
    {
     "name": "stderr",
     "output_type": "stream",
     "text": [
      "s:\\Pizza\\.venv\\Lib\\site-packages\\xgboost\\core.py:158: UserWarning: [17:56:58] WARNING: C:\\buildkite-agent\\builds\\buildkite-windows-cpu-autoscaling-group-i-06abd128ca6c1688d-1\\xgboost\\xgboost-ci-windows\\src\\objective\\regression_obj.cu:227: reg:linear is now deprecated in favor of reg:squarederror.\n",
      "  warnings.warn(smsg, UserWarning)\n"
     ]
    }
   ],
   "source": [
    "import xgboost as xgb\n",
    "import numpy as np \n",
    "from sklearn.metrics import mean_squared_error\n",
    "\n",
    "fold = 0\n",
    "preds = []\n",
    "scores = []\n",
    "for train_idx, val_idx in tss.split(df):\n",
    "    train = df.iloc[train_idx]\n",
    "    test = df.iloc[val_idx]\n",
    "\n",
    "    #train = create_features(train)\n",
    "    #test = create_features(test)\n",
    "\n",
    "    FEATURES = ['dayofyear', 'hour', 'dayofweek', 'quarter', 'month','year',\n",
    "                'lag1','lag2','lag3']\n",
    "    TARGET = 'daily_sales'\n",
    "\n",
    "    X_train = train[FEATURES]\n",
    "    y_train = train[TARGET]\n",
    "\n",
    "    X_test = test[FEATURES]\n",
    "    y_test = test[TARGET]\n",
    "\n",
    "    reg = xgb.XGBRegressor(base_score=0.5, booster='gbtree',\n",
    "                           n_estimators=400,\n",
    "                           early_stopping_rounds=50,\n",
    "                           objective='reg:linear',\n",
    "                           max_depth=3,\n",
    "                           learning_rate=0.01)\n",
    "    reg.fit(X_train, y_train,\n",
    "            eval_set=[(X_train, y_train), (X_test, y_test)],\n",
    "            verbose=100)\n",
    "\n",
    "    y_pred = reg.predict(X_test)\n",
    "    preds.append(y_pred)\n",
    "    score = np.sqrt(mean_squared_error(y_test, y_pred))\n",
    "    scores.append(score)"
   ]
  },
  {
   "cell_type": "code",
   "execution_count": 82,
   "metadata": {},
   "outputs": [
    {
     "data": {
      "image/png": "[encoded data removed]",
      "text/plain": [
       "<Figure size 640x480 with 1 Axes>"
      ]
     },
     "metadata": {},
     "output_type": "display_data"
    }
   ],
   "source": [
    "import matplotlib.pyplot as plt\n",
    "fi = pd.DataFrame(data=reg.feature_importances_,\n",
    "             index=reg.feature_names_in_,\n",
    "             columns=['importance'])\n",
    "fi.sort_values('importance').plot(kind='barh', title='Feature Importance')\n",
    "plt.show()"
   ]
  },
  {
   "cell_type": "code",
   "execution_count": 83,
   "metadata": {},
   "outputs": [
    {
     "data": {
      "text/plain": [
       "np.float64(0.2657631656858656)"
      ]
     },
     "execution_count": 83,
     "metadata": {},
     "output_type": "execute_result"
    }
   ],
   "source": [
    "#MAPE\n",
    "from sklearn.metrics import mean_absolute_percentage_error\n",
    "\n",
    "mean_absolute_percentage_error(y_test, y_pred)"
   ]
  },
  {
   "cell_type": "code",
   "execution_count": 84,
   "metadata": {},
   "outputs": [],
   "source": [
    "# Create future dataframe\n",
    "future = pd.date_range('2016-01-01','2016-03-30', freq='D')\n",
    "future_df = pd.DataFrame(index=future)\n",
    "future_df['isFuture'] = True\n",
    "df['isFuture'] = False\n",
    "df_and_future = pd.concat([df, future_df])\n",
    "df_and_future = feature_engineering(df_and_future)\n",
    "#df_and_future = add_lags(df_and_future)"
   ]
  },
  {
   "cell_type": "code",
   "execution_count": 86,
   "metadata": {},
   "outputs": [],
   "source": [
    "future_w_features = df_and_future.query('isFuture').copy()\n",
    "future_w_features['pred'] = reg.predict(future_w_features[FEATURES])"
   ]
  },
  {
   "cell_type": "code",
   "execution_count": 87,
   "metadata": {},
   "outputs": [
    {
     "data": {
      "text/plain": [
       "2016-01-01    7.152559\n",
       "2016-01-02    5.441927\n",
       "2016-01-03    6.602420\n",
       "2016-01-04    5.128414\n",
       "2016-01-05    5.984241\n",
       "                ...   \n",
       "2016-03-26    6.189267\n",
       "2016-03-27    6.032722\n",
       "2016-03-28    5.685731\n",
       "2016-03-29    5.984348\n",
       "2016-03-30    5.685731\n",
       "Name: pred, Length: 90, dtype: float32"
      ]
     },
     "execution_count": 87,
     "metadata": {},
     "output_type": "execute_result"
    }
   ],
   "source": [
    "future_w_features['pred'] "
   ]
  },
  {
   "cell_type": "code",
   "execution_count": null,
   "metadata": {},
   "outputs": [],
   "source": []
  },
  {
   "cell_type": "code",
   "execution_count": 69,
   "metadata": {},
   "outputs": [
    {
     "ename": "AttributeError",
     "evalue": "'list' object has no attribute 'set_index'",
     "output_type": "error",
     "traceback": [
      "\u001b[1;31m---------------------------------------------------------------------------\u001b[0m",
      "\u001b[1;31mAttributeError\u001b[0m                            Traceback (most recent call last)",
      "Cell \u001b[1;32mIn[69], line 2\u001b[0m\n\u001b[0;32m      1\u001b[0m \u001b[38;5;28;01mfor\u001b[39;00m pizza \u001b[38;5;129;01min\u001b[39;00m pizza_name_df:\n\u001b[1;32m----> 2\u001b[0m     pizza \u001b[38;5;241m=\u001b[39m \u001b[43mpizza\u001b[49m\u001b[38;5;241;43m.\u001b[39;49m\u001b[43mset_index\u001b[49m(\u001b[38;5;124m'\u001b[39m\u001b[38;5;124morder_date\u001b[39m\u001b[38;5;124m'\u001b[39m,inplace\u001b[38;5;241m=\u001b[39m\u001b[38;5;28;01mTrue\u001b[39;00m)\n\u001b[0;32m      3\u001b[0m     pizza \u001b[38;5;241m=\u001b[39m feature_engineering(pizza)\n",
      "\u001b[1;31mAttributeError\u001b[0m: 'list' object has no attribute 'set_index'"
     ]
    }
   ],
   "source": [
    "for pizza in pizza_name_df:\n",
    "    pizza = pizza.set_index('order_date',inplace=True)\n",
    "    pizza = feature_engineering(pizza)"
   ]
  },
  {
   "cell_type": "code",
   "execution_count": 40,
   "metadata": {},
   "outputs": [
    {
     "data": {
      "text/plain": [
       "(473, 15)"
      ]
     },
     "execution_count": 40,
     "metadata": {},
     "output_type": "execute_result"
    }
   ],
   "source": [
    "hawaiian_m_df.shape"
   ]
  },
  {
   "cell_type": "code",
   "execution_count": 41,
   "metadata": {},
   "outputs": [
    {
     "name": "stderr",
     "output_type": "stream",
     "text": [
      "C:\\Users\\Hp\\AppData\\Local\\Temp\\ipykernel_16928\\3180235668.py:1: SettingWithCopyWarning: \n",
      "A value is trying to be set on a copy of a slice from a DataFrame\n",
      "\n",
      "See the caveats in the documentation: https://pandas.pydata.org/pandas-docs/stable/user_guide/indexing.html#returning-a-view-versus-a-copy\n",
      "  hawaiian_m_df.drop(['pizza_id','pizza_name_id'],axis=1,inplace=True)\n"
     ]
    }
   ],
   "source": [
    "hawaiian_m_df.drop(['pizza_id','pizza_name_id'],axis=1,inplace=True)\n",
    "\n"
   ]
  },
  {
   "cell_type": "code",
   "execution_count": 42,
   "metadata": {},
   "outputs": [
    {
     "data": {
      "text/html": [
       "<div>\n",
       "<style scoped>\n",
       "    .dataframe tbody tr th:only-of-type {\n",
       "        vertical-align: middle;\n",
       "    }\n",
       "\n",
       "    .dataframe tbody tr th {\n",
       "        vertical-align: top;\n",
       "    }\n",
       "\n",
       "    .dataframe thead th {\n",
       "        text-align: right;\n",
       "    }\n",
       "</style>\n",
       "<table border=\"1\" class=\"dataframe\">\n",
       "  <thead>\n",
       "    <tr style=\"text-align: right;\">\n",
       "      <th></th>\n",
       "      <th>quantity</th>\n",
       "      <th>year_month</th>\n",
       "      <th>hour</th>\n",
       "      <th>dayofweek</th>\n",
       "      <th>quarter</th>\n",
       "      <th>month</th>\n",
       "      <th>year</th>\n",
       "      <th>dayofyear</th>\n",
       "      <th>dayofmonth</th>\n",
       "      <th>weekofyear</th>\n",
       "      <th>lag1</th>\n",
       "      <th>lag2</th>\n",
       "      <th>lag3</th>\n",
       "    </tr>\n",
       "    <tr>\n",
       "      <th>order_date</th>\n",
       "      <th></th>\n",
       "      <th></th>\n",
       "      <th></th>\n",
       "      <th></th>\n",
       "      <th></th>\n",
       "      <th></th>\n",
       "      <th></th>\n",
       "      <th></th>\n",
       "      <th></th>\n",
       "      <th></th>\n",
       "      <th></th>\n",
       "      <th></th>\n",
       "      <th></th>\n",
       "    </tr>\n",
       "  </thead>\n",
       "  <tbody>\n",
       "    <tr>\n",
       "      <th>2015-01-01</th>\n",
       "      <td>1</td>\n",
       "      <td>2015-01</td>\n",
       "      <td>0</td>\n",
       "      <td>3</td>\n",
       "      <td>1</td>\n",
       "      <td>1</td>\n",
       "      <td>2015</td>\n",
       "      <td>1</td>\n",
       "      <td>1</td>\n",
       "      <td>1</td>\n",
       "      <td>NaN</td>\n",
       "      <td>NaN</td>\n",
       "      <td>NaN</td>\n",
       "    </tr>\n",
       "    <tr>\n",
       "      <th>2015-02-01</th>\n",
       "      <td>1</td>\n",
       "      <td>2015-02</td>\n",
       "      <td>0</td>\n",
       "      <td>6</td>\n",
       "      <td>1</td>\n",
       "      <td>2</td>\n",
       "      <td>2015</td>\n",
       "      <td>32</td>\n",
       "      <td>1</td>\n",
       "      <td>5</td>\n",
       "      <td>1.0</td>\n",
       "      <td>NaN</td>\n",
       "      <td>NaN</td>\n",
       "    </tr>\n",
       "    <tr>\n",
       "      <th>2015-03-01</th>\n",
       "      <td>1</td>\n",
       "      <td>2015-03</td>\n",
       "      <td>0</td>\n",
       "      <td>6</td>\n",
       "      <td>1</td>\n",
       "      <td>3</td>\n",
       "      <td>2015</td>\n",
       "      <td>60</td>\n",
       "      <td>1</td>\n",
       "      <td>9</td>\n",
       "      <td>1.0</td>\n",
       "      <td>NaN</td>\n",
       "      <td>NaN</td>\n",
       "    </tr>\n",
       "    <tr>\n",
       "      <th>2015-03-01</th>\n",
       "      <td>1</td>\n",
       "      <td>2015-03</td>\n",
       "      <td>0</td>\n",
       "      <td>6</td>\n",
       "      <td>1</td>\n",
       "      <td>3</td>\n",
       "      <td>2015</td>\n",
       "      <td>60</td>\n",
       "      <td>1</td>\n",
       "      <td>9</td>\n",
       "      <td>1.0</td>\n",
       "      <td>NaN</td>\n",
       "      <td>NaN</td>\n",
       "    </tr>\n",
       "    <tr>\n",
       "      <th>2015-04-01</th>\n",
       "      <td>1</td>\n",
       "      <td>2015-04</td>\n",
       "      <td>0</td>\n",
       "      <td>2</td>\n",
       "      <td>2</td>\n",
       "      <td>4</td>\n",
       "      <td>2015</td>\n",
       "      <td>91</td>\n",
       "      <td>1</td>\n",
       "      <td>14</td>\n",
       "      <td>1.0</td>\n",
       "      <td>1.0</td>\n",
       "      <td>1.0</td>\n",
       "    </tr>\n",
       "  </tbody>\n",
       "</table>\n",
       "</div>"
      ],
      "text/plain": [
       "            quantity year_month  hour  dayofweek  quarter  month  year  \\\n",
       "order_date                                                               \n",
       "2015-01-01         1    2015-01     0          3        1      1  2015   \n",
       "2015-02-01         1    2015-02     0          6        1      2  2015   \n",
       "2015-03-01         1    2015-03     0          6        1      3  2015   \n",
       "2015-03-01         1    2015-03     0          6        1      3  2015   \n",
       "2015-04-01         1    2015-04     0          2        2      4  2015   \n",
       "\n",
       "            dayofyear  dayofmonth  weekofyear  lag1  lag2  lag3  \n",
       "order_date                                                       \n",
       "2015-01-01          1           1           1   NaN   NaN   NaN  \n",
       "2015-02-01         32           1           5   1.0   NaN   NaN  \n",
       "2015-03-01         60           1           9   1.0   NaN   NaN  \n",
       "2015-03-01         60           1           9   1.0   NaN   NaN  \n",
       "2015-04-01         91           1          14   1.0   1.0   1.0  "
      ]
     },
     "execution_count": 42,
     "metadata": {},
     "output_type": "execute_result"
    }
   ],
   "source": [
    "hawaiian_m_df.reset_index"
   ]
  },
  {
   "cell_type": "code",
   "execution_count": 37,
   "metadata": {},
   "outputs": [
    {
     "data": {
      "text/html": [
       "<div>\n",
       "<style scoped>\n",
       "    .dataframe tbody tr th:only-of-type {\n",
       "        vertical-align: middle;\n",
       "    }\n",
       "\n",
       "    .dataframe tbody tr th {\n",
       "        vertical-align: top;\n",
       "    }\n",
       "\n",
       "    .dataframe thead th {\n",
       "        text-align: right;\n",
       "    }\n",
       "</style>\n",
       "<table border=\"1\" class=\"dataframe\">\n",
       "  <thead>\n",
       "    <tr style=\"text-align: right;\">\n",
       "      <th></th>\n",
       "      <th>quantity</th>\n",
       "    </tr>\n",
       "    <tr>\n",
       "      <th>year_month</th>\n",
       "      <th></th>\n",
       "    </tr>\n",
       "  </thead>\n",
       "  <tbody>\n",
       "    <tr>\n",
       "      <th>2015-01</th>\n",
       "      <td>32</td>\n",
       "    </tr>\n",
       "    <tr>\n",
       "      <th>2015-02</th>\n",
       "      <td>40</td>\n",
       "    </tr>\n",
       "    <tr>\n",
       "      <th>2015-03</th>\n",
       "      <td>45</td>\n",
       "    </tr>\n",
       "    <tr>\n",
       "      <th>2015-04</th>\n",
       "      <td>40</td>\n",
       "    </tr>\n",
       "    <tr>\n",
       "      <th>2015-05</th>\n",
       "      <td>39</td>\n",
       "    </tr>\n",
       "    <tr>\n",
       "      <th>2015-06</th>\n",
       "      <td>51</td>\n",
       "    </tr>\n",
       "    <tr>\n",
       "      <th>2015-07</th>\n",
       "      <td>43</td>\n",
       "    </tr>\n",
       "    <tr>\n",
       "      <th>2015-08</th>\n",
       "      <td>38</td>\n",
       "    </tr>\n",
       "    <tr>\n",
       "      <th>2015-09</th>\n",
       "      <td>36</td>\n",
       "    </tr>\n",
       "    <tr>\n",
       "      <th>2015-10</th>\n",
       "      <td>34</td>\n",
       "    </tr>\n",
       "    <tr>\n",
       "      <th>2015-11</th>\n",
       "      <td>49</td>\n",
       "    </tr>\n",
       "    <tr>\n",
       "      <th>2015-12</th>\n",
       "      <td>36</td>\n",
       "    </tr>\n",
       "  </tbody>\n",
       "</table>\n",
       "</div>"
      ],
      "text/plain": [
       "            quantity\n",
       "year_month          \n",
       "2015-01           32\n",
       "2015-02           40\n",
       "2015-03           45\n",
       "2015-04           40\n",
       "2015-05           39\n",
       "2015-06           51\n",
       "2015-07           43\n",
       "2015-08           38\n",
       "2015-09           36\n",
       "2015-10           34\n",
       "2015-11           49\n",
       "2015-12           36"
      ]
     },
     "execution_count": 37,
     "metadata": {},
     "output_type": "execute_result"
    }
   ],
   "source": [
    "hawaiian_m_df.groupby('year_month').agg({'quantity':'sum'})"
   ]
  },
  {
   "cell_type": "code",
   "execution_count": 36,
   "metadata": {},
   "outputs": [
    {
     "data": {
      "text/plain": [
       "(Timestamp('2015-12-28 00:00:00'), Timestamp('2015-01-01 00:00:00'))"
      ]
     },
     "execution_count": 36,
     "metadata": {},
     "output_type": "execute_result"
    }
   ],
   "source": [
    "hawaiian_m_df.index.max(), hawaiian_m_df.index.min()"
   ]
  },
  {
   "cell_type": "code",
   "execution_count": null,
   "metadata": {},
   "outputs": [],
   "source": [
    "#from sklearn.ensemble import RandomForestRegressor\n",
    "import xgboost as xgb\n",
    "FEATURES = ['dayofyear', 'hour', 'dayofweek', 'quarter', 'month', 'year',\n",
    "            'lag1','lag2','lag3']\n",
    "TARGET = 'pizza_name_id'\n",
    "\n",
    "X_all = df[FEATURES]\n",
    "y_all = df[TARGET]\n",
    "\n",
    "reg = xgb.XGBRegressor(base_score=0.5,\n",
    "                       booster='gbtree',\n",
    "                       n_estimators=400,\n",
    "                       objective='reg:linear',\n",
    "                       max_depth=3,\n",
    "                       learning_rate=0.01)\n",
    "reg.fit(X_all, y_all,\n",
    "        eval_set=[(X_all, y_all)],\n",
    "        verbose=100)"
   ]
  },
  {
   "cell_type": "code",
   "execution_count": null,
   "metadata": {},
   "outputs": [],
   "source": []
  },
  {
   "cell_type": "code",
   "execution_count": null,
   "metadata": {},
   "outputs": [],
   "source": []
  },
  {
   "cell_type": "code",
   "execution_count": null,
   "metadata": {},
   "outputs": [],
   "source": []
  },
  {
   "cell_type": "code",
   "execution_count": null,
   "metadata": {},
   "outputs": [],
   "source": []
  },
  {
   "cell_type": "code",
   "execution_count": null,
   "metadata": {},
   "outputs": [],
   "source": []
  },
  {
   "cell_type": "code",
   "execution_count": null,
   "metadata": {},
   "outputs": [],
   "source": []
  },
  {
   "cell_type": "code",
   "execution_count": null,
   "metadata": {},
   "outputs": [],
   "source": []
  },
  {
   "cell_type": "code",
   "execution_count": 3,
   "metadata": {},
   "outputs": [
    {
     "data": {
      "text/html": [
       "<div>\n",
       "<style scoped>\n",
       "    .dataframe tbody tr th:only-of-type {\n",
       "        vertical-align: middle;\n",
       "    }\n",
       "\n",
       "    .dataframe tbody tr th {\n",
       "        vertical-align: top;\n",
       "    }\n",
       "\n",
       "    .dataframe thead th {\n",
       "        text-align: right;\n",
       "    }\n",
       "</style>\n",
       "<table border=\"1\" class=\"dataframe\">\n",
       "  <thead>\n",
       "    <tr style=\"text-align: right;\">\n",
       "      <th></th>\n",
       "      <th>pizza_name_id</th>\n",
       "      <th>order_date</th>\n",
       "      <th>quantity</th>\n",
       "    </tr>\n",
       "  </thead>\n",
       "  <tbody>\n",
       "    <tr>\n",
       "      <th>0</th>\n",
       "      <td>bbq_ckn_l</td>\n",
       "      <td>2015-01-01</td>\n",
       "      <td>6</td>\n",
       "    </tr>\n",
       "    <tr>\n",
       "      <th>1</th>\n",
       "      <td>bbq_ckn_l</td>\n",
       "      <td>2015-01-02</td>\n",
       "      <td>4</td>\n",
       "    </tr>\n",
       "    <tr>\n",
       "      <th>2</th>\n",
       "      <td>bbq_ckn_l</td>\n",
       "      <td>2015-01-03</td>\n",
       "      <td>2</td>\n",
       "    </tr>\n",
       "    <tr>\n",
       "      <th>3</th>\n",
       "      <td>bbq_ckn_l</td>\n",
       "      <td>2015-01-05</td>\n",
       "      <td>2</td>\n",
       "    </tr>\n",
       "    <tr>\n",
       "      <th>4</th>\n",
       "      <td>bbq_ckn_l</td>\n",
       "      <td>2015-01-06</td>\n",
       "      <td>1</td>\n",
       "    </tr>\n",
       "    <tr>\n",
       "      <th>...</th>\n",
       "      <td>...</td>\n",
       "      <td>...</td>\n",
       "      <td>...</td>\n",
       "    </tr>\n",
       "    <tr>\n",
       "      <th>22955</th>\n",
       "      <td>veggie_veg_s</td>\n",
       "      <td>2015-12-24</td>\n",
       "      <td>1</td>\n",
       "    </tr>\n",
       "    <tr>\n",
       "      <th>22956</th>\n",
       "      <td>veggie_veg_s</td>\n",
       "      <td>2015-12-27</td>\n",
       "      <td>3</td>\n",
       "    </tr>\n",
       "    <tr>\n",
       "      <th>22957</th>\n",
       "      <td>veggie_veg_s</td>\n",
       "      <td>2015-12-28</td>\n",
       "      <td>1</td>\n",
       "    </tr>\n",
       "    <tr>\n",
       "      <th>22958</th>\n",
       "      <td>veggie_veg_s</td>\n",
       "      <td>2015-12-30</td>\n",
       "      <td>4</td>\n",
       "    </tr>\n",
       "    <tr>\n",
       "      <th>22959</th>\n",
       "      <td>veggie_veg_s</td>\n",
       "      <td>2015-12-31</td>\n",
       "      <td>4</td>\n",
       "    </tr>\n",
       "  </tbody>\n",
       "</table>\n",
       "<p>22960 rows × 3 columns</p>\n",
       "</div>"
      ],
      "text/plain": [
       "      pizza_name_id order_date  quantity\n",
       "0         bbq_ckn_l 2015-01-01         6\n",
       "1         bbq_ckn_l 2015-01-02         4\n",
       "2         bbq_ckn_l 2015-01-03         2\n",
       "3         bbq_ckn_l 2015-01-05         2\n",
       "4         bbq_ckn_l 2015-01-06         1\n",
       "...             ...        ...       ...\n",
       "22955  veggie_veg_s 2015-12-24         1\n",
       "22956  veggie_veg_s 2015-12-27         3\n",
       "22957  veggie_veg_s 2015-12-28         1\n",
       "22958  veggie_veg_s 2015-12-30         4\n",
       "22959  veggie_veg_s 2015-12-31         4\n",
       "\n",
       "[22960 rows x 3 columns]"
      ]
     },
     "execution_count": 3,
     "metadata": {},
     "output_type": "execute_result"
    }
   ],
   "source": [
    "daily_sales = sales_df.groupby(['pizza_name_id','order_date']).agg({'quantity':'sum'}).reset_index()\n",
    "daily_sales"
   ]
  },
  {
   "cell_type": "code",
   "execution_count": 5,
   "metadata": {},
   "outputs": [
    {
     "data": {
      "text/plain": [
       "pizza_name_id\n",
       "big_meat_s        357\n",
       "four_cheese_l     352\n",
       "classic_dlx_m     352\n",
       "thai_ckn_l        351\n",
       "five_cheese_l     346\n",
       "                 ... \n",
       "mexicana_s        125\n",
       "calabrese_s        84\n",
       "ckn_alfredo_s      84\n",
       "green_garden_l     82\n",
       "the_greek_xxl      28\n",
       "Name: count, Length: 91, dtype: int64"
      ]
     },
     "execution_count": 5,
     "metadata": {},
     "output_type": "execute_result"
    }
   ],
   "source": [
    "daily_sales.pizza_name_id.value_counts()"
   ]
  },
  {
   "cell_type": "code",
   "execution_count": 7,
   "metadata": {},
   "outputs": [],
   "source": [
    "merged_df = pd.merge(monthly_sales, ingredients_df, on='pizza_name_id')"
   ]
  },
  {
   "cell_type": "code",
   "execution_count": 12,
   "metadata": {},
   "outputs": [
    {
     "data": {
      "text/html": [
       "<div>\n",
       "<style scoped>\n",
       "    .dataframe tbody tr th:only-of-type {\n",
       "        vertical-align: middle;\n",
       "    }\n",
       "\n",
       "    .dataframe tbody tr th {\n",
       "        vertical-align: top;\n",
       "    }\n",
       "\n",
       "    .dataframe thead th {\n",
       "        text-align: right;\n",
       "    }\n",
       "</style>\n",
       "<table border=\"1\" class=\"dataframe\">\n",
       "  <thead>\n",
       "    <tr style=\"text-align: right;\">\n",
       "      <th></th>\n",
       "      <th>pizza_name_id</th>\n",
       "      <th>year_month</th>\n",
       "      <th>quantity</th>\n",
       "      <th>pizza_name</th>\n",
       "      <th>pizza_ingredients</th>\n",
       "      <th>Items_Qty_In_Grams</th>\n",
       "    </tr>\n",
       "  </thead>\n",
       "  <tbody>\n",
       "    <tr>\n",
       "      <th>0</th>\n",
       "      <td>bbq_ckn_l</td>\n",
       "      <td>2015-01</td>\n",
       "      <td>101</td>\n",
       "      <td>The Barbecue Chicken Pizza</td>\n",
       "      <td>Barbecued Chicken</td>\n",
       "      <td>40.0</td>\n",
       "    </tr>\n",
       "    <tr>\n",
       "      <th>1</th>\n",
       "      <td>bbq_ckn_l</td>\n",
       "      <td>2015-01</td>\n",
       "      <td>101</td>\n",
       "      <td>The Barbecue Chicken Pizza</td>\n",
       "      <td>Red Peppers</td>\n",
       "      <td>15.0</td>\n",
       "    </tr>\n",
       "    <tr>\n",
       "      <th>2</th>\n",
       "      <td>bbq_ckn_l</td>\n",
       "      <td>2015-01</td>\n",
       "      <td>101</td>\n",
       "      <td>The Barbecue Chicken Pizza</td>\n",
       "      <td>Green Peppers</td>\n",
       "      <td>20.0</td>\n",
       "    </tr>\n",
       "    <tr>\n",
       "      <th>3</th>\n",
       "      <td>bbq_ckn_l</td>\n",
       "      <td>2015-01</td>\n",
       "      <td>101</td>\n",
       "      <td>The Barbecue Chicken Pizza</td>\n",
       "      <td>Tomatoes</td>\n",
       "      <td>30.0</td>\n",
       "    </tr>\n",
       "    <tr>\n",
       "      <th>4</th>\n",
       "      <td>bbq_ckn_l</td>\n",
       "      <td>2015-01</td>\n",
       "      <td>101</td>\n",
       "      <td>The Barbecue Chicken Pizza</td>\n",
       "      <td>Red Onions</td>\n",
       "      <td>60.0</td>\n",
       "    </tr>\n",
       "  </tbody>\n",
       "</table>\n",
       "</div>"
      ],
      "text/plain": [
       "  pizza_name_id year_month  quantity                  pizza_name  \\\n",
       "0     bbq_ckn_l    2015-01       101  The Barbecue Chicken Pizza   \n",
       "1     bbq_ckn_l    2015-01       101  The Barbecue Chicken Pizza   \n",
       "2     bbq_ckn_l    2015-01       101  The Barbecue Chicken Pizza   \n",
       "3     bbq_ckn_l    2015-01       101  The Barbecue Chicken Pizza   \n",
       "4     bbq_ckn_l    2015-01       101  The Barbecue Chicken Pizza   \n",
       "\n",
       "   pizza_ingredients  Items_Qty_In_Grams  \n",
       "0  Barbecued Chicken                40.0  \n",
       "1        Red Peppers                15.0  \n",
       "2      Green Peppers                20.0  \n",
       "3           Tomatoes                30.0  \n",
       "4         Red Onions                60.0  "
      ]
     },
     "execution_count": 12,
     "metadata": {},
     "output_type": "execute_result"
    }
   ],
   "source": [
    "merged_df.head()"
   ]
  },
  {
   "cell_type": "code",
   "execution_count": null,
   "metadata": {},
   "outputs": [],
   "source": []
  }
 ],
 "metadata": {
  "kernelspec": {
   "display_name": ".venv",
   "language": "python",
   "name": "python3"
  },
  "language_info": {
   "codemirror_mode": {
    "name": "ipython",
    "version": 3
   },
   "file_extension": ".py",
   "mimetype": "text/x-python",
   "name": "python",
   "nbconvert_exporter": "python",
   "pygments_lexer": "ipython3",
   "version": "3.12.4"
  }
 },
 "nbformat": 4,
 "nbformat_minor": 2
}
