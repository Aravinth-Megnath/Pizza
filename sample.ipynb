{
 "cells": [
  {
   "cell_type": "code",
   "execution_count": null,
   "metadata": {},
   "outputs": [],
   "source": []
  },
  {
   "cell_type": "markdown",
   "metadata": {},
   "source": [
    "Predicting pizza category"
   ]
  },
  {
   "cell_type": "code",
   "execution_count": null,
   "metadata": {},
   "outputs": [],
   "source": [
    "from sklearn.model_selection import train_test_split\n",
    "from sklearn.ensemble import RandomForestClassifier\n",
    "\n",
    "# Prepare data for classification\n",
    "classification_data = data.copy()\n",
    "classification_data['month_year'] = classification_data['order_date'].dt.to_period('M')\n",
    "classification_data['month_year'] = classification_data['month_year'].astype(str)\n",
    "\n",
    "# Encode categorical variables\n",
    "classification_data = pd.get_dummies(classification_data, columns=['pizza_category', 'pizza_name'])\n",
    "\n",
    "# Split data into training and test sets\n",
    "X = classification_data.drop(['quantity', 'order_date', 'order_id', 'order_time', 'total_price'], axis=1)\n",
    "y = classification_data['quantity']\n",
    "X_train, X_test, y_train, y_test = train_test_split(X, y, test_size=0.2, random_state=42)\n",
    "\n",
    "# Train RandomForestClassifier\n",
    "clf = RandomForestClassifier(n_estimators=100, random_state=42)\n",
    "clf.fit(X_train, y_train)\n",
    "\n",
    "# Predict categories for the next three months\n",
    "category_predictions = clf.predict(X_test)\n"
   ]
  },
  {
   "cell_type": "markdown",
   "metadata": {},
   "source": [
    "Generate purchase order"
   ]
  },
  {
   "cell_type": "code",
   "execution_count": null,
   "metadata": {},
   "outputs": [],
   "source": [
    "# Define ingredients for each pizza\n",
    "ingredients_dict = {\n",
    "    'The Hawaiian Pizza': {'Sliced Ham': 1, 'Pineapple': 1, 'Mozzarella Cheese': 1}\n",
    "    # Add other pizzas here\n",
    "}\n",
    "\n",
    "# Calculate ingredient requirements\n",
    "purchase_orders = {}\n",
    "\n",
    "for pizza, ingredients in ingredients_dict.items():\n",
    "    for ingredient, amount in ingredients.items():\n",
    "        if ingredient in purchase_orders:\n",
    "            purchase_orders[ingredient] += amount * forecast_df[pizza].sum()\n",
    "        else:\n",
    "            purchase_orders[ingredient] = amount * forecast_df[pizza].sum()\n",
    "\n",
    "# Display purchase orders\n",
    "for ingredient, total_amount in purchase_orders.items():\n",
    "    print(f\"{ingredient}: {total_amount}\")\n"
   ]
  }
 ],
 "metadata": {
  "language_info": {
   "name": "python"
  }
 },
 "nbformat": 4,
 "nbformat_minor": 2
}
