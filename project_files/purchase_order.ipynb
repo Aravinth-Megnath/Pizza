{
 "cells": [
  {
   "cell_type": "code",
   "execution_count": 1,
   "metadata": {},
   "outputs": [
    {
     "data": {
      "text/html": [
       "<div>\n",
       "<style scoped>\n",
       "    .dataframe tbody tr th:only-of-type {\n",
       "        vertical-align: middle;\n",
       "    }\n",
       "\n",
       "    .dataframe tbody tr th {\n",
       "        vertical-align: top;\n",
       "    }\n",
       "\n",
       "    .dataframe thead th {\n",
       "        text-align: right;\n",
       "    }\n",
       "</style>\n",
       "<table border=\"1\" class=\"dataframe\">\n",
       "  <thead>\n",
       "    <tr style=\"text-align: right;\">\n",
       "      <th></th>\n",
       "      <th>Unnamed: 0</th>\n",
       "      <th>predicted_sales</th>\n",
       "    </tr>\n",
       "  </thead>\n",
       "  <tbody>\n",
       "    <tr>\n",
       "      <th>0</th>\n",
       "      <td>hawaiian_m</td>\n",
       "      <td>15.356654</td>\n",
       "    </tr>\n",
       "    <tr>\n",
       "      <th>1</th>\n",
       "      <td>classic_dlx_m</td>\n",
       "      <td>30.769432</td>\n",
       "    </tr>\n",
       "    <tr>\n",
       "      <th>2</th>\n",
       "      <td>five_cheese_l</td>\n",
       "      <td>17.675844</td>\n",
       "    </tr>\n",
       "    <tr>\n",
       "      <th>3</th>\n",
       "      <td>ital_supr_l</td>\n",
       "      <td>27.777290</td>\n",
       "    </tr>\n",
       "    <tr>\n",
       "      <th>4</th>\n",
       "      <td>mexicana_m</td>\n",
       "      <td>4.736635</td>\n",
       "    </tr>\n",
       "  </tbody>\n",
       "</table>\n",
       "</div>"
      ],
      "text/plain": [
       "      Unnamed: 0  predicted_sales\n",
       "0     hawaiian_m        15.356654\n",
       "1  classic_dlx_m        30.769432\n",
       "2  five_cheese_l        17.675844\n",
       "3    ital_supr_l        27.777290\n",
       "4     mexicana_m         4.736635"
      ]
     },
     "execution_count": 1,
     "metadata": {},
     "output_type": "execute_result"
    }
   ],
   "source": [
    "import pandas as pd\n",
    "import numpy as np\n",
    "df = pd.read_csv('S:/Pizza/weekly_result.csv')\n",
    "\n",
    "df.head()"
   ]
  },
  {
   "cell_type": "code",
   "execution_count": 2,
   "metadata": {},
   "outputs": [
    {
     "data": {
      "text/html": [
       "<div>\n",
       "<style scoped>\n",
       "    .dataframe tbody tr th:only-of-type {\n",
       "        vertical-align: middle;\n",
       "    }\n",
       "\n",
       "    .dataframe tbody tr th {\n",
       "        vertical-align: top;\n",
       "    }\n",
       "\n",
       "    .dataframe thead th {\n",
       "        text-align: right;\n",
       "    }\n",
       "</style>\n",
       "<table border=\"1\" class=\"dataframe\">\n",
       "  <thead>\n",
       "    <tr style=\"text-align: right;\">\n",
       "      <th></th>\n",
       "      <th>pizza_name_id</th>\n",
       "      <th>predicted_sales</th>\n",
       "    </tr>\n",
       "  </thead>\n",
       "  <tbody>\n",
       "    <tr>\n",
       "      <th>0</th>\n",
       "      <td>hawaiian_m</td>\n",
       "      <td>15.356654</td>\n",
       "    </tr>\n",
       "    <tr>\n",
       "      <th>1</th>\n",
       "      <td>classic_dlx_m</td>\n",
       "      <td>30.769432</td>\n",
       "    </tr>\n",
       "    <tr>\n",
       "      <th>2</th>\n",
       "      <td>five_cheese_l</td>\n",
       "      <td>17.675844</td>\n",
       "    </tr>\n",
       "    <tr>\n",
       "      <th>3</th>\n",
       "      <td>ital_supr_l</td>\n",
       "      <td>27.777290</td>\n",
       "    </tr>\n",
       "    <tr>\n",
       "      <th>4</th>\n",
       "      <td>mexicana_m</td>\n",
       "      <td>4.736635</td>\n",
       "    </tr>\n",
       "  </tbody>\n",
       "</table>\n",
       "</div>"
      ],
      "text/plain": [
       "   pizza_name_id  predicted_sales\n",
       "0     hawaiian_m        15.356654\n",
       "1  classic_dlx_m        30.769432\n",
       "2  five_cheese_l        17.675844\n",
       "3    ital_supr_l        27.777290\n",
       "4     mexicana_m         4.736635"
      ]
     },
     "execution_count": 2,
     "metadata": {},
     "output_type": "execute_result"
    }
   ],
   "source": [
    "df.rename(columns = {'Unnamed: 0':'pizza_name_id'}, inplace = True)\n",
    "df.head()"
   ]
  },
  {
   "cell_type": "code",
   "execution_count": 4,
   "metadata": {},
   "outputs": [
    {
     "data": {
      "text/html": [
       "<div>\n",
       "<style scoped>\n",
       "    .dataframe tbody tr th:only-of-type {\n",
       "        vertical-align: middle;\n",
       "    }\n",
       "\n",
       "    .dataframe tbody tr th {\n",
       "        vertical-align: top;\n",
       "    }\n",
       "\n",
       "    .dataframe thead th {\n",
       "        text-align: right;\n",
       "    }\n",
       "</style>\n",
       "<table border=\"1\" class=\"dataframe\">\n",
       "  <thead>\n",
       "    <tr style=\"text-align: right;\">\n",
       "      <th></th>\n",
       "      <th>pizza_name_id</th>\n",
       "      <th>pizza_name</th>\n",
       "      <th>pizza_ingredients</th>\n",
       "      <th>Items_Qty_In_Grams</th>\n",
       "    </tr>\n",
       "  </thead>\n",
       "  <tbody>\n",
       "    <tr>\n",
       "      <th>0</th>\n",
       "      <td>bbq_ckn_l</td>\n",
       "      <td>The Barbecue Chicken Pizza</td>\n",
       "      <td>Barbecued Chicken</td>\n",
       "      <td>40.0</td>\n",
       "    </tr>\n",
       "    <tr>\n",
       "      <th>1</th>\n",
       "      <td>bbq_ckn_l</td>\n",
       "      <td>The Barbecue Chicken Pizza</td>\n",
       "      <td>Red Peppers</td>\n",
       "      <td>15.0</td>\n",
       "    </tr>\n",
       "    <tr>\n",
       "      <th>2</th>\n",
       "      <td>bbq_ckn_l</td>\n",
       "      <td>The Barbecue Chicken Pizza</td>\n",
       "      <td>Green Peppers</td>\n",
       "      <td>20.0</td>\n",
       "    </tr>\n",
       "    <tr>\n",
       "      <th>3</th>\n",
       "      <td>bbq_ckn_l</td>\n",
       "      <td>The Barbecue Chicken Pizza</td>\n",
       "      <td>Tomatoes</td>\n",
       "      <td>30.0</td>\n",
       "    </tr>\n",
       "    <tr>\n",
       "      <th>4</th>\n",
       "      <td>bbq_ckn_l</td>\n",
       "      <td>The Barbecue Chicken Pizza</td>\n",
       "      <td>Red Onions</td>\n",
       "      <td>60.0</td>\n",
       "    </tr>\n",
       "  </tbody>\n",
       "</table>\n",
       "</div>"
      ],
      "text/plain": [
       "  pizza_name_id                  pizza_name  pizza_ingredients  \\\n",
       "0     bbq_ckn_l  The Barbecue Chicken Pizza  Barbecued Chicken   \n",
       "1     bbq_ckn_l  The Barbecue Chicken Pizza        Red Peppers   \n",
       "2     bbq_ckn_l  The Barbecue Chicken Pizza      Green Peppers   \n",
       "3     bbq_ckn_l  The Barbecue Chicken Pizza           Tomatoes   \n",
       "4     bbq_ckn_l  The Barbecue Chicken Pizza         Red Onions   \n",
       "\n",
       "   Items_Qty_In_Grams  \n",
       "0                40.0  \n",
       "1                15.0  \n",
       "2                20.0  \n",
       "3                30.0  \n",
       "4                60.0  "
      ]
     },
     "execution_count": 4,
     "metadata": {},
     "output_type": "execute_result"
    }
   ],
   "source": [
    "ingredients_df = pd.read_excel('S:/Pizza/dataset/Pizza_ingredients.xlsx')\n",
    "ingredients_df.head()"
   ]
  },
  {
   "cell_type": "code",
   "execution_count": 5,
   "metadata": {},
   "outputs": [
    {
     "data": {
      "text/plain": [
       "np.int64(4)"
      ]
     },
     "execution_count": 5,
     "metadata": {},
     "output_type": "execute_result"
    }
   ],
   "source": [
    "ingredients_df.Items_Qty_In_Grams.isna().sum()"
   ]
  },
  {
   "cell_type": "code",
   "execution_count": 14,
   "metadata": {},
   "outputs": [
    {
     "data": {
      "text/plain": [
       "pizza_name_id          object\n",
       "pizza_name             object\n",
       "pizza_ingredients      object\n",
       "Items_Qty_In_Grams    float64\n",
       "dtype: object"
      ]
     },
     "execution_count": 14,
     "metadata": {},
     "output_type": "execute_result"
    }
   ],
   "source": [
    "ingredients_df.dtypes"
   ]
  },
  {
   "cell_type": "code",
   "execution_count": 6,
   "metadata": {},
   "outputs": [
    {
     "data": {
      "text/html": [
       "<div>\n",
       "<style scoped>\n",
       "    .dataframe tbody tr th:only-of-type {\n",
       "        vertical-align: middle;\n",
       "    }\n",
       "\n",
       "    .dataframe tbody tr th {\n",
       "        vertical-align: top;\n",
       "    }\n",
       "\n",
       "    .dataframe thead th {\n",
       "        text-align: right;\n",
       "    }\n",
       "</style>\n",
       "<table border=\"1\" class=\"dataframe\">\n",
       "  <thead>\n",
       "    <tr style=\"text-align: right;\">\n",
       "      <th></th>\n",
       "      <th>pizza_name_id</th>\n",
       "      <th>predicted_sales</th>\n",
       "      <th>pizza_name</th>\n",
       "      <th>pizza_ingredients</th>\n",
       "      <th>Items_Qty_In_Grams</th>\n",
       "    </tr>\n",
       "  </thead>\n",
       "  <tbody>\n",
       "    <tr>\n",
       "      <th>0</th>\n",
       "      <td>hawaiian_m</td>\n",
       "      <td>15.356654</td>\n",
       "      <td>The Hawaiian Pizza</td>\n",
       "      <td>Sliced Ham</td>\n",
       "      <td>NaN</td>\n",
       "    </tr>\n",
       "    <tr>\n",
       "      <th>1</th>\n",
       "      <td>hawaiian_m</td>\n",
       "      <td>15.356654</td>\n",
       "      <td>The Hawaiian Pizza</td>\n",
       "      <td>Pineapple</td>\n",
       "      <td>30.0</td>\n",
       "    </tr>\n",
       "    <tr>\n",
       "      <th>2</th>\n",
       "      <td>hawaiian_m</td>\n",
       "      <td>15.356654</td>\n",
       "      <td>The Hawaiian Pizza</td>\n",
       "      <td>Mozzarella Cheese</td>\n",
       "      <td>20.0</td>\n",
       "    </tr>\n",
       "    <tr>\n",
       "      <th>3</th>\n",
       "      <td>classic_dlx_m</td>\n",
       "      <td>30.769432</td>\n",
       "      <td>The Classic Deluxe Pizza</td>\n",
       "      <td>Pepperoni</td>\n",
       "      <td>40.0</td>\n",
       "    </tr>\n",
       "    <tr>\n",
       "      <th>4</th>\n",
       "      <td>classic_dlx_m</td>\n",
       "      <td>30.769432</td>\n",
       "      <td>The Classic Deluxe Pizza</td>\n",
       "      <td>Mushrooms</td>\n",
       "      <td>40.0</td>\n",
       "    </tr>\n",
       "  </tbody>\n",
       "</table>\n",
       "</div>"
      ],
      "text/plain": [
       "   pizza_name_id  predicted_sales                pizza_name  \\\n",
       "0     hawaiian_m        15.356654        The Hawaiian Pizza   \n",
       "1     hawaiian_m        15.356654        The Hawaiian Pizza   \n",
       "2     hawaiian_m        15.356654        The Hawaiian Pizza   \n",
       "3  classic_dlx_m        30.769432  The Classic Deluxe Pizza   \n",
       "4  classic_dlx_m        30.769432  The Classic Deluxe Pizza   \n",
       "\n",
       "   pizza_ingredients  Items_Qty_In_Grams  \n",
       "0         Sliced Ham                 NaN  \n",
       "1          Pineapple                30.0  \n",
       "2  Mozzarella Cheese                20.0  \n",
       "3          Pepperoni                40.0  \n",
       "4          Mushrooms                40.0  "
      ]
     },
     "execution_count": 6,
     "metadata": {},
     "output_type": "execute_result"
    }
   ],
   "source": [
    "merged_df = pd.merge(df, ingredients_df, on='pizza_name_id')\n",
    "merged_df.head()"
   ]
  },
  {
   "cell_type": "code",
   "execution_count": 7,
   "metadata": {},
   "outputs": [],
   "source": [
    "qty_mean = merged_df.Items_Qty_In_Grams.mean()"
   ]
  },
  {
   "cell_type": "code",
   "execution_count": 8,
   "metadata": {},
   "outputs": [],
   "source": [
    "merged_df.Items_Qty_In_Grams = merged_df.Items_Qty_In_Grams.fillna(qty_mean)"
   ]
  },
  {
   "cell_type": "code",
   "execution_count": 9,
   "metadata": {},
   "outputs": [
    {
     "data": {
      "text/html": [
       "<div>\n",
       "<style scoped>\n",
       "    .dataframe tbody tr th:only-of-type {\n",
       "        vertical-align: middle;\n",
       "    }\n",
       "\n",
       "    .dataframe tbody tr th {\n",
       "        vertical-align: top;\n",
       "    }\n",
       "\n",
       "    .dataframe thead th {\n",
       "        text-align: right;\n",
       "    }\n",
       "</style>\n",
       "<table border=\"1\" class=\"dataframe\">\n",
       "  <thead>\n",
       "    <tr style=\"text-align: right;\">\n",
       "      <th></th>\n",
       "      <th>pizza_name_id</th>\n",
       "      <th>predicted_sales</th>\n",
       "      <th>pizza_name</th>\n",
       "      <th>pizza_ingredients</th>\n",
       "      <th>Items_Qty_In_Grams</th>\n",
       "    </tr>\n",
       "  </thead>\n",
       "  <tbody>\n",
       "    <tr>\n",
       "      <th>170</th>\n",
       "      <td>calabrese_m</td>\n",
       "      <td>13.709702</td>\n",
       "      <td>The Calabrese Pizza</td>\n",
       "      <td>Red Onions</td>\n",
       "      <td>40.0</td>\n",
       "    </tr>\n",
       "    <tr>\n",
       "      <th>204</th>\n",
       "      <td>napolitana_l</td>\n",
       "      <td>12.829892</td>\n",
       "      <td>The Napolitana Pizza</td>\n",
       "      <td>Anchovies</td>\n",
       "      <td>40.0</td>\n",
       "    </tr>\n",
       "    <tr>\n",
       "      <th>344</th>\n",
       "      <td>prsc_argla_m</td>\n",
       "      <td>12.983122</td>\n",
       "      <td>The Prosciutto and Arugula Pizza</td>\n",
       "      <td>Mozzarella Cheese</td>\n",
       "      <td>20.0</td>\n",
       "    </tr>\n",
       "  </tbody>\n",
       "</table>\n",
       "</div>"
      ],
      "text/plain": [
       "    pizza_name_id  predicted_sales                        pizza_name  \\\n",
       "170   calabrese_m        13.709702               The Calabrese Pizza   \n",
       "204  napolitana_l        12.829892              The Napolitana Pizza   \n",
       "344  prsc_argla_m        12.983122  The Prosciutto and Arugula Pizza   \n",
       "\n",
       "     pizza_ingredients  Items_Qty_In_Grams  \n",
       "170         Red Onions                40.0  \n",
       "204          Anchovies                40.0  \n",
       "344  Mozzarella Cheese                20.0  "
      ]
     },
     "execution_count": 9,
     "metadata": {},
     "output_type": "execute_result"
    }
   ],
   "source": [
    "merged_df.sample(3)"
   ]
  },
  {
   "cell_type": "code",
   "execution_count": 10,
   "metadata": {},
   "outputs": [
    {
     "data": {
      "text/plain": [
       "pizza_name_id          object\n",
       "predicted_sales       float64\n",
       "pizza_name             object\n",
       "pizza_ingredients      object\n",
       "Items_Qty_In_Grams    float64\n",
       "dtype: object"
      ]
     },
     "execution_count": 10,
     "metadata": {},
     "output_type": "execute_result"
    }
   ],
   "source": [
    "merged_df.dtypes"
   ]
  },
  {
   "cell_type": "code",
   "execution_count": 11,
   "metadata": {},
   "outputs": [
    {
     "data": {
      "text/html": [
       "<div>\n",
       "<style scoped>\n",
       "    .dataframe tbody tr th:only-of-type {\n",
       "        vertical-align: middle;\n",
       "    }\n",
       "\n",
       "    .dataframe tbody tr th {\n",
       "        vertical-align: top;\n",
       "    }\n",
       "\n",
       "    .dataframe thead th {\n",
       "        text-align: right;\n",
       "    }\n",
       "</style>\n",
       "<table border=\"1\" class=\"dataframe\">\n",
       "  <thead>\n",
       "    <tr style=\"text-align: right;\">\n",
       "      <th></th>\n",
       "      <th>pizza_name_id</th>\n",
       "      <th>predicted_sales</th>\n",
       "      <th>pizza_name</th>\n",
       "      <th>pizza_ingredients</th>\n",
       "      <th>Items_Qty_In_Grams</th>\n",
       "      <th>Quantity</th>\n",
       "    </tr>\n",
       "  </thead>\n",
       "  <tbody>\n",
       "    <tr>\n",
       "      <th>484</th>\n",
       "      <td>calabrese_s</td>\n",
       "      <td>2.018917</td>\n",
       "      <td>The Calabrese Pizza</td>\n",
       "      <td>?duja Salami</td>\n",
       "      <td>20.0</td>\n",
       "      <td>40.378332</td>\n",
       "    </tr>\n",
       "    <tr>\n",
       "      <th>282</th>\n",
       "      <td>peppr_salami_m</td>\n",
       "      <td>12.895058</td>\n",
       "      <td>The Pepper Salami Pizza</td>\n",
       "      <td>Genoa Salami</td>\n",
       "      <td>60.0</td>\n",
       "      <td>773.703480</td>\n",
       "    </tr>\n",
       "    <tr>\n",
       "      <th>468</th>\n",
       "      <td>spin_pesto_m</td>\n",
       "      <td>9.074369</td>\n",
       "      <td>The Spinach Pesto Pizza</td>\n",
       "      <td>Tomatoes</td>\n",
       "      <td>20.0</td>\n",
       "      <td>181.487370</td>\n",
       "    </tr>\n",
       "  </tbody>\n",
       "</table>\n",
       "</div>"
      ],
      "text/plain": [
       "      pizza_name_id  predicted_sales               pizza_name  \\\n",
       "484     calabrese_s         2.018917      The Calabrese Pizza   \n",
       "282  peppr_salami_m        12.895058  The Pepper Salami Pizza   \n",
       "468    spin_pesto_m         9.074369  The Spinach Pesto Pizza   \n",
       "\n",
       "    pizza_ingredients  Items_Qty_In_Grams    Quantity  \n",
       "484      ?duja Salami                20.0   40.378332  \n",
       "282      Genoa Salami                60.0  773.703480  \n",
       "468          Tomatoes                20.0  181.487370  "
      ]
     },
     "execution_count": 11,
     "metadata": {},
     "output_type": "execute_result"
    }
   ],
   "source": [
    "merged_df['Quantity'] = merged_df['predicted_sales'] * merged_df['Items_Qty_In_Grams']\n",
    "merged_df.sample(3)"
   ]
  },
  {
   "cell_type": "code",
   "execution_count": 12,
   "metadata": {},
   "outputs": [
    {
     "data": {
      "text/html": [
       "<div>\n",
       "<style scoped>\n",
       "    .dataframe tbody tr th:only-of-type {\n",
       "        vertical-align: middle;\n",
       "    }\n",
       "\n",
       "    .dataframe tbody tr th {\n",
       "        vertical-align: top;\n",
       "    }\n",
       "\n",
       "    .dataframe thead th {\n",
       "        text-align: right;\n",
       "    }\n",
       "</style>\n",
       "<table border=\"1\" class=\"dataframe\">\n",
       "  <thead>\n",
       "    <tr style=\"text-align: right;\">\n",
       "      <th></th>\n",
       "      <th>pizza_name_id</th>\n",
       "      <th>predicted_sales</th>\n",
       "      <th>pizza_name</th>\n",
       "      <th>pizza_ingredients</th>\n",
       "      <th>Items_Qty_In_Grams</th>\n",
       "      <th>Quantity</th>\n",
       "    </tr>\n",
       "  </thead>\n",
       "  <tbody>\n",
       "    <tr>\n",
       "      <th>267</th>\n",
       "      <td>green_garden_m</td>\n",
       "      <td>1.0</td>\n",
       "      <td>The Green Garden Pizza</td>\n",
       "      <td>Mushrooms</td>\n",
       "      <td>40.0</td>\n",
       "      <td>37.0</td>\n",
       "    </tr>\n",
       "    <tr>\n",
       "      <th>184</th>\n",
       "      <td>ital_veggie_s</td>\n",
       "      <td>3.0</td>\n",
       "      <td>The Italian Vegetables Pizza</td>\n",
       "      <td>Pesto Sauce</td>\n",
       "      <td>10.0</td>\n",
       "      <td>30.0</td>\n",
       "    </tr>\n",
       "    <tr>\n",
       "      <th>473</th>\n",
       "      <td>brie_carre_s</td>\n",
       "      <td>11.0</td>\n",
       "      <td>The Brie Carre Pizza</td>\n",
       "      <td>Prosciutto</td>\n",
       "      <td>30.0</td>\n",
       "      <td>322.0</td>\n",
       "    </tr>\n",
       "  </tbody>\n",
       "</table>\n",
       "</div>"
      ],
      "text/plain": [
       "      pizza_name_id  predicted_sales                    pizza_name  \\\n",
       "267  green_garden_m              1.0        The Green Garden Pizza   \n",
       "184   ital_veggie_s              3.0  The Italian Vegetables Pizza   \n",
       "473    brie_carre_s             11.0          The Brie Carre Pizza   \n",
       "\n",
       "    pizza_ingredients  Items_Qty_In_Grams  Quantity  \n",
       "267         Mushrooms                40.0      37.0  \n",
       "184       Pesto Sauce                10.0      30.0  \n",
       "473        Prosciutto                30.0     322.0  "
      ]
     },
     "execution_count": 12,
     "metadata": {},
     "output_type": "execute_result"
    }
   ],
   "source": [
    "merged_df['predicted_sales'] = round(merged_df['predicted_sales'],0)\n",
    "merged_df['Quantity'] = round(merged_df['Quantity'], 0)\n",
    "merged_df.sample(3)"
   ]
  },
  {
   "cell_type": "code",
   "execution_count": 13,
   "metadata": {},
   "outputs": [],
   "source": [
    "purchase_order = merged_df[['pizza_ingredients', 'Quantity']]"
   ]
  },
  {
   "cell_type": "code",
   "execution_count": 17,
   "metadata": {},
   "outputs": [
    {
     "data": {
      "text/html": [
       "<div>\n",
       "<style scoped>\n",
       "    .dataframe tbody tr th:only-of-type {\n",
       "        vertical-align: middle;\n",
       "    }\n",
       "\n",
       "    .dataframe tbody tr th {\n",
       "        vertical-align: top;\n",
       "    }\n",
       "\n",
       "    .dataframe thead th {\n",
       "        text-align: right;\n",
       "    }\n",
       "</style>\n",
       "<table border=\"1\" class=\"dataframe\">\n",
       "  <thead>\n",
       "    <tr style=\"text-align: right;\">\n",
       "      <th></th>\n",
       "      <th>Quantity</th>\n",
       "    </tr>\n",
       "    <tr>\n",
       "      <th>pizza_ingredients</th>\n",
       "      <th></th>\n",
       "    </tr>\n",
       "  </thead>\n",
       "  <tbody>\n",
       "    <tr>\n",
       "      <th>Capocollo</th>\n",
       "      <td>22397.0</td>\n",
       "    </tr>\n",
       "    <tr>\n",
       "      <th>Chicken</th>\n",
       "      <td>21742.0</td>\n",
       "    </tr>\n",
       "    <tr>\n",
       "      <th>Red Onions</th>\n",
       "      <td>19399.0</td>\n",
       "    </tr>\n",
       "    <tr>\n",
       "      <th>Tomatoes</th>\n",
       "      <td>15004.0</td>\n",
       "    </tr>\n",
       "    <tr>\n",
       "      <th>Bacon</th>\n",
       "      <td>10480.0</td>\n",
       "    </tr>\n",
       "    <tr>\n",
       "      <th>...</th>\n",
       "      <td>...</td>\n",
       "    </tr>\n",
       "    <tr>\n",
       "      <th>Prosciutto</th>\n",
       "      <td>322.0</td>\n",
       "    </tr>\n",
       "    <tr>\n",
       "      <th>Friggitello Peppers</th>\n",
       "      <td>236.0</td>\n",
       "    </tr>\n",
       "    <tr>\n",
       "      <th>Alfredo Sauce</th>\n",
       "      <td>163.0</td>\n",
       "    </tr>\n",
       "    <tr>\n",
       "      <th>Pears</th>\n",
       "      <td>107.0</td>\n",
       "    </tr>\n",
       "    <tr>\n",
       "      <th>Thyme</th>\n",
       "      <td>54.0</td>\n",
       "    </tr>\n",
       "  </tbody>\n",
       "</table>\n",
       "<p>64 rows × 1 columns</p>\n",
       "</div>"
      ],
      "text/plain": [
       "                     Quantity\n",
       "pizza_ingredients            \n",
       "Capocollo             22397.0\n",
       "Chicken               21742.0\n",
       "Red Onions            19399.0\n",
       "Tomatoes              15004.0\n",
       "Bacon                 10480.0\n",
       "...                       ...\n",
       "Prosciutto              322.0\n",
       "Friggitello Peppers     236.0\n",
       "Alfredo Sauce           163.0\n",
       "Pears                   107.0\n",
       "Thyme                    54.0\n",
       "\n",
       "[64 rows x 1 columns]"
      ]
     },
     "execution_count": 17,
     "metadata": {},
     "output_type": "execute_result"
    }
   ],
   "source": [
    "purchase_order = purchase_order.groupby('pizza_ingredients').sum().sort_values(by='Quantity', ascending=False)\n",
    "purchase_order"
   ]
  },
  {
   "cell_type": "code",
   "execution_count": 18,
   "metadata": {},
   "outputs": [],
   "source": [
    "purchase_order.to_excel('purchase_order.xlsx', index=False)"
   ]
  },
  {
   "cell_type": "code",
   "execution_count": 19,
   "metadata": {},
   "outputs": [
    {
     "data": {
      "text/html": [
       "<div>\n",
       "<style scoped>\n",
       "    .dataframe tbody tr th:only-of-type {\n",
       "        vertical-align: middle;\n",
       "    }\n",
       "\n",
       "    .dataframe tbody tr th {\n",
       "        vertical-align: top;\n",
       "    }\n",
       "\n",
       "    .dataframe thead th {\n",
       "        text-align: right;\n",
       "    }\n",
       "</style>\n",
       "<table border=\"1\" class=\"dataframe\">\n",
       "  <thead>\n",
       "    <tr style=\"text-align: right;\">\n",
       "      <th></th>\n",
       "      <th>Quantity</th>\n",
       "    </tr>\n",
       "    <tr>\n",
       "      <th>pizza_ingredients</th>\n",
       "      <th></th>\n",
       "    </tr>\n",
       "  </thead>\n",
       "  <tbody>\n",
       "    <tr>\n",
       "      <th>Prosciutto di San Daniele</th>\n",
       "      <td>1076.0</td>\n",
       "    </tr>\n",
       "    <tr>\n",
       "      <th>Italian Sausage</th>\n",
       "      <td>370.0</td>\n",
       "    </tr>\n",
       "    <tr>\n",
       "      <th>Calabrese Salami</th>\n",
       "      <td>4889.0</td>\n",
       "    </tr>\n",
       "  </tbody>\n",
       "</table>\n",
       "</div>"
      ],
      "text/plain": [
       "                           Quantity\n",
       "pizza_ingredients                  \n",
       "Prosciutto di San Daniele    1076.0\n",
       "Italian Sausage               370.0\n",
       "Calabrese Salami             4889.0"
      ]
     },
     "execution_count": 19,
     "metadata": {},
     "output_type": "execute_result"
    }
   ],
   "source": [
    "purchase_order.sample(3)"
   ]
  },
  {
   "cell_type": "code",
   "execution_count": null,
   "metadata": {},
   "outputs": [],
   "source": []
  }
 ],
 "metadata": {
  "kernelspec": {
   "display_name": ".venv",
   "language": "python",
   "name": "python3"
  },
  "language_info": {
   "codemirror_mode": {
    "name": "ipython",
    "version": 3
   },
   "file_extension": ".py",
   "mimetype": "text/x-python",
   "name": "python",
   "nbconvert_exporter": "python",
   "pygments_lexer": "ipython3",
   "version": "3.12.4"
  }
 },
 "nbformat": 4,
 "nbformat_minor": 2
}
