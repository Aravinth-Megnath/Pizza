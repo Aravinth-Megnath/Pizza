{
 "cells": [
  {
   "cell_type": "code",
   "execution_count": 11,
   "metadata": {},
   "outputs": [],
   "source": [
    "import pandas as pd\n",
    "\n",
    "df = pd.read_excel(\"S:/Pizza/dataset/Pizza_Sale.xlsx\")\n"
   ]
  },
  {
   "cell_type": "code",
   "execution_count": 12,
   "metadata": {},
   "outputs": [],
   "source": [
    "sales_df = df.copy()"
   ]
  },
  {
   "cell_type": "code",
   "execution_count": 13,
   "metadata": {},
   "outputs": [],
   "source": [
    "sales_df['order_date'] = pd.to_datetime(sales_df['order_date'])"
   ]
  },
  {
   "cell_type": "code",
   "execution_count": 14,
   "metadata": {},
   "outputs": [],
   "source": [
    "sales_df.set_index('order_date',inplace=True)"
   ]
  },
  {
   "cell_type": "code",
   "execution_count": 15,
   "metadata": {},
   "outputs": [],
   "source": [
    "sales_df['Weekly_sales'] = sales_df.quantity.resample('W').sum()"
   ]
  },
  {
   "cell_type": "code",
   "execution_count": 16,
   "metadata": {},
   "outputs": [],
   "source": [
    "sales_df.reset_index(inplace=True)"
   ]
  },
  {
   "cell_type": "code",
   "execution_count": 17,
   "metadata": {},
   "outputs": [],
   "source": [
    "columns_to_keep = ['order_date', 'pizza_name_id', 'quantity','Weekly_sales']"
   ]
  },
  {
   "cell_type": "code",
   "execution_count": null,
   "metadata": {},
   "outputs": [],
   "source": []
  },
  {
   "cell_type": "code",
   "execution_count": 18,
   "metadata": {},
   "outputs": [],
   "source": [
    "sales_df = sales_df[columns_to_keep]"
   ]
  },
  {
   "cell_type": "code",
   "execution_count": 24,
   "metadata": {},
   "outputs": [],
   "source": [
    "sales_df['Week'] = sales_df['order_date'].dt.isocalendar().week\n",
    "sales_df['year'] = sales_df['order_date'].dt.year"
   ]
  },
  {
   "cell_type": "code",
   "execution_count": 40,
   "metadata": {},
   "outputs": [
    {
     "data": {
      "text/html": [
       "<div>\n",
       "<style scoped>\n",
       "    .dataframe tbody tr th:only-of-type {\n",
       "        vertical-align: middle;\n",
       "    }\n",
       "\n",
       "    .dataframe tbody tr th {\n",
       "        vertical-align: top;\n",
       "    }\n",
       "\n",
       "    .dataframe thead th {\n",
       "        text-align: right;\n",
       "    }\n",
       "</style>\n",
       "<table border=\"1\" class=\"dataframe\">\n",
       "  <thead>\n",
       "    <tr style=\"text-align: right;\">\n",
       "      <th></th>\n",
       "      <th>pizza_name_id</th>\n",
       "      <th>order_date</th>\n",
       "      <th>Week</th>\n",
       "      <th>quantity</th>\n",
       "    </tr>\n",
       "  </thead>\n",
       "  <tbody>\n",
       "    <tr>\n",
       "      <th>0</th>\n",
       "      <td>bbq_ckn_l</td>\n",
       "      <td>2015-01-01</td>\n",
       "      <td>1</td>\n",
       "      <td>6</td>\n",
       "    </tr>\n",
       "    <tr>\n",
       "      <th>1</th>\n",
       "      <td>bbq_ckn_l</td>\n",
       "      <td>2015-01-02</td>\n",
       "      <td>1</td>\n",
       "      <td>4</td>\n",
       "    </tr>\n",
       "    <tr>\n",
       "      <th>2</th>\n",
       "      <td>bbq_ckn_l</td>\n",
       "      <td>2015-01-03</td>\n",
       "      <td>1</td>\n",
       "      <td>2</td>\n",
       "    </tr>\n",
       "    <tr>\n",
       "      <th>3</th>\n",
       "      <td>bbq_ckn_l</td>\n",
       "      <td>2015-01-05</td>\n",
       "      <td>2</td>\n",
       "      <td>2</td>\n",
       "    </tr>\n",
       "    <tr>\n",
       "      <th>4</th>\n",
       "      <td>bbq_ckn_l</td>\n",
       "      <td>2015-01-06</td>\n",
       "      <td>2</td>\n",
       "      <td>1</td>\n",
       "    </tr>\n",
       "    <tr>\n",
       "      <th>...</th>\n",
       "      <td>...</td>\n",
       "      <td>...</td>\n",
       "      <td>...</td>\n",
       "      <td>...</td>\n",
       "    </tr>\n",
       "    <tr>\n",
       "      <th>22955</th>\n",
       "      <td>veggie_veg_s</td>\n",
       "      <td>2015-12-24</td>\n",
       "      <td>52</td>\n",
       "      <td>1</td>\n",
       "    </tr>\n",
       "    <tr>\n",
       "      <th>22956</th>\n",
       "      <td>veggie_veg_s</td>\n",
       "      <td>2015-12-27</td>\n",
       "      <td>52</td>\n",
       "      <td>3</td>\n",
       "    </tr>\n",
       "    <tr>\n",
       "      <th>22957</th>\n",
       "      <td>veggie_veg_s</td>\n",
       "      <td>2015-12-28</td>\n",
       "      <td>53</td>\n",
       "      <td>1</td>\n",
       "    </tr>\n",
       "    <tr>\n",
       "      <th>22958</th>\n",
       "      <td>veggie_veg_s</td>\n",
       "      <td>2015-12-30</td>\n",
       "      <td>53</td>\n",
       "      <td>4</td>\n",
       "    </tr>\n",
       "    <tr>\n",
       "      <th>22959</th>\n",
       "      <td>veggie_veg_s</td>\n",
       "      <td>2015-12-31</td>\n",
       "      <td>53</td>\n",
       "      <td>4</td>\n",
       "    </tr>\n",
       "  </tbody>\n",
       "</table>\n",
       "<p>22960 rows × 4 columns</p>\n",
       "</div>"
      ],
      "text/plain": [
       "      pizza_name_id order_date  Week  quantity\n",
       "0         bbq_ckn_l 2015-01-01     1         6\n",
       "1         bbq_ckn_l 2015-01-02     1         4\n",
       "2         bbq_ckn_l 2015-01-03     1         2\n",
       "3         bbq_ckn_l 2015-01-05     2         2\n",
       "4         bbq_ckn_l 2015-01-06     2         1\n",
       "...             ...        ...   ...       ...\n",
       "22955  veggie_veg_s 2015-12-24    52         1\n",
       "22956  veggie_veg_s 2015-12-27    52         3\n",
       "22957  veggie_veg_s 2015-12-28    53         1\n",
       "22958  veggie_veg_s 2015-12-30    53         4\n",
       "22959  veggie_veg_s 2015-12-31    53         4\n",
       "\n",
       "[22960 rows x 4 columns]"
      ]
     },
     "execution_count": 40,
     "metadata": {},
     "output_type": "execute_result"
    }
   ],
   "source": [
    "weekly_sales_df = sales_df.groupby(['pizza_name_id','order_date','Week']).agg({'quantity':'sum'}).reset_index()\n",
    "weekly_sales_df"
   ]
  },
  {
   "cell_type": "code",
   "execution_count": 30,
   "metadata": {},
   "outputs": [
    {
     "data": {
      "text/plain": [
       "pizza_name_id\n",
       "the_greek_xxl     22\n",
       "calabrese_s       43\n",
       "ckn_alfredo_s     44\n",
       "green_garden_l    46\n",
       "mexicana_s        49\n",
       "ital_veggie_l     51\n",
       "mediterraneo_s    51\n",
       "prsc_argla_l      52\n",
       "ckn_alfredo_l     52\n",
       "spinach_supr_m    52\n",
       "Name: count, dtype: int64"
      ]
     },
     "execution_count": 30,
     "metadata": {},
     "output_type": "execute_result"
    }
   ],
   "source": [
    "weekly_sales_df.pizza_name_id.value_counts().sort_values(ascending=True).head(10)"
   ]
  },
  {
   "cell_type": "code",
   "execution_count": 42,
   "metadata": {},
   "outputs": [],
   "source": [
    "#day of the week\n",
    "\n",
    "weekly_sales_df['Day'] = weekly_sales_df['order_date'].dt.day_name()"
   ]
  },
  {
   "cell_type": "code",
   "execution_count": 45,
   "metadata": {},
   "outputs": [],
   "source": [
    "#holiday in 2015\n",
    "from pandas.tseries.holiday import USFederalHolidayCalendar as calendar\n",
    "\n",
    "holiday = calendar().holidays(start='2015-01-01', end='2015-12-31')\n",
    "weekly_sales_df['Holiday'] = weekly_sales_df['order_date'].isin(holiday)"
   ]
  },
  {
   "cell_type": "code",
   "execution_count": 47,
   "metadata": {},
   "outputs": [],
   "source": [
    "#weekend \n",
    "\n",
    "weekly_sales_df['Weekend'] = weekly_sales_df['Day'].isin(['Saturday','Sunday'])"
   ]
  },
  {
   "cell_type": "code",
   "execution_count": 52,
   "metadata": {},
   "outputs": [
    {
     "data": {
      "text/plain": [
       "Weekend\n",
       "False    64\n",
       "True     20\n",
       "Name: count, dtype: int64"
      ]
     },
     "execution_count": 52,
     "metadata": {},
     "output_type": "execute_result"
    }
   ],
   "source": [
    "weekly_sales_df[weekly_sales_df['pizza_name_id'] == 'ckn_alfredo_s']['Weekend'].value_counts()"
   ]
  },
  {
   "cell_type": "code",
   "execution_count": 55,
   "metadata": {},
   "outputs": [
    {
     "data": {
      "text/plain": [
       "<Axes: xlabel='Week'>"
      ]
     },
     "execution_count": 55,
     "metadata": {},
     "output_type": "execute_result"
    },
    {
     "data": {
      "image/png": "[encoded data removed]",
      "text/plain": [
       "<Figure size 640x480 with 1 Axes>"
      ]
     },
     "metadata": {},
     "output_type": "display_data"
    }
   ],
   "source": [
    "weekly_sales_df[weekly_sales_df['pizza_name_id'] == 'ckn_alfredo_s'][['Week','quantity']].plot(kind='line',x='Week',y='quantity')"
   ]
  },
  {
   "cell_type": "code",
   "execution_count": 60,
   "metadata": {},
   "outputs": [],
   "source": [
    "weekly_sales_df.set_index('order_date',inplace=True)"
   ]
  },
  {
   "cell_type": "code",
   "execution_count": 61,
   "metadata": {},
   "outputs": [
    {
     "data": {
      "text/plain": [
       "[['bbq_ckn_l_df'],\n",
       " ['bbq_ckn_m_df'],\n",
       " ['bbq_ckn_s_df'],\n",
       " ['big_meat_s_df'],\n",
       " ['brie_carre_s_df'],\n",
       " ['calabrese_l_df'],\n",
       " ['calabrese_m_df'],\n",
       " ['calabrese_s_df'],\n",
       " ['cali_ckn_l_df'],\n",
       " ['cali_ckn_m_df'],\n",
       " ['cali_ckn_s_df'],\n",
       " ['ckn_alfredo_l_df'],\n",
       " ['ckn_alfredo_m_df'],\n",
       " ['ckn_alfredo_s_df'],\n",
       " ['ckn_pesto_l_df'],\n",
       " ['ckn_pesto_m_df'],\n",
       " ['ckn_pesto_s_df'],\n",
       " ['classic_dlx_l_df'],\n",
       " ['classic_dlx_m_df'],\n",
       " ['classic_dlx_s_df'],\n",
       " ['five_cheese_l_df'],\n",
       " ['four_cheese_l_df'],\n",
       " ['four_cheese_m_df'],\n",
       " ['green_garden_l_df'],\n",
       " ['green_garden_m_df'],\n",
       " ['green_garden_s_df'],\n",
       " ['hawaiian_l_df'],\n",
       " ['hawaiian_m_df'],\n",
       " ['hawaiian_s_df'],\n",
       " ['ital_cpcllo_l_df'],\n",
       " ['ital_cpcllo_m_df'],\n",
       " ['ital_cpcllo_s_df'],\n",
       " ['ital_supr_l_df'],\n",
       " ['ital_supr_m_df'],\n",
       " ['ital_supr_s_df'],\n",
       " ['ital_veggie_l_df'],\n",
       " ['ital_veggie_m_df'],\n",
       " ['ital_veggie_s_df'],\n",
       " ['mediterraneo_l_df'],\n",
       " ['mediterraneo_m_df'],\n",
       " ['mediterraneo_s_df'],\n",
       " ['mexicana_l_df'],\n",
       " ['mexicana_m_df'],\n",
       " ['mexicana_s_df'],\n",
       " ['napolitana_l_df'],\n",
       " ['napolitana_m_df'],\n",
       " ['napolitana_s_df'],\n",
       " ['pep_msh_pep_l_df'],\n",
       " ['pep_msh_pep_m_df'],\n",
       " ['pep_msh_pep_s_df'],\n",
       " ['pepperoni_l_df'],\n",
       " ['pepperoni_m_df'],\n",
       " ['pepperoni_s_df'],\n",
       " ['peppr_salami_l_df'],\n",
       " ['peppr_salami_m_df'],\n",
       " ['peppr_salami_s_df'],\n",
       " ['prsc_argla_l_df'],\n",
       " ['prsc_argla_m_df'],\n",
       " ['prsc_argla_s_df'],\n",
       " ['sicilian_l_df'],\n",
       " ['sicilian_m_df'],\n",
       " ['sicilian_s_df'],\n",
       " ['soppressata_l_df'],\n",
       " ['soppressata_m_df'],\n",
       " ['soppressata_s_df'],\n",
       " ['southw_ckn_l_df'],\n",
       " ['southw_ckn_m_df'],\n",
       " ['southw_ckn_s_df'],\n",
       " ['spicy_ital_l_df'],\n",
       " ['spicy_ital_m_df'],\n",
       " ['spicy_ital_s_df'],\n",
       " ['spin_pesto_l_df'],\n",
       " ['spin_pesto_m_df'],\n",
       " ['spin_pesto_s_df'],\n",
       " ['spinach_fet_l_df'],\n",
       " ['spinach_fet_m_df'],\n",
       " ['spinach_fet_s_df'],\n",
       " ['spinach_supr_l_df'],\n",
       " ['spinach_supr_m_df'],\n",
       " ['spinach_supr_s_df'],\n",
       " ['thai_ckn_l_df'],\n",
       " ['thai_ckn_m_df'],\n",
       " ['thai_ckn_s_df'],\n",
       " ['the_greek_l_df'],\n",
       " ['the_greek_m_df'],\n",
       " ['the_greek_s_df'],\n",
       " ['the_greek_xl_df'],\n",
       " ['the_greek_xxl_df'],\n",
       " ['veggie_veg_l_df'],\n",
       " ['veggie_veg_m_df'],\n",
       " ['veggie_veg_s_df']]"
      ]
     },
     "execution_count": 61,
     "metadata": {},
     "output_type": "execute_result"
    }
   ],
   "source": [
    "#grouping the pizza names in a list to iterate through it later on \n",
    "pizza_name_df = []\n",
    "pizza_name_list = weekly_sales_df.pizza_name_id.unique().tolist()\n",
    "for pizza_name in pizza_name_list:\n",
    "    globals()[f'{pizza_name}_df'] = weekly_sales_df[weekly_sales_df['pizza_name_id'] == pizza_name]\n",
    "    pizza_name_df.append([f'{pizza_name}_df'])\n",
    "pizza_name_df"
   ]
  },
  {
   "cell_type": "code",
   "execution_count": 62,
   "metadata": {},
   "outputs": [
    {
     "data": {
      "text/html": [
       "<div>\n",
       "<style scoped>\n",
       "    .dataframe tbody tr th:only-of-type {\n",
       "        vertical-align: middle;\n",
       "    }\n",
       "\n",
       "    .dataframe tbody tr th {\n",
       "        vertical-align: top;\n",
       "    }\n",
       "\n",
       "    .dataframe thead th {\n",
       "        text-align: right;\n",
       "    }\n",
       "</style>\n",
       "<table border=\"1\" class=\"dataframe\">\n",
       "  <thead>\n",
       "    <tr style=\"text-align: right;\">\n",
       "      <th></th>\n",
       "      <th>pizza_name_id</th>\n",
       "      <th>Week</th>\n",
       "      <th>quantity</th>\n",
       "      <th>Day</th>\n",
       "      <th>Holiday</th>\n",
       "      <th>Weekend</th>\n",
       "    </tr>\n",
       "    <tr>\n",
       "      <th>order_date</th>\n",
       "      <th></th>\n",
       "      <th></th>\n",
       "      <th></th>\n",
       "      <th></th>\n",
       "      <th></th>\n",
       "      <th></th>\n",
       "    </tr>\n",
       "  </thead>\n",
       "  <tbody>\n",
       "    <tr>\n",
       "      <th>2015-09-05</th>\n",
       "      <td>bbq_ckn_l</td>\n",
       "      <td>36</td>\n",
       "      <td>3</td>\n",
       "      <td>Saturday</td>\n",
       "      <td>False</td>\n",
       "      <td>True</td>\n",
       "    </tr>\n",
       "    <tr>\n",
       "      <th>2015-06-05</th>\n",
       "      <td>bbq_ckn_l</td>\n",
       "      <td>23</td>\n",
       "      <td>2</td>\n",
       "      <td>Friday</td>\n",
       "      <td>False</td>\n",
       "      <td>False</td>\n",
       "    </tr>\n",
       "  </tbody>\n",
       "</table>\n",
       "</div>"
      ],
      "text/plain": [
       "           pizza_name_id  Week  quantity       Day  Holiday  Weekend\n",
       "order_date                                                          \n",
       "2015-09-05     bbq_ckn_l    36         3  Saturday    False     True\n",
       "2015-06-05     bbq_ckn_l    23         2    Friday    False    False"
      ]
     },
     "execution_count": 62,
     "metadata": {},
     "output_type": "execute_result"
    }
   ],
   "source": [
    "bbq_ckn_l_df.sample(2)"
   ]
  },
  {
   "cell_type": "code",
   "execution_count": null,
   "metadata": {},
   "outputs": [],
   "source": []
  },
  {
   "cell_type": "code",
   "execution_count": 65,
   "metadata": {},
   "outputs": [],
   "source": [
    "import xgboost as xgb\n",
    "import numpy as np\n",
    "from sklearn.metrics import mean_squared_error\n",
    "from sklearn.model_selection import TimeSeriesSplit\n",
    "\n",
    "def create_features(df):\n",
    "    df.loc[:, 'month'] = df.index.month\n",
    "    df.loc[:, 'year'] = df.index.year\n",
    "    df.loc[:, 'weekofyear'] = df.index.isocalendar().week\n",
    "    return df\n",
    "\n",
    "def add_lags(df):\n",
    "    target_map = df['weekly_sales'].to_dict()\n",
    "    df.loc[:, 'lag1'] = (df.index - pd.Timedelta('7 days')).map(target_map)\n",
    "    df.loc[:, 'lag2'] = (df.index - pd.Timedelta('14 days')).map(target_map)\n",
    "    df.loc[:, 'lag3'] = (df.index - pd.Timedelta('21 days')).map(target_map)\n",
    "    return df\n",
    "\n",
    "def feature_engineering(df):\n",
    "    df = create_features(df)\n",
    "    df = add_lags(df)\n",
    "    return df\n",
    "\n",
    "def sales_feature(df):\n",
    "    df = df.copy()  # Ensure df is a copy to avoid SettingWithCopyWarning\n",
    "    df.set_index('order_date', inplace=True)\n",
    "    df.loc[:, 'weekly_sales'] = df['quantity'].resample('W').sum()\n",
    "    df.drop(columns=['pizza_name_id', 'quantity'], inplace=True)\n",
    "    df = feature_engineering(df)\n",
    "    return df\n",
    "\n",
    "def model_training(df):\n",
    "    if df.empty:\n",
    "        raise ValueError(\"DataFrame is empty after preprocessing.\")\n",
    "    \n",
    "    tss = TimeSeriesSplit(n_splits=3, test_size=4, gap=0)\n",
    "    preds = []\n",
    "    scores = []\n",
    "\n",
    "    for train_idx, val_idx in tss.split(df):\n",
    "        train = df.iloc[train_idx]\n",
    "        test = df.iloc[val_idx]\n",
    "\n",
    "        FEATURES = ['weekofyear', 'month', 'year', 'lag1', 'lag2', 'lag3']\n",
    "        TARGET = 'weekly_sales'\n",
    "\n",
    "        X_train = train[FEATURES]\n",
    "        y_train = train[TARGET]\n",
    "\n",
    "        X_test = test[FEATURES]\n",
    "        y_test = test[TARGET]\n",
    "\n",
    "        reg = xgb.XGBRegressor(base_score=0.5, booster='gbtree',\n",
    "                               n_estimators=400, early_stopping_rounds=50,\n",
    "                               objective='reg:linear', max_depth=3,\n",
    "                               learning_rate=0.01)\n",
    "        reg.fit(X_train, y_train,\n",
    "                eval_set=[(X_train, y_train), (X_test, y_test)],\n",
    "                verbose=100)\n",
    "\n",
    "        y_pred = reg.predict(X_test)\n",
    "        preds.append(y_pred)\n",
    "        score = np.sqrt(mean_squared_error(y_test, y_pred))\n",
    "        scores.append(score)\n",
    "    \n",
    "    future = pd.date_range(start=df.index.max() + pd.Timedelta('7 days'), \n",
    "                           periods=4, freq='W')\n",
    "    future_df = pd.DataFrame(index=future)\n",
    "    future_df['isFuture'] = True\n",
    "    df['isFuture'] = False\n",
    "    df_and_future = pd.concat([df, future_df])\n",
    "    df_and_future = feature_engineering(df_and_future)\n",
    "    future_w_features = df_and_future.query('isFuture').copy()\n",
    "    future_w_features['pred'] = reg.predict(future_w_features[FEATURES])\n",
    "    predicted_sum = future_w_features['pred'].sum()\n",
    "    return predicted_sum"
   ]
  },
  {
   "cell_type": "code",
   "execution_count": 66,
   "metadata": {},
   "outputs": [
    {
     "name": "stdout",
     "output_type": "stream",
     "text": [
      "Processing hawaiian_m...\n",
      "Skipping hawaiian_m due to error: [08:05:32] C:\\buildkite-agent\\builds\\buildkite-windows-cpu-autoscaling-group-i-06abd128ca6c1688d-1\\xgboost\\xgboost-ci-windows\\src\\data\\data.cc:514: Check failed: valid: Label contains NaN, infinity or a value too large.\n",
      "Processing classic_dlx_m...\n",
      "Skipping classic_dlx_m due to error: [08:05:32] C:\\buildkite-agent\\builds\\buildkite-windows-cpu-autoscaling-group-i-06abd128ca6c1688d-1\\xgboost\\xgboost-ci-windows\\src\\data\\data.cc:514: Check failed: valid: Label contains NaN, infinity or a value too large.\n",
      "Processing five_cheese_l...\n",
      "Skipping five_cheese_l due to error: [08:05:32] C:\\buildkite-agent\\builds\\buildkite-windows-cpu-autoscaling-group-i-06abd128ca6c1688d-1\\xgboost\\xgboost-ci-windows\\src\\data\\data.cc:514: Check failed: valid: Label contains NaN, infinity or a value too large.\n",
      "Processing ital_supr_l...\n",
      "Skipping ital_supr_l due to error: [08:05:32] C:\\buildkite-agent\\builds\\buildkite-windows-cpu-autoscaling-group-i-06abd128ca6c1688d-1\\xgboost\\xgboost-ci-windows\\src\\data\\data.cc:514: Check failed: valid: Label contains NaN, infinity or a value too large.\n",
      "Processing mexicana_m...\n",
      "Skipping mexicana_m due to error: [08:05:32] C:\\buildkite-agent\\builds\\buildkite-windows-cpu-autoscaling-group-i-06abd128ca6c1688d-1\\xgboost\\xgboost-ci-windows\\src\\data\\data.cc:514: Check failed: valid: Label contains NaN, infinity or a value too large.\n",
      "Processing thai_ckn_l...\n",
      "Skipping thai_ckn_l due to error: [08:05:32] C:\\buildkite-agent\\builds\\buildkite-windows-cpu-autoscaling-group-i-06abd128ca6c1688d-1\\xgboost\\xgboost-ci-windows\\src\\data\\data.cc:514: Check failed: valid: Label contains NaN, infinity or a value too large.\n",
      "Processing ital_supr_m...\n",
      "Skipping ital_supr_m due to error: [08:05:32] C:\\buildkite-agent\\builds\\buildkite-windows-cpu-autoscaling-group-i-06abd128ca6c1688d-1\\xgboost\\xgboost-ci-windows\\src\\data\\data.cc:514: Check failed: valid: Label contains NaN, infinity or a value too large.\n",
      "Processing prsc_argla_l...\n",
      "Skipping prsc_argla_l due to error: [08:05:32] C:\\buildkite-agent\\builds\\buildkite-windows-cpu-autoscaling-group-i-06abd128ca6c1688d-1\\xgboost\\xgboost-ci-windows\\src\\data\\data.cc:514: Check failed: valid: Label contains NaN, infinity or a value too large.\n",
      "Processing bbq_ckn_s...\n",
      "Skipping bbq_ckn_s due to error: [08:05:32] C:\\buildkite-agent\\builds\\buildkite-windows-cpu-autoscaling-group-i-06abd128ca6c1688d-1\\xgboost\\xgboost-ci-windows\\src\\data\\data.cc:514: Check failed: valid: Label contains NaN, infinity or a value too large.\n",
      "Processing the_greek_s...\n",
      "Skipping the_greek_s due to error: [08:05:33] C:\\buildkite-agent\\builds\\buildkite-windows-cpu-autoscaling-group-i-06abd128ca6c1688d-1\\xgboost\\xgboost-ci-windows\\src\\data\\data.cc:514: Check failed: valid: Label contains NaN, infinity or a value too large.\n",
      "Processing spinach_supr_s...\n",
      "Skipping spinach_supr_s due to error: [08:05:33] C:\\buildkite-agent\\builds\\buildkite-windows-cpu-autoscaling-group-i-06abd128ca6c1688d-1\\xgboost\\xgboost-ci-windows\\src\\data\\data.cc:514: Check failed: valid: Label contains NaN, infinity or a value too large.\n",
      "Processing classic_dlx_s...\n",
      "Skipping classic_dlx_s due to error: [08:05:33] C:\\buildkite-agent\\builds\\buildkite-windows-cpu-autoscaling-group-i-06abd128ca6c1688d-1\\xgboost\\xgboost-ci-windows\\src\\data\\data.cc:514: Check failed: valid: Label contains NaN, infinity or a value too large.\n",
      "Processing green_garden_s...\n",
      "Skipping green_garden_s due to error: [08:05:33] C:\\buildkite-agent\\builds\\buildkite-windows-cpu-autoscaling-group-i-06abd128ca6c1688d-1\\xgboost\\xgboost-ci-windows\\src\\data\\data.cc:514: Check failed: valid: Label contains NaN, infinity or a value too large.\n",
      "Processing ital_cpcllo_l...\n",
      "Skipping ital_cpcllo_l due to error: [08:05:33] C:\\buildkite-agent\\builds\\buildkite-windows-cpu-autoscaling-group-i-06abd128ca6c1688d-1\\xgboost\\xgboost-ci-windows\\src\\data\\data.cc:514: Check failed: valid: Label contains NaN, infinity or a value too large.\n",
      "Processing ital_supr_s...\n",
      "Skipping ital_supr_s due to error: [08:05:33] C:\\buildkite-agent\\builds\\buildkite-windows-cpu-autoscaling-group-i-06abd128ca6c1688d-1\\xgboost\\xgboost-ci-windows\\src\\data\\data.cc:514: Check failed: valid: Label contains NaN, infinity or a value too large.\n",
      "Processing mexicana_s...\n",
      "Skipping mexicana_s due to error: [08:05:33] C:\\buildkite-agent\\builds\\buildkite-windows-cpu-autoscaling-group-i-06abd128ca6c1688d-1\\xgboost\\xgboost-ci-windows\\src\\data\\data.cc:514: Check failed: valid: Label contains NaN, infinity or a value too large.\n",
      "Processing spicy_ital_l...\n",
      "Skipping spicy_ital_l due to error: [08:05:33] C:\\buildkite-agent\\builds\\buildkite-windows-cpu-autoscaling-group-i-06abd128ca6c1688d-1\\xgboost\\xgboost-ci-windows\\src\\data\\data.cc:514: Check failed: valid: Label contains NaN, infinity or a value too large.\n",
      "Processing spin_pesto_l...\n",
      "Skipping spin_pesto_l due to error: [08:05:33] C:\\buildkite-agent\\builds\\buildkite-windows-cpu-autoscaling-group-i-06abd128ca6c1688d-1\\xgboost\\xgboost-ci-windows\\src\\data\\data.cc:514: Check failed: valid: Label contains NaN, infinity or a value too large.\n",
      "Processing veggie_veg_s...\n",
      "Skipping veggie_veg_s due to error: [08:05:33] C:\\buildkite-agent\\builds\\buildkite-windows-cpu-autoscaling-group-i-06abd128ca6c1688d-1\\xgboost\\xgboost-ci-windows\\src\\data\\data.cc:514: Check failed: valid: Label contains NaN, infinity or a value too large.\n",
      "Processing mexicana_l...\n",
      "Skipping mexicana_l due to error: [08:05:33] C:\\buildkite-agent\\builds\\buildkite-windows-cpu-autoscaling-group-i-06abd128ca6c1688d-1\\xgboost\\xgboost-ci-windows\\src\\data\\data.cc:514: Check failed: valid: Label contains NaN, infinity or a value too large.\n",
      "Processing southw_ckn_l...\n",
      "Skipping southw_ckn_l due to error: [08:05:33] C:\\buildkite-agent\\builds\\buildkite-windows-cpu-autoscaling-group-i-06abd128ca6c1688d-1\\xgboost\\xgboost-ci-windows\\src\\data\\data.cc:514: Check failed: valid: Label contains NaN, infinity or a value too large.\n",
      "Processing bbq_ckn_l...\n",
      "Skipping bbq_ckn_l due to error: [08:05:33] C:\\buildkite-agent\\builds\\buildkite-windows-cpu-autoscaling-group-i-06abd128ca6c1688d-1\\xgboost\\xgboost-ci-windows\\src\\data\\data.cc:514: Check failed: valid: Label contains NaN, infinity or a value too large.\n",
      "Processing cali_ckn_l...\n",
      "Skipping cali_ckn_l due to error: [08:05:33] C:\\buildkite-agent\\builds\\buildkite-windows-cpu-autoscaling-group-i-06abd128ca6c1688d-1\\xgboost\\xgboost-ci-windows\\src\\data\\data.cc:514: Check failed: valid: Label contains NaN, infinity or a value too large.\n",
      "Processing cali_ckn_m...\n",
      "Skipping cali_ckn_m due to error: [08:05:33] C:\\buildkite-agent\\builds\\buildkite-windows-cpu-autoscaling-group-i-06abd128ca6c1688d-1\\xgboost\\xgboost-ci-windows\\src\\data\\data.cc:514: Check failed: valid: Label contains NaN, infinity or a value too large.\n",
      "Processing pepperoni_l...\n",
      "Skipping pepperoni_l due to error: [08:05:33] C:\\buildkite-agent\\builds\\buildkite-windows-cpu-autoscaling-group-i-06abd128ca6c1688d-1\\xgboost\\xgboost-ci-windows\\src\\data\\data.cc:514: Check failed: valid: Label contains NaN, infinity or a value too large.\n",
      "Processing cali_ckn_s...\n",
      "Skipping cali_ckn_s due to error: [08:05:33] C:\\buildkite-agent\\builds\\buildkite-windows-cpu-autoscaling-group-i-06abd128ca6c1688d-1\\xgboost\\xgboost-ci-windows\\src\\data\\data.cc:514: Check failed: valid: Label contains NaN, infinity or a value too large.\n",
      "Processing ckn_pesto_l...\n",
      "Skipping ckn_pesto_l due to error: [08:05:33] C:\\buildkite-agent\\builds\\buildkite-windows-cpu-autoscaling-group-i-06abd128ca6c1688d-1\\xgboost\\xgboost-ci-windows\\src\\data\\data.cc:514: Check failed: valid: Label contains NaN, infinity or a value too large.\n",
      "Processing big_meat_s...\n",
      "Skipping big_meat_s due to error: [08:05:33] C:\\buildkite-agent\\builds\\buildkite-windows-cpu-autoscaling-group-i-06abd128ca6c1688d-1\\xgboost\\xgboost-ci-windows\\src\\data\\data.cc:514: Check failed: valid: Label contains NaN, infinity or a value too large.\n",
      "Processing nan...\n",
      "No data for nan, skipping...\n",
      "Processing calabrese_m...\n",
      "Skipping calabrese_m due to error: [08:05:33] C:\\buildkite-agent\\builds\\buildkite-windows-cpu-autoscaling-group-i-06abd128ca6c1688d-1\\xgboost\\xgboost-ci-windows\\src\\data\\data.cc:514: Check failed: valid: Label contains NaN, infinity or a value too large.\n",
      "Processing four_cheese_m...\n",
      "Skipping four_cheese_m due to error: [08:05:33] C:\\buildkite-agent\\builds\\buildkite-windows-cpu-autoscaling-group-i-06abd128ca6c1688d-1\\xgboost\\xgboost-ci-windows\\src\\data\\data.cc:514: Check failed: valid: Label contains NaN, infinity or a value too large.\n",
      "Processing ital_veggie_s...\n",
      "Skipping ital_veggie_s due to error: [08:05:33] C:\\buildkite-agent\\builds\\buildkite-windows-cpu-autoscaling-group-i-06abd128ca6c1688d-1\\xgboost\\xgboost-ci-windows\\src\\data\\data.cc:514: Check failed: valid: Label contains NaN, infinity or a value too large.\n",
      "Processing mediterraneo_m...\n",
      "Skipping mediterraneo_m due to error: [08:05:33] C:\\buildkite-agent\\builds\\buildkite-windows-cpu-autoscaling-group-i-06abd128ca6c1688d-1\\xgboost\\xgboost-ci-windows\\src\\data\\data.cc:514: Check failed: valid: Label contains NaN, infinity or a value too large.\n",
      "Processing peppr_salami_s...\n",
      "Skipping peppr_salami_s due to error: [08:05:33] C:\\buildkite-agent\\builds\\buildkite-windows-cpu-autoscaling-group-i-06abd128ca6c1688d-1\\xgboost\\xgboost-ci-windows\\src\\data\\data.cc:514: Check failed: valid: Label contains NaN, infinity or a value too large.\n",
      "Processing spinach_fet_l...\n",
      "Skipping spinach_fet_l due to error: [08:05:34] C:\\buildkite-agent\\builds\\buildkite-windows-cpu-autoscaling-group-i-06abd128ca6c1688d-1\\xgboost\\xgboost-ci-windows\\src\\data\\data.cc:514: Check failed: valid: Label contains NaN, infinity or a value too large.\n",
      "Processing napolitana_l...\n",
      "Skipping napolitana_l due to error: [08:05:34] C:\\buildkite-agent\\builds\\buildkite-windows-cpu-autoscaling-group-i-06abd128ca6c1688d-1\\xgboost\\xgboost-ci-windows\\src\\data\\data.cc:514: Check failed: valid: Label contains NaN, infinity or a value too large.\n",
      "Processing sicilian_l...\n",
      "Skipping sicilian_l due to error: [08:05:34] C:\\buildkite-agent\\builds\\buildkite-windows-cpu-autoscaling-group-i-06abd128ca6c1688d-1\\xgboost\\xgboost-ci-windows\\src\\data\\data.cc:514: Check failed: valid: Label contains NaN, infinity or a value too large.\n",
      "Processing ital_cpcllo_m...\n",
      "Skipping ital_cpcllo_m due to error: [08:05:34] C:\\buildkite-agent\\builds\\buildkite-windows-cpu-autoscaling-group-i-06abd128ca6c1688d-1\\xgboost\\xgboost-ci-windows\\src\\data\\data.cc:514: Check failed: valid: Label contains NaN, infinity or a value too large.\n",
      "Processing southw_ckn_s...\n",
      "Skipping southw_ckn_s due to error: [08:05:34] C:\\buildkite-agent\\builds\\buildkite-windows-cpu-autoscaling-group-i-06abd128ca6c1688d-1\\xgboost\\xgboost-ci-windows\\src\\data\\data.cc:514: Check failed: valid: Label contains NaN, infinity or a value too large.\n",
      "Processing bbq_ckn_m...\n",
      "Skipping bbq_ckn_m due to error: [08:05:34] C:\\buildkite-agent\\builds\\buildkite-windows-cpu-autoscaling-group-i-06abd128ca6c1688d-1\\xgboost\\xgboost-ci-windows\\src\\data\\data.cc:514: Check failed: valid: Label contains NaN, infinity or a value too large.\n",
      "Processing pepperoni_m...\n",
      "Skipping pepperoni_m due to error: [08:05:34] C:\\buildkite-agent\\builds\\buildkite-windows-cpu-autoscaling-group-i-06abd128ca6c1688d-1\\xgboost\\xgboost-ci-windows\\src\\data\\data.cc:514: Check failed: valid: Label contains NaN, infinity or a value too large.\n",
      "Processing prsc_argla_s...\n",
      "Skipping prsc_argla_s due to error: [08:05:34] C:\\buildkite-agent\\builds\\buildkite-windows-cpu-autoscaling-group-i-06abd128ca6c1688d-1\\xgboost\\xgboost-ci-windows\\src\\data\\data.cc:514: Check failed: valid: Label contains NaN, infinity or a value too large.\n",
      "Processing sicilian_m...\n",
      "Skipping sicilian_m due to error: [08:05:34] C:\\buildkite-agent\\builds\\buildkite-windows-cpu-autoscaling-group-i-06abd128ca6c1688d-1\\xgboost\\xgboost-ci-windows\\src\\data\\data.cc:514: Check failed: valid: Label contains NaN, infinity or a value too large.\n",
      "Processing veggie_veg_l...\n",
      "Skipping veggie_veg_l due to error: [08:05:34] C:\\buildkite-agent\\builds\\buildkite-windows-cpu-autoscaling-group-i-06abd128ca6c1688d-1\\xgboost\\xgboost-ci-windows\\src\\data\\data.cc:514: Check failed: valid: Label contains NaN, infinity or a value too large.\n",
      "Processing ckn_alfredo_s...\n",
      "Skipping ckn_alfredo_s due to error: [08:05:34] C:\\buildkite-agent\\builds\\buildkite-windows-cpu-autoscaling-group-i-06abd128ca6c1688d-1\\xgboost\\xgboost-ci-windows\\src\\data\\data.cc:514: Check failed: valid: Label contains NaN, infinity or a value too large.\n",
      "Processing pepperoni_s...\n",
      "Skipping pepperoni_s due to error: [08:05:34] C:\\buildkite-agent\\builds\\buildkite-windows-cpu-autoscaling-group-i-06abd128ca6c1688d-1\\xgboost\\xgboost-ci-windows\\src\\data\\data.cc:514: Check failed: valid: Label contains NaN, infinity or a value too large.\n",
      "Processing green_garden_l...\n",
      "Skipping green_garden_l due to error: [08:05:34] C:\\buildkite-agent\\builds\\buildkite-windows-cpu-autoscaling-group-i-06abd128ca6c1688d-1\\xgboost\\xgboost-ci-windows\\src\\data\\data.cc:514: Check failed: valid: Label contains NaN, infinity or a value too large.\n",
      "Processing green_garden_m...\n",
      "Skipping green_garden_m due to error: [08:05:34] C:\\buildkite-agent\\builds\\buildkite-windows-cpu-autoscaling-group-i-06abd128ca6c1688d-1\\xgboost\\xgboost-ci-windows\\src\\data\\data.cc:514: Check failed: valid: Label contains NaN, infinity or a value too large.\n",
      "Processing pep_msh_pep_l...\n",
      "Skipping pep_msh_pep_l due to error: [08:05:34] C:\\buildkite-agent\\builds\\buildkite-windows-cpu-autoscaling-group-i-06abd128ca6c1688d-1\\xgboost\\xgboost-ci-windows\\src\\data\\data.cc:514: Check failed: valid: Label contains NaN, infinity or a value too large.\n",
      "Processing hawaiian_s...\n",
      "Skipping hawaiian_s due to error: [08:05:34] C:\\buildkite-agent\\builds\\buildkite-windows-cpu-autoscaling-group-i-06abd128ca6c1688d-1\\xgboost\\xgboost-ci-windows\\src\\data\\data.cc:514: Check failed: valid: Label contains NaN, infinity or a value too large.\n",
      "Processing four_cheese_l...\n",
      "Skipping four_cheese_l due to error: [08:05:34] C:\\buildkite-agent\\builds\\buildkite-windows-cpu-autoscaling-group-i-06abd128ca6c1688d-1\\xgboost\\xgboost-ci-windows\\src\\data\\data.cc:514: Check failed: valid: Label contains NaN, infinity or a value too large.\n",
      "Processing peppr_salami_m...\n",
      "Skipping peppr_salami_m due to error: [08:05:34] C:\\buildkite-agent\\builds\\buildkite-windows-cpu-autoscaling-group-i-06abd128ca6c1688d-1\\xgboost\\xgboost-ci-windows\\src\\data\\data.cc:514: Check failed: valid: Label contains NaN, infinity or a value too large.\n",
      "Processing ckn_alfredo_m...\n",
      "Skipping ckn_alfredo_m due to error: [08:05:34] C:\\buildkite-agent\\builds\\buildkite-windows-cpu-autoscaling-group-i-06abd128ca6c1688d-1\\xgboost\\xgboost-ci-windows\\src\\data\\data.cc:514: Check failed: valid: Label contains NaN, infinity or a value too large.\n",
      "Processing peppr_salami_l...\n",
      "Skipping peppr_salami_l due to error: [08:05:34] C:\\buildkite-agent\\builds\\buildkite-windows-cpu-autoscaling-group-i-06abd128ca6c1688d-1\\xgboost\\xgboost-ci-windows\\src\\data\\data.cc:514: Check failed: valid: Label contains NaN, infinity or a value too large.\n",
      "Processing spin_pesto_s...\n",
      "Skipping spin_pesto_s due to error: [08:05:34] C:\\buildkite-agent\\builds\\buildkite-windows-cpu-autoscaling-group-i-06abd128ca6c1688d-1\\xgboost\\xgboost-ci-windows\\src\\data\\data.cc:514: Check failed: valid: Label contains NaN, infinity or a value too large.\n",
      "Processing thai_ckn_m...\n",
      "Skipping thai_ckn_m due to error: [08:05:34] C:\\buildkite-agent\\builds\\buildkite-windows-cpu-autoscaling-group-i-06abd128ca6c1688d-1\\xgboost\\xgboost-ci-windows\\src\\data\\data.cc:514: Check failed: valid: Label contains NaN, infinity or a value too large.\n",
      "Processing classic_dlx_l...\n",
      "Skipping classic_dlx_l due to error: [08:05:34] C:\\buildkite-agent\\builds\\buildkite-windows-cpu-autoscaling-group-i-06abd128ca6c1688d-1\\xgboost\\xgboost-ci-windows\\src\\data\\data.cc:514: Check failed: valid: Label contains NaN, infinity or a value too large.\n",
      "Processing ckn_pesto_m...\n",
      "Skipping ckn_pesto_m due to error: [08:05:34] C:\\buildkite-agent\\builds\\buildkite-windows-cpu-autoscaling-group-i-06abd128ca6c1688d-1\\xgboost\\xgboost-ci-windows\\src\\data\\data.cc:514: Check failed: valid: Label contains NaN, infinity or a value too large.\n",
      "Processing the_greek_xl...\n",
      "Skipping the_greek_xl due to error: [08:05:34] C:\\buildkite-agent\\builds\\buildkite-windows-cpu-autoscaling-group-i-06abd128ca6c1688d-1\\xgboost\\xgboost-ci-windows\\src\\data\\data.cc:514: Check failed: valid: Label contains NaN, infinity or a value too large.\n",
      "Processing hawaiian_l...\n",
      "Skipping hawaiian_l due to error: [08:05:34] C:\\buildkite-agent\\builds\\buildkite-windows-cpu-autoscaling-group-i-06abd128ca6c1688d-1\\xgboost\\xgboost-ci-windows\\src\\data\\data.cc:514: Check failed: valid: Label contains NaN, infinity or a value too large.\n",
      "Processing pep_msh_pep_s...\n",
      "Skipping pep_msh_pep_s due to error: [08:05:34] C:\\buildkite-agent\\builds\\buildkite-windows-cpu-autoscaling-group-i-06abd128ca6c1688d-1\\xgboost\\xgboost-ci-windows\\src\\data\\data.cc:514: Check failed: valid: Label contains NaN, infinity or a value too large.\n",
      "Processing spinach_supr_m...\n",
      "Skipping spinach_supr_m due to error: [08:05:34] C:\\buildkite-agent\\builds\\buildkite-windows-cpu-autoscaling-group-i-06abd128ca6c1688d-1\\xgboost\\xgboost-ci-windows\\src\\data\\data.cc:514: Check failed: valid: Label contains NaN, infinity or a value too large.\n",
      "Processing prsc_argla_m...\n",
      "Skipping prsc_argla_m due to error: [08:05:34] C:\\buildkite-agent\\builds\\buildkite-windows-cpu-autoscaling-group-i-06abd128ca6c1688d-1\\xgboost\\xgboost-ci-windows\\src\\data\\data.cc:514: Check failed: valid: Label contains NaN, infinity or a value too large.\n",
      "Processing mediterraneo_l...\n",
      "Skipping mediterraneo_l due to error: [08:05:34] C:\\buildkite-agent\\builds\\buildkite-windows-cpu-autoscaling-group-i-06abd128ca6c1688d-1\\xgboost\\xgboost-ci-windows\\src\\data\\data.cc:514: Check failed: valid: Label contains NaN, infinity or a value too large.\n",
      "Processing southw_ckn_m...\n",
      "Skipping southw_ckn_m due to error: [08:05:34] C:\\buildkite-agent\\builds\\buildkite-windows-cpu-autoscaling-group-i-06abd128ca6c1688d-1\\xgboost\\xgboost-ci-windows\\src\\data\\data.cc:514: Check failed: valid: Label contains NaN, infinity or a value too large.\n",
      "Processing pep_msh_pep_m...\n",
      "Skipping pep_msh_pep_m due to error: [08:05:34] C:\\buildkite-agent\\builds\\buildkite-windows-cpu-autoscaling-group-i-06abd128ca6c1688d-1\\xgboost\\xgboost-ci-windows\\src\\data\\data.cc:514: Check failed: valid: Label contains NaN, infinity or a value too large.\n",
      "Processing sicilian_s...\n",
      "Skipping sicilian_s due to error: [08:05:35] C:\\buildkite-agent\\builds\\buildkite-windows-cpu-autoscaling-group-i-06abd128ca6c1688d-1\\xgboost\\xgboost-ci-windows\\src\\data\\data.cc:514: Check failed: valid: Label contains NaN, infinity or a value too large.\n",
      "Processing spicy_ital_s...\n",
      "Skipping spicy_ital_s due to error: [08:05:35] C:\\buildkite-agent\\builds\\buildkite-windows-cpu-autoscaling-group-i-06abd128ca6c1688d-1\\xgboost\\xgboost-ci-windows\\src\\data\\data.cc:514: Check failed: valid: Label contains NaN, infinity or a value too large.\n",
      "Processing soppressata_l...\n",
      "Skipping soppressata_l due to error: [08:05:35] C:\\buildkite-agent\\builds\\buildkite-windows-cpu-autoscaling-group-i-06abd128ca6c1688d-1\\xgboost\\xgboost-ci-windows\\src\\data\\data.cc:514: Check failed: valid: Label contains NaN, infinity or a value too large.\n",
      "Processing thai_ckn_s...\n",
      "Skipping thai_ckn_s due to error: [08:05:35] C:\\buildkite-agent\\builds\\buildkite-windows-cpu-autoscaling-group-i-06abd128ca6c1688d-1\\xgboost\\xgboost-ci-windows\\src\\data\\data.cc:514: Check failed: valid: Label contains NaN, infinity or a value too large.\n",
      "Processing spinach_supr_l...\n",
      "Skipping spinach_supr_l due to error: [08:05:35] C:\\buildkite-agent\\builds\\buildkite-windows-cpu-autoscaling-group-i-06abd128ca6c1688d-1\\xgboost\\xgboost-ci-windows\\src\\data\\data.cc:514: Check failed: valid: Label contains NaN, infinity or a value too large.\n",
      "Processing ital_veggie_l...\n",
      "Skipping ital_veggie_l due to error: [08:05:35] C:\\buildkite-agent\\builds\\buildkite-windows-cpu-autoscaling-group-i-06abd128ca6c1688d-1\\xgboost\\xgboost-ci-windows\\src\\data\\data.cc:514: Check failed: valid: Label contains NaN, infinity or a value too large.\n",
      "Processing veggie_veg_m...\n",
      "Skipping veggie_veg_m due to error: [08:05:35] C:\\buildkite-agent\\builds\\buildkite-windows-cpu-autoscaling-group-i-06abd128ca6c1688d-1\\xgboost\\xgboost-ci-windows\\src\\data\\data.cc:514: Check failed: valid: Label contains NaN, infinity or a value too large.\n",
      "Processing the_greek_m...\n",
      "Skipping the_greek_m due to error: [08:05:35] C:\\buildkite-agent\\builds\\buildkite-windows-cpu-autoscaling-group-i-06abd128ca6c1688d-1\\xgboost\\xgboost-ci-windows\\src\\data\\data.cc:514: Check failed: valid: Label contains NaN, infinity or a value too large.\n",
      "Processing ckn_pesto_s...\n",
      "Skipping ckn_pesto_s due to error: [08:05:35] C:\\buildkite-agent\\builds\\buildkite-windows-cpu-autoscaling-group-i-06abd128ca6c1688d-1\\xgboost\\xgboost-ci-windows\\src\\data\\data.cc:514: Check failed: valid: Label contains NaN, infinity or a value too large.\n",
      "Processing spinach_fet_s...\n",
      "Skipping spinach_fet_s due to error: [08:05:35] C:\\buildkite-agent\\builds\\buildkite-windows-cpu-autoscaling-group-i-06abd128ca6c1688d-1\\xgboost\\xgboost-ci-windows\\src\\data\\data.cc:514: Check failed: valid: Label contains NaN, infinity or a value too large.\n",
      "Processing napolitana_s...\n",
      "Skipping napolitana_s due to error: [08:05:35] C:\\buildkite-agent\\builds\\buildkite-windows-cpu-autoscaling-group-i-06abd128ca6c1688d-1\\xgboost\\xgboost-ci-windows\\src\\data\\data.cc:514: Check failed: valid: Label contains NaN, infinity or a value too large.\n",
      "Processing spicy_ital_m...\n",
      "Skipping spicy_ital_m due to error: [08:05:35] C:\\buildkite-agent\\builds\\buildkite-windows-cpu-autoscaling-group-i-06abd128ca6c1688d-1\\xgboost\\xgboost-ci-windows\\src\\data\\data.cc:514: Check failed: valid: Label contains NaN, infinity or a value too large.\n",
      "Processing ital_veggie_m...\n",
      "Skipping ital_veggie_m due to error: [08:05:35] C:\\buildkite-agent\\builds\\buildkite-windows-cpu-autoscaling-group-i-06abd128ca6c1688d-1\\xgboost\\xgboost-ci-windows\\src\\data\\data.cc:514: Check failed: valid: Label contains NaN, infinity or a value too large.\n",
      "Processing ital_cpcllo_s...\n",
      "Skipping ital_cpcllo_s due to error: [08:05:35] C:\\buildkite-agent\\builds\\buildkite-windows-cpu-autoscaling-group-i-06abd128ca6c1688d-1\\xgboost\\xgboost-ci-windows\\src\\data\\data.cc:514: Check failed: valid: Label contains NaN, infinity or a value too large.\n",
      "Processing mediterraneo_s...\n",
      "Skipping mediterraneo_s due to error: [08:05:35] C:\\buildkite-agent\\builds\\buildkite-windows-cpu-autoscaling-group-i-06abd128ca6c1688d-1\\xgboost\\xgboost-ci-windows\\src\\data\\data.cc:514: Check failed: valid: Label contains NaN, infinity or a value too large.\n",
      "Processing spinach_fet_m...\n",
      "Skipping spinach_fet_m due to error: [08:05:35] C:\\buildkite-agent\\builds\\buildkite-windows-cpu-autoscaling-group-i-06abd128ca6c1688d-1\\xgboost\\xgboost-ci-windows\\src\\data\\data.cc:514: Check failed: valid: Label contains NaN, infinity or a value too large.\n",
      "Processing napolitana_m...\n",
      "Skipping napolitana_m due to error: [08:05:35] C:\\buildkite-agent\\builds\\buildkite-windows-cpu-autoscaling-group-i-06abd128ca6c1688d-1\\xgboost\\xgboost-ci-windows\\src\\data\\data.cc:514: Check failed: valid: Label contains NaN, infinity or a value too large.\n",
      "Processing spin_pesto_m...\n",
      "Skipping spin_pesto_m due to error: [08:05:35] C:\\buildkite-agent\\builds\\buildkite-windows-cpu-autoscaling-group-i-06abd128ca6c1688d-1\\xgboost\\xgboost-ci-windows\\src\\data\\data.cc:514: Check failed: valid: Label contains NaN, infinity or a value too large.\n",
      "Processing brie_carre_s...\n",
      "Skipping brie_carre_s due to error: [08:05:35] C:\\buildkite-agent\\builds\\buildkite-windows-cpu-autoscaling-group-i-06abd128ca6c1688d-1\\xgboost\\xgboost-ci-windows\\src\\data\\data.cc:514: Check failed: valid: Label contains NaN, infinity or a value too large.\n",
      "Processing ckn_alfredo_l...\n",
      "Skipping ckn_alfredo_l due to error: [08:05:35] C:\\buildkite-agent\\builds\\buildkite-windows-cpu-autoscaling-group-i-06abd128ca6c1688d-1\\xgboost\\xgboost-ci-windows\\src\\data\\data.cc:514: Check failed: valid: Label contains NaN, infinity or a value too large.\n",
      "Processing calabrese_s...\n",
      "Skipping calabrese_s due to error: [08:05:35] C:\\buildkite-agent\\builds\\buildkite-windows-cpu-autoscaling-group-i-06abd128ca6c1688d-1\\xgboost\\xgboost-ci-windows\\src\\data\\data.cc:514: Check failed: valid: Label contains NaN, infinity or a value too large.\n",
      "Processing the_greek_l...\n",
      "Skipping the_greek_l due to error: [08:05:35] C:\\buildkite-agent\\builds\\buildkite-windows-cpu-autoscaling-group-i-06abd128ca6c1688d-1\\xgboost\\xgboost-ci-windows\\src\\data\\data.cc:514: Check failed: valid: Label contains NaN, infinity or a value too large.\n",
      "Processing soppressata_m...\n",
      "Skipping soppressata_m due to error: [08:05:35] C:\\buildkite-agent\\builds\\buildkite-windows-cpu-autoscaling-group-i-06abd128ca6c1688d-1\\xgboost\\xgboost-ci-windows\\src\\data\\data.cc:514: Check failed: valid: Label contains NaN, infinity or a value too large.\n",
      "Processing soppressata_s...\n",
      "Skipping soppressata_s due to error: [08:05:35] C:\\buildkite-agent\\builds\\buildkite-windows-cpu-autoscaling-group-i-06abd128ca6c1688d-1\\xgboost\\xgboost-ci-windows\\src\\data\\data.cc:514: Check failed: valid: Label contains NaN, infinity or a value too large.\n",
      "Processing calabrese_l...\n",
      "Skipping calabrese_l due to error: [08:05:35] C:\\buildkite-agent\\builds\\buildkite-windows-cpu-autoscaling-group-i-06abd128ca6c1688d-1\\xgboost\\xgboost-ci-windows\\src\\data\\data.cc:514: Check failed: valid: Label contains NaN, infinity or a value too large.\n",
      "Processing the_greek_xxl...\n",
      "Skipping the_greek_xxl due to error: [08:05:35] C:\\buildkite-agent\\builds\\buildkite-windows-cpu-autoscaling-group-i-06abd128ca6c1688d-1\\xgboost\\xgboost-ci-windows\\src\\data\\data.cc:514: Check failed: valid: Label contains NaN, infinity or a value too large.\n"
     ]
    }
   ],
   "source": [
    "# Loop through each pizza_name_id\n",
    "pizza_name_list = sales_df.pizza_name_id.unique().tolist()\n",
    "\n",
    "def pizza_df(df, pizza_name):\n",
    "    return df[df['pizza_name_id'] == pizza_name]\n",
    "\n",
    "# Dictionary to store the results\n",
    "results_dict = {}\n",
    "\n",
    "# Loop through each pizza_name_id, process the data, and save the results\n",
    "for pizza_name in pizza_name_list:\n",
    "    print(f\"Processing {pizza_name}...\")\n",
    "    df = pizza_df(sales_df, pizza_name)\n",
    "    if not df.empty:  # Check if df is not empty\n",
    "        df = sales_feature(df)\n",
    "        try:\n",
    "            predicted_sum = model_training(df)\n",
    "            results_dict[pizza_name] = predicted_sum\n",
    "        except ValueError as e:\n",
    "            print(f\"Skipping {pizza_name} due to error: {e}\")\n",
    "    else:\n",
    "        print(f\"No data for {pizza_name}, skipping...\")\n",
    "\n",
    "# Print results\n",
    "for name, predictions in results_dict.items():\n",
    "    print(f\"Predicted total sales for {name} for next 4 weeks: {predictions}\")"
   ]
  },
  {
   "cell_type": "code",
   "execution_count": 67,
   "metadata": {},
   "outputs": [
    {
     "name": "stdout",
     "output_type": "stream",
     "text": [
      "Processing hawaiian_m...\n",
      "[0]\tvalidation_0-rmse:3.58035\tvalidation_1-rmse:3.25444\n",
      "[100]\tvalidation_0-rmse:1.67560\tvalidation_1-rmse:1.41748\n",
      "[200]\tvalidation_0-rmse:1.03694\tvalidation_1-rmse:0.48903\n"
     ]
    },
    {
     "name": "stderr",
     "output_type": "stream",
     "text": [
      "s:\\Pizza\\.venv\\Lib\\site-packages\\xgboost\\core.py:158: UserWarning: [08:06:41] WARNING: C:\\buildkite-agent\\builds\\buildkite-windows-cpu-autoscaling-group-i-06abd128ca6c1688d-1\\xgboost\\xgboost-ci-windows\\src\\objective\\regression_obj.cu:227: reg:linear is now deprecated in favor of reg:squarederror.\n",
      "  warnings.warn(smsg, UserWarning)\n"
     ]
    },
    {
     "name": "stdout",
     "output_type": "stream",
     "text": [
      "[300]\tvalidation_0-rmse:0.85632\tvalidation_1-rmse:0.27540\n",
      "[398]\tvalidation_0-rmse:0.79850\tvalidation_1-rmse:0.26361\n",
      "[0]\tvalidation_0-rmse:3.57762\tvalidation_1-rmse:0.49573\n",
      "[100]\tvalidation_0-rmse:1.67231\tvalidation_1-rmse:0.23078\n"
     ]
    },
    {
     "name": "stderr",
     "output_type": "stream",
     "text": [
      "s:\\Pizza\\.venv\\Lib\\site-packages\\xgboost\\core.py:158: UserWarning: [08:06:41] WARNING: C:\\buildkite-agent\\builds\\buildkite-windows-cpu-autoscaling-group-i-06abd128ca6c1688d-1\\xgboost\\xgboost-ci-windows\\src\\objective\\regression_obj.cu:227: reg:linear is now deprecated in favor of reg:squarederror.\n",
      "  warnings.warn(smsg, UserWarning)\n"
     ]
    },
    {
     "name": "stdout",
     "output_type": "stream",
     "text": [
      "[200]\tvalidation_0-rmse:1.03410\tvalidation_1-rmse:0.13354\n",
      "[300]\tvalidation_0-rmse:0.85236\tvalidation_1-rmse:0.08600\n",
      "[399]\tvalidation_0-rmse:0.79421\tvalidation_1-rmse:0.06135\n",
      "[0]\tvalidation_0-rmse:3.56263\tvalidation_1-rmse:3.72417\n",
      "[100]\tvalidation_0-rmse:1.66526\tvalidation_1-rmse:0.33518\n",
      "[171]\tvalidation_0-rmse:1.14136\tvalidation_1-rmse:0.49885\n"
     ]
    },
    {
     "name": "stderr",
     "output_type": "stream",
     "text": [
      "s:\\Pizza\\.venv\\Lib\\site-packages\\xgboost\\core.py:158: UserWarning: [08:06:42] WARNING: C:\\buildkite-agent\\builds\\buildkite-windows-cpu-autoscaling-group-i-06abd128ca6c1688d-1\\xgboost\\xgboost-ci-windows\\src\\objective\\regression_obj.cu:227: reg:linear is now deprecated in favor of reg:squarederror.\n",
      "  warnings.warn(smsg, UserWarning)\n"
     ]
    },
    {
     "name": "stdout",
     "output_type": "stream",
     "text": [
      "Processing classic_dlx_m...\n",
      "[0]\tvalidation_0-rmse:8.23264\tvalidation_1-rmse:15.75446\n",
      "[100]\tvalidation_0-rmse:3.35838\tvalidation_1-rmse:5.62488\n"
     ]
    },
    {
     "name": "stderr",
     "output_type": "stream",
     "text": [
      "s:\\Pizza\\.venv\\Lib\\site-packages\\xgboost\\core.py:158: UserWarning: [08:06:42] WARNING: C:\\buildkite-agent\\builds\\buildkite-windows-cpu-autoscaling-group-i-06abd128ca6c1688d-1\\xgboost\\xgboost-ci-windows\\src\\objective\\regression_obj.cu:227: reg:linear is now deprecated in favor of reg:squarederror.\n",
      "  warnings.warn(smsg, UserWarning)\n"
     ]
    },
    {
     "name": "stdout",
     "output_type": "stream",
     "text": [
      "[200]\tvalidation_0-rmse:1.69781\tvalidation_1-rmse:2.07120\n",
      "[300]\tvalidation_0-rmse:1.22784\tvalidation_1-rmse:0.72783\n",
      "[399]\tvalidation_0-rmse:1.07909\tvalidation_1-rmse:0.16181\n",
      "[0]\tvalidation_0-rmse:8.27063\tvalidation_1-rmse:0.49501\n",
      "[100]\tvalidation_0-rmse:3.37070\tvalidation_1-rmse:0.18137\n",
      "[200]\tvalidation_0-rmse:1.70051\tvalidation_1-rmse:0.06646\n"
     ]
    },
    {
     "name": "stderr",
     "output_type": "stream",
     "text": [
      "s:\\Pizza\\.venv\\Lib\\site-packages\\xgboost\\core.py:158: UserWarning: [08:06:43] WARNING: C:\\buildkite-agent\\builds\\buildkite-windows-cpu-autoscaling-group-i-06abd128ca6c1688d-1\\xgboost\\xgboost-ci-windows\\src\\objective\\regression_obj.cu:227: reg:linear is now deprecated in favor of reg:squarederror.\n",
      "  warnings.warn(smsg, UserWarning)\n"
     ]
    },
    {
     "name": "stdout",
     "output_type": "stream",
     "text": [
      "[300]\tvalidation_0-rmse:1.22778\tvalidation_1-rmse:0.02435\n",
      "[399]\tvalidation_0-rmse:1.07719\tvalidation_1-rmse:0.01655\n",
      "[0]\tvalidation_0-rmse:8.25635\tvalidation_1-rmse:0.49501\n",
      "[100]\tvalidation_0-rmse:3.36488\tvalidation_1-rmse:0.18137\n"
     ]
    },
    {
     "name": "stderr",
     "output_type": "stream",
     "text": [
      "s:\\Pizza\\.venv\\Lib\\site-packages\\xgboost\\core.py:158: UserWarning: [08:06:43] WARNING: C:\\buildkite-agent\\builds\\buildkite-windows-cpu-autoscaling-group-i-06abd128ca6c1688d-1\\xgboost\\xgboost-ci-windows\\src\\objective\\regression_obj.cu:227: reg:linear is now deprecated in favor of reg:squarederror.\n",
      "  warnings.warn(smsg, UserWarning)\n"
     ]
    },
    {
     "name": "stdout",
     "output_type": "stream",
     "text": [
      "[200]\tvalidation_0-rmse:1.69757\tvalidation_1-rmse:0.06646\n",
      "[300]\tvalidation_0-rmse:1.22565\tvalidation_1-rmse:0.02435\n",
      "[399]\tvalidation_0-rmse:1.07533\tvalidation_1-rmse:0.01652\n",
      "Processing five_cheese_l...\n",
      "[0]\tvalidation_0-rmse:9.94328\tvalidation_1-rmse:8.13248\n",
      "[100]\tvalidation_0-rmse:4.24316\tvalidation_1-rmse:2.44947\n"
     ]
    },
    {
     "name": "stderr",
     "output_type": "stream",
     "text": [
      "s:\\Pizza\\.venv\\Lib\\site-packages\\xgboost\\core.py:158: UserWarning: [08:06:44] WARNING: C:\\buildkite-agent\\builds\\buildkite-windows-cpu-autoscaling-group-i-06abd128ca6c1688d-1\\xgboost\\xgboost-ci-windows\\src\\objective\\regression_obj.cu:227: reg:linear is now deprecated in favor of reg:squarederror.\n",
      "  warnings.warn(smsg, UserWarning)\n"
     ]
    },
    {
     "name": "stdout",
     "output_type": "stream",
     "text": [
      "[200]\tvalidation_0-rmse:2.41041\tvalidation_1-rmse:0.75493\n",
      "[300]\tvalidation_0-rmse:1.86308\tvalidation_1-rmse:0.04590\n",
      "[354]\tvalidation_0-rmse:1.74518\tvalidation_1-rmse:0.49351\n",
      "[0]\tvalidation_0-rmse:9.93857\tvalidation_1-rmse:0.49500\n",
      "[100]\tvalidation_0-rmse:4.24140\tvalidation_1-rmse:0.18284\n"
     ]
    },
    {
     "name": "stderr",
     "output_type": "stream",
     "text": [
      "s:\\Pizza\\.venv\\Lib\\site-packages\\xgboost\\core.py:158: UserWarning: [08:06:44] WARNING: C:\\buildkite-agent\\builds\\buildkite-windows-cpu-autoscaling-group-i-06abd128ca6c1688d-1\\xgboost\\xgboost-ci-windows\\src\\objective\\regression_obj.cu:227: reg:linear is now deprecated in favor of reg:squarederror.\n",
      "  warnings.warn(smsg, UserWarning)\n"
     ]
    },
    {
     "name": "stdout",
     "output_type": "stream",
     "text": [
      "[200]\tvalidation_0-rmse:2.40932\tvalidation_1-rmse:0.07614\n",
      "[300]\tvalidation_0-rmse:1.85951\tvalidation_1-rmse:0.03615\n",
      "[399]\tvalidation_0-rmse:1.67782\tvalidation_1-rmse:0.01935\n",
      "[0]\tvalidation_0-rmse:9.92392\tvalidation_1-rmse:0.49500\n",
      "[100]\tvalidation_0-rmse:4.23514\tvalidation_1-rmse:0.18283\n"
     ]
    },
    {
     "name": "stderr",
     "output_type": "stream",
     "text": [
      "s:\\Pizza\\.venv\\Lib\\site-packages\\xgboost\\core.py:158: UserWarning: [08:06:45] WARNING: C:\\buildkite-agent\\builds\\buildkite-windows-cpu-autoscaling-group-i-06abd128ca6c1688d-1\\xgboost\\xgboost-ci-windows\\src\\objective\\regression_obj.cu:227: reg:linear is now deprecated in favor of reg:squarederror.\n",
      "  warnings.warn(smsg, UserWarning)\n"
     ]
    },
    {
     "name": "stdout",
     "output_type": "stream",
     "text": [
      "[200]\tvalidation_0-rmse:2.40472\tvalidation_1-rmse:0.07591\n",
      "[300]\tvalidation_0-rmse:1.85676\tvalidation_1-rmse:0.03611\n",
      "[399]\tvalidation_0-rmse:1.67534\tvalidation_1-rmse:0.01931\n",
      "Processing ital_supr_l...\n",
      "[0]\tvalidation_0-rmse:5.48966\tvalidation_1-rmse:0.49616\n",
      "[100]\tvalidation_0-rmse:2.53660\tvalidation_1-rmse:0.25499\n",
      "[200]\tvalidation_0-rmse:1.59390\tvalidation_1-rmse:0.13660\n"
     ]
    },
    {
     "name": "stderr",
     "output_type": "stream",
     "text": [
      "s:\\Pizza\\.venv\\Lib\\site-packages\\xgboost\\core.py:158: UserWarning: [08:06:45] WARNING: C:\\buildkite-agent\\builds\\buildkite-windows-cpu-autoscaling-group-i-06abd128ca6c1688d-1\\xgboost\\xgboost-ci-windows\\src\\objective\\regression_obj.cu:227: reg:linear is now deprecated in favor of reg:squarederror.\n",
      "  warnings.warn(smsg, UserWarning)\n"
     ]
    },
    {
     "name": "stdout",
     "output_type": "stream",
     "text": [
      "[300]\tvalidation_0-rmse:1.32206\tvalidation_1-rmse:0.08575\n",
      "[399]\tvalidation_0-rmse:0.99824\tvalidation_1-rmse:0.05829\n",
      "[0]\tvalidation_0-rmse:5.47463\tvalidation_1-rmse:3.21517\n",
      "[100]\tvalidation_0-rmse:2.52965\tvalidation_1-rmse:0.57179\n",
      "[134]\tvalidation_0-rmse:2.07704\tvalidation_1-rmse:1.35514\n",
      "[0]\tvalidation_0-rmse:5.46499\tvalidation_1-rmse:0.49615\n"
     ]
    },
    {
     "name": "stderr",
     "output_type": "stream",
     "text": [
      "s:\\Pizza\\.venv\\Lib\\site-packages\\xgboost\\core.py:158: UserWarning: [08:06:46] WARNING: C:\\buildkite-agent\\builds\\buildkite-windows-cpu-autoscaling-group-i-06abd128ca6c1688d-1\\xgboost\\xgboost-ci-windows\\src\\objective\\regression_obj.cu:227: reg:linear is now deprecated in favor of reg:squarederror.\n",
      "  warnings.warn(smsg, UserWarning)\n",
      "s:\\Pizza\\.venv\\Lib\\site-packages\\xgboost\\core.py:158: UserWarning: [08:06:46] WARNING: C:\\buildkite-agent\\builds\\buildkite-windows-cpu-autoscaling-group-i-06abd128ca6c1688d-1\\xgboost\\xgboost-ci-windows\\src\\objective\\regression_obj.cu:227: reg:linear is now deprecated in favor of reg:squarederror.\n",
      "  warnings.warn(smsg, UserWarning)\n"
     ]
    },
    {
     "name": "stdout",
     "output_type": "stream",
     "text": [
      "[100]\tvalidation_0-rmse:2.53199\tvalidation_1-rmse:0.25417\n",
      "[200]\tvalidation_0-rmse:1.60578\tvalidation_1-rmse:0.14188\n",
      "[300]\tvalidation_0-rmse:1.32712\tvalidation_1-rmse:0.08412\n",
      "[399]\tvalidation_0-rmse:0.99717\tvalidation_1-rmse:0.05857\n",
      "Processing mexicana_m...\n",
      "[0]\tvalidation_0-rmse:3.79108\tvalidation_1-rmse:3.23437\n",
      "[100]\tvalidation_0-rmse:1.73300\tvalidation_1-rmse:1.66148\n",
      "[200]\tvalidation_0-rmse:0.97998\tvalidation_1-rmse:1.05540\n"
     ]
    },
    {
     "name": "stderr",
     "output_type": "stream",
     "text": [
      "s:\\Pizza\\.venv\\Lib\\site-packages\\xgboost\\core.py:158: UserWarning: [08:06:47] WARNING: C:\\buildkite-agent\\builds\\buildkite-windows-cpu-autoscaling-group-i-06abd128ca6c1688d-1\\xgboost\\xgboost-ci-windows\\src\\objective\\regression_obj.cu:227: reg:linear is now deprecated in favor of reg:squarederror.\n",
      "  warnings.warn(smsg, UserWarning)\n"
     ]
    },
    {
     "name": "stdout",
     "output_type": "stream",
     "text": [
      "[300]\tvalidation_0-rmse:0.72070\tvalidation_1-rmse:0.90301\n",
      "[399]\tvalidation_0-rmse:0.61985\tvalidation_1-rmse:0.70336\n",
      "[0]\tvalidation_0-rmse:3.78655\tvalidation_1-rmse:1.75929\n",
      "[100]\tvalidation_0-rmse:1.72737\tvalidation_1-rmse:0.69078\n",
      "[0]\tvalidation_0-rmse:3.77342\tvalidation_1-rmse:0.49527\n"
     ]
    },
    {
     "name": "stderr",
     "output_type": "stream",
     "text": [
      "s:\\Pizza\\.venv\\Lib\\site-packages\\xgboost\\core.py:158: UserWarning: [08:06:47] WARNING: C:\\buildkite-agent\\builds\\buildkite-windows-cpu-autoscaling-group-i-06abd128ca6c1688d-1\\xgboost\\xgboost-ci-windows\\src\\objective\\regression_obj.cu:227: reg:linear is now deprecated in favor of reg:squarederror.\n",
      "  warnings.warn(smsg, UserWarning)\n",
      "s:\\Pizza\\.venv\\Lib\\site-packages\\xgboost\\core.py:158: UserWarning: [08:06:47] WARNING: C:\\buildkite-agent\\builds\\buildkite-windows-cpu-autoscaling-group-i-06abd128ca6c1688d-1\\xgboost\\xgboost-ci-windows\\src\\objective\\regression_obj.cu:227: reg:linear is now deprecated in favor of reg:squarederror.\n",
      "  warnings.warn(smsg, UserWarning)\n"
     ]
    },
    {
     "name": "stdout",
     "output_type": "stream",
     "text": [
      "[100]\tvalidation_0-rmse:1.72695\tvalidation_1-rmse:0.19807\n",
      "[200]\tvalidation_0-rmse:0.99856\tvalidation_1-rmse:0.08685\n",
      "[300]\tvalidation_0-rmse:0.74936\tvalidation_1-rmse:0.04343\n",
      "[399]\tvalidation_0-rmse:0.65948\tvalidation_1-rmse:0.02849\n",
      "Processing thai_ckn_l...\n",
      "[0]\tvalidation_0-rmse:9.48365\tvalidation_1-rmse:27.04606\n",
      "[100]\tvalidation_0-rmse:3.86466\tvalidation_1-rmse:12.24285\n",
      "[200]\tvalidation_0-rmse:1.95031\tvalidation_1-rmse:6.11295\n"
     ]
    },
    {
     "name": "stderr",
     "output_type": "stream",
     "text": [
      "s:\\Pizza\\.venv\\Lib\\site-packages\\xgboost\\core.py:158: UserWarning: [08:06:48] WARNING: C:\\buildkite-agent\\builds\\buildkite-windows-cpu-autoscaling-group-i-06abd128ca6c1688d-1\\xgboost\\xgboost-ci-windows\\src\\objective\\regression_obj.cu:227: reg:linear is now deprecated in favor of reg:squarederror.\n",
      "  warnings.warn(smsg, UserWarning)\n"
     ]
    },
    {
     "name": "stdout",
     "output_type": "stream",
     "text": [
      "[300]\tvalidation_0-rmse:1.37923\tvalidation_1-rmse:4.13260\n",
      "[399]\tvalidation_0-rmse:1.09996\tvalidation_1-rmse:3.49164\n",
      "[0]\tvalidation_0-rmse:9.58271\tvalidation_1-rmse:0.49500\n",
      "[100]\tvalidation_0-rmse:3.90060\tvalidation_1-rmse:0.18134\n",
      "[200]\tvalidation_0-rmse:1.97057\tvalidation_1-rmse:0.06643\n"
     ]
    },
    {
     "name": "stderr",
     "output_type": "stream",
     "text": [
      "s:\\Pizza\\.venv\\Lib\\site-packages\\xgboost\\core.py:158: UserWarning: [08:06:48] WARNING: C:\\buildkite-agent\\builds\\buildkite-windows-cpu-autoscaling-group-i-06abd128ca6c1688d-1\\xgboost\\xgboost-ci-windows\\src\\objective\\regression_obj.cu:227: reg:linear is now deprecated in favor of reg:squarederror.\n",
      "  warnings.warn(smsg, UserWarning)\n"
     ]
    },
    {
     "name": "stdout",
     "output_type": "stream",
     "text": [
      "[300]\tvalidation_0-rmse:1.38397\tvalidation_1-rmse:0.02434\n",
      "[399]\tvalidation_0-rmse:1.10522\tvalidation_1-rmse:0.01791\n",
      "[0]\tvalidation_0-rmse:9.56863\tvalidation_1-rmse:0.49500\n",
      "[100]\tvalidation_0-rmse:3.89487\tvalidation_1-rmse:0.18134\n"
     ]
    },
    {
     "name": "stderr",
     "output_type": "stream",
     "text": [
      "s:\\Pizza\\.venv\\Lib\\site-packages\\xgboost\\core.py:158: UserWarning: [08:06:49] WARNING: C:\\buildkite-agent\\builds\\buildkite-windows-cpu-autoscaling-group-i-06abd128ca6c1688d-1\\xgboost\\xgboost-ci-windows\\src\\objective\\regression_obj.cu:227: reg:linear is now deprecated in favor of reg:squarederror.\n",
      "  warnings.warn(smsg, UserWarning)\n"
     ]
    },
    {
     "name": "stdout",
     "output_type": "stream",
     "text": [
      "[200]\tvalidation_0-rmse:1.96767\tvalidation_1-rmse:0.06643\n",
      "[300]\tvalidation_0-rmse:1.38193\tvalidation_1-rmse:0.02434\n",
      "[399]\tvalidation_0-rmse:1.10359\tvalidation_1-rmse:0.01788\n",
      "Processing ital_supr_m...\n",
      "[0]\tvalidation_0-rmse:6.62367\tvalidation_1-rmse:0.49501\n",
      "[100]\tvalidation_0-rmse:2.80784\tvalidation_1-rmse:0.18142\n",
      "[200]\tvalidation_0-rmse:1.52674\tvalidation_1-rmse:0.06675\n"
     ]
    },
    {
     "name": "stderr",
     "output_type": "stream",
     "text": [
      "s:\\Pizza\\.venv\\Lib\\site-packages\\xgboost\\core.py:158: UserWarning: [08:06:49] WARNING: C:\\buildkite-agent\\builds\\buildkite-windows-cpu-autoscaling-group-i-06abd128ca6c1688d-1\\xgboost\\xgboost-ci-windows\\src\\objective\\regression_obj.cu:227: reg:linear is now deprecated in favor of reg:squarederror.\n",
      "  warnings.warn(smsg, UserWarning)\n"
     ]
    },
    {
     "name": "stdout",
     "output_type": "stream",
     "text": [
      "[300]\tvalidation_0-rmse:1.11582\tvalidation_1-rmse:0.02760\n",
      "[399]\tvalidation_0-rmse:0.92254\tvalidation_1-rmse:0.01457\n",
      "[0]\tvalidation_0-rmse:6.60921\tvalidation_1-rmse:0.49501\n",
      "[100]\tvalidation_0-rmse:2.80170\tvalidation_1-rmse:0.18142\n",
      "[200]\tvalidation_0-rmse:1.52340\tvalidation_1-rmse:0.06675\n"
     ]
    },
    {
     "name": "stderr",
     "output_type": "stream",
     "text": [
      "s:\\Pizza\\.venv\\Lib\\site-packages\\xgboost\\core.py:158: UserWarning: [08:06:50] WARNING: C:\\buildkite-agent\\builds\\buildkite-windows-cpu-autoscaling-group-i-06abd128ca6c1688d-1\\xgboost\\xgboost-ci-windows\\src\\objective\\regression_obj.cu:227: reg:linear is now deprecated in favor of reg:squarederror.\n",
      "  warnings.warn(smsg, UserWarning)\n"
     ]
    },
    {
     "name": "stdout",
     "output_type": "stream",
     "text": [
      "[300]\tvalidation_0-rmse:1.11337\tvalidation_1-rmse:0.02759\n",
      "[399]\tvalidation_0-rmse:0.92088\tvalidation_1-rmse:0.01466\n",
      "[0]\tvalidation_0-rmse:6.59485\tvalidation_1-rmse:0.49501\n",
      "[100]\tvalidation_0-rmse:2.79560\tvalidation_1-rmse:0.18142\n",
      "[200]\tvalidation_0-rmse:1.52007\tvalidation_1-rmse:0.06674\n"
     ]
    },
    {
     "name": "stderr",
     "output_type": "stream",
     "text": [
      "s:\\Pizza\\.venv\\Lib\\site-packages\\xgboost\\core.py:158: UserWarning: [08:06:50] WARNING: C:\\buildkite-agent\\builds\\buildkite-windows-cpu-autoscaling-group-i-06abd128ca6c1688d-1\\xgboost\\xgboost-ci-windows\\src\\objective\\regression_obj.cu:227: reg:linear is now deprecated in favor of reg:squarederror.\n",
      "  warnings.warn(smsg, UserWarning)\n"
     ]
    },
    {
     "name": "stdout",
     "output_type": "stream",
     "text": [
      "[300]\tvalidation_0-rmse:1.11094\tvalidation_1-rmse:0.02757\n",
      "[399]\tvalidation_0-rmse:0.91887\tvalidation_1-rmse:0.01464\n",
      "Processing prsc_argla_l...\n",
      "[0]\tvalidation_0-rmse:2.93678\tvalidation_1-rmse:0.49614\n",
      "[100]\tvalidation_0-rmse:1.69954\tvalidation_1-rmse:0.25356\n",
      "[197]\tvalidation_0-rmse:1.36012\tvalidation_1-rmse:0.35018\n"
     ]
    },
    {
     "name": "stderr",
     "output_type": "stream",
     "text": [
      "s:\\Pizza\\.venv\\Lib\\site-packages\\xgboost\\core.py:158: UserWarning: [08:06:51] WARNING: C:\\buildkite-agent\\builds\\buildkite-windows-cpu-autoscaling-group-i-06abd128ca6c1688d-1\\xgboost\\xgboost-ci-windows\\src\\objective\\regression_obj.cu:227: reg:linear is now deprecated in favor of reg:squarederror.\n",
      "  warnings.warn(smsg, UserWarning)\n"
     ]
    },
    {
     "name": "stdout",
     "output_type": "stream",
     "text": [
      "[0]\tvalidation_0-rmse:2.92299\tvalidation_1-rmse:7.38089\n",
      "[100]\tvalidation_0-rmse:1.69145\tvalidation_1-rmse:3.90390\n",
      "[200]\tvalidation_0-rmse:1.34974\tvalidation_1-rmse:2.70722\n"
     ]
    },
    {
     "name": "stderr",
     "output_type": "stream",
     "text": [
      "s:\\Pizza\\.venv\\Lib\\site-packages\\xgboost\\core.py:158: UserWarning: [08:06:51] WARNING: C:\\buildkite-agent\\builds\\buildkite-windows-cpu-autoscaling-group-i-06abd128ca6c1688d-1\\xgboost\\xgboost-ci-windows\\src\\objective\\regression_obj.cu:227: reg:linear is now deprecated in favor of reg:squarederror.\n",
      "  warnings.warn(smsg, UserWarning)\n"
     ]
    },
    {
     "name": "stdout",
     "output_type": "stream",
     "text": [
      "[300]\tvalidation_0-rmse:1.25091\tvalidation_1-rmse:2.23901\n",
      "[399]\tvalidation_0-rmse:1.20229\tvalidation_1-rmse:2.15654\n",
      "[0]\tvalidation_0-rmse:2.99666\tvalidation_1-rmse:0.49612\n",
      "[100]\tvalidation_0-rmse:1.70837\tvalidation_1-rmse:0.25241\n",
      "[200]\tvalidation_0-rmse:1.36029\tvalidation_1-rmse:0.28636\n",
      "[201]\tvalidation_0-rmse:1.35866\tvalidation_1-rmse:0.28581\n"
     ]
    },
    {
     "name": "stderr",
     "output_type": "stream",
     "text": [
      "s:\\Pizza\\.venv\\Lib\\site-packages\\xgboost\\core.py:158: UserWarning: [08:06:52] WARNING: C:\\buildkite-agent\\builds\\buildkite-windows-cpu-autoscaling-group-i-06abd128ca6c1688d-1\\xgboost\\xgboost-ci-windows\\src\\objective\\regression_obj.cu:227: reg:linear is now deprecated in favor of reg:squarederror.\n",
      "  warnings.warn(smsg, UserWarning)\n"
     ]
    },
    {
     "name": "stdout",
     "output_type": "stream",
     "text": [
      "Processing bbq_ckn_s...\n",
      "[0]\tvalidation_0-rmse:3.40986\tvalidation_1-rmse:3.23589\n",
      "[100]\tvalidation_0-rmse:1.78191\tvalidation_1-rmse:0.48082\n",
      "[188]\tvalidation_0-rmse:1.34432\tvalidation_1-rmse:0.36555\n"
     ]
    },
    {
     "name": "stderr",
     "output_type": "stream",
     "text": [
      "s:\\Pizza\\.venv\\Lib\\site-packages\\xgboost\\core.py:158: UserWarning: [08:06:52] WARNING: C:\\buildkite-agent\\builds\\buildkite-windows-cpu-autoscaling-group-i-06abd128ca6c1688d-1\\xgboost\\xgboost-ci-windows\\src\\objective\\regression_obj.cu:227: reg:linear is now deprecated in favor of reg:squarederror.\n",
      "  warnings.warn(smsg, UserWarning)\n"
     ]
    },
    {
     "name": "stdout",
     "output_type": "stream",
     "text": [
      "[0]\tvalidation_0-rmse:3.40852\tvalidation_1-rmse:0.49626\n",
      "[100]\tvalidation_0-rmse:1.77903\tvalidation_1-rmse:0.26111\n",
      "[200]\tvalidation_0-rmse:1.30938\tvalidation_1-rmse:0.15577\n"
     ]
    },
    {
     "name": "stderr",
     "output_type": "stream",
     "text": [
      "s:\\Pizza\\.venv\\Lib\\site-packages\\xgboost\\core.py:158: UserWarning: [08:06:52] WARNING: C:\\buildkite-agent\\builds\\buildkite-windows-cpu-autoscaling-group-i-06abd128ca6c1688d-1\\xgboost\\xgboost-ci-windows\\src\\objective\\regression_obj.cu:227: reg:linear is now deprecated in favor of reg:squarederror.\n",
      "  warnings.warn(smsg, UserWarning)\n"
     ]
    },
    {
     "name": "stdout",
     "output_type": "stream",
     "text": [
      "[300]\tvalidation_0-rmse:1.17352\tvalidation_1-rmse:0.10839\n",
      "[387]\tvalidation_0-rmse:1.13443\tvalidation_1-rmse:0.11571\n",
      "[0]\tvalidation_0-rmse:3.39444\tvalidation_1-rmse:0.49625\n",
      "[100]\tvalidation_0-rmse:1.77163\tvalidation_1-rmse:0.26037\n"
     ]
    },
    {
     "name": "stderr",
     "output_type": "stream",
     "text": [
      "s:\\Pizza\\.venv\\Lib\\site-packages\\xgboost\\core.py:158: UserWarning: [08:06:53] WARNING: C:\\buildkite-agent\\builds\\buildkite-windows-cpu-autoscaling-group-i-06abd128ca6c1688d-1\\xgboost\\xgboost-ci-windows\\src\\objective\\regression_obj.cu:227: reg:linear is now deprecated in favor of reg:squarederror.\n",
      "  warnings.warn(smsg, UserWarning)\n"
     ]
    },
    {
     "name": "stdout",
     "output_type": "stream",
     "text": [
      "[200]\tvalidation_0-rmse:1.30374\tvalidation_1-rmse:0.15493\n",
      "[300]\tvalidation_0-rmse:1.16886\tvalidation_1-rmse:0.10740\n",
      "[387]\tvalidation_0-rmse:1.12997\tvalidation_1-rmse:0.11395\n",
      "Processing the_greek_s...\n",
      "[0]\tvalidation_0-rmse:2.13675\tvalidation_1-rmse:1.77585\n",
      "[100]\tvalidation_0-rmse:1.19501\tvalidation_1-rmse:0.54041\n"
     ]
    },
    {
     "name": "stderr",
     "output_type": "stream",
     "text": [
      "s:\\Pizza\\.venv\\Lib\\site-packages\\xgboost\\core.py:158: UserWarning: [08:06:53] WARNING: C:\\buildkite-agent\\builds\\buildkite-windows-cpu-autoscaling-group-i-06abd128ca6c1688d-1\\xgboost\\xgboost-ci-windows\\src\\objective\\regression_obj.cu:227: reg:linear is now deprecated in favor of reg:squarederror.\n",
      "  warnings.warn(smsg, UserWarning)\n"
     ]
    },
    {
     "name": "stdout",
     "output_type": "stream",
     "text": [
      "[200]\tvalidation_0-rmse:0.89340\tvalidation_1-rmse:0.22391\n",
      "[229]\tvalidation_0-rmse:0.85132\tvalidation_1-rmse:0.35421\n",
      "[0]\tvalidation_0-rmse:2.13236\tvalidation_1-rmse:0.49597\n",
      "[100]\tvalidation_0-rmse:1.18633\tvalidation_1-rmse:0.24283\n",
      "[200]\tvalidation_0-rmse:0.88799\tvalidation_1-rmse:0.14116\n"
     ]
    },
    {
     "name": "stderr",
     "output_type": "stream",
     "text": [
      "s:\\Pizza\\.venv\\Lib\\site-packages\\xgboost\\core.py:158: UserWarning: [08:06:54] WARNING: C:\\buildkite-agent\\builds\\buildkite-windows-cpu-autoscaling-group-i-06abd128ca6c1688d-1\\xgboost\\xgboost-ci-windows\\src\\objective\\regression_obj.cu:227: reg:linear is now deprecated in favor of reg:squarederror.\n",
      "  warnings.warn(smsg, UserWarning)\n"
     ]
    },
    {
     "name": "stdout",
     "output_type": "stream",
     "text": [
      "[300]\tvalidation_0-rmse:0.78527\tvalidation_1-rmse:0.09666\n",
      "[399]\tvalidation_0-rmse:0.75180\tvalidation_1-rmse:0.08404\n",
      "[0]\tvalidation_0-rmse:2.11864\tvalidation_1-rmse:4.57229\n",
      "[100]\tvalidation_0-rmse:1.17849\tvalidation_1-rmse:2.80549\n",
      "[200]\tvalidation_0-rmse:0.88205\tvalidation_1-rmse:1.57045\n"
     ]
    },
    {
     "name": "stderr",
     "output_type": "stream",
     "text": [
      "s:\\Pizza\\.venv\\Lib\\site-packages\\xgboost\\core.py:158: UserWarning: [08:06:54] WARNING: C:\\buildkite-agent\\builds\\buildkite-windows-cpu-autoscaling-group-i-06abd128ca6c1688d-1\\xgboost\\xgboost-ci-windows\\src\\objective\\regression_obj.cu:227: reg:linear is now deprecated in favor of reg:squarederror.\n",
      "  warnings.warn(smsg, UserWarning)\n"
     ]
    },
    {
     "name": "stdout",
     "output_type": "stream",
     "text": [
      "[300]\tvalidation_0-rmse:0.78038\tvalidation_1-rmse:1.01030\n",
      "[399]\tvalidation_0-rmse:0.74624\tvalidation_1-rmse:0.82924\n",
      "Processing spinach_supr_s...\n",
      "[0]\tvalidation_0-rmse:3.36820\tvalidation_1-rmse:0.49604\n",
      "[100]\tvalidation_0-rmse:1.64206\tvalidation_1-rmse:0.24163\n",
      "[200]\tvalidation_0-rmse:1.09111\tvalidation_1-rmse:0.14069\n"
     ]
    },
    {
     "name": "stderr",
     "output_type": "stream",
     "text": [
      "s:\\Pizza\\.venv\\Lib\\site-packages\\xgboost\\core.py:158: UserWarning: [08:06:54] WARNING: C:\\buildkite-agent\\builds\\buildkite-windows-cpu-autoscaling-group-i-06abd128ca6c1688d-1\\xgboost\\xgboost-ci-windows\\src\\objective\\regression_obj.cu:227: reg:linear is now deprecated in favor of reg:squarederror.\n",
      "  warnings.warn(smsg, UserWarning)\n"
     ]
    },
    {
     "name": "stdout",
     "output_type": "stream",
     "text": [
      "[300]\tvalidation_0-rmse:0.92617\tvalidation_1-rmse:0.09150\n",
      "[399]\tvalidation_0-rmse:0.83982\tvalidation_1-rmse:0.06478\n",
      "[0]\tvalidation_0-rmse:3.35103\tvalidation_1-rmse:5.71890\n",
      "[100]\tvalidation_0-rmse:1.63363\tvalidation_1-rmse:2.96050\n",
      "[200]\tvalidation_0-rmse:1.08547\tvalidation_1-rmse:1.96808\n"
     ]
    },
    {
     "name": "stderr",
     "output_type": "stream",
     "text": [
      "s:\\Pizza\\.venv\\Lib\\site-packages\\xgboost\\core.py:158: UserWarning: [08:06:55] WARNING: C:\\buildkite-agent\\builds\\buildkite-windows-cpu-autoscaling-group-i-06abd128ca6c1688d-1\\xgboost\\xgboost-ci-windows\\src\\objective\\regression_obj.cu:227: reg:linear is now deprecated in favor of reg:squarederror.\n",
      "  warnings.warn(smsg, UserWarning)\n"
     ]
    },
    {
     "name": "stdout",
     "output_type": "stream",
     "text": [
      "[300]\tvalidation_0-rmse:0.92158\tvalidation_1-rmse:1.64349\n",
      "[335]\tvalidation_0-rmse:0.89712\tvalidation_1-rmse:1.64712\n",
      "[0]\tvalidation_0-rmse:3.38368\tvalidation_1-rmse:0.82336\n",
      "[67]\tvalidation_0-rmse:2.02650\tvalidation_1-rmse:1.47427\n"
     ]
    },
    {
     "name": "stderr",
     "output_type": "stream",
     "text": [
      "s:\\Pizza\\.venv\\Lib\\site-packages\\xgboost\\core.py:158: UserWarning: [08:06:55] WARNING: C:\\buildkite-agent\\builds\\buildkite-windows-cpu-autoscaling-group-i-06abd128ca6c1688d-1\\xgboost\\xgboost-ci-windows\\src\\objective\\regression_obj.cu:227: reg:linear is now deprecated in favor of reg:squarederror.\n",
      "  warnings.warn(smsg, UserWarning)\n"
     ]
    },
    {
     "name": "stdout",
     "output_type": "stream",
     "text": [
      "Processing classic_dlx_s...\n",
      "[0]\tvalidation_0-rmse:5.15339\tvalidation_1-rmse:7.34361\n"
     ]
    },
    {
     "name": "stderr",
     "output_type": "stream",
     "text": [
      "s:\\Pizza\\.venv\\Lib\\site-packages\\xgboost\\core.py:158: UserWarning: [08:06:56] WARNING: C:\\buildkite-agent\\builds\\buildkite-windows-cpu-autoscaling-group-i-06abd128ca6c1688d-1\\xgboost\\xgboost-ci-windows\\src\\objective\\regression_obj.cu:227: reg:linear is now deprecated in favor of reg:squarederror.\n",
      "  warnings.warn(smsg, UserWarning)\n"
     ]
    },
    {
     "name": "stdout",
     "output_type": "stream",
     "text": [
      "[100]\tvalidation_0-rmse:2.18171\tvalidation_1-rmse:1.13053\n",
      "[185]\tvalidation_0-rmse:1.27330\tvalidation_1-rmse:1.04887\n",
      "[0]\tvalidation_0-rmse:5.16715\tvalidation_1-rmse:0.49501\n",
      "[100]\tvalidation_0-rmse:2.19137\tvalidation_1-rmse:0.18146\n"
     ]
    },
    {
     "name": "stderr",
     "output_type": "stream",
     "text": [
      "s:\\Pizza\\.venv\\Lib\\site-packages\\xgboost\\core.py:158: UserWarning: [08:06:56] WARNING: C:\\buildkite-agent\\builds\\buildkite-windows-cpu-autoscaling-group-i-06abd128ca6c1688d-1\\xgboost\\xgboost-ci-windows\\src\\objective\\regression_obj.cu:227: reg:linear is now deprecated in favor of reg:squarederror.\n",
      "  warnings.warn(smsg, UserWarning)\n"
     ]
    },
    {
     "name": "stdout",
     "output_type": "stream",
     "text": [
      "[200]\tvalidation_0-rmse:1.19006\tvalidation_1-rmse:0.06895\n",
      "[300]\tvalidation_0-rmse:0.88600\tvalidation_1-rmse:0.02618\n",
      "[399]\tvalidation_0-rmse:0.77808\tvalidation_1-rmse:0.01241\n",
      "[0]\tvalidation_0-rmse:5.15404\tvalidation_1-rmse:0.49501\n",
      "[100]\tvalidation_0-rmse:2.18580\tvalidation_1-rmse:0.18146\n",
      "[200]\tvalidation_0-rmse:1.18702\tvalidation_1-rmse:0.06893\n"
     ]
    },
    {
     "name": "stderr",
     "output_type": "stream",
     "text": [
      "s:\\Pizza\\.venv\\Lib\\site-packages\\xgboost\\core.py:158: UserWarning: [08:06:56] WARNING: C:\\buildkite-agent\\builds\\buildkite-windows-cpu-autoscaling-group-i-06abd128ca6c1688d-1\\xgboost\\xgboost-ci-windows\\src\\objective\\regression_obj.cu:227: reg:linear is now deprecated in favor of reg:squarederror.\n",
      "  warnings.warn(smsg, UserWarning)\n"
     ]
    },
    {
     "name": "stdout",
     "output_type": "stream",
     "text": [
      "[300]\tvalidation_0-rmse:0.88405\tvalidation_1-rmse:0.02616\n",
      "[399]\tvalidation_0-rmse:0.77601\tvalidation_1-rmse:0.01236\n",
      "Processing green_garden_s...\n",
      "[0]\tvalidation_0-rmse:4.24095\tvalidation_1-rmse:0.49523\n",
      "[100]\tvalidation_0-rmse:1.96639\tvalidation_1-rmse:0.20484\n"
     ]
    },
    {
     "name": "stderr",
     "output_type": "stream",
     "text": [
      "s:\\Pizza\\.venv\\Lib\\site-packages\\xgboost\\core.py:158: UserWarning: [08:06:57] WARNING: C:\\buildkite-agent\\builds\\buildkite-windows-cpu-autoscaling-group-i-06abd128ca6c1688d-1\\xgboost\\xgboost-ci-windows\\src\\objective\\regression_obj.cu:227: reg:linear is now deprecated in favor of reg:squarederror.\n",
      "  warnings.warn(smsg, UserWarning)\n"
     ]
    },
    {
     "name": "stdout",
     "output_type": "stream",
     "text": [
      "[200]\tvalidation_0-rmse:1.24121\tvalidation_1-rmse:0.09381\n",
      "[300]\tvalidation_0-rmse:1.01093\tvalidation_1-rmse:0.04671\n",
      "[399]\tvalidation_0-rmse:0.93468\tvalidation_1-rmse:0.02530\n",
      "[0]\tvalidation_0-rmse:4.22660\tvalidation_1-rmse:3.72155\n",
      "[100]\tvalidation_0-rmse:1.95970\tvalidation_1-rmse:0.27622\n",
      "[164]\tvalidation_0-rmse:1.40453\tvalidation_1-rmse:0.57135\n"
     ]
    },
    {
     "name": "stderr",
     "output_type": "stream",
     "text": [
      "s:\\Pizza\\.venv\\Lib\\site-packages\\xgboost\\core.py:158: UserWarning: [08:06:58] WARNING: C:\\buildkite-agent\\builds\\buildkite-windows-cpu-autoscaling-group-i-06abd128ca6c1688d-1\\xgboost\\xgboost-ci-windows\\src\\objective\\regression_obj.cu:227: reg:linear is now deprecated in favor of reg:squarederror.\n",
      "  warnings.warn(smsg, UserWarning)\n"
     ]
    },
    {
     "name": "stdout",
     "output_type": "stream",
     "text": [
      "[0]\tvalidation_0-rmse:4.22349\tvalidation_1-rmse:0.49523\n",
      "[100]\tvalidation_0-rmse:1.95949\tvalidation_1-rmse:0.20452\n"
     ]
    },
    {
     "name": "stderr",
     "output_type": "stream",
     "text": [
      "s:\\Pizza\\.venv\\Lib\\site-packages\\xgboost\\core.py:158: UserWarning: [08:06:58] WARNING: C:\\buildkite-agent\\builds\\buildkite-windows-cpu-autoscaling-group-i-06abd128ca6c1688d-1\\xgboost\\xgboost-ci-windows\\src\\objective\\regression_obj.cu:227: reg:linear is now deprecated in favor of reg:squarederror.\n",
      "  warnings.warn(smsg, UserWarning)\n"
     ]
    },
    {
     "name": "stdout",
     "output_type": "stream",
     "text": [
      "[200]\tvalidation_0-rmse:1.23723\tvalidation_1-rmse:0.09344\n",
      "[300]\tvalidation_0-rmse:1.00242\tvalidation_1-rmse:0.04439\n",
      "[399]\tvalidation_0-rmse:0.92815\tvalidation_1-rmse:0.02518\n",
      "Processing ital_cpcllo_l...\n",
      "[0]\tvalidation_0-rmse:5.44815\tvalidation_1-rmse:0.49516\n",
      "[100]\tvalidation_0-rmse:2.33198\tvalidation_1-rmse:0.19092\n"
     ]
    },
    {
     "name": "stderr",
     "output_type": "stream",
     "text": [
      "s:\\Pizza\\.venv\\Lib\\site-packages\\xgboost\\core.py:158: UserWarning: [08:06:59] WARNING: C:\\buildkite-agent\\builds\\buildkite-windows-cpu-autoscaling-group-i-06abd128ca6c1688d-1\\xgboost\\xgboost-ci-windows\\src\\objective\\regression_obj.cu:227: reg:linear is now deprecated in favor of reg:squarederror.\n",
      "  warnings.warn(smsg, UserWarning)\n"
     ]
    },
    {
     "name": "stdout",
     "output_type": "stream",
     "text": [
      "[200]\tvalidation_0-rmse:1.24703\tvalidation_1-rmse:0.07791\n",
      "[300]\tvalidation_0-rmse:0.87473\tvalidation_1-rmse:0.03606\n",
      "[399]\tvalidation_0-rmse:0.71152\tvalidation_1-rmse:0.02517\n",
      "[0]\tvalidation_0-rmse:5.43285\tvalidation_1-rmse:0.49515\n",
      "[100]\tvalidation_0-rmse:2.32541\tvalidation_1-rmse:0.19086\n"
     ]
    },
    {
     "name": "stderr",
     "output_type": "stream",
     "text": [
      "s:\\Pizza\\.venv\\Lib\\site-packages\\xgboost\\core.py:158: UserWarning: [08:06:59] WARNING: C:\\buildkite-agent\\builds\\buildkite-windows-cpu-autoscaling-group-i-06abd128ca6c1688d-1\\xgboost\\xgboost-ci-windows\\src\\objective\\regression_obj.cu:227: reg:linear is now deprecated in favor of reg:squarederror.\n",
      "  warnings.warn(smsg, UserWarning)\n"
     ]
    },
    {
     "name": "stdout",
     "output_type": "stream",
     "text": [
      "[200]\tvalidation_0-rmse:1.24353\tvalidation_1-rmse:0.07788\n",
      "[300]\tvalidation_0-rmse:0.87281\tvalidation_1-rmse:0.03582\n",
      "[399]\tvalidation_0-rmse:0.70980\tvalidation_1-rmse:0.02504\n",
      "[0]\tvalidation_0-rmse:5.41767\tvalidation_1-rmse:6.19303\n",
      "[100]\tvalidation_0-rmse:2.31890\tvalidation_1-rmse:3.10667\n"
     ]
    },
    {
     "name": "stderr",
     "output_type": "stream",
     "text": [
      "s:\\Pizza\\.venv\\Lib\\site-packages\\xgboost\\core.py:158: UserWarning: [08:07:00] WARNING: C:\\buildkite-agent\\builds\\buildkite-windows-cpu-autoscaling-group-i-06abd128ca6c1688d-1\\xgboost\\xgboost-ci-windows\\src\\objective\\regression_obj.cu:227: reg:linear is now deprecated in favor of reg:squarederror.\n",
      "  warnings.warn(smsg, UserWarning)\n"
     ]
    },
    {
     "name": "stdout",
     "output_type": "stream",
     "text": [
      "[200]\tvalidation_0-rmse:1.24004\tvalidation_1-rmse:2.01875\n",
      "[300]\tvalidation_0-rmse:0.87036\tvalidation_1-rmse:1.68008\n",
      "[369]\tvalidation_0-rmse:0.75403\tvalidation_1-rmse:1.67529\n",
      "Processing ital_supr_s...\n",
      "[0]\tvalidation_0-rmse:1.45226\tvalidation_1-rmse:0.49679\n",
      "[100]\tvalidation_0-rmse:1.05789\tvalidation_1-rmse:0.28727\n"
     ]
    },
    {
     "name": "stderr",
     "output_type": "stream",
     "text": [
      "s:\\Pizza\\.venv\\Lib\\site-packages\\xgboost\\core.py:158: UserWarning: [08:07:01] WARNING: C:\\buildkite-agent\\builds\\buildkite-windows-cpu-autoscaling-group-i-06abd128ca6c1688d-1\\xgboost\\xgboost-ci-windows\\src\\objective\\regression_obj.cu:227: reg:linear is now deprecated in favor of reg:squarederror.\n",
      "  warnings.warn(smsg, UserWarning)\n"
     ]
    },
    {
     "name": "stdout",
     "output_type": "stream",
     "text": [
      "[200]\tvalidation_0-rmse:0.91909\tvalidation_1-rmse:0.24159\n",
      "[213]\tvalidation_0-rmse:0.90851\tvalidation_1-rmse:0.24170\n",
      "[0]\tvalidation_0-rmse:1.43840\tvalidation_1-rmse:3.25109\n",
      "[100]\tvalidation_0-rmse:1.04700\tvalidation_1-rmse:1.83026\n"
     ]
    },
    {
     "name": "stderr",
     "output_type": "stream",
     "text": [
      "s:\\Pizza\\.venv\\Lib\\site-packages\\xgboost\\core.py:158: UserWarning: [08:07:01] WARNING: C:\\buildkite-agent\\builds\\buildkite-windows-cpu-autoscaling-group-i-06abd128ca6c1688d-1\\xgboost\\xgboost-ci-windows\\src\\objective\\regression_obj.cu:227: reg:linear is now deprecated in favor of reg:squarederror.\n",
      "  warnings.warn(smsg, UserWarning)\n"
     ]
    },
    {
     "name": "stdout",
     "output_type": "stream",
     "text": [
      "[200]\tvalidation_0-rmse:0.91012\tvalidation_1-rmse:1.70249\n",
      "[216]\tvalidation_0-rmse:0.89742\tvalidation_1-rmse:1.75334\n",
      "[0]\tvalidation_0-rmse:1.49918\tvalidation_1-rmse:1.31841\n",
      "[100]\tvalidation_0-rmse:1.06425\tvalidation_1-rmse:0.96805\n"
     ]
    },
    {
     "name": "stderr",
     "output_type": "stream",
     "text": [
      "s:\\Pizza\\.venv\\Lib\\site-packages\\xgboost\\core.py:158: UserWarning: [08:07:02] WARNING: C:\\buildkite-agent\\builds\\buildkite-windows-cpu-autoscaling-group-i-06abd128ca6c1688d-1\\xgboost\\xgboost-ci-windows\\src\\objective\\regression_obj.cu:227: reg:linear is now deprecated in favor of reg:squarederror.\n",
      "  warnings.warn(smsg, UserWarning)\n"
     ]
    },
    {
     "name": "stdout",
     "output_type": "stream",
     "text": [
      "[200]\tvalidation_0-rmse:0.91356\tvalidation_1-rmse:0.60099\n",
      "[300]\tvalidation_0-rmse:0.83236\tvalidation_1-rmse:0.55139\n",
      "[399]\tvalidation_0-rmse:0.79348\tvalidation_1-rmse:0.43651\n",
      "Processing mexicana_s...\n",
      "[0]\tvalidation_0-rmse:2.03873\tvalidation_1-rmse:1.80454\n",
      "[49]\tvalidation_0-rmse:1.54767\tvalidation_1-rmse:1.87546\n",
      "[0]\tvalidation_0-rmse:2.03262\tvalidation_1-rmse:0.49679\n"
     ]
    },
    {
     "name": "stderr",
     "output_type": "stream",
     "text": [
      "s:\\Pizza\\.venv\\Lib\\site-packages\\xgboost\\core.py:158: UserWarning: [08:07:02] WARNING: C:\\buildkite-agent\\builds\\buildkite-windows-cpu-autoscaling-group-i-06abd128ca6c1688d-1\\xgboost\\xgboost-ci-windows\\src\\objective\\regression_obj.cu:227: reg:linear is now deprecated in favor of reg:squarederror.\n",
      "  warnings.warn(smsg, UserWarning)\n",
      "s:\\Pizza\\.venv\\Lib\\site-packages\\xgboost\\core.py:158: UserWarning: [08:07:03] WARNING: C:\\buildkite-agent\\builds\\buildkite-windows-cpu-autoscaling-group-i-06abd128ca6c1688d-1\\xgboost\\xgboost-ci-windows\\src\\objective\\regression_obj.cu:227: reg:linear is now deprecated in favor of reg:squarederror.\n",
      "  warnings.warn(smsg, UserWarning)\n"
     ]
    },
    {
     "name": "stdout",
     "output_type": "stream",
     "text": [
      "[100]\tvalidation_0-rmse:1.24505\tvalidation_1-rmse:0.29491\n",
      "[200]\tvalidation_0-rmse:0.98233\tvalidation_1-rmse:0.22252\n",
      "[300]\tvalidation_0-rmse:0.87355\tvalidation_1-rmse:0.16807\n",
      "[399]\tvalidation_0-rmse:0.77526\tvalidation_1-rmse:0.13099\n",
      "[0]\tvalidation_0-rmse:2.00796\tvalidation_1-rmse:1.32350\n",
      "[49]\tvalidation_0-rmse:1.52267\tvalidation_1-rmse:1.35318\n",
      "Processing spicy_ital_l...\n",
      "[0]\tvalidation_0-rmse:7.61368\tvalidation_1-rmse:7.97989\n"
     ]
    },
    {
     "name": "stderr",
     "output_type": "stream",
     "text": [
      "s:\\Pizza\\.venv\\Lib\\site-packages\\xgboost\\core.py:158: UserWarning: [08:07:03] WARNING: C:\\buildkite-agent\\builds\\buildkite-windows-cpu-autoscaling-group-i-06abd128ca6c1688d-1\\xgboost\\xgboost-ci-windows\\src\\objective\\regression_obj.cu:227: reg:linear is now deprecated in favor of reg:squarederror.\n",
      "  warnings.warn(smsg, UserWarning)\n",
      "s:\\Pizza\\.venv\\Lib\\site-packages\\xgboost\\core.py:158: UserWarning: [08:07:03] WARNING: C:\\buildkite-agent\\builds\\buildkite-windows-cpu-autoscaling-group-i-06abd128ca6c1688d-1\\xgboost\\xgboost-ci-windows\\src\\objective\\regression_obj.cu:227: reg:linear is now deprecated in favor of reg:squarederror.\n",
      "  warnings.warn(smsg, UserWarning)\n"
     ]
    },
    {
     "name": "stdout",
     "output_type": "stream",
     "text": [
      "[100]\tvalidation_0-rmse:3.22929\tvalidation_1-rmse:0.79002\n",
      "[137]\tvalidation_0-rmse:2.49208\tvalidation_1-rmse:2.45984\n",
      "[0]\tvalidation_0-rmse:7.61546\tvalidation_1-rmse:0.49501\n",
      "[100]\tvalidation_0-rmse:3.23762\tvalidation_1-rmse:0.18138\n"
     ]
    },
    {
     "name": "stderr",
     "output_type": "stream",
     "text": [
      "s:\\Pizza\\.venv\\Lib\\site-packages\\xgboost\\core.py:158: UserWarning: [08:07:04] WARNING: C:\\buildkite-agent\\builds\\buildkite-windows-cpu-autoscaling-group-i-06abd128ca6c1688d-1\\xgboost\\xgboost-ci-windows\\src\\objective\\regression_obj.cu:227: reg:linear is now deprecated in favor of reg:squarederror.\n",
      "  warnings.warn(smsg, UserWarning)\n"
     ]
    },
    {
     "name": "stdout",
     "output_type": "stream",
     "text": [
      "[200]\tvalidation_0-rmse:1.80222\tvalidation_1-rmse:0.06661\n",
      "[300]\tvalidation_0-rmse:1.30926\tvalidation_1-rmse:0.02794\n",
      "[399]\tvalidation_0-rmse:1.11357\tvalidation_1-rmse:0.01852\n",
      "[0]\tvalidation_0-rmse:7.60145\tvalidation_1-rmse:0.49501\n",
      "[100]\tvalidation_0-rmse:3.23166\tvalidation_1-rmse:0.18138\n",
      "[200]\tvalidation_0-rmse:1.79890\tvalidation_1-rmse:0.06661\n"
     ]
    },
    {
     "name": "stderr",
     "output_type": "stream",
     "text": [
      "s:\\Pizza\\.venv\\Lib\\site-packages\\xgboost\\core.py:158: UserWarning: [08:07:04] WARNING: C:\\buildkite-agent\\builds\\buildkite-windows-cpu-autoscaling-group-i-06abd128ca6c1688d-1\\xgboost\\xgboost-ci-windows\\src\\objective\\regression_obj.cu:227: reg:linear is now deprecated in favor of reg:squarederror.\n",
      "  warnings.warn(smsg, UserWarning)\n"
     ]
    },
    {
     "name": "stdout",
     "output_type": "stream",
     "text": [
      "[300]\tvalidation_0-rmse:1.30684\tvalidation_1-rmse:0.02793\n",
      "[399]\tvalidation_0-rmse:1.11151\tvalidation_1-rmse:0.01848\n",
      "Processing spin_pesto_l...\n",
      "[0]\tvalidation_0-rmse:2.14501\tvalidation_1-rmse:1.31348\n",
      "[100]\tvalidation_0-rmse:1.18508\tvalidation_1-rmse:0.22412\n",
      "[145]\tvalidation_0-rmse:1.00593\tvalidation_1-rmse:0.39723\n"
     ]
    },
    {
     "name": "stderr",
     "output_type": "stream",
     "text": [
      "s:\\Pizza\\.venv\\Lib\\site-packages\\xgboost\\core.py:158: UserWarning: [08:07:05] WARNING: C:\\buildkite-agent\\builds\\buildkite-windows-cpu-autoscaling-group-i-06abd128ca6c1688d-1\\xgboost\\xgboost-ci-windows\\src\\objective\\regression_obj.cu:227: reg:linear is now deprecated in favor of reg:squarederror.\n",
      "  warnings.warn(smsg, UserWarning)\n"
     ]
    },
    {
     "name": "stdout",
     "output_type": "stream",
     "text": [
      "[0]\tvalidation_0-rmse:2.13506\tvalidation_1-rmse:1.31347\n",
      "[100]\tvalidation_0-rmse:1.17898\tvalidation_1-rmse:0.45759\n"
     ]
    },
    {
     "name": "stderr",
     "output_type": "stream",
     "text": [
      "s:\\Pizza\\.venv\\Lib\\site-packages\\xgboost\\core.py:158: UserWarning: [08:07:05] WARNING: C:\\buildkite-agent\\builds\\buildkite-windows-cpu-autoscaling-group-i-06abd128ca6c1688d-1\\xgboost\\xgboost-ci-windows\\src\\objective\\regression_obj.cu:227: reg:linear is now deprecated in favor of reg:squarederror.\n",
      "  warnings.warn(smsg, UserWarning)\n"
     ]
    },
    {
     "name": "stdout",
     "output_type": "stream",
     "text": [
      "[200]\tvalidation_0-rmse:0.88558\tvalidation_1-rmse:0.19098\n",
      "[225]\tvalidation_0-rmse:0.85602\tvalidation_1-rmse:0.29315\n",
      "[0]\tvalidation_0-rmse:2.12541\tvalidation_1-rmse:0.49599\n",
      "[100]\tvalidation_0-rmse:1.17378\tvalidation_1-rmse:0.24401\n",
      "[200]\tvalidation_0-rmse:0.88050\tvalidation_1-rmse:0.14647\n"
     ]
    },
    {
     "name": "stderr",
     "output_type": "stream",
     "text": [
      "s:\\Pizza\\.venv\\Lib\\site-packages\\xgboost\\core.py:158: UserWarning: [08:07:06] WARNING: C:\\buildkite-agent\\builds\\buildkite-windows-cpu-autoscaling-group-i-06abd128ca6c1688d-1\\xgboost\\xgboost-ci-windows\\src\\objective\\regression_obj.cu:227: reg:linear is now deprecated in favor of reg:squarederror.\n",
      "  warnings.warn(smsg, UserWarning)\n"
     ]
    },
    {
     "name": "stdout",
     "output_type": "stream",
     "text": [
      "[300]\tvalidation_0-rmse:0.80622\tvalidation_1-rmse:0.11193\n",
      "[399]\tvalidation_0-rmse:0.78359\tvalidation_1-rmse:0.09327\n",
      "Processing veggie_veg_s...\n",
      "[0]\tvalidation_0-rmse:3.38031\tvalidation_1-rmse:4.74537\n"
     ]
    },
    {
     "name": "stderr",
     "output_type": "stream",
     "text": [
      "s:\\Pizza\\.venv\\Lib\\site-packages\\xgboost\\core.py:158: UserWarning: [08:07:06] WARNING: C:\\buildkite-agent\\builds\\buildkite-windows-cpu-autoscaling-group-i-06abd128ca6c1688d-1\\xgboost\\xgboost-ci-windows\\src\\objective\\regression_obj.cu:227: reg:linear is now deprecated in favor of reg:squarederror.\n",
      "  warnings.warn(smsg, UserWarning)\n"
     ]
    },
    {
     "name": "stdout",
     "output_type": "stream",
     "text": [
      "[100]\tvalidation_0-rmse:1.61777\tvalidation_1-rmse:1.97892\n",
      "[200]\tvalidation_0-rmse:1.02808\tvalidation_1-rmse:0.66285\n",
      "[223]\tvalidation_0-rmse:0.96184\tvalidation_1-rmse:1.10473\n",
      "[0]\tvalidation_0-rmse:3.39470\tvalidation_1-rmse:0.49593\n",
      "[100]\tvalidation_0-rmse:1.62734\tvalidation_1-rmse:0.23998\n"
     ]
    },
    {
     "name": "stderr",
     "output_type": "stream",
     "text": [
      "s:\\Pizza\\.venv\\Lib\\site-packages\\xgboost\\core.py:158: UserWarning: [08:07:07] WARNING: C:\\buildkite-agent\\builds\\buildkite-windows-cpu-autoscaling-group-i-06abd128ca6c1688d-1\\xgboost\\xgboost-ci-windows\\src\\objective\\regression_obj.cu:227: reg:linear is now deprecated in favor of reg:squarederror.\n",
      "  warnings.warn(smsg, UserWarning)\n"
     ]
    },
    {
     "name": "stdout",
     "output_type": "stream",
     "text": [
      "[200]\tvalidation_0-rmse:1.03117\tvalidation_1-rmse:0.13652\n",
      "[300]\tvalidation_0-rmse:0.83052\tvalidation_1-rmse:0.08824\n",
      "[399]\tvalidation_0-rmse:0.75912\tvalidation_1-rmse:0.06405\n",
      "[0]\tvalidation_0-rmse:3.38000\tvalidation_1-rmse:0.49592\n",
      "[100]\tvalidation_0-rmse:1.62025\tvalidation_1-rmse:0.23939\n"
     ]
    },
    {
     "name": "stderr",
     "output_type": "stream",
     "text": [
      "s:\\Pizza\\.venv\\Lib\\site-packages\\xgboost\\core.py:158: UserWarning: [08:07:08] WARNING: C:\\buildkite-agent\\builds\\buildkite-windows-cpu-autoscaling-group-i-06abd128ca6c1688d-1\\xgboost\\xgboost-ci-windows\\src\\objective\\regression_obj.cu:227: reg:linear is now deprecated in favor of reg:squarederror.\n",
      "  warnings.warn(smsg, UserWarning)\n"
     ]
    },
    {
     "name": "stdout",
     "output_type": "stream",
     "text": [
      "[200]\tvalidation_0-rmse:1.02664\tvalidation_1-rmse:0.13580\n",
      "[300]\tvalidation_0-rmse:0.82692\tvalidation_1-rmse:0.08759\n",
      "[399]\tvalidation_0-rmse:0.75577\tvalidation_1-rmse:0.06348\n",
      "Processing mexicana_l...\n",
      "[0]\tvalidation_0-rmse:6.18274\tvalidation_1-rmse:0.49501\n",
      "[100]\tvalidation_0-rmse:2.57292\tvalidation_1-rmse:0.18145\n"
     ]
    },
    {
     "name": "stderr",
     "output_type": "stream",
     "text": [
      "s:\\Pizza\\.venv\\Lib\\site-packages\\xgboost\\core.py:158: UserWarning: [08:07:08] WARNING: C:\\buildkite-agent\\builds\\buildkite-windows-cpu-autoscaling-group-i-06abd128ca6c1688d-1\\xgboost\\xgboost-ci-windows\\src\\objective\\regression_obj.cu:227: reg:linear is now deprecated in favor of reg:squarederror.\n",
      "  warnings.warn(smsg, UserWarning)\n"
     ]
    },
    {
     "name": "stdout",
     "output_type": "stream",
     "text": [
      "[200]\tvalidation_0-rmse:1.32694\tvalidation_1-rmse:0.06651\n",
      "[300]\tvalidation_0-rmse:0.92034\tvalidation_1-rmse:0.02658\n",
      "[399]\tvalidation_0-rmse:0.76652\tvalidation_1-rmse:0.01605\n",
      "[0]\tvalidation_0-rmse:6.16803\tvalidation_1-rmse:6.18046\n",
      "[100]\tvalidation_0-rmse:2.56679\tvalidation_1-rmse:1.82451\n",
      "[200]\tvalidation_0-rmse:1.32376\tvalidation_1-rmse:0.42144\n"
     ]
    },
    {
     "name": "stderr",
     "output_type": "stream",
     "text": [
      "s:\\Pizza\\.venv\\Lib\\site-packages\\xgboost\\core.py:158: UserWarning: [08:07:09] WARNING: C:\\buildkite-agent\\builds\\buildkite-windows-cpu-autoscaling-group-i-06abd128ca6c1688d-1\\xgboost\\xgboost-ci-windows\\src\\objective\\regression_obj.cu:227: reg:linear is now deprecated in favor of reg:squarederror.\n",
      "  warnings.warn(smsg, UserWarning)\n"
     ]
    },
    {
     "name": "stdout",
     "output_type": "stream",
     "text": [
      "[300]\tvalidation_0-rmse:0.91813\tvalidation_1-rmse:0.10200\n",
      "[399]\tvalidation_0-rmse:0.76469\tvalidation_1-rmse:0.01671\n",
      "[0]\tvalidation_0-rmse:6.16823\tvalidation_1-rmse:0.49501\n",
      "[100]\tvalidation_0-rmse:2.56547\tvalidation_1-rmse:0.18144\n",
      "[200]\tvalidation_0-rmse:1.32444\tvalidation_1-rmse:0.06679\n"
     ]
    },
    {
     "name": "stderr",
     "output_type": "stream",
     "text": [
      "s:\\Pizza\\.venv\\Lib\\site-packages\\xgboost\\core.py:158: UserWarning: [08:07:10] WARNING: C:\\buildkite-agent\\builds\\buildkite-windows-cpu-autoscaling-group-i-06abd128ca6c1688d-1\\xgboost\\xgboost-ci-windows\\src\\objective\\regression_obj.cu:227: reg:linear is now deprecated in favor of reg:squarederror.\n",
      "  warnings.warn(smsg, UserWarning)\n"
     ]
    },
    {
     "name": "stdout",
     "output_type": "stream",
     "text": [
      "[300]\tvalidation_0-rmse:0.92325\tvalidation_1-rmse:0.02636\n",
      "[399]\tvalidation_0-rmse:0.76993\tvalidation_1-rmse:0.01603\n",
      "Processing southw_ckn_l...\n",
      "[0]\tvalidation_0-rmse:7.33964\tvalidation_1-rmse:7.16544\n",
      "[100]\tvalidation_0-rmse:3.25110\tvalidation_1-rmse:2.28686\n",
      "[200]\tvalidation_0-rmse:2.03587\tvalidation_1-rmse:0.45196"
     ]
    },
    {
     "name": "stderr",
     "output_type": "stream",
     "text": [
      "s:\\Pizza\\.venv\\Lib\\site-packages\\xgboost\\core.py:158: UserWarning: [08:07:10] WARNING: C:\\buildkite-agent\\builds\\buildkite-windows-cpu-autoscaling-group-i-06abd128ca6c1688d-1\\xgboost\\xgboost-ci-windows\\src\\objective\\regression_obj.cu:227: reg:linear is now deprecated in favor of reg:squarederror.\n",
      "  warnings.warn(smsg, UserWarning)\n"
     ]
    },
    {
     "name": "stdout",
     "output_type": "stream",
     "text": [
      "\n",
      "[300]\tvalidation_0-rmse:1.71942\tvalidation_1-rmse:0.13098\n",
      "[301]\tvalidation_0-rmse:1.71750\tvalidation_1-rmse:0.12300\n",
      "[0]\tvalidation_0-rmse:7.33907\tvalidation_1-rmse:0.49501\n",
      "[100]\tvalidation_0-rmse:3.25011\tvalidation_1-rmse:0.18141\n",
      "[200]\tvalidation_0-rmse:2.03679\tvalidation_1-rmse:0.06679\n"
     ]
    },
    {
     "name": "stderr",
     "output_type": "stream",
     "text": [
      "s:\\Pizza\\.venv\\Lib\\site-packages\\xgboost\\core.py:158: UserWarning: [08:07:11] WARNING: C:\\buildkite-agent\\builds\\buildkite-windows-cpu-autoscaling-group-i-06abd128ca6c1688d-1\\xgboost\\xgboost-ci-windows\\src\\objective\\regression_obj.cu:227: reg:linear is now deprecated in favor of reg:squarederror.\n",
      "  warnings.warn(smsg, UserWarning)\n"
     ]
    },
    {
     "name": "stdout",
     "output_type": "stream",
     "text": [
      "[300]\tvalidation_0-rmse:1.71856\tvalidation_1-rmse:0.03097\n",
      "[399]\tvalidation_0-rmse:1.60287\tvalidation_1-rmse:0.02486\n",
      "[0]\tvalidation_0-rmse:7.32428\tvalidation_1-rmse:0.49501\n",
      "[100]\tvalidation_0-rmse:3.24355\tvalidation_1-rmse:0.18141\n",
      "[200]\tvalidation_0-rmse:2.03267\tvalidation_1-rmse:0.06679\n"
     ]
    },
    {
     "name": "stderr",
     "output_type": "stream",
     "text": [
      "s:\\Pizza\\.venv\\Lib\\site-packages\\xgboost\\core.py:158: UserWarning: [08:07:11] WARNING: C:\\buildkite-agent\\builds\\buildkite-windows-cpu-autoscaling-group-i-06abd128ca6c1688d-1\\xgboost\\xgboost-ci-windows\\src\\objective\\regression_obj.cu:227: reg:linear is now deprecated in favor of reg:squarederror.\n",
      "  warnings.warn(smsg, UserWarning)\n"
     ]
    },
    {
     "name": "stdout",
     "output_type": "stream",
     "text": [
      "[300]\tvalidation_0-rmse:1.71508\tvalidation_1-rmse:0.03094\n",
      "[399]\tvalidation_0-rmse:1.59962\tvalidation_1-rmse:0.02479\n",
      "Processing bbq_ckn_l...\n",
      "[0]\tvalidation_0-rmse:6.74395\tvalidation_1-rmse:0.49590\n",
      "[100]\tvalidation_0-rmse:3.29570\tvalidation_1-rmse:0.23913\n"
     ]
    },
    {
     "name": "stderr",
     "output_type": "stream",
     "text": [
      "s:\\Pizza\\.venv\\Lib\\site-packages\\xgboost\\core.py:158: UserWarning: [08:07:12] WARNING: C:\\buildkite-agent\\builds\\buildkite-windows-cpu-autoscaling-group-i-06abd128ca6c1688d-1\\xgboost\\xgboost-ci-windows\\src\\objective\\regression_obj.cu:227: reg:linear is now deprecated in favor of reg:squarederror.\n",
      "  warnings.warn(smsg, UserWarning)\n"
     ]
    },
    {
     "name": "stdout",
     "output_type": "stream",
     "text": [
      "[200]\tvalidation_0-rmse:2.29687\tvalidation_1-rmse:0.16242\n",
      "[300]\tvalidation_0-rmse:2.02999\tvalidation_1-rmse:0.13450\n",
      "[399]\tvalidation_0-rmse:1.90798\tvalidation_1-rmse:0.11293\n",
      "[0]\tvalidation_0-rmse:6.72994\tvalidation_1-rmse:7.16883\n",
      "[100]\tvalidation_0-rmse:3.28883\tvalidation_1-rmse:2.42516\n",
      "[200]\tvalidation_0-rmse:2.29208\tvalidation_1-rmse:0.34744\n"
     ]
    },
    {
     "name": "stderr",
     "output_type": "stream",
     "text": [
      "s:\\Pizza\\.venv\\Lib\\site-packages\\xgboost\\core.py:158: UserWarning: [08:07:12] WARNING: C:\\buildkite-agent\\builds\\buildkite-windows-cpu-autoscaling-group-i-06abd128ca6c1688d-1\\xgboost\\xgboost-ci-windows\\src\\objective\\regression_obj.cu:227: reg:linear is now deprecated in favor of reg:squarederror.\n",
      "  warnings.warn(smsg, UserWarning)\n"
     ]
    },
    {
     "name": "stdout",
     "output_type": "stream",
     "text": [
      "[284]\tvalidation_0-rmse:2.04888\tvalidation_1-rmse:0.45699\n",
      "[0]\tvalidation_0-rmse:6.73194\tvalidation_1-rmse:0.49589\n",
      "[100]\tvalidation_0-rmse:3.28742\tvalidation_1-rmse:0.23864\n",
      "[200]\tvalidation_0-rmse:2.28852\tvalidation_1-rmse:0.16194\n"
     ]
    },
    {
     "name": "stderr",
     "output_type": "stream",
     "text": [
      "s:\\Pizza\\.venv\\Lib\\site-packages\\xgboost\\core.py:158: UserWarning: [08:07:13] WARNING: C:\\buildkite-agent\\builds\\buildkite-windows-cpu-autoscaling-group-i-06abd128ca6c1688d-1\\xgboost\\xgboost-ci-windows\\src\\objective\\regression_obj.cu:227: reg:linear is now deprecated in favor of reg:squarederror.\n",
      "  warnings.warn(smsg, UserWarning)\n"
     ]
    },
    {
     "name": "stdout",
     "output_type": "stream",
     "text": [
      "[300]\tvalidation_0-rmse:2.02326\tvalidation_1-rmse:0.13378\n",
      "[399]\tvalidation_0-rmse:1.90813\tvalidation_1-rmse:0.11769\n",
      "Processing cali_ckn_l...\n",
      "[0]\tvalidation_0-rmse:6.72100\tvalidation_1-rmse:7.30346\n",
      "[100]\tvalidation_0-rmse:2.81804\tvalidation_1-rmse:1.45910\n",
      "[125]\tvalidation_0-rmse:2.33520\tvalidation_1-rmse:2.26728\n",
      "[0]\tvalidation_0-rmse:6.72414\tvalidation_1-rmse:0.49501\n"
     ]
    },
    {
     "name": "stderr",
     "output_type": "stream",
     "text": [
      "s:\\Pizza\\.venv\\Lib\\site-packages\\xgboost\\core.py:158: UserWarning: [08:07:13] WARNING: C:\\buildkite-agent\\builds\\buildkite-windows-cpu-autoscaling-group-i-06abd128ca6c1688d-1\\xgboost\\xgboost-ci-windows\\src\\objective\\regression_obj.cu:227: reg:linear is now deprecated in favor of reg:squarederror.\n",
      "  warnings.warn(smsg, UserWarning)\n",
      "s:\\Pizza\\.venv\\Lib\\site-packages\\xgboost\\core.py:158: UserWarning: [08:07:13] WARNING: C:\\buildkite-agent\\builds\\buildkite-windows-cpu-autoscaling-group-i-06abd128ca6c1688d-1\\xgboost\\xgboost-ci-windows\\src\\objective\\regression_obj.cu:227: reg:linear is now deprecated in favor of reg:squarederror.\n",
      "  warnings.warn(smsg, UserWarning)\n"
     ]
    },
    {
     "name": "stdout",
     "output_type": "stream",
     "text": [
      "[100]\tvalidation_0-rmse:2.82692\tvalidation_1-rmse:0.18143\n",
      "[200]\tvalidation_0-rmse:1.50429\tvalidation_1-rmse:0.06650\n",
      "[300]\tvalidation_0-rmse:1.05546\tvalidation_1-rmse:0.02299\n",
      "[399]\tvalidation_0-rmse:0.87655\tvalidation_1-rmse:0.01639\n",
      "[0]\tvalidation_0-rmse:6.70909\tvalidation_1-rmse:0.49501\n",
      "[100]\tvalidation_0-rmse:2.82058\tvalidation_1-rmse:0.18143\n"
     ]
    },
    {
     "name": "stderr",
     "output_type": "stream",
     "text": [
      "s:\\Pizza\\.venv\\Lib\\site-packages\\xgboost\\core.py:158: UserWarning: [08:07:14] WARNING: C:\\buildkite-agent\\builds\\buildkite-windows-cpu-autoscaling-group-i-06abd128ca6c1688d-1\\xgboost\\xgboost-ci-windows\\src\\objective\\regression_obj.cu:227: reg:linear is now deprecated in favor of reg:squarederror.\n",
      "  warnings.warn(smsg, UserWarning)\n"
     ]
    },
    {
     "name": "stdout",
     "output_type": "stream",
     "text": [
      "[200]\tvalidation_0-rmse:1.50092\tvalidation_1-rmse:0.06650\n",
      "[300]\tvalidation_0-rmse:1.05309\tvalidation_1-rmse:0.02300\n",
      "[399]\tvalidation_0-rmse:0.87458\tvalidation_1-rmse:0.01634\n",
      "Processing cali_ckn_m...\n",
      "[0]\tvalidation_0-rmse:6.74983\tvalidation_1-rmse:0.49501\n",
      "[100]\tvalidation_0-rmse:2.76950\tvalidation_1-rmse:0.18142\n"
     ]
    },
    {
     "name": "stderr",
     "output_type": "stream",
     "text": [
      "s:\\Pizza\\.venv\\Lib\\site-packages\\xgboost\\core.py:158: UserWarning: [08:07:15] WARNING: C:\\buildkite-agent\\builds\\buildkite-windows-cpu-autoscaling-group-i-06abd128ca6c1688d-1\\xgboost\\xgboost-ci-windows\\src\\objective\\regression_obj.cu:227: reg:linear is now deprecated in favor of reg:squarederror.\n",
      "  warnings.warn(smsg, UserWarning)\n"
     ]
    },
    {
     "name": "stdout",
     "output_type": "stream",
     "text": [
      "[200]\tvalidation_0-rmse:1.38117\tvalidation_1-rmse:0.06693\n",
      "[300]\tvalidation_0-rmse:0.94181\tvalidation_1-rmse:0.02623\n",
      "[399]\tvalidation_0-rmse:0.78373\tvalidation_1-rmse:0.01227\n",
      "[0]\tvalidation_0-rmse:6.73499\tvalidation_1-rmse:6.68853\n",
      "[100]\tvalidation_0-rmse:2.76341\tvalidation_1-rmse:1.67877\n",
      "[200]\tvalidation_0-rmse:1.37813\tvalidation_1-rmse:0.20865\n"
     ]
    },
    {
     "name": "stderr",
     "output_type": "stream",
     "text": [
      "s:\\Pizza\\.venv\\Lib\\site-packages\\xgboost\\core.py:158: UserWarning: [08:07:15] WARNING: C:\\buildkite-agent\\builds\\buildkite-windows-cpu-autoscaling-group-i-06abd128ca6c1688d-1\\xgboost\\xgboost-ci-windows\\src\\objective\\regression_obj.cu:227: reg:linear is now deprecated in favor of reg:squarederror.\n",
      "  warnings.warn(smsg, UserWarning)\n"
     ]
    },
    {
     "name": "stdout",
     "output_type": "stream",
     "text": [
      "[236]\tvalidation_0-rmse:1.15800\tvalidation_1-rmse:0.49501\n",
      "[0]\tvalidation_0-rmse:6.73482\tvalidation_1-rmse:0.49501\n",
      "[100]\tvalidation_0-rmse:2.76331\tvalidation_1-rmse:0.18142\n"
     ]
    },
    {
     "name": "stderr",
     "output_type": "stream",
     "text": [
      "s:\\Pizza\\.venv\\Lib\\site-packages\\xgboost\\core.py:158: UserWarning: [08:07:15] WARNING: C:\\buildkite-agent\\builds\\buildkite-windows-cpu-autoscaling-group-i-06abd128ca6c1688d-1\\xgboost\\xgboost-ci-windows\\src\\objective\\regression_obj.cu:227: reg:linear is now deprecated in favor of reg:squarederror.\n",
      "  warnings.warn(smsg, UserWarning)\n"
     ]
    },
    {
     "name": "stdout",
     "output_type": "stream",
     "text": [
      "[200]\tvalidation_0-rmse:1.37996\tvalidation_1-rmse:0.06683\n",
      "[300]\tvalidation_0-rmse:0.94117\tvalidation_1-rmse:0.02613\n",
      "[399]\tvalidation_0-rmse:0.78496\tvalidation_1-rmse:0.01179\n",
      "Processing pepperoni_l...\n",
      "[0]\tvalidation_0-rmse:5.71141\tvalidation_1-rmse:0.49545\n",
      "[100]\tvalidation_0-rmse:2.44256\tvalidation_1-rmse:0.20833\n"
     ]
    },
    {
     "name": "stderr",
     "output_type": "stream",
     "text": [
      "s:\\Pizza\\.venv\\Lib\\site-packages\\xgboost\\core.py:158: UserWarning: [08:07:16] WARNING: C:\\buildkite-agent\\builds\\buildkite-windows-cpu-autoscaling-group-i-06abd128ca6c1688d-1\\xgboost\\xgboost-ci-windows\\src\\objective\\regression_obj.cu:227: reg:linear is now deprecated in favor of reg:squarederror.\n",
      "  warnings.warn(smsg, UserWarning)\n"
     ]
    },
    {
     "name": "stdout",
     "output_type": "stream",
     "text": [
      "[200]\tvalidation_0-rmse:1.28726\tvalidation_1-rmse:0.09665\n",
      "[300]\tvalidation_0-rmse:0.86893\tvalidation_1-rmse:0.04677\n",
      "[399]\tvalidation_0-rmse:0.72343\tvalidation_1-rmse:0.02508\n",
      "[0]\tvalidation_0-rmse:5.69528\tvalidation_1-rmse:0.49545\n",
      "[100]\tvalidation_0-rmse:2.43565\tvalidation_1-rmse:0.20816\n",
      "[200]\tvalidation_0-rmse:1.28361\tvalidation_1-rmse:0.09645\n"
     ]
    },
    {
     "name": "stderr",
     "output_type": "stream",
     "text": [
      "s:\\Pizza\\.venv\\Lib\\site-packages\\xgboost\\core.py:158: UserWarning: [08:07:17] WARNING: C:\\buildkite-agent\\builds\\buildkite-windows-cpu-autoscaling-group-i-06abd128ca6c1688d-1\\xgboost\\xgboost-ci-windows\\src\\objective\\regression_obj.cu:227: reg:linear is now deprecated in favor of reg:squarederror.\n",
      "  warnings.warn(smsg, UserWarning)\n"
     ]
    },
    {
     "name": "stdout",
     "output_type": "stream",
     "text": [
      "[300]\tvalidation_0-rmse:0.86767\tvalidation_1-rmse:0.04674\n",
      "[399]\tvalidation_0-rmse:0.72180\tvalidation_1-rmse:0.02481\n",
      "[0]\tvalidation_0-rmse:5.67929\tvalidation_1-rmse:0.49544\n",
      "[100]\tvalidation_0-rmse:2.42880\tvalidation_1-rmse:0.20798\n",
      "[200]\tvalidation_0-rmse:1.27999\tvalidation_1-rmse:0.09625\n"
     ]
    },
    {
     "name": "stderr",
     "output_type": "stream",
     "text": [
      "s:\\Pizza\\.venv\\Lib\\site-packages\\xgboost\\core.py:158: UserWarning: [08:07:17] WARNING: C:\\buildkite-agent\\builds\\buildkite-windows-cpu-autoscaling-group-i-06abd128ca6c1688d-1\\xgboost\\xgboost-ci-windows\\src\\objective\\regression_obj.cu:227: reg:linear is now deprecated in favor of reg:squarederror.\n",
      "  warnings.warn(smsg, UserWarning)\n"
     ]
    },
    {
     "name": "stdout",
     "output_type": "stream",
     "text": [
      "[300]\tvalidation_0-rmse:0.86278\tvalidation_1-rmse:0.04701\n",
      "[399]\tvalidation_0-rmse:0.71736\tvalidation_1-rmse:0.02487\n",
      "Processing cali_ckn_s...\n",
      "[0]\tvalidation_0-rmse:3.99020\tvalidation_1-rmse:0.49540\n",
      "[100]\tvalidation_0-rmse:1.80534\tvalidation_1-rmse:0.20158\n",
      "[200]\tvalidation_0-rmse:1.05769\tvalidation_1-rmse:0.09275\n"
     ]
    },
    {
     "name": "stderr",
     "output_type": "stream",
     "text": [
      "s:\\Pizza\\.venv\\Lib\\site-packages\\xgboost\\core.py:158: UserWarning: [08:07:17] WARNING: C:\\buildkite-agent\\builds\\buildkite-windows-cpu-autoscaling-group-i-06abd128ca6c1688d-1\\xgboost\\xgboost-ci-windows\\src\\objective\\regression_obj.cu:227: reg:linear is now deprecated in favor of reg:squarederror.\n",
      "  warnings.warn(smsg, UserWarning)\n"
     ]
    },
    {
     "name": "stdout",
     "output_type": "stream",
     "text": [
      "[300]\tvalidation_0-rmse:0.82400\tvalidation_1-rmse:0.05222\n",
      "[399]\tvalidation_0-rmse:0.73188\tvalidation_1-rmse:0.03769\n",
      "[0]\tvalidation_0-rmse:3.97397\tvalidation_1-rmse:0.49539\n"
     ]
    },
    {
     "name": "stderr",
     "output_type": "stream",
     "text": [
      "s:\\Pizza\\.venv\\Lib\\site-packages\\xgboost\\core.py:158: UserWarning: [08:07:18] WARNING: C:\\buildkite-agent\\builds\\buildkite-windows-cpu-autoscaling-group-i-06abd128ca6c1688d-1\\xgboost\\xgboost-ci-windows\\src\\objective\\regression_obj.cu:227: reg:linear is now deprecated in favor of reg:squarederror.\n",
      "  warnings.warn(smsg, UserWarning)\n"
     ]
    },
    {
     "name": "stdout",
     "output_type": "stream",
     "text": [
      "[100]\tvalidation_0-rmse:1.79796\tvalidation_1-rmse:0.20138\n",
      "[200]\tvalidation_0-rmse:1.05334\tvalidation_1-rmse:0.09250\n",
      "[300]\tvalidation_0-rmse:0.82060\tvalidation_1-rmse:0.05169\n",
      "[399]\tvalidation_0-rmse:0.72886\tvalidation_1-rmse:0.03721\n",
      "[0]\tvalidation_0-rmse:3.95794\tvalidation_1-rmse:0.49539\n",
      "[100]\tvalidation_0-rmse:1.79066\tvalidation_1-rmse:0.20086\n"
     ]
    },
    {
     "name": "stderr",
     "output_type": "stream",
     "text": [
      "s:\\Pizza\\.venv\\Lib\\site-packages\\xgboost\\core.py:158: UserWarning: [08:07:18] WARNING: C:\\buildkite-agent\\builds\\buildkite-windows-cpu-autoscaling-group-i-06abd128ca6c1688d-1\\xgboost\\xgboost-ci-windows\\src\\objective\\regression_obj.cu:227: reg:linear is now deprecated in favor of reg:squarederror.\n",
      "  warnings.warn(smsg, UserWarning)\n"
     ]
    },
    {
     "name": "stdout",
     "output_type": "stream",
     "text": [
      "[200]\tvalidation_0-rmse:1.04904\tvalidation_1-rmse:0.09198\n",
      "[300]\tvalidation_0-rmse:0.81725\tvalidation_1-rmse:0.05118\n",
      "[399]\tvalidation_0-rmse:0.72588\tvalidation_1-rmse:0.03666\n",
      "Processing ckn_pesto_l...\n",
      "[0]\tvalidation_0-rmse:3.21141\tvalidation_1-rmse:7.39935\n",
      "[100]\tvalidation_0-rmse:1.65365\tvalidation_1-rmse:4.27527\n",
      "[200]\tvalidation_0-rmse:1.12332\tvalidation_1-rmse:3.56586\n"
     ]
    },
    {
     "name": "stderr",
     "output_type": "stream",
     "text": [
      "s:\\Pizza\\.venv\\Lib\\site-packages\\xgboost\\core.py:158: UserWarning: [08:07:19] WARNING: C:\\buildkite-agent\\builds\\buildkite-windows-cpu-autoscaling-group-i-06abd128ca6c1688d-1\\xgboost\\xgboost-ci-windows\\src\\objective\\regression_obj.cu:227: reg:linear is now deprecated in favor of reg:squarederror.\n",
      "  warnings.warn(smsg, UserWarning)\n"
     ]
    },
    {
     "name": "stdout",
     "output_type": "stream",
     "text": [
      "[255]\tvalidation_0-rmse:1.01645\tvalidation_1-rmse:3.55448\n",
      "[0]\tvalidation_0-rmse:3.28118\tvalidation_1-rmse:7.35853\n",
      "[100]\tvalidation_0-rmse:1.65826\tvalidation_1-rmse:2.91205\n"
     ]
    },
    {
     "name": "stderr",
     "output_type": "stream",
     "text": [
      "s:\\Pizza\\.venv\\Lib\\site-packages\\xgboost\\core.py:158: UserWarning: [08:07:19] WARNING: C:\\buildkite-agent\\builds\\buildkite-windows-cpu-autoscaling-group-i-06abd128ca6c1688d-1\\xgboost\\xgboost-ci-windows\\src\\objective\\regression_obj.cu:227: reg:linear is now deprecated in favor of reg:squarederror.\n",
      "  warnings.warn(smsg, UserWarning)\n"
     ]
    },
    {
     "name": "stdout",
     "output_type": "stream",
     "text": [
      "[200]\tvalidation_0-rmse:1.12161\tvalidation_1-rmse:1.56496\n",
      "[300]\tvalidation_0-rmse:0.96241\tvalidation_1-rmse:1.02694\n",
      "[399]\tvalidation_0-rmse:0.88141\tvalidation_1-rmse:0.76372\n",
      "[0]\tvalidation_0-rmse:3.34865\tvalidation_1-rmse:2.25342\n",
      "[100]\tvalidation_0-rmse:1.67505\tvalidation_1-rmse:0.22976\n",
      "[162]\tvalidation_0-rmse:1.26299\tvalidation_1-rmse:0.37212\n"
     ]
    },
    {
     "name": "stderr",
     "output_type": "stream",
     "text": [
      "s:\\Pizza\\.venv\\Lib\\site-packages\\xgboost\\core.py:158: UserWarning: [08:07:20] WARNING: C:\\buildkite-agent\\builds\\buildkite-windows-cpu-autoscaling-group-i-06abd128ca6c1688d-1\\xgboost\\xgboost-ci-windows\\src\\objective\\regression_obj.cu:227: reg:linear is now deprecated in favor of reg:squarederror.\n",
      "  warnings.warn(smsg, UserWarning)\n"
     ]
    },
    {
     "name": "stdout",
     "output_type": "stream",
     "text": [
      "Processing big_meat_s...\n",
      "[0]\tvalidation_0-rmse:13.56525\tvalidation_1-rmse:0.49500\n",
      "[100]\tvalidation_0-rmse:5.35885\tvalidation_1-rmse:0.18131\n"
     ]
    },
    {
     "name": "stderr",
     "output_type": "stream",
     "text": [
      "s:\\Pizza\\.venv\\Lib\\site-packages\\xgboost\\core.py:158: UserWarning: [08:07:20] WARNING: C:\\buildkite-agent\\builds\\buildkite-windows-cpu-autoscaling-group-i-06abd128ca6c1688d-1\\xgboost\\xgboost-ci-windows\\src\\objective\\regression_obj.cu:227: reg:linear is now deprecated in favor of reg:squarederror.\n",
      "  warnings.warn(smsg, UserWarning)\n"
     ]
    },
    {
     "name": "stdout",
     "output_type": "stream",
     "text": [
      "[200]\tvalidation_0-rmse:2.54709\tvalidation_1-rmse:0.06641\n",
      "[300]\tvalidation_0-rmse:1.74251\tvalidation_1-rmse:0.02432\n",
      "[399]\tvalidation_0-rmse:1.45104\tvalidation_1-rmse:0.01290\n",
      "[0]\tvalidation_0-rmse:13.55021\tvalidation_1-rmse:0.49500\n",
      "[100]\tvalidation_0-rmse:5.35291\tvalidation_1-rmse:0.18131\n"
     ]
    },
    {
     "name": "stderr",
     "output_type": "stream",
     "text": [
      "s:\\Pizza\\.venv\\Lib\\site-packages\\xgboost\\core.py:158: UserWarning: [08:07:21] WARNING: C:\\buildkite-agent\\builds\\buildkite-windows-cpu-autoscaling-group-i-06abd128ca6c1688d-1\\xgboost\\xgboost-ci-windows\\src\\objective\\regression_obj.cu:227: reg:linear is now deprecated in favor of reg:squarederror.\n",
      "  warnings.warn(smsg, UserWarning)\n"
     ]
    },
    {
     "name": "stdout",
     "output_type": "stream",
     "text": [
      "[200]\tvalidation_0-rmse:2.54427\tvalidation_1-rmse:0.06641\n",
      "[300]\tvalidation_0-rmse:1.74057\tvalidation_1-rmse:0.02432\n",
      "[399]\tvalidation_0-rmse:1.44943\tvalidation_1-rmse:0.01289\n",
      "[0]\tvalidation_0-rmse:13.53523\tvalidation_1-rmse:0.49500\n",
      "[100]\tvalidation_0-rmse:5.34698\tvalidation_1-rmse:0.18131\n"
     ]
    },
    {
     "name": "stderr",
     "output_type": "stream",
     "text": [
      "s:\\Pizza\\.venv\\Lib\\site-packages\\xgboost\\core.py:158: UserWarning: [08:07:22] WARNING: C:\\buildkite-agent\\builds\\buildkite-windows-cpu-autoscaling-group-i-06abd128ca6c1688d-1\\xgboost\\xgboost-ci-windows\\src\\objective\\regression_obj.cu:227: reg:linear is now deprecated in favor of reg:squarederror.\n",
      "  warnings.warn(smsg, UserWarning)\n"
     ]
    },
    {
     "name": "stdout",
     "output_type": "stream",
     "text": [
      "[200]\tvalidation_0-rmse:2.54145\tvalidation_1-rmse:0.06641\n",
      "[300]\tvalidation_0-rmse:1.73865\tvalidation_1-rmse:0.02432\n",
      "[399]\tvalidation_0-rmse:1.44782\tvalidation_1-rmse:0.01288\n",
      "Processing nan...\n",
      "No data for nan, skipping...\n",
      "Processing calabrese_m...\n",
      "[0]\tvalidation_0-rmse:4.06920\tvalidation_1-rmse:0.49551\n",
      "[100]\tvalidation_0-rmse:1.88095\tvalidation_1-rmse:0.21368\n"
     ]
    },
    {
     "name": "stderr",
     "output_type": "stream",
     "text": [
      "s:\\Pizza\\.venv\\Lib\\site-packages\\xgboost\\core.py:158: UserWarning: [08:07:22] WARNING: C:\\buildkite-agent\\builds\\buildkite-windows-cpu-autoscaling-group-i-06abd128ca6c1688d-1\\xgboost\\xgboost-ci-windows\\src\\objective\\regression_obj.cu:227: reg:linear is now deprecated in favor of reg:squarederror.\n",
      "  warnings.warn(smsg, UserWarning)\n"
     ]
    },
    {
     "name": "stdout",
     "output_type": "stream",
     "text": [
      "[200]\tvalidation_0-rmse:1.17552\tvalidation_1-rmse:0.10098\n",
      "[300]\tvalidation_0-rmse:0.97373\tvalidation_1-rmse:0.06445\n",
      "[399]\tvalidation_0-rmse:0.90589\tvalidation_1-rmse:0.05320\n",
      "[0]\tvalidation_0-rmse:4.05449\tvalidation_1-rmse:0.49551\n",
      "[100]\tvalidation_0-rmse:1.87411\tvalidation_1-rmse:0.21341\n"
     ]
    },
    {
     "name": "stderr",
     "output_type": "stream",
     "text": [
      "s:\\Pizza\\.venv\\Lib\\site-packages\\xgboost\\core.py:158: UserWarning: [08:07:23] WARNING: C:\\buildkite-agent\\builds\\buildkite-windows-cpu-autoscaling-group-i-06abd128ca6c1688d-1\\xgboost\\xgboost-ci-windows\\src\\objective\\regression_obj.cu:227: reg:linear is now deprecated in favor of reg:squarederror.\n",
      "  warnings.warn(smsg, UserWarning)\n"
     ]
    },
    {
     "name": "stdout",
     "output_type": "stream",
     "text": [
      "[200]\tvalidation_0-rmse:1.17123\tvalidation_1-rmse:0.10000\n",
      "[300]\tvalidation_0-rmse:0.97017\tvalidation_1-rmse:0.06343\n",
      "[399]\tvalidation_0-rmse:0.90257\tvalidation_1-rmse:0.05259\n",
      "[0]\tvalidation_0-rmse:4.03994\tvalidation_1-rmse:5.20962\n",
      "[100]\tvalidation_0-rmse:1.86735\tvalidation_1-rmse:1.66093\n"
     ]
    },
    {
     "name": "stderr",
     "output_type": "stream",
     "text": [
      "s:\\Pizza\\.venv\\Lib\\site-packages\\xgboost\\core.py:158: UserWarning: [08:07:24] WARNING: C:\\buildkite-agent\\builds\\buildkite-windows-cpu-autoscaling-group-i-06abd128ca6c1688d-1\\xgboost\\xgboost-ci-windows\\src\\objective\\regression_obj.cu:227: reg:linear is now deprecated in favor of reg:squarederror.\n",
      "  warnings.warn(smsg, UserWarning)\n"
     ]
    },
    {
     "name": "stdout",
     "output_type": "stream",
     "text": [
      "[200]\tvalidation_0-rmse:1.16698\tvalidation_1-rmse:0.25842\n",
      "[278]\tvalidation_0-rmse:0.99187\tvalidation_1-rmse:0.29795\n",
      "Processing four_cheese_m...\n",
      "[0]\tvalidation_0-rmse:4.36715\tvalidation_1-rmse:8.21058\n",
      "[100]\tvalidation_0-rmse:1.93184\tvalidation_1-rmse:4.92460\n",
      "[200]\tvalidation_0-rmse:1.08484\tvalidation_1-rmse:4.03274\n"
     ]
    },
    {
     "name": "stderr",
     "output_type": "stream",
     "text": [
      "s:\\Pizza\\.venv\\Lib\\site-packages\\xgboost\\core.py:158: UserWarning: [08:07:24] WARNING: C:\\buildkite-agent\\builds\\buildkite-windows-cpu-autoscaling-group-i-06abd128ca6c1688d-1\\xgboost\\xgboost-ci-windows\\src\\objective\\regression_obj.cu:227: reg:linear is now deprecated in favor of reg:squarederror.\n",
      "  warnings.warn(smsg, UserWarning)\n"
     ]
    },
    {
     "name": "stdout",
     "output_type": "stream",
     "text": [
      "[300]\tvalidation_0-rmse:0.83742\tvalidation_1-rmse:3.81554\n",
      "[399]\tvalidation_0-rmse:0.76208\tvalidation_1-rmse:3.76442\n",
      "[0]\tvalidation_0-rmse:4.40562\tvalidation_1-rmse:2.72389\n",
      "[100]\tvalidation_0-rmse:1.93707\tvalidation_1-rmse:0.82459\n",
      "[111]\tvalidation_0-rmse:1.78810\tvalidation_1-rmse:0.97437\n",
      "[0]\tvalidation_0-rmse:4.39631\tvalidation_1-rmse:0.49521\n"
     ]
    },
    {
     "name": "stderr",
     "output_type": "stream",
     "text": [
      "s:\\Pizza\\.venv\\Lib\\site-packages\\xgboost\\core.py:158: UserWarning: [08:07:25] WARNING: C:\\buildkite-agent\\builds\\buildkite-windows-cpu-autoscaling-group-i-06abd128ca6c1688d-1\\xgboost\\xgboost-ci-windows\\src\\objective\\regression_obj.cu:227: reg:linear is now deprecated in favor of reg:squarederror.\n",
      "  warnings.warn(smsg, UserWarning)\n",
      "s:\\Pizza\\.venv\\Lib\\site-packages\\xgboost\\core.py:158: UserWarning: [08:07:25] WARNING: C:\\buildkite-agent\\builds\\buildkite-windows-cpu-autoscaling-group-i-06abd128ca6c1688d-1\\xgboost\\xgboost-ci-windows\\src\\objective\\regression_obj.cu:227: reg:linear is now deprecated in favor of reg:squarederror.\n",
      "  warnings.warn(smsg, UserWarning)\n"
     ]
    },
    {
     "name": "stdout",
     "output_type": "stream",
     "text": [
      "[100]\tvalidation_0-rmse:1.93734\tvalidation_1-rmse:0.19443\n",
      "[200]\tvalidation_0-rmse:1.09624\tvalidation_1-rmse:0.11621\n",
      "[224]\tvalidation_0-rmse:1.00849\tvalidation_1-rmse:0.13533\n",
      "Processing ital_veggie_s...\n",
      "[0]\tvalidation_0-rmse:2.17959\tvalidation_1-rmse:0.49640\n",
      "[100]\tvalidation_0-rmse:1.38044\tvalidation_1-rmse:0.27038\n"
     ]
    },
    {
     "name": "stderr",
     "output_type": "stream",
     "text": [
      "s:\\Pizza\\.venv\\Lib\\site-packages\\xgboost\\core.py:158: UserWarning: [08:07:25] WARNING: C:\\buildkite-agent\\builds\\buildkite-windows-cpu-autoscaling-group-i-06abd128ca6c1688d-1\\xgboost\\xgboost-ci-windows\\src\\objective\\regression_obj.cu:227: reg:linear is now deprecated in favor of reg:squarederror.\n",
      "  warnings.warn(smsg, UserWarning)\n"
     ]
    },
    {
     "name": "stdout",
     "output_type": "stream",
     "text": [
      "[200]\tvalidation_0-rmse:1.14303\tvalidation_1-rmse:0.17695\n",
      "[300]\tvalidation_0-rmse:1.07584\tvalidation_1-rmse:0.12353\n",
      "[399]\tvalidation_0-rmse:1.00981\tvalidation_1-rmse:0.07805\n",
      "[0]\tvalidation_0-rmse:2.16548\tvalidation_1-rmse:4.61213\n",
      "[49]\tvalidation_0-rmse:1.66608\tvalidation_1-rmse:4.70406\n",
      "[0]\tvalidation_0-rmse:2.21634\tvalidation_1-rmse:0.49687\n"
     ]
    },
    {
     "name": "stderr",
     "output_type": "stream",
     "text": [
      "s:\\Pizza\\.venv\\Lib\\site-packages\\xgboost\\core.py:158: UserWarning: [08:07:26] WARNING: C:\\buildkite-agent\\builds\\buildkite-windows-cpu-autoscaling-group-i-06abd128ca6c1688d-1\\xgboost\\xgboost-ci-windows\\src\\objective\\regression_obj.cu:227: reg:linear is now deprecated in favor of reg:squarederror.\n",
      "  warnings.warn(smsg, UserWarning)\n",
      "s:\\Pizza\\.venv\\Lib\\site-packages\\xgboost\\core.py:158: UserWarning: [08:07:26] WARNING: C:\\buildkite-agent\\builds\\buildkite-windows-cpu-autoscaling-group-i-06abd128ca6c1688d-1\\xgboost\\xgboost-ci-windows\\src\\objective\\regression_obj.cu:227: reg:linear is now deprecated in favor of reg:squarederror.\n",
      "  warnings.warn(smsg, UserWarning)\n"
     ]
    },
    {
     "name": "stdout",
     "output_type": "stream",
     "text": [
      "[92]\tvalidation_0-rmse:1.50246\tvalidation_1-rmse:0.51770\n",
      "Processing mediterraneo_m...\n",
      "[0]\tvalidation_0-rmse:1.77870\tvalidation_1-rmse:0.49714\n",
      "[100]\tvalidation_0-rmse:1.35037\tvalidation_1-rmse:0.31712\n",
      "[152]\tvalidation_0-rmse:1.27915\tvalidation_1-rmse:0.41281\n"
     ]
    },
    {
     "name": "stderr",
     "output_type": "stream",
     "text": [
      "s:\\Pizza\\.venv\\Lib\\site-packages\\xgboost\\core.py:158: UserWarning: [08:07:26] WARNING: C:\\buildkite-agent\\builds\\buildkite-windows-cpu-autoscaling-group-i-06abd128ca6c1688d-1\\xgboost\\xgboost-ci-windows\\src\\objective\\regression_obj.cu:227: reg:linear is now deprecated in favor of reg:squarederror.\n",
      "  warnings.warn(smsg, UserWarning)\n"
     ]
    },
    {
     "name": "stdout",
     "output_type": "stream",
     "text": [
      "[0]\tvalidation_0-rmse:1.76618\tvalidation_1-rmse:0.49710\n",
      "[100]\tvalidation_0-rmse:1.34047\tvalidation_1-rmse:0.31490\n",
      "[176]\tvalidation_0-rmse:1.25256\tvalidation_1-rmse:0.36217\n"
     ]
    },
    {
     "name": "stderr",
     "output_type": "stream",
     "text": [
      "s:\\Pizza\\.venv\\Lib\\site-packages\\xgboost\\core.py:158: UserWarning: [08:07:26] WARNING: C:\\buildkite-agent\\builds\\buildkite-windows-cpu-autoscaling-group-i-06abd128ca6c1688d-1\\xgboost\\xgboost-ci-windows\\src\\objective\\regression_obj.cu:227: reg:linear is now deprecated in favor of reg:squarederror.\n",
      "  warnings.warn(smsg, UserWarning)\n"
     ]
    },
    {
     "name": "stdout",
     "output_type": "stream",
     "text": [
      "[0]\tvalidation_0-rmse:1.75395\tvalidation_1-rmse:0.49707\n",
      "[100]\tvalidation_0-rmse:1.33078\tvalidation_1-rmse:0.31275\n",
      "[200]\tvalidation_0-rmse:1.22968\tvalidation_1-rmse:0.31097\n"
     ]
    },
    {
     "name": "stderr",
     "output_type": "stream",
     "text": [
      "s:\\Pizza\\.venv\\Lib\\site-packages\\xgboost\\core.py:158: UserWarning: [08:07:27] WARNING: C:\\buildkite-agent\\builds\\buildkite-windows-cpu-autoscaling-group-i-06abd128ca6c1688d-1\\xgboost\\xgboost-ci-windows\\src\\objective\\regression_obj.cu:227: reg:linear is now deprecated in favor of reg:squarederror.\n",
      "  warnings.warn(smsg, UserWarning)\n"
     ]
    },
    {
     "name": "stdout",
     "output_type": "stream",
     "text": [
      "[201]\tvalidation_0-rmse:1.22912\tvalidation_1-rmse:0.31058\n",
      "Processing peppr_salami_s...\n",
      "[0]\tvalidation_0-rmse:2.40092\tvalidation_1-rmse:9.08582\n",
      "[100]\tvalidation_0-rmse:1.20974\tvalidation_1-rmse:7.36863\n",
      "[200]\tvalidation_0-rmse:0.80858\tvalidation_1-rmse:6.47708\n"
     ]
    },
    {
     "name": "stderr",
     "output_type": "stream",
     "text": [
      "s:\\Pizza\\.venv\\Lib\\site-packages\\xgboost\\core.py:158: UserWarning: [08:07:27] WARNING: C:\\buildkite-agent\\builds\\buildkite-windows-cpu-autoscaling-group-i-06abd128ca6c1688d-1\\xgboost\\xgboost-ci-windows\\src\\objective\\regression_obj.cu:227: reg:linear is now deprecated in favor of reg:squarederror.\n",
      "  warnings.warn(smsg, UserWarning)\n"
     ]
    },
    {
     "name": "stdout",
     "output_type": "stream",
     "text": [
      "[300]\tvalidation_0-rmse:0.66439\tvalidation_1-rmse:6.14943\n",
      "[399]\tvalidation_0-rmse:0.59632\tvalidation_1-rmse:6.01567\n",
      "[0]\tvalidation_0-rmse:2.59613\tvalidation_1-rmse:0.49560\n",
      "[100]\tvalidation_0-rmse:1.28934\tvalidation_1-rmse:0.21915\n",
      "[200]\tvalidation_0-rmse:0.85143\tvalidation_1-rmse:0.11854\n"
     ]
    },
    {
     "name": "stderr",
     "output_type": "stream",
     "text": [
      "s:\\Pizza\\.venv\\Lib\\site-packages\\xgboost\\core.py:158: UserWarning: [08:07:28] WARNING: C:\\buildkite-agent\\builds\\buildkite-windows-cpu-autoscaling-group-i-06abd128ca6c1688d-1\\xgboost\\xgboost-ci-windows\\src\\objective\\regression_obj.cu:227: reg:linear is now deprecated in favor of reg:squarederror.\n",
      "  warnings.warn(smsg, UserWarning)\n"
     ]
    },
    {
     "name": "stdout",
     "output_type": "stream",
     "text": [
      "[292]\tvalidation_0-rmse:0.68990\tvalidation_1-rmse:0.11179\n",
      "[0]\tvalidation_0-rmse:2.58014\tvalidation_1-rmse:0.49559\n",
      "[100]\tvalidation_0-rmse:1.28128\tvalidation_1-rmse:0.21861\n"
     ]
    },
    {
     "name": "stderr",
     "output_type": "stream",
     "text": [
      "s:\\Pizza\\.venv\\Lib\\site-packages\\xgboost\\core.py:158: UserWarning: [08:07:28] WARNING: C:\\buildkite-agent\\builds\\buildkite-windows-cpu-autoscaling-group-i-06abd128ca6c1688d-1\\xgboost\\xgboost-ci-windows\\src\\objective\\regression_obj.cu:227: reg:linear is now deprecated in favor of reg:squarederror.\n",
      "  warnings.warn(smsg, UserWarning)\n"
     ]
    },
    {
     "name": "stdout",
     "output_type": "stream",
     "text": [
      "[200]\tvalidation_0-rmse:0.84605\tvalidation_1-rmse:0.11779\n",
      "[293]\tvalidation_0-rmse:0.68478\tvalidation_1-rmse:0.10323\n",
      "Processing spinach_fet_l...\n",
      "[0]\tvalidation_0-rmse:3.59370\tvalidation_1-rmse:3.23303\n",
      "[100]\tvalidation_0-rmse:1.77580\tvalidation_1-rmse:0.61940\n",
      "[130]\tvalidation_0-rmse:1.53419\tvalidation_1-rmse:1.24314\n",
      "[0]\tvalidation_0-rmse:3.59066\tvalidation_1-rmse:0.49566\n"
     ]
    },
    {
     "name": "stderr",
     "output_type": "stream",
     "text": [
      "s:\\Pizza\\.venv\\Lib\\site-packages\\xgboost\\core.py:158: UserWarning: [08:07:28] WARNING: C:\\buildkite-agent\\builds\\buildkite-windows-cpu-autoscaling-group-i-06abd128ca6c1688d-1\\xgboost\\xgboost-ci-windows\\src\\objective\\regression_obj.cu:227: reg:linear is now deprecated in favor of reg:squarederror.\n",
      "  warnings.warn(smsg, UserWarning)\n",
      "s:\\Pizza\\.venv\\Lib\\site-packages\\xgboost\\core.py:158: UserWarning: [08:07:29] WARNING: C:\\buildkite-agent\\builds\\buildkite-windows-cpu-autoscaling-group-i-06abd128ca6c1688d-1\\xgboost\\xgboost-ci-windows\\src\\objective\\regression_obj.cu:227: reg:linear is now deprecated in favor of reg:squarederror.\n",
      "  warnings.warn(smsg, UserWarning)\n"
     ]
    },
    {
     "name": "stdout",
     "output_type": "stream",
     "text": [
      "[100]\tvalidation_0-rmse:1.77281\tvalidation_1-rmse:0.21533\n",
      "[200]\tvalidation_0-rmse:1.21608\tvalidation_1-rmse:0.09973\n",
      "[300]\tvalidation_0-rmse:0.99884\tvalidation_1-rmse:0.05369\n",
      "[399]\tvalidation_0-rmse:0.91888\tvalidation_1-rmse:0.03712\n",
      "[0]\tvalidation_0-rmse:3.57435\tvalidation_1-rmse:0.49566\n",
      "[100]\tvalidation_0-rmse:1.76470\tvalidation_1-rmse:0.21496\n"
     ]
    },
    {
     "name": "stderr",
     "output_type": "stream",
     "text": [
      "s:\\Pizza\\.venv\\Lib\\site-packages\\xgboost\\core.py:158: UserWarning: [08:07:29] WARNING: C:\\buildkite-agent\\builds\\buildkite-windows-cpu-autoscaling-group-i-06abd128ca6c1688d-1\\xgboost\\xgboost-ci-windows\\src\\objective\\regression_obj.cu:227: reg:linear is now deprecated in favor of reg:squarederror.\n",
      "  warnings.warn(smsg, UserWarning)\n"
     ]
    },
    {
     "name": "stdout",
     "output_type": "stream",
     "text": [
      "[200]\tvalidation_0-rmse:1.21047\tvalidation_1-rmse:0.09937\n",
      "[300]\tvalidation_0-rmse:0.99422\tvalidation_1-rmse:0.05337\n",
      "[399]\tvalidation_0-rmse:0.91440\tvalidation_1-rmse:0.03684\n",
      "Processing napolitana_l...\n",
      "[0]\tvalidation_0-rmse:4.21792\tvalidation_1-rmse:3.81622\n",
      "[100]\tvalidation_0-rmse:1.91810\tvalidation_1-rmse:1.59910\n",
      "[110]\tvalidation_0-rmse:1.79362\tvalidation_1-rmse:1.94445\n",
      "[0]\tvalidation_0-rmse:4.21555\tvalidation_1-rmse:1.30424\n"
     ]
    },
    {
     "name": "stderr",
     "output_type": "stream",
     "text": [
      "s:\\Pizza\\.venv\\Lib\\site-packages\\xgboost\\core.py:158: UserWarning: [08:07:30] WARNING: C:\\buildkite-agent\\builds\\buildkite-windows-cpu-autoscaling-group-i-06abd128ca6c1688d-1\\xgboost\\xgboost-ci-windows\\src\\objective\\regression_obj.cu:227: reg:linear is now deprecated in favor of reg:squarederror.\n",
      "  warnings.warn(smsg, UserWarning)\n",
      "s:\\Pizza\\.venv\\Lib\\site-packages\\xgboost\\core.py:158: UserWarning: [08:07:30] WARNING: C:\\buildkite-agent\\builds\\buildkite-windows-cpu-autoscaling-group-i-06abd128ca6c1688d-1\\xgboost\\xgboost-ci-windows\\src\\objective\\regression_obj.cu:227: reg:linear is now deprecated in favor of reg:squarederror.\n",
      "  warnings.warn(smsg, UserWarning)\n"
     ]
    },
    {
     "name": "stdout",
     "output_type": "stream",
     "text": [
      "[100]\tvalidation_0-rmse:1.93706\tvalidation_1-rmse:0.57372\n",
      "[120]\tvalidation_0-rmse:1.70664\tvalidation_1-rmse:0.77777\n",
      "[0]\tvalidation_0-rmse:4.20176\tvalidation_1-rmse:0.49538\n",
      "[100]\tvalidation_0-rmse:1.93050\tvalidation_1-rmse:0.20496\n"
     ]
    },
    {
     "name": "stderr",
     "output_type": "stream",
     "text": [
      "s:\\Pizza\\.venv\\Lib\\site-packages\\xgboost\\core.py:158: UserWarning: [08:07:30] WARNING: C:\\buildkite-agent\\builds\\buildkite-windows-cpu-autoscaling-group-i-06abd128ca6c1688d-1\\xgboost\\xgboost-ci-windows\\src\\objective\\regression_obj.cu:227: reg:linear is now deprecated in favor of reg:squarederror.\n",
      "  warnings.warn(smsg, UserWarning)\n"
     ]
    },
    {
     "name": "stdout",
     "output_type": "stream",
     "text": [
      "[200]\tvalidation_0-rmse:1.15068\tvalidation_1-rmse:0.11148\n",
      "[300]\tvalidation_0-rmse:0.88741\tvalidation_1-rmse:0.07496\n",
      "[399]\tvalidation_0-rmse:0.78662\tvalidation_1-rmse:0.05962\n",
      "Processing sicilian_l...\n",
      "[0]\tvalidation_0-rmse:4.13728\tvalidation_1-rmse:8.05058\n",
      "[100]\tvalidation_0-rmse:1.94410\tvalidation_1-rmse:3.96265\n"
     ]
    },
    {
     "name": "stderr",
     "output_type": "stream",
     "text": [
      "s:\\Pizza\\.venv\\Lib\\site-packages\\xgboost\\core.py:158: UserWarning: [08:07:31] WARNING: C:\\buildkite-agent\\builds\\buildkite-windows-cpu-autoscaling-group-i-06abd128ca6c1688d-1\\xgboost\\xgboost-ci-windows\\src\\objective\\regression_obj.cu:227: reg:linear is now deprecated in favor of reg:squarederror.\n",
      "  warnings.warn(smsg, UserWarning)\n"
     ]
    },
    {
     "name": "stdout",
     "output_type": "stream",
     "text": [
      "[200]\tvalidation_0-rmse:1.17612\tvalidation_1-rmse:1.20882\n",
      "[300]\tvalidation_0-rmse:0.92358\tvalidation_1-rmse:0.38239\n",
      "[396]\tvalidation_0-rmse:0.83934\tvalidation_1-rmse:0.43492\n",
      "[0]\tvalidation_0-rmse:4.17642\tvalidation_1-rmse:0.49586\n",
      "[100]\tvalidation_0-rmse:1.95858\tvalidation_1-rmse:0.23217\n"
     ]
    },
    {
     "name": "stderr",
     "output_type": "stream",
     "text": [
      "s:\\Pizza\\.venv\\Lib\\site-packages\\xgboost\\core.py:158: UserWarning: [08:07:32] WARNING: C:\\buildkite-agent\\builds\\buildkite-windows-cpu-autoscaling-group-i-06abd128ca6c1688d-1\\xgboost\\xgboost-ci-windows\\src\\objective\\regression_obj.cu:227: reg:linear is now deprecated in favor of reg:squarederror.\n",
      "  warnings.warn(smsg, UserWarning)\n"
     ]
    },
    {
     "name": "stdout",
     "output_type": "stream",
     "text": [
      "[200]\tvalidation_0-rmse:1.18036\tvalidation_1-rmse:0.12158\n",
      "[300]\tvalidation_0-rmse:0.92537\tvalidation_1-rmse:0.07655\n",
      "[399]\tvalidation_0-rmse:0.83597\tvalidation_1-rmse:0.05614\n",
      "[0]\tvalidation_0-rmse:4.16248\tvalidation_1-rmse:0.49585\n",
      "[100]\tvalidation_0-rmse:1.95202\tvalidation_1-rmse:0.23179\n"
     ]
    },
    {
     "name": "stderr",
     "output_type": "stream",
     "text": [
      "s:\\Pizza\\.venv\\Lib\\site-packages\\xgboost\\core.py:158: UserWarning: [08:07:32] WARNING: C:\\buildkite-agent\\builds\\buildkite-windows-cpu-autoscaling-group-i-06abd128ca6c1688d-1\\xgboost\\xgboost-ci-windows\\src\\objective\\regression_obj.cu:227: reg:linear is now deprecated in favor of reg:squarederror.\n",
      "  warnings.warn(smsg, UserWarning)\n"
     ]
    },
    {
     "name": "stdout",
     "output_type": "stream",
     "text": [
      "[200]\tvalidation_0-rmse:1.17638\tvalidation_1-rmse:0.12117\n",
      "[300]\tvalidation_0-rmse:0.92225\tvalidation_1-rmse:0.07615\n",
      "[399]\tvalidation_0-rmse:0.83313\tvalidation_1-rmse:0.05629\n",
      "Processing ital_cpcllo_m...\n",
      "[0]\tvalidation_0-rmse:3.23906\tvalidation_1-rmse:2.72857\n",
      "[100]\tvalidation_0-rmse:1.56673\tvalidation_1-rmse:0.35125\n",
      "[132]\tvalidation_0-rmse:1.31396\tvalidation_1-rmse:0.75056\n",
      "[0]\tvalidation_0-rmse:3.23449\tvalidation_1-rmse:0.49576\n"
     ]
    },
    {
     "name": "stderr",
     "output_type": "stream",
     "text": [
      "s:\\Pizza\\.venv\\Lib\\site-packages\\xgboost\\core.py:158: UserWarning: [08:07:33] WARNING: C:\\buildkite-agent\\builds\\buildkite-windows-cpu-autoscaling-group-i-06abd128ca6c1688d-1\\xgboost\\xgboost-ci-windows\\src\\objective\\regression_obj.cu:227: reg:linear is now deprecated in favor of reg:squarederror.\n",
      "  warnings.warn(smsg, UserWarning)\n",
      "s:\\Pizza\\.venv\\Lib\\site-packages\\xgboost\\core.py:158: UserWarning: [08:07:33] WARNING: C:\\buildkite-agent\\builds\\buildkite-windows-cpu-autoscaling-group-i-06abd128ca6c1688d-1\\xgboost\\xgboost-ci-windows\\src\\objective\\regression_obj.cu:227: reg:linear is now deprecated in favor of reg:squarederror.\n",
      "  warnings.warn(smsg, UserWarning)\n"
     ]
    },
    {
     "name": "stdout",
     "output_type": "stream",
     "text": [
      "[100]\tvalidation_0-rmse:1.56393\tvalidation_1-rmse:0.22928\n",
      "[200]\tvalidation_0-rmse:0.99834\tvalidation_1-rmse:0.13134\n",
      "[300]\tvalidation_0-rmse:0.82613\tvalidation_1-rmse:0.08744\n",
      "[399]\tvalidation_0-rmse:0.76093\tvalidation_1-rmse:0.06617\n",
      "[0]\tvalidation_0-rmse:3.21846\tvalidation_1-rmse:0.49575\n",
      "[100]\tvalidation_0-rmse:1.55611\tvalidation_1-rmse:0.22873\n",
      "[200]\tvalidation_0-rmse:0.99333\tvalidation_1-rmse:0.13060\n"
     ]
    },
    {
     "name": "stderr",
     "output_type": "stream",
     "text": [
      "s:\\Pizza\\.venv\\Lib\\site-packages\\xgboost\\core.py:158: UserWarning: [08:07:33] WARNING: C:\\buildkite-agent\\builds\\buildkite-windows-cpu-autoscaling-group-i-06abd128ca6c1688d-1\\xgboost\\xgboost-ci-windows\\src\\objective\\regression_obj.cu:227: reg:linear is now deprecated in favor of reg:squarederror.\n",
      "  warnings.warn(smsg, UserWarning)\n"
     ]
    },
    {
     "name": "stdout",
     "output_type": "stream",
     "text": [
      "[300]\tvalidation_0-rmse:0.82196\tvalidation_1-rmse:0.08670\n",
      "[399]\tvalidation_0-rmse:0.75700\tvalidation_1-rmse:0.06473\n",
      "Processing southw_ckn_s...\n",
      "[0]\tvalidation_0-rmse:2.86774\tvalidation_1-rmse:0.49621\n",
      "[100]\tvalidation_0-rmse:1.60287\tvalidation_1-rmse:0.26289\n"
     ]
    },
    {
     "name": "stderr",
     "output_type": "stream",
     "text": [
      "s:\\Pizza\\.venv\\Lib\\site-packages\\xgboost\\core.py:158: UserWarning: [08:07:34] WARNING: C:\\buildkite-agent\\builds\\buildkite-windows-cpu-autoscaling-group-i-06abd128ca6c1688d-1\\xgboost\\xgboost-ci-windows\\src\\objective\\regression_obj.cu:227: reg:linear is now deprecated in favor of reg:squarederror.\n",
      "  warnings.warn(smsg, UserWarning)\n"
     ]
    },
    {
     "name": "stdout",
     "output_type": "stream",
     "text": [
      "[200]\tvalidation_0-rmse:1.23509\tvalidation_1-rmse:0.17059\n",
      "[300]\tvalidation_0-rmse:1.13300\tvalidation_1-rmse:0.11147\n",
      "[399]\tvalidation_0-rmse:1.09631\tvalidation_1-rmse:0.06757\n",
      "[0]\tvalidation_0-rmse:2.85215\tvalidation_1-rmse:2.50228\n",
      "[50]\tvalidation_0-rmse:2.04628\tvalidation_1-rmse:2.59258\n",
      "[0]\tvalidation_0-rmse:2.84855\tvalidation_1-rmse:0.49643\n"
     ]
    },
    {
     "name": "stderr",
     "output_type": "stream",
     "text": [
      "s:\\Pizza\\.venv\\Lib\\site-packages\\xgboost\\core.py:158: UserWarning: [08:07:35] WARNING: C:\\buildkite-agent\\builds\\buildkite-windows-cpu-autoscaling-group-i-06abd128ca6c1688d-1\\xgboost\\xgboost-ci-windows\\src\\objective\\regression_obj.cu:227: reg:linear is now deprecated in favor of reg:squarederror.\n",
      "  warnings.warn(smsg, UserWarning)\n",
      "s:\\Pizza\\.venv\\Lib\\site-packages\\xgboost\\core.py:158: UserWarning: [08:07:35] WARNING: C:\\buildkite-agent\\builds\\buildkite-windows-cpu-autoscaling-group-i-06abd128ca6c1688d-1\\xgboost\\xgboost-ci-windows\\src\\objective\\regression_obj.cu:227: reg:linear is now deprecated in favor of reg:squarederror.\n",
      "  warnings.warn(smsg, UserWarning)\n"
     ]
    },
    {
     "name": "stdout",
     "output_type": "stream",
     "text": [
      "[100]\tvalidation_0-rmse:1.61059\tvalidation_1-rmse:0.27654\n",
      "[200]\tvalidation_0-rmse:1.25507\tvalidation_1-rmse:0.18962\n",
      "[266]\tvalidation_0-rmse:1.17895\tvalidation_1-rmse:0.39388\n",
      "Processing bbq_ckn_m...\n",
      "[0]\tvalidation_0-rmse:6.46444\tvalidation_1-rmse:3.72423\n",
      "[100]\tvalidation_0-rmse:2.70890\tvalidation_1-rmse:1.23172\n"
     ]
    },
    {
     "name": "stderr",
     "output_type": "stream",
     "text": [
      "s:\\Pizza\\.venv\\Lib\\site-packages\\xgboost\\core.py:158: UserWarning: [08:07:35] WARNING: C:\\buildkite-agent\\builds\\buildkite-windows-cpu-autoscaling-group-i-06abd128ca6c1688d-1\\xgboost\\xgboost-ci-windows\\src\\objective\\regression_obj.cu:227: reg:linear is now deprecated in favor of reg:squarederror.\n",
      "  warnings.warn(smsg, UserWarning)\n"
     ]
    },
    {
     "name": "stdout",
     "output_type": "stream",
     "text": [
      "[200]\tvalidation_0-rmse:1.41511\tvalidation_1-rmse:0.19727\n",
      "[230]\tvalidation_0-rmse:1.23507\tvalidation_1-rmse:0.37272\n",
      "[0]\tvalidation_0-rmse:6.45506\tvalidation_1-rmse:0.49533\n",
      "[100]\tvalidation_0-rmse:2.70501\tvalidation_1-rmse:0.20192\n",
      "[200]\tvalidation_0-rmse:1.41296\tvalidation_1-rmse:0.09186\n"
     ]
    },
    {
     "name": "stderr",
     "output_type": "stream",
     "text": [
      "s:\\Pizza\\.venv\\Lib\\site-packages\\xgboost\\core.py:158: UserWarning: [08:07:36] WARNING: C:\\buildkite-agent\\builds\\buildkite-windows-cpu-autoscaling-group-i-06abd128ca6c1688d-1\\xgboost\\xgboost-ci-windows\\src\\objective\\regression_obj.cu:227: reg:linear is now deprecated in favor of reg:squarederror.\n",
      "  warnings.warn(smsg, UserWarning)\n"
     ]
    },
    {
     "name": "stdout",
     "output_type": "stream",
     "text": [
      "[300]\tvalidation_0-rmse:0.99586\tvalidation_1-rmse:0.04418\n",
      "[399]\tvalidation_0-rmse:0.84477\tvalidation_1-rmse:0.02596\n",
      "[0]\tvalidation_0-rmse:6.44113\tvalidation_1-rmse:0.49533\n",
      "[100]\tvalidation_0-rmse:2.69917\tvalidation_1-rmse:0.20182\n"
     ]
    },
    {
     "name": "stderr",
     "output_type": "stream",
     "text": [
      "s:\\Pizza\\.venv\\Lib\\site-packages\\xgboost\\core.py:158: UserWarning: [08:07:36] WARNING: C:\\buildkite-agent\\builds\\buildkite-windows-cpu-autoscaling-group-i-06abd128ca6c1688d-1\\xgboost\\xgboost-ci-windows\\src\\objective\\regression_obj.cu:227: reg:linear is now deprecated in favor of reg:squarederror.\n",
      "  warnings.warn(smsg, UserWarning)\n"
     ]
    },
    {
     "name": "stdout",
     "output_type": "stream",
     "text": [
      "[200]\tvalidation_0-rmse:1.40990\tvalidation_1-rmse:0.09173\n",
      "[300]\tvalidation_0-rmse:0.99370\tvalidation_1-rmse:0.04408\n",
      "[399]\tvalidation_0-rmse:0.84340\tvalidation_1-rmse:0.02560\n",
      "Processing pepperoni_m...\n",
      "[0]\tvalidation_0-rmse:6.89626\tvalidation_1-rmse:0.49501\n",
      "[100]\tvalidation_0-rmse:2.84067\tvalidation_1-rmse:0.18142\n",
      "[200]\tvalidation_0-rmse:1.45877\tvalidation_1-rmse:0.06684\n"
     ]
    },
    {
     "name": "stderr",
     "output_type": "stream",
     "text": [
      "s:\\Pizza\\.venv\\Lib\\site-packages\\xgboost\\core.py:158: UserWarning: [08:07:37] WARNING: C:\\buildkite-agent\\builds\\buildkite-windows-cpu-autoscaling-group-i-06abd128ca6c1688d-1\\xgboost\\xgboost-ci-windows\\src\\objective\\regression_obj.cu:227: reg:linear is now deprecated in favor of reg:squarederror.\n",
      "  warnings.warn(smsg, UserWarning)\n"
     ]
    },
    {
     "name": "stdout",
     "output_type": "stream",
     "text": [
      "[300]\tvalidation_0-rmse:1.03891\tvalidation_1-rmse:0.02484\n",
      "[399]\tvalidation_0-rmse:0.86247\tvalidation_1-rmse:0.00747\n",
      "[0]\tvalidation_0-rmse:6.88117\tvalidation_1-rmse:4.67575\n",
      "[100]\tvalidation_0-rmse:2.83445\tvalidation_1-rmse:1.66799\n",
      "[112]\tvalidation_0-rmse:2.57745\tvalidation_1-rmse:2.09908\n",
      "[0]\tvalidation_0-rmse:6.87327\tvalidation_1-rmse:0.49501\n"
     ]
    },
    {
     "name": "stderr",
     "output_type": "stream",
     "text": [
      "s:\\Pizza\\.venv\\Lib\\site-packages\\xgboost\\core.py:158: UserWarning: [08:07:37] WARNING: C:\\buildkite-agent\\builds\\buildkite-windows-cpu-autoscaling-group-i-06abd128ca6c1688d-1\\xgboost\\xgboost-ci-windows\\src\\objective\\regression_obj.cu:227: reg:linear is now deprecated in favor of reg:squarederror.\n",
      "  warnings.warn(smsg, UserWarning)\n",
      "s:\\Pizza\\.venv\\Lib\\site-packages\\xgboost\\core.py:158: UserWarning: [08:07:37] WARNING: C:\\buildkite-agent\\builds\\buildkite-windows-cpu-autoscaling-group-i-06abd128ca6c1688d-1\\xgboost\\xgboost-ci-windows\\src\\objective\\regression_obj.cu:227: reg:linear is now deprecated in favor of reg:squarederror.\n",
      "  warnings.warn(smsg, UserWarning)\n"
     ]
    },
    {
     "name": "stdout",
     "output_type": "stream",
     "text": [
      "[100]\tvalidation_0-rmse:2.84175\tvalidation_1-rmse:0.18142\n",
      "[200]\tvalidation_0-rmse:1.48690\tvalidation_1-rmse:0.06654\n",
      "[300]\tvalidation_0-rmse:1.06254\tvalidation_1-rmse:0.02434\n",
      "[399]\tvalidation_0-rmse:0.90701\tvalidation_1-rmse:0.00706\n",
      "Processing prsc_argla_s...\n",
      "[0]\tvalidation_0-rmse:3.62877\tvalidation_1-rmse:4.22785\n",
      "[100]\tvalidation_0-rmse:1.65949\tvalidation_1-rmse:1.20909\n"
     ]
    },
    {
     "name": "stderr",
     "output_type": "stream",
     "text": [
      "s:\\Pizza\\.venv\\Lib\\site-packages\\xgboost\\core.py:158: UserWarning: [08:07:38] WARNING: C:\\buildkite-agent\\builds\\buildkite-windows-cpu-autoscaling-group-i-06abd128ca6c1688d-1\\xgboost\\xgboost-ci-windows\\src\\objective\\regression_obj.cu:227: reg:linear is now deprecated in favor of reg:squarederror.\n",
      "  warnings.warn(smsg, UserWarning)\n"
     ]
    },
    {
     "name": "stdout",
     "output_type": "stream",
     "text": [
      "[200]\tvalidation_0-rmse:1.02177\tvalidation_1-rmse:0.10990\n",
      "[245]\tvalidation_0-rmse:0.90917\tvalidation_1-rmse:0.30125\n",
      "[0]\tvalidation_0-rmse:3.63509\tvalidation_1-rmse:2.74225\n",
      "[100]\tvalidation_0-rmse:1.66193\tvalidation_1-rmse:0.23622\n"
     ]
    },
    {
     "name": "stderr",
     "output_type": "stream",
     "text": [
      "s:\\Pizza\\.venv\\Lib\\site-packages\\xgboost\\core.py:158: UserWarning: [08:07:38] WARNING: C:\\buildkite-agent\\builds\\buildkite-windows-cpu-autoscaling-group-i-06abd128ca6c1688d-1\\xgboost\\xgboost-ci-windows\\src\\objective\\regression_obj.cu:227: reg:linear is now deprecated in favor of reg:squarederror.\n",
      "  warnings.warn(smsg, UserWarning)\n"
     ]
    },
    {
     "name": "stdout",
     "output_type": "stream",
     "text": [
      "[163]\tvalidation_0-rmse:1.18696\tvalidation_1-rmse:0.48095\n",
      "[0]\tvalidation_0-rmse:3.62770\tvalidation_1-rmse:0.49564\n"
     ]
    },
    {
     "name": "stderr",
     "output_type": "stream",
     "text": [
      "s:\\Pizza\\.venv\\Lib\\site-packages\\xgboost\\core.py:158: UserWarning: [08:07:38] WARNING: C:\\buildkite-agent\\builds\\buildkite-windows-cpu-autoscaling-group-i-06abd128ca6c1688d-1\\xgboost\\xgboost-ci-windows\\src\\objective\\regression_obj.cu:227: reg:linear is now deprecated in favor of reg:squarederror.\n",
      "  warnings.warn(smsg, UserWarning)\n"
     ]
    },
    {
     "name": "stdout",
     "output_type": "stream",
     "text": [
      "[100]\tvalidation_0-rmse:1.65901\tvalidation_1-rmse:0.22161\n",
      "[200]\tvalidation_0-rmse:1.03897\tvalidation_1-rmse:0.11664\n",
      "[300]\tvalidation_0-rmse:0.85387\tvalidation_1-rmse:0.06295\n",
      "[399]\tvalidation_0-rmse:0.79154\tvalidation_1-rmse:0.03910\n",
      "Processing sicilian_m...\n",
      "[0]\tvalidation_0-rmse:4.64531\tvalidation_1-rmse:0.49501\n",
      "[100]\tvalidation_0-rmse:2.06764\tvalidation_1-rmse:0.18815\n",
      "[200]\tvalidation_0-rmse:1.20102\tvalidation_1-rmse:0.08019\n"
     ]
    },
    {
     "name": "stderr",
     "output_type": "stream",
     "text": [
      "s:\\Pizza\\.venv\\Lib\\site-packages\\xgboost\\core.py:158: UserWarning: [08:07:39] WARNING: C:\\buildkite-agent\\builds\\buildkite-windows-cpu-autoscaling-group-i-06abd128ca6c1688d-1\\xgboost\\xgboost-ci-windows\\src\\objective\\regression_obj.cu:227: reg:linear is now deprecated in favor of reg:squarederror.\n",
      "  warnings.warn(smsg, UserWarning)\n"
     ]
    },
    {
     "name": "stdout",
     "output_type": "stream",
     "text": [
      "[300]\tvalidation_0-rmse:0.91916\tvalidation_1-rmse:0.03533\n",
      "[399]\tvalidation_0-rmse:0.78737\tvalidation_1-rmse:0.02396\n",
      "[0]\tvalidation_0-rmse:4.62864\tvalidation_1-rmse:0.49501\n",
      "[100]\tvalidation_0-rmse:2.06021\tvalidation_1-rmse:0.18809\n"
     ]
    },
    {
     "name": "stderr",
     "output_type": "stream",
     "text": [
      "s:\\Pizza\\.venv\\Lib\\site-packages\\xgboost\\core.py:158: UserWarning: [08:07:40] WARNING: C:\\buildkite-agent\\builds\\buildkite-windows-cpu-autoscaling-group-i-06abd128ca6c1688d-1\\xgboost\\xgboost-ci-windows\\src\\objective\\regression_obj.cu:227: reg:linear is now deprecated in favor of reg:squarederror.\n",
      "  warnings.warn(smsg, UserWarning)\n"
     ]
    },
    {
     "name": "stdout",
     "output_type": "stream",
     "text": [
      "[200]\tvalidation_0-rmse:1.19672\tvalidation_1-rmse:0.08008\n",
      "[300]\tvalidation_0-rmse:0.91644\tvalidation_1-rmse:0.03513\n",
      "[399]\tvalidation_0-rmse:0.78455\tvalidation_1-rmse:0.02334\n",
      "[0]\tvalidation_0-rmse:4.61215\tvalidation_1-rmse:5.31836\n",
      "[50]\tvalidation_0-rmse:3.00259\tvalidation_1-rmse:5.44899\n",
      "Processing veggie_veg_l...\n",
      "[0]\tvalidation_0-rmse:3.40326\tvalidation_1-rmse:5.23072\n"
     ]
    },
    {
     "name": "stderr",
     "output_type": "stream",
     "text": [
      "s:\\Pizza\\.venv\\Lib\\site-packages\\xgboost\\core.py:158: UserWarning: [08:07:40] WARNING: C:\\buildkite-agent\\builds\\buildkite-windows-cpu-autoscaling-group-i-06abd128ca6c1688d-1\\xgboost\\xgboost-ci-windows\\src\\objective\\regression_obj.cu:227: reg:linear is now deprecated in favor of reg:squarederror.\n",
      "  warnings.warn(smsg, UserWarning)\n",
      "s:\\Pizza\\.venv\\Lib\\site-packages\\xgboost\\core.py:158: UserWarning: [08:07:41] WARNING: C:\\buildkite-agent\\builds\\buildkite-windows-cpu-autoscaling-group-i-06abd128ca6c1688d-1\\xgboost\\xgboost-ci-windows\\src\\objective\\regression_obj.cu:227: reg:linear is now deprecated in favor of reg:squarederror.\n",
      "  warnings.warn(smsg, UserWarning)\n"
     ]
    },
    {
     "name": "stdout",
     "output_type": "stream",
     "text": [
      "[100]\tvalidation_0-rmse:1.80209\tvalidation_1-rmse:3.82254\n",
      "[200]\tvalidation_0-rmse:1.33761\tvalidation_1-rmse:3.22274\n",
      "[300]\tvalidation_0-rmse:1.21797\tvalidation_1-rmse:3.04205\n",
      "[308]\tvalidation_0-rmse:1.20822\tvalidation_1-rmse:3.05202\n",
      "[0]\tvalidation_0-rmse:3.42537\tvalidation_1-rmse:3.13334\n",
      "[100]\tvalidation_0-rmse:1.81585\tvalidation_1-rmse:1.08592\n",
      "[120]\tvalidation_0-rmse:1.66807\tvalidation_1-rmse:1.65483\n",
      "[0]\tvalidation_0-rmse:3.42307\tvalidation_1-rmse:0.49624\n"
     ]
    },
    {
     "name": "stderr",
     "output_type": "stream",
     "text": [
      "s:\\Pizza\\.venv\\Lib\\site-packages\\xgboost\\core.py:158: UserWarning: [08:07:41] WARNING: C:\\buildkite-agent\\builds\\buildkite-windows-cpu-autoscaling-group-i-06abd128ca6c1688d-1\\xgboost\\xgboost-ci-windows\\src\\objective\\regression_obj.cu:227: reg:linear is now deprecated in favor of reg:squarederror.\n",
      "  warnings.warn(smsg, UserWarning)\n",
      "s:\\Pizza\\.venv\\Lib\\site-packages\\xgboost\\core.py:158: UserWarning: [08:07:41] WARNING: C:\\buildkite-agent\\builds\\buildkite-windows-cpu-autoscaling-group-i-06abd128ca6c1688d-1\\xgboost\\xgboost-ci-windows\\src\\objective\\regression_obj.cu:227: reg:linear is now deprecated in favor of reg:squarederror.\n",
      "  warnings.warn(smsg, UserWarning)\n"
     ]
    },
    {
     "name": "stdout",
     "output_type": "stream",
     "text": [
      "[100]\tvalidation_0-rmse:1.81593\tvalidation_1-rmse:0.25975\n",
      "[200]\tvalidation_0-rmse:1.35725\tvalidation_1-rmse:0.17295\n",
      "[300]\tvalidation_0-rmse:1.21352\tvalidation_1-rmse:0.14199\n",
      "[394]\tvalidation_0-rmse:1.11843\tvalidation_1-rmse:0.11671\n",
      "Processing ckn_alfredo_s...\n",
      "[0]\tvalidation_0-rmse:0.72962\tvalidation_1-rmse:0.49750\n",
      "[100]\tvalidation_0-rmse:0.60607\tvalidation_1-rmse:0.26615\n"
     ]
    },
    {
     "name": "stderr",
     "output_type": "stream",
     "text": [
      "s:\\Pizza\\.venv\\Lib\\site-packages\\xgboost\\core.py:158: UserWarning: [08:07:42] WARNING: C:\\buildkite-agent\\builds\\buildkite-windows-cpu-autoscaling-group-i-06abd128ca6c1688d-1\\xgboost\\xgboost-ci-windows\\src\\objective\\regression_obj.cu:227: reg:linear is now deprecated in favor of reg:squarederror.\n",
      "  warnings.warn(smsg, UserWarning)\n"
     ]
    },
    {
     "name": "stdout",
     "output_type": "stream",
     "text": [
      "[200]\tvalidation_0-rmse:0.53760\tvalidation_1-rmse:0.13517\n",
      "[300]\tvalidation_0-rmse:0.51075\tvalidation_1-rmse:0.07700\n",
      "[399]\tvalidation_0-rmse:0.50054\tvalidation_1-rmse:0.04844\n",
      "[0]\tvalidation_0-rmse:0.72065\tvalidation_1-rmse:1.80541\n",
      "[49]\tvalidation_0-rmse:0.64102\tvalidation_1-rmse:1.90239\n",
      "[0]\tvalidation_0-rmse:0.79786\tvalidation_1-rmse:1.32379\n",
      "[49]\tvalidation_0-rmse:0.69441\tvalidation_1-rmse:1.36521\n"
     ]
    },
    {
     "name": "stderr",
     "output_type": "stream",
     "text": [
      "s:\\Pizza\\.venv\\Lib\\site-packages\\xgboost\\core.py:158: UserWarning: [08:07:42] WARNING: C:\\buildkite-agent\\builds\\buildkite-windows-cpu-autoscaling-group-i-06abd128ca6c1688d-1\\xgboost\\xgboost-ci-windows\\src\\objective\\regression_obj.cu:227: reg:linear is now deprecated in favor of reg:squarederror.\n",
      "  warnings.warn(smsg, UserWarning)\n",
      "s:\\Pizza\\.venv\\Lib\\site-packages\\xgboost\\core.py:158: UserWarning: [08:07:42] WARNING: C:\\buildkite-agent\\builds\\buildkite-windows-cpu-autoscaling-group-i-06abd128ca6c1688d-1\\xgboost\\xgboost-ci-windows\\src\\objective\\regression_obj.cu:227: reg:linear is now deprecated in favor of reg:squarederror.\n",
      "  warnings.warn(smsg, UserWarning)\n"
     ]
    },
    {
     "name": "stdout",
     "output_type": "stream",
     "text": [
      "Processing pepperoni_s...\n",
      "[0]\tvalidation_0-rmse:5.63620\tvalidation_1-rmse:0.49525\n",
      "[100]\tvalidation_0-rmse:2.53983\tvalidation_1-rmse:0.19677\n"
     ]
    },
    {
     "name": "stderr",
     "output_type": "stream",
     "text": [
      "s:\\Pizza\\.venv\\Lib\\site-packages\\xgboost\\core.py:158: UserWarning: [08:07:43] WARNING: C:\\buildkite-agent\\builds\\buildkite-windows-cpu-autoscaling-group-i-06abd128ca6c1688d-1\\xgboost\\xgboost-ci-windows\\src\\objective\\regression_obj.cu:227: reg:linear is now deprecated in favor of reg:squarederror.\n",
      "  warnings.warn(smsg, UserWarning)\n"
     ]
    },
    {
     "name": "stdout",
     "output_type": "stream",
     "text": [
      "[200]\tvalidation_0-rmse:1.57245\tvalidation_1-rmse:0.10511\n",
      "[236]\tvalidation_0-rmse:1.43157\tvalidation_1-rmse:0.14975\n",
      "[0]\tvalidation_0-rmse:5.62085\tvalidation_1-rmse:4.27395\n",
      "[50]\tvalidation_0-rmse:3.65485\tvalidation_1-rmse:4.35361\n",
      "[0]\tvalidation_0-rmse:5.61440\tvalidation_1-rmse:0.49539\n"
     ]
    },
    {
     "name": "stderr",
     "output_type": "stream",
     "text": [
      "s:\\Pizza\\.venv\\Lib\\site-packages\\xgboost\\core.py:158: UserWarning: [08:07:43] WARNING: C:\\buildkite-agent\\builds\\buildkite-windows-cpu-autoscaling-group-i-06abd128ca6c1688d-1\\xgboost\\xgboost-ci-windows\\src\\objective\\regression_obj.cu:227: reg:linear is now deprecated in favor of reg:squarederror.\n",
      "  warnings.warn(smsg, UserWarning)\n",
      "s:\\Pizza\\.venv\\Lib\\site-packages\\xgboost\\core.py:158: UserWarning: [08:07:43] WARNING: C:\\buildkite-agent\\builds\\buildkite-windows-cpu-autoscaling-group-i-06abd128ca6c1688d-1\\xgboost\\xgboost-ci-windows\\src\\objective\\regression_obj.cu:227: reg:linear is now deprecated in favor of reg:squarederror.\n",
      "  warnings.warn(smsg, UserWarning)\n"
     ]
    },
    {
     "name": "stdout",
     "output_type": "stream",
     "text": [
      "[100]\tvalidation_0-rmse:2.54299\tvalidation_1-rmse:0.21046\n",
      "[200]\tvalidation_0-rmse:1.57804\tvalidation_1-rmse:0.10346\n",
      "[294]\tvalidation_0-rmse:1.30121\tvalidation_1-rmse:0.14388\n",
      "Processing green_garden_l...\n",
      "[0]\tvalidation_0-rmse:0.86973\tvalidation_1-rmse:0.49818\n",
      "[100]\tvalidation_0-rmse:0.66632\tvalidation_1-rmse:0.43321\n",
      "[159]\tvalidation_0-rmse:0.61447\tvalidation_1-rmse:0.43569\n"
     ]
    },
    {
     "name": "stderr",
     "output_type": "stream",
     "text": [
      "s:\\Pizza\\.venv\\Lib\\site-packages\\xgboost\\core.py:158: UserWarning: [08:07:43] WARNING: C:\\buildkite-agent\\builds\\buildkite-windows-cpu-autoscaling-group-i-06abd128ca6c1688d-1\\xgboost\\xgboost-ci-windows\\src\\objective\\regression_obj.cu:227: reg:linear is now deprecated in favor of reg:squarederror.\n",
      "  warnings.warn(smsg, UserWarning)\n"
     ]
    },
    {
     "name": "stdout",
     "output_type": "stream",
     "text": [
      "[0]\tvalidation_0-rmse:0.85605\tvalidation_1-rmse:0.49640\n",
      "[100]\tvalidation_0-rmse:0.65804\tvalidation_1-rmse:0.27882\n",
      "[200]\tvalidation_0-rmse:0.58689\tvalidation_1-rmse:0.19536\n"
     ]
    },
    {
     "name": "stderr",
     "output_type": "stream",
     "text": [
      "s:\\Pizza\\.venv\\Lib\\site-packages\\xgboost\\core.py:158: UserWarning: [08:07:44] WARNING: C:\\buildkite-agent\\builds\\buildkite-windows-cpu-autoscaling-group-i-06abd128ca6c1688d-1\\xgboost\\xgboost-ci-windows\\src\\objective\\regression_obj.cu:227: reg:linear is now deprecated in favor of reg:squarederror.\n",
      "  warnings.warn(smsg, UserWarning)\n"
     ]
    },
    {
     "name": "stdout",
     "output_type": "stream",
     "text": [
      "[300]\tvalidation_0-rmse:0.55836\tvalidation_1-rmse:0.16603\n",
      "[399]\tvalidation_0-rmse:0.53527\tvalidation_1-rmse:0.15657\n",
      "[0]\tvalidation_0-rmse:0.84331\tvalidation_1-rmse:0.49634\n",
      "[100]\tvalidation_0-rmse:0.64500\tvalidation_1-rmse:0.26780\n"
     ]
    },
    {
     "name": "stderr",
     "output_type": "stream",
     "text": [
      "s:\\Pizza\\.venv\\Lib\\site-packages\\xgboost\\core.py:158: UserWarning: [08:07:44] WARNING: C:\\buildkite-agent\\builds\\buildkite-windows-cpu-autoscaling-group-i-06abd128ca6c1688d-1\\xgboost\\xgboost-ci-windows\\src\\objective\\regression_obj.cu:227: reg:linear is now deprecated in favor of reg:squarederror.\n",
      "  warnings.warn(smsg, UserWarning)\n"
     ]
    },
    {
     "name": "stdout",
     "output_type": "stream",
     "text": [
      "[200]\tvalidation_0-rmse:0.57470\tvalidation_1-rmse:0.18076\n",
      "[300]\tvalidation_0-rmse:0.54732\tvalidation_1-rmse:0.14557\n",
      "[399]\tvalidation_0-rmse:0.52535\tvalidation_1-rmse:0.13463\n",
      "Processing green_garden_m...\n",
      "[0]\tvalidation_0-rmse:1.69685\tvalidation_1-rmse:2.78532\n",
      "[49]\tvalidation_0-rmse:1.28395\tvalidation_1-rmse:2.84434\n",
      "[0]\tvalidation_0-rmse:1.71584\tvalidation_1-rmse:0.49600\n",
      "[100]\tvalidation_0-rmse:1.04047\tvalidation_1-rmse:0.24456\n"
     ]
    },
    {
     "name": "stderr",
     "output_type": "stream",
     "text": [
      "s:\\Pizza\\.venv\\Lib\\site-packages\\xgboost\\core.py:158: UserWarning: [08:07:45] WARNING: C:\\buildkite-agent\\builds\\buildkite-windows-cpu-autoscaling-group-i-06abd128ca6c1688d-1\\xgboost\\xgboost-ci-windows\\src\\objective\\regression_obj.cu:227: reg:linear is now deprecated in favor of reg:squarederror.\n",
      "  warnings.warn(smsg, UserWarning)\n",
      "s:\\Pizza\\.venv\\Lib\\site-packages\\xgboost\\core.py:158: UserWarning: [08:07:45] WARNING: C:\\buildkite-agent\\builds\\buildkite-windows-cpu-autoscaling-group-i-06abd128ca6c1688d-1\\xgboost\\xgboost-ci-windows\\src\\objective\\regression_obj.cu:227: reg:linear is now deprecated in favor of reg:squarederror.\n",
      "  warnings.warn(smsg, UserWarning)\n"
     ]
    },
    {
     "name": "stdout",
     "output_type": "stream",
     "text": [
      "[200]\tvalidation_0-rmse:0.82983\tvalidation_1-rmse:0.15218\n",
      "[300]\tvalidation_0-rmse:0.76815\tvalidation_1-rmse:0.11826\n",
      "[399]\tvalidation_0-rmse:0.73832\tvalidation_1-rmse:0.08665\n",
      "[0]\tvalidation_0-rmse:1.70518\tvalidation_1-rmse:0.49599\n",
      "[100]\tvalidation_0-rmse:1.03368\tvalidation_1-rmse:0.24365\n",
      "[200]\tvalidation_0-rmse:0.82432\tvalidation_1-rmse:0.15095\n"
     ]
    },
    {
     "name": "stderr",
     "output_type": "stream",
     "text": [
      "s:\\Pizza\\.venv\\Lib\\site-packages\\xgboost\\core.py:158: UserWarning: [08:07:45] WARNING: C:\\buildkite-agent\\builds\\buildkite-windows-cpu-autoscaling-group-i-06abd128ca6c1688d-1\\xgboost\\xgboost-ci-windows\\src\\objective\\regression_obj.cu:227: reg:linear is now deprecated in favor of reg:squarederror.\n",
      "  warnings.warn(smsg, UserWarning)\n"
     ]
    },
    {
     "name": "stdout",
     "output_type": "stream",
     "text": [
      "[300]\tvalidation_0-rmse:0.76303\tvalidation_1-rmse:0.11690\n",
      "[399]\tvalidation_0-rmse:0.73324\tvalidation_1-rmse:0.08239\n",
      "Processing pep_msh_pep_l...\n",
      "[0]\tvalidation_0-rmse:2.88092\tvalidation_1-rmse:4.56434\n",
      "[100]\tvalidation_0-rmse:1.28769\tvalidation_1-rmse:1.06922\n"
     ]
    },
    {
     "name": "stderr",
     "output_type": "stream",
     "text": [
      "s:\\Pizza\\.venv\\Lib\\site-packages\\xgboost\\core.py:158: UserWarning: [08:07:46] WARNING: C:\\buildkite-agent\\builds\\buildkite-windows-cpu-autoscaling-group-i-06abd128ca6c1688d-1\\xgboost\\xgboost-ci-windows\\src\\objective\\regression_obj.cu:227: reg:linear is now deprecated in favor of reg:squarederror.\n",
      "  warnings.warn(smsg, UserWarning)\n"
     ]
    },
    {
     "name": "stdout",
     "output_type": "stream",
     "text": [
      "[200]\tvalidation_0-rmse:0.66818\tvalidation_1-rmse:0.41150\n",
      "[211]\tvalidation_0-rmse:0.63206\tvalidation_1-rmse:0.49132\n",
      "[0]\tvalidation_0-rmse:2.90414\tvalidation_1-rmse:0.49517\n",
      "[100]\tvalidation_0-rmse:1.29649\tvalidation_1-rmse:0.19158\n"
     ]
    },
    {
     "name": "stderr",
     "output_type": "stream",
     "text": [
      "s:\\Pizza\\.venv\\Lib\\site-packages\\xgboost\\core.py:158: UserWarning: [08:07:46] WARNING: C:\\buildkite-agent\\builds\\buildkite-windows-cpu-autoscaling-group-i-06abd128ca6c1688d-1\\xgboost\\xgboost-ci-windows\\src\\objective\\regression_obj.cu:227: reg:linear is now deprecated in favor of reg:squarederror.\n",
      "  warnings.warn(smsg, UserWarning)\n"
     ]
    },
    {
     "name": "stdout",
     "output_type": "stream",
     "text": [
      "[200]\tvalidation_0-rmse:0.67878\tvalidation_1-rmse:0.08011\n",
      "[300]\tvalidation_0-rmse:0.47623\tvalidation_1-rmse:0.03918\n",
      "[399]\tvalidation_0-rmse:0.40145\tvalidation_1-rmse:0.02901\n",
      "[0]\tvalidation_0-rmse:2.88914\tvalidation_1-rmse:0.49517\n",
      "[100]\tvalidation_0-rmse:1.28973\tvalidation_1-rmse:0.19145\n"
     ]
    },
    {
     "name": "stderr",
     "output_type": "stream",
     "text": [
      "s:\\Pizza\\.venv\\Lib\\site-packages\\xgboost\\core.py:158: UserWarning: [08:07:47] WARNING: C:\\buildkite-agent\\builds\\buildkite-windows-cpu-autoscaling-group-i-06abd128ca6c1688d-1\\xgboost\\xgboost-ci-windows\\src\\objective\\regression_obj.cu:227: reg:linear is now deprecated in favor of reg:squarederror.\n",
      "  warnings.warn(smsg, UserWarning)\n"
     ]
    },
    {
     "name": "stdout",
     "output_type": "stream",
     "text": [
      "[200]\tvalidation_0-rmse:0.67520\tvalidation_1-rmse:0.07994\n",
      "[300]\tvalidation_0-rmse:0.47371\tvalidation_1-rmse:0.03900\n",
      "[399]\tvalidation_0-rmse:0.39932\tvalidation_1-rmse:0.02876\n",
      "Processing hawaiian_s...\n",
      "[0]\tvalidation_0-rmse:7.29131\tvalidation_1-rmse:8.80160\n",
      "[100]\tvalidation_0-rmse:3.05882\tvalidation_1-rmse:0.33962\n",
      "[157]\tvalidation_0-rmse:2.03353\tvalidation_1-rmse:1.20497\n",
      "[0]\tvalidation_0-rmse:7.29786\tvalidation_1-rmse:0.49501\n"
     ]
    },
    {
     "name": "stderr",
     "output_type": "stream",
     "text": [
      "s:\\Pizza\\.venv\\Lib\\site-packages\\xgboost\\core.py:158: UserWarning: [08:07:48] WARNING: C:\\buildkite-agent\\builds\\buildkite-windows-cpu-autoscaling-group-i-06abd128ca6c1688d-1\\xgboost\\xgboost-ci-windows\\src\\objective\\regression_obj.cu:227: reg:linear is now deprecated in favor of reg:squarederror.\n",
      "  warnings.warn(smsg, UserWarning)\n",
      "s:\\Pizza\\.venv\\Lib\\site-packages\\xgboost\\core.py:158: UserWarning: [08:07:48] WARNING: C:\\buildkite-agent\\builds\\buildkite-windows-cpu-autoscaling-group-i-06abd128ca6c1688d-1\\xgboost\\xgboost-ci-windows\\src\\objective\\regression_obj.cu:227: reg:linear is now deprecated in favor of reg:squarederror.\n",
      "  warnings.warn(smsg, UserWarning)\n"
     ]
    },
    {
     "name": "stdout",
     "output_type": "stream",
     "text": [
      "[100]\tvalidation_0-rmse:3.08438\tvalidation_1-rmse:0.18140\n",
      "[200]\tvalidation_0-rmse:1.61930\tvalidation_1-rmse:0.06648\n",
      "[300]\tvalidation_0-rmse:1.14018\tvalidation_1-rmse:0.02611\n",
      "[399]\tvalidation_0-rmse:0.96010\tvalidation_1-rmse:0.01168\n",
      "[0]\tvalidation_0-rmse:7.28327\tvalidation_1-rmse:0.49501\n",
      "[100]\tvalidation_0-rmse:3.07821\tvalidation_1-rmse:0.18140\n"
     ]
    },
    {
     "name": "stderr",
     "output_type": "stream",
     "text": [
      "s:\\Pizza\\.venv\\Lib\\site-packages\\xgboost\\core.py:158: UserWarning: [08:07:48] WARNING: C:\\buildkite-agent\\builds\\buildkite-windows-cpu-autoscaling-group-i-06abd128ca6c1688d-1\\xgboost\\xgboost-ci-windows\\src\\objective\\regression_obj.cu:227: reg:linear is now deprecated in favor of reg:squarederror.\n",
      "  warnings.warn(smsg, UserWarning)\n"
     ]
    },
    {
     "name": "stdout",
     "output_type": "stream",
     "text": [
      "[200]\tvalidation_0-rmse:1.61606\tvalidation_1-rmse:0.06648\n",
      "[300]\tvalidation_0-rmse:1.13789\tvalidation_1-rmse:0.02610\n",
      "[399]\tvalidation_0-rmse:0.95817\tvalidation_1-rmse:0.01166\n",
      "Processing four_cheese_l...\n",
      "[0]\tvalidation_0-rmse:9.15344\tvalidation_1-rmse:0.49500\n",
      "[100]\tvalidation_0-rmse:3.75014\tvalidation_1-rmse:0.18135\n"
     ]
    },
    {
     "name": "stderr",
     "output_type": "stream",
     "text": [
      "s:\\Pizza\\.venv\\Lib\\site-packages\\xgboost\\core.py:158: UserWarning: [08:07:49] WARNING: C:\\buildkite-agent\\builds\\buildkite-windows-cpu-autoscaling-group-i-06abd128ca6c1688d-1\\xgboost\\xgboost-ci-windows\\src\\objective\\regression_obj.cu:227: reg:linear is now deprecated in favor of reg:squarederror.\n",
      "  warnings.warn(smsg, UserWarning)\n"
     ]
    },
    {
     "name": "stdout",
     "output_type": "stream",
     "text": [
      "[200]\tvalidation_0-rmse:1.90170\tvalidation_1-rmse:0.06644\n",
      "[300]\tvalidation_0-rmse:1.25774\tvalidation_1-rmse:0.03018\n",
      "[399]\tvalidation_0-rmse:1.01216\tvalidation_1-rmse:0.01946\n",
      "[0]\tvalidation_0-rmse:9.13899\tvalidation_1-rmse:0.49500\n",
      "[100]\tvalidation_0-rmse:3.74421\tvalidation_1-rmse:0.18135\n",
      "[200]\tvalidation_0-rmse:1.89869\tvalidation_1-rmse:0.06644\n"
     ]
    },
    {
     "name": "stderr",
     "output_type": "stream",
     "text": [
      "s:\\Pizza\\.venv\\Lib\\site-packages\\xgboost\\core.py:158: UserWarning: [08:07:50] WARNING: C:\\buildkite-agent\\builds\\buildkite-windows-cpu-autoscaling-group-i-06abd128ca6c1688d-1\\xgboost\\xgboost-ci-windows\\src\\objective\\regression_obj.cu:227: reg:linear is now deprecated in favor of reg:squarederror.\n",
      "  warnings.warn(smsg, UserWarning)\n"
     ]
    },
    {
     "name": "stdout",
     "output_type": "stream",
     "text": [
      "[300]\tvalidation_0-rmse:1.25575\tvalidation_1-rmse:0.03016\n",
      "[399]\tvalidation_0-rmse:1.01056\tvalidation_1-rmse:0.01943\n",
      "[0]\tvalidation_0-rmse:9.12460\tvalidation_1-rmse:0.49500\n",
      "[100]\tvalidation_0-rmse:3.73832\tvalidation_1-rmse:0.18135\n",
      "[200]\tvalidation_0-rmse:1.89570\tvalidation_1-rmse:0.06644\n"
     ]
    },
    {
     "name": "stderr",
     "output_type": "stream",
     "text": [
      "s:\\Pizza\\.venv\\Lib\\site-packages\\xgboost\\core.py:158: UserWarning: [08:07:50] WARNING: C:\\buildkite-agent\\builds\\buildkite-windows-cpu-autoscaling-group-i-06abd128ca6c1688d-1\\xgboost\\xgboost-ci-windows\\src\\objective\\regression_obj.cu:227: reg:linear is now deprecated in favor of reg:squarederror.\n",
      "  warnings.warn(smsg, UserWarning)\n"
     ]
    },
    {
     "name": "stdout",
     "output_type": "stream",
     "text": [
      "[300]\tvalidation_0-rmse:1.25376\tvalidation_1-rmse:0.03014\n",
      "[399]\tvalidation_0-rmse:1.00896\tvalidation_1-rmse:0.01939\n",
      "Processing peppr_salami_m...\n",
      "[0]\tvalidation_0-rmse:3.14969\tvalidation_1-rmse:0.49540\n",
      "[100]\tvalidation_0-rmse:1.46213\tvalidation_1-rmse:0.20615\n",
      "[200]\tvalidation_0-rmse:0.88893\tvalidation_1-rmse:0.09746\n"
     ]
    },
    {
     "name": "stderr",
     "output_type": "stream",
     "text": [
      "s:\\Pizza\\.venv\\Lib\\site-packages\\xgboost\\core.py:158: UserWarning: [08:07:50] WARNING: C:\\buildkite-agent\\builds\\buildkite-windows-cpu-autoscaling-group-i-06abd128ca6c1688d-1\\xgboost\\xgboost-ci-windows\\src\\objective\\regression_obj.cu:227: reg:linear is now deprecated in favor of reg:squarederror.\n",
      "  warnings.warn(smsg, UserWarning)\n"
     ]
    },
    {
     "name": "stdout",
     "output_type": "stream",
     "text": [
      "[300]\tvalidation_0-rmse:0.68236\tvalidation_1-rmse:0.05037\n",
      "[399]\tvalidation_0-rmse:0.61336\tvalidation_1-rmse:0.02764\n",
      "[0]\tvalidation_0-rmse:3.13485\tvalidation_1-rmse:7.29722\n",
      "[100]\tvalidation_0-rmse:1.45518\tvalidation_1-rmse:2.69970\n",
      "[200]\tvalidation_0-rmse:0.88466\tvalidation_1-rmse:1.33880\n"
     ]
    },
    {
     "name": "stderr",
     "output_type": "stream",
     "text": [
      "s:\\Pizza\\.venv\\Lib\\site-packages\\xgboost\\core.py:158: UserWarning: [08:07:51] WARNING: C:\\buildkite-agent\\builds\\buildkite-windows-cpu-autoscaling-group-i-06abd128ca6c1688d-1\\xgboost\\xgboost-ci-windows\\src\\objective\\regression_obj.cu:227: reg:linear is now deprecated in favor of reg:squarederror.\n",
      "  warnings.warn(smsg, UserWarning)\n"
     ]
    },
    {
     "name": "stdout",
     "output_type": "stream",
     "text": [
      "[300]\tvalidation_0-rmse:0.67907\tvalidation_1-rmse:0.11825\n",
      "[368]\tvalidation_0-rmse:0.62674\tvalidation_1-rmse:0.25358\n",
      "[0]\tvalidation_0-rmse:3.20017\tvalidation_1-rmse:0.49540\n",
      "[100]\tvalidation_0-rmse:1.47151\tvalidation_1-rmse:0.20581\n",
      "[200]\tvalidation_0-rmse:0.88519\tvalidation_1-rmse:0.09673\n"
     ]
    },
    {
     "name": "stderr",
     "output_type": "stream",
     "text": [
      "s:\\Pizza\\.venv\\Lib\\site-packages\\xgboost\\core.py:158: UserWarning: [08:07:51] WARNING: C:\\buildkite-agent\\builds\\buildkite-windows-cpu-autoscaling-group-i-06abd128ca6c1688d-1\\xgboost\\xgboost-ci-windows\\src\\objective\\regression_obj.cu:227: reg:linear is now deprecated in favor of reg:squarederror.\n",
      "  warnings.warn(smsg, UserWarning)\n"
     ]
    },
    {
     "name": "stdout",
     "output_type": "stream",
     "text": [
      "[300]\tvalidation_0-rmse:0.67868\tvalidation_1-rmse:0.04896\n",
      "[399]\tvalidation_0-rmse:0.60916\tvalidation_1-rmse:0.02765\n",
      "Processing ckn_alfredo_m...\n",
      "[0]\tvalidation_0-rmse:4.92077\tvalidation_1-rmse:0.49514\n",
      "[100]\tvalidation_0-rmse:2.06318\tvalidation_1-rmse:0.18989\n",
      "[200]\tvalidation_0-rmse:1.02622\tvalidation_1-rmse:0.07643\n"
     ]
    },
    {
     "name": "stderr",
     "output_type": "stream",
     "text": [
      "s:\\Pizza\\.venv\\Lib\\site-packages\\xgboost\\core.py:158: UserWarning: [08:07:52] WARNING: C:\\buildkite-agent\\builds\\buildkite-windows-cpu-autoscaling-group-i-06abd128ca6c1688d-1\\xgboost\\xgboost-ci-windows\\src\\objective\\regression_obj.cu:227: reg:linear is now deprecated in favor of reg:squarederror.\n",
      "  warnings.warn(smsg, UserWarning)\n"
     ]
    },
    {
     "name": "stdout",
     "output_type": "stream",
     "text": [
      "[300]\tvalidation_0-rmse:0.67049\tvalidation_1-rmse:0.03559\n",
      "[399]\tvalidation_0-rmse:0.52492\tvalidation_1-rmse:0.02186\n",
      "[0]\tvalidation_0-rmse:4.90661\tvalidation_1-rmse:0.49514\n"
     ]
    },
    {
     "name": "stderr",
     "output_type": "stream",
     "text": [
      "s:\\Pizza\\.venv\\Lib\\site-packages\\xgboost\\core.py:158: UserWarning: [08:07:52] WARNING: C:\\buildkite-agent\\builds\\buildkite-windows-cpu-autoscaling-group-i-06abd128ca6c1688d-1\\xgboost\\xgboost-ci-windows\\src\\objective\\regression_obj.cu:227: reg:linear is now deprecated in favor of reg:squarederror.\n",
      "  warnings.warn(smsg, UserWarning)\n"
     ]
    },
    {
     "name": "stdout",
     "output_type": "stream",
     "text": [
      "[100]\tvalidation_0-rmse:2.05723\tvalidation_1-rmse:0.18983\n",
      "[200]\tvalidation_0-rmse:1.02325\tvalidation_1-rmse:0.07637\n",
      "[300]\tvalidation_0-rmse:0.66854\tvalidation_1-rmse:0.03551\n",
      "[399]\tvalidation_0-rmse:0.52340\tvalidation_1-rmse:0.02178\n",
      "[0]\tvalidation_0-rmse:4.89258\tvalidation_1-rmse:0.49514\n",
      "[100]\tvalidation_0-rmse:2.05133\tvalidation_1-rmse:0.18977\n",
      "[200]\tvalidation_0-rmse:1.02031\tvalidation_1-rmse:0.07630\n"
     ]
    },
    {
     "name": "stderr",
     "output_type": "stream",
     "text": [
      "s:\\Pizza\\.venv\\Lib\\site-packages\\xgboost\\core.py:158: UserWarning: [08:07:53] WARNING: C:\\buildkite-agent\\builds\\buildkite-windows-cpu-autoscaling-group-i-06abd128ca6c1688d-1\\xgboost\\xgboost-ci-windows\\src\\objective\\regression_obj.cu:227: reg:linear is now deprecated in favor of reg:squarederror.\n",
      "  warnings.warn(smsg, UserWarning)\n"
     ]
    },
    {
     "name": "stdout",
     "output_type": "stream",
     "text": [
      "[300]\tvalidation_0-rmse:0.66661\tvalidation_1-rmse:0.03541\n",
      "[399]\tvalidation_0-rmse:0.52188\tvalidation_1-rmse:0.02170\n",
      "Processing peppr_salami_l...\n",
      "[0]\tvalidation_0-rmse:5.24209\tvalidation_1-rmse:5.69066\n",
      "[100]\tvalidation_0-rmse:2.19207\tvalidation_1-rmse:2.23595\n"
     ]
    },
    {
     "name": "stderr",
     "output_type": "stream",
     "text": [
      "s:\\Pizza\\.venv\\Lib\\site-packages\\xgboost\\core.py:158: UserWarning: [08:07:54] WARNING: C:\\buildkite-agent\\builds\\buildkite-windows-cpu-autoscaling-group-i-06abd128ca6c1688d-1\\xgboost\\xgboost-ci-windows\\src\\objective\\regression_obj.cu:227: reg:linear is now deprecated in favor of reg:squarederror.\n",
      "  warnings.warn(smsg, UserWarning)\n"
     ]
    },
    {
     "name": "stdout",
     "output_type": "stream",
     "text": [
      "[200]\tvalidation_0-rmse:1.13436\tvalidation_1-rmse:0.65592\n",
      "[300]\tvalidation_0-rmse:0.76944\tvalidation_1-rmse:0.04541\n",
      "[344]\tvalidation_0-rmse:0.69354\tvalidation_1-rmse:0.27462\n",
      "[0]\tvalidation_0-rmse:5.24502\tvalidation_1-rmse:0.49501\n",
      "[100]\tvalidation_0-rmse:2.19326\tvalidation_1-rmse:0.18150\n"
     ]
    },
    {
     "name": "stderr",
     "output_type": "stream",
     "text": [
      "s:\\Pizza\\.venv\\Lib\\site-packages\\xgboost\\core.py:158: UserWarning: [08:07:55] WARNING: C:\\buildkite-agent\\builds\\buildkite-windows-cpu-autoscaling-group-i-06abd128ca6c1688d-1\\xgboost\\xgboost-ci-windows\\src\\objective\\regression_obj.cu:227: reg:linear is now deprecated in favor of reg:squarederror.\n",
      "  warnings.warn(smsg, UserWarning)\n"
     ]
    },
    {
     "name": "stdout",
     "output_type": "stream",
     "text": [
      "[200]\tvalidation_0-rmse:1.13658\tvalidation_1-rmse:0.06655\n",
      "[300]\tvalidation_0-rmse:0.77229\tvalidation_1-rmse:0.02445\n",
      "[399]\tvalidation_0-rmse:0.62984\tvalidation_1-rmse:0.01140\n",
      "[0]\tvalidation_0-rmse:5.22962\tvalidation_1-rmse:0.49501\n",
      "[100]\tvalidation_0-rmse:2.18681\tvalidation_1-rmse:0.18150\n"
     ]
    },
    {
     "name": "stderr",
     "output_type": "stream",
     "text": [
      "s:\\Pizza\\.venv\\Lib\\site-packages\\xgboost\\core.py:158: UserWarning: [08:07:55] WARNING: C:\\buildkite-agent\\builds\\buildkite-windows-cpu-autoscaling-group-i-06abd128ca6c1688d-1\\xgboost\\xgboost-ci-windows\\src\\objective\\regression_obj.cu:227: reg:linear is now deprecated in favor of reg:squarederror.\n",
      "  warnings.warn(smsg, UserWarning)\n"
     ]
    },
    {
     "name": "stdout",
     "output_type": "stream",
     "text": [
      "[200]\tvalidation_0-rmse:1.13322\tvalidation_1-rmse:0.06655\n",
      "[300]\tvalidation_0-rmse:0.77000\tvalidation_1-rmse:0.02445\n",
      "[399]\tvalidation_0-rmse:0.62838\tvalidation_1-rmse:0.01143\n",
      "Processing spin_pesto_s...\n",
      "[0]\tvalidation_0-rmse:3.44895\tvalidation_1-rmse:0.49703\n",
      "[100]\tvalidation_0-rmse:1.89789\tvalidation_1-rmse:0.29183\n",
      "[200]\tvalidation_0-rmse:1.41277\tvalidation_1-rmse:0.19650\n"
     ]
    },
    {
     "name": "stderr",
     "output_type": "stream",
     "text": [
      "s:\\Pizza\\.venv\\Lib\\site-packages\\xgboost\\core.py:158: UserWarning: [08:07:56] WARNING: C:\\buildkite-agent\\builds\\buildkite-windows-cpu-autoscaling-group-i-06abd128ca6c1688d-1\\xgboost\\xgboost-ci-windows\\src\\objective\\regression_obj.cu:227: reg:linear is now deprecated in favor of reg:squarederror.\n",
      "  warnings.warn(smsg, UserWarning)\n"
     ]
    },
    {
     "name": "stdout",
     "output_type": "stream",
     "text": [
      "[300]\tvalidation_0-rmse:1.27971\tvalidation_1-rmse:0.15130\n",
      "[399]\tvalidation_0-rmse:1.22974\tvalidation_1-rmse:0.10986\n",
      "[0]\tvalidation_0-rmse:3.43154\tvalidation_1-rmse:0.49700\n",
      "[100]\tvalidation_0-rmse:1.88825\tvalidation_1-rmse:0.29052\n",
      "[200]\tvalidation_0-rmse:1.40555\tvalidation_1-rmse:0.19495\n"
     ]
    },
    {
     "name": "stderr",
     "output_type": "stream",
     "text": [
      "s:\\Pizza\\.venv\\Lib\\site-packages\\xgboost\\core.py:158: UserWarning: [08:07:56] WARNING: C:\\buildkite-agent\\builds\\buildkite-windows-cpu-autoscaling-group-i-06abd128ca6c1688d-1\\xgboost\\xgboost-ci-windows\\src\\objective\\regression_obj.cu:227: reg:linear is now deprecated in favor of reg:squarederror.\n",
      "  warnings.warn(smsg, UserWarning)\n"
     ]
    },
    {
     "name": "stdout",
     "output_type": "stream",
     "text": [
      "[300]\tvalidation_0-rmse:1.27249\tvalidation_1-rmse:0.14929\n",
      "[399]\tvalidation_0-rmse:1.22002\tvalidation_1-rmse:0.10906\n",
      "[0]\tvalidation_0-rmse:3.41439\tvalidation_1-rmse:2.75779\n",
      "[100]\tvalidation_0-rmse:1.87876\tvalidation_1-rmse:1.50463\n",
      "[200]\tvalidation_0-rmse:1.39944\tvalidation_1-rmse:0.64562\n"
     ]
    },
    {
     "name": "stderr",
     "output_type": "stream",
     "text": [
      "s:\\Pizza\\.venv\\Lib\\site-packages\\xgboost\\core.py:158: UserWarning: [08:07:57] WARNING: C:\\buildkite-agent\\builds\\buildkite-windows-cpu-autoscaling-group-i-06abd128ca6c1688d-1\\xgboost\\xgboost-ci-windows\\src\\objective\\regression_obj.cu:227: reg:linear is now deprecated in favor of reg:squarederror.\n",
      "  warnings.warn(smsg, UserWarning)\n"
     ]
    },
    {
     "name": "stdout",
     "output_type": "stream",
     "text": [
      "[300]\tvalidation_0-rmse:1.26649\tvalidation_1-rmse:0.21352\n",
      "[377]\tvalidation_0-rmse:1.23023\tvalidation_1-rmse:0.22378\n",
      "Processing thai_ckn_m...\n",
      "[0]\tvalidation_0-rmse:3.46297\tvalidation_1-rmse:0.49524\n",
      "[100]\tvalidation_0-rmse:1.55650\tvalidation_1-rmse:0.19594\n"
     ]
    },
    {
     "name": "stderr",
     "output_type": "stream",
     "text": [
      "s:\\Pizza\\.venv\\Lib\\site-packages\\xgboost\\core.py:158: UserWarning: [08:07:57] WARNING: C:\\buildkite-agent\\builds\\buildkite-windows-cpu-autoscaling-group-i-06abd128ca6c1688d-1\\xgboost\\xgboost-ci-windows\\src\\objective\\regression_obj.cu:227: reg:linear is now deprecated in favor of reg:squarederror.\n",
      "  warnings.warn(smsg, UserWarning)\n"
     ]
    },
    {
     "name": "stdout",
     "output_type": "stream",
     "text": [
      "[200]\tvalidation_0-rmse:0.88305\tvalidation_1-rmse:0.08927\n",
      "[300]\tvalidation_0-rmse:0.65214\tvalidation_1-rmse:0.05201\n",
      "[399]\tvalidation_0-rmse:0.56919\tvalidation_1-rmse:0.03877\n",
      "[0]\tvalidation_0-rmse:3.44838\tvalidation_1-rmse:3.22906\n",
      "[100]\tvalidation_0-rmse:1.54990\tvalidation_1-rmse:0.17234\n",
      "[154]\tvalidation_0-rmse:1.11177\tvalidation_1-rmse:1.02089\n",
      "[0]\tvalidation_0-rmse:3.44678\tvalidation_1-rmse:0.49523\n"
     ]
    },
    {
     "name": "stderr",
     "output_type": "stream",
     "text": [
      "s:\\Pizza\\.venv\\Lib\\site-packages\\xgboost\\core.py:158: UserWarning: [08:07:58] WARNING: C:\\buildkite-agent\\builds\\buildkite-windows-cpu-autoscaling-group-i-06abd128ca6c1688d-1\\xgboost\\xgboost-ci-windows\\src\\objective\\regression_obj.cu:227: reg:linear is now deprecated in favor of reg:squarederror.\n",
      "  warnings.warn(smsg, UserWarning)\n",
      "s:\\Pizza\\.venv\\Lib\\site-packages\\xgboost\\core.py:158: UserWarning: [08:07:58] WARNING: C:\\buildkite-agent\\builds\\buildkite-windows-cpu-autoscaling-group-i-06abd128ca6c1688d-1\\xgboost\\xgboost-ci-windows\\src\\objective\\regression_obj.cu:227: reg:linear is now deprecated in favor of reg:squarederror.\n",
      "  warnings.warn(smsg, UserWarning)\n"
     ]
    },
    {
     "name": "stdout",
     "output_type": "stream",
     "text": [
      "[100]\tvalidation_0-rmse:1.54938\tvalidation_1-rmse:0.19568\n",
      "[200]\tvalidation_0-rmse:0.89893\tvalidation_1-rmse:0.08852\n",
      "[300]\tvalidation_0-rmse:0.64813\tvalidation_1-rmse:0.04929\n",
      "[399]\tvalidation_0-rmse:0.56191\tvalidation_1-rmse:0.03914\n",
      "Processing classic_dlx_l...\n",
      "[0]\tvalidation_0-rmse:3.51199\tvalidation_1-rmse:0.49641\n",
      "[100]\tvalidation_0-rmse:1.84701\tvalidation_1-rmse:0.27105\n",
      "[200]\tvalidation_0-rmse:1.37153\tvalidation_1-rmse:0.18682\n"
     ]
    },
    {
     "name": "stderr",
     "output_type": "stream",
     "text": [
      "s:\\Pizza\\.venv\\Lib\\site-packages\\xgboost\\core.py:158: UserWarning: [08:07:59] WARNING: C:\\buildkite-agent\\builds\\buildkite-windows-cpu-autoscaling-group-i-06abd128ca6c1688d-1\\xgboost\\xgboost-ci-windows\\src\\objective\\regression_obj.cu:227: reg:linear is now deprecated in favor of reg:squarederror.\n",
      "  warnings.warn(smsg, UserWarning)\n"
     ]
    },
    {
     "name": "stdout",
     "output_type": "stream",
     "text": [
      "[258]\tvalidation_0-rmse:1.26819\tvalidation_1-rmse:0.22740\n",
      "[0]\tvalidation_0-rmse:3.49709\tvalidation_1-rmse:0.49640\n",
      "[100]\tvalidation_0-rmse:1.83913\tvalidation_1-rmse:0.27019\n",
      "[200]\tvalidation_0-rmse:1.36564\tvalidation_1-rmse:0.18566\n"
     ]
    },
    {
     "name": "stderr",
     "output_type": "stream",
     "text": [
      "s:\\Pizza\\.venv\\Lib\\site-packages\\xgboost\\core.py:158: UserWarning: [08:07:59] WARNING: C:\\buildkite-agent\\builds\\buildkite-windows-cpu-autoscaling-group-i-06abd128ca6c1688d-1\\xgboost\\xgboost-ci-windows\\src\\objective\\regression_obj.cu:227: reg:linear is now deprecated in favor of reg:squarederror.\n",
      "  warnings.warn(smsg, UserWarning)\n"
     ]
    },
    {
     "name": "stdout",
     "output_type": "stream",
     "text": [
      "[261]\tvalidation_0-rmse:1.25945\tvalidation_1-rmse:0.22177\n",
      "[0]\tvalidation_0-rmse:3.48239\tvalidation_1-rmse:0.49639\n",
      "[100]\tvalidation_0-rmse:1.83136\tvalidation_1-rmse:0.26935\n",
      "[200]\tvalidation_0-rmse:1.35984\tvalidation_1-rmse:0.18452\n"
     ]
    },
    {
     "name": "stderr",
     "output_type": "stream",
     "text": [
      "s:\\Pizza\\.venv\\Lib\\site-packages\\xgboost\\core.py:158: UserWarning: [08:07:59] WARNING: C:\\buildkite-agent\\builds\\buildkite-windows-cpu-autoscaling-group-i-06abd128ca6c1688d-1\\xgboost\\xgboost-ci-windows\\src\\objective\\regression_obj.cu:227: reg:linear is now deprecated in favor of reg:squarederror.\n",
      "  warnings.warn(smsg, UserWarning)\n"
     ]
    },
    {
     "name": "stdout",
     "output_type": "stream",
     "text": [
      "[260]\tvalidation_0-rmse:1.25528\tvalidation_1-rmse:0.21791\n",
      "Processing ckn_pesto_m...\n",
      "[0]\tvalidation_0-rmse:2.05648\tvalidation_1-rmse:0.49670\n",
      "[100]\tvalidation_0-rmse:1.35725\tvalidation_1-rmse:0.28927\n"
     ]
    },
    {
     "name": "stderr",
     "output_type": "stream",
     "text": [
      "s:\\Pizza\\.venv\\Lib\\site-packages\\xgboost\\core.py:158: UserWarning: [08:08:00] WARNING: C:\\buildkite-agent\\builds\\buildkite-windows-cpu-autoscaling-group-i-06abd128ca6c1688d-1\\xgboost\\xgboost-ci-windows\\src\\objective\\regression_obj.cu:227: reg:linear is now deprecated in favor of reg:squarederror.\n",
      "  warnings.warn(smsg, UserWarning)\n"
     ]
    },
    {
     "name": "stdout",
     "output_type": "stream",
     "text": [
      "[200]\tvalidation_0-rmse:1.17594\tvalidation_1-rmse:0.16283\n",
      "[300]\tvalidation_0-rmse:1.12862\tvalidation_1-rmse:0.11115\n",
      "[399]\tvalidation_0-rmse:1.11081\tvalidation_1-rmse:0.07224\n",
      "[0]\tvalidation_0-rmse:2.04186\tvalidation_1-rmse:0.83813\n",
      "[78]\tvalidation_0-rmse:1.43363\tvalidation_1-rmse:0.65030\n"
     ]
    },
    {
     "name": "stderr",
     "output_type": "stream",
     "text": [
      "s:\\Pizza\\.venv\\Lib\\site-packages\\xgboost\\core.py:158: UserWarning: [08:08:00] WARNING: C:\\buildkite-agent\\builds\\buildkite-windows-cpu-autoscaling-group-i-06abd128ca6c1688d-1\\xgboost\\xgboost-ci-windows\\src\\objective\\regression_obj.cu:227: reg:linear is now deprecated in favor of reg:squarederror.\n",
      "  warnings.warn(smsg, UserWarning)\n",
      "s:\\Pizza\\.venv\\Lib\\site-packages\\xgboost\\core.py:158: UserWarning: [08:08:00] WARNING: C:\\buildkite-agent\\builds\\buildkite-windows-cpu-autoscaling-group-i-06abd128ca6c1688d-1\\xgboost\\xgboost-ci-windows\\src\\objective\\regression_obj.cu:227: reg:linear is now deprecated in favor of reg:squarederror.\n",
      "  warnings.warn(smsg, UserWarning)\n"
     ]
    },
    {
     "name": "stdout",
     "output_type": "stream",
     "text": [
      "[0]\tvalidation_0-rmse:2.02939\tvalidation_1-rmse:0.49665\n",
      "[100]\tvalidation_0-rmse:1.34074\tvalidation_1-rmse:0.28625\n",
      "[200]\tvalidation_0-rmse:1.16085\tvalidation_1-rmse:0.15614\n",
      "[300]\tvalidation_0-rmse:1.11380\tvalidation_1-rmse:0.10510\n",
      "[399]\tvalidation_0-rmse:1.09636\tvalidation_1-rmse:0.07610\n",
      "Processing the_greek_xl...\n",
      "[0]\tvalidation_0-rmse:3.61552\tvalidation_1-rmse:8.72994\n",
      "[100]\tvalidation_0-rmse:1.72920\tvalidation_1-rmse:6.26963\n"
     ]
    },
    {
     "name": "stderr",
     "output_type": "stream",
     "text": [
      "s:\\Pizza\\.venv\\Lib\\site-packages\\xgboost\\core.py:158: UserWarning: [08:08:01] WARNING: C:\\buildkite-agent\\builds\\buildkite-windows-cpu-autoscaling-group-i-06abd128ca6c1688d-1\\xgboost\\xgboost-ci-windows\\src\\objective\\regression_obj.cu:227: reg:linear is now deprecated in favor of reg:squarederror.\n",
      "  warnings.warn(smsg, UserWarning)\n"
     ]
    },
    {
     "name": "stdout",
     "output_type": "stream",
     "text": [
      "[200]\tvalidation_0-rmse:1.10112\tvalidation_1-rmse:5.00754\n",
      "[300]\tvalidation_0-rmse:0.92428\tvalidation_1-rmse:4.59352\n",
      "[399]\tvalidation_0-rmse:0.86001\tvalidation_1-rmse:4.41639\n",
      "[0]\tvalidation_0-rmse:3.67926\tvalidation_1-rmse:0.49574\n",
      "[100]\tvalidation_0-rmse:1.76842\tvalidation_1-rmse:0.22835\n"
     ]
    },
    {
     "name": "stderr",
     "output_type": "stream",
     "text": [
      "s:\\Pizza\\.venv\\Lib\\site-packages\\xgboost\\core.py:158: UserWarning: [08:08:02] WARNING: C:\\buildkite-agent\\builds\\buildkite-windows-cpu-autoscaling-group-i-06abd128ca6c1688d-1\\xgboost\\xgboost-ci-windows\\src\\objective\\regression_obj.cu:227: reg:linear is now deprecated in favor of reg:squarederror.\n",
      "  warnings.warn(smsg, UserWarning)\n"
     ]
    },
    {
     "name": "stdout",
     "output_type": "stream",
     "text": [
      "[200]\tvalidation_0-rmse:1.14429\tvalidation_1-rmse:0.12988\n",
      "[300]\tvalidation_0-rmse:0.95285\tvalidation_1-rmse:0.09080\n",
      "[399]\tvalidation_0-rmse:0.88767\tvalidation_1-rmse:0.07002\n",
      "[0]\tvalidation_0-rmse:3.66586\tvalidation_1-rmse:0.49574\n",
      "[100]\tvalidation_0-rmse:1.76194\tvalidation_1-rmse:0.22797\n"
     ]
    },
    {
     "name": "stderr",
     "output_type": "stream",
     "text": [
      "s:\\Pizza\\.venv\\Lib\\site-packages\\xgboost\\core.py:158: UserWarning: [08:08:02] WARNING: C:\\buildkite-agent\\builds\\buildkite-windows-cpu-autoscaling-group-i-06abd128ca6c1688d-1\\xgboost\\xgboost-ci-windows\\src\\objective\\regression_obj.cu:227: reg:linear is now deprecated in favor of reg:squarederror.\n",
      "  warnings.warn(smsg, UserWarning)\n"
     ]
    },
    {
     "name": "stdout",
     "output_type": "stream",
     "text": [
      "[200]\tvalidation_0-rmse:1.14008\tvalidation_1-rmse:0.12937\n",
      "[300]\tvalidation_0-rmse:0.94932\tvalidation_1-rmse:0.09009\n",
      "[399]\tvalidation_0-rmse:0.88378\tvalidation_1-rmse:0.06924\n",
      "Processing hawaiian_l...\n",
      "[0]\tvalidation_0-rmse:6.85341\tvalidation_1-rmse:0.49532\n",
      "[100]\tvalidation_0-rmse:2.78493\tvalidation_1-rmse:0.19732\n"
     ]
    },
    {
     "name": "stderr",
     "output_type": "stream",
     "text": [
      "s:\\Pizza\\.venv\\Lib\\site-packages\\xgboost\\core.py:158: UserWarning: [08:08:04] WARNING: C:\\buildkite-agent\\builds\\buildkite-windows-cpu-autoscaling-group-i-06abd128ca6c1688d-1\\xgboost\\xgboost-ci-windows\\src\\objective\\regression_obj.cu:227: reg:linear is now deprecated in favor of reg:squarederror.\n",
      "  warnings.warn(smsg, UserWarning)\n"
     ]
    },
    {
     "name": "stdout",
     "output_type": "stream",
     "text": [
      "[200]\tvalidation_0-rmse:1.32615\tvalidation_1-rmse:0.08251\n",
      "[300]\tvalidation_0-rmse:0.85496\tvalidation_1-rmse:0.03411\n",
      "[399]\tvalidation_0-rmse:0.67846\tvalidation_1-rmse:0.01694\n",
      "[0]\tvalidation_0-rmse:6.83802\tvalidation_1-rmse:9.17841\n",
      "[100]\tvalidation_0-rmse:2.77867\tvalidation_1-rmse:3.96266\n"
     ]
    },
    {
     "name": "stderr",
     "output_type": "stream",
     "text": [
      "s:\\Pizza\\.venv\\Lib\\site-packages\\xgboost\\core.py:158: UserWarning: [08:08:05] WARNING: C:\\buildkite-agent\\builds\\buildkite-windows-cpu-autoscaling-group-i-06abd128ca6c1688d-1\\xgboost\\xgboost-ci-windows\\src\\objective\\regression_obj.cu:227: reg:linear is now deprecated in favor of reg:squarederror.\n",
      "  warnings.warn(smsg, UserWarning)\n"
     ]
    },
    {
     "name": "stdout",
     "output_type": "stream",
     "text": [
      "[200]\tvalidation_0-rmse:1.32317\tvalidation_1-rmse:2.06350\n",
      "[300]\tvalidation_0-rmse:0.85303\tvalidation_1-rmse:1.28957\n",
      "[399]\tvalidation_0-rmse:0.67693\tvalidation_1-rmse:0.52106\n",
      "[0]\tvalidation_0-rmse:6.85026\tvalidation_1-rmse:0.49532\n",
      "[100]\tvalidation_0-rmse:2.78228\tvalidation_1-rmse:0.19718\n"
     ]
    },
    {
     "name": "stderr",
     "output_type": "stream",
     "text": [
      "s:\\Pizza\\.venv\\Lib\\site-packages\\xgboost\\core.py:158: UserWarning: [08:08:05] WARNING: C:\\buildkite-agent\\builds\\buildkite-windows-cpu-autoscaling-group-i-06abd128ca6c1688d-1\\xgboost\\xgboost-ci-windows\\src\\objective\\regression_obj.cu:227: reg:linear is now deprecated in favor of reg:squarederror.\n",
      "  warnings.warn(smsg, UserWarning)\n"
     ]
    },
    {
     "name": "stdout",
     "output_type": "stream",
     "text": [
      "[200]\tvalidation_0-rmse:1.32656\tvalidation_1-rmse:0.08236\n",
      "[300]\tvalidation_0-rmse:0.85480\tvalidation_1-rmse:0.03378\n",
      "[399]\tvalidation_0-rmse:0.67797\tvalidation_1-rmse:0.01680\n",
      "Processing pep_msh_pep_s...\n",
      "[0]\tvalidation_0-rmse:4.01571\tvalidation_1-rmse:0.49533\n",
      "[100]\tvalidation_0-rmse:1.75130\tvalidation_1-rmse:0.20227\n"
     ]
    },
    {
     "name": "stderr",
     "output_type": "stream",
     "text": [
      "s:\\Pizza\\.venv\\Lib\\site-packages\\xgboost\\core.py:158: UserWarning: [08:08:06] WARNING: C:\\buildkite-agent\\builds\\buildkite-windows-cpu-autoscaling-group-i-06abd128ca6c1688d-1\\xgboost\\xgboost-ci-windows\\src\\objective\\regression_obj.cu:227: reg:linear is now deprecated in favor of reg:squarederror.\n",
      "  warnings.warn(smsg, UserWarning)\n"
     ]
    },
    {
     "name": "stdout",
     "output_type": "stream",
     "text": [
      "[200]\tvalidation_0-rmse:0.93763\tvalidation_1-rmse:0.08915\n",
      "[300]\tvalidation_0-rmse:0.65937\tvalidation_1-rmse:0.04195\n",
      "[399]\tvalidation_0-rmse:0.56007\tvalidation_1-rmse:0.02225\n",
      "[0]\tvalidation_0-rmse:4.00162\tvalidation_1-rmse:0.49533\n",
      "[100]\tvalidation_0-rmse:1.74513\tvalidation_1-rmse:0.20210\n"
     ]
    },
    {
     "name": "stderr",
     "output_type": "stream",
     "text": [
      "s:\\Pizza\\.venv\\Lib\\site-packages\\xgboost\\core.py:158: UserWarning: [08:08:07] WARNING: C:\\buildkite-agent\\builds\\buildkite-windows-cpu-autoscaling-group-i-06abd128ca6c1688d-1\\xgboost\\xgboost-ci-windows\\src\\objective\\regression_obj.cu:227: reg:linear is now deprecated in favor of reg:squarederror.\n",
      "  warnings.warn(smsg, UserWarning)\n"
     ]
    },
    {
     "name": "stdout",
     "output_type": "stream",
     "text": [
      "[200]\tvalidation_0-rmse:0.93431\tvalidation_1-rmse:0.08896\n",
      "[300]\tvalidation_0-rmse:0.65702\tvalidation_1-rmse:0.04180\n",
      "[399]\tvalidation_0-rmse:0.55807\tvalidation_1-rmse:0.02214\n",
      "[0]\tvalidation_0-rmse:3.98767\tvalidation_1-rmse:3.26456\n",
      "[100]\tvalidation_0-rmse:1.73902\tvalidation_1-rmse:1.29798\n"
     ]
    },
    {
     "name": "stderr",
     "output_type": "stream",
     "text": [
      "s:\\Pizza\\.venv\\Lib\\site-packages\\xgboost\\core.py:158: UserWarning: [08:08:07] WARNING: C:\\buildkite-agent\\builds\\buildkite-windows-cpu-autoscaling-group-i-06abd128ca6c1688d-1\\xgboost\\xgboost-ci-windows\\src\\objective\\regression_obj.cu:227: reg:linear is now deprecated in favor of reg:squarederror.\n",
      "  warnings.warn(smsg, UserWarning)\n"
     ]
    },
    {
     "name": "stdout",
     "output_type": "stream",
     "text": [
      "[200]\tvalidation_0-rmse:0.93102\tvalidation_1-rmse:0.66255\n",
      "[234]\tvalidation_0-rmse:0.80186\tvalidation_1-rmse:0.66549\n",
      "Processing spinach_supr_m...\n",
      "[0]\tvalidation_0-rmse:2.18375\tvalidation_1-rmse:2.75752\n",
      "[100]\tvalidation_0-rmse:1.45051\tvalidation_1-rmse:1.28913\n"
     ]
    },
    {
     "name": "stderr",
     "output_type": "stream",
     "text": [
      "s:\\Pizza\\.venv\\Lib\\site-packages\\xgboost\\core.py:158: UserWarning: [08:08:08] WARNING: C:\\buildkite-agent\\builds\\buildkite-windows-cpu-autoscaling-group-i-06abd128ca6c1688d-1\\xgboost\\xgboost-ci-windows\\src\\objective\\regression_obj.cu:227: reg:linear is now deprecated in favor of reg:squarederror.\n",
      "  warnings.warn(smsg, UserWarning)\n"
     ]
    },
    {
     "name": "stdout",
     "output_type": "stream",
     "text": [
      "[200]\tvalidation_0-rmse:1.25283\tvalidation_1-rmse:0.45697\n",
      "[300]\tvalidation_0-rmse:1.20079\tvalidation_1-rmse:0.19735\n",
      "[325]\tvalidation_0-rmse:1.19478\tvalidation_1-rmse:0.23447\n",
      "[0]\tvalidation_0-rmse:2.19377\tvalidation_1-rmse:0.49680\n",
      "[100]\tvalidation_0-rmse:1.44691\tvalidation_1-rmse:0.29590\n"
     ]
    },
    {
     "name": "stderr",
     "output_type": "stream",
     "text": [
      "s:\\Pizza\\.venv\\Lib\\site-packages\\xgboost\\core.py:158: UserWarning: [08:08:08] WARNING: C:\\buildkite-agent\\builds\\buildkite-windows-cpu-autoscaling-group-i-06abd128ca6c1688d-1\\xgboost\\xgboost-ci-windows\\src\\objective\\regression_obj.cu:227: reg:linear is now deprecated in favor of reg:squarederror.\n",
      "  warnings.warn(smsg, UserWarning)\n"
     ]
    },
    {
     "name": "stdout",
     "output_type": "stream",
     "text": [
      "[200]\tvalidation_0-rmse:1.24686\tvalidation_1-rmse:0.22013\n",
      "[300]\tvalidation_0-rmse:1.19486\tvalidation_1-rmse:0.18210\n",
      "[399]\tvalidation_0-rmse:1.02945\tvalidation_1-rmse:0.15891\n",
      "[0]\tvalidation_0-rmse:2.17782\tvalidation_1-rmse:0.49677\n",
      "[100]\tvalidation_0-rmse:1.43614\tvalidation_1-rmse:0.29399\n"
     ]
    },
    {
     "name": "stderr",
     "output_type": "stream",
     "text": [
      "s:\\Pizza\\.venv\\Lib\\site-packages\\xgboost\\core.py:158: UserWarning: [08:08:09] WARNING: C:\\buildkite-agent\\builds\\buildkite-windows-cpu-autoscaling-group-i-06abd128ca6c1688d-1\\xgboost\\xgboost-ci-windows\\src\\objective\\regression_obj.cu:227: reg:linear is now deprecated in favor of reg:squarederror.\n",
      "  warnings.warn(smsg, UserWarning)\n"
     ]
    },
    {
     "name": "stdout",
     "output_type": "stream",
     "text": [
      "[200]\tvalidation_0-rmse:1.23751\tvalidation_1-rmse:0.21714\n",
      "[300]\tvalidation_0-rmse:1.18579\tvalidation_1-rmse:0.17876\n",
      "[399]\tvalidation_0-rmse:1.02173\tvalidation_1-rmse:0.15564\n",
      "Processing prsc_argla_m...\n",
      "[0]\tvalidation_0-rmse:4.37398\tvalidation_1-rmse:0.49501\n",
      "[100]\tvalidation_0-rmse:1.91446\tvalidation_1-rmse:0.18156\n"
     ]
    },
    {
     "name": "stderr",
     "output_type": "stream",
     "text": [
      "s:\\Pizza\\.venv\\Lib\\site-packages\\xgboost\\core.py:158: UserWarning: [08:08:10] WARNING: C:\\buildkite-agent\\builds\\buildkite-windows-cpu-autoscaling-group-i-06abd128ca6c1688d-1\\xgboost\\xgboost-ci-windows\\src\\objective\\regression_obj.cu:227: reg:linear is now deprecated in favor of reg:squarederror.\n",
      "  warnings.warn(smsg, UserWarning)\n"
     ]
    },
    {
     "name": "stdout",
     "output_type": "stream",
     "text": [
      "[200]\tvalidation_0-rmse:1.00350\tvalidation_1-rmse:0.07378\n",
      "[300]\tvalidation_0-rmse:0.69354\tvalidation_1-rmse:0.02953\n",
      "[399]\tvalidation_0-rmse:0.58406\tvalidation_1-rmse:0.01383\n",
      "[0]\tvalidation_0-rmse:4.35899\tvalidation_1-rmse:0.49501\n",
      "[100]\tvalidation_0-rmse:1.90787\tvalidation_1-rmse:0.18156\n"
     ]
    },
    {
     "name": "stderr",
     "output_type": "stream",
     "text": [
      "s:\\Pizza\\.venv\\Lib\\site-packages\\xgboost\\core.py:158: UserWarning: [08:08:10] WARNING: C:\\buildkite-agent\\builds\\buildkite-windows-cpu-autoscaling-group-i-06abd128ca6c1688d-1\\xgboost\\xgboost-ci-windows\\src\\objective\\regression_obj.cu:227: reg:linear is now deprecated in favor of reg:squarederror.\n",
      "  warnings.warn(smsg, UserWarning)\n"
     ]
    },
    {
     "name": "stdout",
     "output_type": "stream",
     "text": [
      "[200]\tvalidation_0-rmse:1.00003\tvalidation_1-rmse:0.07372\n",
      "[300]\tvalidation_0-rmse:0.69114\tvalidation_1-rmse:0.02949\n",
      "[399]\tvalidation_0-rmse:0.58203\tvalidation_1-rmse:0.01379\n",
      "[0]\tvalidation_0-rmse:4.34415\tvalidation_1-rmse:0.49501\n",
      "[100]\tvalidation_0-rmse:1.90135\tvalidation_1-rmse:0.18155\n"
     ]
    },
    {
     "name": "stderr",
     "output_type": "stream",
     "text": [
      "s:\\Pizza\\.venv\\Lib\\site-packages\\xgboost\\core.py:158: UserWarning: [08:08:11] WARNING: C:\\buildkite-agent\\builds\\buildkite-windows-cpu-autoscaling-group-i-06abd128ca6c1688d-1\\xgboost\\xgboost-ci-windows\\src\\objective\\regression_obj.cu:227: reg:linear is now deprecated in favor of reg:squarederror.\n",
      "  warnings.warn(smsg, UserWarning)\n"
     ]
    },
    {
     "name": "stdout",
     "output_type": "stream",
     "text": [
      "[200]\tvalidation_0-rmse:0.99660\tvalidation_1-rmse:0.07366\n",
      "[300]\tvalidation_0-rmse:0.68876\tvalidation_1-rmse:0.02945\n",
      "[399]\tvalidation_0-rmse:0.58003\tvalidation_1-rmse:0.01375\n",
      "Processing mediterraneo_l...\n",
      "[0]\tvalidation_0-rmse:3.01684\tvalidation_1-rmse:6.22578\n",
      "[100]\tvalidation_0-rmse:1.43445\tvalidation_1-rmse:4.11275\n"
     ]
    },
    {
     "name": "stderr",
     "output_type": "stream",
     "text": [
      "s:\\Pizza\\.venv\\Lib\\site-packages\\xgboost\\core.py:158: UserWarning: [08:08:12] WARNING: C:\\buildkite-agent\\builds\\buildkite-windows-cpu-autoscaling-group-i-06abd128ca6c1688d-1\\xgboost\\xgboost-ci-windows\\src\\objective\\regression_obj.cu:227: reg:linear is now deprecated in favor of reg:squarederror.\n",
      "  warnings.warn(smsg, UserWarning)\n"
     ]
    },
    {
     "name": "stdout",
     "output_type": "stream",
     "text": [
      "[200]\tvalidation_0-rmse:0.91922\tvalidation_1-rmse:3.47745\n",
      "[300]\tvalidation_0-rmse:0.77718\tvalidation_1-rmse:3.19594\n",
      "[377]\tvalidation_0-rmse:0.74090\tvalidation_1-rmse:3.21880\n",
      "[0]\tvalidation_0-rmse:3.07123\tvalidation_1-rmse:6.22505\n",
      "[100]\tvalidation_0-rmse:1.47089\tvalidation_1-rmse:3.73550\n"
     ]
    },
    {
     "name": "stderr",
     "output_type": "stream",
     "text": [
      "s:\\Pizza\\.venv\\Lib\\site-packages\\xgboost\\core.py:158: UserWarning: [08:08:12] WARNING: C:\\buildkite-agent\\builds\\buildkite-windows-cpu-autoscaling-group-i-06abd128ca6c1688d-1\\xgboost\\xgboost-ci-windows\\src\\objective\\regression_obj.cu:227: reg:linear is now deprecated in favor of reg:squarederror.\n",
      "  warnings.warn(smsg, UserWarning)\n"
     ]
    },
    {
     "name": "stdout",
     "output_type": "stream",
     "text": [
      "[200]\tvalidation_0-rmse:0.94472\tvalidation_1-rmse:2.39618\n",
      "[300]\tvalidation_0-rmse:0.79774\tvalidation_1-rmse:1.63838\n",
      "[399]\tvalidation_0-rmse:0.75554\tvalidation_1-rmse:1.06057\n",
      "[0]\tvalidation_0-rmse:3.12349\tvalidation_1-rmse:0.49560\n",
      "[100]\tvalidation_0-rmse:1.49967\tvalidation_1-rmse:0.20660\n"
     ]
    },
    {
     "name": "stderr",
     "output_type": "stream",
     "text": [
      "s:\\Pizza\\.venv\\Lib\\site-packages\\xgboost\\core.py:158: UserWarning: [08:08:13] WARNING: C:\\buildkite-agent\\builds\\buildkite-windows-cpu-autoscaling-group-i-06abd128ca6c1688d-1\\xgboost\\xgboost-ci-windows\\src\\objective\\regression_obj.cu:227: reg:linear is now deprecated in favor of reg:squarederror.\n",
      "  warnings.warn(smsg, UserWarning)\n"
     ]
    },
    {
     "name": "stdout",
     "output_type": "stream",
     "text": [
      "[200]\tvalidation_0-rmse:0.96954\tvalidation_1-rmse:0.09899\n",
      "[300]\tvalidation_0-rmse:0.81260\tvalidation_1-rmse:0.05802\n",
      "[399]\tvalidation_0-rmse:0.77183\tvalidation_1-rmse:0.04385\n",
      "Processing southw_ckn_m...\n",
      "[0]\tvalidation_0-rmse:3.49283\tvalidation_1-rmse:0.49531\n",
      "[100]\tvalidation_0-rmse:1.58410\tvalidation_1-rmse:0.20067\n"
     ]
    },
    {
     "name": "stderr",
     "output_type": "stream",
     "text": [
      "s:\\Pizza\\.venv\\Lib\\site-packages\\xgboost\\core.py:158: UserWarning: [08:08:14] WARNING: C:\\buildkite-agent\\builds\\buildkite-windows-cpu-autoscaling-group-i-06abd128ca6c1688d-1\\xgboost\\xgboost-ci-windows\\src\\objective\\regression_obj.cu:227: reg:linear is now deprecated in favor of reg:squarederror.\n",
      "  warnings.warn(smsg, UserWarning)\n"
     ]
    },
    {
     "name": "stdout",
     "output_type": "stream",
     "text": [
      "[200]\tvalidation_0-rmse:0.86896\tvalidation_1-rmse:0.09296\n",
      "[300]\tvalidation_0-rmse:0.60758\tvalidation_1-rmse:0.05195\n",
      "[361]\tvalidation_0-rmse:0.54268\tvalidation_1-rmse:0.08618\n",
      "[0]\tvalidation_0-rmse:3.47959\tvalidation_1-rmse:3.71636\n",
      "[100]\tvalidation_0-rmse:1.57806\tvalidation_1-rmse:0.20643\n",
      "[155]\tvalidation_0-rmse:1.09796\tvalidation_1-rmse:0.72896\n"
     ]
    },
    {
     "name": "stderr",
     "output_type": "stream",
     "text": [
      "s:\\Pizza\\.venv\\Lib\\site-packages\\xgboost\\core.py:158: UserWarning: [08:08:14] WARNING: C:\\buildkite-agent\\builds\\buildkite-windows-cpu-autoscaling-group-i-06abd128ca6c1688d-1\\xgboost\\xgboost-ci-windows\\src\\objective\\regression_obj.cu:227: reg:linear is now deprecated in favor of reg:squarederror.\n",
      "  warnings.warn(smsg, UserWarning)\n"
     ]
    },
    {
     "name": "stdout",
     "output_type": "stream",
     "text": [
      "[0]\tvalidation_0-rmse:3.48173\tvalidation_1-rmse:0.49531\n",
      "[100]\tvalidation_0-rmse:1.57554\tvalidation_1-rmse:0.20039\n"
     ]
    },
    {
     "name": "stderr",
     "output_type": "stream",
     "text": [
      "s:\\Pizza\\.venv\\Lib\\site-packages\\xgboost\\core.py:158: UserWarning: [08:08:14] WARNING: C:\\buildkite-agent\\builds\\buildkite-windows-cpu-autoscaling-group-i-06abd128ca6c1688d-1\\xgboost\\xgboost-ci-windows\\src\\objective\\regression_obj.cu:227: reg:linear is now deprecated in favor of reg:squarederror.\n",
      "  warnings.warn(smsg, UserWarning)\n"
     ]
    },
    {
     "name": "stdout",
     "output_type": "stream",
     "text": [
      "[200]\tvalidation_0-rmse:0.86006\tvalidation_1-rmse:0.09257\n",
      "[300]\tvalidation_0-rmse:0.60658\tvalidation_1-rmse:0.05290\n",
      "[399]\tvalidation_0-rmse:0.51463\tvalidation_1-rmse:0.04988\n",
      "Processing pep_msh_pep_m...\n",
      "[0]\tvalidation_0-rmse:3.29065\tvalidation_1-rmse:2.75227\n",
      "[100]\tvalidation_0-rmse:1.53246\tvalidation_1-rmse:1.07979\n"
     ]
    },
    {
     "name": "stderr",
     "output_type": "stream",
     "text": [
      "s:\\Pizza\\.venv\\Lib\\site-packages\\xgboost\\core.py:158: UserWarning: [08:08:15] WARNING: C:\\buildkite-agent\\builds\\buildkite-windows-cpu-autoscaling-group-i-06abd128ca6c1688d-1\\xgboost\\xgboost-ci-windows\\src\\objective\\regression_obj.cu:227: reg:linear is now deprecated in favor of reg:squarederror.\n",
      "  warnings.warn(smsg, UserWarning)\n"
     ]
    },
    {
     "name": "stdout",
     "output_type": "stream",
     "text": [
      "[200]\tvalidation_0-rmse:0.90175\tvalidation_1-rmse:0.78660\n",
      "[300]\tvalidation_0-rmse:0.70550\tvalidation_1-rmse:0.25594\n",
      "[399]\tvalidation_0-rmse:0.62850\tvalidation_1-rmse:0.14667\n",
      "[0]\tvalidation_0-rmse:3.28552\tvalidation_1-rmse:2.77461\n",
      "[100]\tvalidation_0-rmse:1.52929\tvalidation_1-rmse:1.44538\n"
     ]
    },
    {
     "name": "stderr",
     "output_type": "stream",
     "text": [
      "s:\\Pizza\\.venv\\Lib\\site-packages\\xgboost\\core.py:158: UserWarning: [08:08:16] WARNING: C:\\buildkite-agent\\builds\\buildkite-windows-cpu-autoscaling-group-i-06abd128ca6c1688d-1\\xgboost\\xgboost-ci-windows\\src\\objective\\regression_obj.cu:227: reg:linear is now deprecated in favor of reg:squarederror.\n",
      "  warnings.warn(smsg, UserWarning)\n"
     ]
    },
    {
     "name": "stdout",
     "output_type": "stream",
     "text": [
      "[200]\tvalidation_0-rmse:0.90035\tvalidation_1-rmse:0.72420\n",
      "[300]\tvalidation_0-rmse:0.70484\tvalidation_1-rmse:0.50473\n",
      "[399]\tvalidation_0-rmse:0.62646\tvalidation_1-rmse:0.25401\n",
      "[0]\tvalidation_0-rmse:3.28051\tvalidation_1-rmse:0.49531\n",
      "[100]\tvalidation_0-rmse:1.52710\tvalidation_1-rmse:0.20068\n",
      "[200]\tvalidation_0-rmse:0.89995\tvalidation_1-rmse:0.09251\n"
     ]
    },
    {
     "name": "stderr",
     "output_type": "stream",
     "text": [
      "s:\\Pizza\\.venv\\Lib\\site-packages\\xgboost\\core.py:158: UserWarning: [08:08:16] WARNING: C:\\buildkite-agent\\builds\\buildkite-windows-cpu-autoscaling-group-i-06abd128ca6c1688d-1\\xgboost\\xgboost-ci-windows\\src\\objective\\regression_obj.cu:227: reg:linear is now deprecated in favor of reg:squarederror.\n",
      "  warnings.warn(smsg, UserWarning)\n"
     ]
    },
    {
     "name": "stdout",
     "output_type": "stream",
     "text": [
      "[300]\tvalidation_0-rmse:0.70435\tvalidation_1-rmse:0.05141\n",
      "[399]\tvalidation_0-rmse:0.63353\tvalidation_1-rmse:0.02471\n",
      "Processing sicilian_s...\n",
      "[0]\tvalidation_0-rmse:5.23976\tvalidation_1-rmse:8.69973\n"
     ]
    },
    {
     "name": "stderr",
     "output_type": "stream",
     "text": [
      "s:\\Pizza\\.venv\\Lib\\site-packages\\xgboost\\core.py:158: UserWarning: [08:08:17] WARNING: C:\\buildkite-agent\\builds\\buildkite-windows-cpu-autoscaling-group-i-06abd128ca6c1688d-1\\xgboost\\xgboost-ci-windows\\src\\objective\\regression_obj.cu:227: reg:linear is now deprecated in favor of reg:squarederror.\n",
      "  warnings.warn(smsg, UserWarning)\n"
     ]
    },
    {
     "name": "stdout",
     "output_type": "stream",
     "text": [
      "[100]\tvalidation_0-rmse:2.61695\tvalidation_1-rmse:4.16608\n",
      "[200]\tvalidation_0-rmse:1.85769\tvalidation_1-rmse:2.45632\n",
      "[300]\tvalidation_0-rmse:1.66454\tvalidation_1-rmse:1.67352\n",
      "[399]\tvalidation_0-rmse:1.60296\tvalidation_1-rmse:1.34683\n",
      "[0]\tvalidation_0-rmse:5.26522\tvalidation_1-rmse:0.49558\n",
      "[100]\tvalidation_0-rmse:2.62359\tvalidation_1-rmse:0.22023\n"
     ]
    },
    {
     "name": "stderr",
     "output_type": "stream",
     "text": [
      "s:\\Pizza\\.venv\\Lib\\site-packages\\xgboost\\core.py:158: UserWarning: [08:08:18] WARNING: C:\\buildkite-agent\\builds\\buildkite-windows-cpu-autoscaling-group-i-06abd128ca6c1688d-1\\xgboost\\xgboost-ci-windows\\src\\objective\\regression_obj.cu:227: reg:linear is now deprecated in favor of reg:squarederror.\n",
      "  warnings.warn(smsg, UserWarning)\n"
     ]
    },
    {
     "name": "stdout",
     "output_type": "stream",
     "text": [
      "[200]\tvalidation_0-rmse:1.85733\tvalidation_1-rmse:0.12277\n",
      "[300]\tvalidation_0-rmse:1.66036\tvalidation_1-rmse:0.09190\n",
      "[399]\tvalidation_0-rmse:1.59726\tvalidation_1-rmse:0.08257\n",
      "[0]\tvalidation_0-rmse:5.25085\tvalidation_1-rmse:0.49558\n",
      "[100]\tvalidation_0-rmse:2.61640\tvalidation_1-rmse:0.21999\n"
     ]
    },
    {
     "name": "stderr",
     "output_type": "stream",
     "text": [
      "s:\\Pizza\\.venv\\Lib\\site-packages\\xgboost\\core.py:158: UserWarning: [08:08:18] WARNING: C:\\buildkite-agent\\builds\\buildkite-windows-cpu-autoscaling-group-i-06abd128ca6c1688d-1\\xgboost\\xgboost-ci-windows\\src\\objective\\regression_obj.cu:227: reg:linear is now deprecated in favor of reg:squarederror.\n",
      "  warnings.warn(smsg, UserWarning)\n"
     ]
    },
    {
     "name": "stdout",
     "output_type": "stream",
     "text": [
      "[200]\tvalidation_0-rmse:1.85222\tvalidation_1-rmse:0.12241\n",
      "[300]\tvalidation_0-rmse:1.65580\tvalidation_1-rmse:0.09147\n",
      "[399]\tvalidation_0-rmse:1.59287\tvalidation_1-rmse:0.08210\n",
      "Processing spicy_ital_s...\n",
      "[0]\tvalidation_0-rmse:2.96577\tvalidation_1-rmse:4.22286\n",
      "[100]\tvalidation_0-rmse:1.69562\tvalidation_1-rmse:2.02842\n"
     ]
    },
    {
     "name": "stderr",
     "output_type": "stream",
     "text": [
      "s:\\Pizza\\.venv\\Lib\\site-packages\\xgboost\\core.py:158: UserWarning: [08:08:19] WARNING: C:\\buildkite-agent\\builds\\buildkite-windows-cpu-autoscaling-group-i-06abd128ca6c1688d-1\\xgboost\\xgboost-ci-windows\\src\\objective\\regression_obj.cu:227: reg:linear is now deprecated in favor of reg:squarederror.\n",
      "  warnings.warn(smsg, UserWarning)\n"
     ]
    },
    {
     "name": "stdout",
     "output_type": "stream",
     "text": [
      "[200]\tvalidation_0-rmse:1.35652\tvalidation_1-rmse:1.16499\n",
      "[300]\tvalidation_0-rmse:1.22526\tvalidation_1-rmse:0.91758\n",
      "[380]\tvalidation_0-rmse:1.13328\tvalidation_1-rmse:0.91317\n",
      "[0]\tvalidation_0-rmse:2.98142\tvalidation_1-rmse:2.75384\n"
     ]
    },
    {
     "name": "stderr",
     "output_type": "stream",
     "text": [
      "s:\\Pizza\\.venv\\Lib\\site-packages\\xgboost\\core.py:158: UserWarning: [08:08:19] WARNING: C:\\buildkite-agent\\builds\\buildkite-windows-cpu-autoscaling-group-i-06abd128ca6c1688d-1\\xgboost\\xgboost-ci-windows\\src\\objective\\regression_obj.cu:227: reg:linear is now deprecated in favor of reg:squarederror.\n",
      "  warnings.warn(smsg, UserWarning)\n"
     ]
    },
    {
     "name": "stdout",
     "output_type": "stream",
     "text": [
      "[100]\tvalidation_0-rmse:1.69686\tvalidation_1-rmse:1.28903\n",
      "[200]\tvalidation_0-rmse:1.35354\tvalidation_1-rmse:0.69958\n",
      "[300]\tvalidation_0-rmse:1.22915\tvalidation_1-rmse:0.53550\n",
      "[399]\tvalidation_0-rmse:1.12427\tvalidation_1-rmse:0.50397\n",
      "[0]\tvalidation_0-rmse:2.97923\tvalidation_1-rmse:0.49694\n",
      "[100]\tvalidation_0-rmse:1.69242\tvalidation_1-rmse:0.30219\n"
     ]
    },
    {
     "name": "stderr",
     "output_type": "stream",
     "text": [
      "s:\\Pizza\\.venv\\Lib\\site-packages\\xgboost\\core.py:158: UserWarning: [08:08:20] WARNING: C:\\buildkite-agent\\builds\\buildkite-windows-cpu-autoscaling-group-i-06abd128ca6c1688d-1\\xgboost\\xgboost-ci-windows\\src\\objective\\regression_obj.cu:227: reg:linear is now deprecated in favor of reg:squarederror.\n",
      "  warnings.warn(smsg, UserWarning)\n"
     ]
    },
    {
     "name": "stdout",
     "output_type": "stream",
     "text": [
      "[200]\tvalidation_0-rmse:1.34818\tvalidation_1-rmse:0.19211\n",
      "[300]\tvalidation_0-rmse:1.22411\tvalidation_1-rmse:0.14073\n",
      "[399]\tvalidation_0-rmse:1.11971\tvalidation_1-rmse:0.11363\n",
      "Processing soppressata_l...\n",
      "[0]\tvalidation_0-rmse:3.01552\tvalidation_1-rmse:0.49628\n"
     ]
    },
    {
     "name": "stderr",
     "output_type": "stream",
     "text": [
      "s:\\Pizza\\.venv\\Lib\\site-packages\\xgboost\\core.py:158: UserWarning: [08:08:21] WARNING: C:\\buildkite-agent\\builds\\buildkite-windows-cpu-autoscaling-group-i-06abd128ca6c1688d-1\\xgboost\\xgboost-ci-windows\\src\\objective\\regression_obj.cu:227: reg:linear is now deprecated in favor of reg:squarederror.\n",
      "  warnings.warn(smsg, UserWarning)\n"
     ]
    },
    {
     "name": "stdout",
     "output_type": "stream",
     "text": [
      "[100]\tvalidation_0-rmse:1.59361\tvalidation_1-rmse:0.26546\n",
      "[200]\tvalidation_0-rmse:1.18618\tvalidation_1-rmse:0.17697\n",
      "[300]\tvalidation_0-rmse:1.08090\tvalidation_1-rmse:0.14588\n",
      "[344]\tvalidation_0-rmse:1.05451\tvalidation_1-rmse:0.15885\n",
      "[0]\tvalidation_0-rmse:3.00051\tvalidation_1-rmse:0.49626\n",
      "[100]\tvalidation_0-rmse:1.58561\tvalidation_1-rmse:0.26448\n"
     ]
    },
    {
     "name": "stderr",
     "output_type": "stream",
     "text": [
      "s:\\Pizza\\.venv\\Lib\\site-packages\\xgboost\\core.py:158: UserWarning: [08:08:22] WARNING: C:\\buildkite-agent\\builds\\buildkite-windows-cpu-autoscaling-group-i-06abd128ca6c1688d-1\\xgboost\\xgboost-ci-windows\\src\\objective\\regression_obj.cu:227: reg:linear is now deprecated in favor of reg:squarederror.\n",
      "  warnings.warn(smsg, UserWarning)\n"
     ]
    },
    {
     "name": "stdout",
     "output_type": "stream",
     "text": [
      "[200]\tvalidation_0-rmse:1.18024\tvalidation_1-rmse:0.17569\n",
      "[300]\tvalidation_0-rmse:1.07567\tvalidation_1-rmse:0.13937\n",
      "[353]\tvalidation_0-rmse:1.05237\tvalidation_1-rmse:0.15551\n",
      "[0]\tvalidation_0-rmse:2.98574\tvalidation_1-rmse:0.49625\n",
      "[100]\tvalidation_0-rmse:1.57773\tvalidation_1-rmse:0.26353\n"
     ]
    },
    {
     "name": "stderr",
     "output_type": "stream",
     "text": [
      "s:\\Pizza\\.venv\\Lib\\site-packages\\xgboost\\core.py:158: UserWarning: [08:08:22] WARNING: C:\\buildkite-agent\\builds\\buildkite-windows-cpu-autoscaling-group-i-06abd128ca6c1688d-1\\xgboost\\xgboost-ci-windows\\src\\objective\\regression_obj.cu:227: reg:linear is now deprecated in favor of reg:squarederror.\n",
      "  warnings.warn(smsg, UserWarning)\n"
     ]
    },
    {
     "name": "stdout",
     "output_type": "stream",
     "text": [
      "[200]\tvalidation_0-rmse:1.17410\tvalidation_1-rmse:0.17443\n",
      "[300]\tvalidation_0-rmse:1.07020\tvalidation_1-rmse:0.13812\n",
      "[362]\tvalidation_0-rmse:1.04613\tvalidation_1-rmse:0.15734\n",
      "Processing thai_ckn_s...\n",
      "[0]\tvalidation_0-rmse:3.37430\tvalidation_1-rmse:5.71958\n",
      "[100]\tvalidation_0-rmse:1.61132\tvalidation_1-rmse:2.95531\n"
     ]
    },
    {
     "name": "stderr",
     "output_type": "stream",
     "text": [
      "s:\\Pizza\\.venv\\Lib\\site-packages\\xgboost\\core.py:158: UserWarning: [08:08:23] WARNING: C:\\buildkite-agent\\builds\\buildkite-windows-cpu-autoscaling-group-i-06abd128ca6c1688d-1\\xgboost\\xgboost-ci-windows\\src\\objective\\regression_obj.cu:227: reg:linear is now deprecated in favor of reg:squarederror.\n",
      "  warnings.warn(smsg, UserWarning)\n"
     ]
    },
    {
     "name": "stdout",
     "output_type": "stream",
     "text": [
      "[200]\tvalidation_0-rmse:1.01854\tvalidation_1-rmse:1.50718\n",
      "[300]\tvalidation_0-rmse:0.76010\tvalidation_1-rmse:0.73259\n",
      "[350]\tvalidation_0-rmse:0.68198\tvalidation_1-rmse:0.84774\n",
      "[0]\tvalidation_0-rmse:3.40108\tvalidation_1-rmse:0.49540\n",
      "[100]\tvalidation_0-rmse:1.61802\tvalidation_1-rmse:0.20642\n"
     ]
    },
    {
     "name": "stderr",
     "output_type": "stream",
     "text": [
      "s:\\Pizza\\.venv\\Lib\\site-packages\\xgboost\\core.py:158: UserWarning: [08:08:23] WARNING: C:\\buildkite-agent\\builds\\buildkite-windows-cpu-autoscaling-group-i-06abd128ca6c1688d-1\\xgboost\\xgboost-ci-windows\\src\\objective\\regression_obj.cu:227: reg:linear is now deprecated in favor of reg:squarederror.\n",
      "  warnings.warn(smsg, UserWarning)\n"
     ]
    },
    {
     "name": "stdout",
     "output_type": "stream",
     "text": [
      "[200]\tvalidation_0-rmse:1.01631\tvalidation_1-rmse:0.10258\n",
      "[300]\tvalidation_0-rmse:0.76182\tvalidation_1-rmse:0.05848\n",
      "[399]\tvalidation_0-rmse:0.63463\tvalidation_1-rmse:0.04096\n",
      "[0]\tvalidation_0-rmse:3.38694\tvalidation_1-rmse:0.49540\n",
      "[100]\tvalidation_0-rmse:1.61123\tvalidation_1-rmse:0.20618\n"
     ]
    },
    {
     "name": "stderr",
     "output_type": "stream",
     "text": [
      "s:\\Pizza\\.venv\\Lib\\site-packages\\xgboost\\core.py:158: UserWarning: [08:08:24] WARNING: C:\\buildkite-agent\\builds\\buildkite-windows-cpu-autoscaling-group-i-06abd128ca6c1688d-1\\xgboost\\xgboost-ci-windows\\src\\objective\\regression_obj.cu:227: reg:linear is now deprecated in favor of reg:squarederror.\n",
      "  warnings.warn(smsg, UserWarning)\n"
     ]
    },
    {
     "name": "stdout",
     "output_type": "stream",
     "text": [
      "[200]\tvalidation_0-rmse:1.01202\tvalidation_1-rmse:0.10223\n",
      "[300]\tvalidation_0-rmse:0.75860\tvalidation_1-rmse:0.05815\n",
      "[399]\tvalidation_0-rmse:0.63194\tvalidation_1-rmse:0.04065\n",
      "Processing spinach_supr_l...\n",
      "[0]\tvalidation_0-rmse:2.43669\tvalidation_1-rmse:0.49595\n",
      "[100]\tvalidation_0-rmse:1.37177\tvalidation_1-rmse:0.24101\n",
      "[200]\tvalidation_0-rmse:1.05967\tvalidation_1-rmse:0.14575\n"
     ]
    },
    {
     "name": "stderr",
     "output_type": "stream",
     "text": [
      "s:\\Pizza\\.venv\\Lib\\site-packages\\xgboost\\core.py:158: UserWarning: [08:08:25] WARNING: C:\\buildkite-agent\\builds\\buildkite-windows-cpu-autoscaling-group-i-06abd128ca6c1688d-1\\xgboost\\xgboost-ci-windows\\src\\objective\\regression_obj.cu:227: reg:linear is now deprecated in favor of reg:squarederror.\n",
      "  warnings.warn(smsg, UserWarning)\n"
     ]
    },
    {
     "name": "stdout",
     "output_type": "stream",
     "text": [
      "[300]\tvalidation_0-rmse:0.95530\tvalidation_1-rmse:0.09891\n",
      "[399]\tvalidation_0-rmse:0.90064\tvalidation_1-rmse:0.08816\n",
      "[0]\tvalidation_0-rmse:2.41945\tvalidation_1-rmse:3.77654\n",
      "[50]\tvalidation_0-rmse:1.73598\tvalidation_1-rmse:3.84277\n",
      "[0]\tvalidation_0-rmse:2.44455\tvalidation_1-rmse:3.77641\n",
      "[50]\tvalidation_0-rmse:1.78573\tvalidation_1-rmse:3.83740\n"
     ]
    },
    {
     "name": "stderr",
     "output_type": "stream",
     "text": [
      "s:\\Pizza\\.venv\\Lib\\site-packages\\xgboost\\core.py:158: UserWarning: [08:08:25] WARNING: C:\\buildkite-agent\\builds\\buildkite-windows-cpu-autoscaling-group-i-06abd128ca6c1688d-1\\xgboost\\xgboost-ci-windows\\src\\objective\\regression_obj.cu:227: reg:linear is now deprecated in favor of reg:squarederror.\n",
      "  warnings.warn(smsg, UserWarning)\n",
      "s:\\Pizza\\.venv\\Lib\\site-packages\\xgboost\\core.py:158: UserWarning: [08:08:25] WARNING: C:\\buildkite-agent\\builds\\buildkite-windows-cpu-autoscaling-group-i-06abd128ca6c1688d-1\\xgboost\\xgboost-ci-windows\\src\\objective\\regression_obj.cu:227: reg:linear is now deprecated in favor of reg:squarederror.\n",
      "  warnings.warn(smsg, UserWarning)\n"
     ]
    },
    {
     "name": "stdout",
     "output_type": "stream",
     "text": [
      "Processing ital_veggie_l...\n",
      "[0]\tvalidation_0-rmse:1.79854\tvalidation_1-rmse:3.26695\n",
      "[100]\tvalidation_0-rmse:1.39958\tvalidation_1-rmse:2.34633\n"
     ]
    },
    {
     "name": "stderr",
     "output_type": "stream",
     "text": [
      "s:\\Pizza\\.venv\\Lib\\site-packages\\xgboost\\core.py:158: UserWarning: [08:08:26] WARNING: C:\\buildkite-agent\\builds\\buildkite-windows-cpu-autoscaling-group-i-06abd128ca6c1688d-1\\xgboost\\xgboost-ci-windows\\src\\objective\\regression_obj.cu:227: reg:linear is now deprecated in favor of reg:squarederror.\n",
      "  warnings.warn(smsg, UserWarning)\n"
     ]
    },
    {
     "name": "stdout",
     "output_type": "stream",
     "text": [
      "[200]\tvalidation_0-rmse:1.29152\tvalidation_1-rmse:2.14142\n",
      "[247]\tvalidation_0-rmse:1.26276\tvalidation_1-rmse:2.14556\n",
      "[0]\tvalidation_0-rmse:1.84298\tvalidation_1-rmse:0.49818\n",
      "[100]\tvalidation_0-rmse:1.40956\tvalidation_1-rmse:0.38409\n",
      "[171]\tvalidation_0-rmse:1.31271\tvalidation_1-rmse:0.40424\n"
     ]
    },
    {
     "name": "stderr",
     "output_type": "stream",
     "text": [
      "s:\\Pizza\\.venv\\Lib\\site-packages\\xgboost\\core.py:158: UserWarning: [08:08:26] WARNING: C:\\buildkite-agent\\builds\\buildkite-windows-cpu-autoscaling-group-i-06abd128ca6c1688d-1\\xgboost\\xgboost-ci-windows\\src\\objective\\regression_obj.cu:227: reg:linear is now deprecated in favor of reg:squarederror.\n",
      "  warnings.warn(smsg, UserWarning)\n"
     ]
    },
    {
     "name": "stdout",
     "output_type": "stream",
     "text": [
      "[0]\tvalidation_0-rmse:1.82451\tvalidation_1-rmse:0.49811\n",
      "[100]\tvalidation_0-rmse:1.39520\tvalidation_1-rmse:0.37940\n"
     ]
    },
    {
     "name": "stderr",
     "output_type": "stream",
     "text": [
      "s:\\Pizza\\.venv\\Lib\\site-packages\\xgboost\\core.py:158: UserWarning: [08:08:26] WARNING: C:\\buildkite-agent\\builds\\buildkite-windows-cpu-autoscaling-group-i-06abd128ca6c1688d-1\\xgboost\\xgboost-ci-windows\\src\\objective\\regression_obj.cu:227: reg:linear is now deprecated in favor of reg:squarederror.\n",
      "  warnings.warn(smsg, UserWarning)\n"
     ]
    },
    {
     "name": "stdout",
     "output_type": "stream",
     "text": [
      "[187]\tvalidation_0-rmse:1.28801\tvalidation_1-rmse:0.37534\n",
      "Processing veggie_veg_m...\n",
      "[0]\tvalidation_0-rmse:4.44646\tvalidation_1-rmse:0.49512\n",
      "[100]\tvalidation_0-rmse:1.92040\tvalidation_1-rmse:0.18866\n"
     ]
    },
    {
     "name": "stderr",
     "output_type": "stream",
     "text": [
      "s:\\Pizza\\.venv\\Lib\\site-packages\\xgboost\\core.py:158: UserWarning: [08:08:27] WARNING: C:\\buildkite-agent\\builds\\buildkite-windows-cpu-autoscaling-group-i-06abd128ca6c1688d-1\\xgboost\\xgboost-ci-windows\\src\\objective\\regression_obj.cu:227: reg:linear is now deprecated in favor of reg:squarederror.\n",
      "  warnings.warn(smsg, UserWarning)\n"
     ]
    },
    {
     "name": "stdout",
     "output_type": "stream",
     "text": [
      "[200]\tvalidation_0-rmse:1.02104\tvalidation_1-rmse:0.07542\n",
      "[300]\tvalidation_0-rmse:0.68761\tvalidation_1-rmse:0.03477\n",
      "[399]\tvalidation_0-rmse:0.52888\tvalidation_1-rmse:0.02178\n",
      "[0]\tvalidation_0-rmse:4.43232\tvalidation_1-rmse:12.36849\n",
      "[100]\tvalidation_0-rmse:1.91427\tvalidation_1-rmse:4.47351\n"
     ]
    },
    {
     "name": "stderr",
     "output_type": "stream",
     "text": [
      "s:\\Pizza\\.venv\\Lib\\site-packages\\xgboost\\core.py:158: UserWarning: [08:08:27] WARNING: C:\\buildkite-agent\\builds\\buildkite-windows-cpu-autoscaling-group-i-06abd128ca6c1688d-1\\xgboost\\xgboost-ci-windows\\src\\objective\\regression_obj.cu:227: reg:linear is now deprecated in favor of reg:squarederror.\n",
      "  warnings.warn(smsg, UserWarning)\n"
     ]
    },
    {
     "name": "stdout",
     "output_type": "stream",
     "text": [
      "[200]\tvalidation_0-rmse:1.01827\tvalidation_1-rmse:1.90458\n",
      "[300]\tvalidation_0-rmse:0.68580\tvalidation_1-rmse:0.77119\n",
      "[399]\tvalidation_0-rmse:0.52906\tvalidation_1-rmse:0.10357\n",
      "[0]\tvalidation_0-rmse:4.52752\tvalidation_1-rmse:0.49512\n",
      "[100]\tvalidation_0-rmse:1.94398\tvalidation_1-rmse:0.18860\n"
     ]
    },
    {
     "name": "stderr",
     "output_type": "stream",
     "text": [
      "s:\\Pizza\\.venv\\Lib\\site-packages\\xgboost\\core.py:158: UserWarning: [08:08:28] WARNING: C:\\buildkite-agent\\builds\\buildkite-windows-cpu-autoscaling-group-i-06abd128ca6c1688d-1\\xgboost\\xgboost-ci-windows\\src\\objective\\regression_obj.cu:227: reg:linear is now deprecated in favor of reg:squarederror.\n",
      "  warnings.warn(smsg, UserWarning)\n"
     ]
    },
    {
     "name": "stdout",
     "output_type": "stream",
     "text": [
      "[200]\tvalidation_0-rmse:1.02546\tvalidation_1-rmse:0.07441\n",
      "[300]\tvalidation_0-rmse:0.69052\tvalidation_1-rmse:0.03511\n",
      "[399]\tvalidation_0-rmse:0.54199\tvalidation_1-rmse:0.02028\n",
      "Processing the_greek_m...\n",
      "[0]\tvalidation_0-rmse:2.35113\tvalidation_1-rmse:0.49568\n",
      "[100]\tvalidation_0-rmse:1.14318\tvalidation_1-rmse:0.22403\n"
     ]
    },
    {
     "name": "stderr",
     "output_type": "stream",
     "text": [
      "s:\\Pizza\\.venv\\Lib\\site-packages\\xgboost\\core.py:158: UserWarning: [08:08:29] WARNING: C:\\buildkite-agent\\builds\\buildkite-windows-cpu-autoscaling-group-i-06abd128ca6c1688d-1\\xgboost\\xgboost-ci-windows\\src\\objective\\regression_obj.cu:227: reg:linear is now deprecated in favor of reg:squarederror.\n",
      "  warnings.warn(smsg, UserWarning)\n"
     ]
    },
    {
     "name": "stdout",
     "output_type": "stream",
     "text": [
      "[200]\tvalidation_0-rmse:0.74958\tvalidation_1-rmse:0.12459\n",
      "[300]\tvalidation_0-rmse:0.60698\tvalidation_1-rmse:0.08148\n",
      "[399]\tvalidation_0-rmse:0.53132\tvalidation_1-rmse:0.05985\n",
      "[0]\tvalidation_0-rmse:2.33448\tvalidation_1-rmse:0.49567\n",
      "[100]\tvalidation_0-rmse:1.13495\tvalidation_1-rmse:0.22329\n"
     ]
    },
    {
     "name": "stderr",
     "output_type": "stream",
     "text": [
      "s:\\Pizza\\.venv\\Lib\\site-packages\\xgboost\\core.py:158: UserWarning: [08:08:30] WARNING: C:\\buildkite-agent\\builds\\buildkite-windows-cpu-autoscaling-group-i-06abd128ca6c1688d-1\\xgboost\\xgboost-ci-windows\\src\\objective\\regression_obj.cu:227: reg:linear is now deprecated in favor of reg:squarederror.\n",
      "  warnings.warn(smsg, UserWarning)\n"
     ]
    },
    {
     "name": "stdout",
     "output_type": "stream",
     "text": [
      "[200]\tvalidation_0-rmse:0.74271\tvalidation_1-rmse:0.12340\n",
      "[300]\tvalidation_0-rmse:0.60302\tvalidation_1-rmse:0.08071\n",
      "[399]\tvalidation_0-rmse:0.52765\tvalidation_1-rmse:0.05918\n",
      "[0]\tvalidation_0-rmse:2.31821\tvalidation_1-rmse:0.49566\n",
      "[100]\tvalidation_0-rmse:1.12690\tvalidation_1-rmse:0.22257\n"
     ]
    },
    {
     "name": "stderr",
     "output_type": "stream",
     "text": [
      "s:\\Pizza\\.venv\\Lib\\site-packages\\xgboost\\core.py:158: UserWarning: [08:08:30] WARNING: C:\\buildkite-agent\\builds\\buildkite-windows-cpu-autoscaling-group-i-06abd128ca6c1688d-1\\xgboost\\xgboost-ci-windows\\src\\objective\\regression_obj.cu:227: reg:linear is now deprecated in favor of reg:squarederror.\n",
      "  warnings.warn(smsg, UserWarning)\n"
     ]
    },
    {
     "name": "stdout",
     "output_type": "stream",
     "text": [
      "[200]\tvalidation_0-rmse:0.73838\tvalidation_1-rmse:0.12242\n",
      "[300]\tvalidation_0-rmse:0.59883\tvalidation_1-rmse:0.07964\n",
      "[399]\tvalidation_0-rmse:0.52373\tvalidation_1-rmse:0.05818\n",
      "Processing ckn_pesto_s...\n",
      "[0]\tvalidation_0-rmse:2.54971\tvalidation_1-rmse:1.77190\n",
      "[100]\tvalidation_0-rmse:1.22062\tvalidation_1-rmse:0.20156\n",
      "[165]\tvalidation_0-rmse:0.87720\tvalidation_1-rmse:0.33580\n"
     ]
    },
    {
     "name": "stderr",
     "output_type": "stream",
     "text": [
      "s:\\Pizza\\.venv\\Lib\\site-packages\\xgboost\\core.py:158: UserWarning: [08:08:31] WARNING: C:\\buildkite-agent\\builds\\buildkite-windows-cpu-autoscaling-group-i-06abd128ca6c1688d-1\\xgboost\\xgboost-ci-windows\\src\\objective\\regression_obj.cu:227: reg:linear is now deprecated in favor of reg:squarederror.\n",
      "  warnings.warn(smsg, UserWarning)\n"
     ]
    },
    {
     "name": "stdout",
     "output_type": "stream",
     "text": [
      "[0]\tvalidation_0-rmse:2.54073\tvalidation_1-rmse:0.49591\n",
      "[100]\tvalidation_0-rmse:1.22004\tvalidation_1-rmse:0.22778\n"
     ]
    },
    {
     "name": "stderr",
     "output_type": "stream",
     "text": [
      "s:\\Pizza\\.venv\\Lib\\site-packages\\xgboost\\core.py:158: UserWarning: [08:08:31] WARNING: C:\\buildkite-agent\\builds\\buildkite-windows-cpu-autoscaling-group-i-06abd128ca6c1688d-1\\xgboost\\xgboost-ci-windows\\src\\objective\\regression_obj.cu:227: reg:linear is now deprecated in favor of reg:squarederror.\n",
      "  warnings.warn(smsg, UserWarning)\n"
     ]
    },
    {
     "name": "stdout",
     "output_type": "stream",
     "text": [
      "[200]\tvalidation_0-rmse:0.77684\tvalidation_1-rmse:0.12866\n",
      "[300]\tvalidation_0-rmse:0.64827\tvalidation_1-rmse:0.08948\n",
      "[399]\tvalidation_0-rmse:0.60428\tvalidation_1-rmse:0.06950\n",
      "[0]\tvalidation_0-rmse:2.52387\tvalidation_1-rmse:2.75424\n",
      "[100]\tvalidation_0-rmse:1.21032\tvalidation_1-rmse:1.38756\n"
     ]
    },
    {
     "name": "stderr",
     "output_type": "stream",
     "text": [
      "s:\\Pizza\\.venv\\Lib\\site-packages\\xgboost\\core.py:158: UserWarning: [08:08:32] WARNING: C:\\buildkite-agent\\builds\\buildkite-windows-cpu-autoscaling-group-i-06abd128ca6c1688d-1\\xgboost\\xgboost-ci-windows\\src\\objective\\regression_obj.cu:227: reg:linear is now deprecated in favor of reg:squarederror.\n",
      "  warnings.warn(smsg, UserWarning)\n"
     ]
    },
    {
     "name": "stdout",
     "output_type": "stream",
     "text": [
      "[200]\tvalidation_0-rmse:0.76950\tvalidation_1-rmse:0.90579\n",
      "[300]\tvalidation_0-rmse:0.64225\tvalidation_1-rmse:0.77432\n",
      "[363]\tvalidation_0-rmse:0.60979\tvalidation_1-rmse:0.77696\n",
      "Processing spinach_fet_s...\n",
      "[0]\tvalidation_0-rmse:3.42859\tvalidation_1-rmse:0.49584\n",
      "[100]\tvalidation_0-rmse:1.62307\tvalidation_1-rmse:0.22384\n"
     ]
    },
    {
     "name": "stderr",
     "output_type": "stream",
     "text": [
      "s:\\Pizza\\.venv\\Lib\\site-packages\\xgboost\\core.py:158: UserWarning: [08:08:32] WARNING: C:\\buildkite-agent\\builds\\buildkite-windows-cpu-autoscaling-group-i-06abd128ca6c1688d-1\\xgboost\\xgboost-ci-windows\\src\\objective\\regression_obj.cu:227: reg:linear is now deprecated in favor of reg:squarederror.\n",
      "  warnings.warn(smsg, UserWarning)\n"
     ]
    },
    {
     "name": "stdout",
     "output_type": "stream",
     "text": [
      "[200]\tvalidation_0-rmse:1.00316\tvalidation_1-rmse:0.12144\n",
      "[300]\tvalidation_0-rmse:0.81551\tvalidation_1-rmse:0.08352\n",
      "[399]\tvalidation_0-rmse:0.74396\tvalidation_1-rmse:0.07112\n",
      "[0]\tvalidation_0-rmse:3.41290\tvalidation_1-rmse:0.49583\n",
      "[100]\tvalidation_0-rmse:1.61559\tvalidation_1-rmse:0.22338\n"
     ]
    },
    {
     "name": "stderr",
     "output_type": "stream",
     "text": [
      "s:\\Pizza\\.venv\\Lib\\site-packages\\xgboost\\core.py:158: UserWarning: [08:08:33] WARNING: C:\\buildkite-agent\\builds\\buildkite-windows-cpu-autoscaling-group-i-06abd128ca6c1688d-1\\xgboost\\xgboost-ci-windows\\src\\objective\\regression_obj.cu:227: reg:linear is now deprecated in favor of reg:squarederror.\n",
      "  warnings.warn(smsg, UserWarning)\n"
     ]
    },
    {
     "name": "stdout",
     "output_type": "stream",
     "text": [
      "[200]\tvalidation_0-rmse:0.99851\tvalidation_1-rmse:0.12085\n",
      "[300]\tvalidation_0-rmse:0.81158\tvalidation_1-rmse:0.08299\n",
      "[399]\tvalidation_0-rmse:0.74142\tvalidation_1-rmse:0.06947\n",
      "[0]\tvalidation_0-rmse:3.39743\tvalidation_1-rmse:0.49582\n",
      "[100]\tvalidation_0-rmse:1.60822\tvalidation_1-rmse:0.22294\n"
     ]
    },
    {
     "name": "stderr",
     "output_type": "stream",
     "text": [
      "s:\\Pizza\\.venv\\Lib\\site-packages\\xgboost\\core.py:158: UserWarning: [08:08:34] WARNING: C:\\buildkite-agent\\builds\\buildkite-windows-cpu-autoscaling-group-i-06abd128ca6c1688d-1\\xgboost\\xgboost-ci-windows\\src\\objective\\regression_obj.cu:227: reg:linear is now deprecated in favor of reg:squarederror.\n",
      "  warnings.warn(smsg, UserWarning)\n"
     ]
    },
    {
     "name": "stdout",
     "output_type": "stream",
     "text": [
      "[200]\tvalidation_0-rmse:0.99393\tvalidation_1-rmse:0.12027\n",
      "[300]\tvalidation_0-rmse:0.80784\tvalidation_1-rmse:0.08237\n",
      "[399]\tvalidation_0-rmse:0.73806\tvalidation_1-rmse:0.06771\n",
      "Processing napolitana_s...\n",
      "[0]\tvalidation_0-rmse:3.49321\tvalidation_1-rmse:2.26244\n",
      "[100]\tvalidation_0-rmse:1.66936\tvalidation_1-rmse:0.24392\n",
      "[163]\tvalidation_0-rmse:1.18374\tvalidation_1-rmse:0.43474\n"
     ]
    },
    {
     "name": "stderr",
     "output_type": "stream",
     "text": [
      "s:\\Pizza\\.venv\\Lib\\site-packages\\xgboost\\core.py:158: UserWarning: [08:08:34] WARNING: C:\\buildkite-agent\\builds\\buildkite-windows-cpu-autoscaling-group-i-06abd128ca6c1688d-1\\xgboost\\xgboost-ci-windows\\src\\objective\\regression_obj.cu:227: reg:linear is now deprecated in favor of reg:squarederror.\n",
      "  warnings.warn(smsg, UserWarning)\n"
     ]
    },
    {
     "name": "stdout",
     "output_type": "stream",
     "text": [
      "[0]\tvalidation_0-rmse:3.48438\tvalidation_1-rmse:2.26281\n",
      "[100]\tvalidation_0-rmse:1.66713\tvalidation_1-rmse:0.47769\n"
     ]
    },
    {
     "name": "stderr",
     "output_type": "stream",
     "text": [
      "s:\\Pizza\\.venv\\Lib\\site-packages\\xgboost\\core.py:158: UserWarning: [08:08:35] WARNING: C:\\buildkite-agent\\builds\\buildkite-windows-cpu-autoscaling-group-i-06abd128ca6c1688d-1\\xgboost\\xgboost-ci-windows\\src\\objective\\regression_obj.cu:227: reg:linear is now deprecated in favor of reg:squarederror.\n",
      "  warnings.warn(smsg, UserWarning)\n"
     ]
    },
    {
     "name": "stdout",
     "output_type": "stream",
     "text": [
      "[200]\tvalidation_0-rmse:1.01841\tvalidation_1-rmse:0.25664\n",
      "[204]\tvalidation_0-rmse:1.00455\tvalidation_1-rmse:0.26716\n",
      "[0]\tvalidation_0-rmse:3.47569\tvalidation_1-rmse:0.49569\n",
      "[100]\tvalidation_0-rmse:1.66291\tvalidation_1-rmse:0.22522\n"
     ]
    },
    {
     "name": "stderr",
     "output_type": "stream",
     "text": [
      "s:\\Pizza\\.venv\\Lib\\site-packages\\xgboost\\core.py:158: UserWarning: [08:08:35] WARNING: C:\\buildkite-agent\\builds\\buildkite-windows-cpu-autoscaling-group-i-06abd128ca6c1688d-1\\xgboost\\xgboost-ci-windows\\src\\objective\\regression_obj.cu:227: reg:linear is now deprecated in favor of reg:squarederror.\n",
      "  warnings.warn(smsg, UserWarning)\n"
     ]
    },
    {
     "name": "stdout",
     "output_type": "stream",
     "text": [
      "[200]\tvalidation_0-rmse:1.01377\tvalidation_1-rmse:0.11909\n",
      "[300]\tvalidation_0-rmse:0.81088\tvalidation_1-rmse:0.07097\n",
      "[399]\tvalidation_0-rmse:0.71477\tvalidation_1-rmse:0.03728\n",
      "Processing spicy_ital_m...\n",
      "[0]\tvalidation_0-rmse:3.48095\tvalidation_1-rmse:0.49522\n",
      "[100]\tvalidation_0-rmse:1.56665\tvalidation_1-rmse:0.19753\n"
     ]
    },
    {
     "name": "stderr",
     "output_type": "stream",
     "text": [
      "s:\\Pizza\\.venv\\Lib\\site-packages\\xgboost\\core.py:158: UserWarning: [08:08:36] WARNING: C:\\buildkite-agent\\builds\\buildkite-windows-cpu-autoscaling-group-i-06abd128ca6c1688d-1\\xgboost\\xgboost-ci-windows\\src\\objective\\regression_obj.cu:227: reg:linear is now deprecated in favor of reg:squarederror.\n",
      "  warnings.warn(smsg, UserWarning)\n"
     ]
    },
    {
     "name": "stdout",
     "output_type": "stream",
     "text": [
      "[200]\tvalidation_0-rmse:0.84901\tvalidation_1-rmse:0.08461\n",
      "[300]\tvalidation_0-rmse:0.58121\tvalidation_1-rmse:0.04442\n",
      "[399]\tvalidation_0-rmse:0.48054\tvalidation_1-rmse:0.03030\n",
      "[0]\tvalidation_0-rmse:3.46351\tvalidation_1-rmse:0.49522\n",
      "[100]\tvalidation_0-rmse:1.55875\tvalidation_1-rmse:0.19734\n"
     ]
    },
    {
     "name": "stderr",
     "output_type": "stream",
     "text": [
      "s:\\Pizza\\.venv\\Lib\\site-packages\\xgboost\\core.py:158: UserWarning: [08:08:36] WARNING: C:\\buildkite-agent\\builds\\buildkite-windows-cpu-autoscaling-group-i-06abd128ca6c1688d-1\\xgboost\\xgboost-ci-windows\\src\\objective\\regression_obj.cu:227: reg:linear is now deprecated in favor of reg:squarederror.\n",
      "  warnings.warn(smsg, UserWarning)\n"
     ]
    },
    {
     "name": "stdout",
     "output_type": "stream",
     "text": [
      "[200]\tvalidation_0-rmse:0.84470\tvalidation_1-rmse:0.08439\n",
      "[300]\tvalidation_0-rmse:0.57824\tvalidation_1-rmse:0.04418\n",
      "[399]\tvalidation_0-rmse:0.47808\tvalidation_1-rmse:0.02999\n",
      "[0]\tvalidation_0-rmse:3.44633\tvalidation_1-rmse:2.74684\n",
      "[100]\tvalidation_0-rmse:1.55096\tvalidation_1-rmse:0.79406\n"
     ]
    },
    {
     "name": "stderr",
     "output_type": "stream",
     "text": [
      "s:\\Pizza\\.venv\\Lib\\site-packages\\xgboost\\core.py:158: UserWarning: [08:08:37] WARNING: C:\\buildkite-agent\\builds\\buildkite-windows-cpu-autoscaling-group-i-06abd128ca6c1688d-1\\xgboost\\xgboost-ci-windows\\src\\objective\\regression_obj.cu:227: reg:linear is now deprecated in favor of reg:squarederror.\n",
      "  warnings.warn(smsg, UserWarning)\n"
     ]
    },
    {
     "name": "stdout",
     "output_type": "stream",
     "text": [
      "[200]\tvalidation_0-rmse:0.84045\tvalidation_1-rmse:0.46041\n",
      "[300]\tvalidation_0-rmse:0.57523\tvalidation_1-rmse:0.03797\n",
      "[350]\tvalidation_0-rmse:0.51434\tvalidation_1-rmse:0.06760\n",
      "Processing ital_veggie_m...\n",
      "[0]\tvalidation_0-rmse:3.19435\tvalidation_1-rmse:15.40459\n",
      "[100]\tvalidation_0-rmse:1.42224\tvalidation_1-rmse:9.54237\n"
     ]
    },
    {
     "name": "stderr",
     "output_type": "stream",
     "text": [
      "s:\\Pizza\\.venv\\Lib\\site-packages\\xgboost\\core.py:158: UserWarning: [08:08:38] WARNING: C:\\buildkite-agent\\builds\\buildkite-windows-cpu-autoscaling-group-i-06abd128ca6c1688d-1\\xgboost\\xgboost-ci-windows\\src\\objective\\regression_obj.cu:227: reg:linear is now deprecated in favor of reg:squarederror.\n",
      "  warnings.warn(smsg, UserWarning)\n"
     ]
    },
    {
     "name": "stdout",
     "output_type": "stream",
     "text": [
      "[200]\tvalidation_0-rmse:0.77823\tvalidation_1-rmse:7.64100\n",
      "[300]\tvalidation_0-rmse:0.55397\tvalidation_1-rmse:6.01138\n",
      "[399]\tvalidation_0-rmse:0.46037\tvalidation_1-rmse:5.18940\n",
      "[0]\tvalidation_0-rmse:3.47940\tvalidation_1-rmse:0.49532\n",
      "[100]\tvalidation_0-rmse:1.54663\tvalidation_1-rmse:0.20124\n"
     ]
    },
    {
     "name": "stderr",
     "output_type": "stream",
     "text": [
      "s:\\Pizza\\.venv\\Lib\\site-packages\\xgboost\\core.py:158: UserWarning: [08:08:38] WARNING: C:\\buildkite-agent\\builds\\buildkite-windows-cpu-autoscaling-group-i-06abd128ca6c1688d-1\\xgboost\\xgboost-ci-windows\\src\\objective\\regression_obj.cu:227: reg:linear is now deprecated in favor of reg:squarederror.\n",
      "  warnings.warn(smsg, UserWarning)\n"
     ]
    },
    {
     "name": "stdout",
     "output_type": "stream",
     "text": [
      "[200]\tvalidation_0-rmse:0.86004\tvalidation_1-rmse:0.09400\n",
      "[300]\tvalidation_0-rmse:0.60127\tvalidation_1-rmse:0.04810\n",
      "[399]\tvalidation_0-rmse:0.46004\tvalidation_1-rmse:0.02555\n",
      "[0]\tvalidation_0-rmse:3.46514\tvalidation_1-rmse:0.49532\n",
      "[100]\tvalidation_0-rmse:1.54025\tvalidation_1-rmse:0.20105\n"
     ]
    },
    {
     "name": "stderr",
     "output_type": "stream",
     "text": [
      "s:\\Pizza\\.venv\\Lib\\site-packages\\xgboost\\core.py:158: UserWarning: [08:08:39] WARNING: C:\\buildkite-agent\\builds\\buildkite-windows-cpu-autoscaling-group-i-06abd128ca6c1688d-1\\xgboost\\xgboost-ci-windows\\src\\objective\\regression_obj.cu:227: reg:linear is now deprecated in favor of reg:squarederror.\n",
      "  warnings.warn(smsg, UserWarning)\n"
     ]
    },
    {
     "name": "stdout",
     "output_type": "stream",
     "text": [
      "[200]\tvalidation_0-rmse:0.85647\tvalidation_1-rmse:0.09374\n",
      "[300]\tvalidation_0-rmse:0.59876\tvalidation_1-rmse:0.04787\n",
      "[399]\tvalidation_0-rmse:0.45811\tvalidation_1-rmse:0.02539\n",
      "Processing ital_cpcllo_s...\n",
      "[0]\tvalidation_0-rmse:2.09796\tvalidation_1-rmse:4.59548\n",
      "[100]\tvalidation_0-rmse:1.32545\tvalidation_1-rmse:3.14447\n"
     ]
    },
    {
     "name": "stderr",
     "output_type": "stream",
     "text": [
      "s:\\Pizza\\.venv\\Lib\\site-packages\\xgboost\\core.py:158: UserWarning: [08:08:39] WARNING: C:\\buildkite-agent\\builds\\buildkite-windows-cpu-autoscaling-group-i-06abd128ca6c1688d-1\\xgboost\\xgboost-ci-windows\\src\\objective\\regression_obj.cu:227: reg:linear is now deprecated in favor of reg:squarederror.\n",
      "  warnings.warn(smsg, UserWarning)\n"
     ]
    },
    {
     "name": "stdout",
     "output_type": "stream",
     "text": [
      "[200]\tvalidation_0-rmse:1.09883\tvalidation_1-rmse:2.56808\n",
      "[300]\tvalidation_0-rmse:1.01828\tvalidation_1-rmse:2.00645\n",
      "[399]\tvalidation_0-rmse:0.97300\tvalidation_1-rmse:1.89154\n",
      "[0]\tvalidation_0-rmse:2.15113\tvalidation_1-rmse:1.77318\n",
      "[100]\tvalidation_0-rmse:1.34109\tvalidation_1-rmse:0.25266\n",
      "[160]\tvalidation_0-rmse:1.16727\tvalidation_1-rmse:0.44628\n"
     ]
    },
    {
     "name": "stderr",
     "output_type": "stream",
     "text": [
      "s:\\Pizza\\.venv\\Lib\\site-packages\\xgboost\\core.py:158: UserWarning: [08:08:40] WARNING: C:\\buildkite-agent\\builds\\buildkite-windows-cpu-autoscaling-group-i-06abd128ca6c1688d-1\\xgboost\\xgboost-ci-windows\\src\\objective\\regression_obj.cu:227: reg:linear is now deprecated in favor of reg:squarederror.\n",
      "  warnings.warn(smsg, UserWarning)\n"
     ]
    },
    {
     "name": "stdout",
     "output_type": "stream",
     "text": [
      "[0]\tvalidation_0-rmse:2.14668\tvalidation_1-rmse:0.49647\n",
      "[100]\tvalidation_0-rmse:1.33495\tvalidation_1-rmse:0.27425\n"
     ]
    },
    {
     "name": "stderr",
     "output_type": "stream",
     "text": [
      "s:\\Pizza\\.venv\\Lib\\site-packages\\xgboost\\core.py:158: UserWarning: [08:08:40] WARNING: C:\\buildkite-agent\\builds\\buildkite-windows-cpu-autoscaling-group-i-06abd128ca6c1688d-1\\xgboost\\xgboost-ci-windows\\src\\objective\\regression_obj.cu:227: reg:linear is now deprecated in favor of reg:squarederror.\n",
      "  warnings.warn(smsg, UserWarning)\n"
     ]
    },
    {
     "name": "stdout",
     "output_type": "stream",
     "text": [
      "[200]\tvalidation_0-rmse:1.10192\tvalidation_1-rmse:0.18650\n",
      "[262]\tvalidation_0-rmse:1.03827\tvalidation_1-rmse:0.18431\n",
      "Processing mediterraneo_s...\n",
      "[0]\tvalidation_0-rmse:1.98449\tvalidation_1-rmse:0.49654\n",
      "[100]\tvalidation_0-rmse:1.24320\tvalidation_1-rmse:0.27921\n"
     ]
    },
    {
     "name": "stderr",
     "output_type": "stream",
     "text": [
      "s:\\Pizza\\.venv\\Lib\\site-packages\\xgboost\\core.py:158: UserWarning: [08:08:41] WARNING: C:\\buildkite-agent\\builds\\buildkite-windows-cpu-autoscaling-group-i-06abd128ca6c1688d-1\\xgboost\\xgboost-ci-windows\\src\\objective\\regression_obj.cu:227: reg:linear is now deprecated in favor of reg:squarederror.\n",
      "  warnings.warn(smsg, UserWarning)\n"
     ]
    },
    {
     "name": "stdout",
     "output_type": "stream",
     "text": [
      "[200]\tvalidation_0-rmse:1.04059\tvalidation_1-rmse:0.19961\n",
      "[300]\tvalidation_0-rmse:0.95549\tvalidation_1-rmse:0.15449\n",
      "[399]\tvalidation_0-rmse:0.87068\tvalidation_1-rmse:0.10833\n",
      "[0]\tvalidation_0-rmse:1.97116\tvalidation_1-rmse:0.49652\n",
      "[100]\tvalidation_0-rmse:1.23460\tvalidation_1-rmse:0.27770\n",
      "[200]\tvalidation_0-rmse:1.03332\tvalidation_1-rmse:0.19612\n"
     ]
    },
    {
     "name": "stderr",
     "output_type": "stream",
     "text": [
      "s:\\Pizza\\.venv\\Lib\\site-packages\\xgboost\\core.py:158: UserWarning: [08:08:42] WARNING: C:\\buildkite-agent\\builds\\buildkite-windows-cpu-autoscaling-group-i-06abd128ca6c1688d-1\\xgboost\\xgboost-ci-windows\\src\\objective\\regression_obj.cu:227: reg:linear is now deprecated in favor of reg:squarederror.\n",
      "  warnings.warn(smsg, UserWarning)\n"
     ]
    },
    {
     "name": "stdout",
     "output_type": "stream",
     "text": [
      "[300]\tvalidation_0-rmse:0.95280\tvalidation_1-rmse:0.14801\n",
      "[399]\tvalidation_0-rmse:0.86698\tvalidation_1-rmse:0.10512\n",
      "[0]\tvalidation_0-rmse:1.95811\tvalidation_1-rmse:0.49650\n",
      "[100]\tvalidation_0-rmse:1.22617\tvalidation_1-rmse:0.27623\n"
     ]
    },
    {
     "name": "stderr",
     "output_type": "stream",
     "text": [
      "s:\\Pizza\\.venv\\Lib\\site-packages\\xgboost\\core.py:158: UserWarning: [08:08:42] WARNING: C:\\buildkite-agent\\builds\\buildkite-windows-cpu-autoscaling-group-i-06abd128ca6c1688d-1\\xgboost\\xgboost-ci-windows\\src\\objective\\regression_obj.cu:227: reg:linear is now deprecated in favor of reg:squarederror.\n",
      "  warnings.warn(smsg, UserWarning)\n"
     ]
    },
    {
     "name": "stdout",
     "output_type": "stream",
     "text": [
      "[200]\tvalidation_0-rmse:1.02619\tvalidation_1-rmse:0.19274\n",
      "[300]\tvalidation_0-rmse:0.95033\tvalidation_1-rmse:0.14156\n",
      "[399]\tvalidation_0-rmse:0.86209\tvalidation_1-rmse:0.09968\n",
      "Processing spinach_fet_m...\n",
      "[0]\tvalidation_0-rmse:4.13457\tvalidation_1-rmse:0.49617\n",
      "[100]\tvalidation_0-rmse:2.13386\tvalidation_1-rmse:0.25580\n"
     ]
    },
    {
     "name": "stderr",
     "output_type": "stream",
     "text": [
      "s:\\Pizza\\.venv\\Lib\\site-packages\\xgboost\\core.py:158: UserWarning: [08:08:43] WARNING: C:\\buildkite-agent\\builds\\buildkite-windows-cpu-autoscaling-group-i-06abd128ca6c1688d-1\\xgboost\\xgboost-ci-windows\\src\\objective\\regression_obj.cu:227: reg:linear is now deprecated in favor of reg:squarederror.\n",
      "  warnings.warn(smsg, UserWarning)\n"
     ]
    },
    {
     "name": "stdout",
     "output_type": "stream",
     "text": [
      "[200]\tvalidation_0-rmse:1.54645\tvalidation_1-rmse:0.16838\n",
      "[300]\tvalidation_0-rmse:1.37877\tvalidation_1-rmse:0.13864\n",
      "[371]\tvalidation_0-rmse:1.31953\tvalidation_1-rmse:0.15456\n",
      "[0]\tvalidation_0-rmse:4.11972\tvalidation_1-rmse:4.21681\n",
      "[100]\tvalidation_0-rmse:2.12616\tvalidation_1-rmse:1.23687\n"
     ]
    },
    {
     "name": "stderr",
     "output_type": "stream",
     "text": [
      "s:\\Pizza\\.venv\\Lib\\site-packages\\xgboost\\core.py:158: UserWarning: [08:08:43] WARNING: C:\\buildkite-agent\\builds\\buildkite-windows-cpu-autoscaling-group-i-06abd128ca6c1688d-1\\xgboost\\xgboost-ci-windows\\src\\objective\\regression_obj.cu:227: reg:linear is now deprecated in favor of reg:squarederror.\n",
      "  warnings.warn(smsg, UserWarning)\n"
     ]
    },
    {
     "name": "stdout",
     "output_type": "stream",
     "text": [
      "[200]\tvalidation_0-rmse:1.54086\tvalidation_1-rmse:0.44461\n",
      "[300]\tvalidation_0-rmse:1.37402\tvalidation_1-rmse:0.14310\n",
      "[380]\tvalidation_0-rmse:1.30983\tvalidation_1-rmse:0.13542\n",
      "[0]\tvalidation_0-rmse:4.12055\tvalidation_1-rmse:0.49616\n",
      "[100]\tvalidation_0-rmse:2.12208\tvalidation_1-rmse:0.25498\n"
     ]
    },
    {
     "name": "stderr",
     "output_type": "stream",
     "text": [
      "s:\\Pizza\\.venv\\Lib\\site-packages\\xgboost\\core.py:158: UserWarning: [08:08:44] WARNING: C:\\buildkite-agent\\builds\\buildkite-windows-cpu-autoscaling-group-i-06abd128ca6c1688d-1\\xgboost\\xgboost-ci-windows\\src\\objective\\regression_obj.cu:227: reg:linear is now deprecated in favor of reg:squarederror.\n",
      "  warnings.warn(smsg, UserWarning)\n"
     ]
    },
    {
     "name": "stdout",
     "output_type": "stream",
     "text": [
      "[200]\tvalidation_0-rmse:1.54033\tvalidation_1-rmse:0.16691\n",
      "[300]\tvalidation_0-rmse:1.37130\tvalidation_1-rmse:0.13447\n",
      "[399]\tvalidation_0-rmse:1.29629\tvalidation_1-rmse:0.13855\n",
      "Processing napolitana_m...\n",
      "[0]\tvalidation_0-rmse:3.27303\tvalidation_1-rmse:4.72657\n",
      "[100]\tvalidation_0-rmse:1.44042\tvalidation_1-rmse:2.79035\n"
     ]
    },
    {
     "name": "stderr",
     "output_type": "stream",
     "text": [
      "s:\\Pizza\\.venv\\Lib\\site-packages\\xgboost\\core.py:158: UserWarning: [08:08:45] WARNING: C:\\buildkite-agent\\builds\\buildkite-windows-cpu-autoscaling-group-i-06abd128ca6c1688d-1\\xgboost\\xgboost-ci-windows\\src\\objective\\regression_obj.cu:227: reg:linear is now deprecated in favor of reg:squarederror.\n",
      "  warnings.warn(smsg, UserWarning)\n"
     ]
    },
    {
     "name": "stdout",
     "output_type": "stream",
     "text": [
      "[200]\tvalidation_0-rmse:0.76280\tvalidation_1-rmse:2.19939\n",
      "[300]\tvalidation_0-rmse:0.51574\tvalidation_1-rmse:1.84854\n",
      "[399]\tvalidation_0-rmse:0.41483\tvalidation_1-rmse:1.76586\n",
      "[0]\tvalidation_0-rmse:3.28993\tvalidation_1-rmse:6.66586\n",
      "[100]\tvalidation_0-rmse:1.44463\tvalidation_1-rmse:2.85873\n"
     ]
    },
    {
     "name": "stderr",
     "output_type": "stream",
     "text": [
      "s:\\Pizza\\.venv\\Lib\\site-packages\\xgboost\\core.py:158: UserWarning: [08:08:45] WARNING: C:\\buildkite-agent\\builds\\buildkite-windows-cpu-autoscaling-group-i-06abd128ca6c1688d-1\\xgboost\\xgboost-ci-windows\\src\\objective\\regression_obj.cu:227: reg:linear is now deprecated in favor of reg:squarederror.\n",
      "  warnings.warn(smsg, UserWarning)\n"
     ]
    },
    {
     "name": "stdout",
     "output_type": "stream",
     "text": [
      "[200]\tvalidation_0-rmse:0.76260\tvalidation_1-rmse:1.58446\n",
      "[300]\tvalidation_0-rmse:0.51041\tvalidation_1-rmse:0.71905\n",
      "[399]\tvalidation_0-rmse:0.41141\tvalidation_1-rmse:0.34426\n",
      "[0]\tvalidation_0-rmse:3.33789\tvalidation_1-rmse:0.49518\n",
      "[100]\tvalidation_0-rmse:1.45791\tvalidation_1-rmse:0.19234\n"
     ]
    },
    {
     "name": "stderr",
     "output_type": "stream",
     "text": [
      "s:\\Pizza\\.venv\\Lib\\site-packages\\xgboost\\core.py:158: UserWarning: [08:08:46] WARNING: C:\\buildkite-agent\\builds\\buildkite-windows-cpu-autoscaling-group-i-06abd128ca6c1688d-1\\xgboost\\xgboost-ci-windows\\src\\objective\\regression_obj.cu:227: reg:linear is now deprecated in favor of reg:squarederror.\n",
      "  warnings.warn(smsg, UserWarning)\n"
     ]
    },
    {
     "name": "stdout",
     "output_type": "stream",
     "text": [
      "[200]\tvalidation_0-rmse:0.76702\tvalidation_1-rmse:0.08040\n",
      "[300]\tvalidation_0-rmse:0.50568\tvalidation_1-rmse:0.03719\n",
      "[399]\tvalidation_0-rmse:0.40733\tvalidation_1-rmse:0.01848\n",
      "Processing spin_pesto_m...\n",
      "[0]\tvalidation_0-rmse:2.61592\tvalidation_1-rmse:3.75411\n",
      "[100]\tvalidation_0-rmse:1.52465\tvalidation_1-rmse:2.29962\n"
     ]
    },
    {
     "name": "stderr",
     "output_type": "stream",
     "text": [
      "s:\\Pizza\\.venv\\Lib\\site-packages\\xgboost\\core.py:158: UserWarning: [08:08:47] WARNING: C:\\buildkite-agent\\builds\\buildkite-windows-cpu-autoscaling-group-i-06abd128ca6c1688d-1\\xgboost\\xgboost-ci-windows\\src\\objective\\regression_obj.cu:227: reg:linear is now deprecated in favor of reg:squarederror.\n",
      "  warnings.warn(smsg, UserWarning)\n"
     ]
    },
    {
     "name": "stdout",
     "output_type": "stream",
     "text": [
      "[200]\tvalidation_0-rmse:1.21011\tvalidation_1-rmse:1.91776\n",
      "[300]\tvalidation_0-rmse:1.11277\tvalidation_1-rmse:1.83528\n",
      "[361]\tvalidation_0-rmse:1.08025\tvalidation_1-rmse:1.85456\n",
      "[0]\tvalidation_0-rmse:2.63579\tvalidation_1-rmse:1.79562\n",
      "[100]\tvalidation_0-rmse:1.52393\tvalidation_1-rmse:1.28487\n"
     ]
    },
    {
     "name": "stderr",
     "output_type": "stream",
     "text": [
      "s:\\Pizza\\.venv\\Lib\\site-packages\\xgboost\\core.py:158: UserWarning: [08:08:47] WARNING: C:\\buildkite-agent\\builds\\buildkite-windows-cpu-autoscaling-group-i-06abd128ca6c1688d-1\\xgboost\\xgboost-ci-windows\\src\\objective\\regression_obj.cu:227: reg:linear is now deprecated in favor of reg:squarederror.\n",
      "  warnings.warn(smsg, UserWarning)\n"
     ]
    },
    {
     "name": "stdout",
     "output_type": "stream",
     "text": [
      "[200]\tvalidation_0-rmse:1.20844\tvalidation_1-rmse:0.96667\n",
      "[300]\tvalidation_0-rmse:1.10937\tvalidation_1-rmse:0.88546\n",
      "[399]\tvalidation_0-rmse:1.05937\tvalidation_1-rmse:0.84412\n",
      "[0]\tvalidation_0-rmse:2.62552\tvalidation_1-rmse:0.49671\n",
      "[100]\tvalidation_0-rmse:1.51735\tvalidation_1-rmse:0.28972\n"
     ]
    },
    {
     "name": "stderr",
     "output_type": "stream",
     "text": [
      "s:\\Pizza\\.venv\\Lib\\site-packages\\xgboost\\core.py:158: UserWarning: [08:08:48] WARNING: C:\\buildkite-agent\\builds\\buildkite-windows-cpu-autoscaling-group-i-06abd128ca6c1688d-1\\xgboost\\xgboost-ci-windows\\src\\objective\\regression_obj.cu:227: reg:linear is now deprecated in favor of reg:squarederror.\n",
      "  warnings.warn(smsg, UserWarning)\n"
     ]
    },
    {
     "name": "stdout",
     "output_type": "stream",
     "text": [
      "[188]\tvalidation_0-rmse:1.22322\tvalidation_1-rmse:0.33516\n",
      "Processing brie_carre_s...\n",
      "[0]\tvalidation_0-rmse:4.08162\tvalidation_1-rmse:0.49618\n",
      "[100]\tvalidation_0-rmse:2.02926\tvalidation_1-rmse:0.25590\n"
     ]
    },
    {
     "name": "stderr",
     "output_type": "stream",
     "text": [
      "s:\\Pizza\\.venv\\Lib\\site-packages\\xgboost\\core.py:158: UserWarning: [08:08:48] WARNING: C:\\buildkite-agent\\builds\\buildkite-windows-cpu-autoscaling-group-i-06abd128ca6c1688d-1\\xgboost\\xgboost-ci-windows\\src\\objective\\regression_obj.cu:227: reg:linear is now deprecated in favor of reg:squarederror.\n",
      "  warnings.warn(smsg, UserWarning)\n"
     ]
    },
    {
     "name": "stdout",
     "output_type": "stream",
     "text": [
      "[200]\tvalidation_0-rmse:1.38623\tvalidation_1-rmse:0.15190\n",
      "[300]\tvalidation_0-rmse:1.17962\tvalidation_1-rmse:0.10302\n",
      "[399]\tvalidation_0-rmse:1.08940\tvalidation_1-rmse:0.08550\n",
      "[0]\tvalidation_0-rmse:4.06455\tvalidation_1-rmse:2.27777\n",
      "[100]\tvalidation_0-rmse:2.02074\tvalidation_1-rmse:0.90265\n"
     ]
    },
    {
     "name": "stderr",
     "output_type": "stream",
     "text": [
      "s:\\Pizza\\.venv\\Lib\\site-packages\\xgboost\\core.py:158: UserWarning: [08:08:49] WARNING: C:\\buildkite-agent\\builds\\buildkite-windows-cpu-autoscaling-group-i-06abd128ca6c1688d-1\\xgboost\\xgboost-ci-windows\\src\\objective\\regression_obj.cu:227: reg:linear is now deprecated in favor of reg:squarederror.\n",
      "  warnings.warn(smsg, UserWarning)\n"
     ]
    },
    {
     "name": "stdout",
     "output_type": "stream",
     "text": [
      "[200]\tvalidation_0-rmse:1.38037\tvalidation_1-rmse:0.15765\n",
      "[238]\tvalidation_0-rmse:1.27906\tvalidation_1-rmse:0.24697\n",
      "[0]\tvalidation_0-rmse:4.05279\tvalidation_1-rmse:0.49616\n",
      "[100]\tvalidation_0-rmse:2.03227\tvalidation_1-rmse:0.25463\n"
     ]
    },
    {
     "name": "stderr",
     "output_type": "stream",
     "text": [
      "s:\\Pizza\\.venv\\Lib\\site-packages\\xgboost\\core.py:158: UserWarning: [08:08:49] WARNING: C:\\buildkite-agent\\builds\\buildkite-windows-cpu-autoscaling-group-i-06abd128ca6c1688d-1\\xgboost\\xgboost-ci-windows\\src\\objective\\regression_obj.cu:227: reg:linear is now deprecated in favor of reg:squarederror.\n",
      "  warnings.warn(smsg, UserWarning)\n"
     ]
    },
    {
     "name": "stdout",
     "output_type": "stream",
     "text": [
      "[200]\tvalidation_0-rmse:1.37646\tvalidation_1-rmse:0.15105\n",
      "[300]\tvalidation_0-rmse:1.16176\tvalidation_1-rmse:0.10180\n",
      "[399]\tvalidation_0-rmse:1.06947\tvalidation_1-rmse:0.08211\n",
      "Processing ckn_alfredo_l...\n",
      "[0]\tvalidation_0-rmse:1.60187\tvalidation_1-rmse:3.20352\n",
      "[50]\tvalidation_0-rmse:1.28630\tvalidation_1-rmse:3.28153\n",
      "[0]\tvalidation_0-rmse:1.65476\tvalidation_1-rmse:0.85950\n"
     ]
    },
    {
     "name": "stderr",
     "output_type": "stream",
     "text": [
      "s:\\Pizza\\.venv\\Lib\\site-packages\\xgboost\\core.py:158: UserWarning: [08:08:50] WARNING: C:\\buildkite-agent\\builds\\buildkite-windows-cpu-autoscaling-group-i-06abd128ca6c1688d-1\\xgboost\\xgboost-ci-windows\\src\\objective\\regression_obj.cu:227: reg:linear is now deprecated in favor of reg:squarederror.\n",
      "  warnings.warn(smsg, UserWarning)\n",
      "s:\\Pizza\\.venv\\Lib\\site-packages\\xgboost\\core.py:158: UserWarning: [08:08:50] WARNING: C:\\buildkite-agent\\builds\\buildkite-windows-cpu-autoscaling-group-i-06abd128ca6c1688d-1\\xgboost\\xgboost-ci-windows\\src\\objective\\regression_obj.cu:227: reg:linear is now deprecated in favor of reg:squarederror.\n",
      "  warnings.warn(smsg, UserWarning)\n"
     ]
    },
    {
     "name": "stdout",
     "output_type": "stream",
     "text": [
      "[100]\tvalidation_0-rmse:1.21388\tvalidation_1-rmse:0.31637\n",
      "[180]\tvalidation_0-rmse:1.10529\tvalidation_1-rmse:0.34529\n",
      "[0]\tvalidation_0-rmse:1.64148\tvalidation_1-rmse:0.49738\n",
      "[100]\tvalidation_0-rmse:1.20187\tvalidation_1-rmse:0.33268\n"
     ]
    },
    {
     "name": "stderr",
     "output_type": "stream",
     "text": [
      "s:\\Pizza\\.venv\\Lib\\site-packages\\xgboost\\core.py:158: UserWarning: [08:08:50] WARNING: C:\\buildkite-agent\\builds\\buildkite-windows-cpu-autoscaling-group-i-06abd128ca6c1688d-1\\xgboost\\xgboost-ci-windows\\src\\objective\\regression_obj.cu:227: reg:linear is now deprecated in favor of reg:squarederror.\n",
      "  warnings.warn(smsg, UserWarning)\n"
     ]
    },
    {
     "name": "stdout",
     "output_type": "stream",
     "text": [
      "[200]\tvalidation_0-rmse:1.07889\tvalidation_1-rmse:0.29052\n",
      "[278]\tvalidation_0-rmse:1.03847\tvalidation_1-rmse:0.29575\n",
      "Processing calabrese_s...\n",
      "[0]\tvalidation_0-rmse:0.87781\tvalidation_1-rmse:1.32364\n",
      "[49]\tvalidation_0-rmse:0.70143\tvalidation_1-rmse:1.36233\n",
      "[0]\tvalidation_0-rmse:0.90179\tvalidation_1-rmse:0.49605\n"
     ]
    },
    {
     "name": "stderr",
     "output_type": "stream",
     "text": [
      "s:\\Pizza\\.venv\\Lib\\site-packages\\xgboost\\core.py:158: UserWarning: [08:08:51] WARNING: C:\\buildkite-agent\\builds\\buildkite-windows-cpu-autoscaling-group-i-06abd128ca6c1688d-1\\xgboost\\xgboost-ci-windows\\src\\objective\\regression_obj.cu:227: reg:linear is now deprecated in favor of reg:squarederror.\n",
      "  warnings.warn(smsg, UserWarning)\n",
      "s:\\Pizza\\.venv\\Lib\\site-packages\\xgboost\\core.py:158: UserWarning: [08:08:51] WARNING: C:\\buildkite-agent\\builds\\buildkite-windows-cpu-autoscaling-group-i-06abd128ca6c1688d-1\\xgboost\\xgboost-ci-windows\\src\\objective\\regression_obj.cu:227: reg:linear is now deprecated in favor of reg:squarederror.\n",
      "  warnings.warn(smsg, UserWarning)\n"
     ]
    },
    {
     "name": "stdout",
     "output_type": "stream",
     "text": [
      "[100]\tvalidation_0-rmse:0.62424\tvalidation_1-rmse:0.27366\n",
      "[200]\tvalidation_0-rmse:0.53581\tvalidation_1-rmse:0.17212\n",
      "[300]\tvalidation_0-rmse:0.50767\tvalidation_1-rmse:0.13301\n",
      "[399]\tvalidation_0-rmse:0.47981\tvalidation_1-rmse:0.11629\n",
      "[0]\tvalidation_0-rmse:0.88843\tvalidation_1-rmse:0.86634\n",
      "[49]\tvalidation_0-rmse:0.71617\tvalidation_1-rmse:0.88949\n",
      "Processing the_greek_l...\n",
      "[0]\tvalidation_0-rmse:1.95698\tvalidation_1-rmse:0.49653\n"
     ]
    },
    {
     "name": "stderr",
     "output_type": "stream",
     "text": [
      "s:\\Pizza\\.venv\\Lib\\site-packages\\xgboost\\core.py:158: UserWarning: [08:08:51] WARNING: C:\\buildkite-agent\\builds\\buildkite-windows-cpu-autoscaling-group-i-06abd128ca6c1688d-1\\xgboost\\xgboost-ci-windows\\src\\objective\\regression_obj.cu:227: reg:linear is now deprecated in favor of reg:squarederror.\n",
      "  warnings.warn(smsg, UserWarning)\n",
      "s:\\Pizza\\.venv\\Lib\\site-packages\\xgboost\\core.py:158: UserWarning: [08:08:52] WARNING: C:\\buildkite-agent\\builds\\buildkite-windows-cpu-autoscaling-group-i-06abd128ca6c1688d-1\\xgboost\\xgboost-ci-windows\\src\\objective\\regression_obj.cu:227: reg:linear is now deprecated in favor of reg:squarederror.\n",
      "  warnings.warn(smsg, UserWarning)\n"
     ]
    },
    {
     "name": "stdout",
     "output_type": "stream",
     "text": [
      "[100]\tvalidation_0-rmse:1.37568\tvalidation_1-rmse:0.27263\n",
      "[200]\tvalidation_0-rmse:1.23518\tvalidation_1-rmse:0.17727\n",
      "[300]\tvalidation_0-rmse:1.18175\tvalidation_1-rmse:0.14170\n",
      "[399]\tvalidation_0-rmse:1.14211\tvalidation_1-rmse:0.11561\n",
      "[0]\tvalidation_0-rmse:1.94209\tvalidation_1-rmse:1.77381\n",
      "[100]\tvalidation_0-rmse:1.36480\tvalidation_1-rmse:0.34421\n",
      "[132]\tvalidation_0-rmse:1.29742\tvalidation_1-rmse:0.63393\n"
     ]
    },
    {
     "name": "stderr",
     "output_type": "stream",
     "text": [
      "s:\\Pizza\\.venv\\Lib\\site-packages\\xgboost\\core.py:158: UserWarning: [08:08:52] WARNING: C:\\buildkite-agent\\builds\\buildkite-windows-cpu-autoscaling-group-i-06abd128ca6c1688d-1\\xgboost\\xgboost-ci-windows\\src\\objective\\regression_obj.cu:227: reg:linear is now deprecated in favor of reg:squarederror.\n",
      "  warnings.warn(smsg, UserWarning)\n"
     ]
    },
    {
     "name": "stdout",
     "output_type": "stream",
     "text": [
      "[0]\tvalidation_0-rmse:1.93979\tvalidation_1-rmse:2.76581\n",
      "[100]\tvalidation_0-rmse:1.36031\tvalidation_1-rmse:1.88903\n"
     ]
    },
    {
     "name": "stderr",
     "output_type": "stream",
     "text": [
      "s:\\Pizza\\.venv\\Lib\\site-packages\\xgboost\\core.py:158: UserWarning: [08:08:52] WARNING: C:\\buildkite-agent\\builds\\buildkite-windows-cpu-autoscaling-group-i-06abd128ca6c1688d-1\\xgboost\\xgboost-ci-windows\\src\\objective\\regression_obj.cu:227: reg:linear is now deprecated in favor of reg:squarederror.\n",
      "  warnings.warn(smsg, UserWarning)\n"
     ]
    },
    {
     "name": "stdout",
     "output_type": "stream",
     "text": [
      "[200]\tvalidation_0-rmse:1.21648\tvalidation_1-rmse:1.60187\n",
      "[220]\tvalidation_0-rmse:1.20426\tvalidation_1-rmse:1.60382\n",
      "Processing soppressata_m...\n",
      "[0]\tvalidation_0-rmse:1.74810\tvalidation_1-rmse:0.49615\n",
      "[100]\tvalidation_0-rmse:1.11251\tvalidation_1-rmse:0.22878\n",
      "[200]\tvalidation_0-rmse:0.92408\tvalidation_1-rmse:0.12449\n"
     ]
    },
    {
     "name": "stderr",
     "output_type": "stream",
     "text": [
      "s:\\Pizza\\.venv\\Lib\\site-packages\\xgboost\\core.py:158: UserWarning: [08:08:53] WARNING: C:\\buildkite-agent\\builds\\buildkite-windows-cpu-autoscaling-group-i-06abd128ca6c1688d-1\\xgboost\\xgboost-ci-windows\\src\\objective\\regression_obj.cu:227: reg:linear is now deprecated in favor of reg:squarederror.\n",
      "  warnings.warn(smsg, UserWarning)\n"
     ]
    },
    {
     "name": "stdout",
     "output_type": "stream",
     "text": [
      "[300]\tvalidation_0-rmse:0.86933\tvalidation_1-rmse:0.08371\n",
      "[399]\tvalidation_0-rmse:0.84780\tvalidation_1-rmse:0.06701\n",
      "[0]\tvalidation_0-rmse:1.73569\tvalidation_1-rmse:0.49613\n",
      "[100]\tvalidation_0-rmse:1.10419\tvalidation_1-rmse:0.22792\n",
      "[200]\tvalidation_0-rmse:0.91697\tvalidation_1-rmse:0.12343\n"
     ]
    },
    {
     "name": "stderr",
     "output_type": "stream",
     "text": [
      "s:\\Pizza\\.venv\\Lib\\site-packages\\xgboost\\core.py:158: UserWarning: [08:08:53] WARNING: C:\\buildkite-agent\\builds\\buildkite-windows-cpu-autoscaling-group-i-06abd128ca6c1688d-1\\xgboost\\xgboost-ci-windows\\src\\objective\\regression_obj.cu:227: reg:linear is now deprecated in favor of reg:squarederror.\n",
      "  warnings.warn(smsg, UserWarning)\n"
     ]
    },
    {
     "name": "stdout",
     "output_type": "stream",
     "text": [
      "[300]\tvalidation_0-rmse:0.86266\tvalidation_1-rmse:0.08193\n",
      "[399]\tvalidation_0-rmse:0.84123\tvalidation_1-rmse:0.06544\n",
      "[0]\tvalidation_0-rmse:1.72357\tvalidation_1-rmse:0.49611\n",
      "[100]\tvalidation_0-rmse:1.09605\tvalidation_1-rmse:0.22641\n",
      "[200]\tvalidation_0-rmse:0.91011\tvalidation_1-rmse:0.12183\n"
     ]
    },
    {
     "name": "stderr",
     "output_type": "stream",
     "text": [
      "s:\\Pizza\\.venv\\Lib\\site-packages\\xgboost\\core.py:158: UserWarning: [08:08:54] WARNING: C:\\buildkite-agent\\builds\\buildkite-windows-cpu-autoscaling-group-i-06abd128ca6c1688d-1\\xgboost\\xgboost-ci-windows\\src\\objective\\regression_obj.cu:227: reg:linear is now deprecated in favor of reg:squarederror.\n",
      "  warnings.warn(smsg, UserWarning)\n"
     ]
    },
    {
     "name": "stdout",
     "output_type": "stream",
     "text": [
      "[300]\tvalidation_0-rmse:0.85616\tvalidation_1-rmse:0.08088\n",
      "[399]\tvalidation_0-rmse:0.83487\tvalidation_1-rmse:0.06374\n",
      "Processing soppressata_s...\n",
      "[0]\tvalidation_0-rmse:2.46550\tvalidation_1-rmse:0.49568\n",
      "[100]\tvalidation_0-rmse:1.23020\tvalidation_1-rmse:0.22418\n",
      "[200]\tvalidation_0-rmse:0.81100\tvalidation_1-rmse:0.12543\n"
     ]
    },
    {
     "name": "stderr",
     "output_type": "stream",
     "text": [
      "s:\\Pizza\\.venv\\Lib\\site-packages\\xgboost\\core.py:158: UserWarning: [08:08:54] WARNING: C:\\buildkite-agent\\builds\\buildkite-windows-cpu-autoscaling-group-i-06abd128ca6c1688d-1\\xgboost\\xgboost-ci-windows\\src\\objective\\regression_obj.cu:227: reg:linear is now deprecated in favor of reg:squarederror.\n",
      "  warnings.warn(smsg, UserWarning)\n"
     ]
    },
    {
     "name": "stdout",
     "output_type": "stream",
     "text": [
      "[300]\tvalidation_0-rmse:0.67461\tvalidation_1-rmse:0.08693\n",
      "[399]\tvalidation_0-rmse:0.62587\tvalidation_1-rmse:0.06663\n",
      "[0]\tvalidation_0-rmse:2.44855\tvalidation_1-rmse:0.49567\n",
      "[100]\tvalidation_0-rmse:1.22160\tvalidation_1-rmse:0.22348\n",
      "[200]\tvalidation_0-rmse:0.80554\tvalidation_1-rmse:0.12446\n"
     ]
    },
    {
     "name": "stderr",
     "output_type": "stream",
     "text": [
      "s:\\Pizza\\.venv\\Lib\\site-packages\\xgboost\\core.py:158: UserWarning: [08:08:55] WARNING: C:\\buildkite-agent\\builds\\buildkite-windows-cpu-autoscaling-group-i-06abd128ca6c1688d-1\\xgboost\\xgboost-ci-windows\\src\\objective\\regression_obj.cu:227: reg:linear is now deprecated in favor of reg:squarederror.\n",
      "  warnings.warn(smsg, UserWarning)\n"
     ]
    },
    {
     "name": "stdout",
     "output_type": "stream",
     "text": [
      "[300]\tvalidation_0-rmse:0.66990\tvalidation_1-rmse:0.08590\n",
      "[399]\tvalidation_0-rmse:0.62140\tvalidation_1-rmse:0.06541\n",
      "[0]\tvalidation_0-rmse:2.43195\tvalidation_1-rmse:1.80398\n",
      "[50]\tvalidation_0-rmse:1.66627\tvalidation_1-rmse:1.85865\n",
      "Processing calabrese_l...\n",
      "[0]\tvalidation_0-rmse:2.30780\tvalidation_1-rmse:1.80397\n"
     ]
    },
    {
     "name": "stderr",
     "output_type": "stream",
     "text": [
      "s:\\Pizza\\.venv\\Lib\\site-packages\\xgboost\\core.py:158: UserWarning: [08:08:55] WARNING: C:\\buildkite-agent\\builds\\buildkite-windows-cpu-autoscaling-group-i-06abd128ca6c1688d-1\\xgboost\\xgboost-ci-windows\\src\\objective\\regression_obj.cu:227: reg:linear is now deprecated in favor of reg:squarederror.\n",
      "  warnings.warn(smsg, UserWarning)\n",
      "s:\\Pizza\\.venv\\Lib\\site-packages\\xgboost\\core.py:158: UserWarning: [08:08:55] WARNING: C:\\buildkite-agent\\builds\\buildkite-windows-cpu-autoscaling-group-i-06abd128ca6c1688d-1\\xgboost\\xgboost-ci-windows\\src\\objective\\regression_obj.cu:227: reg:linear is now deprecated in favor of reg:squarederror.\n",
      "  warnings.warn(smsg, UserWarning)\n"
     ]
    },
    {
     "name": "stdout",
     "output_type": "stream",
     "text": [
      "[50]\tvalidation_0-rmse:1.60434\tvalidation_1-rmse:1.85791\n",
      "[0]\tvalidation_0-rmse:2.30083\tvalidation_1-rmse:0.49570\n",
      "[100]\tvalidation_0-rmse:1.19094\tvalidation_1-rmse:0.22546\n"
     ]
    },
    {
     "name": "stderr",
     "output_type": "stream",
     "text": [
      "s:\\Pizza\\.venv\\Lib\\site-packages\\xgboost\\core.py:158: UserWarning: [08:08:55] WARNING: C:\\buildkite-agent\\builds\\buildkite-windows-cpu-autoscaling-group-i-06abd128ca6c1688d-1\\xgboost\\xgboost-ci-windows\\src\\objective\\regression_obj.cu:227: reg:linear is now deprecated in favor of reg:squarederror.\n",
      "  warnings.warn(smsg, UserWarning)\n"
     ]
    },
    {
     "name": "stdout",
     "output_type": "stream",
     "text": [
      "[200]\tvalidation_0-rmse:0.83400\tvalidation_1-rmse:0.12689\n",
      "[300]\tvalidation_0-rmse:0.71302\tvalidation_1-rmse:0.07332\n",
      "[399]\tvalidation_0-rmse:0.66706\tvalidation_1-rmse:0.05824\n",
      "[0]\tvalidation_0-rmse:2.28452\tvalidation_1-rmse:0.49569\n",
      "[100]\tvalidation_0-rmse:1.18232\tvalidation_1-rmse:0.22472\n"
     ]
    },
    {
     "name": "stderr",
     "output_type": "stream",
     "text": [
      "s:\\Pizza\\.venv\\Lib\\site-packages\\xgboost\\core.py:158: UserWarning: [08:08:56] WARNING: C:\\buildkite-agent\\builds\\buildkite-windows-cpu-autoscaling-group-i-06abd128ca6c1688d-1\\xgboost\\xgboost-ci-windows\\src\\objective\\regression_obj.cu:227: reg:linear is now deprecated in favor of reg:squarederror.\n",
      "  warnings.warn(smsg, UserWarning)\n"
     ]
    },
    {
     "name": "stdout",
     "output_type": "stream",
     "text": [
      "[200]\tvalidation_0-rmse:0.82788\tvalidation_1-rmse:0.12587\n",
      "[300]\tvalidation_0-rmse:0.70786\tvalidation_1-rmse:0.07181\n",
      "[399]\tvalidation_0-rmse:0.66212\tvalidation_1-rmse:0.05729\n",
      "Processing the_greek_xxl...\n",
      "[0]\tvalidation_0-rmse:0.60831\tvalidation_1-rmse:0.86701\n",
      "[50]\tvalidation_0-rmse:0.44888\tvalidation_1-rmse:0.90449\n",
      "[0]\tvalidation_0-rmse:0.66766\tvalidation_1-rmse:0.50261\n",
      "[50]\tvalidation_0-rmse:0.54508\tvalidation_1-rmse:0.64586\n"
     ]
    },
    {
     "name": "stderr",
     "output_type": "stream",
     "text": [
      "s:\\Pizza\\.venv\\Lib\\site-packages\\xgboost\\core.py:158: UserWarning: [08:08:57] WARNING: C:\\buildkite-agent\\builds\\buildkite-windows-cpu-autoscaling-group-i-06abd128ca6c1688d-1\\xgboost\\xgboost-ci-windows\\src\\objective\\regression_obj.cu:227: reg:linear is now deprecated in favor of reg:squarederror.\n",
      "  warnings.warn(smsg, UserWarning)\n",
      "s:\\Pizza\\.venv\\Lib\\site-packages\\xgboost\\core.py:158: UserWarning: [08:08:57] WARNING: C:\\buildkite-agent\\builds\\buildkite-windows-cpu-autoscaling-group-i-06abd128ca6c1688d-1\\xgboost\\xgboost-ci-windows\\src\\objective\\regression_obj.cu:227: reg:linear is now deprecated in favor of reg:squarederror.\n",
      "  warnings.warn(smsg, UserWarning)\n"
     ]
    },
    {
     "name": "stdout",
     "output_type": "stream",
     "text": [
      "[0]\tvalidation_0-rmse:0.64182\tvalidation_1-rmse:0.49846\n",
      "[100]\tvalidation_0-rmse:0.41647\tvalidation_1-rmse:0.42316\n"
     ]
    },
    {
     "name": "stderr",
     "output_type": "stream",
     "text": [
      "s:\\Pizza\\.venv\\Lib\\site-packages\\xgboost\\core.py:158: UserWarning: [08:08:57] WARNING: C:\\buildkite-agent\\builds\\buildkite-windows-cpu-autoscaling-group-i-06abd128ca6c1688d-1\\xgboost\\xgboost-ci-windows\\src\\objective\\regression_obj.cu:227: reg:linear is now deprecated in favor of reg:squarederror.\n",
      "  warnings.warn(smsg, UserWarning)\n"
     ]
    },
    {
     "name": "stdout",
     "output_type": "stream",
     "text": [
      "[200]\tvalidation_0-rmse:0.31158\tvalidation_1-rmse:0.41109\n",
      "[264]\tvalidation_0-rmse:0.27048\tvalidation_1-rmse:0.44280\n",
      "Predicted total sales for hawaiian_m for next 4 weeks: 15.356654167175293\n",
      "Predicted total sales for classic_dlx_m for next 4 weeks: 30.769432067871094\n",
      "Predicted total sales for five_cheese_l for next 4 weeks: 17.675844192504883\n",
      "Predicted total sales for ital_supr_l for next 4 weeks: 27.77729034423828\n",
      "Predicted total sales for mexicana_m for next 4 weeks: 4.736634731292725\n",
      "Predicted total sales for thai_ckn_l for next 4 weeks: 37.964176177978516\n",
      "Predicted total sales for ital_supr_m for next 4 weeks: 3.061483383178711\n",
      "Predicted total sales for prsc_argla_l for next 4 weeks: 15.895852088928223\n",
      "Predicted total sales for bbq_ckn_s for next 4 weeks: 7.898406982421875\n",
      "Predicted total sales for the_greek_s for next 4 weeks: 12.701190948486328\n",
      "Predicted total sales for spinach_supr_s for next 4 weeks: 2.064923048019409\n",
      "Predicted total sales for classic_dlx_s for next 4 weeks: 20.428295135498047\n",
      "Predicted total sales for green_garden_s for next 4 weeks: 24.087390899658203\n",
      "Predicted total sales for ital_cpcllo_l for next 4 weeks: 25.103715896606445\n",
      "Predicted total sales for ital_supr_s for next 4 weeks: 8.31941032409668\n",
      "Predicted total sales for mexicana_s for next 4 weeks: 2.073273181915283\n",
      "Predicted total sales for spicy_ital_l for next 4 weeks: 41.948814392089844\n",
      "Predicted total sales for spin_pesto_l for next 4 weeks: 7.443898677825928\n",
      "Predicted total sales for veggie_veg_s for next 4 weeks: 20.146900177001953\n",
      "Predicted total sales for mexicana_l for next 4 weeks: 17.678495407104492\n",
      "Predicted total sales for southw_ckn_l for next 4 weeks: 16.009048461914062\n",
      "Predicted total sales for bbq_ckn_l for next 4 weeks: 29.765649795532227\n",
      "Predicted total sales for cali_ckn_l for next 4 weeks: 19.299224853515625\n",
      "Predicted total sales for cali_ckn_m for next 4 weeks: 22.39362144470215\n",
      "Predicted total sales for pepperoni_l for next 4 weeks: 14.58945083618164\n",
      "Predicted total sales for cali_ckn_s for next 4 weeks: 13.183905601501465\n",
      "Predicted total sales for ckn_pesto_l for next 4 weeks: 11.887676239013672\n",
      "Predicted total sales for big_meat_s for next 4 weeks: 36.99073791503906\n",
      "Predicted total sales for calabrese_m for next 4 weeks: 13.709701538085938\n",
      "Predicted total sales for four_cheese_m for next 4 weeks: 6.027806282043457\n",
      "Predicted total sales for ital_veggie_s for next 4 weeks: 2.950965642929077\n",
      "Predicted total sales for mediterraneo_m for next 4 weeks: 1.0806846618652344\n",
      "Predicted total sales for peppr_salami_s for next 4 weeks: 5.060103893280029\n",
      "Predicted total sales for spinach_fet_l for next 4 weeks: 7.401974678039551\n",
      "Predicted total sales for napolitana_l for next 4 weeks: 12.8298921585083\n",
      "Predicted total sales for sicilian_l for next 4 weeks: 25.861915588378906\n",
      "Predicted total sales for ital_cpcllo_m for next 4 weeks: 16.585308074951172\n",
      "Predicted total sales for southw_ckn_s for next 4 weeks: 2.643092632293701\n",
      "Predicted total sales for bbq_ckn_m for next 4 weeks: 20.147777557373047\n",
      "Predicted total sales for pepperoni_m for next 4 weeks: 17.67767333984375\n",
      "Predicted total sales for prsc_argla_s for next 4 weeks: 17.961074829101562\n",
      "Predicted total sales for sicilian_m for next 4 weeks: 2.035031795501709\n",
      "Predicted total sales for veggie_veg_l for next 4 weeks: 16.8509464263916\n",
      "Predicted total sales for ckn_alfredo_s for next 4 weeks: 1.9844462871551514\n",
      "Predicted total sales for pepperoni_s for next 4 weeks: 7.563817977905273\n",
      "Predicted total sales for green_garden_l for next 4 weeks: 1.558424472808838\n",
      "Predicted total sales for green_garden_m for next 4 weeks: 0.920345664024353\n",
      "Predicted total sales for pep_msh_pep_l for next 4 weeks: 7.244480609893799\n",
      "Predicted total sales for hawaiian_s for next 4 weeks: 37.979591369628906\n",
      "Predicted total sales for four_cheese_l for next 4 weeks: 28.9320011138916\n",
      "Predicted total sales for peppr_salami_m for next 4 weeks: 12.895057678222656\n",
      "Predicted total sales for ckn_alfredo_m for next 4 weeks: 8.069555282592773\n",
      "Predicted total sales for peppr_salami_l for next 4 weeks: 12.192850112915039\n",
      "Predicted total sales for spin_pesto_s for next 4 weeks: 15.229780197143555\n",
      "Predicted total sales for thai_ckn_m for next 4 weeks: 12.466886520385742\n",
      "Predicted total sales for classic_dlx_l for next 4 weeks: 6.94510555267334\n",
      "Predicted total sales for ckn_pesto_m for next 4 weeks: 1.0649523735046387\n",
      "Predicted total sales for the_greek_xl for next 4 weeks: 14.866759300231934\n",
      "Predicted total sales for hawaiian_l for next 4 weeks: 36.595916748046875\n",
      "Predicted total sales for pep_msh_pep_s for next 4 weeks: 15.770631790161133\n",
      "Predicted total sales for spinach_supr_m for next 4 weeks: 5.010373592376709\n",
      "Predicted total sales for prsc_argla_m for next 4 weeks: 12.983121871948242\n",
      "Predicted total sales for mediterraneo_l for next 4 weeks: 7.104537010192871\n",
      "Predicted total sales for southw_ckn_m for next 4 weeks: 23.920164108276367\n",
      "Predicted total sales for pep_msh_pep_m for next 4 weeks: 23.00539779663086\n",
      "Predicted total sales for sicilian_s for next 4 weeks: 5.0449538230896\n",
      "Predicted total sales for spicy_ital_s for next 4 weeks: 14.146917343139648\n",
      "Predicted total sales for soppressata_l for next 4 weeks: 2.6215569972991943\n",
      "Predicted total sales for thai_ckn_s for next 4 weeks: 8.569778442382812\n",
      "Predicted total sales for spinach_supr_l for next 4 weeks: 2.0640530586242676\n",
      "Predicted total sales for ital_veggie_l for next 4 weeks: 1.4351125955581665\n",
      "Predicted total sales for veggie_veg_m for next 4 weeks: 19.282855987548828\n",
      "Predicted total sales for the_greek_m for next 4 weeks: 1.7098711729049683\n",
      "Predicted total sales for ckn_pesto_s for next 4 weeks: 13.917705535888672\n",
      "Predicted total sales for spinach_fet_s for next 4 weeks: 0.5423458814620972\n",
      "Predicted total sales for napolitana_s for next 4 weeks: 21.62115478515625\n",
      "Predicted total sales for spicy_ital_m for next 4 weeks: 12.035917282104492\n",
      "Predicted total sales for ital_veggie_m for next 4 weeks: 11.445690155029297\n",
      "Predicted total sales for ital_cpcllo_s for next 4 weeks: 10.153230667114258\n",
      "Predicted total sales for mediterraneo_s for next 4 weeks: 0.5486830472946167\n",
      "Predicted total sales for spinach_fet_m for next 4 weeks: 25.416284561157227\n",
      "Predicted total sales for napolitana_m for next 4 weeks: 6.170906066894531\n",
      "Predicted total sales for spin_pesto_m for next 4 weeks: 9.074368476867676\n",
      "Predicted total sales for brie_carre_s for next 4 weeks: 10.723255157470703\n",
      "Predicted total sales for ckn_alfredo_l for next 4 weeks: 1.0856479406356812\n",
      "Predicted total sales for calabrese_s for next 4 weeks: 2.018916606903076\n",
      "Predicted total sales for the_greek_l for next 4 weeks: 5.542490005493164\n",
      "Predicted total sales for soppressata_m for next 4 weeks: 0.8127861022949219\n",
      "Predicted total sales for soppressata_s for next 4 weeks: 2.0867366790771484\n",
      "Predicted total sales for calabrese_l for next 4 weeks: 5.965695381164551\n",
      "Predicted total sales for the_greek_xxl for next 4 weeks: 2.0570714473724365\n"
     ]
    }
   ],
   "source": [
    "import pandas as pd\n",
    "import xgboost as xgb\n",
    "import numpy as np\n",
    "from sklearn.metrics import mean_squared_error\n",
    "from sklearn.model_selection import TimeSeriesSplit\n",
    "\n",
    "def create_features(df):\n",
    "    df.loc[:, 'month'] = df.index.month\n",
    "    df.loc[:, 'year'] = df.index.year\n",
    "    df.loc[:, 'weekofyear'] = df.index.isocalendar().week\n",
    "    return df\n",
    "\n",
    "def add_lags(df):\n",
    "    target_map = df['weekly_sales'].to_dict()\n",
    "    df.loc[:, 'lag1'] = (df.index - pd.Timedelta('7 days')).map(target_map)\n",
    "    df.loc[:, 'lag2'] = (df.index - pd.Timedelta('14 days')).map(target_map)\n",
    "    df.loc[:, 'lag3'] = (df.index - pd.Timedelta('21 days')).map(target_map)\n",
    "    return df\n",
    "\n",
    "def feature_engineering(df):\n",
    "    df = create_features(df)\n",
    "    df = add_lags(df)\n",
    "    df.fillna(0, inplace=True)  # Fill NaNs in feature columns with 0\n",
    "    return df\n",
    "\n",
    "def sales_feature(df):\n",
    "    df = df.copy()  # Ensure df is a copy to avoid SettingWithCopyWarning\n",
    "    df.set_index('order_date', inplace=True)\n",
    "    df.loc[:, 'weekly_sales'] = df['quantity'].resample('W').sum()\n",
    "    df.drop(columns=['pizza_name_id', 'quantity'], inplace=True)\n",
    "    df = feature_engineering(df)\n",
    "    return df\n",
    "\n",
    "def model_training(df):\n",
    "    if df.empty:\n",
    "        raise ValueError(\"DataFrame is empty after preprocessing.\")\n",
    "    \n",
    "    tss = TimeSeriesSplit(n_splits=3, test_size=4, gap=0)\n",
    "    preds = []\n",
    "    scores = []\n",
    "\n",
    "    for train_idx, val_idx in tss.split(df):\n",
    "        train = df.iloc[train_idx]\n",
    "        test = df.iloc[val_idx]\n",
    "\n",
    "        FEATURES = ['weekofyear', 'month', 'year', 'lag1', 'lag2', 'lag3']\n",
    "        TARGET = 'weekly_sales'\n",
    "\n",
    "        X_train = train[FEATURES]\n",
    "        y_train = train[TARGET]\n",
    "        X_test = test[FEATURES]\n",
    "        y_test = test[TARGET]\n",
    "\n",
    "        if y_train.isna().any() or y_test.isna().any():\n",
    "            raise ValueError(\"Target variable contains NaN values after preprocessing.\")\n",
    "\n",
    "        reg = xgb.XGBRegressor(base_score=0.5, booster='gbtree',\n",
    "                               n_estimators=400, early_stopping_rounds=50,\n",
    "                               objective='reg:linear', max_depth=3,\n",
    "                               learning_rate=0.01)\n",
    "        reg.fit(X_train, y_train,\n",
    "                eval_set=[(X_train, y_train), (X_test, y_test)],\n",
    "                verbose=100)\n",
    "\n",
    "        y_pred = reg.predict(X_test)\n",
    "        preds.append(y_pred)\n",
    "        score = np.sqrt(mean_squared_error(y_test, y_pred))\n",
    "        scores.append(score)\n",
    "    \n",
    "    future = pd.date_range(start=df.index.max() + pd.Timedelta('7 days'), \n",
    "                           periods=4, freq='W')\n",
    "    future_df = pd.DataFrame(index=future)\n",
    "    future_df['isFuture'] = True\n",
    "    df['isFuture'] = False\n",
    "    df_and_future = pd.concat([df, future_df])\n",
    "    df_and_future = feature_engineering(df_and_future)\n",
    "    future_w_features = df_and_future.query('isFuture').copy()\n",
    "    future_w_features['pred'] = reg.predict(future_w_features[FEATURES])\n",
    "    predicted_sum = future_w_features['pred'].sum()\n",
    "    return predicted_sum\n",
    "\n",
    "# Assume sales_df is the DataFrame containing the sales data\n",
    "# Loop through each pizza_name_id\n",
    "pizza_name_list = sales_df.pizza_name_id.unique().tolist()\n",
    "\n",
    "def pizza_df(df, pizza_name):\n",
    "    return df[df['pizza_name_id'] == pizza_name]\n",
    "\n",
    "# Dictionary to store the results\n",
    "results_dict = {}\n",
    "\n",
    "# Loop through each pizza_name_id, process the data, and save the results\n",
    "for pizza_name in pizza_name_list:\n",
    "    print(f\"Processing {pizza_name}...\")\n",
    "    df = pizza_df(sales_df, pizza_name)\n",
    "    if not df.empty:  # Check if df is not empty\n",
    "        df = sales_feature(df)\n",
    "        try:\n",
    "            predicted_sum = model_training(df)\n",
    "            results_dict[pizza_name] = predicted_sum\n",
    "        except ValueError as e:\n",
    "            print(f\"Skipping {pizza_name} due to error: {e}\")\n",
    "    else:\n",
    "        print(f\"No data for {pizza_name}, skipping...\")\n",
    "\n",
    "# Print results\n",
    "for name, predictions in results_dict.items():\n",
    "    print(f\"Predicted total sales for {name} for next 4 weeks: {predictions}\")\n"
   ]
  },
  {
   "cell_type": "code",
   "execution_count": 68,
   "metadata": {},
   "outputs": [
    {
     "data": {
      "text/plain": [
       "{'hawaiian_m': np.float32(15.356654),\n",
       " 'classic_dlx_m': np.float32(30.769432),\n",
       " 'five_cheese_l': np.float32(17.675844),\n",
       " 'ital_supr_l': np.float32(27.77729),\n",
       " 'mexicana_m': np.float32(4.7366347),\n",
       " 'thai_ckn_l': np.float32(37.964176),\n",
       " 'ital_supr_m': np.float32(3.0614834),\n",
       " 'prsc_argla_l': np.float32(15.895852),\n",
       " 'bbq_ckn_s': np.float32(7.898407),\n",
       " 'the_greek_s': np.float32(12.701191),\n",
       " 'spinach_supr_s': np.float32(2.064923),\n",
       " 'classic_dlx_s': np.float32(20.428295),\n",
       " 'green_garden_s': np.float32(24.08739),\n",
       " 'ital_cpcllo_l': np.float32(25.103716),\n",
       " 'ital_supr_s': np.float32(8.31941),\n",
       " 'mexicana_s': np.float32(2.0732732),\n",
       " 'spicy_ital_l': np.float32(41.948814),\n",
       " 'spin_pesto_l': np.float32(7.4438987),\n",
       " 'veggie_veg_s': np.float32(20.1469),\n",
       " 'mexicana_l': np.float32(17.678495),\n",
       " 'southw_ckn_l': np.float32(16.009048),\n",
       " 'bbq_ckn_l': np.float32(29.76565),\n",
       " 'cali_ckn_l': np.float32(19.299225),\n",
       " 'cali_ckn_m': np.float32(22.393621),\n",
       " 'pepperoni_l': np.float32(14.589451),\n",
       " 'cali_ckn_s': np.float32(13.183906),\n",
       " 'ckn_pesto_l': np.float32(11.887676),\n",
       " 'big_meat_s': np.float32(36.990738),\n",
       " 'calabrese_m': np.float32(13.709702),\n",
       " 'four_cheese_m': np.float32(6.0278063),\n",
       " 'ital_veggie_s': np.float32(2.9509656),\n",
       " 'mediterraneo_m': np.float32(1.0806847),\n",
       " 'peppr_salami_s': np.float32(5.060104),\n",
       " 'spinach_fet_l': np.float32(7.4019747),\n",
       " 'napolitana_l': np.float32(12.829892),\n",
       " 'sicilian_l': np.float32(25.861916),\n",
       " 'ital_cpcllo_m': np.float32(16.585308),\n",
       " 'southw_ckn_s': np.float32(2.6430926),\n",
       " 'bbq_ckn_m': np.float32(20.147778),\n",
       " 'pepperoni_m': np.float32(17.677673),\n",
       " 'prsc_argla_s': np.float32(17.961075),\n",
       " 'sicilian_m': np.float32(2.0350318),\n",
       " 'veggie_veg_l': np.float32(16.850946),\n",
       " 'ckn_alfredo_s': np.float32(1.9844463),\n",
       " 'pepperoni_s': np.float32(7.563818),\n",
       " 'green_garden_l': np.float32(1.5584245),\n",
       " 'green_garden_m': np.float32(0.92034566),\n",
       " 'pep_msh_pep_l': np.float32(7.2444806),\n",
       " 'hawaiian_s': np.float32(37.97959),\n",
       " 'four_cheese_l': np.float32(28.932001),\n",
       " 'peppr_salami_m': np.float32(12.895058),\n",
       " 'ckn_alfredo_m': np.float32(8.069555),\n",
       " 'peppr_salami_l': np.float32(12.19285),\n",
       " 'spin_pesto_s': np.float32(15.22978),\n",
       " 'thai_ckn_m': np.float32(12.4668865),\n",
       " 'classic_dlx_l': np.float32(6.9451056),\n",
       " 'ckn_pesto_m': np.float32(1.0649524),\n",
       " 'the_greek_xl': np.float32(14.866759),\n",
       " 'hawaiian_l': np.float32(36.595917),\n",
       " 'pep_msh_pep_s': np.float32(15.770632),\n",
       " 'spinach_supr_m': np.float32(5.0103736),\n",
       " 'prsc_argla_m': np.float32(12.983122),\n",
       " 'mediterraneo_l': np.float32(7.104537),\n",
       " 'southw_ckn_m': np.float32(23.920164),\n",
       " 'pep_msh_pep_m': np.float32(23.005398),\n",
       " 'sicilian_s': np.float32(5.044954),\n",
       " 'spicy_ital_s': np.float32(14.146917),\n",
       " 'soppressata_l': np.float32(2.621557),\n",
       " 'thai_ckn_s': np.float32(8.569778),\n",
       " 'spinach_supr_l': np.float32(2.064053),\n",
       " 'ital_veggie_l': np.float32(1.4351126),\n",
       " 'veggie_veg_m': np.float32(19.282856),\n",
       " 'the_greek_m': np.float32(1.7098712),\n",
       " 'ckn_pesto_s': np.float32(13.917706),\n",
       " 'spinach_fet_s': np.float32(0.5423459),\n",
       " 'napolitana_s': np.float32(21.621155),\n",
       " 'spicy_ital_m': np.float32(12.035917),\n",
       " 'ital_veggie_m': np.float32(11.44569),\n",
       " 'ital_cpcllo_s': np.float32(10.153231),\n",
       " 'mediterraneo_s': np.float32(0.54868305),\n",
       " 'spinach_fet_m': np.float32(25.416285),\n",
       " 'napolitana_m': np.float32(6.170906),\n",
       " 'spin_pesto_m': np.float32(9.0743685),\n",
       " 'brie_carre_s': np.float32(10.723255),\n",
       " 'ckn_alfredo_l': np.float32(1.085648),\n",
       " 'calabrese_s': np.float32(2.0189166),\n",
       " 'the_greek_l': np.float32(5.54249),\n",
       " 'soppressata_m': np.float32(0.8127861),\n",
       " 'soppressata_s': np.float32(2.0867367),\n",
       " 'calabrese_l': np.float32(5.9656954),\n",
       " 'the_greek_xxl': np.float32(2.0570714)}"
      ]
     },
     "execution_count": 68,
     "metadata": {},
     "output_type": "execute_result"
    }
   ],
   "source": [
    "results_dict"
   ]
  },
  {
   "cell_type": "code",
   "execution_count": 70,
   "metadata": {},
   "outputs": [],
   "source": [
    "result = pd.DataFrame.from_dict(results_dict, orient='index', columns=['predicted_sales'])\n",
    "result.to_csv('weekly_result.csv', index=True)"
   ]
  },
  {
   "cell_type": "code",
   "execution_count": null,
   "metadata": {},
   "outputs": [],
   "source": []
  }
 ],
 "metadata": {
  "kernelspec": {
   "display_name": ".venv",
   "language": "python",
   "name": "python3"
  },
  "language_info": {
   "codemirror_mode": {
    "name": "ipython",
    "version": 3
   },
   "file_extension": ".py",
   "mimetype": "text/x-python",
   "name": "python",
   "nbconvert_exporter": "python",
   "pygments_lexer": "ipython3",
   "version": "3.12.4"
  }
 },
 "nbformat": 4,
 "nbformat_minor": 2
}
